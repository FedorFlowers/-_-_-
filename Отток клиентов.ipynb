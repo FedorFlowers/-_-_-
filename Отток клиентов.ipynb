{
 "cells": [
  {
   "cell_type": "markdown",
   "metadata": {
    "toc": true
   },
   "source": [
    "<h1>Содержание<span class=\"tocSkip\"></span></h1>\n",
    "<div class=\"toc\"><ul class=\"toc-item\"><li><span><a href=\"#Подготовка-данных\" data-toc-modified-id=\"Подготовка-данных-1\"><span class=\"toc-item-num\">1&nbsp;&nbsp;</span>Подготовка данных</a></span></li><li><span><a href=\"#Исследование-задачи\" data-toc-modified-id=\"Исследование-задачи-2\"><span class=\"toc-item-num\">2&nbsp;&nbsp;</span>Исследование задачи</a></span></li><li><span><a href=\"#Борьба-с-дисбалансом\" data-toc-modified-id=\"Борьба-с-дисбалансом-3\"><span class=\"toc-item-num\">3&nbsp;&nbsp;</span>Борьба с дисбалансом</a></span></li><li><span><a href=\"#Тестирование-модели\" data-toc-modified-id=\"Тестирование-модели-4\"><span class=\"toc-item-num\">4&nbsp;&nbsp;</span>Тестирование модели</a></span></li><li><span><a href=\"#Чек-лист-готовности-проекта\" data-toc-modified-id=\"Чек-лист-готовности-проекта-5\"><span class=\"toc-item-num\">5&nbsp;&nbsp;</span>Чек-лист готовности проекта</a></span></li></ul></div>"
   ]
  },
  {
   "cell_type": "markdown",
   "metadata": {},
   "source": [
    "# Отток клиентов"
   ]
  },
  {
   "cell_type": "markdown",
   "metadata": {},
   "source": [
    "Из «Бета-Банка» стали уходить клиенты. Каждый месяц. Немного, но заметно. Банковские маркетологи посчитали: сохранять текущих клиентов дешевле, чем привлекать новых.\n",
    "\n",
    "Нужно спрогнозировать, уйдёт клиент из банка в ближайшее время или нет. Вам предоставлены исторические данные о поведении клиентов и расторжении договоров с банком. \n",
    "\n",
    "Постройте модель с предельно большим значением *F1*-меры. Чтобы сдать проект успешно, нужно довести метрику до 0.59. Проверьте *F1*-меру на тестовой выборке самостоятельно.\n",
    "\n",
    "Дополнительно измеряйте *AUC-ROC*, сравнивайте её значение с *F1*-мерой.\n",
    "\n",
    "Источник данных: [https://www.kaggle.com/barelydedicated/bank-customer-churn-modeling](https://www.kaggle.com/barelydedicated/bank-customer-churn-modeling)"
   ]
  },
  {
   "cell_type": "markdown",
   "metadata": {},
   "source": [
    "## Подготовка данных"
   ]
  },
  {
   "cell_type": "code",
   "execution_count": 1,
   "metadata": {},
   "outputs": [],
   "source": [
    "import pandas as pd\n",
    "import matplotlib.pyplot as plt\n",
    "from tqdm import tqdm\n",
    "from sklearn.tree import DecisionTreeClassifier\n",
    "from sklearn.ensemble import RandomForestClassifier\n",
    "from sklearn.model_selection import train_test_split, GridSearchCV\n",
    "from sklearn.preprocessing import StandardScaler\n",
    "from sklearn.metrics import f1_score, make_scorer\n",
    "from sklearn.metrics import roc_auc_score, roc_curve \n",
    "from sklearn.utils import resample\n",
    "from sklearn.utils import shuffle"
   ]
  },
  {
   "cell_type": "code",
   "execution_count": 2,
   "metadata": {},
   "outputs": [
    {
     "data": {
      "text/html": [
       "<div>\n",
       "<style scoped>\n",
       "    .dataframe tbody tr th:only-of-type {\n",
       "        vertical-align: middle;\n",
       "    }\n",
       "\n",
       "    .dataframe tbody tr th {\n",
       "        vertical-align: top;\n",
       "    }\n",
       "\n",
       "    .dataframe thead th {\n",
       "        text-align: right;\n",
       "    }\n",
       "</style>\n",
       "<table border=\"1\" class=\"dataframe\">\n",
       "  <thead>\n",
       "    <tr style=\"text-align: right;\">\n",
       "      <th></th>\n",
       "      <th>RowNumber</th>\n",
       "      <th>CustomerId</th>\n",
       "      <th>Surname</th>\n",
       "      <th>CreditScore</th>\n",
       "      <th>Geography</th>\n",
       "      <th>Gender</th>\n",
       "      <th>Age</th>\n",
       "      <th>Tenure</th>\n",
       "      <th>Balance</th>\n",
       "      <th>NumOfProducts</th>\n",
       "      <th>HasCrCard</th>\n",
       "      <th>IsActiveMember</th>\n",
       "      <th>EstimatedSalary</th>\n",
       "      <th>Exited</th>\n",
       "    </tr>\n",
       "  </thead>\n",
       "  <tbody>\n",
       "    <tr>\n",
       "      <th>0</th>\n",
       "      <td>1</td>\n",
       "      <td>15634602</td>\n",
       "      <td>Hargrave</td>\n",
       "      <td>619</td>\n",
       "      <td>France</td>\n",
       "      <td>Female</td>\n",
       "      <td>42</td>\n",
       "      <td>2.0</td>\n",
       "      <td>0.00</td>\n",
       "      <td>1</td>\n",
       "      <td>1</td>\n",
       "      <td>1</td>\n",
       "      <td>101348.88</td>\n",
       "      <td>1</td>\n",
       "    </tr>\n",
       "    <tr>\n",
       "      <th>1</th>\n",
       "      <td>2</td>\n",
       "      <td>15647311</td>\n",
       "      <td>Hill</td>\n",
       "      <td>608</td>\n",
       "      <td>Spain</td>\n",
       "      <td>Female</td>\n",
       "      <td>41</td>\n",
       "      <td>1.0</td>\n",
       "      <td>83807.86</td>\n",
       "      <td>1</td>\n",
       "      <td>0</td>\n",
       "      <td>1</td>\n",
       "      <td>112542.58</td>\n",
       "      <td>0</td>\n",
       "    </tr>\n",
       "    <tr>\n",
       "      <th>2</th>\n",
       "      <td>3</td>\n",
       "      <td>15619304</td>\n",
       "      <td>Onio</td>\n",
       "      <td>502</td>\n",
       "      <td>France</td>\n",
       "      <td>Female</td>\n",
       "      <td>42</td>\n",
       "      <td>8.0</td>\n",
       "      <td>159660.80</td>\n",
       "      <td>3</td>\n",
       "      <td>1</td>\n",
       "      <td>0</td>\n",
       "      <td>113931.57</td>\n",
       "      <td>1</td>\n",
       "    </tr>\n",
       "    <tr>\n",
       "      <th>3</th>\n",
       "      <td>4</td>\n",
       "      <td>15701354</td>\n",
       "      <td>Boni</td>\n",
       "      <td>699</td>\n",
       "      <td>France</td>\n",
       "      <td>Female</td>\n",
       "      <td>39</td>\n",
       "      <td>1.0</td>\n",
       "      <td>0.00</td>\n",
       "      <td>2</td>\n",
       "      <td>0</td>\n",
       "      <td>0</td>\n",
       "      <td>93826.63</td>\n",
       "      <td>0</td>\n",
       "    </tr>\n",
       "    <tr>\n",
       "      <th>4</th>\n",
       "      <td>5</td>\n",
       "      <td>15737888</td>\n",
       "      <td>Mitchell</td>\n",
       "      <td>850</td>\n",
       "      <td>Spain</td>\n",
       "      <td>Female</td>\n",
       "      <td>43</td>\n",
       "      <td>2.0</td>\n",
       "      <td>125510.82</td>\n",
       "      <td>1</td>\n",
       "      <td>1</td>\n",
       "      <td>1</td>\n",
       "      <td>79084.10</td>\n",
       "      <td>0</td>\n",
       "    </tr>\n",
       "    <tr>\n",
       "      <th>...</th>\n",
       "      <td>...</td>\n",
       "      <td>...</td>\n",
       "      <td>...</td>\n",
       "      <td>...</td>\n",
       "      <td>...</td>\n",
       "      <td>...</td>\n",
       "      <td>...</td>\n",
       "      <td>...</td>\n",
       "      <td>...</td>\n",
       "      <td>...</td>\n",
       "      <td>...</td>\n",
       "      <td>...</td>\n",
       "      <td>...</td>\n",
       "      <td>...</td>\n",
       "    </tr>\n",
       "    <tr>\n",
       "      <th>9995</th>\n",
       "      <td>9996</td>\n",
       "      <td>15606229</td>\n",
       "      <td>Obijiaku</td>\n",
       "      <td>771</td>\n",
       "      <td>France</td>\n",
       "      <td>Male</td>\n",
       "      <td>39</td>\n",
       "      <td>5.0</td>\n",
       "      <td>0.00</td>\n",
       "      <td>2</td>\n",
       "      <td>1</td>\n",
       "      <td>0</td>\n",
       "      <td>96270.64</td>\n",
       "      <td>0</td>\n",
       "    </tr>\n",
       "    <tr>\n",
       "      <th>9996</th>\n",
       "      <td>9997</td>\n",
       "      <td>15569892</td>\n",
       "      <td>Johnstone</td>\n",
       "      <td>516</td>\n",
       "      <td>France</td>\n",
       "      <td>Male</td>\n",
       "      <td>35</td>\n",
       "      <td>10.0</td>\n",
       "      <td>57369.61</td>\n",
       "      <td>1</td>\n",
       "      <td>1</td>\n",
       "      <td>1</td>\n",
       "      <td>101699.77</td>\n",
       "      <td>0</td>\n",
       "    </tr>\n",
       "    <tr>\n",
       "      <th>9997</th>\n",
       "      <td>9998</td>\n",
       "      <td>15584532</td>\n",
       "      <td>Liu</td>\n",
       "      <td>709</td>\n",
       "      <td>France</td>\n",
       "      <td>Female</td>\n",
       "      <td>36</td>\n",
       "      <td>7.0</td>\n",
       "      <td>0.00</td>\n",
       "      <td>1</td>\n",
       "      <td>0</td>\n",
       "      <td>1</td>\n",
       "      <td>42085.58</td>\n",
       "      <td>1</td>\n",
       "    </tr>\n",
       "    <tr>\n",
       "      <th>9998</th>\n",
       "      <td>9999</td>\n",
       "      <td>15682355</td>\n",
       "      <td>Sabbatini</td>\n",
       "      <td>772</td>\n",
       "      <td>Germany</td>\n",
       "      <td>Male</td>\n",
       "      <td>42</td>\n",
       "      <td>3.0</td>\n",
       "      <td>75075.31</td>\n",
       "      <td>2</td>\n",
       "      <td>1</td>\n",
       "      <td>0</td>\n",
       "      <td>92888.52</td>\n",
       "      <td>1</td>\n",
       "    </tr>\n",
       "    <tr>\n",
       "      <th>9999</th>\n",
       "      <td>10000</td>\n",
       "      <td>15628319</td>\n",
       "      <td>Walker</td>\n",
       "      <td>792</td>\n",
       "      <td>France</td>\n",
       "      <td>Female</td>\n",
       "      <td>28</td>\n",
       "      <td>NaN</td>\n",
       "      <td>130142.79</td>\n",
       "      <td>1</td>\n",
       "      <td>1</td>\n",
       "      <td>0</td>\n",
       "      <td>38190.78</td>\n",
       "      <td>0</td>\n",
       "    </tr>\n",
       "  </tbody>\n",
       "</table>\n",
       "<p>10000 rows × 14 columns</p>\n",
       "</div>"
      ],
      "text/plain": [
       "      RowNumber  CustomerId    Surname  CreditScore Geography  Gender  Age  \\\n",
       "0             1    15634602   Hargrave          619    France  Female   42   \n",
       "1             2    15647311       Hill          608     Spain  Female   41   \n",
       "2             3    15619304       Onio          502    France  Female   42   \n",
       "3             4    15701354       Boni          699    France  Female   39   \n",
       "4             5    15737888   Mitchell          850     Spain  Female   43   \n",
       "...         ...         ...        ...          ...       ...     ...  ...   \n",
       "9995       9996    15606229   Obijiaku          771    France    Male   39   \n",
       "9996       9997    15569892  Johnstone          516    France    Male   35   \n",
       "9997       9998    15584532        Liu          709    France  Female   36   \n",
       "9998       9999    15682355  Sabbatini          772   Germany    Male   42   \n",
       "9999      10000    15628319     Walker          792    France  Female   28   \n",
       "\n",
       "      Tenure    Balance  NumOfProducts  HasCrCard  IsActiveMember  \\\n",
       "0        2.0       0.00              1          1               1   \n",
       "1        1.0   83807.86              1          0               1   \n",
       "2        8.0  159660.80              3          1               0   \n",
       "3        1.0       0.00              2          0               0   \n",
       "4        2.0  125510.82              1          1               1   \n",
       "...      ...        ...            ...        ...             ...   \n",
       "9995     5.0       0.00              2          1               0   \n",
       "9996    10.0   57369.61              1          1               1   \n",
       "9997     7.0       0.00              1          0               1   \n",
       "9998     3.0   75075.31              2          1               0   \n",
       "9999     NaN  130142.79              1          1               0   \n",
       "\n",
       "      EstimatedSalary  Exited  \n",
       "0           101348.88       1  \n",
       "1           112542.58       0  \n",
       "2           113931.57       1  \n",
       "3            93826.63       0  \n",
       "4            79084.10       0  \n",
       "...               ...     ...  \n",
       "9995         96270.64       0  \n",
       "9996        101699.77       0  \n",
       "9997         42085.58       1  \n",
       "9998         92888.52       1  \n",
       "9999         38190.78       0  \n",
       "\n",
       "[10000 rows x 14 columns]"
      ]
     },
     "execution_count": 2,
     "metadata": {},
     "output_type": "execute_result"
    }
   ],
   "source": [
    "df = pd.read_csv('/datasets/Churn.csv')\n",
    "df"
   ]
  },
  {
   "cell_type": "markdown",
   "metadata": {},
   "source": [
    "<div class=\"alert alert-success\">\n",
    "<b>ОТЛИЧНО! 👍</b>\n",
    "\n",
    "Отлично. Импортировали требуемые для анализа библиотеки и загрузили данные. Сейчас посмотрим на их состояние и если всё ОК, сможем приступать к построению моделей....\n",
    "</div>"
   ]
  },
  {
   "cell_type": "code",
   "execution_count": 3,
   "metadata": {
    "scrolled": false
   },
   "outputs": [
    {
     "name": "stdout",
     "output_type": "stream",
     "text": [
      "<class 'pandas.core.frame.DataFrame'>\n",
      "RangeIndex: 10000 entries, 0 to 9999\n",
      "Data columns (total 14 columns):\n",
      " #   Column           Non-Null Count  Dtype  \n",
      "---  ------           --------------  -----  \n",
      " 0   RowNumber        10000 non-null  int64  \n",
      " 1   CustomerId       10000 non-null  int64  \n",
      " 2   Surname          10000 non-null  object \n",
      " 3   CreditScore      10000 non-null  int64  \n",
      " 4   Geography        10000 non-null  object \n",
      " 5   Gender           10000 non-null  object \n",
      " 6   Age              10000 non-null  int64  \n",
      " 7   Tenure           9091 non-null   float64\n",
      " 8   Balance          10000 non-null  float64\n",
      " 9   NumOfProducts    10000 non-null  int64  \n",
      " 10  HasCrCard        10000 non-null  int64  \n",
      " 11  IsActiveMember   10000 non-null  int64  \n",
      " 12  EstimatedSalary  10000 non-null  float64\n",
      " 13  Exited           10000 non-null  int64  \n",
      "dtypes: float64(3), int64(8), object(3)\n",
      "memory usage: 1.1+ MB\n"
     ]
    }
   ],
   "source": [
    "df.info()"
   ]
  },
  {
   "cell_type": "markdown",
   "metadata": {},
   "source": [
    "Сделаем все названия с маленькой буквы и приведем названия в норму"
   ]
  },
  {
   "cell_type": "code",
   "execution_count": 4,
   "metadata": {
    "scrolled": false
   },
   "outputs": [
    {
     "data": {
      "text/html": [
       "<div>\n",
       "<style scoped>\n",
       "    .dataframe tbody tr th:only-of-type {\n",
       "        vertical-align: middle;\n",
       "    }\n",
       "\n",
       "    .dataframe tbody tr th {\n",
       "        vertical-align: top;\n",
       "    }\n",
       "\n",
       "    .dataframe thead th {\n",
       "        text-align: right;\n",
       "    }\n",
       "</style>\n",
       "<table border=\"1\" class=\"dataframe\">\n",
       "  <thead>\n",
       "    <tr style=\"text-align: right;\">\n",
       "      <th></th>\n",
       "      <th>row_number</th>\n",
       "      <th>customer_id</th>\n",
       "      <th>surname</th>\n",
       "      <th>credit_score</th>\n",
       "      <th>geography</th>\n",
       "      <th>gender</th>\n",
       "      <th>age</th>\n",
       "      <th>tenure</th>\n",
       "      <th>balance</th>\n",
       "      <th>num_of_products</th>\n",
       "      <th>has_crcard</th>\n",
       "      <th>is_active_member</th>\n",
       "      <th>estimated_salary</th>\n",
       "      <th>exited</th>\n",
       "    </tr>\n",
       "  </thead>\n",
       "  <tbody>\n",
       "    <tr>\n",
       "      <th>0</th>\n",
       "      <td>1</td>\n",
       "      <td>15634602</td>\n",
       "      <td>Hargrave</td>\n",
       "      <td>619</td>\n",
       "      <td>France</td>\n",
       "      <td>Female</td>\n",
       "      <td>42</td>\n",
       "      <td>2.0</td>\n",
       "      <td>0.00</td>\n",
       "      <td>1</td>\n",
       "      <td>1</td>\n",
       "      <td>1</td>\n",
       "      <td>101348.88</td>\n",
       "      <td>1</td>\n",
       "    </tr>\n",
       "    <tr>\n",
       "      <th>1</th>\n",
       "      <td>2</td>\n",
       "      <td>15647311</td>\n",
       "      <td>Hill</td>\n",
       "      <td>608</td>\n",
       "      <td>Spain</td>\n",
       "      <td>Female</td>\n",
       "      <td>41</td>\n",
       "      <td>1.0</td>\n",
       "      <td>83807.86</td>\n",
       "      <td>1</td>\n",
       "      <td>0</td>\n",
       "      <td>1</td>\n",
       "      <td>112542.58</td>\n",
       "      <td>0</td>\n",
       "    </tr>\n",
       "    <tr>\n",
       "      <th>2</th>\n",
       "      <td>3</td>\n",
       "      <td>15619304</td>\n",
       "      <td>Onio</td>\n",
       "      <td>502</td>\n",
       "      <td>France</td>\n",
       "      <td>Female</td>\n",
       "      <td>42</td>\n",
       "      <td>8.0</td>\n",
       "      <td>159660.80</td>\n",
       "      <td>3</td>\n",
       "      <td>1</td>\n",
       "      <td>0</td>\n",
       "      <td>113931.57</td>\n",
       "      <td>1</td>\n",
       "    </tr>\n",
       "    <tr>\n",
       "      <th>3</th>\n",
       "      <td>4</td>\n",
       "      <td>15701354</td>\n",
       "      <td>Boni</td>\n",
       "      <td>699</td>\n",
       "      <td>France</td>\n",
       "      <td>Female</td>\n",
       "      <td>39</td>\n",
       "      <td>1.0</td>\n",
       "      <td>0.00</td>\n",
       "      <td>2</td>\n",
       "      <td>0</td>\n",
       "      <td>0</td>\n",
       "      <td>93826.63</td>\n",
       "      <td>0</td>\n",
       "    </tr>\n",
       "    <tr>\n",
       "      <th>4</th>\n",
       "      <td>5</td>\n",
       "      <td>15737888</td>\n",
       "      <td>Mitchell</td>\n",
       "      <td>850</td>\n",
       "      <td>Spain</td>\n",
       "      <td>Female</td>\n",
       "      <td>43</td>\n",
       "      <td>2.0</td>\n",
       "      <td>125510.82</td>\n",
       "      <td>1</td>\n",
       "      <td>1</td>\n",
       "      <td>1</td>\n",
       "      <td>79084.10</td>\n",
       "      <td>0</td>\n",
       "    </tr>\n",
       "    <tr>\n",
       "      <th>...</th>\n",
       "      <td>...</td>\n",
       "      <td>...</td>\n",
       "      <td>...</td>\n",
       "      <td>...</td>\n",
       "      <td>...</td>\n",
       "      <td>...</td>\n",
       "      <td>...</td>\n",
       "      <td>...</td>\n",
       "      <td>...</td>\n",
       "      <td>...</td>\n",
       "      <td>...</td>\n",
       "      <td>...</td>\n",
       "      <td>...</td>\n",
       "      <td>...</td>\n",
       "    </tr>\n",
       "    <tr>\n",
       "      <th>9995</th>\n",
       "      <td>9996</td>\n",
       "      <td>15606229</td>\n",
       "      <td>Obijiaku</td>\n",
       "      <td>771</td>\n",
       "      <td>France</td>\n",
       "      <td>Male</td>\n",
       "      <td>39</td>\n",
       "      <td>5.0</td>\n",
       "      <td>0.00</td>\n",
       "      <td>2</td>\n",
       "      <td>1</td>\n",
       "      <td>0</td>\n",
       "      <td>96270.64</td>\n",
       "      <td>0</td>\n",
       "    </tr>\n",
       "    <tr>\n",
       "      <th>9996</th>\n",
       "      <td>9997</td>\n",
       "      <td>15569892</td>\n",
       "      <td>Johnstone</td>\n",
       "      <td>516</td>\n",
       "      <td>France</td>\n",
       "      <td>Male</td>\n",
       "      <td>35</td>\n",
       "      <td>10.0</td>\n",
       "      <td>57369.61</td>\n",
       "      <td>1</td>\n",
       "      <td>1</td>\n",
       "      <td>1</td>\n",
       "      <td>101699.77</td>\n",
       "      <td>0</td>\n",
       "    </tr>\n",
       "    <tr>\n",
       "      <th>9997</th>\n",
       "      <td>9998</td>\n",
       "      <td>15584532</td>\n",
       "      <td>Liu</td>\n",
       "      <td>709</td>\n",
       "      <td>France</td>\n",
       "      <td>Female</td>\n",
       "      <td>36</td>\n",
       "      <td>7.0</td>\n",
       "      <td>0.00</td>\n",
       "      <td>1</td>\n",
       "      <td>0</td>\n",
       "      <td>1</td>\n",
       "      <td>42085.58</td>\n",
       "      <td>1</td>\n",
       "    </tr>\n",
       "    <tr>\n",
       "      <th>9998</th>\n",
       "      <td>9999</td>\n",
       "      <td>15682355</td>\n",
       "      <td>Sabbatini</td>\n",
       "      <td>772</td>\n",
       "      <td>Germany</td>\n",
       "      <td>Male</td>\n",
       "      <td>42</td>\n",
       "      <td>3.0</td>\n",
       "      <td>75075.31</td>\n",
       "      <td>2</td>\n",
       "      <td>1</td>\n",
       "      <td>0</td>\n",
       "      <td>92888.52</td>\n",
       "      <td>1</td>\n",
       "    </tr>\n",
       "    <tr>\n",
       "      <th>9999</th>\n",
       "      <td>10000</td>\n",
       "      <td>15628319</td>\n",
       "      <td>Walker</td>\n",
       "      <td>792</td>\n",
       "      <td>France</td>\n",
       "      <td>Female</td>\n",
       "      <td>28</td>\n",
       "      <td>NaN</td>\n",
       "      <td>130142.79</td>\n",
       "      <td>1</td>\n",
       "      <td>1</td>\n",
       "      <td>0</td>\n",
       "      <td>38190.78</td>\n",
       "      <td>0</td>\n",
       "    </tr>\n",
       "  </tbody>\n",
       "</table>\n",
       "<p>10000 rows × 14 columns</p>\n",
       "</div>"
      ],
      "text/plain": [
       "      row_number  customer_id    surname  credit_score geography  gender  age  \\\n",
       "0              1     15634602   Hargrave           619    France  Female   42   \n",
       "1              2     15647311       Hill           608     Spain  Female   41   \n",
       "2              3     15619304       Onio           502    France  Female   42   \n",
       "3              4     15701354       Boni           699    France  Female   39   \n",
       "4              5     15737888   Mitchell           850     Spain  Female   43   \n",
       "...          ...          ...        ...           ...       ...     ...  ...   \n",
       "9995        9996     15606229   Obijiaku           771    France    Male   39   \n",
       "9996        9997     15569892  Johnstone           516    France    Male   35   \n",
       "9997        9998     15584532        Liu           709    France  Female   36   \n",
       "9998        9999     15682355  Sabbatini           772   Germany    Male   42   \n",
       "9999       10000     15628319     Walker           792    France  Female   28   \n",
       "\n",
       "      tenure    balance  num_of_products  has_crcard  is_active_member  \\\n",
       "0        2.0       0.00                1           1                 1   \n",
       "1        1.0   83807.86                1           0                 1   \n",
       "2        8.0  159660.80                3           1                 0   \n",
       "3        1.0       0.00                2           0                 0   \n",
       "4        2.0  125510.82                1           1                 1   \n",
       "...      ...        ...              ...         ...               ...   \n",
       "9995     5.0       0.00                2           1                 0   \n",
       "9996    10.0   57369.61                1           1                 1   \n",
       "9997     7.0       0.00                1           0                 1   \n",
       "9998     3.0   75075.31                2           1                 0   \n",
       "9999     NaN  130142.79                1           1                 0   \n",
       "\n",
       "      estimated_salary  exited  \n",
       "0            101348.88       1  \n",
       "1            112542.58       0  \n",
       "2            113931.57       1  \n",
       "3             93826.63       0  \n",
       "4             79084.10       0  \n",
       "...                ...     ...  \n",
       "9995          96270.64       0  \n",
       "9996         101699.77       0  \n",
       "9997          42085.58       1  \n",
       "9998          92888.52       1  \n",
       "9999          38190.78       0  \n",
       "\n",
       "[10000 rows x 14 columns]"
      ]
     },
     "execution_count": 4,
     "metadata": {},
     "output_type": "execute_result"
    }
   ],
   "source": [
    "df.columns = df.columns.str.lower()\n",
    "df.rename(columns = {'rownumber':'row_number',\n",
    "                     'customerid':'customer_id',  \n",
    "                     'creditscore':'credit_score', \n",
    "                     'numofproducts':'num_of_products', \n",
    "                     'hascrcard':'has_crcard',\n",
    "                     'isactivemember':'is_active_member', \n",
    "                     'estimatedsalary':'estimated_salary'}, \n",
    "                     inplace = True)\n",
    "df"
   ]
  },
  {
   "cell_type": "markdown",
   "metadata": {},
   "source": [
    "Проверим наличие дупликатов "
   ]
  },
  {
   "cell_type": "code",
   "execution_count": 5,
   "metadata": {
    "scrolled": false
   },
   "outputs": [
    {
     "data": {
      "text/plain": [
       "0"
      ]
     },
     "execution_count": 5,
     "metadata": {},
     "output_type": "execute_result"
    }
   ],
   "source": [
    "df.duplicated().sum()  "
   ]
  },
  {
   "cell_type": "markdown",
   "metadata": {},
   "source": [
    "Проверим наличие пропусков"
   ]
  },
  {
   "cell_type": "code",
   "execution_count": 6,
   "metadata": {
    "scrolled": true
   },
   "outputs": [
    {
     "data": {
      "text/plain": [
       "row_number            0\n",
       "customer_id           0\n",
       "surname               0\n",
       "credit_score          0\n",
       "geography             0\n",
       "gender                0\n",
       "age                   0\n",
       "tenure              909\n",
       "balance               0\n",
       "num_of_products       0\n",
       "has_crcard            0\n",
       "is_active_member      0\n",
       "estimated_salary      0\n",
       "exited                0\n",
       "dtype: int64"
      ]
     },
     "execution_count": 6,
     "metadata": {},
     "output_type": "execute_result"
    }
   ],
   "source": [
    "df.isna().sum()  "
   ]
  },
  {
   "cell_type": "markdown",
   "metadata": {},
   "source": [
    "В строке срок владение картой есть 909 пропусов"
   ]
  },
  {
   "cell_type": "code",
   "execution_count": 7,
   "metadata": {
    "scrolled": true
   },
   "outputs": [
    {
     "data": {
      "text/plain": [
       "1.0     952\n",
       "2.0     950\n",
       "8.0     933\n",
       "3.0     928\n",
       "5.0     927\n",
       "7.0     925\n",
       "4.0     885\n",
       "9.0     882\n",
       "6.0     881\n",
       "10.0    446\n",
       "0.0     382\n",
       "Name: tenure, dtype: int64"
      ]
     },
     "execution_count": 7,
     "metadata": {},
     "output_type": "execute_result"
    }
   ],
   "source": [
    "df.tenure.value_counts()  "
   ]
  },
  {
   "cell_type": "code",
   "execution_count": 8,
   "metadata": {},
   "outputs": [
    {
     "data": {
      "text/plain": [
       "0    0.7963\n",
       "1    0.2037\n",
       "Name: exited, dtype: float64"
      ]
     },
     "execution_count": 8,
     "metadata": {},
     "output_type": "execute_result"
    }
   ],
   "source": [
    "df.exited.value_counts(normalize=True)"
   ]
  },
  {
   "cell_type": "code",
   "execution_count": 9,
   "metadata": {
    "scrolled": true
   },
   "outputs": [
    {
     "data": {
      "text/plain": [
       "0    0.79868\n",
       "1    0.20132\n",
       "Name: exited, dtype: float64"
      ]
     },
     "execution_count": 9,
     "metadata": {},
     "output_type": "execute_result"
    }
   ],
   "source": [
    "df[df['tenure'].isna()]['exited'].value_counts(normalize=True) "
   ]
  },
  {
   "cell_type": "markdown",
   "metadata": {},
   "source": [
    "Соотношение пропущенных значений у оставшихся и ушедших клиентов одинаково и в принципе можно удалить эти строки, однако это почти 10% данных, а чем больше выборка, тем лучше для обучения модели. Я думаю можно заменить эти значения на средние, так как выбросов нет."
   ]
  },
  {
   "cell_type": "code",
   "execution_count": 10,
   "metadata": {
    "scrolled": true
   },
   "outputs": [
    {
     "data": {
      "text/plain": [
       "5.0     1836\n",
       "1.0      952\n",
       "2.0      950\n",
       "8.0      933\n",
       "3.0      928\n",
       "7.0      925\n",
       "4.0      885\n",
       "9.0      882\n",
       "6.0      881\n",
       "10.0     446\n",
       "0.0      382\n",
       "Name: tenure, dtype: int64"
      ]
     },
     "execution_count": 10,
     "metadata": {},
     "output_type": "execute_result"
    }
   ],
   "source": [
    "df_new = df\n",
    "df_new['tenure'] = df_new['tenure'].fillna(df_new['tenure'].median()) # решил вместо среднего сделать медиан, чтобы округлить\n",
    "df_new.tenure.value_counts() "
   ]
  },
  {
   "cell_type": "markdown",
   "metadata": {},
   "source": [
    "Удалим ненужные столбцы для обучения: 'row_number' и 'surname', оставим 'customer_id' как идентификатор."
   ]
  },
  {
   "cell_type": "code",
   "execution_count": 11,
   "metadata": {},
   "outputs": [
    {
     "data": {
      "text/html": [
       "<div>\n",
       "<style scoped>\n",
       "    .dataframe tbody tr th:only-of-type {\n",
       "        vertical-align: middle;\n",
       "    }\n",
       "\n",
       "    .dataframe tbody tr th {\n",
       "        vertical-align: top;\n",
       "    }\n",
       "\n",
       "    .dataframe thead th {\n",
       "        text-align: right;\n",
       "    }\n",
       "</style>\n",
       "<table border=\"1\" class=\"dataframe\">\n",
       "  <thead>\n",
       "    <tr style=\"text-align: right;\">\n",
       "      <th></th>\n",
       "      <th>credit_score</th>\n",
       "      <th>geography</th>\n",
       "      <th>gender</th>\n",
       "      <th>age</th>\n",
       "      <th>tenure</th>\n",
       "      <th>balance</th>\n",
       "      <th>num_of_products</th>\n",
       "      <th>has_crcard</th>\n",
       "      <th>is_active_member</th>\n",
       "      <th>estimated_salary</th>\n",
       "      <th>exited</th>\n",
       "    </tr>\n",
       "  </thead>\n",
       "  <tbody>\n",
       "    <tr>\n",
       "      <th>0</th>\n",
       "      <td>619</td>\n",
       "      <td>France</td>\n",
       "      <td>Female</td>\n",
       "      <td>42</td>\n",
       "      <td>2.0</td>\n",
       "      <td>0.00</td>\n",
       "      <td>1</td>\n",
       "      <td>1</td>\n",
       "      <td>1</td>\n",
       "      <td>101348.88</td>\n",
       "      <td>1</td>\n",
       "    </tr>\n",
       "    <tr>\n",
       "      <th>1</th>\n",
       "      <td>608</td>\n",
       "      <td>Spain</td>\n",
       "      <td>Female</td>\n",
       "      <td>41</td>\n",
       "      <td>1.0</td>\n",
       "      <td>83807.86</td>\n",
       "      <td>1</td>\n",
       "      <td>0</td>\n",
       "      <td>1</td>\n",
       "      <td>112542.58</td>\n",
       "      <td>0</td>\n",
       "    </tr>\n",
       "    <tr>\n",
       "      <th>2</th>\n",
       "      <td>502</td>\n",
       "      <td>France</td>\n",
       "      <td>Female</td>\n",
       "      <td>42</td>\n",
       "      <td>8.0</td>\n",
       "      <td>159660.80</td>\n",
       "      <td>3</td>\n",
       "      <td>1</td>\n",
       "      <td>0</td>\n",
       "      <td>113931.57</td>\n",
       "      <td>1</td>\n",
       "    </tr>\n",
       "    <tr>\n",
       "      <th>3</th>\n",
       "      <td>699</td>\n",
       "      <td>France</td>\n",
       "      <td>Female</td>\n",
       "      <td>39</td>\n",
       "      <td>1.0</td>\n",
       "      <td>0.00</td>\n",
       "      <td>2</td>\n",
       "      <td>0</td>\n",
       "      <td>0</td>\n",
       "      <td>93826.63</td>\n",
       "      <td>0</td>\n",
       "    </tr>\n",
       "    <tr>\n",
       "      <th>4</th>\n",
       "      <td>850</td>\n",
       "      <td>Spain</td>\n",
       "      <td>Female</td>\n",
       "      <td>43</td>\n",
       "      <td>2.0</td>\n",
       "      <td>125510.82</td>\n",
       "      <td>1</td>\n",
       "      <td>1</td>\n",
       "      <td>1</td>\n",
       "      <td>79084.10</td>\n",
       "      <td>0</td>\n",
       "    </tr>\n",
       "    <tr>\n",
       "      <th>...</th>\n",
       "      <td>...</td>\n",
       "      <td>...</td>\n",
       "      <td>...</td>\n",
       "      <td>...</td>\n",
       "      <td>...</td>\n",
       "      <td>...</td>\n",
       "      <td>...</td>\n",
       "      <td>...</td>\n",
       "      <td>...</td>\n",
       "      <td>...</td>\n",
       "      <td>...</td>\n",
       "    </tr>\n",
       "    <tr>\n",
       "      <th>9995</th>\n",
       "      <td>771</td>\n",
       "      <td>France</td>\n",
       "      <td>Male</td>\n",
       "      <td>39</td>\n",
       "      <td>5.0</td>\n",
       "      <td>0.00</td>\n",
       "      <td>2</td>\n",
       "      <td>1</td>\n",
       "      <td>0</td>\n",
       "      <td>96270.64</td>\n",
       "      <td>0</td>\n",
       "    </tr>\n",
       "    <tr>\n",
       "      <th>9996</th>\n",
       "      <td>516</td>\n",
       "      <td>France</td>\n",
       "      <td>Male</td>\n",
       "      <td>35</td>\n",
       "      <td>10.0</td>\n",
       "      <td>57369.61</td>\n",
       "      <td>1</td>\n",
       "      <td>1</td>\n",
       "      <td>1</td>\n",
       "      <td>101699.77</td>\n",
       "      <td>0</td>\n",
       "    </tr>\n",
       "    <tr>\n",
       "      <th>9997</th>\n",
       "      <td>709</td>\n",
       "      <td>France</td>\n",
       "      <td>Female</td>\n",
       "      <td>36</td>\n",
       "      <td>7.0</td>\n",
       "      <td>0.00</td>\n",
       "      <td>1</td>\n",
       "      <td>0</td>\n",
       "      <td>1</td>\n",
       "      <td>42085.58</td>\n",
       "      <td>1</td>\n",
       "    </tr>\n",
       "    <tr>\n",
       "      <th>9998</th>\n",
       "      <td>772</td>\n",
       "      <td>Germany</td>\n",
       "      <td>Male</td>\n",
       "      <td>42</td>\n",
       "      <td>3.0</td>\n",
       "      <td>75075.31</td>\n",
       "      <td>2</td>\n",
       "      <td>1</td>\n",
       "      <td>0</td>\n",
       "      <td>92888.52</td>\n",
       "      <td>1</td>\n",
       "    </tr>\n",
       "    <tr>\n",
       "      <th>9999</th>\n",
       "      <td>792</td>\n",
       "      <td>France</td>\n",
       "      <td>Female</td>\n",
       "      <td>28</td>\n",
       "      <td>5.0</td>\n",
       "      <td>130142.79</td>\n",
       "      <td>1</td>\n",
       "      <td>1</td>\n",
       "      <td>0</td>\n",
       "      <td>38190.78</td>\n",
       "      <td>0</td>\n",
       "    </tr>\n",
       "  </tbody>\n",
       "</table>\n",
       "<p>10000 rows × 11 columns</p>\n",
       "</div>"
      ],
      "text/plain": [
       "      credit_score geography  gender  age  tenure    balance  num_of_products  \\\n",
       "0              619    France  Female   42     2.0       0.00                1   \n",
       "1              608     Spain  Female   41     1.0   83807.86                1   \n",
       "2              502    France  Female   42     8.0  159660.80                3   \n",
       "3              699    France  Female   39     1.0       0.00                2   \n",
       "4              850     Spain  Female   43     2.0  125510.82                1   \n",
       "...            ...       ...     ...  ...     ...        ...              ...   \n",
       "9995           771    France    Male   39     5.0       0.00                2   \n",
       "9996           516    France    Male   35    10.0   57369.61                1   \n",
       "9997           709    France  Female   36     7.0       0.00                1   \n",
       "9998           772   Germany    Male   42     3.0   75075.31                2   \n",
       "9999           792    France  Female   28     5.0  130142.79                1   \n",
       "\n",
       "      has_crcard  is_active_member  estimated_salary  exited  \n",
       "0              1                 1         101348.88       1  \n",
       "1              0                 1         112542.58       0  \n",
       "2              1                 0         113931.57       1  \n",
       "3              0                 0          93826.63       0  \n",
       "4              1                 1          79084.10       0  \n",
       "...          ...               ...               ...     ...  \n",
       "9995           1                 0          96270.64       0  \n",
       "9996           1                 1         101699.77       0  \n",
       "9997           0                 1          42085.58       1  \n",
       "9998           1                 0          92888.52       1  \n",
       "9999           1                 0          38190.78       0  \n",
       "\n",
       "[10000 rows x 11 columns]"
      ]
     },
     "execution_count": 11,
     "metadata": {},
     "output_type": "execute_result"
    }
   ],
   "source": [
    "df_new.drop(['row_number', 'surname', 'customer_id'], axis = 1, inplace = True)\n",
    "df_new"
   ]
  },
  {
   "cell_type": "markdown",
   "metadata": {},
   "source": [
    "Преобразуем категориальные данные в числовые прямым кодированием столбцов 'gender' и 'geography'"
   ]
  },
  {
   "cell_type": "code",
   "execution_count": 12,
   "metadata": {
    "scrolled": true
   },
   "outputs": [
    {
     "data": {
      "text/html": [
       "<div>\n",
       "<style scoped>\n",
       "    .dataframe tbody tr th:only-of-type {\n",
       "        vertical-align: middle;\n",
       "    }\n",
       "\n",
       "    .dataframe tbody tr th {\n",
       "        vertical-align: top;\n",
       "    }\n",
       "\n",
       "    .dataframe thead th {\n",
       "        text-align: right;\n",
       "    }\n",
       "</style>\n",
       "<table border=\"1\" class=\"dataframe\">\n",
       "  <thead>\n",
       "    <tr style=\"text-align: right;\">\n",
       "      <th></th>\n",
       "      <th>credit_score</th>\n",
       "      <th>age</th>\n",
       "      <th>tenure</th>\n",
       "      <th>balance</th>\n",
       "      <th>num_of_products</th>\n",
       "      <th>has_crcard</th>\n",
       "      <th>is_active_member</th>\n",
       "      <th>estimated_salary</th>\n",
       "      <th>exited</th>\n",
       "      <th>geography_Germany</th>\n",
       "      <th>geography_Spain</th>\n",
       "      <th>gender_Male</th>\n",
       "    </tr>\n",
       "  </thead>\n",
       "  <tbody>\n",
       "    <tr>\n",
       "      <th>0</th>\n",
       "      <td>619</td>\n",
       "      <td>42</td>\n",
       "      <td>2.0</td>\n",
       "      <td>0.00</td>\n",
       "      <td>1</td>\n",
       "      <td>1</td>\n",
       "      <td>1</td>\n",
       "      <td>101348.88</td>\n",
       "      <td>1</td>\n",
       "      <td>0</td>\n",
       "      <td>0</td>\n",
       "      <td>0</td>\n",
       "    </tr>\n",
       "    <tr>\n",
       "      <th>1</th>\n",
       "      <td>608</td>\n",
       "      <td>41</td>\n",
       "      <td>1.0</td>\n",
       "      <td>83807.86</td>\n",
       "      <td>1</td>\n",
       "      <td>0</td>\n",
       "      <td>1</td>\n",
       "      <td>112542.58</td>\n",
       "      <td>0</td>\n",
       "      <td>0</td>\n",
       "      <td>1</td>\n",
       "      <td>0</td>\n",
       "    </tr>\n",
       "    <tr>\n",
       "      <th>2</th>\n",
       "      <td>502</td>\n",
       "      <td>42</td>\n",
       "      <td>8.0</td>\n",
       "      <td>159660.80</td>\n",
       "      <td>3</td>\n",
       "      <td>1</td>\n",
       "      <td>0</td>\n",
       "      <td>113931.57</td>\n",
       "      <td>1</td>\n",
       "      <td>0</td>\n",
       "      <td>0</td>\n",
       "      <td>0</td>\n",
       "    </tr>\n",
       "    <tr>\n",
       "      <th>3</th>\n",
       "      <td>699</td>\n",
       "      <td>39</td>\n",
       "      <td>1.0</td>\n",
       "      <td>0.00</td>\n",
       "      <td>2</td>\n",
       "      <td>0</td>\n",
       "      <td>0</td>\n",
       "      <td>93826.63</td>\n",
       "      <td>0</td>\n",
       "      <td>0</td>\n",
       "      <td>0</td>\n",
       "      <td>0</td>\n",
       "    </tr>\n",
       "    <tr>\n",
       "      <th>4</th>\n",
       "      <td>850</td>\n",
       "      <td>43</td>\n",
       "      <td>2.0</td>\n",
       "      <td>125510.82</td>\n",
       "      <td>1</td>\n",
       "      <td>1</td>\n",
       "      <td>1</td>\n",
       "      <td>79084.10</td>\n",
       "      <td>0</td>\n",
       "      <td>0</td>\n",
       "      <td>1</td>\n",
       "      <td>0</td>\n",
       "    </tr>\n",
       "    <tr>\n",
       "      <th>...</th>\n",
       "      <td>...</td>\n",
       "      <td>...</td>\n",
       "      <td>...</td>\n",
       "      <td>...</td>\n",
       "      <td>...</td>\n",
       "      <td>...</td>\n",
       "      <td>...</td>\n",
       "      <td>...</td>\n",
       "      <td>...</td>\n",
       "      <td>...</td>\n",
       "      <td>...</td>\n",
       "      <td>...</td>\n",
       "    </tr>\n",
       "    <tr>\n",
       "      <th>9995</th>\n",
       "      <td>771</td>\n",
       "      <td>39</td>\n",
       "      <td>5.0</td>\n",
       "      <td>0.00</td>\n",
       "      <td>2</td>\n",
       "      <td>1</td>\n",
       "      <td>0</td>\n",
       "      <td>96270.64</td>\n",
       "      <td>0</td>\n",
       "      <td>0</td>\n",
       "      <td>0</td>\n",
       "      <td>1</td>\n",
       "    </tr>\n",
       "    <tr>\n",
       "      <th>9996</th>\n",
       "      <td>516</td>\n",
       "      <td>35</td>\n",
       "      <td>10.0</td>\n",
       "      <td>57369.61</td>\n",
       "      <td>1</td>\n",
       "      <td>1</td>\n",
       "      <td>1</td>\n",
       "      <td>101699.77</td>\n",
       "      <td>0</td>\n",
       "      <td>0</td>\n",
       "      <td>0</td>\n",
       "      <td>1</td>\n",
       "    </tr>\n",
       "    <tr>\n",
       "      <th>9997</th>\n",
       "      <td>709</td>\n",
       "      <td>36</td>\n",
       "      <td>7.0</td>\n",
       "      <td>0.00</td>\n",
       "      <td>1</td>\n",
       "      <td>0</td>\n",
       "      <td>1</td>\n",
       "      <td>42085.58</td>\n",
       "      <td>1</td>\n",
       "      <td>0</td>\n",
       "      <td>0</td>\n",
       "      <td>0</td>\n",
       "    </tr>\n",
       "    <tr>\n",
       "      <th>9998</th>\n",
       "      <td>772</td>\n",
       "      <td>42</td>\n",
       "      <td>3.0</td>\n",
       "      <td>75075.31</td>\n",
       "      <td>2</td>\n",
       "      <td>1</td>\n",
       "      <td>0</td>\n",
       "      <td>92888.52</td>\n",
       "      <td>1</td>\n",
       "      <td>1</td>\n",
       "      <td>0</td>\n",
       "      <td>1</td>\n",
       "    </tr>\n",
       "    <tr>\n",
       "      <th>9999</th>\n",
       "      <td>792</td>\n",
       "      <td>28</td>\n",
       "      <td>5.0</td>\n",
       "      <td>130142.79</td>\n",
       "      <td>1</td>\n",
       "      <td>1</td>\n",
       "      <td>0</td>\n",
       "      <td>38190.78</td>\n",
       "      <td>0</td>\n",
       "      <td>0</td>\n",
       "      <td>0</td>\n",
       "      <td>0</td>\n",
       "    </tr>\n",
       "  </tbody>\n",
       "</table>\n",
       "<p>10000 rows × 12 columns</p>\n",
       "</div>"
      ],
      "text/plain": [
       "      credit_score  age  tenure    balance  num_of_products  has_crcard  \\\n",
       "0              619   42     2.0       0.00                1           1   \n",
       "1              608   41     1.0   83807.86                1           0   \n",
       "2              502   42     8.0  159660.80                3           1   \n",
       "3              699   39     1.0       0.00                2           0   \n",
       "4              850   43     2.0  125510.82                1           1   \n",
       "...            ...  ...     ...        ...              ...         ...   \n",
       "9995           771   39     5.0       0.00                2           1   \n",
       "9996           516   35    10.0   57369.61                1           1   \n",
       "9997           709   36     7.0       0.00                1           0   \n",
       "9998           772   42     3.0   75075.31                2           1   \n",
       "9999           792   28     5.0  130142.79                1           1   \n",
       "\n",
       "      is_active_member  estimated_salary  exited  geography_Germany  \\\n",
       "0                    1         101348.88       1                  0   \n",
       "1                    1         112542.58       0                  0   \n",
       "2                    0         113931.57       1                  0   \n",
       "3                    0          93826.63       0                  0   \n",
       "4                    1          79084.10       0                  0   \n",
       "...                ...               ...     ...                ...   \n",
       "9995                 0          96270.64       0                  0   \n",
       "9996                 1         101699.77       0                  0   \n",
       "9997                 1          42085.58       1                  0   \n",
       "9998                 0          92888.52       1                  1   \n",
       "9999                 0          38190.78       0                  0   \n",
       "\n",
       "      geography_Spain  gender_Male  \n",
       "0                   0            0  \n",
       "1                   1            0  \n",
       "2                   0            0  \n",
       "3                   0            0  \n",
       "4                   1            0  \n",
       "...               ...          ...  \n",
       "9995                0            1  \n",
       "9996                0            1  \n",
       "9997                0            0  \n",
       "9998                0            1  \n",
       "9999                0            0  \n",
       "\n",
       "[10000 rows x 12 columns]"
      ]
     },
     "execution_count": 12,
     "metadata": {},
     "output_type": "execute_result"
    }
   ],
   "source": [
    "df_ohe = pd.get_dummies(df_new, drop_first = True)\n",
    "df_ohe"
   ]
  },
  {
   "cell_type": "markdown",
   "metadata": {},
   "source": [
    "НАСТОЯТЕЛЬНАЯ РЕКОМЕНДАЦИЯ: используем OneHotEncoder из sklearn! Вот статья на тему: https://datagy.io/sklearn-one-hot-encode/\n",
    "\n",
    "p.s. (ещё один внешний источник): Самая большая ошибка, которую совершает большинство людей, заключается в том, что они не различают порядковые и номинальные переменные. Поэтому, если мы используем ту же функцию map() или LabelEncoder с номинальными переменными, модель будет думать, что между номинальными значениями существует какая-то связь, например, в нашей таблице есть 3 города: Москва, Санкт-Петербург, Киев, закодируем города через LabelEncoder(), допустим новые значения: 1, 2, 3 соответственно. В этом случае данный метод сильно упрощает данные, фактически проецируя категориальный признак на вещественную прямую. Весь смысл категориальности теряется. Более того, появляются ложные интерпретации, исходя из кодировки Москва + Санкт-Петербург = Киев, но это не характеризует наши данные, а скорее отображает особенности выбранной нами кодировки, что может запутать в последствии модель. Существует метод, который способен решить эту проблему - это one-hot-encoding."
   ]
  },
  {
   "cell_type": "markdown",
   "metadata": {},
   "source": [
    "Разобьем датасет на 3 выборки в соотношении 60-20-20 "
   ]
  },
  {
   "cell_type": "code",
   "execution_count": 13,
   "metadata": {},
   "outputs": [],
   "source": [
    "features = df_ohe.drop('exited', axis = 1)\n",
    "target = df_ohe.exited\n",
    "\n",
    "features_train, features_tempor, target_train, target_tempor = train_test_split(features, \n",
    "                                                                                target, \n",
    "                                                                                test_size = 0.4, \n",
    "                                                                                random_state = 123)\n",
    "\n",
    "features_valid, features_test, target_valid, target_test = train_test_split(features_tempor, \n",
    "                                                                            target_tempor, \n",
    "                                                                            test_size=0.5, \n",
    "                                                                            random_state=123)"
   ]
  },
  {
   "cell_type": "code",
   "execution_count": 14,
   "metadata": {},
   "outputs": [
    {
     "name": "stdout",
     "output_type": "stream",
     "text": [
      "Размер выборки train: (6000, 11), (6000,)\n",
      "Размер выборки valid: (2000, 11), (2000,)\n",
      "Размер выборки test: (2000, 11), (2000,)\n"
     ]
    }
   ],
   "source": [
    "print(f'Размер выборки train: {features_train.shape}, {target_train.shape}')\n",
    "print(f'Размер выборки valid: {features_valid.shape}, {target_valid.shape}')\n",
    "print(f'Размер выборки test: {features_test.shape}, {target_test.shape}')"
   ]
  },
  {
   "cell_type": "markdown",
   "metadata": {},
   "source": [
    "Произведем стандартизацию данных для улучшения интерпретации данных"
   ]
  },
  {
   "cell_type": "code",
   "execution_count": 15,
   "metadata": {},
   "outputs": [
    {
     "name": "stdout",
     "output_type": "stream",
     "text": [
      "(6000, 11)\n",
      "(2000, 11)\n",
      "(2000, 11)\n"
     ]
    },
    {
     "name": "stderr",
     "output_type": "stream",
     "text": [
      "/tmp/ipykernel_48/3816603296.py:5: SettingWithCopyWarning: \n",
      "A value is trying to be set on a copy of a slice from a DataFrame.\n",
      "Try using .loc[row_indexer,col_indexer] = value instead\n",
      "\n",
      "See the caveats in the documentation: https://pandas.pydata.org/pandas-docs/stable/user_guide/indexing.html#returning-a-view-versus-a-copy\n",
      "  features_train[numeric] = scaler.fit_transform(features_train[numeric])\n",
      "/opt/conda/lib/python3.9/site-packages/pandas/core/indexing.py:1738: SettingWithCopyWarning: \n",
      "A value is trying to be set on a copy of a slice from a DataFrame.\n",
      "Try using .loc[row_indexer,col_indexer] = value instead\n",
      "\n",
      "See the caveats in the documentation: https://pandas.pydata.org/pandas-docs/stable/user_guide/indexing.html#returning-a-view-versus-a-copy\n",
      "  self._setitem_single_column(loc, value[:, i].tolist(), pi)\n",
      "/tmp/ipykernel_48/3816603296.py:6: SettingWithCopyWarning: \n",
      "A value is trying to be set on a copy of a slice from a DataFrame.\n",
      "Try using .loc[row_indexer,col_indexer] = value instead\n",
      "\n",
      "See the caveats in the documentation: https://pandas.pydata.org/pandas-docs/stable/user_guide/indexing.html#returning-a-view-versus-a-copy\n",
      "  features_valid[numeric] = scaler.transform(features_valid[numeric])\n",
      "/opt/conda/lib/python3.9/site-packages/pandas/core/indexing.py:1738: SettingWithCopyWarning: \n",
      "A value is trying to be set on a copy of a slice from a DataFrame.\n",
      "Try using .loc[row_indexer,col_indexer] = value instead\n",
      "\n",
      "See the caveats in the documentation: https://pandas.pydata.org/pandas-docs/stable/user_guide/indexing.html#returning-a-view-versus-a-copy\n",
      "  self._setitem_single_column(loc, value[:, i].tolist(), pi)\n",
      "/tmp/ipykernel_48/3816603296.py:7: SettingWithCopyWarning: \n",
      "A value is trying to be set on a copy of a slice from a DataFrame.\n",
      "Try using .loc[row_indexer,col_indexer] = value instead\n",
      "\n",
      "See the caveats in the documentation: https://pandas.pydata.org/pandas-docs/stable/user_guide/indexing.html#returning-a-view-versus-a-copy\n",
      "  features_test[numeric] = scaler.transform(features_test[numeric])\n",
      "/opt/conda/lib/python3.9/site-packages/pandas/core/indexing.py:1738: SettingWithCopyWarning: \n",
      "A value is trying to be set on a copy of a slice from a DataFrame.\n",
      "Try using .loc[row_indexer,col_indexer] = value instead\n",
      "\n",
      "See the caveats in the documentation: https://pandas.pydata.org/pandas-docs/stable/user_guide/indexing.html#returning-a-view-versus-a-copy\n",
      "  self._setitem_single_column(loc, value[:, i].tolist(), pi)\n"
     ]
    }
   ],
   "source": [
    "numeric = ['credit_score', 'age', 'tenure', 'balance', 'num_of_products', 'estimated_salary']\n",
    "\n",
    "\n",
    "scaler = StandardScaler()\n",
    "features_train[numeric] = scaler.fit_transform(features_train[numeric])\n",
    "features_valid[numeric] = scaler.transform(features_valid[numeric])\n",
    "features_test[numeric] = scaler.transform(features_test[numeric])\n",
    "\n",
    "print(features_train.shape)\n",
    "print(features_valid.shape)\n",
    "print(features_test.shape)"
   ]
  },
  {
   "cell_type": "markdown",
   "metadata": {},
   "source": [
    "###### Итоги:\n",
    "- Провели первичную обработку данных\n",
    "- Привели названия столбцов к норме\n",
    "- Проверили наличие дубликатов \n",
    "- Заменили пропущенные значения в столбце 'tenure'\n",
    "- Привели категориальные признаки к числовым значениям прямым кодированием\n",
    "- Разбили датасет на 3 выборки: тренировочную, валидационную, тестовую \n",
    "- Стандартизировали данные"
   ]
  },
  {
   "cell_type": "markdown",
   "metadata": {},
   "source": [
    "<div class=\"alert alert-warning\">\n",
    "<b>Комментарий 👉</b>\n",
    "\n",
    "Несколько моментов \"на будущее\" (сейчас забегаю чуть вперед, но будущем это будет важно) которые я хотел озвучить перед переходом к собственно исследованию:\n",
    "    \n",
    "- СДЕЛАНО_МОЛОДЕЦ имеет смысл критично посмотреть на данные с точки зрения наличия пропусков в признаках (вопрос: все ли ml-модели \"любят\" пропуски?) и обработать или удалить их \n",
    "    \n",
    "- имеет смысл явно обозначить какую задачу мы будем решать: с учителем / без учителя, классификации / регрессии ...\n",
    "    \n",
    "- в моделях бинарной классификации имеет смысл смотреть на баланс классов. Два взгляда (с разных сторон) на эту проблему тут: https://alexanderdyakonov.wordpress.com/2021/05/27/imbalance/ и https://habr.com/ru/post/349078/\n",
    "    \n",
    "- имеет смысл смотреть на корреляцию признаков. При высокой их степени коррелированности возникает проблема  мультиколлиниарность признаков. Проблема \"мультиколлинеарности\" это и про переобучение модели и про её интерпретируемость и про сложность модели (содержание в модели избыточного количества переменных). В чем негативный эффект сложной модели? Вот в чем: усложняется интерпретация параметров, оценки параметров ненадежны – получаются большие стандартные ошибки, которые меняются с изменением объема наблюдений, что делает модель регрессии непригодной для прогнозирования.\n",
    "    \n",
    "А теперь давай про интерпретируемость. Согласись - это важно, чтобы результат, который выдает модель можно было бы понять и объяснить с точки зрения предметной области. В случае включения в модель коллинеарных признаков может случиться так, что коэффициенты (да, проблема присуща моделям линейным ... регрессия среди них!) могут менять знаки и попытка объяснения предметной области с помощью этих коэффициентов будет противоречить здравому смыслу.\n",
    "    \n",
    "Вот классная статья. Простым языком, на примере показана проблема. А также, что важно - разобраны варианты как её (проблему) победить. Статья: https://habr.com/ru/company/akbarsdigital/blog/592493/ \n",
    "</div>"
   ]
  },
  {
   "cell_type": "markdown",
   "metadata": {},
   "source": [
    "## Исследование задачи"
   ]
  },
  {
   "cell_type": "markdown",
   "metadata": {},
   "source": [
    "Создадим функцию для построения ROC-кривой и вычислением AUC-ROC площади"
   ]
  },
  {
   "cell_type": "code",
   "execution_count": 16,
   "metadata": {},
   "outputs": [],
   "source": [
    " def roc_auc_fig(model, features_valid=features_valid, target_valid=target_valid):\n",
    "    probabilities_valid = model.predict_proba(features_valid)\n",
    "    probabilities_one_valid = probabilities_valid[:, 1]\n",
    "    fpr, tpr, thresholds = roc_curve(target_valid, probabilities_one_valid) \n",
    "    auc_roc = roc_auc_score(target_valid, probabilities_one_valid)\n",
    "    plt.figure(figsize=(8,8))\n",
    "    plt.plot(fpr, tpr, label='ROC-кривая (AUC = {:.2f})'.format(auc_roc))\n",
    "    plt.plot([0, 1], [0, 1], linestyle='--')\n",
    "    plt.xlim([0.0, 1.0])\n",
    "    plt.ylim([0.0, 1.0])\n",
    "    plt.xlabel('False Positive Rate')\n",
    "    plt.ylabel('True Positive Rate')\n",
    "    plt.title('ROC-кривая')\n",
    "    plt.legend(loc=\"lower right\")\n",
    "    plt.show()"
   ]
  },
  {
   "cell_type": "markdown",
   "metadata": {},
   "source": [
    "Дерево решений"
   ]
  },
  {
   "cell_type": "markdown",
   "metadata": {},
   "source": [
    "Выбираем лучшые параметры с помощью GrindSearch"
   ]
  },
  {
   "cell_type": "code",
   "execution_count": 17,
   "metadata": {},
   "outputs": [
    {
     "name": "stdout",
     "output_type": "stream",
     "text": [
      "Fitting 5 folds for each of 380 candidates, totalling 1900 fits\n",
      "Best f1_score: 0.5423445860170965\n",
      "Best parameters: {'max_depth': 6, 'min_samples_leaf': 5, 'min_samples_split': 2}\n"
     ]
    }
   ],
   "source": [
    "param_grid = {\n",
    "    'max_depth' : range(1,20),\n",
    "    'min_samples_split' : range(2,6),\n",
    "    'min_samples_leaf' : range(1,6)\n",
    "}\n",
    "\n",
    "grid_search = GridSearchCV(estimator = DecisionTreeClassifier(random_state = 123), \n",
    "                           param_grid = param_grid, \n",
    "                           scoring = 'f1', \n",
    "                           cv = 5,\n",
    "                           n_jobs = -1, # чтобы быстрее делалось\n",
    "                           verbose = 1) # чтобы посмотреть сколько вариантов вычисляется\n",
    "\n",
    "grid_search.fit(features_train, target_train)\n",
    "\n",
    "best_depth = grid_search.best_params_['max_depth']\n",
    "best_split = grid_search.best_params_['min_samples_split']\n",
    "best_leaf = grid_search.best_params_['min_samples_leaf']\n",
    "\n",
    "print('Best f1_score:', grid_search.best_score_)\n",
    "print('Best parameters:', grid_search.best_params_)"
   ]
  },
  {
   "cell_type": "markdown",
   "metadata": {},
   "source": [
    "\n",
    "Метрика **accuracy_score НЕ ПОКАЗАТЕЛЬНА** для оценки моделей (в задаче классификации) построенных на данных с дисбалансом классов.\n"
   ]
  },
  {
   "cell_type": "markdown",
   "metadata": {},
   "source": [
    "Проверяем параметры на валидационной выборке"
   ]
  },
  {
   "cell_type": "code",
   "execution_count": 18,
   "metadata": {},
   "outputs": [
    {
     "name": "stdout",
     "output_type": "stream",
     "text": [
      "F1-мера: 0.5492730210016155\n"
     ]
    },
    {
     "data": {
      "image/png": "[encoded data removed]",
      "text/plain": [
       "<Figure size 576x576 with 1 Axes>"
      ]
     },
     "metadata": {
      "needs_background": "light"
     },
     "output_type": "display_data"
    }
   ],
   "source": [
    "model = DecisionTreeClassifier(max_depth = best_depth,\n",
    "                               min_samples_split = best_split,\n",
    "                               min_samples_leaf = best_leaf,\n",
    "                               random_state = 123) \n",
    "model.fit(features_train, target_train) \n",
    "predictions = model.predict(features_valid)\n",
    "\n",
    "f1 = f1_score(target_valid, predictions)\n",
    " \n",
    "print(\"F1-мера:\", f1)\n",
    "roc_auc_fig(model)"
   ]
  },
  {
   "cell_type": "markdown",
   "metadata": {},
   "source": [
    "Так же проверям случайный лес"
   ]
  },
  {
   "cell_type": "code",
   "execution_count": 19,
   "metadata": {},
   "outputs": [
    {
     "name": "stdout",
     "output_type": "stream",
     "text": [
      "Fitting 5 folds for each of 900 candidates, totalling 4500 fits\n",
      "Best f1_score: 0.5591035541596487\n",
      "Best parameters: {'max_depth': 9, 'min_samples_leaf': 1, 'min_samples_split': 2, 'n_estimators': 12}\n"
     ]
    }
   ],
   "source": [
    "param_grid = {\n",
    "    'n_estimators': range(10,20,2),\n",
    "    'max_depth' : range(1,10),\n",
    "    'min_samples_split' : range(2,6),\n",
    "    'min_samples_leaf' : range(1,6)\n",
    "}\n",
    "\n",
    "grid_search = GridSearchCV(estimator = RandomForestClassifier(random_state = 123), \n",
    "                           param_grid = param_grid, \n",
    "                           scoring = 'f1', \n",
    "                           cv = 5,\n",
    "                           n_jobs = -1,\n",
    "                           verbose = 1)\n",
    "\n",
    "grid_search.fit(features_train, target_train)\n",
    "\n",
    "best_estimators = grid_search.best_params_['n_estimators']\n",
    "best_depth = grid_search.best_params_['max_depth']\n",
    "best_split = grid_search.best_params_['min_samples_split']\n",
    "best_leaf = grid_search.best_params_['min_samples_leaf']\n",
    "\n",
    "print('Best f1_score:', grid_search.best_score_)\n",
    "print('Best parameters:', grid_search.best_params_)"
   ]
  },
  {
   "cell_type": "code",
   "execution_count": 20,
   "metadata": {},
   "outputs": [
    {
     "name": "stdout",
     "output_type": "stream",
     "text": [
      "F1-мера: 0.5589660743134087\n"
     ]
    },
    {
     "data": {
      "image/png": "[encoded data removed]",
      "text/plain": [
       "<Figure size 576x576 with 1 Axes>"
      ]
     },
     "metadata": {
      "needs_background": "light"
     },
     "output_type": "display_data"
    }
   ],
   "source": [
    "model = RandomForestClassifier(n_estimators = best_estimators,\n",
    "                               max_depth = best_depth,\n",
    "                               min_samples_split = best_split,\n",
    "                               min_samples_leaf = best_leaf,\n",
    "                               random_state = 123) \n",
    "model.fit(features_train, target_train) \n",
    "predictions = model.predict(features_valid)\n",
    "\n",
    "f1 = f1_score(target_valid, predictions)\n",
    " \n",
    "print(\"F1-мера:\", f1)\n",
    "roc_auc_fig(model)"
   ]
  },
  {
   "cell_type": "code",
   "execution_count": null,
   "metadata": {},
   "outputs": [],
   "source": []
  },
  {
   "cell_type": "markdown",
   "metadata": {},
   "source": [
    "###### Итоги:\n",
    "  1. Дерево решений. С помощью функции GridSearchCV выявили лучшую модель для дерева решений, обучили модель на лучших параметрах и проверили ее на валидационной выборке:\n",
    "- F1-мера = 0.5492730210016155 \n",
    "- ROC-AUC = 0.85\n",
    "\n",
    "\n",
    "  2. Случайный лес. С помощью функции GridSearchCV выявили лучшую модель для случайного леса, обучили модель на лучших параметрах и проверили ее на валидационной выборке:\n",
    "- F1-мера = 0.5589660743134087\n",
    "- ROC-AUC = 0.85 "
   ]
  },
  {
   "cell_type": "markdown",
   "metadata": {},
   "source": [
    "## Борьба с дисбалансом"
   ]
  },
  {
   "cell_type": "markdown",
   "metadata": {},
   "source": [
    "Посмотрим на дисбаланс классов"
   ]
  },
  {
   "cell_type": "code",
   "execution_count": 21,
   "metadata": {
    "scrolled": true
   },
   "outputs": [
    {
     "name": "stdout",
     "output_type": "stream",
     "text": [
      "0    0.7963\n",
      "1    0.2037\n",
      "Name: exited, dtype: float64\n"
     ]
    },
    {
     "data": {
      "text/plain": [
       "<AxesSubplot:>"
      ]
     },
     "execution_count": 21,
     "metadata": {},
     "output_type": "execute_result"
    },
    {
     "data": {
      "image/png": "[encoded data removed]",
      "text/plain": [
       "<Figure size 432x288 with 1 Axes>"
      ]
     },
     "metadata": {
      "needs_background": "light"
     },
     "output_type": "display_data"
    }
   ],
   "source": [
    "class_frequency = df_ohe['exited'].value_counts(normalize = True)\n",
    "print(class_frequency)\n",
    "class_frequency.plot(kind = 'bar')"
   ]
  },
  {
   "cell_type": "markdown",
   "metadata": {},
   "source": [
    "Дерево решений. Произведем взвешивание классов с помощью параметра c 'class_weight' и проверим результаты f1 меры "
   ]
  },
  {
   "cell_type": "code",
   "execution_count": 22,
   "metadata": {},
   "outputs": [
    {
     "name": "stdout",
     "output_type": "stream",
     "text": [
      "Fitting 5 folds for each of 380 candidates, totalling 1900 fits\n",
      "Best f1_score: 0.5625586901235774\n",
      "Best parameters: {'max_depth': 6, 'min_samples_leaf': 5, 'min_samples_split': 2}\n"
     ]
    }
   ],
   "source": [
    "param_grid = {\n",
    "    'max_depth' : range(1,20),\n",
    "    'min_samples_split' : range(2,6),\n",
    "    'min_samples_leaf' : range(1,6)\n",
    "}\n",
    "\n",
    "grid_search = GridSearchCV(estimator = DecisionTreeClassifier(random_state = 123, class_weight = 'balanced'), \n",
    "                           param_grid = param_grid, \n",
    "                           scoring = 'f1', \n",
    "                           cv = 5,\n",
    "                           n_jobs = -1,\n",
    "                           verbose = 1)\n",
    "\n",
    "grid_search.fit(features_train, target_train)\n",
    "\n",
    "best_depth = grid_search.best_params_['max_depth']\n",
    "best_split = grid_search.best_params_['min_samples_split']\n",
    "best_leaf = grid_search.best_params_['min_samples_leaf']\n",
    "\n",
    "print('Best f1_score:', grid_search.best_score_)\n",
    "print('Best parameters:', grid_search.best_params_)"
   ]
  },
  {
   "cell_type": "code",
   "execution_count": 23,
   "metadata": {
    "scrolled": false
   },
   "outputs": [
    {
     "name": "stdout",
     "output_type": "stream",
     "text": [
      "F1-мера: 0.5646196150320807\n"
     ]
    },
    {
     "data": {
      "image/png": "[encoded data removed]",
      "text/plain": [
       "<Figure size 576x576 with 1 Axes>"
      ]
     },
     "metadata": {
      "needs_background": "light"
     },
     "output_type": "display_data"
    }
   ],
   "source": [
    "model = DecisionTreeClassifier(max_depth = best_depth,\n",
    "                               min_samples_split = best_split,\n",
    "                               min_samples_leaf = best_leaf,\n",
    "                               random_state = 123,\n",
    "                               class_weight = 'balanced') \n",
    "model.fit(features_train, target_train) \n",
    "predictions = model.predict(features_valid)\n",
    "\n",
    "f1 = f1_score(target_valid, predictions)\n",
    " \n",
    "print(\"F1-мера:\", f1)\n",
    "roc_auc_fig(model)"
   ]
  },
  {
   "cell_type": "markdown",
   "metadata": {},
   "source": [
    "Случайный лес. Произведем взвешивание классов с помощью параметра c 'class_weight' и проверим результаты f1 меры "
   ]
  },
  {
   "cell_type": "code",
   "execution_count": 24,
   "metadata": {},
   "outputs": [
    {
     "name": "stdout",
     "output_type": "stream",
     "text": [
      "Fitting 5 folds for each of 900 candidates, totalling 4500 fits\n",
      "Best f1_score: 0.607345719849069\n",
      "Best parameters: {'max_depth': 8, 'min_samples_leaf': 2, 'min_samples_split': 5, 'n_estimators': 12}\n"
     ]
    }
   ],
   "source": [
    "param_grid = {\n",
    "    'n_estimators': range(10,20,2),\n",
    "    'max_depth' : range(1,10),\n",
    "    'min_samples_split' : range(2,6),\n",
    "    'min_samples_leaf' : range(1,6)\n",
    "}\n",
    "\n",
    "grid_search = GridSearchCV(estimator = RandomForestClassifier(random_state = 123, class_weight = 'balanced'), \n",
    "                           param_grid = param_grid, \n",
    "                           scoring = 'f1', \n",
    "                           cv = 5,\n",
    "                           n_jobs = -1,\n",
    "                           verbose = 1)\n",
    "\n",
    "grid_search.fit(features_train, target_train)\n",
    "\n",
    "best_estimators = grid_search.best_params_['n_estimators']\n",
    "best_depth = grid_search.best_params_['max_depth']\n",
    "best_split = grid_search.best_params_['min_samples_split']\n",
    "best_leaf = grid_search.best_params_['min_samples_leaf']\n",
    "\n",
    "print('Best f1_score:', grid_search.best_score_)\n",
    "print('Best parameters:', grid_search.best_params_)"
   ]
  },
  {
   "cell_type": "code",
   "execution_count": 25,
   "metadata": {},
   "outputs": [
    {
     "name": "stdout",
     "output_type": "stream",
     "text": [
      "F1-мера: 0.5986984815618221\n"
     ]
    },
    {
     "data": {
      "image/png": "[encoded data removed]",
      "text/plain": [
       "<Figure size 576x576 with 1 Axes>"
      ]
     },
     "metadata": {
      "needs_background": "light"
     },
     "output_type": "display_data"
    }
   ],
   "source": [
    "model = RandomForestClassifier(n_estimators = best_estimators,\n",
    "                               max_depth = best_depth,\n",
    "                               min_samples_split = best_split,\n",
    "                               min_samples_leaf = best_leaf,\n",
    "                               random_state = 123,\n",
    "                               class_weight = 'balanced') \n",
    "model.fit(features_train, target_train) \n",
    "predictions = model.predict(features_valid)\n",
    "\n",
    "f1 = f1_score(target_valid, predictions)\n",
    " \n",
    "print(\"F1-мера:\", f1)\n",
    "roc_auc_fig(model)"
   ]
  },
  {
   "cell_type": "markdown",
   "metadata": {},
   "source": [
    "###### Итоги:\n",
    "  1. Дерево решений. С помощью функции GridSearchCV и взвешивании классов выявили лучшую модель для дерева решений, обучили модель на лучших параметрах и проверили ее на валидационной выборке:\n",
    "- F1-мера = 0.5639589169000933\n",
    "- ROC-AUC = 0.84\n",
    "\n",
    "\n",
    "  2. Случайный лес. С помощью функции GridSearchCV и взвешивании классов выявили лучшую модель для случайного леса, обучили модель на лучших параметрах и проверили ее на валидационной выборке:\n",
    "- F1-мера = 0.5986984815618221\n",
    "- ROC-AUC = 0.85 "
   ]
  },
  {
   "cell_type": "markdown",
   "metadata": {},
   "source": [
    "Увеличение и уменьшение выборки с помощью функции 'resample'"
   ]
  },
  {
   "cell_type": "markdown",
   "metadata": {},
   "source": [
    "Подготовим тренировочный датасет для уменьшения и увеличения выборки"
   ]
  },
  {
   "cell_type": "code",
   "execution_count": 26,
   "metadata": {},
   "outputs": [
    {
     "name": "stdout",
     "output_type": "stream",
     "text": [
      "0    1239\n",
      "1    1239\n",
      "Name: exited, dtype: int64\n"
     ]
    }
   ],
   "source": [
    "df_train_down = pd.concat([features_train, target_train], axis=1)  \n",
    "\n",
    "df_majority = df_train_down[df_train_down['exited']==0]\n",
    "df_minority = df_train_down[df_train_down['exited']==1]\n",
    "\n",
    "df_majority_downsampled = resample(df_majority,\n",
    "                                   replace=False,     \n",
    "                                   n_samples=len(df_minority), \n",
    "                                   random_state=123)  \n",
    "\n",
    "df_downsampled = pd.concat([df_majority_downsampled, df_minority])\n",
    "\n",
    "features_train_downsampled = df_downsampled.drop('exited', axis=1)\n",
    "target_train_downsampled = df_downsampled['exited']\n",
    "\n",
    "features_train_downsampled, target_train_downsampled = shuffle(features_train_downsampled, target_train_downsampled, random_state=123)\n",
    "\n",
    "print(target_train_downsampled.value_counts())"
   ]
  },
  {
   "cell_type": "code",
   "execution_count": 27,
   "metadata": {},
   "outputs": [
    {
     "name": "stdout",
     "output_type": "stream",
     "text": [
      "0    4761\n",
      "1    4761\n",
      "Name: exited, dtype: int64\n"
     ]
    }
   ],
   "source": [
    "df_train_up = pd.concat([features_train, target_train], axis=1)  \n",
    "\n",
    "df_majority = df_train_up[df_train_up['exited']==0]\n",
    "df_minority = df_train_up[df_train_up['exited']==1]\n",
    "\n",
    "df_minority_upsampled = resample(df_minority,\n",
    "                                 replace=True,     \n",
    "                                 n_samples=len(df_majority), \n",
    "                                 random_state=123)  \n",
    "\n",
    "df_upsampled = pd.concat([df_majority, df_minority_upsampled])\n",
    "\n",
    "target_train_upsampled = df_upsampled['exited']\n",
    "features_train_upsampled = df_upsampled.drop('exited', axis=1)\n",
    "\n",
    "features_train_upsampled, target_train_upsampled = shuffle(features_train_upsampled, target_train_upsampled, random_state=123)\n",
    "\n",
    "print(target_train_upsampled.value_counts()) "
   ]
  },
  {
   "cell_type": "markdown",
   "metadata": {},
   "source": [
    "Проверяем лучшие параметры с помощью GrindSearch для дерева решений уменьшенной и увеличеннной выборки "
   ]
  },
  {
   "cell_type": "markdown",
   "metadata": {},
   "source": [
    "1. Дерево решений - Увеличенная выборка"
   ]
  },
  {
   "cell_type": "code",
   "execution_count": 28,
   "metadata": {},
   "outputs": [
    {
     "name": "stdout",
     "output_type": "stream",
     "text": [
      "Fitting 5 folds for each of 380 candidates, totalling 1900 fits\n",
      "Best f1_score: 0.9180406563884015\n",
      "Best parameters: {'max_depth': 19, 'min_samples_leaf': 1, 'min_samples_split': 2}\n"
     ]
    }
   ],
   "source": [
    "param_grid = {\n",
    "    'max_depth' : range(1,20),\n",
    "    'min_samples_split' : range(2,6),\n",
    "    'min_samples_leaf' : range(1,6)\n",
    "}\n",
    "\n",
    "grid_search = GridSearchCV(estimator = DecisionTreeClassifier(random_state = 123), \n",
    "                           param_grid = param_grid, \n",
    "                           scoring = 'f1', \n",
    "                           cv = 5,\n",
    "                           n_jobs = -1,\n",
    "                           verbose = 1)\n",
    "\n",
    "grid_search.fit(features_train_upsampled, target_train_upsampled)\n",
    "\n",
    "best_depth = grid_search.best_params_['max_depth']\n",
    "best_split = grid_search.best_params_['min_samples_split']\n",
    "best_leaf = grid_search.best_params_['min_samples_leaf']\n",
    "\n",
    "print('Best f1_score:', grid_search.best_score_)\n",
    "print('Best parameters:', grid_search.best_params_)"
   ]
  },
  {
   "cell_type": "code",
   "execution_count": 29,
   "metadata": {},
   "outputs": [
    {
     "name": "stdout",
     "output_type": "stream",
     "text": [
      "F1-мера: 0.4810126582278481\n"
     ]
    },
    {
     "data": {
      "image/png": "[encoded data removed]",
      "text/plain": [
       "<Figure size 576x576 with 1 Axes>"
      ]
     },
     "metadata": {
      "needs_background": "light"
     },
     "output_type": "display_data"
    }
   ],
   "source": [
    "model = DecisionTreeClassifier(max_depth = best_depth,\n",
    "                               min_samples_split = best_split,\n",
    "                               min_samples_leaf = best_leaf,\n",
    "                               random_state = 123) \n",
    "model.fit(features_train_upsampled, target_train_upsampled) \n",
    "predictions = model.predict(features_valid)\n",
    "\n",
    "f1 = f1_score(target_valid, predictions)\n",
    " \n",
    "print(\"F1-мера:\", f1)\n",
    "roc_auc_fig(model)"
   ]
  },
  {
   "cell_type": "markdown",
   "metadata": {},
   "source": [
    "2. Дерево решений - Уменьшенная выборка"
   ]
  },
  {
   "cell_type": "code",
   "execution_count": 30,
   "metadata": {},
   "outputs": [
    {
     "name": "stdout",
     "output_type": "stream",
     "text": [
      "Fitting 5 folds for each of 380 candidates, totalling 1900 fits\n",
      "Best f1_score: 0.7568903523126205\n",
      "Best parameters: {'max_depth': 5, 'min_samples_leaf': 3, 'min_samples_split': 2}\n"
     ]
    }
   ],
   "source": [
    "param_grid = {\n",
    "    'max_depth' : range(1,20),\n",
    "    'min_samples_split' : range(2,6),\n",
    "    'min_samples_leaf' : range(1,6)\n",
    "}\n",
    "\n",
    "grid_search = GridSearchCV(estimator = DecisionTreeClassifier(random_state = 123), \n",
    "                           param_grid = param_grid, \n",
    "                           scoring = 'f1', \n",
    "                           cv = 5,\n",
    "                           n_jobs = -1,\n",
    "                           verbose = 1)\n",
    "\n",
    "grid_search.fit(features_train_downsampled, target_train_downsampled)\n",
    "\n",
    "best_depth = grid_search.best_params_['max_depth']\n",
    "best_split = grid_search.best_params_['min_samples_split']\n",
    "best_leaf = grid_search.best_params_['min_samples_leaf']\n",
    "\n",
    "print('Best f1_score:', grid_search.best_score_)\n",
    "print('Best parameters:', grid_search.best_params_)"
   ]
  },
  {
   "cell_type": "code",
   "execution_count": 31,
   "metadata": {},
   "outputs": [
    {
     "name": "stdout",
     "output_type": "stream",
     "text": [
      "F1-мера: 0.5642407906558851\n"
     ]
    },
    {
     "data": {
      "image/png": "[encoded data removed]",
      "text/plain": [
       "<Figure size 576x576 with 1 Axes>"
      ]
     },
     "metadata": {
      "needs_background": "light"
     },
     "output_type": "display_data"
    }
   ],
   "source": [
    "model = DecisionTreeClassifier(max_depth = best_depth,\n",
    "                               min_samples_split = best_split,\n",
    "                               min_samples_leaf = best_leaf,\n",
    "                               random_state = 123) \n",
    "model.fit(features_train_downsampled, target_train_downsampled) \n",
    "predictions = model.predict(features_valid)\n",
    "\n",
    "f1 = f1_score(target_valid, predictions)\n",
    " \n",
    "print(\"F1-мера:\", f1)\n",
    "roc_auc_fig(model)"
   ]
  },
  {
   "cell_type": "markdown",
   "metadata": {},
   "source": [
    "Проверяем параметры и f1 меру для Случайного леса с помощью увеличенной и уменьшенной вборки "
   ]
  },
  {
   "cell_type": "markdown",
   "metadata": {},
   "source": [
    "3. Случайный лес - Увеличенная выборка"
   ]
  },
  {
   "cell_type": "code",
   "execution_count": 32,
   "metadata": {},
   "outputs": [
    {
     "name": "stdout",
     "output_type": "stream",
     "text": [
      "Fitting 5 folds for each of 900 candidates, totalling 4500 fits\n",
      "Best f1_score: 0.844762760059339\n",
      "Best parameters: {'max_depth': 9, 'min_samples_leaf': 1, 'min_samples_split': 3, 'n_estimators': 18}\n"
     ]
    }
   ],
   "source": [
    "param_grid = {\n",
    "    'n_estimators': range(10,20,2),\n",
    "    'max_depth' : range(1,10),\n",
    "    'min_samples_split' : range(2,6),\n",
    "    'min_samples_leaf' : range(1,6)\n",
    "}\n",
    "\n",
    "grid_search = GridSearchCV(estimator = RandomForestClassifier(random_state = 123), \n",
    "                           param_grid = param_grid, \n",
    "                           scoring = 'f1', \n",
    "                           cv = 5,\n",
    "                           n_jobs = -1,\n",
    "                           verbose = 1)\n",
    "\n",
    "grid_search.fit(features_train_upsampled, target_train_upsampled)\n",
    "\n",
    "best_estimators = grid_search.best_params_['n_estimators']\n",
    "best_depth = grid_search.best_params_['max_depth']\n",
    "best_split = grid_search.best_params_['min_samples_split']\n",
    "best_leaf = grid_search.best_params_['min_samples_leaf']\n",
    "\n",
    "print('Best f1_score:', grid_search.best_score_)\n",
    "print('Best parameters:', grid_search.best_params_)"
   ]
  },
  {
   "cell_type": "code",
   "execution_count": 33,
   "metadata": {},
   "outputs": [
    {
     "name": "stdout",
     "output_type": "stream",
     "text": [
      "F1-мера: 0.6027088036117382\n"
     ]
    },
    {
     "data": {
      "image/png": "[encoded data removed]",
      "text/plain": [
       "<Figure size 576x576 with 1 Axes>"
      ]
     },
     "metadata": {
      "needs_background": "light"
     },
     "output_type": "display_data"
    }
   ],
   "source": [
    "model = RandomForestClassifier(n_estimators = best_estimators,\n",
    "                               max_depth = best_depth,\n",
    "                               min_samples_split = best_split,\n",
    "                               min_samples_leaf = best_leaf,\n",
    "                               random_state = 123) \n",
    "model.fit(features_train_upsampled, target_train_upsampled) \n",
    "predictions = model.predict(features_valid)\n",
    "\n",
    "f1 = f1_score(target_valid, predictions)\n",
    " \n",
    "print(\"F1-мера:\", f1)\n",
    "roc_auc_fig(model)"
   ]
  },
  {
   "cell_type": "markdown",
   "metadata": {},
   "source": [
    "4. Случайный лес - Уменьшенная выборка"
   ]
  },
  {
   "cell_type": "code",
   "execution_count": 34,
   "metadata": {
    "scrolled": false
   },
   "outputs": [
    {
     "name": "stdout",
     "output_type": "stream",
     "text": [
      "Fitting 5 folds for each of 900 candidates, totalling 4500 fits\n",
      "Best f1_score: 0.7610841526612542\n",
      "Best parameters: {'max_depth': 8, 'min_samples_leaf': 1, 'min_samples_split': 5, 'n_estimators': 16}\n"
     ]
    }
   ],
   "source": [
    "param_grid = {\n",
    "    'n_estimators': range(10,20,2),\n",
    "    'max_depth' : range(1,10),\n",
    "    'min_samples_split' : range(2,6),\n",
    "    'min_samples_leaf' : range(1,6)\n",
    "}\n",
    "\n",
    "grid_search = GridSearchCV(estimator = RandomForestClassifier(random_state = 123), \n",
    "                           param_grid = param_grid, \n",
    "                           scoring = 'f1', \n",
    "                           cv = 5,\n",
    "                           n_jobs = -1,\n",
    "                           verbose = 1)\n",
    "\n",
    "grid_search.fit(features_train_downsampled, target_train_downsampled)\n",
    "\n",
    "best_estimators = grid_search.best_params_['n_estimators']\n",
    "best_depth = grid_search.best_params_['max_depth']\n",
    "best_split = grid_search.best_params_['min_samples_split']\n",
    "best_leaf = grid_search.best_params_['min_samples_leaf']\n",
    "\n",
    "print('Best f1_score:', grid_search.best_score_)\n",
    "print('Best parameters:', grid_search.best_params_)"
   ]
  },
  {
   "cell_type": "code",
   "execution_count": 35,
   "metadata": {},
   "outputs": [
    {
     "name": "stdout",
     "output_type": "stream",
     "text": [
      "F1-мера: 0.5902293120638086\n"
     ]
    },
    {
     "data": {
      "image/png": "[encoded data removed]",
      "text/plain": [
       "<Figure size 576x576 with 1 Axes>"
      ]
     },
     "metadata": {
      "needs_background": "light"
     },
     "output_type": "display_data"
    }
   ],
   "source": [
    "model = RandomForestClassifier(n_estimators = best_estimators,\n",
    "                               max_depth = best_depth,\n",
    "                               min_samples_split = best_split,\n",
    "                               min_samples_leaf = best_leaf,\n",
    "                               random_state = 123) \n",
    "model.fit(features_train_downsampled, target_train_downsampled) \n",
    "predictions = model.predict(features_valid)\n",
    "\n",
    "f1 = f1_score(target_valid, predictions)\n",
    " \n",
    "print(\"F1-мера:\", f1)\n",
    "roc_auc_fig(model)"
   ]
  },
  {
   "cell_type": "markdown",
   "metadata": {},
   "source": [
    "###### Итоги:\n",
    "  1. Дерево решений - увеличенная выборка:\n",
    "- F1-мера = 0.4881693648816937\n",
    "- ROC-AUC = 0.68\n",
    "\n",
    "\n",
    "  2. Дерево решений - уменьшенная выборка:\n",
    "- F1-мера = 0.5637342908438061\n",
    "- ROC-AUC = 0.84\n",
    "\n",
    "\n",
    "  3. Случайный лес - увеличенная выборка:\n",
    "- F1-мера = 0.6027088036117382 (наилучший результат)\n",
    "- ROC-AUC = 0.86\n",
    "\n",
    "\n",
    "  4. Случайный лес - уменьшенная выборка:\n",
    "- F1-мера = 0.5772200772200772\n",
    "- ROC-AUC = 0.85\n",
    "\n",
    "Все модели хорошо показывают себя во время обучения, однако на валидационной выборки значения значительно проваливаются "
   ]
  },
  {
   "cell_type": "markdown",
   "metadata": {},
   "source": [
    "Рекомендация: как ещё одна возможная альтернатива - использовать SMOTE (статьи: https://imbalanced-learn.org/stable/references/generated/imblearn.over_sampling.SMOTE.html или https://habr.com/ru/articles/461285/) для увеличения выборки и RandomUnderSampler (статья: https://imbalanced-learn.org/stable/references/generated/imblearn.under_sampling.RandomUnderSampler.html) либо вместо (либо в дополнении) к функциям из тренажера."
   ]
  },
  {
   "cell_type": "markdown",
   "metadata": {},
   "source": [
    "## Тестирование модели"
   ]
  },
  {
   "cell_type": "markdown",
   "metadata": {},
   "source": [
    "Будем тестировать две лучшие модели которые превзошли заданный порог r1 меру в 0.59"
   ]
  },
  {
   "cell_type": "markdown",
   "metadata": {},
   "source": [
    "1. Случайный лес, взвешивание классов"
   ]
  },
  {
   "cell_type": "code",
   "execution_count": 39,
   "metadata": {},
   "outputs": [
    {
     "name": "stdout",
     "output_type": "stream",
     "text": [
      "f1_score: 0.6086956521739131\n"
     ]
    },
    {
     "data": {
      "image/png": "[encoded data removed]",
      "text/plain": [
       "<Figure size 576x576 with 1 Axes>"
      ]
     },
     "metadata": {
      "needs_background": "light"
     },
     "output_type": "display_data"
    }
   ],
   "source": [
    "model = RandomForestClassifier(n_estimators = 12,\n",
    "                                    max_depth = 8,\n",
    "                                    min_samples_leaf = 5, \n",
    "                                    min_samples_split = 2,\n",
    "                                    random_state=123,\n",
    "                                    class_weight='balanced')\n",
    "\n",
    "model.fit(features_train, target_train) \n",
    "predictions = model.predict(features_test)\n",
    "f1 = f1_score(target_test, predictions)\n",
    "\n",
    "print(\"f1_score:\", f1)\n",
    "roc_auc_fig(model)"
   ]
  },
  {
   "cell_type": "markdown",
   "metadata": {},
   "source": [
    "2. Случайный лес, увеличение выборки"
   ]
  },
  {
   "cell_type": "code",
   "execution_count": 38,
   "metadata": {},
   "outputs": [
    {
     "name": "stdout",
     "output_type": "stream",
     "text": [
      "f1_score: 0.6152125279642058\n"
     ]
    },
    {
     "data": {
      "image/png": "[encoded data removed]",
      "text/plain": [
       "<Figure size 576x576 with 1 Axes>"
      ]
     },
     "metadata": {
      "needs_background": "light"
     },
     "output_type": "display_data"
    }
   ],
   "source": [
    "model = RandomForestClassifier(n_estimators = 18,\n",
    "                               max_depth = 9,\n",
    "                               min_samples_split = 3,\n",
    "                               min_samples_leaf = 1,\n",
    "                               random_state = 123) \n",
    "model.fit(features_train_upsampled, target_train_upsampled) \n",
    "predictions = model.predict(features_test)\n",
    "\n",
    "f1 = f1_score(target_test, predictions)\n",
    " \n",
    "print(\"f1_score:\", f1)\n",
    "roc_auc_fig(model)"
   ]
  },
  {
   "cell_type": "markdown",
   "metadata": {},
   "source": [
    "###### Итоги:\n",
    "Лучшие две модели которые превышают заданую f1 меру в 0.59:\n",
    "    \n",
    "1. Случайный лес, взвешивание классов\n",
    "     - f1_score: 0.6086956521739131\n",
    "     - ROC-AUC: 0.85\n",
    "     \n",
    "     \n",
    "     \n",
    "2. Случайный лес, увеличение выборки\n",
    "     - f1_score: 0.6152125279642058\n",
    "     - ROC-AUC: 0.86\n",
    "         \n"
   ]
  },
  {
   "cell_type": "markdown",
   "metadata": {},
   "source": [
    "# Итог:\n",
    "    \n",
    "\n",
    "***Подготовка данных:***\n",
    "- Провели первичную обработку данных\n",
    "- Привели названия столбцов к норме\n",
    "- Проверили наличие дубликатов \n",
    "- Заменили пропущенные значения в столбце 'tenure'\n",
    "- Привели категориальные признаки к числовым значениям прямым кодированием\n",
    "- Разбили датасет на 3 выборки: тренировочную, валидационную, тестовую \n",
    "- Стандартизировали данные\n",
    "\n",
    "***Исследование задачи***\n",
    "  1. С помощью функции GridSearchCV выявили лучшую модель для дерева решений, обучили модель на лучших параметрах и проверили ее на валидационной выборке:\n",
    "- F1-мера = 0.5492730210016155\n",
    "- ROC-AUC = 0.85\n",
    "\n",
    "\n",
    "  2. С помощью функции GridSearchCV выявили лучшую модель для случайного леса, обучили модель на лучших параметрах и проверили ее на валидационной выборке:\n",
    "- F1-мера = 0.5589660743134087\n",
    "- ROC-AUC = 0.85\n",
    "\n",
    "\n",
    "***Взвешивание классов***\n",
    "\n",
    "  1. С помощью функции GridSearchCV и взвешивании классов выявили лучшую модель для дерева решений, обучили модель на лучших параметрах и проверили ее на валидационной выборке:\n",
    "- F1-мера = 0.5639589169000933\n",
    "- ROC-AUC = 0.84\n",
    "\n",
    "\n",
    "  2. С помощью функции GridSearchCV и взвешивании классов выявили лучшую модель для случайного леса, обучили модель на лучших параметрах и проверили ее на валидационной выборке:\n",
    "- F1-мера = 0.5986984815618221  \n",
    "- ROC-AUC = 0.85\n",
    "\n",
    "***Увеличение и уменьшение выборки***\n",
    "\n",
    "С помощью увеличения и уменьшения выборок, провели анализ данных:\n",
    "\n",
    "  1. Дерево решений - увеличенная выборка:\n",
    "- F1-мера = 0.4881693648816937\n",
    "- ROC-AUC = 0.68\n",
    "\n",
    "\n",
    "  2. Дерево решений - уменьшенная выборка:\n",
    "- F1-мера = 0.5637342908438061\n",
    "- ROC-AUC = 0.84\n",
    "\n",
    "\n",
    "  3. Случайный лес - увеличенная выборка:\n",
    "- F1-мера = 0.6027088036117382 (наилучший результат)\n",
    "- ROC-AUC = 0.86\n",
    "\n",
    "\n",
    "  4. Случайный лес - уменьшенная выборка:\n",
    "- F1-мера = 0.5772200772200772\n",
    "- ROC-AUC = 0.85\n",
    "\n",
    "Все модели хорошо показывают себя во время обучения, однако на валидационной выборки значения значительно проваливаются\n",
    "\n",
    "\n",
    "\n",
    "****Тестирование****\n",
    "\n",
    "Лучшие две модели по прошлому анализу которые превышают заданую f1 меру в 0.59 прогнали через тестовые выборки и получили такие результаты:\n",
    "    \n",
    "- ***Случайный лес, взвешивание классов***\n",
    "     - f1_score: 0.6086956521739131\n",
    "     - ROC-AUC: 0.85\n",
    "     \n",
    "     \n",
    "     \n",
    "- ***Случайный лес, увеличение выборки***\n",
    "     - f1_score: 0.6152125279642058\n",
    "     - ROC-AUC: 0.86\n",
    "         \n",
    "Наилучшая модель = Случайный лес с параметрами: 'n_estimators' = 18, 'max_depth' = 9, 'min_samples_split' = 3, 'min_samples_leaf' = 1) и увеличенной выборкой."
   ]
  }
 ],
 "metadata": {
  "ExecuteTimeLog": [
   {
    "duration": 50,
    "start_time": "2023-05-02T10:31:48.741Z"
   },
   {
    "duration": 1252,
    "start_time": "2023-05-02T10:31:50.222Z"
   },
   {
    "duration": 68,
    "start_time": "2023-05-02T10:31:51.942Z"
   },
   {
    "duration": 68,
    "start_time": "2023-05-02T10:31:53.512Z"
   },
   {
    "duration": 77,
    "start_time": "2023-05-02T10:32:13.150Z"
   },
   {
    "duration": 31,
    "start_time": "2023-05-02T10:32:14.397Z"
   },
   {
    "duration": 13,
    "start_time": "2023-05-02T10:32:21.249Z"
   },
   {
    "duration": 52,
    "start_time": "2023-05-02T10:32:23.386Z"
   },
   {
    "duration": 19,
    "start_time": "2023-05-02T10:33:40.239Z"
   },
   {
    "duration": 206,
    "start_time": "2023-05-02T10:37:18.194Z"
   },
   {
    "duration": 24,
    "start_time": "2023-05-02T10:37:25.481Z"
   },
   {
    "duration": 23,
    "start_time": "2023-05-02T10:42:25.416Z"
   },
   {
    "duration": 22,
    "start_time": "2023-05-02T10:42:29.334Z"
   },
   {
    "duration": 25,
    "start_time": "2023-05-02T10:42:41.011Z"
   },
   {
    "duration": 42,
    "start_time": "2023-05-02T10:43:54.285Z"
   },
   {
    "duration": 118,
    "start_time": "2023-05-02T10:44:01.424Z"
   },
   {
    "duration": 25,
    "start_time": "2023-05-02T10:45:15.149Z"
   },
   {
    "duration": 23,
    "start_time": "2023-05-02T10:45:23.380Z"
   },
   {
    "duration": 1104,
    "start_time": "2023-05-02T10:45:31.530Z"
   },
   {
    "duration": 64,
    "start_time": "2023-05-02T10:45:32.636Z"
   },
   {
    "duration": 14,
    "start_time": "2023-05-02T10:45:32.701Z"
   },
   {
    "duration": 48,
    "start_time": "2023-05-02T10:45:32.717Z"
   },
   {
    "duration": 45,
    "start_time": "2023-05-02T10:45:32.768Z"
   },
   {
    "duration": 24,
    "start_time": "2023-05-02T10:45:44.627Z"
   },
   {
    "duration": 1133,
    "start_time": "2023-05-02T10:45:51.018Z"
   },
   {
    "duration": 62,
    "start_time": "2023-05-02T10:45:52.153Z"
   },
   {
    "duration": 15,
    "start_time": "2023-05-02T10:45:52.216Z"
   },
   {
    "duration": 27,
    "start_time": "2023-05-02T10:45:52.233Z"
   },
   {
    "duration": 55,
    "start_time": "2023-05-02T10:45:52.262Z"
   },
   {
    "duration": 27,
    "start_time": "2023-05-02T10:46:11.240Z"
   },
   {
    "duration": 1207,
    "start_time": "2023-05-02T10:46:16.177Z"
   },
   {
    "duration": 64,
    "start_time": "2023-05-02T10:46:17.386Z"
   },
   {
    "duration": 16,
    "start_time": "2023-05-02T10:46:17.453Z"
   },
   {
    "duration": 28,
    "start_time": "2023-05-02T10:46:17.472Z"
   },
   {
    "duration": 45,
    "start_time": "2023-05-02T10:46:17.502Z"
   },
   {
    "duration": 14,
    "start_time": "2023-05-02T10:50:27.678Z"
   },
   {
    "duration": 12,
    "start_time": "2023-05-02T10:50:46.844Z"
   },
   {
    "duration": 8,
    "start_time": "2023-05-02T10:50:49.491Z"
   },
   {
    "duration": 8,
    "start_time": "2023-05-02T10:52:10.089Z"
   },
   {
    "duration": 111,
    "start_time": "2023-05-02T10:54:23.679Z"
   },
   {
    "duration": 10,
    "start_time": "2023-05-02T10:54:42.084Z"
   },
   {
    "duration": 6,
    "start_time": "2023-05-02T10:54:47.930Z"
   },
   {
    "duration": 24,
    "start_time": "2023-05-02T10:55:45.283Z"
   },
   {
    "duration": 6,
    "start_time": "2023-05-02T11:02:14.819Z"
   },
   {
    "duration": 8,
    "start_time": "2023-05-02T11:02:44.688Z"
   },
   {
    "duration": 8,
    "start_time": "2023-05-02T11:02:53.223Z"
   },
   {
    "duration": 6,
    "start_time": "2023-05-02T11:04:28.478Z"
   },
   {
    "duration": 8,
    "start_time": "2023-05-02T11:04:48.920Z"
   },
   {
    "duration": 8,
    "start_time": "2023-05-02T11:05:04.275Z"
   },
   {
    "duration": 10,
    "start_time": "2023-05-02T11:05:09.921Z"
   },
   {
    "duration": 11,
    "start_time": "2023-05-02T11:05:22.215Z"
   },
   {
    "duration": 7,
    "start_time": "2023-05-02T11:05:52.045Z"
   },
   {
    "duration": 8,
    "start_time": "2023-05-02T11:06:08.001Z"
   },
   {
    "duration": 6,
    "start_time": "2023-05-02T11:06:20.110Z"
   },
   {
    "duration": 7,
    "start_time": "2023-05-02T11:06:32.315Z"
   },
   {
    "duration": 6,
    "start_time": "2023-05-02T11:06:37.579Z"
   },
   {
    "duration": 7,
    "start_time": "2023-05-02T11:06:46.586Z"
   },
   {
    "duration": 8,
    "start_time": "2023-05-02T11:06:53.645Z"
   },
   {
    "duration": 5,
    "start_time": "2023-05-02T11:12:46.527Z"
   },
   {
    "duration": 8,
    "start_time": "2023-05-02T11:14:01.709Z"
   },
   {
    "duration": 7,
    "start_time": "2023-05-02T11:14:06.251Z"
   },
   {
    "duration": 7,
    "start_time": "2023-05-02T11:14:17.133Z"
   },
   {
    "duration": 12,
    "start_time": "2023-05-02T11:14:36.829Z"
   },
   {
    "duration": 6,
    "start_time": "2023-05-02T11:14:39.760Z"
   },
   {
    "duration": 71,
    "start_time": "2023-05-02T11:18:22.859Z"
   },
   {
    "duration": 10,
    "start_time": "2023-05-02T11:18:28.009Z"
   },
   {
    "duration": 11,
    "start_time": "2023-05-02T11:18:46.739Z"
   },
   {
    "duration": 9,
    "start_time": "2023-05-02T11:18:49.621Z"
   },
   {
    "duration": 7,
    "start_time": "2023-05-02T11:18:55.611Z"
   },
   {
    "duration": 8,
    "start_time": "2023-05-02T11:18:57.542Z"
   },
   {
    "duration": 6,
    "start_time": "2023-05-02T11:18:59.274Z"
   },
   {
    "duration": 7,
    "start_time": "2023-05-02T11:27:07.373Z"
   },
   {
    "duration": 4,
    "start_time": "2023-05-02T11:27:27.815Z"
   },
   {
    "duration": 13,
    "start_time": "2023-05-02T11:27:44.321Z"
   },
   {
    "duration": 14,
    "start_time": "2023-05-02T11:28:05.220Z"
   },
   {
    "duration": 7,
    "start_time": "2023-05-02T11:28:12.658Z"
   },
   {
    "duration": 12,
    "start_time": "2023-05-02T11:28:17.423Z"
   },
   {
    "duration": 12,
    "start_time": "2023-05-02T11:28:19.537Z"
   },
   {
    "duration": 7,
    "start_time": "2023-05-02T11:28:28.757Z"
   },
   {
    "duration": 7,
    "start_time": "2023-05-02T11:28:37.814Z"
   },
   {
    "duration": 10,
    "start_time": "2023-05-02T11:29:49.217Z"
   },
   {
    "duration": 8,
    "start_time": "2023-05-02T11:29:54.783Z"
   },
   {
    "duration": 8,
    "start_time": "2023-05-02T11:37:56.507Z"
   },
   {
    "duration": 8,
    "start_time": "2023-05-02T11:38:05.616Z"
   },
   {
    "duration": 1287,
    "start_time": "2023-05-02T11:38:15.412Z"
   },
   {
    "duration": 71,
    "start_time": "2023-05-02T11:38:16.702Z"
   },
   {
    "duration": 18,
    "start_time": "2023-05-02T11:38:16.776Z"
   },
   {
    "duration": 27,
    "start_time": "2023-05-02T11:38:16.797Z"
   },
   {
    "duration": 53,
    "start_time": "2023-05-02T11:38:16.828Z"
   },
   {
    "duration": 13,
    "start_time": "2023-05-02T11:38:16.883Z"
   },
   {
    "duration": 9,
    "start_time": "2023-05-02T11:38:16.898Z"
   },
   {
    "duration": 14,
    "start_time": "2023-05-02T11:38:16.909Z"
   },
   {
    "duration": 9,
    "start_time": "2023-05-02T11:38:16.925Z"
   },
   {
    "duration": 9,
    "start_time": "2023-05-02T11:38:16.936Z"
   },
   {
    "duration": 9,
    "start_time": "2023-05-02T11:39:15.662Z"
   },
   {
    "duration": 9,
    "start_time": "2023-05-02T11:39:19.254Z"
   },
   {
    "duration": 1189,
    "start_time": "2023-05-02T11:39:45.722Z"
   },
   {
    "duration": 62,
    "start_time": "2023-05-02T11:39:46.914Z"
   },
   {
    "duration": 14,
    "start_time": "2023-05-02T11:39:46.978Z"
   },
   {
    "duration": 25,
    "start_time": "2023-05-02T11:39:46.994Z"
   },
   {
    "duration": 17,
    "start_time": "2023-05-02T11:39:47.021Z"
   },
   {
    "duration": 8,
    "start_time": "2023-05-02T11:39:47.040Z"
   },
   {
    "duration": 14,
    "start_time": "2023-05-02T11:39:47.050Z"
   },
   {
    "duration": 28,
    "start_time": "2023-05-02T11:39:47.065Z"
   },
   {
    "duration": 7,
    "start_time": "2023-05-02T11:39:47.095Z"
   },
   {
    "duration": 8,
    "start_time": "2023-05-02T11:39:47.105Z"
   },
   {
    "duration": 58,
    "start_time": "2023-05-02T11:51:52.132Z"
   },
   {
    "duration": 93,
    "start_time": "2023-05-04T09:56:58.435Z"
   },
   {
    "duration": 9,
    "start_time": "2023-05-04T09:57:00.671Z"
   },
   {
    "duration": 1494,
    "start_time": "2023-05-04T09:57:05.212Z"
   },
   {
    "duration": 277,
    "start_time": "2023-05-04T09:57:06.712Z"
   },
   {
    "duration": 19,
    "start_time": "2023-05-04T09:57:06.992Z"
   },
   {
    "duration": 46,
    "start_time": "2023-05-04T09:57:07.013Z"
   },
   {
    "duration": 26,
    "start_time": "2023-05-04T09:57:07.062Z"
   },
   {
    "duration": 11,
    "start_time": "2023-05-04T09:57:07.091Z"
   },
   {
    "duration": 10,
    "start_time": "2023-05-04T09:57:07.104Z"
   },
   {
    "duration": 53,
    "start_time": "2023-05-04T09:57:07.116Z"
   },
   {
    "duration": 11,
    "start_time": "2023-05-04T09:57:07.172Z"
   },
   {
    "duration": 20,
    "start_time": "2023-05-04T09:57:07.186Z"
   },
   {
    "duration": 27,
    "start_time": "2023-05-04T09:57:07.209Z"
   },
   {
    "duration": 39,
    "start_time": "2023-05-04T09:57:35.220Z"
   },
   {
    "duration": 37,
    "start_time": "2023-05-04T10:16:12.698Z"
   },
   {
    "duration": 48,
    "start_time": "2023-05-04T10:17:33.258Z"
   },
   {
    "duration": 37,
    "start_time": "2023-05-04T10:18:13.400Z"
   },
   {
    "duration": 28,
    "start_time": "2023-05-04T10:36:12.004Z"
   },
   {
    "duration": 14,
    "start_time": "2023-05-04T10:36:31.043Z"
   },
   {
    "duration": 8,
    "start_time": "2023-05-04T10:36:34.564Z"
   },
   {
    "duration": 18,
    "start_time": "2023-05-04T10:36:51.242Z"
   },
   {
    "duration": 15,
    "start_time": "2023-05-04T10:37:18.413Z"
   },
   {
    "duration": 111,
    "start_time": "2023-05-04T10:37:36.104Z"
   },
   {
    "duration": 78,
    "start_time": "2023-05-04T10:37:38.758Z"
   },
   {
    "duration": 31,
    "start_time": "2023-05-04T10:37:41.754Z"
   },
   {
    "duration": 112,
    "start_time": "2023-05-04T10:41:40.066Z"
   },
   {
    "duration": 16,
    "start_time": "2023-05-04T10:42:00.934Z"
   },
   {
    "duration": 12,
    "start_time": "2023-05-04T10:42:12.606Z"
   },
   {
    "duration": 11,
    "start_time": "2023-05-04T10:44:45.863Z"
   },
   {
    "duration": 10,
    "start_time": "2023-05-04T10:46:10.202Z"
   },
   {
    "duration": 4,
    "start_time": "2023-05-04T10:46:11.728Z"
   },
   {
    "duration": 6,
    "start_time": "2023-05-04T10:46:25.248Z"
   },
   {
    "duration": 5,
    "start_time": "2023-05-04T10:47:00.263Z"
   },
   {
    "duration": 5,
    "start_time": "2023-05-04T10:47:22.039Z"
   },
   {
    "duration": 8,
    "start_time": "2023-05-04T10:48:16.031Z"
   },
   {
    "duration": 5,
    "start_time": "2023-05-04T10:48:38.629Z"
   },
   {
    "duration": 4,
    "start_time": "2023-05-04T10:48:47.318Z"
   },
   {
    "duration": 6,
    "start_time": "2023-05-04T10:49:15.525Z"
   },
   {
    "duration": 5,
    "start_time": "2023-05-04T10:49:19.258Z"
   },
   {
    "duration": 116,
    "start_time": "2023-05-04T10:59:57.281Z"
   },
   {
    "duration": 12,
    "start_time": "2023-05-04T11:05:20.197Z"
   },
   {
    "duration": 4,
    "start_time": "2023-05-04T11:05:34.499Z"
   },
   {
    "duration": 10,
    "start_time": "2023-05-04T11:05:39.602Z"
   },
   {
    "duration": 28,
    "start_time": "2023-05-04T11:06:03.104Z"
   },
   {
    "duration": 25,
    "start_time": "2023-05-04T11:06:34.794Z"
   },
   {
    "duration": 25,
    "start_time": "2023-05-04T11:06:39.124Z"
   },
   {
    "duration": 25,
    "start_time": "2023-05-04T11:33:54.588Z"
   },
   {
    "duration": 105,
    "start_time": "2023-05-04T11:59:32.408Z"
   },
   {
    "duration": 116,
    "start_time": "2023-05-04T12:06:09.336Z"
   },
   {
    "duration": 800,
    "start_time": "2023-05-04T12:06:33.702Z"
   },
   {
    "duration": 12,
    "start_time": "2023-05-04T12:06:50.602Z"
   },
   {
    "duration": 101,
    "start_time": "2023-05-04T12:07:15.324Z"
   },
   {
    "duration": 5,
    "start_time": "2023-05-04T12:07:28.886Z"
   },
   {
    "duration": 19,
    "start_time": "2023-05-04T12:46:17.203Z"
   },
   {
    "duration": 4129,
    "start_time": "2023-05-04T12:47:41.582Z"
   },
   {
    "duration": 49466,
    "start_time": "2023-05-04T12:48:32.684Z"
   },
   {
    "duration": 85,
    "start_time": "2023-05-04T12:51:06.953Z"
   },
   {
    "duration": 49029,
    "start_time": "2023-05-04T12:51:19.651Z"
   },
   {
    "duration": 86,
    "start_time": "2023-05-04T12:58:17.742Z"
   },
   {
    "duration": 35,
    "start_time": "2023-05-04T12:58:23.441Z"
   },
   {
    "duration": 30,
    "start_time": "2023-05-04T12:58:31.526Z"
   },
   {
    "duration": 17,
    "start_time": "2023-05-04T13:00:07.821Z"
   },
   {
    "duration": 20,
    "start_time": "2023-05-04T13:01:19.000Z"
   },
   {
    "duration": 4,
    "start_time": "2023-05-04T13:01:25.087Z"
   },
   {
    "duration": 20,
    "start_time": "2023-05-04T13:01:29.470Z"
   },
   {
    "duration": 656,
    "start_time": "2023-05-04T13:01:45.525Z"
   },
   {
    "duration": 179,
    "start_time": "2023-05-04T13:01:54.200Z"
   },
   {
    "duration": 271,
    "start_time": "2023-05-04T13:07:35.823Z"
   },
   {
    "duration": 73,
    "start_time": "2023-05-04T13:08:48.319Z"
   },
   {
    "duration": 43,
    "start_time": "2023-05-04T13:16:08.182Z"
   },
   {
    "duration": 1674205,
    "start_time": "2023-05-04T13:16:37.687Z"
   },
   {
    "duration": 86,
    "start_time": "2023-05-04T13:45:26.420Z"
   },
   {
    "duration": 112,
    "start_time": "2023-05-04T13:47:59.960Z"
   },
   {
    "duration": 104,
    "start_time": "2023-05-04T13:48:08.859Z"
   },
   {
    "duration": 71,
    "start_time": "2023-05-04T13:48:17.035Z"
   },
   {
    "duration": 20,
    "start_time": "2023-05-04T13:48:26.494Z"
   },
   {
    "duration": 12,
    "start_time": "2023-05-04T13:48:33.178Z"
   },
   {
    "duration": 6622,
    "start_time": "2023-05-04T13:48:40.440Z"
   },
   {
    "duration": 133690,
    "start_time": "2023-05-04T13:48:50.671Z"
   },
   {
    "duration": 54731,
    "start_time": "2023-05-04T13:51:07.370Z"
   },
   {
    "duration": 1830,
    "start_time": "2023-05-05T05:15:08.642Z"
   },
   {
    "duration": 226,
    "start_time": "2023-05-05T05:15:10.475Z"
   },
   {
    "duration": 20,
    "start_time": "2023-05-05T05:15:10.703Z"
   },
   {
    "duration": 88,
    "start_time": "2023-05-05T05:15:10.725Z"
   },
   {
    "duration": 42,
    "start_time": "2023-05-05T05:15:10.816Z"
   },
   {
    "duration": 67,
    "start_time": "2023-05-05T05:15:10.860Z"
   },
   {
    "duration": 24,
    "start_time": "2023-05-05T05:15:10.929Z"
   },
   {
    "duration": 21,
    "start_time": "2023-05-05T05:15:10.955Z"
   },
   {
    "duration": 76,
    "start_time": "2023-05-05T05:15:10.978Z"
   },
   {
    "duration": 30,
    "start_time": "2023-05-05T05:15:11.056Z"
   },
   {
    "duration": 72,
    "start_time": "2023-05-05T05:15:11.089Z"
   },
   {
    "duration": 99,
    "start_time": "2023-05-05T05:15:11.163Z"
   },
   {
    "duration": 73,
    "start_time": "2023-05-05T05:15:11.264Z"
   },
   {
    "duration": 44,
    "start_time": "2023-05-05T05:15:11.340Z"
   },
   {
    "duration": 87,
    "start_time": "2023-05-05T05:15:11.386Z"
   },
   {
    "duration": 44,
    "start_time": "2023-05-05T05:15:11.475Z"
   },
   {
    "duration": 51999,
    "start_time": "2023-05-05T05:15:11.522Z"
   },
   {
    "duration": 225,
    "start_time": "2023-05-05T05:16:03.523Z"
   },
   {
    "duration": 394656,
    "start_time": "2023-05-05T05:16:03.750Z"
   },
   {
    "duration": 279216,
    "start_time": "2023-05-05T05:24:24.572Z"
   },
   {
    "duration": 11094,
    "start_time": "2023-05-05T05:29:07.759Z"
   },
   {
    "duration": 27245,
    "start_time": "2023-05-05T05:29:24.315Z"
   },
   {
    "duration": 16,
    "start_time": "2023-05-05T05:30:21.445Z"
   },
   {
    "duration": 46,
    "start_time": "2023-05-05T05:31:15.944Z"
   },
   {
    "duration": 6815,
    "start_time": "2023-05-05T05:31:45.721Z"
   },
   {
    "duration": 0,
    "start_time": "2023-05-05T05:32:28.730Z"
   },
   {
    "duration": 263418,
    "start_time": "2023-05-05T05:32:30.092Z"
   },
   {
    "duration": 14,
    "start_time": "2023-05-05T05:44:12.730Z"
   },
   {
    "duration": 14,
    "start_time": "2023-05-05T05:44:33.145Z"
   },
   {
    "duration": 304,
    "start_time": "2023-05-05T05:46:35.443Z"
   },
   {
    "duration": 120,
    "start_time": "2023-05-05T06:04:41.456Z"
   },
   {
    "duration": 152,
    "start_time": "2023-05-05T06:04:52.148Z"
   },
   {
    "duration": 110,
    "start_time": "2023-05-05T06:05:04.199Z"
   },
   {
    "duration": 46119,
    "start_time": "2023-05-05T06:19:36.618Z"
   },
   {
    "duration": 161,
    "start_time": "2023-05-05T06:20:47.142Z"
   },
   {
    "duration": 241121,
    "start_time": "2023-05-05T06:22:41.715Z"
   },
   {
    "duration": 267,
    "start_time": "2023-05-05T06:29:23.373Z"
   },
   {
    "duration": 12,
    "start_time": "2023-05-05T07:02:16.699Z"
   },
   {
    "duration": 4,
    "start_time": "2023-05-05T07:02:24.224Z"
   },
   {
    "duration": 12,
    "start_time": "2023-05-05T07:02:30.778Z"
   },
   {
    "duration": 16,
    "start_time": "2023-05-05T07:23:11.427Z"
   },
   {
    "duration": 26,
    "start_time": "2023-05-05T07:23:45.992Z"
   },
   {
    "duration": 95,
    "start_time": "2023-05-05T07:23:48.343Z"
   },
   {
    "duration": 25,
    "start_time": "2023-05-05T07:24:06.063Z"
   },
   {
    "duration": 25,
    "start_time": "2023-05-05T07:24:17.396Z"
   },
   {
    "duration": 21,
    "start_time": "2023-05-05T07:24:27.876Z"
   },
   {
    "duration": 16,
    "start_time": "2023-05-05T07:27:22.093Z"
   },
   {
    "duration": 20,
    "start_time": "2023-05-05T07:27:39.742Z"
   },
   {
    "duration": 18,
    "start_time": "2023-05-05T07:29:42.825Z"
   },
   {
    "duration": 21,
    "start_time": "2023-05-05T07:31:20.661Z"
   },
   {
    "duration": 4,
    "start_time": "2023-05-05T07:33:53.659Z"
   },
   {
    "duration": 15,
    "start_time": "2023-05-05T07:40:07.392Z"
   },
   {
    "duration": 15,
    "start_time": "2023-05-05T07:40:09.281Z"
   },
   {
    "duration": 17,
    "start_time": "2023-05-05T07:41:24.925Z"
   },
   {
    "duration": 16,
    "start_time": "2023-05-05T07:41:27.090Z"
   },
   {
    "duration": 16,
    "start_time": "2023-05-05T07:48:18.805Z"
   },
   {
    "duration": 57283,
    "start_time": "2023-05-05T07:50:10.077Z"
   },
   {
    "duration": 203,
    "start_time": "2023-05-05T07:53:42.544Z"
   },
   {
    "duration": 23257,
    "start_time": "2023-05-05T07:55:26.609Z"
   },
   {
    "duration": 170,
    "start_time": "2023-05-05T07:55:54.168Z"
   },
   {
    "duration": 112,
    "start_time": "2023-05-05T07:57:27.465Z"
   },
   {
    "duration": 162376,
    "start_time": "2023-05-05T08:05:41.377Z"
   },
   {
    "duration": 239,
    "start_time": "2023-05-05T08:08:26.962Z"
   },
   {
    "duration": 165291,
    "start_time": "2023-05-05T08:08:36.175Z"
   },
   {
    "duration": 232,
    "start_time": "2023-05-05T08:13:51.228Z"
   },
   {
    "duration": 314518,
    "start_time": "2023-05-05T08:17:34.774Z"
   },
   {
    "duration": 284,
    "start_time": "2023-05-05T08:24:29.168Z"
   },
   {
    "duration": 1858,
    "start_time": "2023-05-05T08:33:47.268Z"
   },
   {
    "duration": 60,
    "start_time": "2023-05-05T08:33:49.128Z"
   },
   {
    "duration": 14,
    "start_time": "2023-05-05T08:33:49.189Z"
   },
   {
    "duration": 44,
    "start_time": "2023-05-05T08:33:49.205Z"
   },
   {
    "duration": 30,
    "start_time": "2023-05-05T08:33:49.251Z"
   },
   {
    "duration": 25,
    "start_time": "2023-05-05T08:33:49.283Z"
   },
   {
    "duration": 15,
    "start_time": "2023-05-05T08:33:49.310Z"
   },
   {
    "duration": 37,
    "start_time": "2023-05-05T08:33:49.327Z"
   },
   {
    "duration": 28,
    "start_time": "2023-05-05T08:33:49.366Z"
   },
   {
    "duration": 33,
    "start_time": "2023-05-05T08:33:49.396Z"
   },
   {
    "duration": 36,
    "start_time": "2023-05-05T08:33:49.430Z"
   },
   {
    "duration": 45,
    "start_time": "2023-05-05T08:33:49.467Z"
   },
   {
    "duration": 9,
    "start_time": "2023-05-05T08:33:49.514Z"
   },
   {
    "duration": 22,
    "start_time": "2023-05-05T08:33:49.524Z"
   },
   {
    "duration": 45,
    "start_time": "2023-05-05T08:33:49.547Z"
   },
   {
    "duration": 20,
    "start_time": "2023-05-05T08:33:49.594Z"
   },
   {
    "duration": 45055,
    "start_time": "2023-05-05T08:33:49.615Z"
   },
   {
    "duration": 227,
    "start_time": "2023-05-05T08:34:34.672Z"
   },
   {
    "duration": 251122,
    "start_time": "2023-05-05T08:34:34.902Z"
   },
   {
    "duration": 220,
    "start_time": "2023-05-05T08:38:46.026Z"
   },
   {
    "duration": 136,
    "start_time": "2023-05-05T08:38:46.248Z"
   },
   {
    "duration": 47479,
    "start_time": "2023-05-05T08:38:46.386Z"
   },
   {
    "duration": 194,
    "start_time": "2023-05-05T08:39:33.866Z"
   },
   {
    "duration": 97,
    "start_time": "2023-05-05T08:39:34.062Z"
   },
   {
    "duration": 1,
    "start_time": "2023-05-05T08:39:34.160Z"
   },
   {
    "duration": 0,
    "start_time": "2023-05-05T08:39:34.161Z"
   },
   {
    "duration": 0,
    "start_time": "2023-05-05T08:39:34.162Z"
   },
   {
    "duration": 0,
    "start_time": "2023-05-05T08:39:34.164Z"
   },
   {
    "duration": 0,
    "start_time": "2023-05-05T08:39:34.166Z"
   },
   {
    "duration": 0,
    "start_time": "2023-05-05T08:39:34.168Z"
   },
   {
    "duration": 0,
    "start_time": "2023-05-05T08:39:34.169Z"
   },
   {
    "duration": 0,
    "start_time": "2023-05-05T08:39:34.170Z"
   },
   {
    "duration": 0,
    "start_time": "2023-05-05T08:39:34.172Z"
   },
   {
    "duration": 0,
    "start_time": "2023-05-05T08:39:34.173Z"
   },
   {
    "duration": 0,
    "start_time": "2023-05-05T08:39:34.175Z"
   },
   {
    "duration": 0,
    "start_time": "2023-05-05T08:39:34.176Z"
   },
   {
    "duration": 1,
    "start_time": "2023-05-05T08:39:34.177Z"
   },
   {
    "duration": 0,
    "start_time": "2023-05-05T08:39:34.179Z"
   },
   {
    "duration": 0,
    "start_time": "2023-05-05T08:39:34.180Z"
   },
   {
    "duration": 251981,
    "start_time": "2023-05-05T08:41:38.276Z"
   },
   {
    "duration": 307,
    "start_time": "2023-05-05T08:45:50.260Z"
   },
   {
    "duration": 19,
    "start_time": "2023-05-05T08:45:50.568Z"
   },
   {
    "duration": 49,
    "start_time": "2023-05-05T08:45:50.590Z"
   },
   {
    "duration": 58064,
    "start_time": "2023-05-05T08:45:50.642Z"
   },
   {
    "duration": 208,
    "start_time": "2023-05-05T08:46:48.708Z"
   },
   {
    "duration": 22660,
    "start_time": "2023-05-05T08:46:48.918Z"
   },
   {
    "duration": 209,
    "start_time": "2023-05-05T08:47:11.585Z"
   },
   {
    "duration": 317765,
    "start_time": "2023-05-05T08:47:11.797Z"
   },
   {
    "duration": 325,
    "start_time": "2023-05-05T08:52:29.565Z"
   },
   {
    "duration": 11536,
    "start_time": "2023-05-05T08:52:29.892Z"
   },
   {
    "duration": 0,
    "start_time": "2023-05-05T08:52:41.430Z"
   },
   {
    "duration": 19,
    "start_time": "2023-05-05T09:01:37.113Z"
   },
   {
    "duration": 24,
    "start_time": "2023-05-05T09:02:20.479Z"
   },
   {
    "duration": 120,
    "start_time": "2023-05-05T09:03:54.082Z"
   },
   {
    "duration": 127,
    "start_time": "2023-05-05T09:03:55.962Z"
   },
   {
    "duration": 126,
    "start_time": "2023-05-05T09:04:01.436Z"
   },
   {
    "duration": 127,
    "start_time": "2023-05-05T09:05:27.031Z"
   },
   {
    "duration": 116,
    "start_time": "2023-05-05T09:06:30.069Z"
   },
   {
    "duration": 181,
    "start_time": "2023-05-05T09:07:03.857Z"
   },
   {
    "duration": 110,
    "start_time": "2023-05-05T09:07:17.025Z"
   },
   {
    "duration": 111,
    "start_time": "2023-05-05T09:07:40.804Z"
   },
   {
    "duration": 110,
    "start_time": "2023-05-05T09:07:54.591Z"
   },
   {
    "duration": 33,
    "start_time": "2023-05-05T09:09:25.839Z"
   },
   {
    "duration": 35,
    "start_time": "2023-05-05T09:09:33.950Z"
   },
   {
    "duration": 133,
    "start_time": "2023-05-05T09:09:48.879Z"
   },
   {
    "duration": 110,
    "start_time": "2023-05-05T09:09:57.552Z"
   },
   {
    "duration": 132,
    "start_time": "2023-05-05T09:09:59.752Z"
   },
   {
    "duration": 113,
    "start_time": "2023-05-05T09:10:21.577Z"
   },
   {
    "duration": 154,
    "start_time": "2023-05-05T09:10:42.585Z"
   },
   {
    "duration": 263,
    "start_time": "2023-05-05T09:10:51.923Z"
   },
   {
    "duration": 322,
    "start_time": "2023-05-05T09:14:42.320Z"
   },
   {
    "duration": 362,
    "start_time": "2023-05-05T09:16:06.078Z"
   },
   {
    "duration": 298,
    "start_time": "2023-05-05T09:17:01.969Z"
   },
   {
    "duration": 392,
    "start_time": "2023-05-05T09:17:14.251Z"
   },
   {
    "duration": 264,
    "start_time": "2023-05-05T09:17:20.206Z"
   },
   {
    "duration": 4261,
    "start_time": "2023-05-05T10:31:23.235Z"
   },
   {
    "duration": 112,
    "start_time": "2023-05-05T10:31:27.498Z"
   },
   {
    "duration": 19,
    "start_time": "2023-05-05T10:31:27.612Z"
   },
   {
    "duration": 39,
    "start_time": "2023-05-05T10:31:27.688Z"
   },
   {
    "duration": 23,
    "start_time": "2023-05-05T10:31:27.789Z"
   },
   {
    "duration": 12,
    "start_time": "2023-05-05T10:31:27.814Z"
   },
   {
    "duration": 68,
    "start_time": "2023-05-05T10:31:27.829Z"
   },
   {
    "duration": 12,
    "start_time": "2023-05-05T10:31:27.916Z"
   },
   {
    "duration": 66,
    "start_time": "2023-05-05T10:31:27.936Z"
   },
   {
    "duration": 16,
    "start_time": "2023-05-05T10:31:28.005Z"
   },
   {
    "duration": 90,
    "start_time": "2023-05-05T10:31:28.024Z"
   },
   {
    "duration": 99,
    "start_time": "2023-05-05T10:31:28.117Z"
   },
   {
    "duration": 14,
    "start_time": "2023-05-05T10:31:28.218Z"
   },
   {
    "duration": 8,
    "start_time": "2023-05-05T10:31:28.294Z"
   },
   {
    "duration": 108,
    "start_time": "2023-05-05T10:31:28.304Z"
   },
   {
    "duration": 6,
    "start_time": "2023-05-05T10:31:28.415Z"
   },
   {
    "duration": 135893,
    "start_time": "2023-05-05T10:31:28.423Z"
   },
   {
    "duration": 516,
    "start_time": "2023-05-05T10:33:44.320Z"
   },
   {
    "duration": 301816,
    "start_time": "2023-05-05T10:33:44.838Z"
   },
   {
    "duration": 274,
    "start_time": "2023-05-05T10:38:46.657Z"
   },
   {
    "duration": 181,
    "start_time": "2023-05-05T10:38:46.934Z"
   },
   {
    "duration": 52864,
    "start_time": "2023-05-05T10:38:47.117Z"
   },
   {
    "duration": 206,
    "start_time": "2023-05-05T10:39:39.996Z"
   },
   {
    "duration": 304314,
    "start_time": "2023-05-05T10:39:40.213Z"
   },
   {
    "duration": 325,
    "start_time": "2023-05-05T10:44:44.529Z"
   },
   {
    "duration": 19,
    "start_time": "2023-05-05T10:44:44.856Z"
   },
   {
    "duration": 24,
    "start_time": "2023-05-05T10:44:44.896Z"
   },
   {
    "duration": 66954,
    "start_time": "2023-05-05T10:44:44.922Z"
   },
   {
    "duration": 246,
    "start_time": "2023-05-05T10:45:51.878Z"
   },
   {
    "duration": 27267,
    "start_time": "2023-05-05T10:45:52.125Z"
   },
   {
    "duration": 196,
    "start_time": "2023-05-05T10:46:19.394Z"
   },
   {
    "duration": 376892,
    "start_time": "2023-05-05T10:46:19.594Z"
   },
   {
    "duration": 357,
    "start_time": "2023-05-05T10:52:36.491Z"
   },
   {
    "duration": 196503,
    "start_time": "2023-05-05T10:52:36.850Z"
   },
   {
    "duration": 284,
    "start_time": "2023-05-05T10:55:53.355Z"
   },
   {
    "duration": 328,
    "start_time": "2023-05-05T10:55:53.642Z"
   },
   {
    "duration": 363,
    "start_time": "2023-05-05T10:55:53.971Z"
   },
   {
    "duration": 54,
    "start_time": "2023-05-06T16:33:20.246Z"
   },
   {
    "duration": 83,
    "start_time": "2023-05-06T16:33:36.001Z"
   },
   {
    "duration": 91,
    "start_time": "2023-05-06T16:35:04.978Z"
   },
   {
    "duration": 68,
    "start_time": "2023-05-06T16:37:36.849Z"
   },
   {
    "duration": 1499,
    "start_time": "2023-05-06T16:37:45.383Z"
   },
   {
    "duration": 400,
    "start_time": "2023-05-06T16:37:46.885Z"
   },
   {
    "duration": 12,
    "start_time": "2023-05-06T16:37:47.286Z"
   },
   {
    "duration": 18,
    "start_time": "2023-05-06T16:37:47.300Z"
   },
   {
    "duration": 24,
    "start_time": "2023-05-06T16:37:47.320Z"
   },
   {
    "duration": 8,
    "start_time": "2023-05-06T16:37:47.346Z"
   },
   {
    "duration": 6,
    "start_time": "2023-05-06T16:37:47.356Z"
   },
   {
    "duration": 7,
    "start_time": "2023-05-06T16:37:47.363Z"
   },
   {
    "duration": 9,
    "start_time": "2023-05-06T16:37:47.372Z"
   },
   {
    "duration": 7,
    "start_time": "2023-05-06T16:37:47.385Z"
   },
   {
    "duration": 55,
    "start_time": "2023-05-06T16:37:47.394Z"
   },
   {
    "duration": 23,
    "start_time": "2023-05-06T16:37:47.451Z"
   },
   {
    "duration": 8,
    "start_time": "2023-05-06T16:37:47.476Z"
   },
   {
    "duration": 6,
    "start_time": "2023-05-06T16:37:47.485Z"
   },
   {
    "duration": 51,
    "start_time": "2023-05-06T16:37:47.493Z"
   },
   {
    "duration": 7,
    "start_time": "2023-05-06T16:37:47.545Z"
   },
   {
    "duration": 37312,
    "start_time": "2023-05-06T16:37:47.553Z"
   },
   {
    "duration": 202,
    "start_time": "2023-05-06T16:38:24.867Z"
   },
   {
    "duration": 245956,
    "start_time": "2023-05-06T16:38:25.071Z"
   },
   {
    "duration": 234,
    "start_time": "2023-05-06T16:42:31.028Z"
   },
   {
    "duration": 123,
    "start_time": "2023-05-06T16:42:31.263Z"
   },
   {
    "duration": 39524,
    "start_time": "2023-05-06T16:42:31.388Z"
   },
   {
    "duration": 168,
    "start_time": "2023-05-06T16:43:10.913Z"
   },
   {
    "duration": 247219,
    "start_time": "2023-05-06T16:43:11.083Z"
   },
   {
    "duration": 250,
    "start_time": "2023-05-06T16:47:18.304Z"
   },
   {
    "duration": 12,
    "start_time": "2023-05-06T16:47:18.556Z"
   },
   {
    "duration": 18,
    "start_time": "2023-05-06T16:47:18.570Z"
   },
   {
    "duration": 48822,
    "start_time": "2023-05-06T16:47:18.591Z"
   },
   {
    "duration": 182,
    "start_time": "2023-05-06T16:48:07.415Z"
   },
   {
    "duration": 19572,
    "start_time": "2023-05-06T16:48:07.598Z"
   },
   {
    "duration": 183,
    "start_time": "2023-05-06T16:48:27.172Z"
   },
   {
    "duration": 315404,
    "start_time": "2023-05-06T16:48:27.357Z"
   },
   {
    "duration": 342,
    "start_time": "2023-05-06T16:53:42.763Z"
   },
   {
    "duration": 166184,
    "start_time": "2023-05-06T16:53:43.107Z"
   },
   {
    "duration": 212,
    "start_time": "2023-05-06T16:56:29.292Z"
   },
   {
    "duration": 273,
    "start_time": "2023-05-06T16:56:29.505Z"
   },
   {
    "duration": 289,
    "start_time": "2023-05-06T16:56:29.781Z"
   },
   {
    "duration": 314,
    "start_time": "2023-05-06T19:05:12.223Z"
   },
   {
    "duration": 212,
    "start_time": "2023-05-06T19:07:11.784Z"
   }
  ],
  "kernelspec": {
   "display_name": "Python 3 (ipykernel)",
   "language": "python",
   "name": "python3"
  },
  "language_info": {
   "codemirror_mode": {
    "name": "ipython",
    "version": 3
   },
   "file_extension": ".py",
   "mimetype": "text/x-python",
   "name": "python",
   "nbconvert_exporter": "python",
   "pygments_lexer": "ipython3",
   "version": "3.9.13"
  },
  "toc": {
   "base_numbering": 1,
   "nav_menu": {},
   "number_sections": true,
   "sideBar": true,
   "skip_h1_title": true,
   "title_cell": "Содержание",
   "title_sidebar": "Contents",
   "toc_cell": true,
   "toc_position": {},
   "toc_section_display": true,
   "toc_window_display": true
  }
 },
 "nbformat": 4,
 "nbformat_minor": 2
}
