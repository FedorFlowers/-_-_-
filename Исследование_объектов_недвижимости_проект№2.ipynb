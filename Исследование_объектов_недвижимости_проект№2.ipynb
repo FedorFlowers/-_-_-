{
 "cells": [
  {
   "cell_type": "markdown",
   "metadata": {},
   "source": [
    "# Исследование объявлений о продаже квартир\n",
    "\n",
    "В вашем распоряжении данные сервиса Яндекс.Недвижимость — архив объявлений о продаже квартир в Санкт-Петербурге и соседних населённых пунктов за несколько лет. Нужно научиться определять рыночную стоимость объектов недвижимости. Ваша задача — установить параметры. Это позволит построить автоматизированную систему: она отследит аномалии и мошенническую деятельность. \n",
    "\n",
    "По каждой квартире на продажу доступны два вида данных. Первые вписаны пользователем, вторые — получены автоматически на основе картографических данных. Например, расстояние до центра, аэропорта, ближайшего парка и водоёма. "
   ]
  },
  {
   "cell_type": "markdown",
   "metadata": {},
   "source": [
    "### Откройте файл с данными и изучите общую информацию. "
   ]
  },
  {
   "cell_type": "code",
   "execution_count": 1,
   "metadata": {
    "scrolled": false
   },
   "outputs": [
    {
     "data": {
      "text/html": [
       "<div>\n",
       "<style scoped>\n",
       "    .dataframe tbody tr th:only-of-type {\n",
       "        vertical-align: middle;\n",
       "    }\n",
       "\n",
       "    .dataframe tbody tr th {\n",
       "        vertical-align: top;\n",
       "    }\n",
       "\n",
       "    .dataframe thead th {\n",
       "        text-align: right;\n",
       "    }\n",
       "</style>\n",
       "<table border=\"1\" class=\"dataframe\">\n",
       "  <thead>\n",
       "    <tr style=\"text-align: right;\">\n",
       "      <th></th>\n",
       "      <th>total_images</th>\n",
       "      <th>last_price</th>\n",
       "      <th>total_area</th>\n",
       "      <th>first_day_exposition</th>\n",
       "      <th>rooms</th>\n",
       "      <th>ceiling_height</th>\n",
       "      <th>floors_total</th>\n",
       "      <th>living_area</th>\n",
       "      <th>floor</th>\n",
       "      <th>is_apartment</th>\n",
       "      <th>...</th>\n",
       "      <th>kitchen_area</th>\n",
       "      <th>balcony</th>\n",
       "      <th>locality_name</th>\n",
       "      <th>airports_nearest</th>\n",
       "      <th>cityCenters_nearest</th>\n",
       "      <th>parks_around3000</th>\n",
       "      <th>parks_nearest</th>\n",
       "      <th>ponds_around3000</th>\n",
       "      <th>ponds_nearest</th>\n",
       "      <th>days_exposition</th>\n",
       "    </tr>\n",
       "  </thead>\n",
       "  <tbody>\n",
       "    <tr>\n",
       "      <th>0</th>\n",
       "      <td>20</td>\n",
       "      <td>13000000.0</td>\n",
       "      <td>108.00</td>\n",
       "      <td>2019-03-07T00:00:00</td>\n",
       "      <td>3</td>\n",
       "      <td>2.70</td>\n",
       "      <td>16.0</td>\n",
       "      <td>51.0</td>\n",
       "      <td>8</td>\n",
       "      <td>NaN</td>\n",
       "      <td>...</td>\n",
       "      <td>25.00</td>\n",
       "      <td>NaN</td>\n",
       "      <td>Санкт-Петербург</td>\n",
       "      <td>18863.0</td>\n",
       "      <td>16028.0</td>\n",
       "      <td>1.0</td>\n",
       "      <td>482.0</td>\n",
       "      <td>2.0</td>\n",
       "      <td>755.0</td>\n",
       "      <td>NaN</td>\n",
       "    </tr>\n",
       "    <tr>\n",
       "      <th>1</th>\n",
       "      <td>7</td>\n",
       "      <td>3350000.0</td>\n",
       "      <td>40.40</td>\n",
       "      <td>2018-12-04T00:00:00</td>\n",
       "      <td>1</td>\n",
       "      <td>NaN</td>\n",
       "      <td>11.0</td>\n",
       "      <td>18.6</td>\n",
       "      <td>1</td>\n",
       "      <td>NaN</td>\n",
       "      <td>...</td>\n",
       "      <td>11.00</td>\n",
       "      <td>2.0</td>\n",
       "      <td>посёлок Шушары</td>\n",
       "      <td>12817.0</td>\n",
       "      <td>18603.0</td>\n",
       "      <td>0.0</td>\n",
       "      <td>NaN</td>\n",
       "      <td>0.0</td>\n",
       "      <td>NaN</td>\n",
       "      <td>81.0</td>\n",
       "    </tr>\n",
       "    <tr>\n",
       "      <th>2</th>\n",
       "      <td>10</td>\n",
       "      <td>5196000.0</td>\n",
       "      <td>56.00</td>\n",
       "      <td>2015-08-20T00:00:00</td>\n",
       "      <td>2</td>\n",
       "      <td>NaN</td>\n",
       "      <td>5.0</td>\n",
       "      <td>34.3</td>\n",
       "      <td>4</td>\n",
       "      <td>NaN</td>\n",
       "      <td>...</td>\n",
       "      <td>8.30</td>\n",
       "      <td>0.0</td>\n",
       "      <td>Санкт-Петербург</td>\n",
       "      <td>21741.0</td>\n",
       "      <td>13933.0</td>\n",
       "      <td>1.0</td>\n",
       "      <td>90.0</td>\n",
       "      <td>2.0</td>\n",
       "      <td>574.0</td>\n",
       "      <td>558.0</td>\n",
       "    </tr>\n",
       "    <tr>\n",
       "      <th>3</th>\n",
       "      <td>0</td>\n",
       "      <td>64900000.0</td>\n",
       "      <td>159.00</td>\n",
       "      <td>2015-07-24T00:00:00</td>\n",
       "      <td>3</td>\n",
       "      <td>NaN</td>\n",
       "      <td>14.0</td>\n",
       "      <td>NaN</td>\n",
       "      <td>9</td>\n",
       "      <td>NaN</td>\n",
       "      <td>...</td>\n",
       "      <td>NaN</td>\n",
       "      <td>0.0</td>\n",
       "      <td>Санкт-Петербург</td>\n",
       "      <td>28098.0</td>\n",
       "      <td>6800.0</td>\n",
       "      <td>2.0</td>\n",
       "      <td>84.0</td>\n",
       "      <td>3.0</td>\n",
       "      <td>234.0</td>\n",
       "      <td>424.0</td>\n",
       "    </tr>\n",
       "    <tr>\n",
       "      <th>4</th>\n",
       "      <td>2</td>\n",
       "      <td>10000000.0</td>\n",
       "      <td>100.00</td>\n",
       "      <td>2018-06-19T00:00:00</td>\n",
       "      <td>2</td>\n",
       "      <td>3.03</td>\n",
       "      <td>14.0</td>\n",
       "      <td>32.0</td>\n",
       "      <td>13</td>\n",
       "      <td>NaN</td>\n",
       "      <td>...</td>\n",
       "      <td>41.00</td>\n",
       "      <td>NaN</td>\n",
       "      <td>Санкт-Петербург</td>\n",
       "      <td>31856.0</td>\n",
       "      <td>8098.0</td>\n",
       "      <td>2.0</td>\n",
       "      <td>112.0</td>\n",
       "      <td>1.0</td>\n",
       "      <td>48.0</td>\n",
       "      <td>121.0</td>\n",
       "    </tr>\n",
       "    <tr>\n",
       "      <th>...</th>\n",
       "      <td>...</td>\n",
       "      <td>...</td>\n",
       "      <td>...</td>\n",
       "      <td>...</td>\n",
       "      <td>...</td>\n",
       "      <td>...</td>\n",
       "      <td>...</td>\n",
       "      <td>...</td>\n",
       "      <td>...</td>\n",
       "      <td>...</td>\n",
       "      <td>...</td>\n",
       "      <td>...</td>\n",
       "      <td>...</td>\n",
       "      <td>...</td>\n",
       "      <td>...</td>\n",
       "      <td>...</td>\n",
       "      <td>...</td>\n",
       "      <td>...</td>\n",
       "      <td>...</td>\n",
       "      <td>...</td>\n",
       "      <td>...</td>\n",
       "    </tr>\n",
       "    <tr>\n",
       "      <th>23694</th>\n",
       "      <td>9</td>\n",
       "      <td>9700000.0</td>\n",
       "      <td>133.81</td>\n",
       "      <td>2017-03-21T00:00:00</td>\n",
       "      <td>3</td>\n",
       "      <td>3.70</td>\n",
       "      <td>5.0</td>\n",
       "      <td>73.3</td>\n",
       "      <td>3</td>\n",
       "      <td>NaN</td>\n",
       "      <td>...</td>\n",
       "      <td>13.83</td>\n",
       "      <td>NaN</td>\n",
       "      <td>Санкт-Петербург</td>\n",
       "      <td>24665.0</td>\n",
       "      <td>4232.0</td>\n",
       "      <td>1.0</td>\n",
       "      <td>796.0</td>\n",
       "      <td>3.0</td>\n",
       "      <td>381.0</td>\n",
       "      <td>NaN</td>\n",
       "    </tr>\n",
       "    <tr>\n",
       "      <th>23695</th>\n",
       "      <td>14</td>\n",
       "      <td>3100000.0</td>\n",
       "      <td>59.00</td>\n",
       "      <td>2018-01-15T00:00:00</td>\n",
       "      <td>3</td>\n",
       "      <td>NaN</td>\n",
       "      <td>5.0</td>\n",
       "      <td>38.0</td>\n",
       "      <td>4</td>\n",
       "      <td>NaN</td>\n",
       "      <td>...</td>\n",
       "      <td>8.50</td>\n",
       "      <td>NaN</td>\n",
       "      <td>Тосно</td>\n",
       "      <td>NaN</td>\n",
       "      <td>NaN</td>\n",
       "      <td>NaN</td>\n",
       "      <td>NaN</td>\n",
       "      <td>NaN</td>\n",
       "      <td>NaN</td>\n",
       "      <td>45.0</td>\n",
       "    </tr>\n",
       "    <tr>\n",
       "      <th>23696</th>\n",
       "      <td>18</td>\n",
       "      <td>2500000.0</td>\n",
       "      <td>56.70</td>\n",
       "      <td>2018-02-11T00:00:00</td>\n",
       "      <td>2</td>\n",
       "      <td>NaN</td>\n",
       "      <td>3.0</td>\n",
       "      <td>29.7</td>\n",
       "      <td>1</td>\n",
       "      <td>NaN</td>\n",
       "      <td>...</td>\n",
       "      <td>NaN</td>\n",
       "      <td>NaN</td>\n",
       "      <td>село Рождествено</td>\n",
       "      <td>NaN</td>\n",
       "      <td>NaN</td>\n",
       "      <td>NaN</td>\n",
       "      <td>NaN</td>\n",
       "      <td>NaN</td>\n",
       "      <td>NaN</td>\n",
       "      <td>NaN</td>\n",
       "    </tr>\n",
       "    <tr>\n",
       "      <th>23697</th>\n",
       "      <td>13</td>\n",
       "      <td>11475000.0</td>\n",
       "      <td>76.75</td>\n",
       "      <td>2017-03-28T00:00:00</td>\n",
       "      <td>2</td>\n",
       "      <td>3.00</td>\n",
       "      <td>17.0</td>\n",
       "      <td>NaN</td>\n",
       "      <td>12</td>\n",
       "      <td>NaN</td>\n",
       "      <td>...</td>\n",
       "      <td>23.30</td>\n",
       "      <td>2.0</td>\n",
       "      <td>Санкт-Петербург</td>\n",
       "      <td>39140.0</td>\n",
       "      <td>10364.0</td>\n",
       "      <td>2.0</td>\n",
       "      <td>173.0</td>\n",
       "      <td>3.0</td>\n",
       "      <td>196.0</td>\n",
       "      <td>602.0</td>\n",
       "    </tr>\n",
       "    <tr>\n",
       "      <th>23698</th>\n",
       "      <td>4</td>\n",
       "      <td>1350000.0</td>\n",
       "      <td>32.30</td>\n",
       "      <td>2017-07-21T00:00:00</td>\n",
       "      <td>1</td>\n",
       "      <td>2.50</td>\n",
       "      <td>5.0</td>\n",
       "      <td>12.3</td>\n",
       "      <td>1</td>\n",
       "      <td>NaN</td>\n",
       "      <td>...</td>\n",
       "      <td>9.00</td>\n",
       "      <td>NaN</td>\n",
       "      <td>поселок Новый Учхоз</td>\n",
       "      <td>NaN</td>\n",
       "      <td>NaN</td>\n",
       "      <td>NaN</td>\n",
       "      <td>NaN</td>\n",
       "      <td>NaN</td>\n",
       "      <td>NaN</td>\n",
       "      <td>NaN</td>\n",
       "    </tr>\n",
       "  </tbody>\n",
       "</table>\n",
       "<p>23699 rows × 22 columns</p>\n",
       "</div>"
      ],
      "text/plain": [
       "       total_images  last_price  total_area first_day_exposition  rooms  \\\n",
       "0                20  13000000.0      108.00  2019-03-07T00:00:00      3   \n",
       "1                 7   3350000.0       40.40  2018-12-04T00:00:00      1   \n",
       "2                10   5196000.0       56.00  2015-08-20T00:00:00      2   \n",
       "3                 0  64900000.0      159.00  2015-07-24T00:00:00      3   \n",
       "4                 2  10000000.0      100.00  2018-06-19T00:00:00      2   \n",
       "...             ...         ...         ...                  ...    ...   \n",
       "23694             9   9700000.0      133.81  2017-03-21T00:00:00      3   \n",
       "23695            14   3100000.0       59.00  2018-01-15T00:00:00      3   \n",
       "23696            18   2500000.0       56.70  2018-02-11T00:00:00      2   \n",
       "23697            13  11475000.0       76.75  2017-03-28T00:00:00      2   \n",
       "23698             4   1350000.0       32.30  2017-07-21T00:00:00      1   \n",
       "\n",
       "       ceiling_height  floors_total  living_area  floor is_apartment  ...  \\\n",
       "0                2.70          16.0         51.0      8          NaN  ...   \n",
       "1                 NaN          11.0         18.6      1          NaN  ...   \n",
       "2                 NaN           5.0         34.3      4          NaN  ...   \n",
       "3                 NaN          14.0          NaN      9          NaN  ...   \n",
       "4                3.03          14.0         32.0     13          NaN  ...   \n",
       "...               ...           ...          ...    ...          ...  ...   \n",
       "23694            3.70           5.0         73.3      3          NaN  ...   \n",
       "23695             NaN           5.0         38.0      4          NaN  ...   \n",
       "23696             NaN           3.0         29.7      1          NaN  ...   \n",
       "23697            3.00          17.0          NaN     12          NaN  ...   \n",
       "23698            2.50           5.0         12.3      1          NaN  ...   \n",
       "\n",
       "       kitchen_area  balcony        locality_name  airports_nearest  \\\n",
       "0             25.00      NaN      Санкт-Петербург           18863.0   \n",
       "1             11.00      2.0       посёлок Шушары           12817.0   \n",
       "2              8.30      0.0      Санкт-Петербург           21741.0   \n",
       "3               NaN      0.0      Санкт-Петербург           28098.0   \n",
       "4             41.00      NaN      Санкт-Петербург           31856.0   \n",
       "...             ...      ...                  ...               ...   \n",
       "23694         13.83      NaN      Санкт-Петербург           24665.0   \n",
       "23695          8.50      NaN                Тосно               NaN   \n",
       "23696           NaN      NaN     село Рождествено               NaN   \n",
       "23697         23.30      2.0      Санкт-Петербург           39140.0   \n",
       "23698          9.00      NaN  поселок Новый Учхоз               NaN   \n",
       "\n",
       "      cityCenters_nearest  parks_around3000  parks_nearest  ponds_around3000  \\\n",
       "0                 16028.0               1.0          482.0               2.0   \n",
       "1                 18603.0               0.0            NaN               0.0   \n",
       "2                 13933.0               1.0           90.0               2.0   \n",
       "3                  6800.0               2.0           84.0               3.0   \n",
       "4                  8098.0               2.0          112.0               1.0   \n",
       "...                   ...               ...            ...               ...   \n",
       "23694              4232.0               1.0          796.0               3.0   \n",
       "23695                 NaN               NaN            NaN               NaN   \n",
       "23696                 NaN               NaN            NaN               NaN   \n",
       "23697             10364.0               2.0          173.0               3.0   \n",
       "23698                 NaN               NaN            NaN               NaN   \n",
       "\n",
       "       ponds_nearest  days_exposition  \n",
       "0              755.0              NaN  \n",
       "1                NaN             81.0  \n",
       "2              574.0            558.0  \n",
       "3              234.0            424.0  \n",
       "4               48.0            121.0  \n",
       "...              ...              ...  \n",
       "23694          381.0              NaN  \n",
       "23695            NaN             45.0  \n",
       "23696            NaN              NaN  \n",
       "23697          196.0            602.0  \n",
       "23698            NaN              NaN  \n",
       "\n",
       "[23699 rows x 22 columns]"
      ]
     },
     "metadata": {},
     "output_type": "display_data"
    },
    {
     "name": "stdout",
     "output_type": "stream",
     "text": [
      "<class 'pandas.core.frame.DataFrame'>\n",
      "RangeIndex: 23699 entries, 0 to 23698\n",
      "Data columns (total 22 columns):\n",
      " #   Column                Non-Null Count  Dtype  \n",
      "---  ------                --------------  -----  \n",
      " 0   total_images          23699 non-null  int64  \n",
      " 1   last_price            23699 non-null  float64\n",
      " 2   total_area            23699 non-null  float64\n",
      " 3   first_day_exposition  23699 non-null  object \n",
      " 4   rooms                 23699 non-null  int64  \n",
      " 5   ceiling_height        14504 non-null  float64\n",
      " 6   floors_total          23613 non-null  float64\n",
      " 7   living_area           21796 non-null  float64\n",
      " 8   floor                 23699 non-null  int64  \n",
      " 9   is_apartment          2775 non-null   object \n",
      " 10  studio                23699 non-null  bool   \n",
      " 11  open_plan             23699 non-null  bool   \n",
      " 12  kitchen_area          21421 non-null  float64\n",
      " 13  balcony               12180 non-null  float64\n",
      " 14  locality_name         23650 non-null  object \n",
      " 15  airports_nearest      18157 non-null  float64\n",
      " 16  cityCenters_nearest   18180 non-null  float64\n",
      " 17  parks_around3000      18181 non-null  float64\n",
      " 18  parks_nearest         8079 non-null   float64\n",
      " 19  ponds_around3000      18181 non-null  float64\n",
      " 20  ponds_nearest         9110 non-null   float64\n",
      " 21  days_exposition       20518 non-null  float64\n",
      "dtypes: bool(2), float64(14), int64(3), object(3)\n",
      "memory usage: 3.7+ MB\n"
     ]
    },
    {
     "data": {
      "text/plain": [
       "array([[<AxesSubplot:title={'center':'total_images'}>,\n",
       "        <AxesSubplot:title={'center':'last_price'}>,\n",
       "        <AxesSubplot:title={'center':'total_area'}>,\n",
       "        <AxesSubplot:title={'center':'rooms'}>],\n",
       "       [<AxesSubplot:title={'center':'ceiling_height'}>,\n",
       "        <AxesSubplot:title={'center':'floors_total'}>,\n",
       "        <AxesSubplot:title={'center':'living_area'}>,\n",
       "        <AxesSubplot:title={'center':'floor'}>],\n",
       "       [<AxesSubplot:title={'center':'kitchen_area'}>,\n",
       "        <AxesSubplot:title={'center':'balcony'}>,\n",
       "        <AxesSubplot:title={'center':'airports_nearest'}>,\n",
       "        <AxesSubplot:title={'center':'cityCenters_nearest'}>],\n",
       "       [<AxesSubplot:title={'center':'parks_around3000'}>,\n",
       "        <AxesSubplot:title={'center':'parks_nearest'}>,\n",
       "        <AxesSubplot:title={'center':'ponds_around3000'}>,\n",
       "        <AxesSubplot:title={'center':'ponds_nearest'}>],\n",
       "       [<AxesSubplot:title={'center':'days_exposition'}>, <AxesSubplot:>,\n",
       "        <AxesSubplot:>, <AxesSubplot:>]], dtype=object)"
      ]
     },
     "execution_count": 1,
     "metadata": {},
     "output_type": "execute_result"
    },
    {
     "data": {
      "image/png": "[encoded data removed]",
      "text/plain": [
       "<Figure size 1080x1440 with 20 Axes>"
      ]
     },
     "metadata": {
      "needs_background": "light"
     },
     "output_type": "display_data"
    }
   ],
   "source": [
    "import pandas as pd # импортируем библиотеки pandas и matplotlib\n",
    "import matplotlib.pyplot as plt\n",
    "df = pd.read_csv('/datasets/real_estate_data.csv')\n",
    "df = pd.read_csv('/datasets/real_estate_data.csv', sep='\\t') #разделитьель указан буквой t - укаазываю его в коде\n",
    "display(df)\n",
    "df.info()\n",
    "df.hist(figsize=(15, 20))"
   ]
  },
  {
   "cell_type": "markdown",
   "metadata": {},
   "source": [
    "#### Выводы \n",
    "В общей информации о датасете видим проблемы в данных, такие как: пропуски; плохие по стилю названия столбцов. "
   ]
  },
  {
   "cell_type": "markdown",
   "metadata": {},
   "source": [
    "### Предобработка данных"
   ]
  },
  {
   "cell_type": "code",
   "execution_count": 2,
   "metadata": {
    "scrolled": true
   },
   "outputs": [
    {
     "data": {
      "text/plain": [
       "0"
      ]
     },
     "execution_count": 2,
     "metadata": {},
     "output_type": "execute_result"
    }
   ],
   "source": [
    "df.duplicated().sum() # дупликатов нет"
   ]
  },
  {
   "cell_type": "code",
   "execution_count": 3,
   "metadata": {
    "scrolled": true
   },
   "outputs": [
    {
     "data": {
      "text/plain": [
       "total_images                0\n",
       "last_price                  0\n",
       "total_area                  0\n",
       "first_day_exposition        0\n",
       "rooms                       0\n",
       "ceiling_height           9195\n",
       "floors_total               86\n",
       "living_area              1903\n",
       "floor                       0\n",
       "is_apartment            20924\n",
       "studio                      0\n",
       "open_plan                   0\n",
       "kitchen_area             2278\n",
       "balcony                 11519\n",
       "locality_name              49\n",
       "airports_nearest         5542\n",
       "cityCenters_nearest      5519\n",
       "parks_around3000         5518\n",
       "parks_nearest           15620\n",
       "ponds_around3000         5518\n",
       "ponds_nearest           14589\n",
       "days_exposition          3181\n",
       "dtype: int64"
      ]
     },
     "execution_count": 3,
     "metadata": {},
     "output_type": "execute_result"
    }
   ],
   "source": [
    "df.isna().sum() # пропуски есть"
   ]
  },
  {
   "cell_type": "code",
   "execution_count": 4,
   "metadata": {
    "scrolled": true
   },
   "outputs": [
    {
     "data": {
      "text/plain": [
       "<bound method DataFrame.info of        total_images  last_price  total_area first_day_exposition  rooms  \\\n",
       "0                20  13000000.0      108.00  2019-03-07T00:00:00      3   \n",
       "1                 7   3350000.0       40.40  2018-12-04T00:00:00      1   \n",
       "2                10   5196000.0       56.00  2015-08-20T00:00:00      2   \n",
       "3                 0  64900000.0      159.00  2015-07-24T00:00:00      3   \n",
       "4                 2  10000000.0      100.00  2018-06-19T00:00:00      2   \n",
       "...             ...         ...         ...                  ...    ...   \n",
       "23694             9   9700000.0      133.81  2017-03-21T00:00:00      3   \n",
       "23695            14   3100000.0       59.00  2018-01-15T00:00:00      3   \n",
       "23696            18   2500000.0       56.70  2018-02-11T00:00:00      2   \n",
       "23697            13  11475000.0       76.75  2017-03-28T00:00:00      2   \n",
       "23698             4   1350000.0       32.30  2017-07-21T00:00:00      1   \n",
       "\n",
       "       ceiling_height  floors_total  living_area  floor is_apartment  ...  \\\n",
       "0                2.70          16.0         51.0      8          NaN  ...   \n",
       "1                 NaN          11.0         18.6      1          NaN  ...   \n",
       "2                 NaN           5.0         34.3      4          NaN  ...   \n",
       "3                 NaN          14.0          NaN      9          NaN  ...   \n",
       "4                3.03          14.0         32.0     13          NaN  ...   \n",
       "...               ...           ...          ...    ...          ...  ...   \n",
       "23694            3.70           5.0         73.3      3          NaN  ...   \n",
       "23695             NaN           5.0         38.0      4          NaN  ...   \n",
       "23696             NaN           3.0         29.7      1          NaN  ...   \n",
       "23697            3.00          17.0          NaN     12          NaN  ...   \n",
       "23698            2.50           5.0         12.3      1          NaN  ...   \n",
       "\n",
       "       kitchen_area  balcony        locality_name  airports_nearest  \\\n",
       "0             25.00      NaN      Санкт-Петербург           18863.0   \n",
       "1             11.00      2.0       посёлок Шушары           12817.0   \n",
       "2              8.30      0.0      Санкт-Петербург           21741.0   \n",
       "3               NaN      0.0      Санкт-Петербург           28098.0   \n",
       "4             41.00      NaN      Санкт-Петербург           31856.0   \n",
       "...             ...      ...                  ...               ...   \n",
       "23694         13.83      NaN      Санкт-Петербург           24665.0   \n",
       "23695          8.50      NaN                Тосно               NaN   \n",
       "23696           NaN      NaN     село Рождествено               NaN   \n",
       "23697         23.30      2.0      Санкт-Петербург           39140.0   \n",
       "23698          9.00      NaN  поселок Новый Учхоз               NaN   \n",
       "\n",
       "      city_centers_nearest  parks_around  parks_nearest  ponds_around  \\\n",
       "0                  16028.0           1.0          482.0           2.0   \n",
       "1                  18603.0           0.0            NaN           0.0   \n",
       "2                  13933.0           1.0           90.0           2.0   \n",
       "3                   6800.0           2.0           84.0           3.0   \n",
       "4                   8098.0           2.0          112.0           1.0   \n",
       "...                    ...           ...            ...           ...   \n",
       "23694               4232.0           1.0          796.0           3.0   \n",
       "23695                  NaN           NaN            NaN           NaN   \n",
       "23696                  NaN           NaN            NaN           NaN   \n",
       "23697              10364.0           2.0          173.0           3.0   \n",
       "23698                  NaN           NaN            NaN           NaN   \n",
       "\n",
       "       ponds_nearest  days_exposition  \n",
       "0              755.0              NaN  \n",
       "1                NaN             81.0  \n",
       "2              574.0            558.0  \n",
       "3              234.0            424.0  \n",
       "4               48.0            121.0  \n",
       "...              ...              ...  \n",
       "23694          381.0              NaN  \n",
       "23695            NaN             45.0  \n",
       "23696            NaN              NaN  \n",
       "23697          196.0            602.0  \n",
       "23698            NaN              NaN  \n",
       "\n",
       "[23699 rows x 22 columns]>"
      ]
     },
     "execution_count": 4,
     "metadata": {},
     "output_type": "execute_result"
    }
   ],
   "source": [
    "# некоторые названия выбиваются: cityCenters_nearest, parks_around3000, ponds_around3000. Нужэно их заменить.\n",
    "df = df.rename(\n",
    "    columns={\n",
    "        'cityCenters_nearest':'city_centers_nearest', 'parks_around3000':'parks_around', 'ponds_around3000':'ponds_around'\n",
    "    }\n",
    ")\n",
    "df.info # проверить, что все переименовалось"
   ]
  },
  {
   "cell_type": "code",
   "execution_count": 5,
   "metadata": {},
   "outputs": [
    {
     "name": "stdout",
     "output_type": "stream",
     "text": [
      "2.7296076944291228\n"
     ]
    },
    {
     "data": {
      "text/plain": [
       "0"
      ]
     },
     "execution_count": 5,
     "metadata": {},
     "output_type": "execute_result"
    }
   ],
   "source": [
    "# первый столбец с пропусками ceiling_height. Считаем медиану с адекватными значениями потолков от 2 до 10 метров.\n",
    "df['ceiling_height'].max() #100 метров, скорее всего имелось ввиду 10 метров, это же и с остальными потолками больше 20 метров\n",
    "df['ceiling_height'].min() #1 метр,определенна ошибка\n",
    "df.loc[df['ceiling_height'] >= 20, 'ceiling_height'] = df.loc[df['ceiling_height'] >= 20, 'ceiling_height'] / 10 # все потолки которые больше 20 метров будем делить на 10, т.к. скорее всего имелось ввиду вещественное значение\n",
    "print (df['ceiling_height'].mean()) # считаем среднюю\n",
    "df['ceiling_height'] = df['ceiling_height'].fillna(2.72) # заполняем пропуски средним значением\n",
    "df['ceiling_height'].isna().sum()"
   ]
  },
  {
   "cell_type": "code",
   "execution_count": 6,
   "metadata": {
    "scrolled": true
   },
   "outputs": [
    {
     "data": {
      "text/plain": [
       "0"
      ]
     },
     "execution_count": 6,
     "metadata": {},
     "output_type": "execute_result"
    }
   ],
   "source": [
    "# Далее идет floors_total\n",
    "df['floors_total'].max() # максимум этажей в датасете - 60 \n",
    "df['floors_total'].min() # min в датасете  этажей - 1 \n",
    "df.loc[df['floors_total'].isnull()]['floor'].max() # максимум этажей в пропусках - 24 \n",
    "df['floors_total'] = df['floors_total'].fillna(24) # заполняем максимальным значение floor в пропусках, чтобы этажей не оказалось меньше чем самих floor в строках с пропусками.\n",
    "df['floors_total'].isna().sum() # пропусков нет"
   ]
  },
  {
   "cell_type": "code",
   "execution_count": 7,
   "metadata": {},
   "outputs": [
    {
     "data": {
      "text/plain": [
       "0"
      ]
     },
     "execution_count": 7,
     "metadata": {},
     "output_type": "execute_result"
    }
   ],
   "source": [
    "# Далее - living_area \n",
    "# можно получить соотношение среднего living area к среднему total area и использовать его для получение средних значений\n",
    "living_ratio = df['living_area'].mean() / df['total_area'].mean() # получаем соотношение\n",
    "df['living_area'] = df['living_area'].fillna(living_ratio * df['total_area']) # заполняем пропуски средним значением к total area нужной строки\n",
    "df['living_area'].isna().sum() # пропусков нет"
   ]
  },
  {
   "cell_type": "code",
   "execution_count": 8,
   "metadata": {},
   "outputs": [
    {
     "data": {
      "text/plain": [
       "0"
      ]
     },
     "execution_count": 8,
     "metadata": {},
     "output_type": "execute_result"
    }
   ],
   "source": [
    "# далее - is_apartment\n",
    "df['is_apartment'].value_counts() # только 50 ответили что у них аппартаменты. Остальным можно проставить false\n",
    "df['is_apartment'] = df['is_apartment'].fillna(value=False)\n",
    "df['is_apartment'].isna().sum()"
   ]
  },
  {
   "cell_type": "code",
   "execution_count": 9,
   "metadata": {},
   "outputs": [
    {
     "data": {
      "text/plain": [
       "0"
      ]
     },
     "execution_count": 9,
     "metadata": {},
     "output_type": "execute_result"
    }
   ],
   "source": [
    "#тут можно сделать анологично с living area, заполнить средними значениями\n",
    "kitchen_ratio = df['kitchen_area'].mean() / df['total_area'].mean()\n",
    "df['kitchen_area'] = df['kitchen_area'].fillna(kitchen_ratio * df['total_area'])\n",
    "df['kitchen_area'].isna().sum()"
   ]
  },
  {
   "cell_type": "code",
   "execution_count": 10,
   "metadata": {},
   "outputs": [
    {
     "data": {
      "text/plain": [
       "0"
      ]
     },
     "execution_count": 10,
     "metadata": {},
     "output_type": "execute_result"
    }
   ],
   "source": [
    "# столбец balcony заполняем нулем, так как пробел этого значения является отсутствием балкона\n",
    "df['balcony'] = df['balcony'].fillna(value=0)\n",
    "df['balcony'].isna().sum()"
   ]
  },
  {
   "cell_type": "code",
   "execution_count": 11,
   "metadata": {},
   "outputs": [
    {
     "data": {
      "text/plain": [
       "0"
      ]
     },
     "execution_count": 11,
     "metadata": {},
     "output_type": "execute_result"
    }
   ],
   "source": [
    "# locality_name - тут есть пропуски и дубликаты \n",
    "df['locality_name'].unique() # смотрим уникальные значения\n",
    "df['locality_name'] = df['locality_name'].str.replace('посёлок','поселок') # меняем названия с ё на е \n",
    "df = df.dropna(subset=['locality_name']) # удаляем пропуски, т.к. их невозможно заменить\n",
    "df['locality_name'].isna().sum()"
   ]
  },
  {
   "cell_type": "code",
   "execution_count": 12,
   "metadata": {},
   "outputs": [
    {
     "name": "stdout",
     "output_type": "stream",
     "text": [
      "<class 'pandas.core.frame.DataFrame'>\n",
      "Int64Index: 23650 entries, 0 to 23698\n",
      "Data columns (total 22 columns):\n",
      " #   Column                Non-Null Count  Dtype         \n",
      "---  ------                --------------  -----         \n",
      " 0   total_images          23650 non-null  int64         \n",
      " 1   last_price            23650 non-null  float64       \n",
      " 2   total_area            23650 non-null  float64       \n",
      " 3   first_day_exposition  23650 non-null  datetime64[ns]\n",
      " 4   rooms                 23650 non-null  int64         \n",
      " 5   ceiling_height        23650 non-null  float64       \n",
      " 6   floors_total          23650 non-null  int64         \n",
      " 7   living_area           23650 non-null  float64       \n",
      " 8   floor                 23650 non-null  int64         \n",
      " 9   is_apartment          23650 non-null  bool          \n",
      " 10  studio                23650 non-null  bool          \n",
      " 11  open_plan             23650 non-null  bool          \n",
      " 12  kitchen_area          23650 non-null  float64       \n",
      " 13  balcony               23650 non-null  int64         \n",
      " 14  locality_name         23650 non-null  object        \n",
      " 15  airports_nearest      18116 non-null  float64       \n",
      " 16  city_centers_nearest  18139 non-null  float64       \n",
      " 17  parks_around          18140 non-null  float64       \n",
      " 18  parks_nearest         8064 non-null   float64       \n",
      " 19  ponds_around          18140 non-null  float64       \n",
      " 20  ponds_nearest         9085 non-null   float64       \n",
      " 21  days_exposition       20470 non-null  float64       \n",
      "dtypes: bool(3), datetime64[ns](1), float64(12), int64(5), object(1)\n",
      "memory usage: 3.7+ MB\n"
     ]
    },
    {
     "name": "stderr",
     "output_type": "stream",
     "text": [
      "/tmp/ipykernel_75/2556243712.py:2: SettingWithCopyWarning: \n",
      "A value is trying to be set on a copy of a slice from a DataFrame.\n",
      "Try using .loc[row_indexer,col_indexer] = value instead\n",
      "\n",
      "See the caveats in the documentation: https://pandas.pydata.org/pandas-docs/stable/user_guide/indexing.html#returning-a-view-versus-a-copy\n",
      "  df['balcony'] = df['balcony'].astype(int) # переводим в цел числа, т.к. float тут не нужен, балконов не может быть полтора\n",
      "/tmp/ipykernel_75/2556243712.py:3: SettingWithCopyWarning: \n",
      "A value is trying to be set on a copy of a slice from a DataFrame.\n",
      "Try using .loc[row_indexer,col_indexer] = value instead\n",
      "\n",
      "See the caveats in the documentation: https://pandas.pydata.org/pandas-docs/stable/user_guide/indexing.html#returning-a-view-versus-a-copy\n",
      "  df['floors_total'] = df['floors_total'].astype('int') # переводим в цел числа т.к. float тут не нужен, комнат может быть цел число\n",
      "/tmp/ipykernel_75/2556243712.py:4: SettingWithCopyWarning: \n",
      "A value is trying to be set on a copy of a slice from a DataFrame.\n",
      "Try using .loc[row_indexer,col_indexer] = value instead\n",
      "\n",
      "See the caveats in the documentation: https://pandas.pydata.org/pandas-docs/stable/user_guide/indexing.html#returning-a-view-versus-a-copy\n",
      "  df['first_day_exposition'] = pd.to_datetime(df['first_day_exposition'], format='%Y-%m-%dT%H:%M:%S') # приводим время в порядок\n"
     ]
    }
   ],
   "source": [
    "# Смотрим на тип данных которые нужно исправить\n",
    "df['balcony'] = df['balcony'].astype(int) # переводим в цел числа, т.к. float тут не нужен, балконов не может быть полтора \n",
    "df['floors_total'] = df['floors_total'].astype('int') # переводим в цел числа т.к. float тут не нужен, комнат может быть цел число\n",
    "df['first_day_exposition'] = pd.to_datetime(df['first_day_exposition'], format='%Y-%m-%dT%H:%M:%S') # приводим время в порядок\n",
    "df.info()"
   ]
  },
  {
   "cell_type": "code",
   "execution_count": 13,
   "metadata": {
    "scrolled": true
   },
   "outputs": [
    {
     "data": {
      "text/html": [
       "<div>\n",
       "<style scoped>\n",
       "    .dataframe tbody tr th:only-of-type {\n",
       "        vertical-align: middle;\n",
       "    }\n",
       "\n",
       "    .dataframe tbody tr th {\n",
       "        vertical-align: top;\n",
       "    }\n",
       "\n",
       "    .dataframe thead th {\n",
       "        text-align: right;\n",
       "    }\n",
       "</style>\n",
       "<table border=\"1\" class=\"dataframe\">\n",
       "  <thead>\n",
       "    <tr style=\"text-align: right;\">\n",
       "      <th></th>\n",
       "      <th>total_images</th>\n",
       "      <th>last_price</th>\n",
       "      <th>total_area</th>\n",
       "      <th>rooms</th>\n",
       "      <th>ceiling_height</th>\n",
       "      <th>floors_total</th>\n",
       "      <th>living_area</th>\n",
       "      <th>floor</th>\n",
       "      <th>kitchen_area</th>\n",
       "      <th>balcony</th>\n",
       "      <th>airports_nearest</th>\n",
       "      <th>city_centers_nearest</th>\n",
       "      <th>parks_around</th>\n",
       "      <th>parks_nearest</th>\n",
       "      <th>ponds_around</th>\n",
       "      <th>ponds_nearest</th>\n",
       "      <th>days_exposition</th>\n",
       "    </tr>\n",
       "  </thead>\n",
       "  <tbody>\n",
       "    <tr>\n",
       "      <th>count</th>\n",
       "      <td>23650.000000</td>\n",
       "      <td>2.365000e+04</td>\n",
       "      <td>23650.000000</td>\n",
       "      <td>23650.000000</td>\n",
       "      <td>23650.000000</td>\n",
       "      <td>23650.000000</td>\n",
       "      <td>23650.000000</td>\n",
       "      <td>23650.000000</td>\n",
       "      <td>23650.000000</td>\n",
       "      <td>23650.000000</td>\n",
       "      <td>18116.000000</td>\n",
       "      <td>18139.000000</td>\n",
       "      <td>18140.000000</td>\n",
       "      <td>8064.000000</td>\n",
       "      <td>18140.000000</td>\n",
       "      <td>9085.000000</td>\n",
       "      <td>20470.000000</td>\n",
       "    </tr>\n",
       "    <tr>\n",
       "      <th>mean</th>\n",
       "      <td>9.862326</td>\n",
       "      <td>6.541127e+06</td>\n",
       "      <td>60.329069</td>\n",
       "      <td>2.070106</td>\n",
       "      <td>2.725732</td>\n",
       "      <td>10.723763</td>\n",
       "      <td>34.582279</td>\n",
       "      <td>5.893277</td>\n",
       "      <td>10.502873</td>\n",
       "      <td>0.591712</td>\n",
       "      <td>28803.225878</td>\n",
       "      <td>14197.860742</td>\n",
       "      <td>0.611577</td>\n",
       "      <td>490.830729</td>\n",
       "      <td>0.769680</td>\n",
       "      <td>518.059879</td>\n",
       "      <td>180.753200</td>\n",
       "    </tr>\n",
       "    <tr>\n",
       "      <th>std</th>\n",
       "      <td>5.682278</td>\n",
       "      <td>1.089640e+07</td>\n",
       "      <td>35.661808</td>\n",
       "      <td>1.078620</td>\n",
       "      <td>0.250274</td>\n",
       "      <td>6.631077</td>\n",
       "      <td>22.359584</td>\n",
       "      <td>4.883317</td>\n",
       "      <td>6.037438</td>\n",
       "      <td>0.959662</td>\n",
       "      <td>12637.314144</td>\n",
       "      <td>8606.830295</td>\n",
       "      <td>0.802003</td>\n",
       "      <td>342.554386</td>\n",
       "      <td>0.937948</td>\n",
       "      <td>277.841733</td>\n",
       "      <td>219.777916</td>\n",
       "    </tr>\n",
       "    <tr>\n",
       "      <th>min</th>\n",
       "      <td>0.000000</td>\n",
       "      <td>1.219000e+04</td>\n",
       "      <td>12.000000</td>\n",
       "      <td>0.000000</td>\n",
       "      <td>1.000000</td>\n",
       "      <td>1.000000</td>\n",
       "      <td>2.000000</td>\n",
       "      <td>1.000000</td>\n",
       "      <td>1.300000</td>\n",
       "      <td>0.000000</td>\n",
       "      <td>0.000000</td>\n",
       "      <td>181.000000</td>\n",
       "      <td>0.000000</td>\n",
       "      <td>1.000000</td>\n",
       "      <td>0.000000</td>\n",
       "      <td>13.000000</td>\n",
       "      <td>1.000000</td>\n",
       "    </tr>\n",
       "    <tr>\n",
       "      <th>25%</th>\n",
       "      <td>6.000000</td>\n",
       "      <td>3.400000e+06</td>\n",
       "      <td>40.000000</td>\n",
       "      <td>1.000000</td>\n",
       "      <td>2.600000</td>\n",
       "      <td>5.000000</td>\n",
       "      <td>19.000000</td>\n",
       "      <td>2.000000</td>\n",
       "      <td>7.000000</td>\n",
       "      <td>0.000000</td>\n",
       "      <td>18575.750000</td>\n",
       "      <td>9241.000000</td>\n",
       "      <td>0.000000</td>\n",
       "      <td>288.000000</td>\n",
       "      <td>0.000000</td>\n",
       "      <td>293.000000</td>\n",
       "      <td>45.000000</td>\n",
       "    </tr>\n",
       "    <tr>\n",
       "      <th>50%</th>\n",
       "      <td>9.000000</td>\n",
       "      <td>4.650000e+06</td>\n",
       "      <td>52.000000</td>\n",
       "      <td>2.000000</td>\n",
       "      <td>2.720000</td>\n",
       "      <td>9.000000</td>\n",
       "      <td>30.000000</td>\n",
       "      <td>4.000000</td>\n",
       "      <td>9.000000</td>\n",
       "      <td>0.000000</td>\n",
       "      <td>26756.500000</td>\n",
       "      <td>13105.000000</td>\n",
       "      <td>0.000000</td>\n",
       "      <td>454.500000</td>\n",
       "      <td>1.000000</td>\n",
       "      <td>502.000000</td>\n",
       "      <td>95.000000</td>\n",
       "    </tr>\n",
       "    <tr>\n",
       "      <th>75%</th>\n",
       "      <td>14.000000</td>\n",
       "      <td>6.799000e+06</td>\n",
       "      <td>69.700000</td>\n",
       "      <td>3.000000</td>\n",
       "      <td>2.720000</td>\n",
       "      <td>16.000000</td>\n",
       "      <td>42.100000</td>\n",
       "      <td>8.000000</td>\n",
       "      <td>12.000000</td>\n",
       "      <td>1.000000</td>\n",
       "      <td>37294.000000</td>\n",
       "      <td>16293.000000</td>\n",
       "      <td>1.000000</td>\n",
       "      <td>612.000000</td>\n",
       "      <td>1.000000</td>\n",
       "      <td>730.000000</td>\n",
       "      <td>231.000000</td>\n",
       "    </tr>\n",
       "    <tr>\n",
       "      <th>max</th>\n",
       "      <td>50.000000</td>\n",
       "      <td>7.630000e+08</td>\n",
       "      <td>900.000000</td>\n",
       "      <td>19.000000</td>\n",
       "      <td>14.000000</td>\n",
       "      <td>60.000000</td>\n",
       "      <td>409.700000</td>\n",
       "      <td>33.000000</td>\n",
       "      <td>112.000000</td>\n",
       "      <td>5.000000</td>\n",
       "      <td>84869.000000</td>\n",
       "      <td>65968.000000</td>\n",
       "      <td>3.000000</td>\n",
       "      <td>3190.000000</td>\n",
       "      <td>3.000000</td>\n",
       "      <td>1344.000000</td>\n",
       "      <td>1580.000000</td>\n",
       "    </tr>\n",
       "  </tbody>\n",
       "</table>\n",
       "</div>"
      ],
      "text/plain": [
       "       total_images    last_price    total_area         rooms  ceiling_height  \\\n",
       "count  23650.000000  2.365000e+04  23650.000000  23650.000000    23650.000000   \n",
       "mean       9.862326  6.541127e+06     60.329069      2.070106        2.725732   \n",
       "std        5.682278  1.089640e+07     35.661808      1.078620        0.250274   \n",
       "min        0.000000  1.219000e+04     12.000000      0.000000        1.000000   \n",
       "25%        6.000000  3.400000e+06     40.000000      1.000000        2.600000   \n",
       "50%        9.000000  4.650000e+06     52.000000      2.000000        2.720000   \n",
       "75%       14.000000  6.799000e+06     69.700000      3.000000        2.720000   \n",
       "max       50.000000  7.630000e+08    900.000000     19.000000       14.000000   \n",
       "\n",
       "       floors_total   living_area         floor  kitchen_area       balcony  \\\n",
       "count  23650.000000  23650.000000  23650.000000  23650.000000  23650.000000   \n",
       "mean      10.723763     34.582279      5.893277     10.502873      0.591712   \n",
       "std        6.631077     22.359584      4.883317      6.037438      0.959662   \n",
       "min        1.000000      2.000000      1.000000      1.300000      0.000000   \n",
       "25%        5.000000     19.000000      2.000000      7.000000      0.000000   \n",
       "50%        9.000000     30.000000      4.000000      9.000000      0.000000   \n",
       "75%       16.000000     42.100000      8.000000     12.000000      1.000000   \n",
       "max       60.000000    409.700000     33.000000    112.000000      5.000000   \n",
       "\n",
       "       airports_nearest  city_centers_nearest  parks_around  parks_nearest  \\\n",
       "count      18116.000000          18139.000000  18140.000000    8064.000000   \n",
       "mean       28803.225878          14197.860742      0.611577     490.830729   \n",
       "std        12637.314144           8606.830295      0.802003     342.554386   \n",
       "min            0.000000            181.000000      0.000000       1.000000   \n",
       "25%        18575.750000           9241.000000      0.000000     288.000000   \n",
       "50%        26756.500000          13105.000000      0.000000     454.500000   \n",
       "75%        37294.000000          16293.000000      1.000000     612.000000   \n",
       "max        84869.000000          65968.000000      3.000000    3190.000000   \n",
       "\n",
       "       ponds_around  ponds_nearest  days_exposition  \n",
       "count  18140.000000    9085.000000     20470.000000  \n",
       "mean       0.769680     518.059879       180.753200  \n",
       "std        0.937948     277.841733       219.777916  \n",
       "min        0.000000      13.000000         1.000000  \n",
       "25%        0.000000     293.000000        45.000000  \n",
       "50%        1.000000     502.000000        95.000000  \n",
       "75%        1.000000     730.000000       231.000000  \n",
       "max        3.000000    1344.000000      1580.000000  "
      ]
     },
     "execution_count": 13,
     "metadata": {},
     "output_type": "execute_result"
    }
   ],
   "source": [
    "df.describe()"
   ]
  },
  {
   "cell_type": "code",
   "execution_count": 14,
   "metadata": {
    "scrolled": true
   },
   "outputs": [
    {
     "data": {
      "text/plain": [
       "197"
      ]
     },
     "execution_count": 14,
     "metadata": {},
     "output_type": "execute_result"
    }
   ],
   "source": [
    "df.loc[df['rooms']==0]['rooms'].count()"
   ]
  },
  {
   "cell_type": "code",
   "execution_count": 15,
   "metadata": {
    "scrolled": true
   },
   "outputs": [
    {
     "name": "stderr",
     "output_type": "stream",
     "text": [
      "/opt/conda/lib/python3.9/site-packages/pandas/core/indexing.py:1720: SettingWithCopyWarning: \n",
      "A value is trying to be set on a copy of a slice from a DataFrame.\n",
      "Try using .loc[row_indexer,col_indexer] = value instead\n",
      "\n",
      "See the caveats in the documentation: https://pandas.pydata.org/pandas-docs/stable/user_guide/indexing.html#returning-a-view-versus-a-copy\n",
      "  self._setitem_single_column(loc, value, pi)\n"
     ]
    },
    {
     "data": {
      "text/plain": [
       "0"
      ]
     },
     "execution_count": 15,
     "metadata": {},
     "output_type": "execute_result"
    }
   ],
   "source": [
    "df.loc[df['rooms']==0, 'rooms'] = 1\n",
    "df.loc[df['rooms']==0]['rooms'].count()"
   ]
  },
  {
   "cell_type": "code",
   "execution_count": 16,
   "metadata": {},
   "outputs": [],
   "source": [
    "df = df.query('(ceiling_height > 2.0) and (ceiling_height < 10)')"
   ]
  },
  {
   "cell_type": "markdown",
   "metadata": {},
   "source": [
    "Убираем обьективные аномалии в высоте потолков. Те которые меньше 2 метров и те которые больше 10 метров(такие потолки в Питере всетаки могут быть из за специфики исторических обьектов недвижиости)."
   ]
  },
  {
   "cell_type": "code",
   "execution_count": 17,
   "metadata": {},
   "outputs": [],
   "source": [
    "df = df.query('total_area < 200')\n",
    "df = df.query('kitchen_area < 30')"
   ]
  },
  {
   "cell_type": "markdown",
   "metadata": {},
   "source": [
    "Убираем аномалии в размере площади и кухни."
   ]
  },
  {
   "cell_type": "code",
   "execution_count": 18,
   "metadata": {},
   "outputs": [],
   "source": [
    "df = df.query('rooms <= 7')"
   ]
  },
  {
   "cell_type": "markdown",
   "metadata": {},
   "source": [
    "Убираем аномалии в количестве комнат в квартирах"
   ]
  },
  {
   "cell_type": "code",
   "execution_count": 19,
   "metadata": {},
   "outputs": [
    {
     "data": {
      "text/html": [
       "<div>\n",
       "<style scoped>\n",
       "    .dataframe tbody tr th:only-of-type {\n",
       "        vertical-align: middle;\n",
       "    }\n",
       "\n",
       "    .dataframe tbody tr th {\n",
       "        vertical-align: top;\n",
       "    }\n",
       "\n",
       "    .dataframe thead th {\n",
       "        text-align: right;\n",
       "    }\n",
       "</style>\n",
       "<table border=\"1\" class=\"dataframe\">\n",
       "  <thead>\n",
       "    <tr style=\"text-align: right;\">\n",
       "      <th></th>\n",
       "      <th>total_images</th>\n",
       "      <th>last_price</th>\n",
       "      <th>total_area</th>\n",
       "      <th>rooms</th>\n",
       "      <th>ceiling_height</th>\n",
       "      <th>floors_total</th>\n",
       "      <th>living_area</th>\n",
       "      <th>floor</th>\n",
       "      <th>kitchen_area</th>\n",
       "      <th>balcony</th>\n",
       "      <th>airports_nearest</th>\n",
       "      <th>city_centers_nearest</th>\n",
       "      <th>parks_around</th>\n",
       "      <th>parks_nearest</th>\n",
       "      <th>ponds_around</th>\n",
       "      <th>ponds_nearest</th>\n",
       "      <th>days_exposition</th>\n",
       "    </tr>\n",
       "  </thead>\n",
       "  <tbody>\n",
       "    <tr>\n",
       "      <th>count</th>\n",
       "      <td>23077.000000</td>\n",
       "      <td>2.307700e+04</td>\n",
       "      <td>23077.000000</td>\n",
       "      <td>23077.00000</td>\n",
       "      <td>23077.000000</td>\n",
       "      <td>23077.000000</td>\n",
       "      <td>23077.000000</td>\n",
       "      <td>23077.000000</td>\n",
       "      <td>23077.000000</td>\n",
       "      <td>23077.000000</td>\n",
       "      <td>17579.000000</td>\n",
       "      <td>17599.000000</td>\n",
       "      <td>17600.000000</td>\n",
       "      <td>7722.000000</td>\n",
       "      <td>17600.000000</td>\n",
       "      <td>8731.000000</td>\n",
       "      <td>20042.000000</td>\n",
       "    </tr>\n",
       "    <tr>\n",
       "      <th>mean</th>\n",
       "      <td>9.798241</td>\n",
       "      <td>5.793522e+06</td>\n",
       "      <td>57.242437</td>\n",
       "      <td>2.02808</td>\n",
       "      <td>2.717746</td>\n",
       "      <td>10.773844</td>\n",
       "      <td>32.958142</td>\n",
       "      <td>5.898860</td>\n",
       "      <td>9.890941</td>\n",
       "      <td>0.593491</td>\n",
       "      <td>28826.136356</td>\n",
       "      <td>14372.558214</td>\n",
       "      <td>0.598011</td>\n",
       "      <td>492.740352</td>\n",
       "      <td>0.756250</td>\n",
       "      <td>522.069408</td>\n",
       "      <td>178.353807</td>\n",
       "    </tr>\n",
       "    <tr>\n",
       "      <th>std</th>\n",
       "      <td>5.648953</td>\n",
       "      <td>5.027203e+06</td>\n",
       "      <td>25.152774</td>\n",
       "      <td>0.97142</td>\n",
       "      <td>0.215610</td>\n",
       "      <td>6.643853</td>\n",
       "      <td>16.850386</td>\n",
       "      <td>4.893846</td>\n",
       "      <td>4.035564</td>\n",
       "      <td>0.956806</td>\n",
       "      <td>12729.846730</td>\n",
       "      <td>8590.739880</td>\n",
       "      <td>0.791056</td>\n",
       "      <td>341.584990</td>\n",
       "      <td>0.928745</td>\n",
       "      <td>277.222981</td>\n",
       "      <td>216.801130</td>\n",
       "    </tr>\n",
       "    <tr>\n",
       "      <th>min</th>\n",
       "      <td>0.000000</td>\n",
       "      <td>4.300000e+05</td>\n",
       "      <td>12.000000</td>\n",
       "      <td>1.00000</td>\n",
       "      <td>2.200000</td>\n",
       "      <td>1.000000</td>\n",
       "      <td>2.000000</td>\n",
       "      <td>1.000000</td>\n",
       "      <td>1.300000</td>\n",
       "      <td>0.000000</td>\n",
       "      <td>0.000000</td>\n",
       "      <td>181.000000</td>\n",
       "      <td>0.000000</td>\n",
       "      <td>1.000000</td>\n",
       "      <td>0.000000</td>\n",
       "      <td>13.000000</td>\n",
       "      <td>1.000000</td>\n",
       "    </tr>\n",
       "    <tr>\n",
       "      <th>25%</th>\n",
       "      <td>6.000000</td>\n",
       "      <td>3.400000e+06</td>\n",
       "      <td>40.000000</td>\n",
       "      <td>1.00000</td>\n",
       "      <td>2.600000</td>\n",
       "      <td>5.000000</td>\n",
       "      <td>18.900000</td>\n",
       "      <td>2.000000</td>\n",
       "      <td>7.000000</td>\n",
       "      <td>0.000000</td>\n",
       "      <td>18459.000000</td>\n",
       "      <td>9593.000000</td>\n",
       "      <td>0.000000</td>\n",
       "      <td>288.000000</td>\n",
       "      <td>0.000000</td>\n",
       "      <td>303.000000</td>\n",
       "      <td>44.000000</td>\n",
       "    </tr>\n",
       "    <tr>\n",
       "      <th>50%</th>\n",
       "      <td>9.000000</td>\n",
       "      <td>4.590000e+06</td>\n",
       "      <td>51.000000</td>\n",
       "      <td>2.00000</td>\n",
       "      <td>2.720000</td>\n",
       "      <td>9.000000</td>\n",
       "      <td>30.000000</td>\n",
       "      <td>4.000000</td>\n",
       "      <td>9.000000</td>\n",
       "      <td>0.000000</td>\n",
       "      <td>26815.000000</td>\n",
       "      <td>13222.000000</td>\n",
       "      <td>0.000000</td>\n",
       "      <td>456.000000</td>\n",
       "      <td>0.000000</td>\n",
       "      <td>506.000000</td>\n",
       "      <td>94.000000</td>\n",
       "    </tr>\n",
       "    <tr>\n",
       "      <th>75%</th>\n",
       "      <td>14.000000</td>\n",
       "      <td>6.519750e+06</td>\n",
       "      <td>67.800000</td>\n",
       "      <td>3.00000</td>\n",
       "      <td>2.720000</td>\n",
       "      <td>16.000000</td>\n",
       "      <td>41.700000</td>\n",
       "      <td>8.000000</td>\n",
       "      <td>11.500000</td>\n",
       "      <td>1.000000</td>\n",
       "      <td>37407.000000</td>\n",
       "      <td>16407.000000</td>\n",
       "      <td>1.000000</td>\n",
       "      <td>613.000000</td>\n",
       "      <td>1.000000</td>\n",
       "      <td>733.000000</td>\n",
       "      <td>228.000000</td>\n",
       "    </tr>\n",
       "    <tr>\n",
       "      <th>max</th>\n",
       "      <td>50.000000</td>\n",
       "      <td>1.240000e+08</td>\n",
       "      <td>198.900000</td>\n",
       "      <td>7.00000</td>\n",
       "      <td>8.300000</td>\n",
       "      <td>60.000000</td>\n",
       "      <td>164.700000</td>\n",
       "      <td>33.000000</td>\n",
       "      <td>29.900000</td>\n",
       "      <td>5.000000</td>\n",
       "      <td>84869.000000</td>\n",
       "      <td>65968.000000</td>\n",
       "      <td>3.000000</td>\n",
       "      <td>3190.000000</td>\n",
       "      <td>3.000000</td>\n",
       "      <td>1344.000000</td>\n",
       "      <td>1580.000000</td>\n",
       "    </tr>\n",
       "  </tbody>\n",
       "</table>\n",
       "</div>"
      ],
      "text/plain": [
       "       total_images    last_price    total_area        rooms  ceiling_height  \\\n",
       "count  23077.000000  2.307700e+04  23077.000000  23077.00000    23077.000000   \n",
       "mean       9.798241  5.793522e+06     57.242437      2.02808        2.717746   \n",
       "std        5.648953  5.027203e+06     25.152774      0.97142        0.215610   \n",
       "min        0.000000  4.300000e+05     12.000000      1.00000        2.200000   \n",
       "25%        6.000000  3.400000e+06     40.000000      1.00000        2.600000   \n",
       "50%        9.000000  4.590000e+06     51.000000      2.00000        2.720000   \n",
       "75%       14.000000  6.519750e+06     67.800000      3.00000        2.720000   \n",
       "max       50.000000  1.240000e+08    198.900000      7.00000        8.300000   \n",
       "\n",
       "       floors_total   living_area         floor  kitchen_area       balcony  \\\n",
       "count  23077.000000  23077.000000  23077.000000  23077.000000  23077.000000   \n",
       "mean      10.773844     32.958142      5.898860      9.890941      0.593491   \n",
       "std        6.643853     16.850386      4.893846      4.035564      0.956806   \n",
       "min        1.000000      2.000000      1.000000      1.300000      0.000000   \n",
       "25%        5.000000     18.900000      2.000000      7.000000      0.000000   \n",
       "50%        9.000000     30.000000      4.000000      9.000000      0.000000   \n",
       "75%       16.000000     41.700000      8.000000     11.500000      1.000000   \n",
       "max       60.000000    164.700000     33.000000     29.900000      5.000000   \n",
       "\n",
       "       airports_nearest  city_centers_nearest  parks_around  parks_nearest  \\\n",
       "count      17579.000000          17599.000000  17600.000000    7722.000000   \n",
       "mean       28826.136356          14372.558214      0.598011     492.740352   \n",
       "std        12729.846730           8590.739880      0.791056     341.584990   \n",
       "min            0.000000            181.000000      0.000000       1.000000   \n",
       "25%        18459.000000           9593.000000      0.000000     288.000000   \n",
       "50%        26815.000000          13222.000000      0.000000     456.000000   \n",
       "75%        37407.000000          16407.000000      1.000000     613.000000   \n",
       "max        84869.000000          65968.000000      3.000000    3190.000000   \n",
       "\n",
       "       ponds_around  ponds_nearest  days_exposition  \n",
       "count  17600.000000    8731.000000     20042.000000  \n",
       "mean       0.756250     522.069408       178.353807  \n",
       "std        0.928745     277.222981       216.801130  \n",
       "min        0.000000      13.000000         1.000000  \n",
       "25%        0.000000     303.000000        44.000000  \n",
       "50%        0.000000     506.000000        94.000000  \n",
       "75%        1.000000     733.000000       228.000000  \n",
       "max        3.000000    1344.000000      1580.000000  "
      ]
     },
     "execution_count": 19,
     "metadata": {},
     "output_type": "execute_result"
    }
   ],
   "source": [
    "df.describe()"
   ]
  },
  {
   "cell_type": "markdown",
   "metadata": {},
   "source": [
    "#### Выводы\n",
    "\n",
    "Проделана предобработка данных:\n",
    "- переименованные некоторые стобцы, такие как 'city_centers_nearest', 'parks_nearest', 'ponds_nearest'\n",
    "- пропуски в столбце 'ceiling_height' заменены на медианные, а также исправлены ошибки нереалистычных потолков\n",
    "- пропущенные значения 'floors_total' заменили на медианные\n",
    "- заменены пропуски в столбцах 'living_area' и 'kitchen_area' на средние значения\n",
    "- проставлены значения false в столбце 'is_apartment' где это необходимо\n",
    "- заменили пропуски в столбце 'balcony'\n",
    "- удалены пропуски в столбце 'locality_name', а также заменены названия строк для избежания дубликатов названий\n",
    "- изменили тип данных в столбцах: 'balcony'; 'floors_total'; 'is_apartment'\n",
    "- Убрали аномальные значения в столбцах 'total_area', 'kithcen_area', 'ceiling_height', 'rooms'\n",
    "\n",
    "Пропуски в датасете скорее всего появились вследствие неполной или некорректной информации от пользователя. "
   ]
  },
  {
   "cell_type": "markdown",
   "metadata": {},
   "source": [
    "### Посчитайте и добавьте в таблицу новые столбцы"
   ]
  },
  {
   "cell_type": "code",
   "execution_count": 20,
   "metadata": {
    "scrolled": true
   },
   "outputs": [
    {
     "data": {
      "text/html": [
       "<div>\n",
       "<style scoped>\n",
       "    .dataframe tbody tr th:only-of-type {\n",
       "        vertical-align: middle;\n",
       "    }\n",
       "\n",
       "    .dataframe tbody tr th {\n",
       "        vertical-align: top;\n",
       "    }\n",
       "\n",
       "    .dataframe thead th {\n",
       "        text-align: right;\n",
       "    }\n",
       "</style>\n",
       "<table border=\"1\" class=\"dataframe\">\n",
       "  <thead>\n",
       "    <tr style=\"text-align: right;\">\n",
       "      <th></th>\n",
       "      <th>total_images</th>\n",
       "      <th>last_price</th>\n",
       "      <th>total_area</th>\n",
       "      <th>first_day_exposition</th>\n",
       "      <th>rooms</th>\n",
       "      <th>ceiling_height</th>\n",
       "      <th>floors_total</th>\n",
       "      <th>living_area</th>\n",
       "      <th>floor</th>\n",
       "      <th>is_apartment</th>\n",
       "      <th>...</th>\n",
       "      <th>balcony</th>\n",
       "      <th>locality_name</th>\n",
       "      <th>airports_nearest</th>\n",
       "      <th>city_centers_nearest</th>\n",
       "      <th>parks_around</th>\n",
       "      <th>parks_nearest</th>\n",
       "      <th>ponds_around</th>\n",
       "      <th>ponds_nearest</th>\n",
       "      <th>days_exposition</th>\n",
       "      <th>one_square_meter</th>\n",
       "    </tr>\n",
       "  </thead>\n",
       "  <tbody>\n",
       "    <tr>\n",
       "      <th>0</th>\n",
       "      <td>20</td>\n",
       "      <td>13000000.0</td>\n",
       "      <td>108.0</td>\n",
       "      <td>2019-03-07</td>\n",
       "      <td>3</td>\n",
       "      <td>2.7</td>\n",
       "      <td>16</td>\n",
       "      <td>51.0</td>\n",
       "      <td>8</td>\n",
       "      <td>False</td>\n",
       "      <td>...</td>\n",
       "      <td>0</td>\n",
       "      <td>Санкт-Петербург</td>\n",
       "      <td>18863.0</td>\n",
       "      <td>16028.0</td>\n",
       "      <td>1.0</td>\n",
       "      <td>482.0</td>\n",
       "      <td>2.0</td>\n",
       "      <td>755.0</td>\n",
       "      <td>NaN</td>\n",
       "      <td>120370.4</td>\n",
       "    </tr>\n",
       "    <tr>\n",
       "      <th>1</th>\n",
       "      <td>7</td>\n",
       "      <td>3350000.0</td>\n",
       "      <td>40.4</td>\n",
       "      <td>2018-12-04</td>\n",
       "      <td>1</td>\n",
       "      <td>2.7</td>\n",
       "      <td>11</td>\n",
       "      <td>18.6</td>\n",
       "      <td>1</td>\n",
       "      <td>False</td>\n",
       "      <td>...</td>\n",
       "      <td>2</td>\n",
       "      <td>поселок Шушары</td>\n",
       "      <td>12817.0</td>\n",
       "      <td>18603.0</td>\n",
       "      <td>0.0</td>\n",
       "      <td>NaN</td>\n",
       "      <td>0.0</td>\n",
       "      <td>NaN</td>\n",
       "      <td>81.0</td>\n",
       "      <td>82920.8</td>\n",
       "    </tr>\n",
       "    <tr>\n",
       "      <th>2</th>\n",
       "      <td>10</td>\n",
       "      <td>5196000.0</td>\n",
       "      <td>56.0</td>\n",
       "      <td>2015-08-20</td>\n",
       "      <td>2</td>\n",
       "      <td>2.7</td>\n",
       "      <td>5</td>\n",
       "      <td>34.3</td>\n",
       "      <td>4</td>\n",
       "      <td>False</td>\n",
       "      <td>...</td>\n",
       "      <td>0</td>\n",
       "      <td>Санкт-Петербург</td>\n",
       "      <td>21741.0</td>\n",
       "      <td>13933.0</td>\n",
       "      <td>1.0</td>\n",
       "      <td>90.0</td>\n",
       "      <td>2.0</td>\n",
       "      <td>574.0</td>\n",
       "      <td>558.0</td>\n",
       "      <td>92785.7</td>\n",
       "    </tr>\n",
       "    <tr>\n",
       "      <th>3</th>\n",
       "      <td>0</td>\n",
       "      <td>64900000.0</td>\n",
       "      <td>159.0</td>\n",
       "      <td>2015-07-24</td>\n",
       "      <td>3</td>\n",
       "      <td>2.7</td>\n",
       "      <td>14</td>\n",
       "      <td>90.8</td>\n",
       "      <td>9</td>\n",
       "      <td>False</td>\n",
       "      <td>...</td>\n",
       "      <td>0</td>\n",
       "      <td>Санкт-Петербург</td>\n",
       "      <td>28098.0</td>\n",
       "      <td>6800.0</td>\n",
       "      <td>2.0</td>\n",
       "      <td>84.0</td>\n",
       "      <td>3.0</td>\n",
       "      <td>234.0</td>\n",
       "      <td>424.0</td>\n",
       "      <td>408176.1</td>\n",
       "    </tr>\n",
       "    <tr>\n",
       "      <th>5</th>\n",
       "      <td>10</td>\n",
       "      <td>2890000.0</td>\n",
       "      <td>30.4</td>\n",
       "      <td>2018-09-10</td>\n",
       "      <td>1</td>\n",
       "      <td>2.7</td>\n",
       "      <td>12</td>\n",
       "      <td>14.4</td>\n",
       "      <td>5</td>\n",
       "      <td>False</td>\n",
       "      <td>...</td>\n",
       "      <td>0</td>\n",
       "      <td>городской поселок Янино-1</td>\n",
       "      <td>NaN</td>\n",
       "      <td>NaN</td>\n",
       "      <td>NaN</td>\n",
       "      <td>NaN</td>\n",
       "      <td>NaN</td>\n",
       "      <td>NaN</td>\n",
       "      <td>55.0</td>\n",
       "      <td>95065.8</td>\n",
       "    </tr>\n",
       "    <tr>\n",
       "      <th>...</th>\n",
       "      <td>...</td>\n",
       "      <td>...</td>\n",
       "      <td>...</td>\n",
       "      <td>...</td>\n",
       "      <td>...</td>\n",
       "      <td>...</td>\n",
       "      <td>...</td>\n",
       "      <td>...</td>\n",
       "      <td>...</td>\n",
       "      <td>...</td>\n",
       "      <td>...</td>\n",
       "      <td>...</td>\n",
       "      <td>...</td>\n",
       "      <td>...</td>\n",
       "      <td>...</td>\n",
       "      <td>...</td>\n",
       "      <td>...</td>\n",
       "      <td>...</td>\n",
       "      <td>...</td>\n",
       "      <td>...</td>\n",
       "      <td>...</td>\n",
       "    </tr>\n",
       "    <tr>\n",
       "      <th>23694</th>\n",
       "      <td>9</td>\n",
       "      <td>9700000.0</td>\n",
       "      <td>133.8</td>\n",
       "      <td>2017-03-21</td>\n",
       "      <td>3</td>\n",
       "      <td>3.7</td>\n",
       "      <td>5</td>\n",
       "      <td>73.3</td>\n",
       "      <td>3</td>\n",
       "      <td>False</td>\n",
       "      <td>...</td>\n",
       "      <td>0</td>\n",
       "      <td>Санкт-Петербург</td>\n",
       "      <td>24665.0</td>\n",
       "      <td>4232.0</td>\n",
       "      <td>1.0</td>\n",
       "      <td>796.0</td>\n",
       "      <td>3.0</td>\n",
       "      <td>381.0</td>\n",
       "      <td>NaN</td>\n",
       "      <td>72490.8</td>\n",
       "    </tr>\n",
       "    <tr>\n",
       "      <th>23695</th>\n",
       "      <td>14</td>\n",
       "      <td>3100000.0</td>\n",
       "      <td>59.0</td>\n",
       "      <td>2018-01-15</td>\n",
       "      <td>3</td>\n",
       "      <td>2.7</td>\n",
       "      <td>5</td>\n",
       "      <td>38.0</td>\n",
       "      <td>4</td>\n",
       "      <td>False</td>\n",
       "      <td>...</td>\n",
       "      <td>0</td>\n",
       "      <td>Тосно</td>\n",
       "      <td>NaN</td>\n",
       "      <td>NaN</td>\n",
       "      <td>NaN</td>\n",
       "      <td>NaN</td>\n",
       "      <td>NaN</td>\n",
       "      <td>NaN</td>\n",
       "      <td>45.0</td>\n",
       "      <td>52542.4</td>\n",
       "    </tr>\n",
       "    <tr>\n",
       "      <th>23696</th>\n",
       "      <td>18</td>\n",
       "      <td>2500000.0</td>\n",
       "      <td>56.7</td>\n",
       "      <td>2018-02-11</td>\n",
       "      <td>2</td>\n",
       "      <td>2.7</td>\n",
       "      <td>3</td>\n",
       "      <td>29.7</td>\n",
       "      <td>1</td>\n",
       "      <td>False</td>\n",
       "      <td>...</td>\n",
       "      <td>0</td>\n",
       "      <td>село Рождествено</td>\n",
       "      <td>NaN</td>\n",
       "      <td>NaN</td>\n",
       "      <td>NaN</td>\n",
       "      <td>NaN</td>\n",
       "      <td>NaN</td>\n",
       "      <td>NaN</td>\n",
       "      <td>NaN</td>\n",
       "      <td>44091.7</td>\n",
       "    </tr>\n",
       "    <tr>\n",
       "      <th>23697</th>\n",
       "      <td>13</td>\n",
       "      <td>11475000.0</td>\n",
       "      <td>76.8</td>\n",
       "      <td>2017-03-28</td>\n",
       "      <td>2</td>\n",
       "      <td>3.0</td>\n",
       "      <td>17</td>\n",
       "      <td>43.8</td>\n",
       "      <td>12</td>\n",
       "      <td>False</td>\n",
       "      <td>...</td>\n",
       "      <td>2</td>\n",
       "      <td>Санкт-Петербург</td>\n",
       "      <td>39140.0</td>\n",
       "      <td>10364.0</td>\n",
       "      <td>2.0</td>\n",
       "      <td>173.0</td>\n",
       "      <td>3.0</td>\n",
       "      <td>196.0</td>\n",
       "      <td>602.0</td>\n",
       "      <td>149511.4</td>\n",
       "    </tr>\n",
       "    <tr>\n",
       "      <th>23698</th>\n",
       "      <td>4</td>\n",
       "      <td>1350000.0</td>\n",
       "      <td>32.3</td>\n",
       "      <td>2017-07-21</td>\n",
       "      <td>1</td>\n",
       "      <td>2.5</td>\n",
       "      <td>5</td>\n",
       "      <td>12.3</td>\n",
       "      <td>1</td>\n",
       "      <td>False</td>\n",
       "      <td>...</td>\n",
       "      <td>0</td>\n",
       "      <td>поселок Новый Учхоз</td>\n",
       "      <td>NaN</td>\n",
       "      <td>NaN</td>\n",
       "      <td>NaN</td>\n",
       "      <td>NaN</td>\n",
       "      <td>NaN</td>\n",
       "      <td>NaN</td>\n",
       "      <td>NaN</td>\n",
       "      <td>41795.7</td>\n",
       "    </tr>\n",
       "  </tbody>\n",
       "</table>\n",
       "<p>23077 rows × 23 columns</p>\n",
       "</div>"
      ],
      "text/plain": [
       "       total_images  last_price  total_area first_day_exposition  rooms  \\\n",
       "0                20  13000000.0       108.0           2019-03-07      3   \n",
       "1                 7   3350000.0        40.4           2018-12-04      1   \n",
       "2                10   5196000.0        56.0           2015-08-20      2   \n",
       "3                 0  64900000.0       159.0           2015-07-24      3   \n",
       "5                10   2890000.0        30.4           2018-09-10      1   \n",
       "...             ...         ...         ...                  ...    ...   \n",
       "23694             9   9700000.0       133.8           2017-03-21      3   \n",
       "23695            14   3100000.0        59.0           2018-01-15      3   \n",
       "23696            18   2500000.0        56.7           2018-02-11      2   \n",
       "23697            13  11475000.0        76.8           2017-03-28      2   \n",
       "23698             4   1350000.0        32.3           2017-07-21      1   \n",
       "\n",
       "       ceiling_height  floors_total  living_area  floor  is_apartment  ...  \\\n",
       "0                 2.7            16         51.0      8         False  ...   \n",
       "1                 2.7            11         18.6      1         False  ...   \n",
       "2                 2.7             5         34.3      4         False  ...   \n",
       "3                 2.7            14         90.8      9         False  ...   \n",
       "5                 2.7            12         14.4      5         False  ...   \n",
       "...               ...           ...          ...    ...           ...  ...   \n",
       "23694             3.7             5         73.3      3         False  ...   \n",
       "23695             2.7             5         38.0      4         False  ...   \n",
       "23696             2.7             3         29.7      1         False  ...   \n",
       "23697             3.0            17         43.8     12         False  ...   \n",
       "23698             2.5             5         12.3      1         False  ...   \n",
       "\n",
       "       balcony              locality_name  airports_nearest  \\\n",
       "0            0            Санкт-Петербург           18863.0   \n",
       "1            2             поселок Шушары           12817.0   \n",
       "2            0            Санкт-Петербург           21741.0   \n",
       "3            0            Санкт-Петербург           28098.0   \n",
       "5            0  городской поселок Янино-1               NaN   \n",
       "...        ...                        ...               ...   \n",
       "23694        0            Санкт-Петербург           24665.0   \n",
       "23695        0                      Тосно               NaN   \n",
       "23696        0           село Рождествено               NaN   \n",
       "23697        2            Санкт-Петербург           39140.0   \n",
       "23698        0        поселок Новый Учхоз               NaN   \n",
       "\n",
       "       city_centers_nearest parks_around  parks_nearest  ponds_around  \\\n",
       "0                   16028.0          1.0          482.0           2.0   \n",
       "1                   18603.0          0.0            NaN           0.0   \n",
       "2                   13933.0          1.0           90.0           2.0   \n",
       "3                    6800.0          2.0           84.0           3.0   \n",
       "5                       NaN          NaN            NaN           NaN   \n",
       "...                     ...          ...            ...           ...   \n",
       "23694                4232.0          1.0          796.0           3.0   \n",
       "23695                   NaN          NaN            NaN           NaN   \n",
       "23696                   NaN          NaN            NaN           NaN   \n",
       "23697               10364.0          2.0          173.0           3.0   \n",
       "23698                   NaN          NaN            NaN           NaN   \n",
       "\n",
       "       ponds_nearest  days_exposition  one_square_meter  \n",
       "0              755.0              NaN          120370.4  \n",
       "1                NaN             81.0           82920.8  \n",
       "2              574.0            558.0           92785.7  \n",
       "3              234.0            424.0          408176.1  \n",
       "5                NaN             55.0           95065.8  \n",
       "...              ...              ...               ...  \n",
       "23694          381.0              NaN           72490.8  \n",
       "23695            NaN             45.0           52542.4  \n",
       "23696            NaN              NaN           44091.7  \n",
       "23697          196.0            602.0          149511.4  \n",
       "23698            NaN              NaN           41795.7  \n",
       "\n",
       "[23077 rows x 23 columns]"
      ]
     },
     "metadata": {},
     "output_type": "display_data"
    }
   ],
   "source": [
    "df['one_square_meter'] = df['last_price'] / df['total_area'] # столбец с ценой за 1м\n",
    "df = df.round(1)\n",
    "display(df) # окгрулили до одной копейки"
   ]
  },
  {
   "cell_type": "code",
   "execution_count": 21,
   "metadata": {},
   "outputs": [
    {
     "data": {
      "text/html": [
       "<div>\n",
       "<style scoped>\n",
       "    .dataframe tbody tr th:only-of-type {\n",
       "        vertical-align: middle;\n",
       "    }\n",
       "\n",
       "    .dataframe tbody tr th {\n",
       "        vertical-align: top;\n",
       "    }\n",
       "\n",
       "    .dataframe thead th {\n",
       "        text-align: right;\n",
       "    }\n",
       "</style>\n",
       "<table border=\"1\" class=\"dataframe\">\n",
       "  <thead>\n",
       "    <tr style=\"text-align: right;\">\n",
       "      <th></th>\n",
       "      <th>total_images</th>\n",
       "      <th>last_price</th>\n",
       "      <th>total_area</th>\n",
       "      <th>first_day_exposition</th>\n",
       "      <th>rooms</th>\n",
       "      <th>ceiling_height</th>\n",
       "      <th>floors_total</th>\n",
       "      <th>living_area</th>\n",
       "      <th>floor</th>\n",
       "      <th>is_apartment</th>\n",
       "      <th>...</th>\n",
       "      <th>city_centers_nearest</th>\n",
       "      <th>parks_around</th>\n",
       "      <th>parks_nearest</th>\n",
       "      <th>ponds_around</th>\n",
       "      <th>ponds_nearest</th>\n",
       "      <th>days_exposition</th>\n",
       "      <th>one_square_meter</th>\n",
       "      <th>exposition_weekday</th>\n",
       "      <th>exposition_month</th>\n",
       "      <th>exposition_year</th>\n",
       "    </tr>\n",
       "  </thead>\n",
       "  <tbody>\n",
       "    <tr>\n",
       "      <th>0</th>\n",
       "      <td>20</td>\n",
       "      <td>13000000.0</td>\n",
       "      <td>108.0</td>\n",
       "      <td>2019-03-07</td>\n",
       "      <td>3</td>\n",
       "      <td>2.7</td>\n",
       "      <td>16</td>\n",
       "      <td>51.0</td>\n",
       "      <td>8</td>\n",
       "      <td>False</td>\n",
       "      <td>...</td>\n",
       "      <td>16028.0</td>\n",
       "      <td>1.0</td>\n",
       "      <td>482.0</td>\n",
       "      <td>2.0</td>\n",
       "      <td>755.0</td>\n",
       "      <td>NaN</td>\n",
       "      <td>120370.4</td>\n",
       "      <td>3</td>\n",
       "      <td>3</td>\n",
       "      <td>2019</td>\n",
       "    </tr>\n",
       "    <tr>\n",
       "      <th>1</th>\n",
       "      <td>7</td>\n",
       "      <td>3350000.0</td>\n",
       "      <td>40.4</td>\n",
       "      <td>2018-12-04</td>\n",
       "      <td>1</td>\n",
       "      <td>2.7</td>\n",
       "      <td>11</td>\n",
       "      <td>18.6</td>\n",
       "      <td>1</td>\n",
       "      <td>False</td>\n",
       "      <td>...</td>\n",
       "      <td>18603.0</td>\n",
       "      <td>0.0</td>\n",
       "      <td>NaN</td>\n",
       "      <td>0.0</td>\n",
       "      <td>NaN</td>\n",
       "      <td>81.0</td>\n",
       "      <td>82920.8</td>\n",
       "      <td>1</td>\n",
       "      <td>12</td>\n",
       "      <td>2018</td>\n",
       "    </tr>\n",
       "    <tr>\n",
       "      <th>2</th>\n",
       "      <td>10</td>\n",
       "      <td>5196000.0</td>\n",
       "      <td>56.0</td>\n",
       "      <td>2015-08-20</td>\n",
       "      <td>2</td>\n",
       "      <td>2.7</td>\n",
       "      <td>5</td>\n",
       "      <td>34.3</td>\n",
       "      <td>4</td>\n",
       "      <td>False</td>\n",
       "      <td>...</td>\n",
       "      <td>13933.0</td>\n",
       "      <td>1.0</td>\n",
       "      <td>90.0</td>\n",
       "      <td>2.0</td>\n",
       "      <td>574.0</td>\n",
       "      <td>558.0</td>\n",
       "      <td>92785.7</td>\n",
       "      <td>3</td>\n",
       "      <td>8</td>\n",
       "      <td>2015</td>\n",
       "    </tr>\n",
       "    <tr>\n",
       "      <th>3</th>\n",
       "      <td>0</td>\n",
       "      <td>64900000.0</td>\n",
       "      <td>159.0</td>\n",
       "      <td>2015-07-24</td>\n",
       "      <td>3</td>\n",
       "      <td>2.7</td>\n",
       "      <td>14</td>\n",
       "      <td>90.8</td>\n",
       "      <td>9</td>\n",
       "      <td>False</td>\n",
       "      <td>...</td>\n",
       "      <td>6800.0</td>\n",
       "      <td>2.0</td>\n",
       "      <td>84.0</td>\n",
       "      <td>3.0</td>\n",
       "      <td>234.0</td>\n",
       "      <td>424.0</td>\n",
       "      <td>408176.1</td>\n",
       "      <td>4</td>\n",
       "      <td>7</td>\n",
       "      <td>2015</td>\n",
       "    </tr>\n",
       "    <tr>\n",
       "      <th>5</th>\n",
       "      <td>10</td>\n",
       "      <td>2890000.0</td>\n",
       "      <td>30.4</td>\n",
       "      <td>2018-09-10</td>\n",
       "      <td>1</td>\n",
       "      <td>2.7</td>\n",
       "      <td>12</td>\n",
       "      <td>14.4</td>\n",
       "      <td>5</td>\n",
       "      <td>False</td>\n",
       "      <td>...</td>\n",
       "      <td>NaN</td>\n",
       "      <td>NaN</td>\n",
       "      <td>NaN</td>\n",
       "      <td>NaN</td>\n",
       "      <td>NaN</td>\n",
       "      <td>55.0</td>\n",
       "      <td>95065.8</td>\n",
       "      <td>0</td>\n",
       "      <td>9</td>\n",
       "      <td>2018</td>\n",
       "    </tr>\n",
       "    <tr>\n",
       "      <th>...</th>\n",
       "      <td>...</td>\n",
       "      <td>...</td>\n",
       "      <td>...</td>\n",
       "      <td>...</td>\n",
       "      <td>...</td>\n",
       "      <td>...</td>\n",
       "      <td>...</td>\n",
       "      <td>...</td>\n",
       "      <td>...</td>\n",
       "      <td>...</td>\n",
       "      <td>...</td>\n",
       "      <td>...</td>\n",
       "      <td>...</td>\n",
       "      <td>...</td>\n",
       "      <td>...</td>\n",
       "      <td>...</td>\n",
       "      <td>...</td>\n",
       "      <td>...</td>\n",
       "      <td>...</td>\n",
       "      <td>...</td>\n",
       "      <td>...</td>\n",
       "    </tr>\n",
       "    <tr>\n",
       "      <th>23694</th>\n",
       "      <td>9</td>\n",
       "      <td>9700000.0</td>\n",
       "      <td>133.8</td>\n",
       "      <td>2017-03-21</td>\n",
       "      <td>3</td>\n",
       "      <td>3.7</td>\n",
       "      <td>5</td>\n",
       "      <td>73.3</td>\n",
       "      <td>3</td>\n",
       "      <td>False</td>\n",
       "      <td>...</td>\n",
       "      <td>4232.0</td>\n",
       "      <td>1.0</td>\n",
       "      <td>796.0</td>\n",
       "      <td>3.0</td>\n",
       "      <td>381.0</td>\n",
       "      <td>NaN</td>\n",
       "      <td>72490.8</td>\n",
       "      <td>1</td>\n",
       "      <td>3</td>\n",
       "      <td>2017</td>\n",
       "    </tr>\n",
       "    <tr>\n",
       "      <th>23695</th>\n",
       "      <td>14</td>\n",
       "      <td>3100000.0</td>\n",
       "      <td>59.0</td>\n",
       "      <td>2018-01-15</td>\n",
       "      <td>3</td>\n",
       "      <td>2.7</td>\n",
       "      <td>5</td>\n",
       "      <td>38.0</td>\n",
       "      <td>4</td>\n",
       "      <td>False</td>\n",
       "      <td>...</td>\n",
       "      <td>NaN</td>\n",
       "      <td>NaN</td>\n",
       "      <td>NaN</td>\n",
       "      <td>NaN</td>\n",
       "      <td>NaN</td>\n",
       "      <td>45.0</td>\n",
       "      <td>52542.4</td>\n",
       "      <td>0</td>\n",
       "      <td>1</td>\n",
       "      <td>2018</td>\n",
       "    </tr>\n",
       "    <tr>\n",
       "      <th>23696</th>\n",
       "      <td>18</td>\n",
       "      <td>2500000.0</td>\n",
       "      <td>56.7</td>\n",
       "      <td>2018-02-11</td>\n",
       "      <td>2</td>\n",
       "      <td>2.7</td>\n",
       "      <td>3</td>\n",
       "      <td>29.7</td>\n",
       "      <td>1</td>\n",
       "      <td>False</td>\n",
       "      <td>...</td>\n",
       "      <td>NaN</td>\n",
       "      <td>NaN</td>\n",
       "      <td>NaN</td>\n",
       "      <td>NaN</td>\n",
       "      <td>NaN</td>\n",
       "      <td>NaN</td>\n",
       "      <td>44091.7</td>\n",
       "      <td>6</td>\n",
       "      <td>2</td>\n",
       "      <td>2018</td>\n",
       "    </tr>\n",
       "    <tr>\n",
       "      <th>23697</th>\n",
       "      <td>13</td>\n",
       "      <td>11475000.0</td>\n",
       "      <td>76.8</td>\n",
       "      <td>2017-03-28</td>\n",
       "      <td>2</td>\n",
       "      <td>3.0</td>\n",
       "      <td>17</td>\n",
       "      <td>43.8</td>\n",
       "      <td>12</td>\n",
       "      <td>False</td>\n",
       "      <td>...</td>\n",
       "      <td>10364.0</td>\n",
       "      <td>2.0</td>\n",
       "      <td>173.0</td>\n",
       "      <td>3.0</td>\n",
       "      <td>196.0</td>\n",
       "      <td>602.0</td>\n",
       "      <td>149511.4</td>\n",
       "      <td>1</td>\n",
       "      <td>3</td>\n",
       "      <td>2017</td>\n",
       "    </tr>\n",
       "    <tr>\n",
       "      <th>23698</th>\n",
       "      <td>4</td>\n",
       "      <td>1350000.0</td>\n",
       "      <td>32.3</td>\n",
       "      <td>2017-07-21</td>\n",
       "      <td>1</td>\n",
       "      <td>2.5</td>\n",
       "      <td>5</td>\n",
       "      <td>12.3</td>\n",
       "      <td>1</td>\n",
       "      <td>False</td>\n",
       "      <td>...</td>\n",
       "      <td>NaN</td>\n",
       "      <td>NaN</td>\n",
       "      <td>NaN</td>\n",
       "      <td>NaN</td>\n",
       "      <td>NaN</td>\n",
       "      <td>NaN</td>\n",
       "      <td>41795.7</td>\n",
       "      <td>4</td>\n",
       "      <td>7</td>\n",
       "      <td>2017</td>\n",
       "    </tr>\n",
       "  </tbody>\n",
       "</table>\n",
       "<p>23077 rows × 26 columns</p>\n",
       "</div>"
      ],
      "text/plain": [
       "       total_images  last_price  total_area first_day_exposition  rooms  \\\n",
       "0                20  13000000.0       108.0           2019-03-07      3   \n",
       "1                 7   3350000.0        40.4           2018-12-04      1   \n",
       "2                10   5196000.0        56.0           2015-08-20      2   \n",
       "3                 0  64900000.0       159.0           2015-07-24      3   \n",
       "5                10   2890000.0        30.4           2018-09-10      1   \n",
       "...             ...         ...         ...                  ...    ...   \n",
       "23694             9   9700000.0       133.8           2017-03-21      3   \n",
       "23695            14   3100000.0        59.0           2018-01-15      3   \n",
       "23696            18   2500000.0        56.7           2018-02-11      2   \n",
       "23697            13  11475000.0        76.8           2017-03-28      2   \n",
       "23698             4   1350000.0        32.3           2017-07-21      1   \n",
       "\n",
       "       ceiling_height  floors_total  living_area  floor  is_apartment  ...  \\\n",
       "0                 2.7            16         51.0      8         False  ...   \n",
       "1                 2.7            11         18.6      1         False  ...   \n",
       "2                 2.7             5         34.3      4         False  ...   \n",
       "3                 2.7            14         90.8      9         False  ...   \n",
       "5                 2.7            12         14.4      5         False  ...   \n",
       "...               ...           ...          ...    ...           ...  ...   \n",
       "23694             3.7             5         73.3      3         False  ...   \n",
       "23695             2.7             5         38.0      4         False  ...   \n",
       "23696             2.7             3         29.7      1         False  ...   \n",
       "23697             3.0            17         43.8     12         False  ...   \n",
       "23698             2.5             5         12.3      1         False  ...   \n",
       "\n",
       "       city_centers_nearest  parks_around  parks_nearest  ponds_around  \\\n",
       "0                   16028.0           1.0          482.0           2.0   \n",
       "1                   18603.0           0.0            NaN           0.0   \n",
       "2                   13933.0           1.0           90.0           2.0   \n",
       "3                    6800.0           2.0           84.0           3.0   \n",
       "5                       NaN           NaN            NaN           NaN   \n",
       "...                     ...           ...            ...           ...   \n",
       "23694                4232.0           1.0          796.0           3.0   \n",
       "23695                   NaN           NaN            NaN           NaN   \n",
       "23696                   NaN           NaN            NaN           NaN   \n",
       "23697               10364.0           2.0          173.0           3.0   \n",
       "23698                   NaN           NaN            NaN           NaN   \n",
       "\n",
       "      ponds_nearest  days_exposition  one_square_meter  exposition_weekday  \\\n",
       "0             755.0              NaN          120370.4                   3   \n",
       "1               NaN             81.0           82920.8                   1   \n",
       "2             574.0            558.0           92785.7                   3   \n",
       "3             234.0            424.0          408176.1                   4   \n",
       "5               NaN             55.0           95065.8                   0   \n",
       "...             ...              ...               ...                 ...   \n",
       "23694         381.0              NaN           72490.8                   1   \n",
       "23695           NaN             45.0           52542.4                   0   \n",
       "23696           NaN              NaN           44091.7                   6   \n",
       "23697         196.0            602.0          149511.4                   1   \n",
       "23698           NaN              NaN           41795.7                   4   \n",
       "\n",
       "       exposition_month  exposition_year  \n",
       "0                     3             2019  \n",
       "1                    12             2018  \n",
       "2                     8             2015  \n",
       "3                     7             2015  \n",
       "5                     9             2018  \n",
       "...                 ...              ...  \n",
       "23694                 3             2017  \n",
       "23695                 1             2018  \n",
       "23696                 2             2018  \n",
       "23697                 3             2017  \n",
       "23698                 7             2017  \n",
       "\n",
       "[23077 rows x 26 columns]"
      ]
     },
     "metadata": {},
     "output_type": "display_data"
    }
   ],
   "source": [
    "df['exposition_weekday'] = df['first_day_exposition'].dt.weekday\n",
    "df['exposition_month'] = df['first_day_exposition'].dt.month\n",
    "df['exposition_year'] = df['first_day_exposition'].dt.year\n",
    "display(df)"
   ]
  },
  {
   "cell_type": "code",
   "execution_count": 22,
   "metadata": {},
   "outputs": [
    {
     "data": {
      "text/html": [
       "<div>\n",
       "<style scoped>\n",
       "    .dataframe tbody tr th:only-of-type {\n",
       "        vertical-align: middle;\n",
       "    }\n",
       "\n",
       "    .dataframe tbody tr th {\n",
       "        vertical-align: top;\n",
       "    }\n",
       "\n",
       "    .dataframe thead th {\n",
       "        text-align: right;\n",
       "    }\n",
       "</style>\n",
       "<table border=\"1\" class=\"dataframe\">\n",
       "  <thead>\n",
       "    <tr style=\"text-align: right;\">\n",
       "      <th></th>\n",
       "      <th>total_images</th>\n",
       "      <th>last_price</th>\n",
       "      <th>total_area</th>\n",
       "      <th>first_day_exposition</th>\n",
       "      <th>rooms</th>\n",
       "      <th>ceiling_height</th>\n",
       "      <th>floors_total</th>\n",
       "      <th>living_area</th>\n",
       "      <th>floor</th>\n",
       "      <th>is_apartment</th>\n",
       "      <th>...</th>\n",
       "      <th>parks_around</th>\n",
       "      <th>parks_nearest</th>\n",
       "      <th>ponds_around</th>\n",
       "      <th>ponds_nearest</th>\n",
       "      <th>days_exposition</th>\n",
       "      <th>one_square_meter</th>\n",
       "      <th>exposition_weekday</th>\n",
       "      <th>exposition_month</th>\n",
       "      <th>exposition_year</th>\n",
       "      <th>floor_type</th>\n",
       "    </tr>\n",
       "  </thead>\n",
       "  <tbody>\n",
       "    <tr>\n",
       "      <th>0</th>\n",
       "      <td>20</td>\n",
       "      <td>13000000.0</td>\n",
       "      <td>108.0</td>\n",
       "      <td>2019-03-07</td>\n",
       "      <td>3</td>\n",
       "      <td>2.7</td>\n",
       "      <td>16</td>\n",
       "      <td>51.0</td>\n",
       "      <td>8</td>\n",
       "      <td>False</td>\n",
       "      <td>...</td>\n",
       "      <td>1.0</td>\n",
       "      <td>482.0</td>\n",
       "      <td>2.0</td>\n",
       "      <td>755.0</td>\n",
       "      <td>NaN</td>\n",
       "      <td>120370.4</td>\n",
       "      <td>3</td>\n",
       "      <td>3</td>\n",
       "      <td>2019</td>\n",
       "      <td>другой</td>\n",
       "    </tr>\n",
       "    <tr>\n",
       "      <th>1</th>\n",
       "      <td>7</td>\n",
       "      <td>3350000.0</td>\n",
       "      <td>40.4</td>\n",
       "      <td>2018-12-04</td>\n",
       "      <td>1</td>\n",
       "      <td>2.7</td>\n",
       "      <td>11</td>\n",
       "      <td>18.6</td>\n",
       "      <td>1</td>\n",
       "      <td>False</td>\n",
       "      <td>...</td>\n",
       "      <td>0.0</td>\n",
       "      <td>NaN</td>\n",
       "      <td>0.0</td>\n",
       "      <td>NaN</td>\n",
       "      <td>81.0</td>\n",
       "      <td>82920.8</td>\n",
       "      <td>1</td>\n",
       "      <td>12</td>\n",
       "      <td>2018</td>\n",
       "      <td>первый</td>\n",
       "    </tr>\n",
       "    <tr>\n",
       "      <th>2</th>\n",
       "      <td>10</td>\n",
       "      <td>5196000.0</td>\n",
       "      <td>56.0</td>\n",
       "      <td>2015-08-20</td>\n",
       "      <td>2</td>\n",
       "      <td>2.7</td>\n",
       "      <td>5</td>\n",
       "      <td>34.3</td>\n",
       "      <td>4</td>\n",
       "      <td>False</td>\n",
       "      <td>...</td>\n",
       "      <td>1.0</td>\n",
       "      <td>90.0</td>\n",
       "      <td>2.0</td>\n",
       "      <td>574.0</td>\n",
       "      <td>558.0</td>\n",
       "      <td>92785.7</td>\n",
       "      <td>3</td>\n",
       "      <td>8</td>\n",
       "      <td>2015</td>\n",
       "      <td>другой</td>\n",
       "    </tr>\n",
       "    <tr>\n",
       "      <th>3</th>\n",
       "      <td>0</td>\n",
       "      <td>64900000.0</td>\n",
       "      <td>159.0</td>\n",
       "      <td>2015-07-24</td>\n",
       "      <td>3</td>\n",
       "      <td>2.7</td>\n",
       "      <td>14</td>\n",
       "      <td>90.8</td>\n",
       "      <td>9</td>\n",
       "      <td>False</td>\n",
       "      <td>...</td>\n",
       "      <td>2.0</td>\n",
       "      <td>84.0</td>\n",
       "      <td>3.0</td>\n",
       "      <td>234.0</td>\n",
       "      <td>424.0</td>\n",
       "      <td>408176.1</td>\n",
       "      <td>4</td>\n",
       "      <td>7</td>\n",
       "      <td>2015</td>\n",
       "      <td>другой</td>\n",
       "    </tr>\n",
       "    <tr>\n",
       "      <th>5</th>\n",
       "      <td>10</td>\n",
       "      <td>2890000.0</td>\n",
       "      <td>30.4</td>\n",
       "      <td>2018-09-10</td>\n",
       "      <td>1</td>\n",
       "      <td>2.7</td>\n",
       "      <td>12</td>\n",
       "      <td>14.4</td>\n",
       "      <td>5</td>\n",
       "      <td>False</td>\n",
       "      <td>...</td>\n",
       "      <td>NaN</td>\n",
       "      <td>NaN</td>\n",
       "      <td>NaN</td>\n",
       "      <td>NaN</td>\n",
       "      <td>55.0</td>\n",
       "      <td>95065.8</td>\n",
       "      <td>0</td>\n",
       "      <td>9</td>\n",
       "      <td>2018</td>\n",
       "      <td>другой</td>\n",
       "    </tr>\n",
       "    <tr>\n",
       "      <th>...</th>\n",
       "      <td>...</td>\n",
       "      <td>...</td>\n",
       "      <td>...</td>\n",
       "      <td>...</td>\n",
       "      <td>...</td>\n",
       "      <td>...</td>\n",
       "      <td>...</td>\n",
       "      <td>...</td>\n",
       "      <td>...</td>\n",
       "      <td>...</td>\n",
       "      <td>...</td>\n",
       "      <td>...</td>\n",
       "      <td>...</td>\n",
       "      <td>...</td>\n",
       "      <td>...</td>\n",
       "      <td>...</td>\n",
       "      <td>...</td>\n",
       "      <td>...</td>\n",
       "      <td>...</td>\n",
       "      <td>...</td>\n",
       "      <td>...</td>\n",
       "    </tr>\n",
       "    <tr>\n",
       "      <th>23694</th>\n",
       "      <td>9</td>\n",
       "      <td>9700000.0</td>\n",
       "      <td>133.8</td>\n",
       "      <td>2017-03-21</td>\n",
       "      <td>3</td>\n",
       "      <td>3.7</td>\n",
       "      <td>5</td>\n",
       "      <td>73.3</td>\n",
       "      <td>3</td>\n",
       "      <td>False</td>\n",
       "      <td>...</td>\n",
       "      <td>1.0</td>\n",
       "      <td>796.0</td>\n",
       "      <td>3.0</td>\n",
       "      <td>381.0</td>\n",
       "      <td>NaN</td>\n",
       "      <td>72490.8</td>\n",
       "      <td>1</td>\n",
       "      <td>3</td>\n",
       "      <td>2017</td>\n",
       "      <td>другой</td>\n",
       "    </tr>\n",
       "    <tr>\n",
       "      <th>23695</th>\n",
       "      <td>14</td>\n",
       "      <td>3100000.0</td>\n",
       "      <td>59.0</td>\n",
       "      <td>2018-01-15</td>\n",
       "      <td>3</td>\n",
       "      <td>2.7</td>\n",
       "      <td>5</td>\n",
       "      <td>38.0</td>\n",
       "      <td>4</td>\n",
       "      <td>False</td>\n",
       "      <td>...</td>\n",
       "      <td>NaN</td>\n",
       "      <td>NaN</td>\n",
       "      <td>NaN</td>\n",
       "      <td>NaN</td>\n",
       "      <td>45.0</td>\n",
       "      <td>52542.4</td>\n",
       "      <td>0</td>\n",
       "      <td>1</td>\n",
       "      <td>2018</td>\n",
       "      <td>другой</td>\n",
       "    </tr>\n",
       "    <tr>\n",
       "      <th>23696</th>\n",
       "      <td>18</td>\n",
       "      <td>2500000.0</td>\n",
       "      <td>56.7</td>\n",
       "      <td>2018-02-11</td>\n",
       "      <td>2</td>\n",
       "      <td>2.7</td>\n",
       "      <td>3</td>\n",
       "      <td>29.7</td>\n",
       "      <td>1</td>\n",
       "      <td>False</td>\n",
       "      <td>...</td>\n",
       "      <td>NaN</td>\n",
       "      <td>NaN</td>\n",
       "      <td>NaN</td>\n",
       "      <td>NaN</td>\n",
       "      <td>NaN</td>\n",
       "      <td>44091.7</td>\n",
       "      <td>6</td>\n",
       "      <td>2</td>\n",
       "      <td>2018</td>\n",
       "      <td>первый</td>\n",
       "    </tr>\n",
       "    <tr>\n",
       "      <th>23697</th>\n",
       "      <td>13</td>\n",
       "      <td>11475000.0</td>\n",
       "      <td>76.8</td>\n",
       "      <td>2017-03-28</td>\n",
       "      <td>2</td>\n",
       "      <td>3.0</td>\n",
       "      <td>17</td>\n",
       "      <td>43.8</td>\n",
       "      <td>12</td>\n",
       "      <td>False</td>\n",
       "      <td>...</td>\n",
       "      <td>2.0</td>\n",
       "      <td>173.0</td>\n",
       "      <td>3.0</td>\n",
       "      <td>196.0</td>\n",
       "      <td>602.0</td>\n",
       "      <td>149511.4</td>\n",
       "      <td>1</td>\n",
       "      <td>3</td>\n",
       "      <td>2017</td>\n",
       "      <td>другой</td>\n",
       "    </tr>\n",
       "    <tr>\n",
       "      <th>23698</th>\n",
       "      <td>4</td>\n",
       "      <td>1350000.0</td>\n",
       "      <td>32.3</td>\n",
       "      <td>2017-07-21</td>\n",
       "      <td>1</td>\n",
       "      <td>2.5</td>\n",
       "      <td>5</td>\n",
       "      <td>12.3</td>\n",
       "      <td>1</td>\n",
       "      <td>False</td>\n",
       "      <td>...</td>\n",
       "      <td>NaN</td>\n",
       "      <td>NaN</td>\n",
       "      <td>NaN</td>\n",
       "      <td>NaN</td>\n",
       "      <td>NaN</td>\n",
       "      <td>41795.7</td>\n",
       "      <td>4</td>\n",
       "      <td>7</td>\n",
       "      <td>2017</td>\n",
       "      <td>первый</td>\n",
       "    </tr>\n",
       "  </tbody>\n",
       "</table>\n",
       "<p>23077 rows × 27 columns</p>\n",
       "</div>"
      ],
      "text/plain": [
       "       total_images  last_price  total_area first_day_exposition  rooms  \\\n",
       "0                20  13000000.0       108.0           2019-03-07      3   \n",
       "1                 7   3350000.0        40.4           2018-12-04      1   \n",
       "2                10   5196000.0        56.0           2015-08-20      2   \n",
       "3                 0  64900000.0       159.0           2015-07-24      3   \n",
       "5                10   2890000.0        30.4           2018-09-10      1   \n",
       "...             ...         ...         ...                  ...    ...   \n",
       "23694             9   9700000.0       133.8           2017-03-21      3   \n",
       "23695            14   3100000.0        59.0           2018-01-15      3   \n",
       "23696            18   2500000.0        56.7           2018-02-11      2   \n",
       "23697            13  11475000.0        76.8           2017-03-28      2   \n",
       "23698             4   1350000.0        32.3           2017-07-21      1   \n",
       "\n",
       "       ceiling_height  floors_total  living_area  floor  is_apartment  ...  \\\n",
       "0                 2.7            16         51.0      8         False  ...   \n",
       "1                 2.7            11         18.6      1         False  ...   \n",
       "2                 2.7             5         34.3      4         False  ...   \n",
       "3                 2.7            14         90.8      9         False  ...   \n",
       "5                 2.7            12         14.4      5         False  ...   \n",
       "...               ...           ...          ...    ...           ...  ...   \n",
       "23694             3.7             5         73.3      3         False  ...   \n",
       "23695             2.7             5         38.0      4         False  ...   \n",
       "23696             2.7             3         29.7      1         False  ...   \n",
       "23697             3.0            17         43.8     12         False  ...   \n",
       "23698             2.5             5         12.3      1         False  ...   \n",
       "\n",
       "       parks_around  parks_nearest  ponds_around  ponds_nearest  \\\n",
       "0               1.0          482.0           2.0          755.0   \n",
       "1               0.0            NaN           0.0            NaN   \n",
       "2               1.0           90.0           2.0          574.0   \n",
       "3               2.0           84.0           3.0          234.0   \n",
       "5               NaN            NaN           NaN            NaN   \n",
       "...             ...            ...           ...            ...   \n",
       "23694           1.0          796.0           3.0          381.0   \n",
       "23695           NaN            NaN           NaN            NaN   \n",
       "23696           NaN            NaN           NaN            NaN   \n",
       "23697           2.0          173.0           3.0          196.0   \n",
       "23698           NaN            NaN           NaN            NaN   \n",
       "\n",
       "      days_exposition  one_square_meter  exposition_weekday  exposition_month  \\\n",
       "0                 NaN          120370.4                   3                 3   \n",
       "1                81.0           82920.8                   1                12   \n",
       "2               558.0           92785.7                   3                 8   \n",
       "3               424.0          408176.1                   4                 7   \n",
       "5                55.0           95065.8                   0                 9   \n",
       "...               ...               ...                 ...               ...   \n",
       "23694             NaN           72490.8                   1                 3   \n",
       "23695            45.0           52542.4                   0                 1   \n",
       "23696             NaN           44091.7                   6                 2   \n",
       "23697           602.0          149511.4                   1                 3   \n",
       "23698             NaN           41795.7                   4                 7   \n",
       "\n",
       "       exposition_year  floor_type  \n",
       "0                 2019      другой  \n",
       "1                 2018      первый  \n",
       "2                 2015      другой  \n",
       "3                 2015      другой  \n",
       "5                 2018      другой  \n",
       "...                ...         ...  \n",
       "23694             2017      другой  \n",
       "23695             2018      другой  \n",
       "23696             2018      первый  \n",
       "23697             2017      другой  \n",
       "23698             2017      первый  \n",
       "\n",
       "[23077 rows x 27 columns]"
      ]
     },
     "metadata": {},
     "output_type": "display_data"
    }
   ],
   "source": [
    "def floor_type(row):\n",
    "    if row['floor'] == 1:\n",
    "        return 'первый'\n",
    "    elif row['floor'] == row['floors_total']:\n",
    "        return 'последний'\n",
    "    else:\n",
    "        return 'другой'\n",
    "df['floor_type'] = df.apply(floor_type, axis=1)\n",
    "display(df)"
   ]
  },
  {
   "cell_type": "code",
   "execution_count": 23,
   "metadata": {},
   "outputs": [
    {
     "data": {
      "text/html": [
       "<div>\n",
       "<style scoped>\n",
       "    .dataframe tbody tr th:only-of-type {\n",
       "        vertical-align: middle;\n",
       "    }\n",
       "\n",
       "    .dataframe tbody tr th {\n",
       "        vertical-align: top;\n",
       "    }\n",
       "\n",
       "    .dataframe thead th {\n",
       "        text-align: right;\n",
       "    }\n",
       "</style>\n",
       "<table border=\"1\" class=\"dataframe\">\n",
       "  <thead>\n",
       "    <tr style=\"text-align: right;\">\n",
       "      <th></th>\n",
       "      <th>total_images</th>\n",
       "      <th>last_price</th>\n",
       "      <th>total_area</th>\n",
       "      <th>first_day_exposition</th>\n",
       "      <th>rooms</th>\n",
       "      <th>ceiling_height</th>\n",
       "      <th>floors_total</th>\n",
       "      <th>living_area</th>\n",
       "      <th>floor</th>\n",
       "      <th>is_apartment</th>\n",
       "      <th>...</th>\n",
       "      <th>parks_around</th>\n",
       "      <th>parks_nearest</th>\n",
       "      <th>ponds_around</th>\n",
       "      <th>ponds_nearest</th>\n",
       "      <th>days_exposition</th>\n",
       "      <th>one_square_meter</th>\n",
       "      <th>exposition_weekday</th>\n",
       "      <th>exposition_month</th>\n",
       "      <th>exposition_year</th>\n",
       "      <th>floor_type</th>\n",
       "    </tr>\n",
       "  </thead>\n",
       "  <tbody>\n",
       "    <tr>\n",
       "      <th>0</th>\n",
       "      <td>20</td>\n",
       "      <td>13000000.0</td>\n",
       "      <td>108.0</td>\n",
       "      <td>2019-03-07</td>\n",
       "      <td>3</td>\n",
       "      <td>2.7</td>\n",
       "      <td>16</td>\n",
       "      <td>51.0</td>\n",
       "      <td>8</td>\n",
       "      <td>False</td>\n",
       "      <td>...</td>\n",
       "      <td>1.0</td>\n",
       "      <td>482.0</td>\n",
       "      <td>2.0</td>\n",
       "      <td>755.0</td>\n",
       "      <td>NaN</td>\n",
       "      <td>120370.4</td>\n",
       "      <td>3</td>\n",
       "      <td>3</td>\n",
       "      <td>2019</td>\n",
       "      <td>другой</td>\n",
       "    </tr>\n",
       "    <tr>\n",
       "      <th>1</th>\n",
       "      <td>7</td>\n",
       "      <td>3350000.0</td>\n",
       "      <td>40.4</td>\n",
       "      <td>2018-12-04</td>\n",
       "      <td>1</td>\n",
       "      <td>2.7</td>\n",
       "      <td>11</td>\n",
       "      <td>18.6</td>\n",
       "      <td>1</td>\n",
       "      <td>False</td>\n",
       "      <td>...</td>\n",
       "      <td>0.0</td>\n",
       "      <td>NaN</td>\n",
       "      <td>0.0</td>\n",
       "      <td>NaN</td>\n",
       "      <td>81.0</td>\n",
       "      <td>82920.8</td>\n",
       "      <td>1</td>\n",
       "      <td>12</td>\n",
       "      <td>2018</td>\n",
       "      <td>первый</td>\n",
       "    </tr>\n",
       "    <tr>\n",
       "      <th>2</th>\n",
       "      <td>10</td>\n",
       "      <td>5196000.0</td>\n",
       "      <td>56.0</td>\n",
       "      <td>2015-08-20</td>\n",
       "      <td>2</td>\n",
       "      <td>2.7</td>\n",
       "      <td>5</td>\n",
       "      <td>34.3</td>\n",
       "      <td>4</td>\n",
       "      <td>False</td>\n",
       "      <td>...</td>\n",
       "      <td>1.0</td>\n",
       "      <td>90.0</td>\n",
       "      <td>2.0</td>\n",
       "      <td>574.0</td>\n",
       "      <td>558.0</td>\n",
       "      <td>92785.7</td>\n",
       "      <td>3</td>\n",
       "      <td>8</td>\n",
       "      <td>2015</td>\n",
       "      <td>другой</td>\n",
       "    </tr>\n",
       "    <tr>\n",
       "      <th>3</th>\n",
       "      <td>0</td>\n",
       "      <td>64900000.0</td>\n",
       "      <td>159.0</td>\n",
       "      <td>2015-07-24</td>\n",
       "      <td>3</td>\n",
       "      <td>2.7</td>\n",
       "      <td>14</td>\n",
       "      <td>90.8</td>\n",
       "      <td>9</td>\n",
       "      <td>False</td>\n",
       "      <td>...</td>\n",
       "      <td>2.0</td>\n",
       "      <td>84.0</td>\n",
       "      <td>3.0</td>\n",
       "      <td>234.0</td>\n",
       "      <td>424.0</td>\n",
       "      <td>408176.1</td>\n",
       "      <td>4</td>\n",
       "      <td>7</td>\n",
       "      <td>2015</td>\n",
       "      <td>другой</td>\n",
       "    </tr>\n",
       "    <tr>\n",
       "      <th>5</th>\n",
       "      <td>10</td>\n",
       "      <td>2890000.0</td>\n",
       "      <td>30.4</td>\n",
       "      <td>2018-09-10</td>\n",
       "      <td>1</td>\n",
       "      <td>2.7</td>\n",
       "      <td>12</td>\n",
       "      <td>14.4</td>\n",
       "      <td>5</td>\n",
       "      <td>False</td>\n",
       "      <td>...</td>\n",
       "      <td>NaN</td>\n",
       "      <td>NaN</td>\n",
       "      <td>NaN</td>\n",
       "      <td>NaN</td>\n",
       "      <td>55.0</td>\n",
       "      <td>95065.8</td>\n",
       "      <td>0</td>\n",
       "      <td>9</td>\n",
       "      <td>2018</td>\n",
       "      <td>другой</td>\n",
       "    </tr>\n",
       "    <tr>\n",
       "      <th>...</th>\n",
       "      <td>...</td>\n",
       "      <td>...</td>\n",
       "      <td>...</td>\n",
       "      <td>...</td>\n",
       "      <td>...</td>\n",
       "      <td>...</td>\n",
       "      <td>...</td>\n",
       "      <td>...</td>\n",
       "      <td>...</td>\n",
       "      <td>...</td>\n",
       "      <td>...</td>\n",
       "      <td>...</td>\n",
       "      <td>...</td>\n",
       "      <td>...</td>\n",
       "      <td>...</td>\n",
       "      <td>...</td>\n",
       "      <td>...</td>\n",
       "      <td>...</td>\n",
       "      <td>...</td>\n",
       "      <td>...</td>\n",
       "      <td>...</td>\n",
       "    </tr>\n",
       "    <tr>\n",
       "      <th>23694</th>\n",
       "      <td>9</td>\n",
       "      <td>9700000.0</td>\n",
       "      <td>133.8</td>\n",
       "      <td>2017-03-21</td>\n",
       "      <td>3</td>\n",
       "      <td>3.7</td>\n",
       "      <td>5</td>\n",
       "      <td>73.3</td>\n",
       "      <td>3</td>\n",
       "      <td>False</td>\n",
       "      <td>...</td>\n",
       "      <td>1.0</td>\n",
       "      <td>796.0</td>\n",
       "      <td>3.0</td>\n",
       "      <td>381.0</td>\n",
       "      <td>NaN</td>\n",
       "      <td>72490.8</td>\n",
       "      <td>1</td>\n",
       "      <td>3</td>\n",
       "      <td>2017</td>\n",
       "      <td>другой</td>\n",
       "    </tr>\n",
       "    <tr>\n",
       "      <th>23695</th>\n",
       "      <td>14</td>\n",
       "      <td>3100000.0</td>\n",
       "      <td>59.0</td>\n",
       "      <td>2018-01-15</td>\n",
       "      <td>3</td>\n",
       "      <td>2.7</td>\n",
       "      <td>5</td>\n",
       "      <td>38.0</td>\n",
       "      <td>4</td>\n",
       "      <td>False</td>\n",
       "      <td>...</td>\n",
       "      <td>NaN</td>\n",
       "      <td>NaN</td>\n",
       "      <td>NaN</td>\n",
       "      <td>NaN</td>\n",
       "      <td>45.0</td>\n",
       "      <td>52542.4</td>\n",
       "      <td>0</td>\n",
       "      <td>1</td>\n",
       "      <td>2018</td>\n",
       "      <td>другой</td>\n",
       "    </tr>\n",
       "    <tr>\n",
       "      <th>23696</th>\n",
       "      <td>18</td>\n",
       "      <td>2500000.0</td>\n",
       "      <td>56.7</td>\n",
       "      <td>2018-02-11</td>\n",
       "      <td>2</td>\n",
       "      <td>2.7</td>\n",
       "      <td>3</td>\n",
       "      <td>29.7</td>\n",
       "      <td>1</td>\n",
       "      <td>False</td>\n",
       "      <td>...</td>\n",
       "      <td>NaN</td>\n",
       "      <td>NaN</td>\n",
       "      <td>NaN</td>\n",
       "      <td>NaN</td>\n",
       "      <td>NaN</td>\n",
       "      <td>44091.7</td>\n",
       "      <td>6</td>\n",
       "      <td>2</td>\n",
       "      <td>2018</td>\n",
       "      <td>первый</td>\n",
       "    </tr>\n",
       "    <tr>\n",
       "      <th>23697</th>\n",
       "      <td>13</td>\n",
       "      <td>11475000.0</td>\n",
       "      <td>76.8</td>\n",
       "      <td>2017-03-28</td>\n",
       "      <td>2</td>\n",
       "      <td>3.0</td>\n",
       "      <td>17</td>\n",
       "      <td>43.8</td>\n",
       "      <td>12</td>\n",
       "      <td>False</td>\n",
       "      <td>...</td>\n",
       "      <td>2.0</td>\n",
       "      <td>173.0</td>\n",
       "      <td>3.0</td>\n",
       "      <td>196.0</td>\n",
       "      <td>602.0</td>\n",
       "      <td>149511.4</td>\n",
       "      <td>1</td>\n",
       "      <td>3</td>\n",
       "      <td>2017</td>\n",
       "      <td>другой</td>\n",
       "    </tr>\n",
       "    <tr>\n",
       "      <th>23698</th>\n",
       "      <td>4</td>\n",
       "      <td>1350000.0</td>\n",
       "      <td>32.3</td>\n",
       "      <td>2017-07-21</td>\n",
       "      <td>1</td>\n",
       "      <td>2.5</td>\n",
       "      <td>5</td>\n",
       "      <td>12.3</td>\n",
       "      <td>1</td>\n",
       "      <td>False</td>\n",
       "      <td>...</td>\n",
       "      <td>NaN</td>\n",
       "      <td>NaN</td>\n",
       "      <td>NaN</td>\n",
       "      <td>NaN</td>\n",
       "      <td>NaN</td>\n",
       "      <td>41795.7</td>\n",
       "      <td>4</td>\n",
       "      <td>7</td>\n",
       "      <td>2017</td>\n",
       "      <td>первый</td>\n",
       "    </tr>\n",
       "  </tbody>\n",
       "</table>\n",
       "<p>23077 rows × 27 columns</p>\n",
       "</div>"
      ],
      "text/plain": [
       "       total_images  last_price  total_area first_day_exposition  rooms  \\\n",
       "0                20  13000000.0       108.0           2019-03-07      3   \n",
       "1                 7   3350000.0        40.4           2018-12-04      1   \n",
       "2                10   5196000.0        56.0           2015-08-20      2   \n",
       "3                 0  64900000.0       159.0           2015-07-24      3   \n",
       "5                10   2890000.0        30.4           2018-09-10      1   \n",
       "...             ...         ...         ...                  ...    ...   \n",
       "23694             9   9700000.0       133.8           2017-03-21      3   \n",
       "23695            14   3100000.0        59.0           2018-01-15      3   \n",
       "23696            18   2500000.0        56.7           2018-02-11      2   \n",
       "23697            13  11475000.0        76.8           2017-03-28      2   \n",
       "23698             4   1350000.0        32.3           2017-07-21      1   \n",
       "\n",
       "       ceiling_height  floors_total  living_area  floor  is_apartment  ...  \\\n",
       "0                 2.7            16         51.0      8         False  ...   \n",
       "1                 2.7            11         18.6      1         False  ...   \n",
       "2                 2.7             5         34.3      4         False  ...   \n",
       "3                 2.7            14         90.8      9         False  ...   \n",
       "5                 2.7            12         14.4      5         False  ...   \n",
       "...               ...           ...          ...    ...           ...  ...   \n",
       "23694             3.7             5         73.3      3         False  ...   \n",
       "23695             2.7             5         38.0      4         False  ...   \n",
       "23696             2.7             3         29.7      1         False  ...   \n",
       "23697             3.0            17         43.8     12         False  ...   \n",
       "23698             2.5             5         12.3      1         False  ...   \n",
       "\n",
       "       parks_around  parks_nearest  ponds_around  ponds_nearest  \\\n",
       "0               1.0          482.0           2.0          755.0   \n",
       "1               0.0            NaN           0.0            NaN   \n",
       "2               1.0           90.0           2.0          574.0   \n",
       "3               2.0           84.0           3.0          234.0   \n",
       "5               NaN            NaN           NaN            NaN   \n",
       "...             ...            ...           ...            ...   \n",
       "23694           1.0          796.0           3.0          381.0   \n",
       "23695           NaN            NaN           NaN            NaN   \n",
       "23696           NaN            NaN           NaN            NaN   \n",
       "23697           2.0          173.0           3.0          196.0   \n",
       "23698           NaN            NaN           NaN            NaN   \n",
       "\n",
       "      days_exposition  one_square_meter  exposition_weekday  exposition_month  \\\n",
       "0                 NaN          120370.4                   3                 3   \n",
       "1                81.0           82920.8                   1                12   \n",
       "2               558.0           92785.7                   3                 8   \n",
       "3               424.0          408176.1                   4                 7   \n",
       "5                55.0           95065.8                   0                 9   \n",
       "...               ...               ...                 ...               ...   \n",
       "23694             NaN           72490.8                   1                 3   \n",
       "23695            45.0           52542.4                   0                 1   \n",
       "23696             NaN           44091.7                   6                 2   \n",
       "23697           602.0          149511.4                   1                 3   \n",
       "23698             NaN           41795.7                   4                 7   \n",
       "\n",
       "       exposition_year  floor_type  \n",
       "0                 2019      другой  \n",
       "1                 2018      первый  \n",
       "2                 2015      другой  \n",
       "3                 2015      другой  \n",
       "5                 2018      другой  \n",
       "...                ...         ...  \n",
       "23694             2017      другой  \n",
       "23695             2018      другой  \n",
       "23696             2018      первый  \n",
       "23697             2017      другой  \n",
       "23698             2017      первый  \n",
       "\n",
       "[23077 rows x 27 columns]"
      ]
     },
     "metadata": {},
     "output_type": "display_data"
    }
   ],
   "source": [
    "df['city_centers_nearest'] = round(df['city_centers_nearest'] / 1000)\n",
    "display(df)"
   ]
  },
  {
   "cell_type": "markdown",
   "metadata": {},
   "source": [
    "#### Вывод\n",
    "Добавлены новые столбцы:\n",
    "- 'one_square_meter' цена одного квадратного метра\n",
    "- exposition_weekday - день недели публикации объявления\n",
    "- exposition_month - месяц публикации объявления;\n",
    "- exposition_year - год публикации объявления;\n",
    "- floor_type - тип этажа квартиры \n",
    "- city_centers_nearest - расстояние до центра города в километрах \n",
    "\n",
    "Следует отметить, что из-за пропусков в исходных данных, в значениях также присутствуют пропуски.\n"
   ]
  },
  {
   "cell_type": "markdown",
   "metadata": {},
   "source": [
    "### Проведите исследовательский анализ данных"
   ]
  },
  {
   "cell_type": "code",
   "execution_count": 24,
   "metadata": {},
   "outputs": [
    {
     "data": {
      "text/plain": [
       "count    23077.000000\n",
       "mean        57.242415\n",
       "std         25.152755\n",
       "min         12.000000\n",
       "25%         40.000000\n",
       "50%         51.000000\n",
       "75%         67.800000\n",
       "max        198.900000\n",
       "Name: total_area, dtype: float64"
      ]
     },
     "execution_count": 24,
     "metadata": {},
     "output_type": "execute_result"
    }
   ],
   "source": [
    "df['total_area'].describe() # смотрим описательную часть"
   ]
  },
  {
   "cell_type": "code",
   "execution_count": 25,
   "metadata": {
    "scrolled": true
   },
   "outputs": [
    {
     "data": {
      "image/png": "[encoded data removed]",
      "text/plain": [
       "<Figure size 432x288 with 1 Axes>"
      ]
     },
     "metadata": {
      "needs_background": "light"
     },
     "output_type": "display_data"
    }
   ],
   "source": [
    "plt.hist(df['total_area'], bins=100, range=(10,300)) # строим гистограмму\n",
    "plt.title('Площади всех квартир')\n",
    "plt.show() "
   ]
  },
  {
   "cell_type": "markdown",
   "metadata": {},
   "source": [
    "**Площади всех квартир - total_area**\n",
    "- средняя площадь 57 кв. метров. Большинство объектов распределены от 40 до 110 квадратных метров. \n",
    "- Также встречаются от 150 до 200 кв.м., но эти значения минимальны на фоне общего распределения площади квартир"
   ]
  },
  {
   "cell_type": "code",
   "execution_count": 26,
   "metadata": {},
   "outputs": [
    {
     "data": {
      "text/plain": [
       "count    23077.000000\n",
       "mean        32.958214\n",
       "std         16.850384\n",
       "min          2.000000\n",
       "25%         18.900000\n",
       "50%         30.000000\n",
       "75%         41.700000\n",
       "max        164.700000\n",
       "Name: living_area, dtype: float64"
      ]
     },
     "execution_count": 26,
     "metadata": {},
     "output_type": "execute_result"
    }
   ],
   "source": [
    "df['living_area'].describe()"
   ]
  },
  {
   "cell_type": "code",
   "execution_count": 27,
   "metadata": {
    "scrolled": true
   },
   "outputs": [
    {
     "data": {
      "image/png": "[encoded data removed]",
      "text/plain": [
       "<Figure size 432x288 with 1 Axes>"
      ]
     },
     "metadata": {
      "needs_background": "light"
     },
     "output_type": "display_data"
    }
   ],
   "source": [
    "plt.hist(df['living_area'], bins=100, range=(5,100)) # строим гистограмму\n",
    "plt.title('Жилые площади')\n",
    "plt.show() "
   ]
  },
  {
   "cell_type": "markdown",
   "metadata": {},
   "source": [
    "**Жилые площади - living_area**\n",
    "- Средняя жилая площадь - 32 м². \n",
    "- Большая часть обьектов недвижимости имеют жилую площадь от 15 до 45 м².\n",
    "- Самый распространенный вариант жилой площади - около 15-18 м². \n",
    "- Жилая площадь более 60 м² встречается редко. Также и с площадью меньше 15 м². \n",
    "- Квартиры больше 100 м² встречаются довольно редко."
   ]
  },
  {
   "cell_type": "code",
   "execution_count": 28,
   "metadata": {},
   "outputs": [
    {
     "data": {
      "text/plain": [
       "count    23077.000000\n",
       "mean         9.891121\n",
       "std          4.035346\n",
       "min          1.300000\n",
       "25%          7.000000\n",
       "50%          9.000000\n",
       "75%         11.500000\n",
       "max         29.900000\n",
       "Name: kitchen_area, dtype: float64"
      ]
     },
     "execution_count": 28,
     "metadata": {},
     "output_type": "execute_result"
    }
   ],
   "source": [
    "df['kitchen_area'].describe()"
   ]
  },
  {
   "cell_type": "code",
   "execution_count": 29,
   "metadata": {},
   "outputs": [
    {
     "data": {
      "image/png": "[encoded data removed]",
      "text/plain": [
       "<Figure size 432x288 with 1 Axes>"
      ]
     },
     "metadata": {
      "needs_background": "light"
     },
     "output_type": "display_data"
    }
   ],
   "source": [
    "plt.hist(df['kitchen_area'], bins=100, range=(1,40)) # строим гистограмму\n",
    "plt.title('Кухонные площади')\n",
    "plt.show() "
   ]
  },
  {
   "cell_type": "markdown",
   "metadata": {},
   "source": [
    "**Кухонные площади - kitchen_area**\n",
    "- Среднее значение площади кухни - 10 м²\n",
    "- Большая часть объектов недвижимости имеют площадь кухни от 5,5 до 15 м². \n",
    "- Самый распространенный вариант площади кухни - около 10-11 м². \n",
    "- Площадь кухни менее 5 м² и более 20 м² встречается достаточно редко.\n",
    "- Площадь кухни менее 5 м² также редкость."
   ]
  },
  {
   "cell_type": "code",
   "execution_count": 30,
   "metadata": {},
   "outputs": [
    {
     "data": {
      "text/plain": [
       "count    2.307700e+04\n",
       "mean     5.793522e+06\n",
       "std      5.027203e+06\n",
       "min      4.300000e+05\n",
       "25%      3.400000e+06\n",
       "50%      4.590000e+06\n",
       "75%      6.519750e+06\n",
       "max      1.240000e+08\n",
       "Name: last_price, dtype: float64"
      ]
     },
     "execution_count": 30,
     "metadata": {},
     "output_type": "execute_result"
    }
   ],
   "source": [
    "df['last_price'].describe()"
   ]
  },
  {
   "cell_type": "code",
   "execution_count": 31,
   "metadata": {
    "scrolled": true
   },
   "outputs": [
    {
     "data": {
      "image/png": "[encoded data removed]",
      "text/plain": [
       "<Figure size 432x288 with 1 Axes>"
      ]
     },
     "metadata": {
      "needs_background": "light"
     },
     "output_type": "display_data"
    }
   ],
   "source": [
    "plt.hist(df['last_price'], bins=100, range=(10,20000000)) # строим гистограмму\n",
    "plt.title('Цены квартир')\n",
    "plt.show() "
   ]
  },
  {
   "cell_type": "markdown",
   "metadata": {},
   "source": [
    "**Цены квартир - last_price**\n",
    "- Средняя цена квартиры - 6.5 млн.\n",
    "- Большинство объектов недвижимости имеют цену в пределах от 3 до 6 млн. руб."
   ]
  },
  {
   "cell_type": "code",
   "execution_count": 32,
   "metadata": {},
   "outputs": [
    {
     "data": {
      "text/plain": [
       "count    23077.00000\n",
       "mean         2.02808\n",
       "std          0.97142\n",
       "min          1.00000\n",
       "25%          1.00000\n",
       "50%          2.00000\n",
       "75%          3.00000\n",
       "max          7.00000\n",
       "Name: rooms, dtype: float64"
      ]
     },
     "execution_count": 32,
     "metadata": {},
     "output_type": "execute_result"
    }
   ],
   "source": [
    "df['rooms'].describe()"
   ]
  },
  {
   "cell_type": "code",
   "execution_count": 33,
   "metadata": {
    "scrolled": true
   },
   "outputs": [
    {
     "data": {
      "image/png": "[encoded data removed]",
      "text/plain": [
       "<Figure size 432x288 with 1 Axes>"
      ]
     },
     "metadata": {
      "needs_background": "light"
     },
     "output_type": "display_data"
    }
   ],
   "source": [
    "plt.hist(df['rooms'], bins=20, range=(0,20)) # строим гистограмму\n",
    "plt.title('Кол-во комнат')\n",
    "plt.show() "
   ]
  },
  {
   "cell_type": "markdown",
   "metadata": {},
   "source": [
    "**Кол-во комнат - rooms**\n",
    "- Средняя кол-во комнат - 2 шт.\n",
    "- Большинство объектов недвижимости имеет от 1 до 3 комнат \n",
    "- 4 и более комнат встречаются довольно редко\n",
    "- Также присутствуют значение с 0 комнат, скорее всего - это квартиры студии."
   ]
  },
  {
   "cell_type": "code",
   "execution_count": 34,
   "metadata": {},
   "outputs": [
    {
     "data": {
      "text/plain": [
       "count    23077.000000\n",
       "mean         2.712541\n",
       "std          0.216030\n",
       "min          2.200000\n",
       "25%          2.600000\n",
       "50%          2.700000\n",
       "75%          2.700000\n",
       "max          8.300000\n",
       "Name: ceiling_height, dtype: float64"
      ]
     },
     "execution_count": 34,
     "metadata": {},
     "output_type": "execute_result"
    }
   ],
   "source": [
    "df['ceiling_height'].describe() "
   ]
  },
  {
   "cell_type": "code",
   "execution_count": 35,
   "metadata": {
    "scrolled": true
   },
   "outputs": [
    {
     "data": {
      "image/png": "[encoded data removed]",
      "text/plain": [
       "<Figure size 432x288 with 1 Axes>"
      ]
     },
     "metadata": {
      "needs_background": "light"
     },
     "output_type": "display_data"
    }
   ],
   "source": [
    "plt.hist(df['ceiling_height'], bins=40, range=(0,15)) # строим гистограмму\n",
    "plt.title('Высота потолков')\n",
    "plt.show() "
   ]
  },
  {
   "cell_type": "markdown",
   "metadata": {},
   "source": [
    "**Высота потолков - ceiling_height**\n",
    "- Средняя выоста потолков - 2.7 м\n",
    "- Большинство объектов недвижимости имеют высоту потолков - до 3 метра.\n"
   ]
  },
  {
   "cell_type": "code",
   "execution_count": 36,
   "metadata": {},
   "outputs": [
    {
     "data": {
      "text/plain": [
       "count    23077.000000\n",
       "mean         5.898860\n",
       "std          4.893846\n",
       "min          1.000000\n",
       "25%          2.000000\n",
       "50%          4.000000\n",
       "75%          8.000000\n",
       "max         33.000000\n",
       "Name: floor, dtype: float64"
      ]
     },
     "execution_count": 36,
     "metadata": {},
     "output_type": "execute_result"
    }
   ],
   "source": [
    "df['floor'].describe() "
   ]
  },
  {
   "cell_type": "code",
   "execution_count": 37,
   "metadata": {
    "scrolled": true
   },
   "outputs": [
    {
     "data": {
      "image/png": "[encoded data removed]",
      "text/plain": [
       "<Figure size 432x288 with 1 Axes>"
      ]
     },
     "metadata": {
      "needs_background": "light"
     },
     "output_type": "display_data"
    }
   ],
   "source": [
    "plt.hist(df['floor'], bins=50, range=(1,35)) # строим гистограмму\n",
    "plt.title('Этажы квартиры')\n",
    "plt.show() "
   ]
  },
  {
   "cell_type": "markdown",
   "metadata": {},
   "source": [
    "**Этажы квартиры - floor**\n",
    "- Среднее значение расположения этажа квартир на продажу - 6 этаж.\n",
    "- Большинство объектов недвижимости расположены на 1 - 4 этажах.\n",
    "- Также в порядке убывания достаточно распространнены квартиры на 5-20 этажах.\n",
    "- Квартиры начиная с 25 по 30 этажи встречаются крайне редко. "
   ]
  },
  {
   "cell_type": "code",
   "execution_count": 38,
   "metadata": {},
   "outputs": [
    {
     "data": {
      "text/plain": [
       "count      23077\n",
       "unique         3\n",
       "top       другой\n",
       "freq       16999\n",
       "Name: floor_type, dtype: object"
      ]
     },
     "execution_count": 38,
     "metadata": {},
     "output_type": "execute_result"
    }
   ],
   "source": [
    "df['floor_type'].describe() "
   ]
  },
  {
   "cell_type": "code",
   "execution_count": 39,
   "metadata": {
    "scrolled": true
   },
   "outputs": [
    {
     "data": {
      "image/png": "[encoded data removed]",
      "text/plain": [
       "<Figure size 432x288 with 1 Axes>"
      ]
     },
     "metadata": {
      "needs_background": "light"
     },
     "output_type": "display_data"
    }
   ],
   "source": [
    "plt.hist(df['floor_type'], bins=6, range=(0,3)) # строим гистограмму\n",
    "plt.title('Тип этажа квартиры')\n",
    "plt.show() "
   ]
  },
  {
   "cell_type": "markdown",
   "metadata": {},
   "source": [
    "**Тип этажа квартиры - floor_type**\n",
    "- Больниство обьектовв недвижимости расположоены между перым и последними этажами.\n",
    "- Обьекты расположенные на первом и последним этажах имеют примерно равные значения."
   ]
  },
  {
   "cell_type": "code",
   "execution_count": 40,
   "metadata": {},
   "outputs": [
    {
     "data": {
      "text/plain": [
       "count    23077.000000\n",
       "mean        10.773844\n",
       "std          6.643853\n",
       "min          1.000000\n",
       "25%          5.000000\n",
       "50%          9.000000\n",
       "75%         16.000000\n",
       "max         60.000000\n",
       "Name: floors_total, dtype: float64"
      ]
     },
     "execution_count": 40,
     "metadata": {},
     "output_type": "execute_result"
    }
   ],
   "source": [
    "df['floors_total'].describe() "
   ]
  },
  {
   "cell_type": "code",
   "execution_count": 41,
   "metadata": {
    "scrolled": true
   },
   "outputs": [
    {
     "data": {
      "image/png": "[encoded data removed]",
      "text/plain": [
       "<Figure size 432x288 with 1 Axes>"
      ]
     },
     "metadata": {
      "needs_background": "light"
     },
     "output_type": "display_data"
    }
   ],
   "source": [
    "plt.hist(df['floors_total'], bins=30, range=(0,60)) # строим гистограмму\n",
    "plt.title('Общее количество этажей в доме')\n",
    "plt.show() "
   ]
  },
  {
   "cell_type": "markdown",
   "metadata": {},
   "source": [
    "**Общее количество этажей в доме - floors_total**\n",
    "- Большинство объектов недвижимости - это 5-ти , 9-ти этажные дома. \n",
    "- Среднее значение обьекта недвижимости - 10 этажей."
   ]
  },
  {
   "cell_type": "code",
   "execution_count": 47,
   "metadata": {},
   "outputs": [
    {
     "data": {
      "text/plain": [
       "count    17599.000000\n",
       "mean        14.365930\n",
       "std          8.598379\n",
       "min          0.000000\n",
       "25%         10.000000\n",
       "50%         13.000000\n",
       "75%         16.000000\n",
       "max         66.000000\n",
       "Name: city_centers_nearest, dtype: float64"
      ]
     },
     "execution_count": 47,
     "metadata": {},
     "output_type": "execute_result"
    }
   ],
   "source": [
    "df['city_centers_nearest'].describe() "
   ]
  },
  {
   "cell_type": "code",
   "execution_count": 52,
   "metadata": {
    "scrolled": true
   },
   "outputs": [
    {
     "data": {
      "image/png": "[encoded data removed]",
      "text/plain": [
       "<Figure size 432x288 with 1 Axes>"
      ]
     },
     "metadata": {
      "needs_background": "light"
     },
     "output_type": "display_data"
    }
   ],
   "source": [
    "plt.hist(df['city_centers_nearest'], bins=20, range=(0,66)) # строим гистограмму\n",
    "plt.title('Расстояние до центра города в км')\n",
    "plt.show() "
   ]
  },
  {
   "cell_type": "markdown",
   "metadata": {},
   "source": [
    "**Расстояние до центра города в метрах - city_centers_nearest**\n",
    "- Среднее расстояние от центра - 14 км.\n",
    "- Большинство объектов недвижимости расположены в 12-17 км от центра. \n",
    "- Также, достаточное кол-во квартир расположены в в пределах менее 10 км от цента.\n",
    "- Квартиры расположенные больше 20 км от центра встречаются наименее часто."
   ]
  },
  {
   "cell_type": "code",
   "execution_count": null,
   "metadata": {},
   "outputs": [],
   "source": [
    "df = df.loc[df['airports_nearest'] > 0]\n",
    "df['airports_nearest'].describe() "
   ]
  },
  {
   "cell_type": "code",
   "execution_count": null,
   "metadata": {
    "scrolled": true
   },
   "outputs": [],
   "source": [
    "plt.hist(df['airports_nearest'], bins=100, range=(0,85000)) # строим гистограмму\n",
    "plt.title('Расстояние до ближайшего аэропорта')\n",
    "plt.show() "
   ]
  },
  {
   "cell_type": "markdown",
   "metadata": {},
   "source": [
    "**Расстояние до ближайшего аэропорта - airports_nearest**\n",
    "- Большая часть объектов недвижимости расположены на удалении от аэропорта на расстоянии 15-25 км.\n",
    "- Среднее расстояние до аэропорта - 28,8 км "
   ]
  },
  {
   "cell_type": "code",
   "execution_count": null,
   "metadata": {},
   "outputs": [],
   "source": [
    "df['parks_nearest'].describe() "
   ]
  },
  {
   "cell_type": "code",
   "execution_count": null,
   "metadata": {
    "scrolled": false
   },
   "outputs": [],
   "source": [
    "plt.hist(df['parks_nearest'], bins=100, range=(0,3200)) # строим гистограмму\n",
    "plt.title('Расстояние до ближайшего парка')\n",
    "plt.show() "
   ]
  },
  {
   "cell_type": "markdown",
   "metadata": {},
   "source": [
    "**Расстояние до ближайшего парка - parks_nearest**\n",
    "- Большая часть объектов недвижимости расположены в 400-600 м.\n",
    "- Среднее расстояние до парков - 490 м."
   ]
  },
  {
   "cell_type": "code",
   "execution_count": null,
   "metadata": {},
   "outputs": [],
   "source": [
    "df['exposition_weekday'].describe()  "
   ]
  },
  {
   "cell_type": "code",
   "execution_count": null,
   "metadata": {
    "scrolled": true
   },
   "outputs": [],
   "source": [
    "plt.hist(df['exposition_weekday'], bins=20, range=(0,6)) # строим гистограмму\n",
    "plt.title('День публикации объявления')\n",
    "plt.show() "
   ]
  },
  {
   "cell_type": "markdown",
   "metadata": {},
   "source": [
    "**День публикации объявления - exposition_weekday**\n",
    "- Больше всего объявления публиковали в будние дни.\n",
    "- Наиболее редкие обьявления - в выходные."
   ]
  },
  {
   "cell_type": "code",
   "execution_count": null,
   "metadata": {},
   "outputs": [],
   "source": [
    "df['exposition_month'].describe()  "
   ]
  },
  {
   "cell_type": "code",
   "execution_count": null,
   "metadata": {
    "scrolled": true
   },
   "outputs": [],
   "source": [
    "plt.hist(df['exposition_month'], bins=30, range=(0,12)) # строим гистограмму\n",
    "plt.title('Месяц публикации объявления')\n",
    "plt.show() "
   ]
  },
  {
   "cell_type": "markdown",
   "metadata": {},
   "source": [
    "**День публикации объявления - exposition_weekday**\n",
    "- Больше всего объявления публиковали в феврале и марте.\n",
    "- Наименьшие показатели в январе и мае. "
   ]
  },
  {
   "cell_type": "code",
   "execution_count": null,
   "metadata": {
    "scrolled": true
   },
   "outputs": [],
   "source": [
    "df['days_exposition'].describe() "
   ]
  },
  {
   "cell_type": "code",
   "execution_count": null,
   "metadata": {},
   "outputs": [],
   "source": [
    "plt.hist(df['days_exposition'], bins=100, range=(0,200)) # строим гистограмму\n",
    "plt.title('сколько дней было размещено объявление (от публикации до снятия)')\n",
    "plt.show() "
   ]
  },
  {
   "cell_type": "markdown",
   "metadata": {},
   "source": [
    "**сколько дней было размещено объявление (от публикации до снятия - days_exposition**\n",
    "- Среднее время продажи - 181 д.\n",
    "- Медианное время продажи - 95 д. \n",
    "- В принципе, график проджаж отражает плавность \n",
    "- Быстрой продажей квартиры по графику считается - около 45 дней.\n",
    "- Долгой продажей квартиры по графику считается - больше 230 дней.\n",
    "- Наиболее частые продажи совершаются на 45-й и 60-й день."
   ]
  },
  {
   "cell_type": "markdown",
   "metadata": {},
   "source": [
    "**Какие факторы больше всего влияют на общую (полную) стоимость объекта?**"
   ]
  },
  {
   "cell_type": "code",
   "execution_count": null,
   "metadata": {
    "scrolled": true
   },
   "outputs": [],
   "source": [
    "df.plot(x='total_area', y='last_price', kind='scatter')"
   ]
  },
  {
   "cell_type": "markdown",
   "metadata": {},
   "source": [
    "-  Из графика видно, что цена напрямую зависит от общей площади "
   ]
  },
  {
   "cell_type": "code",
   "execution_count": null,
   "metadata": {
    "scrolled": true
   },
   "outputs": [],
   "source": [
    "df.plot(x='living_area', y='last_price', kind='scatter')"
   ]
  },
  {
   "cell_type": "markdown",
   "metadata": {},
   "source": [
    "- Между  жилой площадью и стоимостью мы также видим зависимость этих параметров, с увеличением площади, также увеличивается и цена"
   ]
  },
  {
   "cell_type": "code",
   "execution_count": null,
   "metadata": {
    "scrolled": true
   },
   "outputs": [],
   "source": [
    "df.pivot_table(index='rooms', values='last_price').plot(grid=True, figsize=(10, 5))"
   ]
  },
  {
   "cell_type": "markdown",
   "metadata": {},
   "source": [
    "- Между кол-во комнат и стоимостью мы видим достаточно низкую корреляцию"
   ]
  },
  {
   "cell_type": "code",
   "execution_count": null,
   "metadata": {},
   "outputs": [],
   "source": [
    "df.pivot_table(index='floor_type', values='last_price').plot(grid=True, figsize=(10, 5))"
   ]
  },
  {
   "cell_type": "markdown",
   "metadata": {},
   "source": [
    "- Между этажем и стоимостью есть зависимость, наименее предпочтительный этаж - первый"
   ]
  },
  {
   "cell_type": "code",
   "execution_count": null,
   "metadata": {
    "scrolled": false
   },
   "outputs": [],
   "source": [
    "df.plot(x='kitchen_area', y='last_price', kind='scatter')"
   ]
  },
  {
   "cell_type": "markdown",
   "metadata": {},
   "source": [
    "- Между площадью кухни и ценой мы видим положительную динамику, в целом чем больше плозадь кухни, тем цена стремится вверх"
   ]
  },
  {
   "cell_type": "code",
   "execution_count": null,
   "metadata": {
    "scrolled": true
   },
   "outputs": [],
   "source": [
    "df.pivot_table(index='exposition_weekday', values='last_price', aggfunc='mean').plot(figsize=(10, 5))\n",
    "df.pivot_table(index='exposition_month', values='last_price', aggfunc='mean').plot(figsize=(10, 5))\n",
    "df.pivot_table(index='exposition_year', values='last_price', aggfunc='mean').plot(figsize=(10, 5))"
   ]
  },
  {
   "cell_type": "markdown",
   "metadata": {},
   "source": [
    "- На конец года приходится повышение цен о продажах. После 2014 года, пошло резкое падение цен на недвижимость."
   ]
  },
  {
   "cell_type": "code",
   "execution_count": null,
   "metadata": {
    "scrolled": true
   },
   "outputs": [],
   "source": [
    "df.pivot_table(index='exposition_year', values='last_price')\n",
    "df.pivot_table(index='exposition_month', values='last_price')\n",
    "df.pivot_table(index='exposition_weekday', values='last_price')"
   ]
  },
  {
   "cell_type": "markdown",
   "metadata": {},
   "source": [
    "- Самые дорогие квартиры были на продаже в 2014 году. После 2014 ценовая политика менялась слабо.\n",
    "- Четкой связи между месяцем выставления на публикацию нет.\n",
    "- Четкой связи между днем выставления на публикацию нет."
   ]
  },
  {
   "cell_type": "code",
   "execution_count": null,
   "metadata": {},
   "outputs": [],
   "source": [
    "table = df[['total_area', 'rooms', 'city_centers_nearest', 'floor_type', 'exposition_year', 'exposition_month', 'exposition_weekday', 'last_price']]\n",
    "pd.plotting.scatter_matrix(table, figsize=(15, 15))"
   ]
  },
  {
   "cell_type": "code",
   "execution_count": null,
   "metadata": {},
   "outputs": [],
   "source": [
    "top_10_locations = df['locality_name'].value_counts().head(10)\n",
    "display(top_10_locations)"
   ]
  },
  {
   "cell_type": "code",
   "execution_count": null,
   "metadata": {
    "scrolled": true
   },
   "outputs": [],
   "source": [
    "df.query('locality_name in @top_10_locations.index').pivot_table(index='locality_name', values='one_square_meter')"
   ]
  },
  {
   "cell_type": "markdown",
   "metadata": {},
   "source": [
    "- Населённые пункты с самой высокой и низкой стоимостью квадратного метра:\n",
    "    - Санкт-Петербург \n",
    "    - Выборг"
   ]
  },
  {
   "cell_type": "code",
   "execution_count": null,
   "metadata": {
    "scrolled": false
   },
   "outputs": [],
   "source": [
    " df.query('locality_name == \"Санкт-Петербург\"').pivot_table(index='city_centers_nearest', values='last_price', aggfunc='mean') "
   ]
  },
  {
   "cell_type": "markdown",
   "metadata": {},
   "source": [
    "- Как видно из сводной таблицы - чем ближе к центру, тем дороже обьект недвижимости"
   ]
  },
  {
   "cell_type": "markdown",
   "metadata": {},
   "source": [
    "### Общий вывод"
   ]
  },
  {
   "cell_type": "markdown",
   "metadata": {},
   "source": [
    "**По итогу изучения данных можно сделать следующие выводы**:\n",
    "\n",
    "**Проделана предобработка данных**:\n",
    "- переименованные некоторые стобцы, такие как 'city_centers_nearest', 'parks_nearest', 'ponds_nearest'\n",
    "- пропуски в столбце 'ceiling_height' заменены на медианные, а также исправлены ошибки нереалистычных потолков\n",
    "- пропущенные значения 'floors_total' заменили на медианные\n",
    "- заменены пропуски в столбцах 'living_area' и 'kitchen_area' на средние значения\n",
    "- проставлены значения false в столбце 'is_apartment' где это необходимо\n",
    "- заменили пропуски в столбце 'balcony'\n",
    "- удалены пропуски в столбце 'locality_name', а также заменены названия строк для избежания дубликатов названий\n",
    "- изменили тип данных в столбцах: 'balcony'; 'floors_total'; 'is_apartment'\n",
    "- Пропуски в датасете скорее всего появились вследствие неполной или некорректной информации от пользователя. \n",
    "\n",
    "**Добавлена новая информация в датасет**:\n",
    "- 'one_square_meter' цена одного квадратного метра\n",
    "- exposition_weekday - день недели публикации объявления\n",
    "- exposition_month - месяц публикации объявления;\n",
    "- exposition_year - год публикации объявления;\n",
    "- floor_type - тип этажа квартиры \n",
    "- city_centers_nearest - расстояние до центра города в километрах \n",
    "\n",
    "**Проведен исследовательский анализ данных следующих параметров обьектов недвижимости**\n",
    "\n",
    "*Площади всех квартир*\n",
    "- средняя площадь 57 кв. метров. Большинство объектов распределены от 40 до 110 квадратных метров. \n",
    "- Также встречаются от 150 до 200 кв.м., но эти значения минимальны на фоне общего распределения площади квартир\n",
    "\n",
    "*Жилые площади**\n",
    "- Средняя жилая площадь - 32 м². \n",
    "- Большая часть обьектов недвижимости имеют жилую площадь от 15 до 45 м².\n",
    "- Самый распространенный вариант жилой площади - около 15-18 м². \n",
    "- Жилая площадь более 60 м² встречается редко. Также и с площадью меньше 15 м². \n",
    "- Квартиры больше 100 м² встречаются довольно редко.\n",
    "\n",
    "*Кухонные площади*\n",
    "- Среднее значение площади кухни - 10 м²\n",
    "- Большая часть объектов недвижимости имеют площадь кухни от 5,5 до 15 м². \n",
    "- Самый распространенный вариант площади кухни - около 10-11 м². \n",
    "- Площадь кухни менее 5 м² и более 20 м² встречается достаточно редко.\n",
    "- Площадь кухни менее 5 м² также редкость.\n",
    "\n",
    "*Цены квартир*\n",
    "- Средняя цена квартиры - 6.5 млн.\n",
    "- Большинство объектов недвижимости имеют цену в пределах от 3 до 6 млн. руб.\n",
    "\n",
    "*Кол-во комнат*\n",
    "- Средняя кол-во комнат - 2 шт.\n",
    "- Большинство объектов недвижимости имеет от 1 до 3 комнат \n",
    "- 4 и более комнат встречаются довольно редко\n",
    "- Также присутствуют значение с 0 комнат, скорее всего - это квартиры студии.\n",
    "\n",
    "*Высота потолков*\n",
    "- Средняя выоста потолков - 2.7 м\n",
    "- Большинство объектов недвижимости имеют высоту потолков - 3 метра.\n",
    "\n",
    "*Этажы квартиры *\n",
    "- Среднее значение расположения этажа квартир на продажу - 6 этаж.\n",
    "- Большинство объектов недвижимости расположены на 1 - 4 этажах.\n",
    "- Также в порядке убывания достаточно распространнены квартиры на 5-20 этажах.\n",
    "- Квартиры начиная с 25 по 30 этажи встречаются крайне редко. \n",
    "\n",
    "*Тип этажа квартиры**\n",
    "- Больниство обьектовв недвижимости расположоены между перым и последними этажами.\n",
    "- Обьекты расположенные на первом и последним этажах имеют примерно равные значения.\n",
    "\n",
    "*Общее количество этажей в доме*\n",
    "- Большинство объектов недвижимости - это 5-ти , 10-ти этажные дома. \n",
    "- Среднее значение обьекта недвижимости - 10 этажей.\n",
    "\n",
    "*Расстояние до центра города в метрах*\n",
    "- Среднее расстояние от центра - 14 км.\n",
    "- Большинство объектов недвижимости расположены в 12-17 км от центра. \n",
    "- Также, достаточное кол-во квартир расположены в в пределах менее 10 км от цента.\n",
    "- Квартиры расположенные больше 20 км от центра встречаются наименее часто.\n",
    "\n",
    "*Расстояние до ближайшего аэропорта**\n",
    "- Большая часть объектов недвижимости расположены на удалении от аэропорта на расстоянии 15-25 км.\n",
    "- Среднее расстояние до аэропорта - 28,8 км \n",
    "\n",
    "*Расстояние до ближайшего парка*\n",
    "- Большая часть объектов недвижимости расположены в 400-600 м.\n",
    "- Среднее расстояние до парков - 490 м.\n",
    "\n",
    "*День публикации объявления**\n",
    "- Больше всего объявления публиковали в будние дни.\n",
    "- Наиболее редкие обьявления - в выходные.\n",
    "\n",
    "*День публикации объявления**\n",
    "- Больше всего объявления публиковали в феврале и марте.\n",
    "- Наименьшие показатели в январе и мае. \n",
    "\n",
    "*Кол-во дней размещения объявления*\n",
    "- Среднее время продажи - 181 д.\n",
    "- Медианное время продажи - 95 д. \n",
    "- В принципе, график проджаж отражает плавность \n",
    "- Быстрой продажей квартиры по графику считается - около 45 дней.\n",
    "- Долгой продажей квартиры по графику считается - больше 230 дней.\n",
    "- Наиболее частые продажи совершаются на 45-й и 60-й день.\n",
    "                                          \n",
    "**Изучены факторы влияния на цену обьекта недвижимости**\n",
    "- Между площадью и стоимостью обьектов недвижимости мы видим зависимость значений \n",
    "- Самые дорогие квартиры были на продаже в 2014 году. После 2014 ценовая политика менялась слабо.\n",
    "- На конец года приходится повышение цен о продажах.\n",
    "- Первый этаж цениться ниже чем квартиры на других этажах\n",
    "- Четкой связи между месяцем выставления на публикацию нет.\n",
    "- Четкой связи между днем выставления на публикацию нет.\n",
    "- Чем ближе недвижимость к центру, тем она дороже\n",
    "- Населённые пункты с самой высокой и низкой стоимостью квадратного метра:\n",
    "    - Санкт-Петербург (самые дорогие)\n",
    "    - Выборг(самые дешевые)"
   ]
  },
  {
   "cell_type": "markdown",
   "metadata": {},
   "source": [
    "**Чек-лист готовности проекта**\n",
    "\n",
    "Поставьте 'x' в выполненных пунктах. Далее нажмите Shift+Enter."
   ]
  },
  {
   "cell_type": "markdown",
   "metadata": {},
   "source": [
    "- [x]  открыт файл\n",
    "- [x]  файлы изучены (выведены первые строки, метод `info()`, гистограммы и т.д.)\n",
    "- [x]  определены пропущенные значения\n",
    "- [x]  заполнены пропущенные значения там, где это возможно\n",
    "- [x]  есть пояснение, какие пропущенные значения обнаружены\n",
    "- [x]  изменены типы данных\n",
    "- [x]  есть пояснение, в каких столбцах изменены типы и почему\n",
    "- [x]  устранены неявные дубликаты в названиях населённых пунктов\n",
    "- [x]  устранены редкие и выбивающиеся значения (аномалии) во всех столбцах\n",
    "- [x]  посчитано и добавлено в таблицу: цена одного квадратного метра\n",
    "- [x]  посчитано и добавлено в таблицу: день публикации объявления (0 - понедельник, 1 - вторник и т.д.)\n",
    "- [x]  посчитано и добавлено в таблицу: месяц публикации объявления\n",
    "- [x]  посчитано и добавлено в таблицу: год публикации объявления\n",
    "- [x]  посчитано и добавлено в таблицу: тип этажа квартиры (значения — «первый», «последний», «другой»)\n",
    "- [x]  посчитано и добавлено в таблицу: расстояние в км до центра города\n",
    "- [x]  изучены и описаны следующие параметры:\n",
    "        - общая площадь;\n",
    "        - жилая площадь;\n",
    "        - площадь кухни;\n",
    "        - цена объекта;\n",
    "        - количество комнат;\n",
    "        - высота потолков;\n",
    "        - этаж квартиры;\n",
    "        - тип этажа квартиры («первый», «последний», «другой»);\n",
    "        - общее количество этажей в доме;\n",
    "        - расстояние до центра города в метрах;\n",
    "        - расстояние до ближайшего аэропорта;\n",
    "        - расстояние до ближайшего парка;\n",
    "        - день и месяц публикации объявления\n",
    "- [x]  построены гистограммы для каждого параметра\n",
    "- [x]  выполнено задание: \"Изучите, как быстро продавались квартиры (столбец days_exposition). Этот параметр показывает, сколько дней «висело» каждое объявление.\n",
    "    - Постройте гистограмму.\n",
    "    - Посчитайте среднее и медиану.\n",
    "    - В ячейке типа markdown опишите, сколько обычно занимает продажа. Какие продажи можно считать быстрыми, а какие — необычно долгими?\"\n",
    "- [x]  выполнено задание: \"Какие факторы больше всего влияют на общую (полную) стоимость объекта? Постройте графики, которые покажут зависимость цены от указанных ниже параметров. Для подготовки данных перед визуализацией вы можете использовать сводные таблицы.\"\n",
    "        - общей площади;\n",
    "        - жилой площади;\n",
    "        - площади кухни;\n",
    "        - количество комнат;\n",
    "        - типа этажа, на котором расположена квартира (первый, последний, другой);\n",
    "        - даты размещения (день недели, месяц, год);\n",
    "- [x]  выполнено задание: \"Посчитайте среднюю цену одного квадратного метра в 10 населённых пунктах с наибольшим числом объявлений. Выделите населённые пункты с самой высокой и низкой стоимостью квадратного метра. Эти данные можно найти по имени в столбце `locality_name`.\"\n",
    "- [x]  выполнено задание: \"Ранее вы посчитали расстояние до центра в километрах. Теперь выделите квартиры в Санкт-Петербурге с помощью столбца `locality_name` и вычислите среднюю цену каждого километра. Опишите, как стоимость объектов зависит от расстояния до центра города.\"\n",
    "- [x]  в каждом этапе есть промежуточные выводы\n",
    "- [x]  есть общий вывод"
   ]
  }
 ],
 "metadata": {
  "ExecuteTimeLog": [
   {
    "duration": 363,
    "start_time": "2023-02-17T21:06:03.848Z"
   },
   {
    "duration": 552,
    "start_time": "2023-02-17T21:12:49.521Z"
   },
   {
    "duration": 89,
    "start_time": "2023-02-17T21:13:04.162Z"
   },
   {
    "duration": 83,
    "start_time": "2023-02-17T21:13:11.681Z"
   },
   {
    "duration": 165,
    "start_time": "2023-02-17T21:14:57.745Z"
   },
   {
    "duration": 199,
    "start_time": "2023-02-17T21:15:12.008Z"
   },
   {
    "duration": 195,
    "start_time": "2023-02-17T21:15:16.393Z"
   },
   {
    "duration": 203,
    "start_time": "2023-02-17T21:17:21.129Z"
   },
   {
    "duration": 270,
    "start_time": "2023-02-17T21:17:50.312Z"
   },
   {
    "duration": 2021,
    "start_time": "2023-02-17T21:19:33.439Z"
   },
   {
    "duration": 3589,
    "start_time": "2023-02-17T21:33:17.504Z"
   },
   {
    "duration": 2012,
    "start_time": "2023-02-17T21:33:38.344Z"
   },
   {
    "duration": 3797,
    "start_time": "2023-02-17T21:33:53.978Z"
   },
   {
    "duration": 1964,
    "start_time": "2023-02-17T21:36:05.600Z"
   },
   {
    "duration": 4387,
    "start_time": "2023-02-26T06:41:36.079Z"
   },
   {
    "duration": 37,
    "start_time": "2023-02-26T06:45:07.847Z"
   },
   {
    "duration": 13,
    "start_time": "2023-02-26T06:45:51.343Z"
   },
   {
    "duration": 5,
    "start_time": "2023-02-26T06:55:07.408Z"
   },
   {
    "duration": 102,
    "start_time": "2023-02-26T07:25:23.673Z"
   },
   {
    "duration": 5,
    "start_time": "2023-02-26T07:26:22.791Z"
   },
   {
    "duration": 5,
    "start_time": "2023-02-26T07:26:49.671Z"
   },
   {
    "duration": 26,
    "start_time": "2023-02-26T07:26:55.767Z"
   },
   {
    "duration": 36,
    "start_time": "2023-02-26T07:27:50.682Z"
   },
   {
    "duration": 6,
    "start_time": "2023-02-26T21:31:20.703Z"
   },
   {
    "duration": 3253,
    "start_time": "2023-02-26T21:31:24.207Z"
   },
   {
    "duration": 25,
    "start_time": "2023-02-26T21:31:28.760Z"
   },
   {
    "duration": 11,
    "start_time": "2023-02-26T21:31:30.160Z"
   },
   {
    "duration": 25,
    "start_time": "2023-02-26T21:31:40.392Z"
   },
   {
    "duration": 7,
    "start_time": "2023-02-27T07:09:21.432Z"
   },
   {
    "duration": 8,
    "start_time": "2023-02-27T07:09:22.912Z"
   },
   {
    "duration": 2179,
    "start_time": "2023-02-27T07:09:28.093Z"
   },
   {
    "duration": 10,
    "start_time": "2023-02-27T07:09:30.274Z"
   },
   {
    "duration": 26,
    "start_time": "2023-02-27T07:09:32.784Z"
   },
   {
    "duration": 13,
    "start_time": "2023-02-27T07:09:34.144Z"
   },
   {
    "duration": 37,
    "start_time": "2023-02-27T07:09:37.792Z"
   },
   {
    "duration": 43,
    "start_time": "2023-02-27T07:10:04.249Z"
   },
   {
    "duration": 11,
    "start_time": "2023-02-27T07:10:16.360Z"
   },
   {
    "duration": 9,
    "start_time": "2023-02-27T07:23:58.816Z"
   },
   {
    "duration": 64,
    "start_time": "2023-02-27T07:24:03.513Z"
   },
   {
    "duration": 5,
    "start_time": "2023-02-27T07:24:52.585Z"
   },
   {
    "duration": 129,
    "start_time": "2023-02-27T08:18:34.705Z"
   },
   {
    "duration": 5,
    "start_time": "2023-02-27T08:19:29.816Z"
   },
   {
    "duration": 11,
    "start_time": "2023-02-27T08:19:38.376Z"
   },
   {
    "duration": 6,
    "start_time": "2023-02-27T08:19:54.872Z"
   },
   {
    "duration": 8,
    "start_time": "2023-02-27T08:20:05.968Z"
   },
   {
    "duration": 9,
    "start_time": "2023-02-27T08:21:06.191Z"
   },
   {
    "duration": 12,
    "start_time": "2023-02-27T08:22:14.191Z"
   },
   {
    "duration": 156,
    "start_time": "2023-02-27T08:22:17.246Z"
   },
   {
    "duration": 13,
    "start_time": "2023-02-27T08:22:24.576Z"
   },
   {
    "duration": 10,
    "start_time": "2023-02-27T08:22:28.575Z"
   },
   {
    "duration": 11,
    "start_time": "2023-02-27T08:22:34.694Z"
   },
   {
    "duration": 11,
    "start_time": "2023-02-27T08:23:07.094Z"
   },
   {
    "duration": 5,
    "start_time": "2023-02-27T08:24:51.982Z"
   },
   {
    "duration": 85,
    "start_time": "2023-02-27T08:30:51.667Z"
   },
   {
    "duration": 6,
    "start_time": "2023-02-27T08:30:56.852Z"
   },
   {
    "duration": 30,
    "start_time": "2023-02-27T08:31:07.299Z"
   },
   {
    "duration": 29,
    "start_time": "2023-02-27T08:32:43.130Z"
   },
   {
    "duration": 5,
    "start_time": "2023-02-27T08:32:49.010Z"
   },
   {
    "duration": 32,
    "start_time": "2023-02-27T08:32:59.097Z"
   },
   {
    "duration": 5,
    "start_time": "2023-02-27T08:33:01.785Z"
   },
   {
    "duration": 7,
    "start_time": "2023-02-27T08:33:10.209Z"
   },
   {
    "duration": 8,
    "start_time": "2023-02-27T08:33:13.570Z"
   },
   {
    "duration": 6,
    "start_time": "2023-02-27T08:33:20.905Z"
   },
   {
    "duration": 37,
    "start_time": "2023-02-27T08:35:36.088Z"
   },
   {
    "duration": 49,
    "start_time": "2023-02-27T08:36:03.096Z"
   },
   {
    "duration": 41,
    "start_time": "2023-02-27T08:36:30.272Z"
   },
   {
    "duration": 67,
    "start_time": "2023-02-27T08:46:02.143Z"
   },
   {
    "duration": 7,
    "start_time": "2023-02-27T08:46:05.563Z"
   },
   {
    "duration": 8,
    "start_time": "2023-02-27T08:46:18.683Z"
   },
   {
    "duration": 9,
    "start_time": "2023-02-27T08:48:38.602Z"
   },
   {
    "duration": 11,
    "start_time": "2023-02-27T08:50:04.561Z"
   },
   {
    "duration": 7,
    "start_time": "2023-02-27T08:50:10.851Z"
   },
   {
    "duration": 12,
    "start_time": "2023-02-27T08:51:36.857Z"
   },
   {
    "duration": 12,
    "start_time": "2023-02-27T08:52:03.849Z"
   },
   {
    "duration": 6,
    "start_time": "2023-02-27T08:52:12.632Z"
   },
   {
    "duration": 47,
    "start_time": "2023-02-27T08:52:39.824Z"
   },
   {
    "duration": 43,
    "start_time": "2023-02-27T08:52:42.575Z"
   },
   {
    "duration": 11,
    "start_time": "2023-02-27T09:36:30.897Z"
   },
   {
    "duration": 10,
    "start_time": "2023-02-27T09:36:36.778Z"
   },
   {
    "duration": 10,
    "start_time": "2023-02-27T09:36:45.432Z"
   },
   {
    "duration": 11,
    "start_time": "2023-02-27T09:36:50.095Z"
   },
   {
    "duration": 6,
    "start_time": "2023-02-27T09:36:54.894Z"
   },
   {
    "duration": 13,
    "start_time": "2023-02-27T09:37:03.512Z"
   },
   {
    "duration": 7,
    "start_time": "2023-02-27T09:37:19.295Z"
   },
   {
    "duration": 13,
    "start_time": "2023-02-27T09:45:39.405Z"
   },
   {
    "duration": 7,
    "start_time": "2023-02-27T09:45:48.971Z"
   },
   {
    "duration": 7,
    "start_time": "2023-02-27T09:45:55.387Z"
   },
   {
    "duration": 8,
    "start_time": "2023-02-27T09:47:02.474Z"
   },
   {
    "duration": 14,
    "start_time": "2023-02-27T09:47:15.967Z"
   },
   {
    "duration": 9,
    "start_time": "2023-02-27T09:47:21.458Z"
   },
   {
    "duration": 8,
    "start_time": "2023-02-27T09:47:43.026Z"
   },
   {
    "duration": 14,
    "start_time": "2023-02-27T09:48:37.673Z"
   },
   {
    "duration": 7,
    "start_time": "2023-02-27T09:57:36.397Z"
   },
   {
    "duration": 14,
    "start_time": "2023-02-27T09:57:39.092Z"
   },
   {
    "duration": 5,
    "start_time": "2023-02-27T09:57:57.932Z"
   },
   {
    "duration": 5,
    "start_time": "2023-02-27T09:58:06.612Z"
   },
   {
    "duration": 9,
    "start_time": "2023-02-27T09:58:52.067Z"
   },
   {
    "duration": 10,
    "start_time": "2023-02-27T09:58:53.611Z"
   },
   {
    "duration": 10,
    "start_time": "2023-02-27T09:59:10.315Z"
   },
   {
    "duration": 9,
    "start_time": "2023-02-27T09:59:20.850Z"
   },
   {
    "duration": 7,
    "start_time": "2023-02-27T09:59:22.475Z"
   },
   {
    "duration": 9,
    "start_time": "2023-02-27T09:59:26.707Z"
   },
   {
    "duration": 9,
    "start_time": "2023-02-27T10:00:33.906Z"
   },
   {
    "duration": 2126,
    "start_time": "2023-02-27T10:00:43.210Z"
   },
   {
    "duration": 23,
    "start_time": "2023-02-27T10:00:45.338Z"
   },
   {
    "duration": 9,
    "start_time": "2023-02-27T10:00:45.363Z"
   },
   {
    "duration": 57,
    "start_time": "2023-02-27T10:00:45.373Z"
   },
   {
    "duration": 7,
    "start_time": "2023-02-27T10:00:45.431Z"
   },
   {
    "duration": 17,
    "start_time": "2023-02-27T10:00:45.440Z"
   },
   {
    "duration": 15,
    "start_time": "2023-02-27T10:00:45.458Z"
   },
   {
    "duration": 32,
    "start_time": "2023-02-27T10:00:45.475Z"
   },
   {
    "duration": 11,
    "start_time": "2023-02-27T10:00:48.009Z"
   },
   {
    "duration": 9,
    "start_time": "2023-02-27T10:01:00.666Z"
   },
   {
    "duration": 2062,
    "start_time": "2023-02-27T10:01:17.474Z"
   },
   {
    "duration": 20,
    "start_time": "2023-02-27T10:01:19.537Z"
   },
   {
    "duration": 9,
    "start_time": "2023-02-27T10:01:19.558Z"
   },
   {
    "duration": 23,
    "start_time": "2023-02-27T10:01:19.568Z"
   },
   {
    "duration": 34,
    "start_time": "2023-02-27T10:01:19.592Z"
   },
   {
    "duration": 8,
    "start_time": "2023-02-27T10:01:19.955Z"
   },
   {
    "duration": 7,
    "start_time": "2023-02-27T10:01:20.561Z"
   },
   {
    "duration": 8,
    "start_time": "2023-02-27T10:01:21.626Z"
   },
   {
    "duration": 8,
    "start_time": "2023-02-27T10:02:04.785Z"
   },
   {
    "duration": 7,
    "start_time": "2023-02-27T10:02:06.201Z"
   },
   {
    "duration": 8,
    "start_time": "2023-02-27T10:02:08.769Z"
   },
   {
    "duration": 7,
    "start_time": "2023-02-27T10:02:10.209Z"
   },
   {
    "duration": 7,
    "start_time": "2023-02-27T10:02:22.525Z"
   },
   {
    "duration": 7,
    "start_time": "2023-02-27T10:02:27.746Z"
   },
   {
    "duration": 2860,
    "start_time": "2023-02-27T10:05:27.201Z"
   },
   {
    "duration": 24,
    "start_time": "2023-02-27T10:05:30.063Z"
   },
   {
    "duration": 19,
    "start_time": "2023-02-27T10:05:30.089Z"
   },
   {
    "duration": 42,
    "start_time": "2023-02-27T10:05:30.109Z"
   },
   {
    "duration": 8,
    "start_time": "2023-02-27T10:05:30.153Z"
   },
   {
    "duration": 26,
    "start_time": "2023-02-27T10:05:30.162Z"
   },
   {
    "duration": 42,
    "start_time": "2023-02-27T10:05:30.199Z"
   },
   {
    "duration": 47,
    "start_time": "2023-02-27T10:05:30.243Z"
   },
   {
    "duration": 33,
    "start_time": "2023-02-27T10:05:30.291Z"
   },
   {
    "duration": 2088,
    "start_time": "2023-02-27T10:05:49.673Z"
   },
   {
    "duration": 23,
    "start_time": "2023-02-27T10:05:51.763Z"
   },
   {
    "duration": 37,
    "start_time": "2023-02-27T10:05:51.787Z"
   },
   {
    "duration": 25,
    "start_time": "2023-02-27T10:05:52.087Z"
   },
   {
    "duration": 8,
    "start_time": "2023-02-27T10:05:52.591Z"
   },
   {
    "duration": 8,
    "start_time": "2023-02-27T10:05:53.127Z"
   },
   {
    "duration": 7,
    "start_time": "2023-02-27T10:05:54.888Z"
   },
   {
    "duration": 7,
    "start_time": "2023-02-27T10:05:56.208Z"
   },
   {
    "duration": 8,
    "start_time": "2023-02-27T10:05:57.464Z"
   },
   {
    "duration": 8,
    "start_time": "2023-02-27T10:05:58.592Z"
   },
   {
    "duration": 24,
    "start_time": "2023-02-27T10:06:04.149Z"
   },
   {
    "duration": 9,
    "start_time": "2023-02-27T10:07:12.991Z"
   },
   {
    "duration": 8,
    "start_time": "2023-02-27T10:07:28.015Z"
   },
   {
    "duration": 7,
    "start_time": "2023-02-27T10:09:39.270Z"
   },
   {
    "duration": 7,
    "start_time": "2023-02-27T10:09:40.973Z"
   },
   {
    "duration": 6,
    "start_time": "2023-02-27T10:10:59.150Z"
   },
   {
    "duration": 6,
    "start_time": "2023-02-27T10:11:05.781Z"
   },
   {
    "duration": 12,
    "start_time": "2023-02-27T10:18:22.664Z"
   },
   {
    "duration": 8,
    "start_time": "2023-02-27T10:18:27.412Z"
   },
   {
    "duration": 10,
    "start_time": "2023-02-27T10:18:41.865Z"
   },
   {
    "duration": 11,
    "start_time": "2023-02-27T10:18:51.225Z"
   },
   {
    "duration": 6,
    "start_time": "2023-02-27T10:19:07.025Z"
   },
   {
    "duration": 5,
    "start_time": "2023-02-27T10:19:14.977Z"
   },
   {
    "duration": 8,
    "start_time": "2023-02-27T10:19:20.026Z"
   },
   {
    "duration": 6,
    "start_time": "2023-02-27T10:19:54.073Z"
   },
   {
    "duration": 41,
    "start_time": "2023-02-27T10:29:03.256Z"
   },
   {
    "duration": 41,
    "start_time": "2023-02-27T10:29:41.884Z"
   },
   {
    "duration": 70,
    "start_time": "2023-02-27T10:30:07.103Z"
   },
   {
    "duration": 10,
    "start_time": "2023-02-27T10:31:16.084Z"
   },
   {
    "duration": 12,
    "start_time": "2023-02-27T10:31:23.276Z"
   },
   {
    "duration": 14,
    "start_time": "2023-02-27T10:31:24.492Z"
   },
   {
    "duration": 2053,
    "start_time": "2023-02-27T10:31:40.544Z"
   },
   {
    "duration": 34,
    "start_time": "2023-02-27T10:31:42.600Z"
   },
   {
    "duration": 11,
    "start_time": "2023-02-27T10:31:42.636Z"
   },
   {
    "duration": 25,
    "start_time": "2023-02-27T10:31:42.857Z"
   },
   {
    "duration": 8,
    "start_time": "2023-02-27T10:31:45.595Z"
   },
   {
    "duration": 8,
    "start_time": "2023-02-27T10:31:46.153Z"
   },
   {
    "duration": 7,
    "start_time": "2023-02-27T10:31:46.549Z"
   },
   {
    "duration": 8,
    "start_time": "2023-02-27T10:31:46.835Z"
   },
   {
    "duration": 6,
    "start_time": "2023-02-27T10:31:47.141Z"
   },
   {
    "duration": 8,
    "start_time": "2023-02-27T10:31:47.499Z"
   },
   {
    "duration": 6,
    "start_time": "2023-02-27T10:31:47.988Z"
   },
   {
    "duration": 9,
    "start_time": "2023-02-27T10:31:48.427Z"
   },
   {
    "duration": 11,
    "start_time": "2023-02-27T10:31:48.866Z"
   },
   {
    "duration": 10,
    "start_time": "2023-02-27T10:31:54.767Z"
   },
   {
    "duration": 9,
    "start_time": "2023-02-27T10:32:02.665Z"
   },
   {
    "duration": 10,
    "start_time": "2023-02-27T10:38:41.657Z"
   },
   {
    "duration": 8,
    "start_time": "2023-02-27T10:38:50.009Z"
   },
   {
    "duration": 9,
    "start_time": "2023-02-27T10:43:50.857Z"
   },
   {
    "duration": 9,
    "start_time": "2023-02-27T10:43:56.110Z"
   },
   {
    "duration": 18,
    "start_time": "2023-02-27T10:45:14.837Z"
   },
   {
    "duration": 13,
    "start_time": "2023-02-27T10:45:18.622Z"
   },
   {
    "duration": 2704,
    "start_time": "2023-02-27T10:45:38.853Z"
   },
   {
    "duration": 27,
    "start_time": "2023-02-27T10:45:41.559Z"
   },
   {
    "duration": 8,
    "start_time": "2023-02-27T10:45:41.588Z"
   },
   {
    "duration": 38,
    "start_time": "2023-02-27T10:45:41.598Z"
   },
   {
    "duration": 15,
    "start_time": "2023-02-27T10:45:41.638Z"
   },
   {
    "duration": 8,
    "start_time": "2023-02-27T10:45:41.756Z"
   },
   {
    "duration": 9,
    "start_time": "2023-02-27T10:45:42.357Z"
   },
   {
    "duration": 12,
    "start_time": "2023-02-27T10:45:58.677Z"
   },
   {
    "duration": 12,
    "start_time": "2023-02-27T10:48:31.759Z"
   },
   {
    "duration": 12,
    "start_time": "2023-02-27T10:49:00.060Z"
   },
   {
    "duration": 2657,
    "start_time": "2023-02-27T10:49:09.751Z"
   },
   {
    "duration": 24,
    "start_time": "2023-02-27T10:49:12.410Z"
   },
   {
    "duration": 9,
    "start_time": "2023-02-27T10:49:12.436Z"
   },
   {
    "duration": 26,
    "start_time": "2023-02-27T10:49:12.448Z"
   },
   {
    "duration": 14,
    "start_time": "2023-02-27T10:49:12.475Z"
   },
   {
    "duration": 36,
    "start_time": "2023-02-27T10:49:12.491Z"
   },
   {
    "duration": 7,
    "start_time": "2023-02-27T10:49:12.529Z"
   },
   {
    "duration": 8,
    "start_time": "2023-02-27T10:49:12.537Z"
   },
   {
    "duration": 6,
    "start_time": "2023-02-27T10:49:18.811Z"
   },
   {
    "duration": 7,
    "start_time": "2023-02-27T10:49:20.844Z"
   },
   {
    "duration": 6,
    "start_time": "2023-02-27T10:49:23.099Z"
   },
   {
    "duration": 10,
    "start_time": "2023-02-27T10:49:23.627Z"
   },
   {
    "duration": 80,
    "start_time": "2023-02-27T10:49:39.971Z"
   },
   {
    "duration": 8,
    "start_time": "2023-02-27T10:49:45.580Z"
   },
   {
    "duration": 8,
    "start_time": "2023-02-27T10:50:00.916Z"
   },
   {
    "duration": 9,
    "start_time": "2023-02-27T10:50:19.852Z"
   },
   {
    "duration": 13,
    "start_time": "2023-02-27T10:50:30.627Z"
   },
   {
    "duration": 11,
    "start_time": "2023-02-27T10:50:49.100Z"
   },
   {
    "duration": 9,
    "start_time": "2023-02-27T10:51:36.698Z"
   },
   {
    "duration": 12,
    "start_time": "2023-02-27T10:51:36.890Z"
   },
   {
    "duration": 11,
    "start_time": "2023-02-27T10:51:39.082Z"
   },
   {
    "duration": 66,
    "start_time": "2023-02-27T10:53:14.394Z"
   },
   {
    "duration": 7,
    "start_time": "2023-02-27T10:53:18.506Z"
   },
   {
    "duration": 6,
    "start_time": "2023-02-27T10:53:26.914Z"
   },
   {
    "duration": 5,
    "start_time": "2023-02-27T10:53:31.498Z"
   },
   {
    "duration": 46,
    "start_time": "2023-02-27T10:53:45.785Z"
   },
   {
    "duration": 6,
    "start_time": "2023-02-27T10:53:45.958Z"
   },
   {
    "duration": 2596,
    "start_time": "2023-02-27T10:53:56.977Z"
   },
   {
    "duration": 34,
    "start_time": "2023-02-27T10:53:59.575Z"
   },
   {
    "duration": 18,
    "start_time": "2023-02-27T10:53:59.611Z"
   },
   {
    "duration": 35,
    "start_time": "2023-02-27T10:53:59.632Z"
   },
   {
    "duration": 13,
    "start_time": "2023-02-27T10:53:59.669Z"
   },
   {
    "duration": 38,
    "start_time": "2023-02-27T10:53:59.684Z"
   },
   {
    "duration": 7,
    "start_time": "2023-02-27T10:53:59.724Z"
   },
   {
    "duration": 9,
    "start_time": "2023-02-27T10:53:59.733Z"
   },
   {
    "duration": 15,
    "start_time": "2023-02-27T10:53:59.744Z"
   },
   {
    "duration": 10,
    "start_time": "2023-02-27T10:53:59.761Z"
   },
   {
    "duration": 10,
    "start_time": "2023-02-27T10:53:59.772Z"
   },
   {
    "duration": 38,
    "start_time": "2023-02-27T10:53:59.783Z"
   },
   {
    "duration": 6,
    "start_time": "2023-02-27T10:53:59.824Z"
   },
   {
    "duration": 19,
    "start_time": "2023-02-27T10:53:59.832Z"
   },
   {
    "duration": 2715,
    "start_time": "2023-02-27T10:54:15.801Z"
   },
   {
    "duration": 24,
    "start_time": "2023-02-27T10:54:18.518Z"
   },
   {
    "duration": 9,
    "start_time": "2023-02-27T10:54:18.544Z"
   },
   {
    "duration": 23,
    "start_time": "2023-02-27T10:54:18.554Z"
   },
   {
    "duration": 11,
    "start_time": "2023-02-27T10:54:18.579Z"
   },
   {
    "duration": 9,
    "start_time": "2023-02-27T10:54:18.621Z"
   },
   {
    "duration": 6,
    "start_time": "2023-02-27T10:54:18.632Z"
   },
   {
    "duration": 9,
    "start_time": "2023-02-27T10:54:18.640Z"
   },
   {
    "duration": 6,
    "start_time": "2023-02-27T10:54:18.651Z"
   },
   {
    "duration": 9,
    "start_time": "2023-02-27T10:54:18.659Z"
   },
   {
    "duration": 57,
    "start_time": "2023-02-27T10:54:18.670Z"
   },
   {
    "duration": 12,
    "start_time": "2023-02-27T10:54:21.714Z"
   },
   {
    "duration": 7,
    "start_time": "2023-02-27T10:54:25.617Z"
   },
   {
    "duration": 75,
    "start_time": "2023-02-27T10:56:12.335Z"
   },
   {
    "duration": 11,
    "start_time": "2023-02-27T10:56:14.312Z"
   },
   {
    "duration": 15,
    "start_time": "2023-02-27T10:56:20.169Z"
   },
   {
    "duration": 31,
    "start_time": "2023-02-27T10:57:41.776Z"
   },
   {
    "duration": 41,
    "start_time": "2023-02-27T10:58:47.495Z"
   },
   {
    "duration": 33,
    "start_time": "2023-02-27T11:19:01.561Z"
   },
   {
    "duration": 35,
    "start_time": "2023-02-27T11:23:36.467Z"
   },
   {
    "duration": 22,
    "start_time": "2023-02-27T11:24:03.323Z"
   },
   {
    "duration": 90,
    "start_time": "2023-02-27T11:26:32.507Z"
   },
   {
    "duration": 340,
    "start_time": "2023-02-27T11:30:46.601Z"
   },
   {
    "duration": 102,
    "start_time": "2023-02-27T11:31:18.120Z"
   },
   {
    "duration": 332,
    "start_time": "2023-02-27T11:31:53.169Z"
   },
   {
    "duration": 331,
    "start_time": "2023-02-27T11:32:10.440Z"
   },
   {
    "duration": 1272,
    "start_time": "2023-02-27T11:33:28.535Z"
   },
   {
    "duration": 1274,
    "start_time": "2023-02-27T11:33:38.472Z"
   },
   {
    "duration": 23,
    "start_time": "2023-02-27T11:33:52.773Z"
   },
   {
    "duration": 76,
    "start_time": "2023-02-27T11:37:02.597Z"
   },
   {
    "duration": 81,
    "start_time": "2023-02-27T11:37:06.030Z"
   },
   {
    "duration": 81,
    "start_time": "2023-02-27T11:37:22.639Z"
   },
   {
    "duration": 86,
    "start_time": "2023-02-27T11:38:05.934Z"
   },
   {
    "duration": 88,
    "start_time": "2023-02-27T11:38:07.102Z"
   },
   {
    "duration": 21,
    "start_time": "2023-02-27T11:38:15.197Z"
   },
   {
    "duration": 22,
    "start_time": "2023-02-27T11:39:06.569Z"
   },
   {
    "duration": 181,
    "start_time": "2023-02-27T11:40:02.368Z"
   },
   {
    "duration": 66,
    "start_time": "2023-02-27T11:40:09.085Z"
   },
   {
    "duration": 23,
    "start_time": "2023-02-27T11:40:12.701Z"
   },
   {
    "duration": 31,
    "start_time": "2023-02-27T11:40:18.316Z"
   },
   {
    "duration": 30,
    "start_time": "2023-02-27T11:40:23.173Z"
   },
   {
    "duration": 45,
    "start_time": "2023-02-27T11:40:24.540Z"
   },
   {
    "duration": 6,
    "start_time": "2023-02-27T16:30:03.705Z"
   },
   {
    "duration": 3261,
    "start_time": "2023-02-27T16:30:08.393Z"
   },
   {
    "duration": 40,
    "start_time": "2023-02-27T16:30:11.657Z"
   },
   {
    "duration": 11,
    "start_time": "2023-02-27T16:30:11.699Z"
   },
   {
    "duration": 72,
    "start_time": "2023-02-27T16:30:11.714Z"
   },
   {
    "duration": 15,
    "start_time": "2023-02-27T16:30:11.788Z"
   },
   {
    "duration": 18,
    "start_time": "2023-02-27T16:30:11.805Z"
   },
   {
    "duration": 35,
    "start_time": "2023-02-27T16:30:11.825Z"
   },
   {
    "duration": 10,
    "start_time": "2023-02-27T16:30:11.862Z"
   },
   {
    "duration": 9,
    "start_time": "2023-02-27T16:30:11.874Z"
   },
   {
    "duration": 11,
    "start_time": "2023-02-27T16:30:11.886Z"
   },
   {
    "duration": 6,
    "start_time": "2023-02-27T16:30:11.899Z"
   },
   {
    "duration": 14,
    "start_time": "2023-02-27T16:30:11.954Z"
   },
   {
    "duration": 29,
    "start_time": "2023-02-27T16:30:11.970Z"
   },
   {
    "duration": 55,
    "start_time": "2023-02-27T16:30:12.001Z"
   },
   {
    "duration": 51,
    "start_time": "2023-02-27T16:35:57.755Z"
   },
   {
    "duration": 21,
    "start_time": "2023-02-27T16:36:03.450Z"
   },
   {
    "duration": 37,
    "start_time": "2023-02-27T16:36:15.278Z"
   },
   {
    "duration": 30,
    "start_time": "2023-02-27T16:36:25.486Z"
   },
   {
    "duration": 2195,
    "start_time": "2023-02-27T16:37:00.463Z"
   },
   {
    "duration": 22,
    "start_time": "2023-02-27T16:37:02.660Z"
   },
   {
    "duration": 12,
    "start_time": "2023-02-27T16:37:02.684Z"
   },
   {
    "duration": 61,
    "start_time": "2023-02-27T16:37:02.698Z"
   },
   {
    "duration": 13,
    "start_time": "2023-02-27T16:37:02.761Z"
   },
   {
    "duration": 10,
    "start_time": "2023-02-27T16:37:02.776Z"
   },
   {
    "duration": 9,
    "start_time": "2023-02-27T16:37:02.788Z"
   },
   {
    "duration": 14,
    "start_time": "2023-02-27T16:37:02.798Z"
   },
   {
    "duration": 45,
    "start_time": "2023-02-27T16:37:02.814Z"
   },
   {
    "duration": 8,
    "start_time": "2023-02-27T16:37:02.862Z"
   },
   {
    "duration": 6,
    "start_time": "2023-02-27T16:37:02.872Z"
   },
   {
    "duration": 11,
    "start_time": "2023-02-27T16:37:02.906Z"
   },
   {
    "duration": 26,
    "start_time": "2023-02-27T16:37:03.093Z"
   },
   {
    "duration": 20,
    "start_time": "2023-02-27T16:37:03.638Z"
   },
   {
    "duration": 13,
    "start_time": "2023-02-27T16:37:24.982Z"
   },
   {
    "duration": 14,
    "start_time": "2023-02-27T16:37:25.582Z"
   },
   {
    "duration": 18,
    "start_time": "2023-02-27T16:37:26.671Z"
   },
   {
    "duration": 31,
    "start_time": "2023-02-27T16:37:32.118Z"
   },
   {
    "duration": 13,
    "start_time": "2023-02-27T16:37:37.014Z"
   },
   {
    "duration": 21,
    "start_time": "2023-02-27T16:38:35.781Z"
   },
   {
    "duration": 22,
    "start_time": "2023-02-27T16:41:21.958Z"
   },
   {
    "duration": 22,
    "start_time": "2023-02-27T16:41:22.613Z"
   },
   {
    "duration": 2889,
    "start_time": "2023-02-27T16:41:29.761Z"
   },
   {
    "duration": 32,
    "start_time": "2023-02-27T16:41:32.653Z"
   },
   {
    "duration": 12,
    "start_time": "2023-02-27T16:41:32.686Z"
   },
   {
    "duration": 24,
    "start_time": "2023-02-27T16:41:32.700Z"
   },
   {
    "duration": 11,
    "start_time": "2023-02-27T16:41:32.754Z"
   },
   {
    "duration": 13,
    "start_time": "2023-02-27T16:41:32.767Z"
   },
   {
    "duration": 13,
    "start_time": "2023-02-27T16:41:32.781Z"
   },
   {
    "duration": 12,
    "start_time": "2023-02-27T16:41:32.796Z"
   },
   {
    "duration": 8,
    "start_time": "2023-02-27T16:41:32.810Z"
   },
   {
    "duration": 5,
    "start_time": "2023-02-27T16:41:32.820Z"
   },
   {
    "duration": 8,
    "start_time": "2023-02-27T16:41:32.853Z"
   },
   {
    "duration": 35,
    "start_time": "2023-02-27T16:41:32.863Z"
   },
   {
    "duration": 105,
    "start_time": "2023-02-27T16:41:32.899Z"
   },
   {
    "duration": 2287,
    "start_time": "2023-02-27T16:41:35.069Z"
   },
   {
    "duration": 29,
    "start_time": "2023-02-27T16:41:37.359Z"
   },
   {
    "duration": 22,
    "start_time": "2023-02-27T16:41:37.391Z"
   },
   {
    "duration": 33,
    "start_time": "2023-02-27T16:41:37.636Z"
   },
   {
    "duration": 15,
    "start_time": "2023-02-27T16:41:38.351Z"
   },
   {
    "duration": 9,
    "start_time": "2023-02-27T16:41:38.862Z"
   },
   {
    "duration": 8,
    "start_time": "2023-02-27T16:41:39.083Z"
   },
   {
    "duration": 10,
    "start_time": "2023-02-27T16:41:39.275Z"
   },
   {
    "duration": 8,
    "start_time": "2023-02-27T16:41:39.454Z"
   },
   {
    "duration": 7,
    "start_time": "2023-02-27T16:41:39.654Z"
   },
   {
    "duration": 12,
    "start_time": "2023-02-27T16:41:39.819Z"
   },
   {
    "duration": 25,
    "start_time": "2023-02-27T16:41:40.252Z"
   },
   {
    "duration": 24,
    "start_time": "2023-02-27T16:41:41.524Z"
   },
   {
    "duration": 15,
    "start_time": "2023-02-27T16:41:49.123Z"
   },
   {
    "duration": 17,
    "start_time": "2023-02-27T16:42:36.122Z"
   },
   {
    "duration": 22,
    "start_time": "2023-02-27T16:44:01.499Z"
   },
   {
    "duration": 16,
    "start_time": "2023-02-27T16:49:31.115Z"
   },
   {
    "duration": 32,
    "start_time": "2023-02-27T16:49:36.904Z"
   },
   {
    "duration": 23,
    "start_time": "2023-02-27T16:50:03.801Z"
   },
   {
    "duration": 24,
    "start_time": "2023-02-27T16:50:06.635Z"
   },
   {
    "duration": 24,
    "start_time": "2023-02-27T16:50:10.778Z"
   },
   {
    "duration": 6,
    "start_time": "2023-02-27T16:51:22.633Z"
   },
   {
    "duration": 2890,
    "start_time": "2023-02-27T16:51:31.852Z"
   },
   {
    "duration": 26,
    "start_time": "2023-02-27T16:51:34.745Z"
   },
   {
    "duration": 9,
    "start_time": "2023-02-27T16:51:34.773Z"
   },
   {
    "duration": 26,
    "start_time": "2023-02-27T16:51:34.784Z"
   },
   {
    "duration": 46,
    "start_time": "2023-02-27T16:51:34.812Z"
   },
   {
    "duration": 11,
    "start_time": "2023-02-27T16:51:34.861Z"
   },
   {
    "duration": 9,
    "start_time": "2023-02-27T16:51:34.874Z"
   },
   {
    "duration": 12,
    "start_time": "2023-02-27T16:51:34.885Z"
   },
   {
    "duration": 8,
    "start_time": "2023-02-27T16:51:34.899Z"
   },
   {
    "duration": 45,
    "start_time": "2023-02-27T16:51:34.910Z"
   },
   {
    "duration": 9,
    "start_time": "2023-02-27T16:51:34.957Z"
   },
   {
    "duration": 25,
    "start_time": "2023-02-27T16:51:34.968Z"
   },
   {
    "duration": 5,
    "start_time": "2023-02-27T16:51:34.994Z"
   },
   {
    "duration": 83,
    "start_time": "2023-02-27T16:51:35.000Z"
   },
   {
    "duration": 2260,
    "start_time": "2023-02-27T16:51:35.086Z"
   },
   {
    "duration": 36,
    "start_time": "2023-02-27T16:51:37.353Z"
   },
   {
    "duration": 15,
    "start_time": "2023-02-27T16:51:37.392Z"
   },
   {
    "duration": 58,
    "start_time": "2023-02-27T16:51:37.411Z"
   },
   {
    "duration": 11,
    "start_time": "2023-02-27T16:51:37.471Z"
   },
   {
    "duration": 10,
    "start_time": "2023-02-27T16:51:37.484Z"
   },
   {
    "duration": 7,
    "start_time": "2023-02-27T16:51:37.497Z"
   },
   {
    "duration": 50,
    "start_time": "2023-02-27T16:51:37.507Z"
   },
   {
    "duration": 7,
    "start_time": "2023-02-27T16:51:37.558Z"
   },
   {
    "duration": 7,
    "start_time": "2023-02-27T16:51:37.567Z"
   },
   {
    "duration": 13,
    "start_time": "2023-02-27T16:51:38.088Z"
   },
   {
    "duration": 33,
    "start_time": "2023-02-27T16:51:38.600Z"
   },
   {
    "duration": 6,
    "start_time": "2023-02-27T16:51:40.656Z"
   },
   {
    "duration": 11,
    "start_time": "2023-02-27T16:51:53.865Z"
   },
   {
    "duration": 80,
    "start_time": "2023-02-27T16:54:36.057Z"
   },
   {
    "duration": 19,
    "start_time": "2023-02-27T16:54:58.336Z"
   },
   {
    "duration": 2999,
    "start_time": "2023-02-27T16:56:56.295Z"
   },
   {
    "duration": 27,
    "start_time": "2023-02-27T16:56:59.297Z"
   },
   {
    "duration": 11,
    "start_time": "2023-02-27T16:56:59.326Z"
   },
   {
    "duration": 25,
    "start_time": "2023-02-27T16:56:59.340Z"
   },
   {
    "duration": 11,
    "start_time": "2023-02-27T16:56:59.367Z"
   },
   {
    "duration": 7,
    "start_time": "2023-02-27T16:56:59.380Z"
   },
   {
    "duration": 8,
    "start_time": "2023-02-27T16:56:59.389Z"
   },
   {
    "duration": 11,
    "start_time": "2023-02-27T16:56:59.399Z"
   },
   {
    "duration": 46,
    "start_time": "2023-02-27T16:56:59.412Z"
   },
   {
    "duration": 7,
    "start_time": "2023-02-27T16:56:59.460Z"
   },
   {
    "duration": 9,
    "start_time": "2023-02-27T16:57:00.046Z"
   },
   {
    "duration": 25,
    "start_time": "2023-02-27T16:57:00.624Z"
   },
   {
    "duration": 15,
    "start_time": "2023-02-27T16:57:02.422Z"
   },
   {
    "duration": 33,
    "start_time": "2023-02-27T16:58:48.350Z"
   },
   {
    "duration": 24,
    "start_time": "2023-02-27T16:59:21.142Z"
   },
   {
    "duration": 18,
    "start_time": "2023-02-27T16:59:27.149Z"
   },
   {
    "duration": 20,
    "start_time": "2023-02-27T16:59:31.941Z"
   },
   {
    "duration": 15,
    "start_time": "2023-02-27T16:59:37.910Z"
   },
   {
    "duration": 22,
    "start_time": "2023-02-27T17:34:02.973Z"
   },
   {
    "duration": 5,
    "start_time": "2023-02-27T17:35:16.083Z"
   },
   {
    "duration": 6,
    "start_time": "2023-02-27T17:35:25.276Z"
   },
   {
    "duration": 4,
    "start_time": "2023-02-27T17:35:28.363Z"
   },
   {
    "duration": 6,
    "start_time": "2023-02-27T17:37:04.618Z"
   },
   {
    "duration": 5,
    "start_time": "2023-02-27T17:38:14.971Z"
   },
   {
    "duration": 8,
    "start_time": "2023-02-27T17:38:17.490Z"
   },
   {
    "duration": 5,
    "start_time": "2023-02-27T17:38:22.003Z"
   },
   {
    "duration": 4,
    "start_time": "2023-02-27T18:48:24.467Z"
   },
   {
    "duration": 7,
    "start_time": "2023-02-27T18:48:35.467Z"
   },
   {
    "duration": 76,
    "start_time": "2023-02-27T18:48:48.838Z"
   },
   {
    "duration": 8,
    "start_time": "2023-02-27T18:48:55.525Z"
   },
   {
    "duration": 4,
    "start_time": "2023-02-27T18:49:00.868Z"
   },
   {
    "duration": 7,
    "start_time": "2023-02-27T18:49:04.165Z"
   },
   {
    "duration": 42,
    "start_time": "2023-02-27T18:49:23.309Z"
   },
   {
    "duration": 52,
    "start_time": "2023-02-27T18:50:16.828Z"
   },
   {
    "duration": 46,
    "start_time": "2023-02-27T18:50:24.077Z"
   },
   {
    "duration": 48,
    "start_time": "2023-02-27T18:50:32.666Z"
   },
   {
    "duration": 47,
    "start_time": "2023-02-27T18:54:26.767Z"
   },
   {
    "duration": 45,
    "start_time": "2023-02-27T18:54:44.614Z"
   },
   {
    "duration": 43,
    "start_time": "2023-02-27T18:54:54.139Z"
   },
   {
    "duration": 3,
    "start_time": "2023-02-27T18:58:30.840Z"
   },
   {
    "duration": 3,
    "start_time": "2023-02-27T18:58:32.120Z"
   },
   {
    "duration": 10,
    "start_time": "2023-02-27T19:00:40.465Z"
   },
   {
    "duration": 8,
    "start_time": "2023-02-27T19:00:47.216Z"
   },
   {
    "duration": 358,
    "start_time": "2023-02-27T19:00:55.866Z"
   },
   {
    "duration": 1327,
    "start_time": "2023-02-27T19:01:04.614Z"
   },
   {
    "duration": 1302,
    "start_time": "2023-02-27T19:01:06.217Z"
   },
   {
    "duration": 422,
    "start_time": "2023-02-27T19:01:20.768Z"
   },
   {
    "duration": 337,
    "start_time": "2023-02-27T19:01:52.927Z"
   },
   {
    "duration": 1337,
    "start_time": "2023-02-27T19:04:00.694Z"
   },
   {
    "duration": 359,
    "start_time": "2023-02-27T19:04:09.607Z"
   },
   {
    "duration": 71,
    "start_time": "2023-02-27T21:10:44.311Z"
   },
   {
    "duration": 4347,
    "start_time": "2023-02-27T21:10:49.712Z"
   },
   {
    "duration": 49,
    "start_time": "2023-02-27T21:10:54.061Z"
   },
   {
    "duration": 10,
    "start_time": "2023-02-27T21:10:54.112Z"
   },
   {
    "duration": 29,
    "start_time": "2023-02-27T21:10:54.125Z"
   },
   {
    "duration": 14,
    "start_time": "2023-02-27T21:10:54.159Z"
   },
   {
    "duration": 47,
    "start_time": "2023-02-27T21:10:54.175Z"
   },
   {
    "duration": 22,
    "start_time": "2023-02-27T21:10:54.223Z"
   },
   {
    "duration": 49,
    "start_time": "2023-02-27T21:10:54.251Z"
   },
   {
    "duration": 23,
    "start_time": "2023-02-27T21:10:54.307Z"
   },
   {
    "duration": 18,
    "start_time": "2023-02-27T21:10:54.333Z"
   },
   {
    "duration": 56,
    "start_time": "2023-02-27T21:10:54.355Z"
   },
   {
    "duration": 25,
    "start_time": "2023-02-27T21:10:54.413Z"
   },
   {
    "duration": 80,
    "start_time": "2023-02-27T21:10:54.440Z"
   },
   {
    "duration": 88,
    "start_time": "2023-02-27T21:10:55.345Z"
   },
   {
    "duration": 85,
    "start_time": "2023-02-27T21:10:55.746Z"
   },
   {
    "duration": 589,
    "start_time": "2023-02-27T21:10:56.433Z"
   },
   {
    "duration": 66,
    "start_time": "2023-02-27T21:10:57.024Z"
   },
   {
    "duration": 31,
    "start_time": "2023-02-27T21:21:21.409Z"
   },
   {
    "duration": 164,
    "start_time": "2023-02-27T21:21:36.278Z"
   },
   {
    "duration": 109,
    "start_time": "2023-02-27T21:22:12.009Z"
   },
   {
    "duration": 154,
    "start_time": "2023-02-27T21:22:29.432Z"
   },
   {
    "duration": 122,
    "start_time": "2023-02-27T21:28:14.516Z"
   },
   {
    "duration": 82,
    "start_time": "2023-02-27T21:28:28.756Z"
   },
   {
    "duration": 41,
    "start_time": "2023-02-27T21:28:30.478Z"
   },
   {
    "duration": 14,
    "start_time": "2023-02-27T21:28:40.328Z"
   },
   {
    "duration": 13,
    "start_time": "2023-02-27T21:28:42.810Z"
   },
   {
    "duration": 19,
    "start_time": "2023-02-27T21:28:57.679Z"
   },
   {
    "duration": 3160,
    "start_time": "2023-02-28T06:19:19.962Z"
   },
   {
    "duration": 31,
    "start_time": "2023-02-28T06:19:23.125Z"
   },
   {
    "duration": 9,
    "start_time": "2023-02-28T06:19:23.157Z"
   },
   {
    "duration": 52,
    "start_time": "2023-02-28T06:19:23.168Z"
   },
   {
    "duration": 12,
    "start_time": "2023-02-28T06:19:23.740Z"
   },
   {
    "duration": 8,
    "start_time": "2023-02-28T06:19:24.211Z"
   },
   {
    "duration": 7,
    "start_time": "2023-02-28T06:19:24.483Z"
   },
   {
    "duration": 10,
    "start_time": "2023-02-28T06:19:24.963Z"
   },
   {
    "duration": 7,
    "start_time": "2023-02-28T06:19:25.379Z"
   },
   {
    "duration": 5,
    "start_time": "2023-02-28T06:19:25.739Z"
   },
   {
    "duration": 25,
    "start_time": "2023-02-28T06:19:25.996Z"
   },
   {
    "duration": 23,
    "start_time": "2023-02-28T06:19:26.427Z"
   },
   {
    "duration": 56,
    "start_time": "2023-02-28T06:19:27.117Z"
   },
   {
    "duration": 49,
    "start_time": "2023-02-28T06:19:27.396Z"
   },
   {
    "duration": 356,
    "start_time": "2023-02-28T06:19:27.676Z"
   },
   {
    "duration": 41,
    "start_time": "2023-02-28T06:19:28.034Z"
   },
   {
    "duration": 38,
    "start_time": "2023-02-28T06:19:29.283Z"
   },
   {
    "duration": 164,
    "start_time": "2023-02-28T06:19:33.699Z"
   },
   {
    "duration": 175,
    "start_time": "2023-02-28T06:19:46.532Z"
   },
   {
    "duration": 151,
    "start_time": "2023-02-28T06:19:49.604Z"
   },
   {
    "duration": 217,
    "start_time": "2023-02-28T06:19:52.300Z"
   },
   {
    "duration": 151,
    "start_time": "2023-02-28T06:19:56.323Z"
   },
   {
    "duration": 153,
    "start_time": "2023-02-28T06:20:03.075Z"
   },
   {
    "duration": 150,
    "start_time": "2023-02-28T06:20:05.827Z"
   },
   {
    "duration": 149,
    "start_time": "2023-02-28T06:20:13.651Z"
   },
   {
    "duration": 138,
    "start_time": "2023-02-28T06:20:19.979Z"
   },
   {
    "duration": 138,
    "start_time": "2023-02-28T06:20:22.675Z"
   },
   {
    "duration": 148,
    "start_time": "2023-02-28T06:20:27.515Z"
   },
   {
    "duration": 178,
    "start_time": "2023-02-28T06:20:33.243Z"
   },
   {
    "duration": 174,
    "start_time": "2023-02-28T06:24:25.626Z"
   },
   {
    "duration": 170,
    "start_time": "2023-02-28T06:24:30.689Z"
   },
   {
    "duration": 338,
    "start_time": "2023-02-28T06:24:40.785Z"
   },
   {
    "duration": 143,
    "start_time": "2023-02-28T06:24:47.377Z"
   },
   {
    "duration": 181,
    "start_time": "2023-02-28T06:24:51.858Z"
   },
   {
    "duration": 8,
    "start_time": "2023-02-28T06:31:41.974Z"
   },
   {
    "duration": 176,
    "start_time": "2023-02-28T06:31:44.926Z"
   },
   {
    "duration": 9,
    "start_time": "2023-02-28T06:31:48.758Z"
   },
   {
    "duration": 154,
    "start_time": "2023-02-28T06:33:09.789Z"
   },
   {
    "duration": 157,
    "start_time": "2023-02-28T06:33:15.693Z"
   },
   {
    "duration": 196,
    "start_time": "2023-02-28T06:33:20.789Z"
   },
   {
    "duration": 176,
    "start_time": "2023-02-28T06:34:57.213Z"
   },
   {
    "duration": 168,
    "start_time": "2023-02-28T06:35:09.501Z"
   },
   {
    "duration": 166,
    "start_time": "2023-02-28T06:35:17.189Z"
   },
   {
    "duration": 291,
    "start_time": "2023-02-28T06:35:20.189Z"
   },
   {
    "duration": 172,
    "start_time": "2023-02-28T06:35:23.140Z"
   },
   {
    "duration": 188,
    "start_time": "2023-02-28T06:35:27.188Z"
   },
   {
    "duration": 170,
    "start_time": "2023-02-28T06:35:58.300Z"
   },
   {
    "duration": 189,
    "start_time": "2023-02-28T06:36:00.124Z"
   },
   {
    "duration": 8,
    "start_time": "2023-02-28T06:36:28.972Z"
   },
   {
    "duration": 7,
    "start_time": "2023-02-28T06:36:33.404Z"
   },
   {
    "duration": 6,
    "start_time": "2023-02-28T06:36:49.812Z"
   },
   {
    "duration": 191,
    "start_time": "2023-02-28T06:37:04.019Z"
   },
   {
    "duration": 166,
    "start_time": "2023-02-28T06:37:08.067Z"
   },
   {
    "duration": 175,
    "start_time": "2023-02-28T06:38:35.349Z"
   },
   {
    "duration": 9,
    "start_time": "2023-02-28T06:38:42.507Z"
   },
   {
    "duration": 177,
    "start_time": "2023-02-28T06:39:01.348Z"
   },
   {
    "duration": 7,
    "start_time": "2023-02-28T06:43:31.245Z"
   },
   {
    "duration": 172,
    "start_time": "2023-02-28T06:43:43.248Z"
   },
   {
    "duration": 8,
    "start_time": "2023-02-28T06:47:38.663Z"
   },
   {
    "duration": 183,
    "start_time": "2023-02-28T06:47:52.975Z"
   },
   {
    "duration": 328,
    "start_time": "2023-02-28T06:48:13.434Z"
   },
   {
    "duration": 222,
    "start_time": "2023-02-28T06:48:21.887Z"
   },
   {
    "duration": 192,
    "start_time": "2023-02-28T06:48:25.048Z"
   },
   {
    "duration": 174,
    "start_time": "2023-02-28T06:54:05.109Z"
   },
   {
    "duration": 8,
    "start_time": "2023-02-28T06:54:07.789Z"
   },
   {
    "duration": 164,
    "start_time": "2023-02-28T06:54:20.867Z"
   },
   {
    "duration": 237,
    "start_time": "2023-02-28T06:54:23.893Z"
   },
   {
    "duration": 228,
    "start_time": "2023-02-28T06:55:10.486Z"
   },
   {
    "duration": 9,
    "start_time": "2023-02-28T07:13:05.053Z"
   },
   {
    "duration": 230,
    "start_time": "2023-02-28T07:13:19.580Z"
   },
   {
    "duration": 464,
    "start_time": "2023-02-28T07:13:26.252Z"
   },
   {
    "duration": 263,
    "start_time": "2023-02-28T07:13:31.876Z"
   },
   {
    "duration": 225,
    "start_time": "2023-02-28T07:13:43.828Z"
   },
   {
    "duration": 219,
    "start_time": "2023-02-28T07:13:48.348Z"
   },
   {
    "duration": 244,
    "start_time": "2023-02-28T07:13:52.908Z"
   },
   {
    "duration": 226,
    "start_time": "2023-02-28T07:13:55.436Z"
   },
   {
    "duration": 216,
    "start_time": "2023-02-28T07:13:59.492Z"
   },
   {
    "duration": 365,
    "start_time": "2023-02-28T07:14:07.060Z"
   },
   {
    "duration": 219,
    "start_time": "2023-02-28T07:14:10.619Z"
   },
   {
    "duration": 216,
    "start_time": "2023-02-28T07:14:13.851Z"
   },
   {
    "duration": 222,
    "start_time": "2023-02-28T07:14:40.748Z"
   },
   {
    "duration": 241,
    "start_time": "2023-02-28T07:14:43.531Z"
   },
   {
    "duration": 236,
    "start_time": "2023-02-28T07:14:46.218Z"
   },
   {
    "duration": 321,
    "start_time": "2023-02-28T07:15:26.556Z"
   },
   {
    "duration": 516,
    "start_time": "2023-02-28T07:15:32.699Z"
   },
   {
    "duration": 227,
    "start_time": "2023-02-28T07:15:37.657Z"
   },
   {
    "duration": 152,
    "start_time": "2023-02-28T07:16:10.323Z"
   },
   {
    "duration": 167,
    "start_time": "2023-02-28T07:16:13.371Z"
   },
   {
    "duration": 160,
    "start_time": "2023-02-28T07:16:21.254Z"
   },
   {
    "duration": 176,
    "start_time": "2023-02-28T07:16:24.354Z"
   },
   {
    "duration": 314,
    "start_time": "2023-02-28T07:16:26.754Z"
   },
   {
    "duration": 181,
    "start_time": "2023-02-28T07:16:33.922Z"
   },
   {
    "duration": 267,
    "start_time": "2023-02-28T07:16:36.187Z"
   },
   {
    "duration": 10,
    "start_time": "2023-02-28T08:15:05.099Z"
   },
   {
    "duration": 440,
    "start_time": "2023-02-28T08:15:06.716Z"
   },
   {
    "duration": 222,
    "start_time": "2023-02-28T08:15:07.362Z"
   },
   {
    "duration": 248,
    "start_time": "2023-02-28T08:15:18.267Z"
   },
   {
    "duration": 240,
    "start_time": "2023-02-28T08:15:20.354Z"
   },
   {
    "duration": 242,
    "start_time": "2023-02-28T08:15:23.075Z"
   },
   {
    "duration": 260,
    "start_time": "2023-02-28T08:15:27.507Z"
   },
   {
    "duration": 195,
    "start_time": "2023-02-28T08:15:35.083Z"
   },
   {
    "duration": 306,
    "start_time": "2023-02-28T08:15:38.147Z"
   },
   {
    "duration": 158,
    "start_time": "2023-02-28T08:15:43.899Z"
   },
   {
    "duration": 155,
    "start_time": "2023-02-28T08:15:48.483Z"
   },
   {
    "duration": 157,
    "start_time": "2023-02-28T08:15:53.083Z"
   },
   {
    "duration": 143,
    "start_time": "2023-02-28T08:15:57.627Z"
   },
   {
    "duration": 121,
    "start_time": "2023-02-28T08:16:03.570Z"
   },
   {
    "duration": 138,
    "start_time": "2023-02-28T08:16:06.051Z"
   },
   {
    "duration": 148,
    "start_time": "2023-02-28T08:16:19.466Z"
   },
   {
    "duration": 142,
    "start_time": "2023-02-28T08:17:36.354Z"
   },
   {
    "duration": 123,
    "start_time": "2023-02-28T08:17:38.940Z"
   },
   {
    "duration": 140,
    "start_time": "2023-02-28T08:17:44.713Z"
   },
   {
    "duration": 159,
    "start_time": "2023-02-28T08:17:52.951Z"
   },
   {
    "duration": 9,
    "start_time": "2023-02-28T08:18:28.249Z"
   },
   {
    "duration": 165,
    "start_time": "2023-02-28T08:18:30.217Z"
   },
   {
    "duration": 142,
    "start_time": "2023-02-28T08:18:39.441Z"
   },
   {
    "duration": 133,
    "start_time": "2023-02-28T08:18:43.257Z"
   },
   {
    "duration": 142,
    "start_time": "2023-02-28T08:18:45.217Z"
   },
   {
    "duration": 135,
    "start_time": "2023-02-28T08:19:02.001Z"
   },
   {
    "duration": 187,
    "start_time": "2023-02-28T08:19:11.497Z"
   },
   {
    "duration": 140,
    "start_time": "2023-02-28T08:19:15.385Z"
   },
   {
    "duration": 313,
    "start_time": "2023-02-28T08:19:17.645Z"
   },
   {
    "duration": 129,
    "start_time": "2023-02-28T08:19:19.451Z"
   },
   {
    "duration": 138,
    "start_time": "2023-02-28T08:19:39.512Z"
   },
   {
    "duration": 173,
    "start_time": "2023-02-28T08:20:11.209Z"
   },
   {
    "duration": 154,
    "start_time": "2023-02-28T08:20:16.152Z"
   },
   {
    "duration": 136,
    "start_time": "2023-02-28T08:20:21.168Z"
   },
   {
    "duration": 124,
    "start_time": "2023-02-28T08:34:33.834Z"
   },
   {
    "duration": 8,
    "start_time": "2023-02-28T08:34:35.227Z"
   },
   {
    "duration": 143,
    "start_time": "2023-02-28T08:34:44.994Z"
   },
   {
    "duration": 138,
    "start_time": "2023-02-28T08:34:50.426Z"
   },
   {
    "duration": 174,
    "start_time": "2023-02-28T08:34:53.522Z"
   },
   {
    "duration": 229,
    "start_time": "2023-02-28T08:35:00.514Z"
   },
   {
    "duration": 130,
    "start_time": "2023-02-28T08:35:04.177Z"
   },
   {
    "duration": 135,
    "start_time": "2023-02-28T08:36:20.073Z"
   },
   {
    "duration": 40,
    "start_time": "2023-02-28T08:37:49.321Z"
   },
   {
    "duration": 16,
    "start_time": "2023-02-28T08:38:04.961Z"
   },
   {
    "duration": 1860,
    "start_time": "2023-02-28T08:38:22.024Z"
   },
   {
    "duration": 0,
    "start_time": "2023-02-28T08:38:23.885Z"
   },
   {
    "duration": 111,
    "start_time": "2023-02-28T08:38:33.359Z"
   },
   {
    "duration": 10,
    "start_time": "2023-02-28T08:38:35.792Z"
   },
   {
    "duration": 139,
    "start_time": "2023-02-28T08:38:46.616Z"
   },
   {
    "duration": 115,
    "start_time": "2023-02-28T08:38:51.576Z"
   },
   {
    "duration": 108,
    "start_time": "2023-02-28T08:38:55.680Z"
   },
   {
    "duration": 294,
    "start_time": "2023-02-28T08:39:36.400Z"
   },
   {
    "duration": 223,
    "start_time": "2023-02-28T08:39:42.096Z"
   },
   {
    "duration": 103,
    "start_time": "2023-02-28T08:40:17.192Z"
   },
   {
    "duration": 104,
    "start_time": "2023-02-28T08:40:22.536Z"
   },
   {
    "duration": 110,
    "start_time": "2023-02-28T08:40:27.439Z"
   },
   {
    "duration": 107,
    "start_time": "2023-02-28T08:40:30.927Z"
   },
   {
    "duration": 94,
    "start_time": "2023-02-28T08:40:39.912Z"
   },
   {
    "duration": 121,
    "start_time": "2023-02-28T08:40:42.703Z"
   },
   {
    "duration": 114,
    "start_time": "2023-02-28T08:40:45.264Z"
   },
   {
    "duration": 118,
    "start_time": "2023-02-28T08:41:04.583Z"
   },
   {
    "duration": 110,
    "start_time": "2023-02-28T08:41:11.918Z"
   },
   {
    "duration": 9,
    "start_time": "2023-02-28T08:49:25.468Z"
   },
   {
    "duration": 123,
    "start_time": "2023-02-28T08:49:27.251Z"
   },
   {
    "duration": 156,
    "start_time": "2023-02-28T08:49:36.619Z"
   },
   {
    "duration": 147,
    "start_time": "2023-02-28T08:49:44.691Z"
   },
   {
    "duration": 145,
    "start_time": "2023-02-28T08:49:49.531Z"
   },
   {
    "duration": 154,
    "start_time": "2023-02-28T08:49:53.547Z"
   },
   {
    "duration": 145,
    "start_time": "2023-02-28T08:50:14.515Z"
   },
   {
    "duration": 8,
    "start_time": "2023-02-28T08:54:02.257Z"
   },
   {
    "duration": 179,
    "start_time": "2023-02-28T08:54:04.608Z"
   },
   {
    "duration": 10,
    "start_time": "2023-02-28T08:54:51.840Z"
   },
   {
    "duration": 134,
    "start_time": "2023-02-28T08:54:53.857Z"
   },
   {
    "duration": 141,
    "start_time": "2023-02-28T09:03:02.957Z"
   },
   {
    "duration": 326,
    "start_time": "2023-02-28T09:03:07.876Z"
   },
   {
    "duration": 186,
    "start_time": "2023-02-28T09:03:11.300Z"
   },
   {
    "duration": 151,
    "start_time": "2023-02-28T09:03:14.980Z"
   },
   {
    "duration": 146,
    "start_time": "2023-02-28T09:03:25.277Z"
   },
   {
    "duration": 168,
    "start_time": "2023-02-28T09:10:45.076Z"
   },
   {
    "duration": 10,
    "start_time": "2023-02-28T09:10:46.440Z"
   },
   {
    "duration": 133,
    "start_time": "2023-02-28T09:10:55.122Z"
   },
   {
    "duration": 158,
    "start_time": "2023-02-28T09:10:58.481Z"
   },
   {
    "duration": 189,
    "start_time": "2023-02-28T09:11:00.952Z"
   },
   {
    "duration": 222,
    "start_time": "2023-02-28T09:11:04.264Z"
   },
   {
    "duration": 233,
    "start_time": "2023-02-28T09:11:11.777Z"
   },
   {
    "duration": 243,
    "start_time": "2023-02-28T09:11:14.944Z"
   },
   {
    "duration": 415,
    "start_time": "2023-02-28T09:11:20.777Z"
   },
   {
    "duration": 150,
    "start_time": "2023-02-28T09:11:23.768Z"
   },
   {
    "duration": 8,
    "start_time": "2023-02-28T09:12:31.736Z"
   },
   {
    "duration": 228,
    "start_time": "2023-02-28T09:12:33.800Z"
   },
   {
    "duration": 216,
    "start_time": "2023-02-28T09:12:39.463Z"
   },
   {
    "duration": 9,
    "start_time": "2023-02-28T09:13:20.200Z"
   },
   {
    "duration": 217,
    "start_time": "2023-02-28T09:13:21.752Z"
   },
   {
    "duration": 240,
    "start_time": "2023-02-28T09:13:26.448Z"
   },
   {
    "duration": 127,
    "start_time": "2023-02-28T09:13:29.095Z"
   },
   {
    "duration": 130,
    "start_time": "2023-02-28T09:13:31.560Z"
   },
   {
    "duration": 124,
    "start_time": "2023-02-28T09:14:21.919Z"
   },
   {
    "duration": 11,
    "start_time": "2023-02-28T09:14:23.167Z"
   },
   {
    "duration": 8,
    "start_time": "2023-02-28T09:14:25.607Z"
   },
   {
    "duration": 312,
    "start_time": "2023-02-28T09:14:29.000Z"
   },
   {
    "duration": 147,
    "start_time": "2023-02-28T09:14:32.007Z"
   },
   {
    "duration": 252,
    "start_time": "2023-02-28T09:43:08.579Z"
   },
   {
    "duration": 173,
    "start_time": "2023-02-28T09:43:13.243Z"
   },
   {
    "duration": 285,
    "start_time": "2023-02-28T09:43:17.203Z"
   },
   {
    "duration": 217,
    "start_time": "2023-02-28T09:43:23.691Z"
   },
   {
    "duration": 252,
    "start_time": "2023-02-28T09:43:28.139Z"
   },
   {
    "duration": 178,
    "start_time": "2023-02-28T09:46:35.321Z"
   },
   {
    "duration": 174,
    "start_time": "2023-02-28T09:46:37.753Z"
   },
   {
    "duration": 347,
    "start_time": "2023-02-28T09:46:43.617Z"
   },
   {
    "duration": 243,
    "start_time": "2023-02-28T09:46:53.714Z"
   },
   {
    "duration": 93,
    "start_time": "2023-02-28T10:02:50.865Z"
   },
   {
    "duration": 75,
    "start_time": "2023-02-28T10:04:38.929Z"
   },
   {
    "duration": 166,
    "start_time": "2023-02-28T10:11:48.772Z"
   },
   {
    "duration": 237,
    "start_time": "2023-02-28T10:11:53.277Z"
   },
   {
    "duration": 241,
    "start_time": "2023-02-28T10:12:02.373Z"
   },
   {
    "duration": 255,
    "start_time": "2023-02-28T10:12:32.637Z"
   },
   {
    "duration": 519,
    "start_time": "2023-02-28T10:12:37.397Z"
   },
   {
    "duration": 238,
    "start_time": "2023-02-28T10:12:41.348Z"
   },
   {
    "duration": 224,
    "start_time": "2023-02-28T10:13:33.196Z"
   },
   {
    "duration": 229,
    "start_time": "2023-02-28T10:17:36.346Z"
   },
   {
    "duration": 228,
    "start_time": "2023-02-28T10:17:38.930Z"
   },
   {
    "duration": 3171,
    "start_time": "2023-02-28T14:10:31.229Z"
   },
   {
    "duration": 25,
    "start_time": "2023-02-28T14:10:34.403Z"
   },
   {
    "duration": 31,
    "start_time": "2023-02-28T14:10:34.429Z"
   },
   {
    "duration": 26,
    "start_time": "2023-02-28T14:10:34.462Z"
   },
   {
    "duration": 13,
    "start_time": "2023-02-28T14:10:34.490Z"
   },
   {
    "duration": 9,
    "start_time": "2023-02-28T14:10:34.505Z"
   },
   {
    "duration": 47,
    "start_time": "2023-02-28T14:10:34.516Z"
   },
   {
    "duration": 11,
    "start_time": "2023-02-28T14:10:34.564Z"
   },
   {
    "duration": 9,
    "start_time": "2023-02-28T14:10:34.577Z"
   },
   {
    "duration": 6,
    "start_time": "2023-02-28T14:10:34.588Z"
   },
   {
    "duration": 68,
    "start_time": "2023-02-28T14:10:34.596Z"
   },
   {
    "duration": 22,
    "start_time": "2023-02-28T14:10:34.665Z"
   },
   {
    "duration": 49,
    "start_time": "2023-02-28T14:10:34.874Z"
   },
   {
    "duration": 43,
    "start_time": "2023-02-28T14:10:35.181Z"
   },
   {
    "duration": 397,
    "start_time": "2023-02-28T14:10:35.789Z"
   },
   {
    "duration": 44,
    "start_time": "2023-02-28T14:10:36.188Z"
   },
   {
    "duration": 10,
    "start_time": "2023-02-28T14:10:37.037Z"
   },
   {
    "duration": 248,
    "start_time": "2023-02-28T14:10:37.362Z"
   },
   {
    "duration": 13,
    "start_time": "2023-02-28T14:10:37.925Z"
   },
   {
    "duration": 317,
    "start_time": "2023-02-28T14:10:38.173Z"
   },
   {
    "duration": 10,
    "start_time": "2023-02-28T14:10:38.671Z"
   },
   {
    "duration": 254,
    "start_time": "2023-02-28T14:10:38.893Z"
   },
   {
    "duration": 11,
    "start_time": "2023-02-28T14:10:39.325Z"
   },
   {
    "duration": 232,
    "start_time": "2023-02-28T14:10:39.565Z"
   },
   {
    "duration": 10,
    "start_time": "2023-02-28T14:10:40.108Z"
   },
   {
    "duration": 163,
    "start_time": "2023-02-28T14:10:40.301Z"
   },
   {
    "duration": 11,
    "start_time": "2023-02-28T14:10:40.508Z"
   },
   {
    "duration": 155,
    "start_time": "2023-02-28T14:10:40.708Z"
   },
   {
    "duration": 8,
    "start_time": "2023-02-28T14:10:40.901Z"
   },
   {
    "duration": 132,
    "start_time": "2023-02-28T14:10:41.109Z"
   },
   {
    "duration": 10,
    "start_time": "2023-02-28T14:10:41.319Z"
   },
   {
    "duration": 134,
    "start_time": "2023-02-28T14:10:41.541Z"
   },
   {
    "duration": 16,
    "start_time": "2023-02-28T14:10:41.740Z"
   },
   {
    "duration": 8,
    "start_time": "2023-02-28T14:10:41.941Z"
   },
   {
    "duration": 163,
    "start_time": "2023-02-28T14:10:42.182Z"
   },
   {
    "duration": 10,
    "start_time": "2023-02-28T14:10:42.381Z"
   },
   {
    "duration": 359,
    "start_time": "2023-02-28T14:10:42.612Z"
   },
   {
    "duration": 9,
    "start_time": "2023-02-28T14:10:42.974Z"
   },
   {
    "duration": 232,
    "start_time": "2023-02-28T14:10:43.029Z"
   },
   {
    "duration": 16,
    "start_time": "2023-02-28T14:10:43.263Z"
   },
   {
    "duration": 245,
    "start_time": "2023-02-28T14:10:43.485Z"
   },
   {
    "duration": 8,
    "start_time": "2023-02-28T14:10:43.732Z"
   },
   {
    "duration": 138,
    "start_time": "2023-02-28T14:10:43.917Z"
   },
   {
    "duration": 10,
    "start_time": "2023-02-28T14:10:44.174Z"
   },
   {
    "duration": 158,
    "start_time": "2023-02-28T14:10:44.388Z"
   },
   {
    "duration": 244,
    "start_time": "2023-02-28T14:10:54.572Z"
   },
   {
    "duration": 250,
    "start_time": "2023-02-28T14:10:58.972Z"
   },
   {
    "duration": 349,
    "start_time": "2023-02-28T14:11:05.013Z"
   },
   {
    "duration": 254,
    "start_time": "2023-02-28T14:11:08.265Z"
   },
   {
    "duration": 257,
    "start_time": "2023-02-28T14:11:12.398Z"
   },
   {
    "duration": 240,
    "start_time": "2023-02-28T14:11:25.300Z"
   },
   {
    "duration": 234,
    "start_time": "2023-02-28T14:11:34.093Z"
   },
   {
    "duration": 400,
    "start_time": "2023-02-28T14:11:37.162Z"
   },
   {
    "duration": 238,
    "start_time": "2023-02-28T14:11:39.716Z"
   },
   {
    "duration": 115,
    "start_time": "2023-02-28T14:15:16.811Z"
   },
   {
    "duration": 250,
    "start_time": "2023-02-28T14:17:07.060Z"
   },
   {
    "duration": 185,
    "start_time": "2023-02-28T14:17:09.969Z"
   },
   {
    "duration": 164,
    "start_time": "2023-02-28T14:17:13.580Z"
   },
   {
    "duration": 193,
    "start_time": "2023-02-28T14:17:15.937Z"
   },
   {
    "duration": 181,
    "start_time": "2023-02-28T14:17:18.067Z"
   },
   {
    "duration": 169,
    "start_time": "2023-02-28T14:17:20.042Z"
   },
   {
    "duration": 89,
    "start_time": "2023-02-28T14:18:04.625Z"
   },
   {
    "duration": 103,
    "start_time": "2023-02-28T14:18:22.757Z"
   },
   {
    "duration": 349,
    "start_time": "2023-02-28T14:22:44.927Z"
   },
   {
    "duration": 182,
    "start_time": "2023-02-28T14:22:49.431Z"
   },
   {
    "duration": 117,
    "start_time": "2023-02-28T14:25:32.016Z"
   },
   {
    "duration": 1686,
    "start_time": "2023-02-28T14:45:36.279Z"
   },
   {
    "duration": 272,
    "start_time": "2023-02-28T14:45:42.063Z"
   },
   {
    "duration": 278,
    "start_time": "2023-02-28T14:45:59.299Z"
   },
   {
    "duration": 262,
    "start_time": "2023-02-28T14:46:02.459Z"
   },
   {
    "duration": 457,
    "start_time": "2023-02-28T14:46:06.394Z"
   },
   {
    "duration": 254,
    "start_time": "2023-02-28T14:46:11.933Z"
   },
   {
    "duration": 138,
    "start_time": "2023-02-28T16:02:13.293Z"
   },
   {
    "duration": 98,
    "start_time": "2023-02-28T16:08:59.322Z"
   },
   {
    "duration": 100,
    "start_time": "2023-02-28T16:16:44.399Z"
   },
   {
    "duration": 11,
    "start_time": "2023-02-28T16:16:56.230Z"
   },
   {
    "duration": 249,
    "start_time": "2023-02-28T16:16:56.422Z"
   },
   {
    "duration": 11,
    "start_time": "2023-02-28T16:16:56.775Z"
   },
   {
    "duration": 271,
    "start_time": "2023-02-28T16:16:56.958Z"
   },
   {
    "duration": 9,
    "start_time": "2023-02-28T16:16:57.367Z"
   },
   {
    "duration": 171,
    "start_time": "2023-02-28T16:16:57.551Z"
   },
   {
    "duration": 10,
    "start_time": "2023-02-28T16:16:57.935Z"
   },
   {
    "duration": 148,
    "start_time": "2023-02-28T16:16:58.166Z"
   },
   {
    "duration": 152,
    "start_time": "2023-02-28T16:17:31.750Z"
   },
   {
    "duration": 154,
    "start_time": "2023-02-28T16:17:58.038Z"
   },
   {
    "duration": 72,
    "start_time": "2023-02-28T16:18:21.454Z"
   },
   {
    "duration": 9,
    "start_time": "2023-02-28T16:18:25.950Z"
   },
   {
    "duration": 276,
    "start_time": "2023-02-28T16:18:31.430Z"
   },
   {
    "duration": 164,
    "start_time": "2023-02-28T16:18:39.662Z"
   },
   {
    "duration": 240,
    "start_time": "2023-02-28T16:18:43.108Z"
   },
   {
    "duration": 223,
    "start_time": "2023-02-28T16:18:48.038Z"
   },
   {
    "duration": 237,
    "start_time": "2023-02-28T16:18:54.765Z"
   },
   {
    "duration": 108,
    "start_time": "2023-02-28T16:21:47.724Z"
   },
   {
    "duration": 223,
    "start_time": "2023-02-28T16:24:14.612Z"
   },
   {
    "duration": 180,
    "start_time": "2023-02-28T16:24:20.291Z"
   },
   {
    "duration": 346,
    "start_time": "2023-02-28T16:24:23.732Z"
   },
   {
    "duration": 251,
    "start_time": "2023-02-28T16:24:27.723Z"
   },
   {
    "duration": 301,
    "start_time": "2023-02-28T16:24:37.619Z"
   },
   {
    "duration": 269,
    "start_time": "2023-02-28T16:24:42.532Z"
   },
   {
    "duration": 292,
    "start_time": "2023-02-28T16:26:09.235Z"
   },
   {
    "duration": 353,
    "start_time": "2023-02-28T16:26:21.722Z"
   },
   {
    "duration": 269,
    "start_time": "2023-02-28T16:26:25.683Z"
   },
   {
    "duration": 249,
    "start_time": "2023-02-28T16:26:38.754Z"
   },
   {
    "duration": 8,
    "start_time": "2023-02-28T16:44:16.700Z"
   },
   {
    "duration": 136,
    "start_time": "2023-02-28T16:44:22.012Z"
   },
   {
    "duration": 16,
    "start_time": "2023-02-28T16:44:29.508Z"
   },
   {
    "duration": 140,
    "start_time": "2023-02-28T16:44:38.785Z"
   },
   {
    "duration": 16,
    "start_time": "2023-02-28T16:44:59.948Z"
   },
   {
    "duration": 19,
    "start_time": "2023-02-28T16:45:00.756Z"
   },
   {
    "duration": 149,
    "start_time": "2023-02-28T16:45:04.052Z"
   },
   {
    "duration": 8,
    "start_time": "2023-02-28T19:00:27.558Z"
   },
   {
    "duration": 13,
    "start_time": "2023-02-28T19:00:32.213Z"
   },
   {
    "duration": 13,
    "start_time": "2023-02-28T19:00:37.101Z"
   },
   {
    "duration": 14,
    "start_time": "2023-02-28T19:02:52.069Z"
   },
   {
    "duration": 15,
    "start_time": "2023-02-28T19:03:00.340Z"
   },
   {
    "duration": 15,
    "start_time": "2023-02-28T19:03:06.372Z"
   },
   {
    "duration": 15,
    "start_time": "2023-02-28T19:03:44.557Z"
   },
   {
    "duration": 109,
    "start_time": "2023-02-28T19:03:57.664Z"
   },
   {
    "duration": 14,
    "start_time": "2023-02-28T19:04:03.027Z"
   },
   {
    "duration": 153,
    "start_time": "2023-02-28T19:05:10.500Z"
   },
   {
    "duration": 12,
    "start_time": "2023-02-28T19:12:30.841Z"
   },
   {
    "duration": 12,
    "start_time": "2023-02-28T19:12:36.265Z"
   },
   {
    "duration": 10,
    "start_time": "2023-02-28T19:12:51.889Z"
   },
   {
    "duration": 15,
    "start_time": "2023-02-28T19:13:18.753Z"
   },
   {
    "duration": 24,
    "start_time": "2023-02-28T19:13:26.433Z"
   },
   {
    "duration": 21,
    "start_time": "2023-02-28T19:14:13.784Z"
   },
   {
    "duration": 309,
    "start_time": "2023-02-28T19:14:32.464Z"
   },
   {
    "duration": 169,
    "start_time": "2023-02-28T19:14:46.632Z"
   },
   {
    "duration": 24,
    "start_time": "2023-02-28T19:14:50.016Z"
   },
   {
    "duration": 19,
    "start_time": "2023-02-28T19:14:57.849Z"
   },
   {
    "duration": 259,
    "start_time": "2023-02-28T19:15:06.235Z"
   },
   {
    "duration": 23,
    "start_time": "2023-02-28T19:15:09.608Z"
   },
   {
    "duration": 22,
    "start_time": "2023-02-28T19:15:23.425Z"
   },
   {
    "duration": 22,
    "start_time": "2023-02-28T19:15:30.080Z"
   },
   {
    "duration": 0,
    "start_time": "2023-02-28T19:18:03.624Z"
   },
   {
    "duration": 2984,
    "start_time": "2023-02-28T19:18:20.436Z"
   },
   {
    "duration": 34,
    "start_time": "2023-02-28T19:18:23.424Z"
   },
   {
    "duration": 13,
    "start_time": "2023-02-28T19:18:23.459Z"
   },
   {
    "duration": 37,
    "start_time": "2023-02-28T19:18:23.475Z"
   },
   {
    "duration": 49,
    "start_time": "2023-02-28T19:18:23.513Z"
   },
   {
    "duration": 9,
    "start_time": "2023-02-28T19:18:23.564Z"
   },
   {
    "duration": 9,
    "start_time": "2023-02-28T19:18:23.576Z"
   },
   {
    "duration": 19,
    "start_time": "2023-02-28T19:18:23.587Z"
   },
   {
    "duration": 8,
    "start_time": "2023-02-28T19:18:23.608Z"
   },
   {
    "duration": 8,
    "start_time": "2023-02-28T19:18:23.660Z"
   },
   {
    "duration": 40,
    "start_time": "2023-02-28T19:18:23.670Z"
   },
   {
    "duration": 59,
    "start_time": "2023-02-28T19:18:23.712Z"
   },
   {
    "duration": 86,
    "start_time": "2023-02-28T19:18:23.773Z"
   },
   {
    "duration": 66,
    "start_time": "2023-02-28T19:18:23.861Z"
   },
   {
    "duration": 499,
    "start_time": "2023-02-28T19:18:23.929Z"
   },
   {
    "duration": 71,
    "start_time": "2023-02-28T19:18:24.429Z"
   },
   {
    "duration": 13,
    "start_time": "2023-02-28T19:18:24.502Z"
   },
   {
    "duration": 270,
    "start_time": "2023-02-28T19:18:24.517Z"
   },
   {
    "duration": 15,
    "start_time": "2023-02-28T19:18:24.788Z"
   },
   {
    "duration": 348,
    "start_time": "2023-02-28T19:18:24.805Z"
   },
   {
    "duration": 14,
    "start_time": "2023-02-28T19:18:25.155Z"
   },
   {
    "duration": 344,
    "start_time": "2023-02-28T19:18:25.172Z"
   },
   {
    "duration": 13,
    "start_time": "2023-02-28T19:18:25.519Z"
   },
   {
    "duration": 306,
    "start_time": "2023-02-28T19:18:25.535Z"
   },
   {
    "duration": 20,
    "start_time": "2023-02-28T19:18:25.843Z"
   },
   {
    "duration": 256,
    "start_time": "2023-02-28T19:18:25.865Z"
   },
   {
    "duration": 12,
    "start_time": "2023-02-28T19:18:26.123Z"
   },
   {
    "duration": 275,
    "start_time": "2023-02-28T19:18:26.140Z"
   },
   {
    "duration": 10,
    "start_time": "2023-02-28T19:18:26.417Z"
   },
   {
    "duration": 239,
    "start_time": "2023-02-28T19:18:26.430Z"
   },
   {
    "duration": 13,
    "start_time": "2023-02-28T19:18:26.671Z"
   },
   {
    "duration": 155,
    "start_time": "2023-02-28T19:18:26.686Z"
   },
   {
    "duration": 26,
    "start_time": "2023-02-28T19:18:26.842Z"
   },
   {
    "duration": 207,
    "start_time": "2023-02-28T19:18:26.870Z"
   },
   {
    "duration": 12,
    "start_time": "2023-02-28T19:18:27.078Z"
   },
   {
    "duration": 504,
    "start_time": "2023-02-28T19:18:27.092Z"
   },
   {
    "duration": 12,
    "start_time": "2023-02-28T19:18:27.598Z"
   },
   {
    "duration": 359,
    "start_time": "2023-02-28T19:18:27.613Z"
   },
   {
    "duration": 10,
    "start_time": "2023-02-28T19:18:27.975Z"
   },
   {
    "duration": 272,
    "start_time": "2023-02-28T19:18:27.988Z"
   },
   {
    "duration": 9,
    "start_time": "2023-02-28T19:18:28.262Z"
   },
   {
    "duration": 201,
    "start_time": "2023-02-28T19:18:28.273Z"
   },
   {
    "duration": 12,
    "start_time": "2023-02-28T19:18:28.476Z"
   },
   {
    "duration": 205,
    "start_time": "2023-02-28T19:18:28.490Z"
   },
   {
    "duration": 12,
    "start_time": "2023-02-28T19:18:28.697Z"
   },
   {
    "duration": 311,
    "start_time": "2023-02-28T19:18:28.711Z"
   },
   {
    "duration": 154,
    "start_time": "2023-02-28T19:18:29.024Z"
   },
   {
    "duration": 14,
    "start_time": "2023-02-28T19:18:29.180Z"
   },
   {
    "duration": 157,
    "start_time": "2023-02-28T19:19:08.254Z"
   },
   {
    "duration": 13,
    "start_time": "2023-02-28T19:19:10.455Z"
   },
   {
    "duration": 0,
    "start_time": "2023-02-28T19:19:41.482Z"
   },
   {
    "duration": 0,
    "start_time": "2023-02-28T19:19:41.484Z"
   },
   {
    "duration": 0,
    "start_time": "2023-02-28T19:19:41.485Z"
   },
   {
    "duration": 0,
    "start_time": "2023-02-28T19:19:41.487Z"
   },
   {
    "duration": 0,
    "start_time": "2023-02-28T19:19:41.488Z"
   },
   {
    "duration": 0,
    "start_time": "2023-02-28T19:19:41.488Z"
   },
   {
    "duration": 0,
    "start_time": "2023-02-28T19:19:41.493Z"
   },
   {
    "duration": 0,
    "start_time": "2023-02-28T19:19:41.496Z"
   },
   {
    "duration": 0,
    "start_time": "2023-02-28T19:19:41.500Z"
   },
   {
    "duration": 0,
    "start_time": "2023-02-28T19:19:41.501Z"
   },
   {
    "duration": 0,
    "start_time": "2023-02-28T19:19:41.502Z"
   },
   {
    "duration": 0,
    "start_time": "2023-02-28T19:19:41.503Z"
   },
   {
    "duration": 0,
    "start_time": "2023-02-28T19:19:41.505Z"
   },
   {
    "duration": 0,
    "start_time": "2023-02-28T19:19:41.506Z"
   },
   {
    "duration": 0,
    "start_time": "2023-02-28T19:19:41.559Z"
   },
   {
    "duration": 0,
    "start_time": "2023-02-28T19:19:41.560Z"
   },
   {
    "duration": 12,
    "start_time": "2023-02-28T19:19:42.255Z"
   },
   {
    "duration": 151,
    "start_time": "2023-02-28T19:19:43.869Z"
   },
   {
    "duration": 29414,
    "start_time": "2023-02-28T19:19:45.727Z"
   },
   {
    "duration": 0,
    "start_time": "2023-02-28T19:20:15.143Z"
   },
   {
    "duration": 0,
    "start_time": "2023-02-28T19:20:15.144Z"
   },
   {
    "duration": 0,
    "start_time": "2023-02-28T19:20:15.146Z"
   },
   {
    "duration": 23,
    "start_time": "2023-02-28T19:21:18.853Z"
   },
   {
    "duration": 138,
    "start_time": "2023-02-28T19:21:28.614Z"
   },
   {
    "duration": 143,
    "start_time": "2023-02-28T19:22:20.525Z"
   },
   {
    "duration": 176,
    "start_time": "2023-02-28T19:22:31.790Z"
   },
   {
    "duration": 211,
    "start_time": "2023-02-28T19:23:02.265Z"
   },
   {
    "duration": 108,
    "start_time": "2023-02-28T19:23:09.884Z"
   },
   {
    "duration": 181,
    "start_time": "2023-02-28T19:23:13.685Z"
   },
   {
    "duration": 175,
    "start_time": "2023-02-28T19:23:20.157Z"
   },
   {
    "duration": 191,
    "start_time": "2023-02-28T19:23:39.005Z"
   },
   {
    "duration": 212,
    "start_time": "2023-02-28T19:23:45.414Z"
   },
   {
    "duration": 178,
    "start_time": "2023-02-28T19:23:51.269Z"
   },
   {
    "duration": 13,
    "start_time": "2023-02-28T19:24:54.111Z"
   },
   {
    "duration": 30155,
    "start_time": "2023-02-28T19:25:00.412Z"
   },
   {
    "duration": 13,
    "start_time": "2023-02-28T21:09:11.972Z"
   },
   {
    "duration": 8,
    "start_time": "2023-02-28T21:09:25.786Z"
   },
   {
    "duration": 7,
    "start_time": "2023-02-28T21:09:29.195Z"
   },
   {
    "duration": 5,
    "start_time": "2023-02-28T21:09:44.467Z"
   },
   {
    "duration": 5,
    "start_time": "2023-02-28T21:10:06.000Z"
   },
   {
    "duration": 5,
    "start_time": "2023-02-28T21:10:07.283Z"
   },
   {
    "duration": 119,
    "start_time": "2023-02-28T21:20:37.253Z"
   },
   {
    "duration": 5,
    "start_time": "2023-02-28T21:36:42.975Z"
   },
   {
    "duration": 157,
    "start_time": "2023-02-28T21:37:17.254Z"
   },
   {
    "duration": 108,
    "start_time": "2023-02-28T21:38:33.357Z"
   },
   {
    "duration": 5,
    "start_time": "2023-02-28T21:38:52.998Z"
   },
   {
    "duration": 0,
    "start_time": "2023-02-28T21:39:28.959Z"
   },
   {
    "duration": 6,
    "start_time": "2023-02-28T21:39:33.076Z"
   },
   {
    "duration": 1630,
    "start_time": "2023-02-28T21:39:34.876Z"
   },
   {
    "duration": 6,
    "start_time": "2023-02-28T21:39:37.861Z"
   },
   {
    "duration": 5,
    "start_time": "2023-02-28T21:41:22.108Z"
   },
   {
    "duration": 12,
    "start_time": "2023-02-28T21:41:36.316Z"
   },
   {
    "duration": 11,
    "start_time": "2023-02-28T21:45:23.346Z"
   },
   {
    "duration": 4,
    "start_time": "2023-02-28T21:46:43.362Z"
   },
   {
    "duration": 11,
    "start_time": "2023-02-28T21:47:09.482Z"
   },
   {
    "duration": 10,
    "start_time": "2023-02-28T21:48:19.162Z"
   },
   {
    "duration": 5710,
    "start_time": "2023-02-28T21:48:24.974Z"
   },
   {
    "duration": 29070,
    "start_time": "2023-02-28T21:49:15.577Z"
   },
   {
    "duration": 12,
    "start_time": "2023-02-28T21:51:22.584Z"
   },
   {
    "duration": 68,
    "start_time": "2023-02-28T21:51:36.952Z"
   },
   {
    "duration": 18,
    "start_time": "2023-02-28T22:48:49.888Z"
   },
   {
    "duration": 13,
    "start_time": "2023-02-28T22:48:58.744Z"
   },
   {
    "duration": 24,
    "start_time": "2023-02-28T22:51:11.547Z"
   },
   {
    "duration": 23,
    "start_time": "2023-02-28T22:51:25.598Z"
   },
   {
    "duration": 20,
    "start_time": "2023-02-28T22:51:28.085Z"
   },
   {
    "duration": 19,
    "start_time": "2023-02-28T22:51:32.702Z"
   },
   {
    "duration": 22,
    "start_time": "2023-02-28T22:51:42.117Z"
   },
   {
    "duration": 9,
    "start_time": "2023-02-28T22:55:42.337Z"
   },
   {
    "duration": 34,
    "start_time": "2023-02-28T23:03:08.491Z"
   },
   {
    "duration": 15,
    "start_time": "2023-02-28T23:03:20.043Z"
   },
   {
    "duration": 18,
    "start_time": "2023-02-28T23:03:51.538Z"
   },
   {
    "duration": 132,
    "start_time": "2023-02-28T23:09:02.454Z"
   },
   {
    "duration": 102,
    "start_time": "2023-02-28T23:10:40.891Z"
   },
   {
    "duration": 32,
    "start_time": "2023-02-28T23:10:56.450Z"
   },
   {
    "duration": 233,
    "start_time": "2023-02-28T23:11:29.786Z"
   },
   {
    "duration": 1709,
    "start_time": "2023-02-28T23:12:05.228Z"
   },
   {
    "duration": 12,
    "start_time": "2023-02-28T23:14:01.129Z"
   },
   {
    "duration": 12,
    "start_time": "2023-02-28T23:14:14.393Z"
   },
   {
    "duration": 27,
    "start_time": "2023-02-28T23:15:34.048Z"
   },
   {
    "duration": 28,
    "start_time": "2023-02-28T23:15:35.641Z"
   },
   {
    "duration": 180,
    "start_time": "2023-02-28T23:15:45.496Z"
   },
   {
    "duration": 177,
    "start_time": "2023-02-28T23:16:08.985Z"
   },
   {
    "duration": 167,
    "start_time": "2023-02-28T23:16:20.160Z"
   },
   {
    "duration": 201,
    "start_time": "2023-02-28T23:17:46.760Z"
   },
   {
    "duration": 65,
    "start_time": "2023-02-28T23:22:56.765Z"
   },
   {
    "duration": 20,
    "start_time": "2023-02-28T23:23:36.005Z"
   },
   {
    "duration": 179,
    "start_time": "2023-02-28T23:23:44.741Z"
   },
   {
    "duration": 19,
    "start_time": "2023-02-28T23:28:56.568Z"
   },
   {
    "duration": 21,
    "start_time": "2023-02-28T23:32:34.688Z"
   },
   {
    "duration": 20,
    "start_time": "2023-02-28T23:32:40.425Z"
   },
   {
    "duration": 20,
    "start_time": "2023-02-28T23:34:31.553Z"
   },
   {
    "duration": 19,
    "start_time": "2023-02-28T23:34:36.761Z"
   },
   {
    "duration": 19,
    "start_time": "2023-02-28T23:34:44.289Z"
   },
   {
    "duration": 22,
    "start_time": "2023-02-28T23:34:49.081Z"
   },
   {
    "duration": 19,
    "start_time": "2023-02-28T23:36:19.265Z"
   },
   {
    "duration": 100,
    "start_time": "2023-02-28T23:37:33.952Z"
   },
   {
    "duration": 3647,
    "start_time": "2023-03-01T07:22:35.524Z"
   },
   {
    "duration": 25,
    "start_time": "2023-03-01T07:22:39.174Z"
   },
   {
    "duration": 22,
    "start_time": "2023-03-01T07:22:39.202Z"
   },
   {
    "duration": 35,
    "start_time": "2023-03-01T07:22:39.228Z"
   },
   {
    "duration": 20,
    "start_time": "2023-03-01T07:22:39.265Z"
   },
   {
    "duration": 30,
    "start_time": "2023-03-01T07:22:39.287Z"
   },
   {
    "duration": 24,
    "start_time": "2023-03-01T07:22:39.319Z"
   },
   {
    "duration": 11,
    "start_time": "2023-03-01T07:22:39.346Z"
   },
   {
    "duration": 15,
    "start_time": "2023-03-01T07:22:39.359Z"
   },
   {
    "duration": 8,
    "start_time": "2023-03-01T07:22:39.377Z"
   },
   {
    "duration": 52,
    "start_time": "2023-03-01T07:22:39.387Z"
   },
   {
    "duration": 36,
    "start_time": "2023-03-01T07:22:39.441Z"
   },
   {
    "duration": 84,
    "start_time": "2023-03-01T07:22:39.479Z"
   },
   {
    "duration": 72,
    "start_time": "2023-03-01T07:22:39.565Z"
   },
   {
    "duration": 449,
    "start_time": "2023-03-01T07:22:39.639Z"
   },
   {
    "duration": 57,
    "start_time": "2023-03-01T07:22:40.091Z"
   },
   {
    "duration": 11,
    "start_time": "2023-03-01T07:22:40.151Z"
   },
   {
    "duration": 302,
    "start_time": "2023-03-01T07:22:40.164Z"
   },
   {
    "duration": 18,
    "start_time": "2023-03-01T07:22:40.468Z"
   },
   {
    "duration": 370,
    "start_time": "2023-03-01T07:22:40.488Z"
   },
   {
    "duration": 11,
    "start_time": "2023-03-01T07:22:40.860Z"
   },
   {
    "duration": 370,
    "start_time": "2023-03-01T07:22:40.873Z"
   },
   {
    "duration": 12,
    "start_time": "2023-03-01T07:22:41.246Z"
   },
   {
    "duration": 369,
    "start_time": "2023-03-01T07:22:41.261Z"
   },
   {
    "duration": 13,
    "start_time": "2023-03-01T07:22:41.633Z"
   },
   {
    "duration": 203,
    "start_time": "2023-03-01T07:22:41.648Z"
   },
   {
    "duration": 11,
    "start_time": "2023-03-01T07:22:41.853Z"
   },
   {
    "duration": 257,
    "start_time": "2023-03-01T07:22:41.870Z"
   },
   {
    "duration": 14,
    "start_time": "2023-03-01T07:22:42.131Z"
   },
   {
    "duration": 227,
    "start_time": "2023-03-01T07:22:42.148Z"
   },
   {
    "duration": 11,
    "start_time": "2023-03-01T07:22:42.377Z"
   },
   {
    "duration": 161,
    "start_time": "2023-03-01T07:22:42.390Z"
   },
   {
    "duration": 10,
    "start_time": "2023-03-01T07:22:42.553Z"
   },
   {
    "duration": 198,
    "start_time": "2023-03-01T07:22:42.566Z"
   },
   {
    "duration": 14,
    "start_time": "2023-03-01T07:22:42.765Z"
   },
   {
    "duration": 456,
    "start_time": "2023-03-01T07:22:42.782Z"
   },
   {
    "duration": 11,
    "start_time": "2023-03-01T07:22:43.240Z"
   },
   {
    "duration": 280,
    "start_time": "2023-03-01T07:22:43.253Z"
   },
   {
    "duration": 12,
    "start_time": "2023-03-01T07:22:43.535Z"
   },
   {
    "duration": 300,
    "start_time": "2023-03-01T07:22:43.549Z"
   },
   {
    "duration": 10,
    "start_time": "2023-03-01T07:22:43.850Z"
   },
   {
    "duration": 255,
    "start_time": "2023-03-01T07:22:43.862Z"
   },
   {
    "duration": 13,
    "start_time": "2023-03-01T07:22:44.122Z"
   },
   {
    "duration": 237,
    "start_time": "2023-03-01T07:22:44.138Z"
   },
   {
    "duration": 13,
    "start_time": "2023-03-01T07:22:44.378Z"
   },
   {
    "duration": 374,
    "start_time": "2023-03-01T07:22:44.412Z"
   },
   {
    "duration": 21,
    "start_time": "2023-03-01T07:22:44.789Z"
   },
   {
    "duration": 8,
    "start_time": "2023-03-01T07:22:44.817Z"
   },
   {
    "duration": 11,
    "start_time": "2023-03-01T07:22:44.828Z"
   },
   {
    "duration": 7,
    "start_time": "2023-03-01T07:22:44.841Z"
   },
   {
    "duration": 10,
    "start_time": "2023-03-01T07:22:44.850Z"
   },
   {
    "duration": 11,
    "start_time": "2023-03-01T07:22:44.862Z"
   },
   {
    "duration": 43,
    "start_time": "2023-03-01T07:22:44.875Z"
   },
   {
    "duration": 46,
    "start_time": "2023-03-01T07:22:44.920Z"
   },
   {
    "duration": 6286,
    "start_time": "2023-03-01T07:22:44.969Z"
   },
   {
    "duration": 9,
    "start_time": "2023-03-01T07:22:51.257Z"
   },
   {
    "duration": 56,
    "start_time": "2023-03-01T07:22:51.269Z"
   },
   {
    "duration": 32,
    "start_time": "2023-03-01T07:22:51.327Z"
   },
   {
    "duration": 49,
    "start_time": "2023-03-02T10:02:49.096Z"
   },
   {
    "duration": 3468,
    "start_time": "2023-03-02T10:03:04.036Z"
   },
   {
    "duration": 23,
    "start_time": "2023-03-02T10:03:07.506Z"
   },
   {
    "duration": 12,
    "start_time": "2023-03-02T10:03:07.531Z"
   },
   {
    "duration": 38,
    "start_time": "2023-03-02T10:03:07.545Z"
   },
   {
    "duration": 13,
    "start_time": "2023-03-02T10:03:07.854Z"
   },
   {
    "duration": 14,
    "start_time": "2023-03-02T10:03:24.165Z"
   },
   {
    "duration": 14,
    "start_time": "2023-03-02T10:03:33.645Z"
   },
   {
    "duration": 3110,
    "start_time": "2023-03-10T05:42:23.127Z"
   },
   {
    "duration": 2135,
    "start_time": "2023-03-10T05:42:27.965Z"
   },
   {
    "duration": 22,
    "start_time": "2023-03-10T05:42:30.102Z"
   },
   {
    "duration": 10,
    "start_time": "2023-03-10T05:42:30.306Z"
   },
   {
    "duration": 23,
    "start_time": "2023-03-10T05:42:30.604Z"
   },
   {
    "duration": 11,
    "start_time": "2023-03-10T05:42:31.236Z"
   },
   {
    "duration": 8,
    "start_time": "2023-03-10T05:42:32.682Z"
   },
   {
    "duration": 8,
    "start_time": "2023-03-10T05:42:33.331Z"
   },
   {
    "duration": 10,
    "start_time": "2023-03-10T05:42:34.532Z"
   },
   {
    "duration": 7,
    "start_time": "2023-03-10T05:42:36.408Z"
   },
   {
    "duration": 6,
    "start_time": "2023-03-10T05:42:40.066Z"
   },
   {
    "duration": 34,
    "start_time": "2023-03-10T05:42:41.297Z"
   },
   {
    "duration": 21,
    "start_time": "2023-03-10T05:42:43.077Z"
   },
   {
    "duration": 81,
    "start_time": "2023-03-10T05:43:52.101Z"
   },
   {
    "duration": 65,
    "start_time": "2023-03-10T05:43:57.555Z"
   },
   {
    "duration": 6,
    "start_time": "2023-03-10T07:01:06.719Z"
   },
   {
    "duration": 7,
    "start_time": "2023-03-10T07:01:34.737Z"
   },
   {
    "duration": 8,
    "start_time": "2023-03-10T07:01:49.676Z"
   },
   {
    "duration": 7,
    "start_time": "2023-03-10T07:02:03.506Z"
   },
   {
    "duration": 6,
    "start_time": "2023-03-10T07:02:04.916Z"
   },
   {
    "duration": 6,
    "start_time": "2023-03-10T07:03:34.995Z"
   },
   {
    "duration": 7,
    "start_time": "2023-03-10T07:03:40.835Z"
   },
   {
    "duration": 9,
    "start_time": "2023-03-10T07:04:24.095Z"
   },
   {
    "duration": 6,
    "start_time": "2023-03-10T07:04:27.175Z"
   },
   {
    "duration": 45,
    "start_time": "2023-03-11T10:04:22.673Z"
   },
   {
    "duration": 3256,
    "start_time": "2023-03-11T10:04:28.270Z"
   },
   {
    "duration": 24,
    "start_time": "2023-03-11T10:04:31.528Z"
   },
   {
    "duration": 13,
    "start_time": "2023-03-11T10:04:31.554Z"
   },
   {
    "duration": 35,
    "start_time": "2023-03-11T10:04:31.569Z"
   },
   {
    "duration": 11,
    "start_time": "2023-03-11T10:04:31.605Z"
   },
   {
    "duration": 12,
    "start_time": "2023-03-11T10:04:31.618Z"
   },
   {
    "duration": 7,
    "start_time": "2023-03-11T10:04:32.420Z"
   },
   {
    "duration": 10,
    "start_time": "2023-03-11T10:04:32.810Z"
   },
   {
    "duration": 9,
    "start_time": "2023-03-11T10:04:33.268Z"
   },
   {
    "duration": 5,
    "start_time": "2023-03-11T10:04:33.671Z"
   },
   {
    "duration": 25,
    "start_time": "2023-03-11T10:04:34.062Z"
   },
   {
    "duration": 22,
    "start_time": "2023-03-11T10:04:34.669Z"
   },
   {
    "duration": 71,
    "start_time": "2023-03-11T10:04:35.099Z"
   },
   {
    "duration": 6,
    "start_time": "2023-03-11T10:04:35.930Z"
   },
   {
    "duration": 8,
    "start_time": "2023-03-11T10:04:37.280Z"
   },
   {
    "duration": 79,
    "start_time": "2023-03-11T10:04:37.988Z"
   },
   {
    "duration": 58,
    "start_time": "2023-03-11T16:26:25.479Z"
   },
   {
    "duration": 3679,
    "start_time": "2023-03-11T16:26:30.780Z"
   },
   {
    "duration": 27,
    "start_time": "2023-03-11T16:26:34.462Z"
   },
   {
    "duration": 16,
    "start_time": "2023-03-11T16:26:34.491Z"
   },
   {
    "duration": 38,
    "start_time": "2023-03-11T16:26:34.510Z"
   },
   {
    "duration": 38,
    "start_time": "2023-03-11T16:26:34.550Z"
   },
   {
    "duration": 14,
    "start_time": "2023-03-11T16:26:34.589Z"
   },
   {
    "duration": 22,
    "start_time": "2023-03-11T16:26:34.605Z"
   },
   {
    "duration": 15,
    "start_time": "2023-03-11T16:26:34.629Z"
   },
   {
    "duration": 11,
    "start_time": "2023-03-11T16:26:34.646Z"
   },
   {
    "duration": 7,
    "start_time": "2023-03-11T16:26:34.676Z"
   },
   {
    "duration": 42,
    "start_time": "2023-03-11T16:26:35.033Z"
   },
   {
    "duration": 30,
    "start_time": "2023-03-11T16:26:35.676Z"
   },
   {
    "duration": 78,
    "start_time": "2023-03-11T16:26:36.068Z"
   },
   {
    "duration": 7,
    "start_time": "2023-03-11T16:26:36.273Z"
   },
   {
    "duration": 10,
    "start_time": "2023-03-11T16:26:36.490Z"
   },
   {
    "duration": 77,
    "start_time": "2023-03-11T16:26:37.073Z"
   },
   {
    "duration": 7,
    "start_time": "2023-03-11T16:27:08.963Z"
   },
   {
    "duration": 91,
    "start_time": "2023-03-11T16:27:55.293Z"
   },
   {
    "duration": 68,
    "start_time": "2023-03-11T16:27:59.850Z"
   },
   {
    "duration": 7,
    "start_time": "2023-03-11T16:28:39.530Z"
   },
   {
    "duration": 9,
    "start_time": "2023-03-11T16:28:48.846Z"
   },
   {
    "duration": 8,
    "start_time": "2023-03-11T16:28:52.656Z"
   },
   {
    "duration": 6,
    "start_time": "2023-03-11T16:28:55.922Z"
   },
   {
    "duration": 6,
    "start_time": "2023-03-11T16:29:00.368Z"
   },
   {
    "duration": 7,
    "start_time": "2023-03-11T16:29:10.571Z"
   },
   {
    "duration": 10,
    "start_time": "2023-03-11T16:53:59.504Z"
   },
   {
    "duration": 87,
    "start_time": "2023-03-11T16:54:00.836Z"
   },
   {
    "duration": 7,
    "start_time": "2023-03-11T16:55:22.448Z"
   },
   {
    "duration": 5,
    "start_time": "2023-03-11T16:55:24.417Z"
   },
   {
    "duration": 85,
    "start_time": "2023-03-11T16:55:40.411Z"
   },
   {
    "duration": 3103,
    "start_time": "2023-03-12T06:39:09.643Z"
   },
   {
    "duration": 25,
    "start_time": "2023-03-12T06:39:12.748Z"
   },
   {
    "duration": 9,
    "start_time": "2023-03-12T06:39:12.774Z"
   },
   {
    "duration": 30,
    "start_time": "2023-03-12T06:39:12.784Z"
   },
   {
    "duration": 14,
    "start_time": "2023-03-12T06:39:13.903Z"
   },
   {
    "duration": 8,
    "start_time": "2023-03-12T06:39:15.897Z"
   },
   {
    "duration": 8,
    "start_time": "2023-03-12T06:39:16.908Z"
   },
   {
    "duration": 13,
    "start_time": "2023-03-12T06:39:17.765Z"
   },
   {
    "duration": 7,
    "start_time": "2023-03-12T06:39:19.113Z"
   },
   {
    "duration": 7,
    "start_time": "2023-03-12T06:39:19.641Z"
   },
   {
    "duration": 27,
    "start_time": "2023-03-12T06:39:20.472Z"
   },
   {
    "duration": 23,
    "start_time": "2023-03-12T06:39:21.757Z"
   },
   {
    "duration": 80,
    "start_time": "2023-03-12T06:39:22.209Z"
   },
   {
    "duration": 8,
    "start_time": "2023-03-12T06:39:23.493Z"
   },
   {
    "duration": 9,
    "start_time": "2023-03-12T06:39:24.252Z"
   },
   {
    "duration": 9,
    "start_time": "2023-03-12T06:39:24.741Z"
   },
   {
    "duration": 9,
    "start_time": "2023-03-12T06:39:32.071Z"
   },
   {
    "duration": 75,
    "start_time": "2023-03-12T06:39:38.277Z"
   },
   {
    "duration": 6,
    "start_time": "2023-03-12T06:41:37.516Z"
   },
   {
    "duration": 5,
    "start_time": "2023-03-12T06:41:46.239Z"
   },
   {
    "duration": 8,
    "start_time": "2023-03-12T07:00:29.899Z"
   },
   {
    "duration": 82,
    "start_time": "2023-03-12T07:06:19.116Z"
   },
   {
    "duration": 13,
    "start_time": "2023-03-12T07:07:17.137Z"
   },
   {
    "duration": 71,
    "start_time": "2023-03-12T07:07:33.529Z"
   },
   {
    "duration": 74,
    "start_time": "2023-03-12T07:10:46.097Z"
   },
   {
    "duration": 12,
    "start_time": "2023-03-12T07:16:10.133Z"
   },
   {
    "duration": 269,
    "start_time": "2023-03-12T07:16:12.578Z"
   },
   {
    "duration": 9,
    "start_time": "2023-03-12T07:18:29.540Z"
   },
   {
    "duration": 21,
    "start_time": "2023-03-12T07:18:38.683Z"
   },
   {
    "duration": 9,
    "start_time": "2023-03-12T07:19:02.075Z"
   },
   {
    "duration": 239,
    "start_time": "2023-03-12T07:24:12.242Z"
   },
   {
    "duration": 9,
    "start_time": "2023-03-12T07:24:23.428Z"
   },
   {
    "duration": 166,
    "start_time": "2023-03-12T07:25:10.017Z"
   },
   {
    "duration": 9,
    "start_time": "2023-03-12T07:25:28.875Z"
   },
   {
    "duration": 352,
    "start_time": "2023-03-12T07:26:13.065Z"
   },
   {
    "duration": 283,
    "start_time": "2023-03-12T07:26:16.020Z"
   },
   {
    "duration": 259,
    "start_time": "2023-03-12T07:33:37.376Z"
   },
   {
    "duration": 242,
    "start_time": "2023-03-12T07:33:40.131Z"
   },
   {
    "duration": 12,
    "start_time": "2023-03-12T07:33:46.352Z"
   },
   {
    "duration": 11,
    "start_time": "2023-03-12T07:34:45.328Z"
   },
   {
    "duration": 12,
    "start_time": "2023-03-12T07:34:53.104Z"
   },
   {
    "duration": 268,
    "start_time": "2023-03-12T07:35:01.082Z"
   },
   {
    "duration": 314,
    "start_time": "2023-03-12T07:35:06.103Z"
   },
   {
    "duration": 408,
    "start_time": "2023-03-12T07:35:10.908Z"
   },
   {
    "duration": 884,
    "start_time": "2023-03-12T07:35:55.980Z"
   },
   {
    "duration": 25,
    "start_time": "2023-03-12T07:45:58.576Z"
   },
   {
    "duration": 92,
    "start_time": "2023-03-12T07:59:56.844Z"
   },
   {
    "duration": 1771,
    "start_time": "2023-03-12T08:14:35.160Z"
   },
   {
    "duration": 1678,
    "start_time": "2023-03-12T08:14:37.293Z"
   },
   {
    "duration": 183,
    "start_time": "2023-03-12T08:22:41.661Z"
   },
   {
    "duration": 213,
    "start_time": "2023-03-12T08:22:55.665Z"
   },
   {
    "duration": 212,
    "start_time": "2023-03-12T08:48:20.257Z"
   },
   {
    "duration": 219,
    "start_time": "2023-03-12T08:48:30.908Z"
   },
   {
    "duration": 261,
    "start_time": "2023-03-12T08:55:34.390Z"
   },
   {
    "duration": 261,
    "start_time": "2023-03-12T08:55:42.483Z"
   },
   {
    "duration": 9,
    "start_time": "2023-03-12T08:57:13.962Z"
   },
   {
    "duration": 3029,
    "start_time": "2023-03-12T14:36:53.957Z"
   },
   {
    "duration": 23,
    "start_time": "2023-03-12T14:36:56.988Z"
   },
   {
    "duration": 8,
    "start_time": "2023-03-12T14:36:57.012Z"
   },
   {
    "duration": 23,
    "start_time": "2023-03-12T14:36:57.022Z"
   },
   {
    "duration": 9,
    "start_time": "2023-03-12T14:36:57.047Z"
   },
   {
    "duration": 7,
    "start_time": "2023-03-12T14:36:57.080Z"
   },
   {
    "duration": 8,
    "start_time": "2023-03-12T14:36:57.771Z"
   },
   {
    "duration": 9,
    "start_time": "2023-03-12T14:36:58.128Z"
   },
   {
    "duration": 7,
    "start_time": "2023-03-12T14:36:58.482Z"
   },
   {
    "duration": 6,
    "start_time": "2023-03-12T14:36:58.896Z"
   },
   {
    "duration": 24,
    "start_time": "2023-03-12T14:36:59.290Z"
   },
   {
    "duration": 21,
    "start_time": "2023-03-12T14:36:59.883Z"
   },
   {
    "duration": 66,
    "start_time": "2023-03-12T14:37:00.270Z"
   },
   {
    "duration": 5,
    "start_time": "2023-03-12T14:37:00.507Z"
   },
   {
    "duration": 7,
    "start_time": "2023-03-12T14:37:00.707Z"
   },
   {
    "duration": 9,
    "start_time": "2023-03-12T14:37:00.916Z"
   },
   {
    "duration": 12,
    "start_time": "2023-03-12T14:37:01.315Z"
   },
   {
    "duration": 8,
    "start_time": "2023-03-12T14:37:01.714Z"
   },
   {
    "duration": 75,
    "start_time": "2023-03-12T14:37:01.916Z"
   },
   {
    "duration": 63,
    "start_time": "2023-03-12T14:37:02.162Z"
   },
   {
    "duration": 42,
    "start_time": "2023-03-12T14:37:03.738Z"
   },
   {
    "duration": 42,
    "start_time": "2023-03-12T14:37:04.270Z"
   },
   {
    "duration": 328,
    "start_time": "2023-03-12T14:37:04.437Z"
   },
   {
    "duration": 36,
    "start_time": "2023-03-12T14:37:04.767Z"
   },
   {
    "duration": 8,
    "start_time": "2023-03-12T14:37:05.523Z"
   },
   {
    "duration": 218,
    "start_time": "2023-03-12T14:37:05.700Z"
   },
   {
    "duration": 9,
    "start_time": "2023-03-12T14:37:06.307Z"
   },
   {
    "duration": 263,
    "start_time": "2023-03-12T14:37:06.762Z"
   },
   {
    "duration": 9,
    "start_time": "2023-03-12T14:37:07.674Z"
   },
   {
    "duration": 219,
    "start_time": "2023-03-12T14:37:07.874Z"
   },
   {
    "duration": 9,
    "start_time": "2023-03-12T14:37:08.466Z"
   },
   {
    "duration": 221,
    "start_time": "2023-03-12T14:37:08.651Z"
   },
   {
    "duration": 8,
    "start_time": "2023-03-12T14:37:09.250Z"
   },
   {
    "duration": 137,
    "start_time": "2023-03-12T14:37:09.466Z"
   },
   {
    "duration": 8,
    "start_time": "2023-03-12T14:37:10.338Z"
   },
   {
    "duration": 144,
    "start_time": "2023-03-12T14:37:10.721Z"
   },
   {
    "duration": 8,
    "start_time": "2023-03-12T14:37:14.410Z"
   },
   {
    "duration": 155,
    "start_time": "2023-03-12T14:37:15.010Z"
   },
   {
    "duration": 9,
    "start_time": "2023-03-12T14:37:17.042Z"
   },
   {
    "duration": 103,
    "start_time": "2023-03-12T14:37:17.498Z"
   },
   {
    "duration": 7,
    "start_time": "2023-03-12T14:37:22.226Z"
   },
   {
    "duration": 141,
    "start_time": "2023-03-12T14:37:22.672Z"
   },
   {
    "duration": 10,
    "start_time": "2023-03-12T14:37:28.004Z"
   },
   {
    "duration": 297,
    "start_time": "2023-03-12T14:37:32.106Z"
   },
   {
    "duration": 14,
    "start_time": "2023-03-12T14:37:50.771Z"
   },
   {
    "duration": 194,
    "start_time": "2023-03-12T14:37:51.417Z"
   },
   {
    "duration": 9,
    "start_time": "2023-03-12T14:37:55.874Z"
   },
   {
    "duration": 258,
    "start_time": "2023-03-12T14:37:56.403Z"
   },
   {
    "duration": 7,
    "start_time": "2023-03-12T14:37:58.828Z"
   },
   {
    "duration": 126,
    "start_time": "2023-03-12T14:37:59.419Z"
   },
   {
    "duration": 8,
    "start_time": "2023-03-12T14:38:01.746Z"
   },
   {
    "duration": 136,
    "start_time": "2023-03-12T14:38:02.378Z"
   },
   {
    "duration": 9,
    "start_time": "2023-03-12T14:38:04.244Z"
   },
   {
    "duration": 212,
    "start_time": "2023-03-12T14:38:04.868Z"
   },
   {
    "duration": 173,
    "start_time": "2023-03-12T14:38:07.154Z"
   },
   {
    "duration": 151,
    "start_time": "2023-03-12T14:38:09.683Z"
   },
   {
    "duration": 233,
    "start_time": "2023-03-12T14:38:11.250Z"
   },
   {
    "duration": 74,
    "start_time": "2023-03-12T14:38:16.442Z"
   },
   {
    "duration": 344,
    "start_time": "2023-03-12T14:38:27.657Z"
   },
   {
    "duration": 151,
    "start_time": "2023-03-12T14:39:05.420Z"
   },
   {
    "duration": 146,
    "start_time": "2023-03-12T14:39:21.383Z"
   },
   {
    "duration": 135,
    "start_time": "2023-03-12T14:39:24.436Z"
   },
   {
    "duration": 153,
    "start_time": "2023-03-12T14:39:28.095Z"
   },
   {
    "duration": 149,
    "start_time": "2023-03-12T14:43:30.176Z"
   },
   {
    "duration": 155,
    "start_time": "2023-03-12T14:43:37.548Z"
   },
   {
    "duration": 140,
    "start_time": "2023-03-12T14:43:43.043Z"
   },
   {
    "duration": 154,
    "start_time": "2023-03-12T14:43:50.694Z"
   },
   {
    "duration": 5,
    "start_time": "2023-03-12T14:50:29.075Z"
   },
   {
    "duration": 6,
    "start_time": "2023-03-12T14:50:30.541Z"
   },
   {
    "duration": 158,
    "start_time": "2023-03-12T14:50:54.976Z"
   },
   {
    "duration": 105,
    "start_time": "2023-03-12T14:52:20.479Z"
   },
   {
    "duration": 4542,
    "start_time": "2023-03-12T19:45:43.252Z"
   },
   {
    "duration": 42,
    "start_time": "2023-03-12T19:45:47.796Z"
   },
   {
    "duration": 13,
    "start_time": "2023-03-12T19:45:47.840Z"
   },
   {
    "duration": 51,
    "start_time": "2023-03-12T19:45:47.856Z"
   },
   {
    "duration": 30,
    "start_time": "2023-03-12T19:45:47.909Z"
   },
   {
    "duration": 17,
    "start_time": "2023-03-12T19:45:47.946Z"
   },
   {
    "duration": 17,
    "start_time": "2023-03-12T19:45:47.968Z"
   },
   {
    "duration": 23,
    "start_time": "2023-03-12T19:45:47.991Z"
   },
   {
    "duration": 14,
    "start_time": "2023-03-12T19:45:48.016Z"
   },
   {
    "duration": 7,
    "start_time": "2023-03-12T19:45:48.034Z"
   },
   {
    "duration": 49,
    "start_time": "2023-03-12T19:45:48.043Z"
   },
   {
    "duration": 51,
    "start_time": "2023-03-12T19:45:48.094Z"
   },
   {
    "duration": 138,
    "start_time": "2023-03-12T19:45:48.553Z"
   },
   {
    "duration": 10,
    "start_time": "2023-03-12T19:45:48.762Z"
   },
   {
    "duration": 14,
    "start_time": "2023-03-12T19:45:48.971Z"
   },
   {
    "duration": 15,
    "start_time": "2023-03-12T19:45:49.156Z"
   },
   {
    "duration": 19,
    "start_time": "2023-03-12T19:45:49.574Z"
   },
   {
    "duration": 11,
    "start_time": "2023-03-12T19:45:49.967Z"
   },
   {
    "duration": 146,
    "start_time": "2023-03-12T19:45:50.158Z"
   },
   {
    "duration": 115,
    "start_time": "2023-03-12T19:45:50.371Z"
   },
   {
    "duration": 80,
    "start_time": "2023-03-12T19:45:51.747Z"
   },
   {
    "duration": 60,
    "start_time": "2023-03-12T19:45:51.947Z"
   },
   {
    "duration": 520,
    "start_time": "2023-03-12T19:45:52.149Z"
   },
   {
    "duration": 67,
    "start_time": "2023-03-12T19:45:52.672Z"
   },
   {
    "duration": 15,
    "start_time": "2023-03-12T19:45:53.147Z"
   },
   {
    "duration": 405,
    "start_time": "2023-03-12T19:45:53.370Z"
   },
   {
    "duration": 12,
    "start_time": "2023-03-12T19:45:53.955Z"
   },
   {
    "duration": 413,
    "start_time": "2023-03-12T19:45:54.150Z"
   },
   {
    "duration": 12,
    "start_time": "2023-03-12T19:45:54.770Z"
   },
   {
    "duration": 389,
    "start_time": "2023-03-12T19:45:54.971Z"
   },
   {
    "duration": 14,
    "start_time": "2023-03-12T19:45:55.577Z"
   },
   {
    "duration": 400,
    "start_time": "2023-03-12T19:45:55.796Z"
   },
   {
    "duration": 13,
    "start_time": "2023-03-12T19:45:56.385Z"
   },
   {
    "duration": 246,
    "start_time": "2023-03-12T19:45:56.578Z"
   },
   {
    "duration": 14,
    "start_time": "2023-03-12T19:45:58.586Z"
   },
   {
    "duration": 316,
    "start_time": "2023-03-12T19:45:58.755Z"
   },
   {
    "duration": 13,
    "start_time": "2023-03-12T19:45:59.249Z"
   },
   {
    "duration": 281,
    "start_time": "2023-03-12T19:45:59.397Z"
   },
   {
    "duration": 15,
    "start_time": "2023-03-12T19:45:59.870Z"
   },
   {
    "duration": 180,
    "start_time": "2023-03-12T19:46:00.017Z"
   },
   {
    "duration": 12,
    "start_time": "2023-03-12T19:46:00.490Z"
   },
   {
    "duration": 303,
    "start_time": "2023-03-12T19:46:00.668Z"
   },
   {
    "duration": 16,
    "start_time": "2023-03-12T19:46:01.154Z"
   },
   {
    "duration": 508,
    "start_time": "2023-03-12T19:46:01.304Z"
   },
   {
    "duration": 15,
    "start_time": "2023-03-12T19:46:01.995Z"
   },
   {
    "duration": 346,
    "start_time": "2023-03-12T19:46:02.169Z"
   },
   {
    "duration": 12,
    "start_time": "2023-03-12T19:46:02.846Z"
   },
   {
    "duration": 312,
    "start_time": "2023-03-12T19:46:03.022Z"
   },
   {
    "duration": 11,
    "start_time": "2023-03-12T19:46:03.559Z"
   },
   {
    "duration": 206,
    "start_time": "2023-03-12T19:46:03.722Z"
   },
   {
    "duration": 15,
    "start_time": "2023-03-12T19:46:04.225Z"
   },
   {
    "duration": 242,
    "start_time": "2023-03-12T19:46:04.394Z"
   },
   {
    "duration": 12,
    "start_time": "2023-03-12T19:46:04.938Z"
   },
   {
    "duration": 456,
    "start_time": "2023-03-12T19:46:05.087Z"
   },
   {
    "duration": 284,
    "start_time": "2023-03-12T19:46:05.811Z"
   },
   {
    "duration": 262,
    "start_time": "2023-03-12T19:46:06.184Z"
   },
   {
    "duration": 397,
    "start_time": "2023-03-12T19:46:06.583Z"
   },
   {
    "duration": 268,
    "start_time": "2023-03-12T19:46:07.357Z"
   },
   {
    "duration": 292,
    "start_time": "2023-03-12T19:46:10.526Z"
   },
   {
    "duration": 25,
    "start_time": "2023-03-12T19:46:11.324Z"
   },
   {
    "duration": 746,
    "start_time": "2023-03-12T19:46:35.167Z"
   },
   {
    "duration": 34,
    "start_time": "2023-03-12T19:47:11.238Z"
   },
   {
    "duration": 636,
    "start_time": "2023-03-12T19:48:33.817Z"
   },
   {
    "duration": 582,
    "start_time": "2023-03-12T19:48:45.579Z"
   },
   {
    "duration": 565,
    "start_time": "2023-03-12T19:48:53.955Z"
   },
   {
    "duration": 679,
    "start_time": "2023-03-12T19:49:05.998Z"
   },
   {
    "duration": 141,
    "start_time": "2023-03-12T19:50:09.377Z"
   },
   {
    "duration": 625,
    "start_time": "2023-03-12T19:50:13.868Z"
   },
   {
    "duration": 599,
    "start_time": "2023-03-12T19:50:23.852Z"
   },
   {
    "duration": 639,
    "start_time": "2023-03-12T19:50:29.603Z"
   },
   {
    "duration": 527,
    "start_time": "2023-03-12T19:54:48.581Z"
   },
   {
    "duration": 689,
    "start_time": "2023-03-12T19:55:33.872Z"
   },
   {
    "duration": 558,
    "start_time": "2023-03-12T19:55:49.739Z"
   },
   {
    "duration": 52,
    "start_time": "2023-03-13T09:05:24.988Z"
   },
   {
    "duration": 3134,
    "start_time": "2023-03-13T09:05:35.611Z"
   },
   {
    "duration": 35,
    "start_time": "2023-03-13T09:05:38.748Z"
   },
   {
    "duration": 14,
    "start_time": "2023-03-13T09:05:38.785Z"
   },
   {
    "duration": 45,
    "start_time": "2023-03-13T09:05:38.801Z"
   },
   {
    "duration": 14,
    "start_time": "2023-03-13T09:05:38.864Z"
   },
   {
    "duration": 10,
    "start_time": "2023-03-13T09:05:38.880Z"
   },
   {
    "duration": 7,
    "start_time": "2023-03-13T09:05:38.892Z"
   },
   {
    "duration": 16,
    "start_time": "2023-03-13T09:05:38.901Z"
   },
   {
    "duration": 46,
    "start_time": "2023-03-13T09:05:38.919Z"
   },
   {
    "duration": 6,
    "start_time": "2023-03-13T09:05:38.968Z"
   },
   {
    "duration": 28,
    "start_time": "2023-03-13T09:05:38.976Z"
   },
   {
    "duration": 29,
    "start_time": "2023-03-13T09:05:39.006Z"
   },
   {
    "duration": 72,
    "start_time": "2023-03-13T09:05:39.064Z"
   },
   {
    "duration": 7,
    "start_time": "2023-03-13T09:05:39.139Z"
   },
   {
    "duration": 20,
    "start_time": "2023-03-13T09:05:39.148Z"
   },
   {
    "duration": 17,
    "start_time": "2023-03-13T09:05:39.170Z"
   },
   {
    "duration": 21,
    "start_time": "2023-03-13T09:05:39.190Z"
   },
   {
    "duration": 9,
    "start_time": "2023-03-13T09:05:39.212Z"
   },
   {
    "duration": 102,
    "start_time": "2023-03-13T09:05:39.222Z"
   },
   {
    "duration": 54,
    "start_time": "2023-03-13T09:05:39.326Z"
   },
   {
    "duration": 43,
    "start_time": "2023-03-13T09:05:39.381Z"
   },
   {
    "duration": 356,
    "start_time": "2023-03-13T09:05:39.426Z"
   },
   {
    "duration": 39,
    "start_time": "2023-03-13T09:05:39.783Z"
   },
   {
    "duration": 9,
    "start_time": "2023-03-13T09:05:39.824Z"
   },
   {
    "duration": 247,
    "start_time": "2023-03-13T09:05:39.834Z"
   },
   {
    "duration": 9,
    "start_time": "2023-03-13T09:05:40.082Z"
   },
   {
    "duration": 315,
    "start_time": "2023-03-13T09:05:40.093Z"
   },
   {
    "duration": 10,
    "start_time": "2023-03-13T09:05:40.412Z"
   },
   {
    "duration": 267,
    "start_time": "2023-03-13T09:05:40.424Z"
   },
   {
    "duration": 8,
    "start_time": "2023-03-13T09:05:40.693Z"
   },
   {
    "duration": 235,
    "start_time": "2023-03-13T09:05:40.703Z"
   },
   {
    "duration": 8,
    "start_time": "2023-03-13T09:05:40.940Z"
   },
   {
    "duration": 163,
    "start_time": "2023-03-13T09:05:40.949Z"
   },
   {
    "duration": 8,
    "start_time": "2023-03-13T09:05:41.113Z"
   },
   {
    "duration": 181,
    "start_time": "2023-03-13T09:05:41.122Z"
   },
   {
    "duration": 8,
    "start_time": "2023-03-13T09:05:41.305Z"
   },
   {
    "duration": 188,
    "start_time": "2023-03-13T09:05:41.314Z"
   },
   {
    "duration": 13,
    "start_time": "2023-03-13T09:05:41.504Z"
   },
   {
    "duration": 140,
    "start_time": "2023-03-13T09:05:41.519Z"
   },
   {
    "duration": 9,
    "start_time": "2023-03-13T09:05:41.661Z"
   },
   {
    "duration": 170,
    "start_time": "2023-03-13T09:05:41.672Z"
   },
   {
    "duration": 11,
    "start_time": "2023-03-13T09:05:41.843Z"
   },
   {
    "duration": 329,
    "start_time": "2023-03-13T09:05:41.865Z"
   },
   {
    "duration": 13,
    "start_time": "2023-03-13T09:05:42.196Z"
   },
   {
    "duration": 257,
    "start_time": "2023-03-13T09:05:42.210Z"
   },
   {
    "duration": 9,
    "start_time": "2023-03-13T09:05:42.468Z"
   },
   {
    "duration": 273,
    "start_time": "2023-03-13T09:05:42.479Z"
   },
   {
    "duration": 16,
    "start_time": "2023-03-13T09:05:42.754Z"
   },
   {
    "duration": 162,
    "start_time": "2023-03-13T09:05:42.772Z"
   },
   {
    "duration": 8,
    "start_time": "2023-03-13T09:05:42.936Z"
   },
   {
    "duration": 225,
    "start_time": "2023-03-13T09:05:42.946Z"
   },
   {
    "duration": 11,
    "start_time": "2023-03-13T09:05:43.173Z"
   },
   {
    "duration": 341,
    "start_time": "2023-03-13T09:05:43.186Z"
   },
   {
    "duration": 253,
    "start_time": "2023-03-13T09:05:43.530Z"
   },
   {
    "duration": 284,
    "start_time": "2023-03-13T09:05:43.785Z"
   },
   {
    "duration": 284,
    "start_time": "2023-03-13T09:05:44.070Z"
   },
   {
    "duration": 161,
    "start_time": "2023-03-13T09:05:44.355Z"
   },
   {
    "duration": 179,
    "start_time": "2023-03-13T09:05:44.518Z"
   },
   {
    "duration": 438,
    "start_time": "2023-03-13T09:05:44.698Z"
   },
   {
    "duration": 31,
    "start_time": "2023-03-13T09:05:45.137Z"
   },
   {
    "duration": 4409,
    "start_time": "2023-03-13T09:05:45.170Z"
   },
   {
    "duration": 10,
    "start_time": "2023-03-13T09:05:49.581Z"
   },
   {
    "duration": 27,
    "start_time": "2023-03-13T09:05:49.593Z"
   },
   {
    "duration": 45,
    "start_time": "2023-03-13T09:05:49.622Z"
   },
   {
    "duration": 18,
    "start_time": "2023-03-13T09:11:51.760Z"
   },
   {
    "duration": 127,
    "start_time": "2023-03-13T09:21:37.110Z"
   },
   {
    "duration": 214,
    "start_time": "2023-03-13T09:21:45.409Z"
   },
   {
    "duration": 2557,
    "start_time": "2023-03-13T09:26:02.076Z"
   },
   {
    "duration": 22,
    "start_time": "2023-03-13T09:26:04.635Z"
   },
   {
    "duration": 9,
    "start_time": "2023-03-13T09:26:04.658Z"
   },
   {
    "duration": 29,
    "start_time": "2023-03-13T09:26:04.668Z"
   },
   {
    "duration": 16,
    "start_time": "2023-03-13T09:26:04.699Z"
   },
   {
    "duration": 8,
    "start_time": "2023-03-13T09:26:04.716Z"
   },
   {
    "duration": 26,
    "start_time": "2023-03-13T09:26:04.725Z"
   },
   {
    "duration": 18,
    "start_time": "2023-03-13T09:26:04.753Z"
   },
   {
    "duration": 44,
    "start_time": "2023-03-13T09:26:04.772Z"
   },
   {
    "duration": 20,
    "start_time": "2023-03-13T09:26:04.818Z"
   },
   {
    "duration": 34,
    "start_time": "2023-03-13T09:26:04.839Z"
   },
   {
    "duration": 25,
    "start_time": "2023-03-13T09:26:04.874Z"
   },
   {
    "duration": 71,
    "start_time": "2023-03-13T09:26:04.900Z"
   },
   {
    "duration": 5,
    "start_time": "2023-03-13T09:26:04.972Z"
   },
   {
    "duration": 29,
    "start_time": "2023-03-13T09:26:04.978Z"
   },
   {
    "duration": 15,
    "start_time": "2023-03-13T09:26:05.009Z"
   },
   {
    "duration": 29,
    "start_time": "2023-03-13T09:26:05.025Z"
   },
   {
    "duration": 7,
    "start_time": "2023-03-13T09:26:05.055Z"
   },
   {
    "duration": 78,
    "start_time": "2023-03-13T09:26:05.063Z"
   },
   {
    "duration": 41,
    "start_time": "2023-03-13T09:26:05.142Z"
   },
   {
    "duration": 39,
    "start_time": "2023-03-13T09:26:05.184Z"
   },
   {
    "duration": 318,
    "start_time": "2023-03-13T09:26:05.225Z"
   },
   {
    "duration": 35,
    "start_time": "2023-03-13T09:26:05.545Z"
   },
   {
    "duration": 7,
    "start_time": "2023-03-13T09:26:05.581Z"
   },
   {
    "duration": 311,
    "start_time": "2023-03-13T09:26:05.589Z"
   },
   {
    "duration": 8,
    "start_time": "2023-03-13T09:26:05.902Z"
   },
   {
    "duration": 290,
    "start_time": "2023-03-13T09:26:05.912Z"
   },
   {
    "duration": 9,
    "start_time": "2023-03-13T09:26:06.205Z"
   },
   {
    "duration": 294,
    "start_time": "2023-03-13T09:26:06.216Z"
   },
   {
    "duration": 10,
    "start_time": "2023-03-13T09:26:06.512Z"
   },
   {
    "duration": 246,
    "start_time": "2023-03-13T09:26:06.524Z"
   },
   {
    "duration": 7,
    "start_time": "2023-03-13T09:26:06.772Z"
   },
   {
    "duration": 150,
    "start_time": "2023-03-13T09:26:06.780Z"
   },
   {
    "duration": 8,
    "start_time": "2023-03-13T09:26:06.932Z"
   },
   {
    "duration": 161,
    "start_time": "2023-03-13T09:26:06.941Z"
   },
   {
    "duration": 7,
    "start_time": "2023-03-13T09:26:07.103Z"
   },
   {
    "duration": 175,
    "start_time": "2023-03-13T09:26:07.112Z"
   },
   {
    "duration": 9,
    "start_time": "2023-03-13T09:26:07.289Z"
   },
   {
    "duration": 123,
    "start_time": "2023-03-13T09:26:07.299Z"
   },
   {
    "duration": 7,
    "start_time": "2023-03-13T09:26:07.424Z"
   },
   {
    "duration": 162,
    "start_time": "2023-03-13T09:26:07.432Z"
   },
   {
    "duration": 1400,
    "start_time": "2023-03-13T09:26:07.595Z"
   },
   {
    "duration": 0,
    "start_time": "2023-03-13T09:26:08.997Z"
   },
   {
    "duration": 0,
    "start_time": "2023-03-13T09:26:08.998Z"
   },
   {
    "duration": 0,
    "start_time": "2023-03-13T09:26:08.999Z"
   },
   {
    "duration": 0,
    "start_time": "2023-03-13T09:26:09.000Z"
   },
   {
    "duration": 0,
    "start_time": "2023-03-13T09:26:09.001Z"
   },
   {
    "duration": 0,
    "start_time": "2023-03-13T09:26:09.003Z"
   },
   {
    "duration": 0,
    "start_time": "2023-03-13T09:26:09.004Z"
   },
   {
    "duration": 0,
    "start_time": "2023-03-13T09:26:09.004Z"
   },
   {
    "duration": 0,
    "start_time": "2023-03-13T09:26:09.005Z"
   },
   {
    "duration": 0,
    "start_time": "2023-03-13T09:26:09.006Z"
   },
   {
    "duration": 0,
    "start_time": "2023-03-13T09:26:09.007Z"
   },
   {
    "duration": 0,
    "start_time": "2023-03-13T09:26:09.009Z"
   },
   {
    "duration": 0,
    "start_time": "2023-03-13T09:26:09.009Z"
   },
   {
    "duration": 0,
    "start_time": "2023-03-13T09:26:09.010Z"
   },
   {
    "duration": 0,
    "start_time": "2023-03-13T09:26:09.011Z"
   },
   {
    "duration": 1,
    "start_time": "2023-03-13T09:26:09.012Z"
   },
   {
    "duration": 0,
    "start_time": "2023-03-13T09:26:09.013Z"
   },
   {
    "duration": 0,
    "start_time": "2023-03-13T09:26:09.014Z"
   },
   {
    "duration": 0,
    "start_time": "2023-03-13T09:26:09.015Z"
   },
   {
    "duration": 0,
    "start_time": "2023-03-13T09:26:09.016Z"
   },
   {
    "duration": 0,
    "start_time": "2023-03-13T09:26:09.017Z"
   },
   {
    "duration": 0,
    "start_time": "2023-03-13T09:26:09.018Z"
   },
   {
    "duration": 1104,
    "start_time": "2023-03-13T09:26:31.994Z"
   },
   {
    "duration": 0,
    "start_time": "2023-03-13T09:26:47.913Z"
   },
   {
    "duration": 0,
    "start_time": "2023-03-13T09:26:49.658Z"
   },
   {
    "duration": 1151,
    "start_time": "2023-03-13T09:26:50.587Z"
   },
   {
    "duration": 9,
    "start_time": "2023-03-13T09:27:51.396Z"
   },
   {
    "duration": 136,
    "start_time": "2023-03-13T09:27:54.472Z"
   },
   {
    "duration": 275,
    "start_time": "2023-03-13T09:28:32.308Z"
   },
   {
    "duration": 127,
    "start_time": "2023-03-13T09:28:40.115Z"
   },
   {
    "duration": 177,
    "start_time": "2023-03-13T09:28:43.411Z"
   },
   {
    "duration": 138,
    "start_time": "2023-03-13T09:28:46.782Z"
   },
   {
    "duration": 92,
    "start_time": "2023-03-13T09:29:49.506Z"
   }
  ],
  "kernelspec": {
   "display_name": "Python 3 (ipykernel)",
   "language": "python",
   "name": "python3"
  },
  "language_info": {
   "codemirror_mode": {
    "name": "ipython",
    "version": 3
   },
   "file_extension": ".py",
   "mimetype": "text/x-python",
   "name": "python",
   "nbconvert_exporter": "python",
   "pygments_lexer": "ipython3",
   "version": "3.9.13"
  },
  "toc": {
   "base_numbering": 1,
   "nav_menu": {},
   "number_sections": true,
   "sideBar": true,
   "skip_h1_title": true,
   "title_cell": "Table of Contents",
   "title_sidebar": "Contents",
   "toc_cell": false,
   "toc_position": {},
   "toc_section_display": true,
   "toc_window_display": false
  }
 },
 "nbformat": 4,
 "nbformat_minor": 2
}
