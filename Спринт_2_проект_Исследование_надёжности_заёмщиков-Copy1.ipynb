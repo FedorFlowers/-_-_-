{
 "cells": [
  {
   "cell_type": "markdown",
   "id": "308f48b3",
   "metadata": {
    "deletable": false,
    "editable": false,
    "id": "c81daeeb"
   },
   "source": [
    "# Исследование надежности заемщиков\n"
   ]
  },
  {
   "cell_type": "markdown",
   "id": "b4c35736",
   "metadata": {
    "deletable": false,
    "editable": false,
    "id": "827c20bf"
   },
   "source": [
    "Во второй части проекта вы выполните шаги 3 и 4. Их вручную проверит ревьюер.\n",
    "Чтобы вам не пришлось писать код заново для шагов 1 и 2, мы добавили авторские решения в ячейки с кодом. \n",
    "\n"
   ]
  },
  {
   "cell_type": "markdown",
   "id": "fe05bd13",
   "metadata": {
    "deletable": false,
    "editable": false,
    "id": "744d7639"
   },
   "source": [
    "## Откройте таблицу и изучите общую информацию о данных"
   ]
  },
  {
   "cell_type": "markdown",
   "id": "d16d6697",
   "metadata": {
    "deletable": false,
    "editable": false,
    "id": "e7a14c31"
   },
   "source": [
    "**Задание 1. Импортируйте библиотеку pandas. Считайте данные из csv-файла в датафрейм и сохраните в переменную `data`. Путь к файлу:**\n",
    "\n",
    "`/datasets/data.csv`"
   ]
  },
  {
   "cell_type": "code",
   "execution_count": 1,
   "id": "415d6329",
   "metadata": {
    "deletable": false,
    "id": "7bcf75c9"
   },
   "outputs": [],
   "source": [
    "import pandas as pd\n",
    "\n",
    "try:\n",
    "    data = pd.rad_csv('/datasets/data.csv')\n",
    "except:\n",
    "    data = pd.read_csv('https://code.s3.yandex.net/datasets/data.csv')"
   ]
  },
  {
   "cell_type": "markdown",
   "id": "d6f5a604",
   "metadata": {
    "deletable": false,
    "editable": false,
    "id": "b8038fe3"
   },
   "source": [
    "**Задание 2. Выведите первые 20 строчек датафрейма `data` на экран.**"
   ]
  },
  {
   "cell_type": "code",
   "execution_count": 2,
   "id": "f95f9903",
   "metadata": {
    "deletable": false,
    "id": "2a7cab99",
    "outputId": "1a8f3ef2-d323-4ec2-ddf7-89670b5944c4"
   },
   "outputs": [
    {
     "data": {
      "text/html": [
       "<div>\n",
       "<style scoped>\n",
       "    .dataframe tbody tr th:only-of-type {\n",
       "        vertical-align: middle;\n",
       "    }\n",
       "\n",
       "    .dataframe tbody tr th {\n",
       "        vertical-align: top;\n",
       "    }\n",
       "\n",
       "    .dataframe thead th {\n",
       "        text-align: right;\n",
       "    }\n",
       "</style>\n",
       "<table border=\"1\" class=\"dataframe\">\n",
       "  <thead>\n",
       "    <tr style=\"text-align: right;\">\n",
       "      <th></th>\n",
       "      <th>children</th>\n",
       "      <th>days_employed</th>\n",
       "      <th>dob_years</th>\n",
       "      <th>education</th>\n",
       "      <th>education_id</th>\n",
       "      <th>family_status</th>\n",
       "      <th>family_status_id</th>\n",
       "      <th>gender</th>\n",
       "      <th>income_type</th>\n",
       "      <th>debt</th>\n",
       "      <th>total_income</th>\n",
       "      <th>purpose</th>\n",
       "    </tr>\n",
       "  </thead>\n",
       "  <tbody>\n",
       "    <tr>\n",
       "      <th>0</th>\n",
       "      <td>1</td>\n",
       "      <td>-8437.673028</td>\n",
       "      <td>42</td>\n",
       "      <td>высшее</td>\n",
       "      <td>0</td>\n",
       "      <td>женат / замужем</td>\n",
       "      <td>0</td>\n",
       "      <td>F</td>\n",
       "      <td>сотрудник</td>\n",
       "      <td>0</td>\n",
       "      <td>253875.639453</td>\n",
       "      <td>покупка жилья</td>\n",
       "    </tr>\n",
       "    <tr>\n",
       "      <th>1</th>\n",
       "      <td>1</td>\n",
       "      <td>-4024.803754</td>\n",
       "      <td>36</td>\n",
       "      <td>среднее</td>\n",
       "      <td>1</td>\n",
       "      <td>женат / замужем</td>\n",
       "      <td>0</td>\n",
       "      <td>F</td>\n",
       "      <td>сотрудник</td>\n",
       "      <td>0</td>\n",
       "      <td>112080.014102</td>\n",
       "      <td>приобретение автомобиля</td>\n",
       "    </tr>\n",
       "    <tr>\n",
       "      <th>2</th>\n",
       "      <td>0</td>\n",
       "      <td>-5623.422610</td>\n",
       "      <td>33</td>\n",
       "      <td>Среднее</td>\n",
       "      <td>1</td>\n",
       "      <td>женат / замужем</td>\n",
       "      <td>0</td>\n",
       "      <td>M</td>\n",
       "      <td>сотрудник</td>\n",
       "      <td>0</td>\n",
       "      <td>145885.952297</td>\n",
       "      <td>покупка жилья</td>\n",
       "    </tr>\n",
       "    <tr>\n",
       "      <th>3</th>\n",
       "      <td>3</td>\n",
       "      <td>-4124.747207</td>\n",
       "      <td>32</td>\n",
       "      <td>среднее</td>\n",
       "      <td>1</td>\n",
       "      <td>женат / замужем</td>\n",
       "      <td>0</td>\n",
       "      <td>M</td>\n",
       "      <td>сотрудник</td>\n",
       "      <td>0</td>\n",
       "      <td>267628.550329</td>\n",
       "      <td>дополнительное образование</td>\n",
       "    </tr>\n",
       "    <tr>\n",
       "      <th>4</th>\n",
       "      <td>0</td>\n",
       "      <td>340266.072047</td>\n",
       "      <td>53</td>\n",
       "      <td>среднее</td>\n",
       "      <td>1</td>\n",
       "      <td>гражданский брак</td>\n",
       "      <td>1</td>\n",
       "      <td>F</td>\n",
       "      <td>пенсионер</td>\n",
       "      <td>0</td>\n",
       "      <td>158616.077870</td>\n",
       "      <td>сыграть свадьбу</td>\n",
       "    </tr>\n",
       "    <tr>\n",
       "      <th>5</th>\n",
       "      <td>0</td>\n",
       "      <td>-926.185831</td>\n",
       "      <td>27</td>\n",
       "      <td>высшее</td>\n",
       "      <td>0</td>\n",
       "      <td>гражданский брак</td>\n",
       "      <td>1</td>\n",
       "      <td>M</td>\n",
       "      <td>компаньон</td>\n",
       "      <td>0</td>\n",
       "      <td>255763.565419</td>\n",
       "      <td>покупка жилья</td>\n",
       "    </tr>\n",
       "    <tr>\n",
       "      <th>6</th>\n",
       "      <td>0</td>\n",
       "      <td>-2879.202052</td>\n",
       "      <td>43</td>\n",
       "      <td>высшее</td>\n",
       "      <td>0</td>\n",
       "      <td>женат / замужем</td>\n",
       "      <td>0</td>\n",
       "      <td>F</td>\n",
       "      <td>компаньон</td>\n",
       "      <td>0</td>\n",
       "      <td>240525.971920</td>\n",
       "      <td>операции с жильем</td>\n",
       "    </tr>\n",
       "    <tr>\n",
       "      <th>7</th>\n",
       "      <td>0</td>\n",
       "      <td>-152.779569</td>\n",
       "      <td>50</td>\n",
       "      <td>СРЕДНЕЕ</td>\n",
       "      <td>1</td>\n",
       "      <td>женат / замужем</td>\n",
       "      <td>0</td>\n",
       "      <td>M</td>\n",
       "      <td>сотрудник</td>\n",
       "      <td>0</td>\n",
       "      <td>135823.934197</td>\n",
       "      <td>образование</td>\n",
       "    </tr>\n",
       "    <tr>\n",
       "      <th>8</th>\n",
       "      <td>2</td>\n",
       "      <td>-6929.865299</td>\n",
       "      <td>35</td>\n",
       "      <td>ВЫСШЕЕ</td>\n",
       "      <td>0</td>\n",
       "      <td>гражданский брак</td>\n",
       "      <td>1</td>\n",
       "      <td>F</td>\n",
       "      <td>сотрудник</td>\n",
       "      <td>0</td>\n",
       "      <td>95856.832424</td>\n",
       "      <td>на проведение свадьбы</td>\n",
       "    </tr>\n",
       "    <tr>\n",
       "      <th>9</th>\n",
       "      <td>0</td>\n",
       "      <td>-2188.756445</td>\n",
       "      <td>41</td>\n",
       "      <td>среднее</td>\n",
       "      <td>1</td>\n",
       "      <td>женат / замужем</td>\n",
       "      <td>0</td>\n",
       "      <td>M</td>\n",
       "      <td>сотрудник</td>\n",
       "      <td>0</td>\n",
       "      <td>144425.938277</td>\n",
       "      <td>покупка жилья для семьи</td>\n",
       "    </tr>\n",
       "    <tr>\n",
       "      <th>10</th>\n",
       "      <td>2</td>\n",
       "      <td>-4171.483647</td>\n",
       "      <td>36</td>\n",
       "      <td>высшее</td>\n",
       "      <td>0</td>\n",
       "      <td>женат / замужем</td>\n",
       "      <td>0</td>\n",
       "      <td>M</td>\n",
       "      <td>компаньон</td>\n",
       "      <td>0</td>\n",
       "      <td>113943.491460</td>\n",
       "      <td>покупка недвижимости</td>\n",
       "    </tr>\n",
       "    <tr>\n",
       "      <th>11</th>\n",
       "      <td>0</td>\n",
       "      <td>-792.701887</td>\n",
       "      <td>40</td>\n",
       "      <td>среднее</td>\n",
       "      <td>1</td>\n",
       "      <td>женат / замужем</td>\n",
       "      <td>0</td>\n",
       "      <td>F</td>\n",
       "      <td>сотрудник</td>\n",
       "      <td>0</td>\n",
       "      <td>77069.234271</td>\n",
       "      <td>покупка коммерческой недвижимости</td>\n",
       "    </tr>\n",
       "    <tr>\n",
       "      <th>12</th>\n",
       "      <td>0</td>\n",
       "      <td>NaN</td>\n",
       "      <td>65</td>\n",
       "      <td>среднее</td>\n",
       "      <td>1</td>\n",
       "      <td>гражданский брак</td>\n",
       "      <td>1</td>\n",
       "      <td>M</td>\n",
       "      <td>пенсионер</td>\n",
       "      <td>0</td>\n",
       "      <td>NaN</td>\n",
       "      <td>сыграть свадьбу</td>\n",
       "    </tr>\n",
       "    <tr>\n",
       "      <th>13</th>\n",
       "      <td>0</td>\n",
       "      <td>-1846.641941</td>\n",
       "      <td>54</td>\n",
       "      <td>неоконченное высшее</td>\n",
       "      <td>2</td>\n",
       "      <td>женат / замужем</td>\n",
       "      <td>0</td>\n",
       "      <td>F</td>\n",
       "      <td>сотрудник</td>\n",
       "      <td>0</td>\n",
       "      <td>130458.228857</td>\n",
       "      <td>приобретение автомобиля</td>\n",
       "    </tr>\n",
       "    <tr>\n",
       "      <th>14</th>\n",
       "      <td>0</td>\n",
       "      <td>-1844.956182</td>\n",
       "      <td>56</td>\n",
       "      <td>высшее</td>\n",
       "      <td>0</td>\n",
       "      <td>гражданский брак</td>\n",
       "      <td>1</td>\n",
       "      <td>F</td>\n",
       "      <td>компаньон</td>\n",
       "      <td>1</td>\n",
       "      <td>165127.911772</td>\n",
       "      <td>покупка жилой недвижимости</td>\n",
       "    </tr>\n",
       "    <tr>\n",
       "      <th>15</th>\n",
       "      <td>1</td>\n",
       "      <td>-972.364419</td>\n",
       "      <td>26</td>\n",
       "      <td>среднее</td>\n",
       "      <td>1</td>\n",
       "      <td>женат / замужем</td>\n",
       "      <td>0</td>\n",
       "      <td>F</td>\n",
       "      <td>сотрудник</td>\n",
       "      <td>0</td>\n",
       "      <td>116820.904450</td>\n",
       "      <td>строительство собственной недвижимости</td>\n",
       "    </tr>\n",
       "    <tr>\n",
       "      <th>16</th>\n",
       "      <td>0</td>\n",
       "      <td>-1719.934226</td>\n",
       "      <td>35</td>\n",
       "      <td>среднее</td>\n",
       "      <td>1</td>\n",
       "      <td>женат / замужем</td>\n",
       "      <td>0</td>\n",
       "      <td>F</td>\n",
       "      <td>сотрудник</td>\n",
       "      <td>0</td>\n",
       "      <td>289202.704229</td>\n",
       "      <td>недвижимость</td>\n",
       "    </tr>\n",
       "    <tr>\n",
       "      <th>17</th>\n",
       "      <td>0</td>\n",
       "      <td>-2369.999720</td>\n",
       "      <td>33</td>\n",
       "      <td>высшее</td>\n",
       "      <td>0</td>\n",
       "      <td>гражданский брак</td>\n",
       "      <td>1</td>\n",
       "      <td>M</td>\n",
       "      <td>сотрудник</td>\n",
       "      <td>0</td>\n",
       "      <td>90410.586745</td>\n",
       "      <td>строительство недвижимости</td>\n",
       "    </tr>\n",
       "    <tr>\n",
       "      <th>18</th>\n",
       "      <td>0</td>\n",
       "      <td>400281.136913</td>\n",
       "      <td>53</td>\n",
       "      <td>среднее</td>\n",
       "      <td>1</td>\n",
       "      <td>вдовец / вдова</td>\n",
       "      <td>2</td>\n",
       "      <td>F</td>\n",
       "      <td>пенсионер</td>\n",
       "      <td>0</td>\n",
       "      <td>56823.777243</td>\n",
       "      <td>на покупку подержанного автомобиля</td>\n",
       "    </tr>\n",
       "    <tr>\n",
       "      <th>19</th>\n",
       "      <td>0</td>\n",
       "      <td>-10038.818549</td>\n",
       "      <td>48</td>\n",
       "      <td>СРЕДНЕЕ</td>\n",
       "      <td>1</td>\n",
       "      <td>в разводе</td>\n",
       "      <td>3</td>\n",
       "      <td>F</td>\n",
       "      <td>сотрудник</td>\n",
       "      <td>0</td>\n",
       "      <td>242831.107982</td>\n",
       "      <td>на покупку своего автомобиля</td>\n",
       "    </tr>\n",
       "  </tbody>\n",
       "</table>\n",
       "</div>"
      ],
      "text/plain": [
       "    children  days_employed  dob_years            education  education_id  \\\n",
       "0          1   -8437.673028         42               высшее             0   \n",
       "1          1   -4024.803754         36              среднее             1   \n",
       "2          0   -5623.422610         33              Среднее             1   \n",
       "3          3   -4124.747207         32              среднее             1   \n",
       "4          0  340266.072047         53              среднее             1   \n",
       "5          0    -926.185831         27               высшее             0   \n",
       "6          0   -2879.202052         43               высшее             0   \n",
       "7          0    -152.779569         50              СРЕДНЕЕ             1   \n",
       "8          2   -6929.865299         35               ВЫСШЕЕ             0   \n",
       "9          0   -2188.756445         41              среднее             1   \n",
       "10         2   -4171.483647         36               высшее             0   \n",
       "11         0    -792.701887         40              среднее             1   \n",
       "12         0            NaN         65              среднее             1   \n",
       "13         0   -1846.641941         54  неоконченное высшее             2   \n",
       "14         0   -1844.956182         56               высшее             0   \n",
       "15         1    -972.364419         26              среднее             1   \n",
       "16         0   -1719.934226         35              среднее             1   \n",
       "17         0   -2369.999720         33               высшее             0   \n",
       "18         0  400281.136913         53              среднее             1   \n",
       "19         0  -10038.818549         48              СРЕДНЕЕ             1   \n",
       "\n",
       "       family_status  family_status_id gender income_type  debt  \\\n",
       "0    женат / замужем                 0      F   сотрудник     0   \n",
       "1    женат / замужем                 0      F   сотрудник     0   \n",
       "2    женат / замужем                 0      M   сотрудник     0   \n",
       "3    женат / замужем                 0      M   сотрудник     0   \n",
       "4   гражданский брак                 1      F   пенсионер     0   \n",
       "5   гражданский брак                 1      M   компаньон     0   \n",
       "6    женат / замужем                 0      F   компаньон     0   \n",
       "7    женат / замужем                 0      M   сотрудник     0   \n",
       "8   гражданский брак                 1      F   сотрудник     0   \n",
       "9    женат / замужем                 0      M   сотрудник     0   \n",
       "10   женат / замужем                 0      M   компаньон     0   \n",
       "11   женат / замужем                 0      F   сотрудник     0   \n",
       "12  гражданский брак                 1      M   пенсионер     0   \n",
       "13   женат / замужем                 0      F   сотрудник     0   \n",
       "14  гражданский брак                 1      F   компаньон     1   \n",
       "15   женат / замужем                 0      F   сотрудник     0   \n",
       "16   женат / замужем                 0      F   сотрудник     0   \n",
       "17  гражданский брак                 1      M   сотрудник     0   \n",
       "18    вдовец / вдова                 2      F   пенсионер     0   \n",
       "19         в разводе                 3      F   сотрудник     0   \n",
       "\n",
       "     total_income                                 purpose  \n",
       "0   253875.639453                           покупка жилья  \n",
       "1   112080.014102                 приобретение автомобиля  \n",
       "2   145885.952297                           покупка жилья  \n",
       "3   267628.550329              дополнительное образование  \n",
       "4   158616.077870                         сыграть свадьбу  \n",
       "5   255763.565419                           покупка жилья  \n",
       "6   240525.971920                       операции с жильем  \n",
       "7   135823.934197                             образование  \n",
       "8    95856.832424                   на проведение свадьбы  \n",
       "9   144425.938277                 покупка жилья для семьи  \n",
       "10  113943.491460                    покупка недвижимости  \n",
       "11   77069.234271       покупка коммерческой недвижимости  \n",
       "12            NaN                         сыграть свадьбу  \n",
       "13  130458.228857                 приобретение автомобиля  \n",
       "14  165127.911772              покупка жилой недвижимости  \n",
       "15  116820.904450  строительство собственной недвижимости  \n",
       "16  289202.704229                            недвижимость  \n",
       "17   90410.586745              строительство недвижимости  \n",
       "18   56823.777243      на покупку подержанного автомобиля  \n",
       "19  242831.107982            на покупку своего автомобиля  "
      ]
     },
     "execution_count": 2,
     "metadata": {},
     "output_type": "execute_result"
    }
   ],
   "source": [
    "data.head(20)"
   ]
  },
  {
   "cell_type": "markdown",
   "id": "20fd5ce1",
   "metadata": {
    "deletable": false,
    "editable": false,
    "id": "1c12e233"
   },
   "source": [
    "**Задание 3. Выведите основную информацию о датафрейме с помощью метода `info()`.**"
   ]
  },
  {
   "cell_type": "code",
   "execution_count": 3,
   "id": "fb3e4b29",
   "metadata": {
    "deletable": false,
    "id": "2b757bca",
    "outputId": "15376089-8dad-46c9-b520-c05248d43158"
   },
   "outputs": [
    {
     "name": "stdout",
     "output_type": "stream",
     "text": [
      "<class 'pandas.core.frame.DataFrame'>\n",
      "RangeIndex: 21525 entries, 0 to 21524\n",
      "Data columns (total 12 columns):\n",
      " #   Column            Non-Null Count  Dtype  \n",
      "---  ------            --------------  -----  \n",
      " 0   children          21525 non-null  int64  \n",
      " 1   days_employed     19351 non-null  float64\n",
      " 2   dob_years         21525 non-null  int64  \n",
      " 3   education         21525 non-null  object \n",
      " 4   education_id      21525 non-null  int64  \n",
      " 5   family_status     21525 non-null  object \n",
      " 6   family_status_id  21525 non-null  int64  \n",
      " 7   gender            21525 non-null  object \n",
      " 8   income_type       21525 non-null  object \n",
      " 9   debt              21525 non-null  int64  \n",
      " 10  total_income      19351 non-null  float64\n",
      " 11  purpose           21525 non-null  object \n",
      "dtypes: float64(2), int64(5), object(5)\n",
      "memory usage: 2.0+ MB\n"
     ]
    }
   ],
   "source": [
    "data.info()"
   ]
  },
  {
   "cell_type": "markdown",
   "id": "68e9f208",
   "metadata": {
    "deletable": false,
    "editable": false,
    "id": "333ec665"
   },
   "source": [
    "## Предобработка данных"
   ]
  },
  {
   "cell_type": "markdown",
   "id": "301bf53d",
   "metadata": {
    "deletable": false,
    "editable": false,
    "id": "02d92d53"
   },
   "source": [
    "### Удаление пропусков"
   ]
  },
  {
   "cell_type": "markdown",
   "id": "940140fe",
   "metadata": {
    "deletable": false,
    "editable": false,
    "id": "cd84967c"
   },
   "source": [
    "**Задание 4. Выведите количество пропущенных значений для каждого столбца. Используйте комбинацию двух методов.**"
   ]
  },
  {
   "cell_type": "code",
   "execution_count": 4,
   "id": "56194565",
   "metadata": {
    "deletable": false,
    "id": "7f9b2309",
    "outputId": "81f4d817-781c-465c-ed15-91ce4446810d"
   },
   "outputs": [
    {
     "data": {
      "text/plain": [
       "children               0\n",
       "days_employed       2174\n",
       "dob_years              0\n",
       "education              0\n",
       "education_id           0\n",
       "family_status          0\n",
       "family_status_id       0\n",
       "gender                 0\n",
       "income_type            0\n",
       "debt                   0\n",
       "total_income        2174\n",
       "purpose                0\n",
       "dtype: int64"
      ]
     },
     "execution_count": 4,
     "metadata": {},
     "output_type": "execute_result"
    }
   ],
   "source": [
    "data.isna().sum()"
   ]
  },
  {
   "cell_type": "markdown",
   "id": "c9624bc9",
   "metadata": {
    "deletable": false,
    "editable": false,
    "id": "db86e27b"
   },
   "source": [
    "**Задание 5. В двух столбцах есть пропущенные значения. Один из них — `days_employed`. Пропуски в этом столбце вы обработаете на следующем этапе. Другой столбец с пропущенными значениями — `total_income` — хранит данные о доходах. На сумму дохода сильнее всего влияет тип занятости, поэтому заполнить пропуски в этом столбце нужно медианным значением по каждому типу из столбца `income_type`. Например, у человека с типом занятости `сотрудник` пропуск в столбце `total_income` должен быть заполнен медианным доходом среди всех записей с тем же типом.**"
   ]
  },
  {
   "cell_type": "code",
   "execution_count": 5,
   "id": "3f0ca0f7",
   "metadata": {
    "deletable": false,
    "id": "42006a93"
   },
   "outputs": [],
   "source": [
    "for t in data['income_type'].unique():\n",
    "    data.loc[(data['income_type'] == t) & (data['total_income'].isna()), 'total_income'] = \\\n",
    "    data.loc[(data['income_type'] == t), 'total_income'].median()"
   ]
  },
  {
   "cell_type": "markdown",
   "id": "2f09b6da",
   "metadata": {
    "deletable": false,
    "editable": false,
    "id": "89da5ece"
   },
   "source": [
    "### Обработка аномальных значений"
   ]
  },
  {
   "cell_type": "markdown",
   "id": "74f759d3",
   "metadata": {
    "deletable": false,
    "editable": false,
    "id": "57964554"
   },
   "source": [
    "**Задание 6. В данных могут встречаться артефакты (аномалии) — значения, которые не отражают действительность и появились по какой-то ошибке. таким артефактом будет отрицательное количество дней трудового стажа в столбце `days_employed`. Для реальных данных это нормально. Обработайте значения в этом столбце: замените все отрицательные значения положительными с помощью метода `abs()`.**"
   ]
  },
  {
   "cell_type": "code",
   "execution_count": 6,
   "id": "8b4c3d18",
   "metadata": {
    "deletable": false,
    "id": "f6f055bf"
   },
   "outputs": [],
   "source": [
    "data['days_employed'] = data['days_employed'].abs()"
   ]
  },
  {
   "cell_type": "markdown",
   "id": "4416d7ef",
   "metadata": {
    "deletable": false,
    "editable": false,
    "id": "6107dd2f"
   },
   "source": [
    "**Задание 7. Для каждого типа занятости выведите медианное значение трудового стажа `days_employed` в днях.**"
   ]
  },
  {
   "cell_type": "code",
   "execution_count": 7,
   "id": "591e1bf2",
   "metadata": {
    "deletable": false,
    "id": "85a5faf6",
    "outputId": "801ef80e-522b-4668-f34e-565af7432bcf"
   },
   "outputs": [
    {
     "data": {
      "text/plain": [
       "income_type\n",
       "безработный        366413.652744\n",
       "в декрете            3296.759962\n",
       "госслужащий          2689.368353\n",
       "компаньон            1547.382223\n",
       "пенсионер          365213.306266\n",
       "предприниматель       520.848083\n",
       "сотрудник            1574.202821\n",
       "студент               578.751554\n",
       "Name: days_employed, dtype: float64"
      ]
     },
     "execution_count": 7,
     "metadata": {},
     "output_type": "execute_result"
    }
   ],
   "source": [
    "data.groupby('income_type')['days_employed'].agg('median')"
   ]
  },
  {
   "cell_type": "markdown",
   "id": "b18f5fd9",
   "metadata": {
    "deletable": false,
    "editable": false,
    "id": "38d1a030"
   },
   "source": [
    "У двух типов (безработные и пенсионеры) получатся аномально большие значения. Исправить такие значения сложно, поэтому оставьте их как есть. Тем более этот столбец не понадобится вам для исследования."
   ]
  },
  {
   "cell_type": "markdown",
   "id": "84521c63",
   "metadata": {
    "deletable": false,
    "editable": false,
    "id": "d8a9f147"
   },
   "source": [
    "**Задание 8. Выведите перечень уникальных значений столбца `children`.**"
   ]
  },
  {
   "cell_type": "code",
   "execution_count": 8,
   "id": "24d1cc00",
   "metadata": {
    "deletable": false,
    "id": "ef5056eb",
    "outputId": "6975b15c-7f95-4697-d16d-a0c79b657b03"
   },
   "outputs": [
    {
     "data": {
      "text/plain": [
       "array([ 1,  0,  3,  2, -1,  4, 20,  5], dtype=int64)"
      ]
     },
     "execution_count": 8,
     "metadata": {},
     "output_type": "execute_result"
    }
   ],
   "source": [
    "data['children'].unique()"
   ]
  },
  {
   "cell_type": "markdown",
   "id": "e912c7d6",
   "metadata": {
    "deletable": false,
    "editable": false,
    "id": "40b9ebf2"
   },
   "source": [
    "**Задание 9. В столбце `children` есть два аномальных значения. Удалите строки, в которых встречаются такие аномальные значения из датафрейма `data`.**"
   ]
  },
  {
   "cell_type": "code",
   "execution_count": 9,
   "id": "2e4015ac",
   "metadata": {
    "deletable": false,
    "id": "3ff9801d"
   },
   "outputs": [],
   "source": [
    "data = data[(data['children'] != -1) & (data['children'] != 20)]"
   ]
  },
  {
   "cell_type": "markdown",
   "id": "2a1e03b7",
   "metadata": {
    "deletable": false,
    "editable": false,
    "id": "bbc4d0ce"
   },
   "source": [
    "**Задание 10. Ещё раз выведите перечень уникальных значений столбца `children`, чтобы убедиться, что артефакты удалены.**"
   ]
  },
  {
   "cell_type": "code",
   "execution_count": 10,
   "id": "a230c07b",
   "metadata": {
    "deletable": false,
    "id": "ad4fa8b7",
    "outputId": "b2097101-d49d-44d9-901b-32a65c9463d1"
   },
   "outputs": [
    {
     "data": {
      "text/plain": [
       "array([1, 0, 3, 2, 4, 5], dtype=int64)"
      ]
     },
     "execution_count": 10,
     "metadata": {},
     "output_type": "execute_result"
    }
   ],
   "source": [
    "data['children'].unique()"
   ]
  },
  {
   "cell_type": "markdown",
   "id": "3ca8459f",
   "metadata": {
    "deletable": false,
    "editable": false,
    "id": "75440b63"
   },
   "source": [
    "### Удаление пропусков (продолжение)"
   ]
  },
  {
   "cell_type": "markdown",
   "id": "bd626c6f",
   "metadata": {
    "deletable": false,
    "editable": false,
    "id": "f4ea573f"
   },
   "source": [
    "**Задание 11. Заполните пропуски в столбце `days_employed` медианными значениями по каждого типа занятости `income_type`.**"
   ]
  },
  {
   "cell_type": "code",
   "execution_count": 11,
   "id": "7c5b7ea3",
   "metadata": {
    "deletable": false,
    "id": "af6b1a7e"
   },
   "outputs": [],
   "source": [
    "for t in data['income_type'].unique():\n",
    "    data.loc[(data['income_type'] == t) & (data['days_employed'].isna()), 'days_employed'] = \\\n",
    "    data.loc[(data['income_type'] == t), 'days_employed'].median()"
   ]
  },
  {
   "cell_type": "markdown",
   "id": "cbc26aba",
   "metadata": {
    "deletable": false,
    "editable": false,
    "id": "2753f40d"
   },
   "source": [
    "**Задание 12. Убедитесь, что все пропуски заполнены. Проверьте себя и ещё раз выведите количество пропущенных значений для каждого столбца с помощью двух методов.**"
   ]
  },
  {
   "cell_type": "code",
   "execution_count": 12,
   "id": "5d32de26",
   "metadata": {
    "deletable": false,
    "id": "55f78bc2",
    "outputId": "8da1e4e1-358e-4e87-98c9-f261bce0a7b2"
   },
   "outputs": [
    {
     "data": {
      "text/plain": [
       "children            0\n",
       "days_employed       0\n",
       "dob_years           0\n",
       "education           0\n",
       "education_id        0\n",
       "family_status       0\n",
       "family_status_id    0\n",
       "gender              0\n",
       "income_type         0\n",
       "debt                0\n",
       "total_income        0\n",
       "purpose             0\n",
       "dtype: int64"
      ]
     },
     "execution_count": 12,
     "metadata": {},
     "output_type": "execute_result"
    }
   ],
   "source": [
    "data.isna().sum()"
   ]
  },
  {
   "cell_type": "markdown",
   "id": "4bf7d0e7",
   "metadata": {
    "deletable": false,
    "editable": false,
    "id": "ddc81e43"
   },
   "source": [
    "### Изменение типов данных"
   ]
  },
  {
   "cell_type": "markdown",
   "id": "57931726",
   "metadata": {
    "deletable": false,
    "editable": false,
    "id": "42d19d24"
   },
   "source": [
    "**Задание 13. Замените вещественный тип данных в столбце `total_income` на целочисленный с помощью метода `astype()`.**"
   ]
  },
  {
   "cell_type": "code",
   "execution_count": 13,
   "id": "58036836",
   "metadata": {
    "deletable": false,
    "id": "920b65ad"
   },
   "outputs": [],
   "source": [
    "data['total_income'] = data['total_income'].astype(int)"
   ]
  },
  {
   "cell_type": "markdown",
   "id": "f562d96b",
   "metadata": {
    "deletable": false,
    "editable": false,
    "id": "80c420ba"
   },
   "source": [
    "### Обработка дубликатов"
   ]
  },
  {
   "cell_type": "markdown",
   "id": "a3b532a0",
   "metadata": {
    "deletable": false,
    "editable": false
   },
   "source": [
    "**Задание 14. Обработайте неявные дубликаты в столбце `education`. В этом столбце есть одни и те же значения, но записанные по-разному: с использованием заглавных и строчных букв. Приведите их к нижнему регистру. Проверьте остальные столбцы.**"
   ]
  },
  {
   "cell_type": "code",
   "execution_count": 14,
   "id": "43272554",
   "metadata": {
    "deletable": false
   },
   "outputs": [],
   "source": [
    "data['education'] = data['education'].str.lower()"
   ]
  },
  {
   "cell_type": "markdown",
   "id": "f8c27a54",
   "metadata": {
    "deletable": false,
    "editable": false,
    "id": "dc587695"
   },
   "source": [
    "**Задание 15. Выведите на экран количество строк-дубликатов в данных. Если такие строки присутствуют, удалите их.**"
   ]
  },
  {
   "cell_type": "code",
   "execution_count": 15,
   "id": "43f8954a",
   "metadata": {
    "deletable": false,
    "id": "3ee445e4",
    "outputId": "9684deba-1934-42d1-99e1-cda61740f822"
   },
   "outputs": [
    {
     "data": {
      "text/plain": [
       "71"
      ]
     },
     "execution_count": 15,
     "metadata": {},
     "output_type": "execute_result"
    }
   ],
   "source": [
    "data.duplicated().sum()"
   ]
  },
  {
   "cell_type": "code",
   "execution_count": 16,
   "id": "af5e4fe0",
   "metadata": {
    "deletable": false,
    "id": "8575fe05"
   },
   "outputs": [],
   "source": [
    "data = data.drop_duplicates()"
   ]
  },
  {
   "cell_type": "markdown",
   "id": "1bc2c223",
   "metadata": {
    "deletable": false,
    "editable": false,
    "id": "9904cf55"
   },
   "source": [
    "### Категоризация данных"
   ]
  },
  {
   "cell_type": "markdown",
   "id": "fa8b132a",
   "metadata": {
    "deletable": false,
    "editable": false,
    "id": "72fcc8a2"
   },
   "source": [
    "**Задание 16. На основании диапазонов, указанных ниже, создайте в датафрейме `data` столбец `total_income_category` с категориями:**\n",
    "\n",
    "- 0–30000 — `'E'`;\n",
    "- 30001–50000 — `'D'`;\n",
    "- 50001–200000 — `'C'`;\n",
    "- 200001–1000000 — `'B'`;\n",
    "- 1000001 и выше — `'A'`.\n",
    "\n",
    "\n",
    "**Например, кредитополучателю с доходом 25000 нужно назначить категорию `'E'`, а клиенту, получающему 235000, — `'B'`. Используйте собственную функцию с именем `categorize_income()` и метод `apply()`.**"
   ]
  },
  {
   "cell_type": "code",
   "execution_count": 17,
   "id": "e26576db",
   "metadata": {
    "deletable": false,
    "id": "e1771346"
   },
   "outputs": [],
   "source": [
    "def categorize_income(income):\n",
    "    try:\n",
    "        if 0 <= income <= 30000:\n",
    "            return 'E'\n",
    "        elif 30001 <= income <= 50000:\n",
    "            return 'D'\n",
    "        elif 50001 <= income <= 200000:\n",
    "            return 'C'\n",
    "        elif 200001 <= income <= 1000000:\n",
    "            return 'B'\n",
    "        elif income >= 1000001:\n",
    "            return 'A'\n",
    "    except:\n",
    "        pass"
   ]
  },
  {
   "cell_type": "code",
   "execution_count": 18,
   "id": "447c95ec",
   "metadata": {
    "deletable": false,
    "id": "d5f3586d"
   },
   "outputs": [],
   "source": [
    "data['total_income_category'] = data['total_income'].apply(categorize_income)"
   ]
  },
  {
   "cell_type": "markdown",
   "id": "f7dc2b9a",
   "metadata": {
    "deletable": false,
    "editable": false,
    "id": "dde49b5c"
   },
   "source": [
    "**Задание 17. Выведите на экран перечень уникальных целей взятия кредита из столбца `purpose`.**"
   ]
  },
  {
   "cell_type": "code",
   "execution_count": 19,
   "id": "af1a6af4",
   "metadata": {
    "deletable": false,
    "id": "f67ce9b3",
    "outputId": "673c12d9-7d7e-4ae0-9812-c622c89dd244"
   },
   "outputs": [
    {
     "data": {
      "text/plain": [
       "array(['покупка жилья', 'приобретение автомобиля',\n",
       "       'дополнительное образование', 'сыграть свадьбу',\n",
       "       'операции с жильем', 'образование', 'на проведение свадьбы',\n",
       "       'покупка жилья для семьи', 'покупка недвижимости',\n",
       "       'покупка коммерческой недвижимости', 'покупка жилой недвижимости',\n",
       "       'строительство собственной недвижимости', 'недвижимость',\n",
       "       'строительство недвижимости', 'на покупку подержанного автомобиля',\n",
       "       'на покупку своего автомобиля',\n",
       "       'операции с коммерческой недвижимостью',\n",
       "       'строительство жилой недвижимости', 'жилье',\n",
       "       'операции со своей недвижимостью', 'автомобили',\n",
       "       'заняться образованием', 'сделка с подержанным автомобилем',\n",
       "       'получение образования', 'автомобиль', 'свадьба',\n",
       "       'получение дополнительного образования', 'покупка своего жилья',\n",
       "       'операции с недвижимостью', 'получение высшего образования',\n",
       "       'свой автомобиль', 'сделка с автомобилем',\n",
       "       'профильное образование', 'высшее образование',\n",
       "       'покупка жилья для сдачи', 'на покупку автомобиля', 'ремонт жилью',\n",
       "       'заняться высшим образованием'], dtype=object)"
      ]
     },
     "execution_count": 19,
     "metadata": {},
     "output_type": "execute_result"
    }
   ],
   "source": [
    "data['purpose'].unique()"
   ]
  },
  {
   "cell_type": "markdown",
   "id": "f7d70a5b",
   "metadata": {
    "deletable": false,
    "editable": false,
    "id": "85d0aef0"
   },
   "source": [
    "**Задание 18. Создайте функцию, которая на основании данных из столбца `purpose` сформирует новый столбец `purpose_category`, в который войдут следующие категории:**\n",
    "\n",
    "- `'операции с автомобилем'`,\n",
    "- `'операции с недвижимостью'`,\n",
    "- `'проведение свадьбы'`,\n",
    "- `'получение образования'`.\n",
    "\n",
    "**Например, если в столбце `purpose` находится подстрока `'на покупку автомобиля'`, то в столбце `purpose_category` должна появиться строка `'операции с автомобилем'`.**\n",
    "\n",
    "**Используйте собственную функцию с именем `categorize_purpose()` и метод `apply()`. Изучите данные в столбце `purpose` и определите, какие подстроки помогут вам правильно определить категорию.**"
   ]
  },
  {
   "cell_type": "code",
   "execution_count": 20,
   "id": "99f09c1a",
   "metadata": {
    "deletable": false,
    "id": "e149fab4"
   },
   "outputs": [],
   "source": [
    "def categorize_purpose(row):\n",
    "    try:\n",
    "        if 'автом' in row:\n",
    "            return 'операции с автомобилем'\n",
    "        elif 'жил' in row or 'недвиж' in row:\n",
    "            return 'операции с недвижимостью'\n",
    "        elif 'свад' in row:\n",
    "            return 'проведение свадьбы'\n",
    "        elif 'образов' in row:\n",
    "            return 'получение образования'\n",
    "    except:\n",
    "        return 'нет категории'"
   ]
  },
  {
   "cell_type": "code",
   "execution_count": 21,
   "id": "62b516d3",
   "metadata": {
    "deletable": false,
    "id": "bf36e69b"
   },
   "outputs": [],
   "source": [
    "data['purpose_category'] = data['purpose'].apply(categorize_purpose)"
   ]
  },
  {
   "cell_type": "markdown",
   "id": "ab3354db",
   "metadata": {
    "deletable": false,
    "editable": false,
    "id": "09b242bf"
   },
   "source": [
    "### Шаг 3. Исследуйте данные и ответьте на вопросы"
   ]
  },
  {
   "cell_type": "markdown",
   "id": "255a2f1c",
   "metadata": {
    "deletable": false,
    "editable": false,
    "id": "c5d66278"
   },
   "source": [
    "#### 3.1 Есть ли зависимость между количеством детей и возвратом кредита в срок?"
   ]
  },
  {
   "cell_type": "code",
   "execution_count": 22,
   "id": "73f4289d",
   "metadata": {
    "deletable": false,
    "id": "2cacfc4a",
    "scrolled": false
   },
   "outputs": [
    {
     "data": {
      "text/html": [
       "<div>\n",
       "<style scoped>\n",
       "    .dataframe tbody tr th:only-of-type {\n",
       "        vertical-align: middle;\n",
       "    }\n",
       "\n",
       "    .dataframe tbody tr th {\n",
       "        vertical-align: top;\n",
       "    }\n",
       "\n",
       "    .dataframe thead tr th {\n",
       "        text-align: left;\n",
       "    }\n",
       "\n",
       "    .dataframe thead tr:last-of-type th {\n",
       "        text-align: right;\n",
       "    }\n",
       "</style>\n",
       "<table border=\"1\" class=\"dataframe\">\n",
       "  <thead>\n",
       "    <tr>\n",
       "      <th></th>\n",
       "      <th>count</th>\n",
       "      <th>sum</th>\n",
       "      <th>mean</th>\n",
       "      <th>mean,%</th>\n",
       "      <th>of_all_credit,%</th>\n",
       "    </tr>\n",
       "    <tr>\n",
       "      <th></th>\n",
       "      <th>debt</th>\n",
       "      <th>debt</th>\n",
       "      <th>debt</th>\n",
       "      <th></th>\n",
       "      <th></th>\n",
       "    </tr>\n",
       "    <tr>\n",
       "      <th>children</th>\n",
       "      <th></th>\n",
       "      <th></th>\n",
       "      <th></th>\n",
       "      <th></th>\n",
       "      <th></th>\n",
       "    </tr>\n",
       "  </thead>\n",
       "  <tbody>\n",
       "    <tr>\n",
       "      <th>0</th>\n",
       "      <td>14091</td>\n",
       "      <td>1063</td>\n",
       "      <td>0.075438</td>\n",
       "      <td>7.543822</td>\n",
       "      <td>66.058788</td>\n",
       "    </tr>\n",
       "    <tr>\n",
       "      <th>1</th>\n",
       "      <td>4808</td>\n",
       "      <td>444</td>\n",
       "      <td>0.092346</td>\n",
       "      <td>9.234609</td>\n",
       "      <td>22.539965</td>\n",
       "    </tr>\n",
       "    <tr>\n",
       "      <th>2</th>\n",
       "      <td>2052</td>\n",
       "      <td>194</td>\n",
       "      <td>0.094542</td>\n",
       "      <td>9.454191</td>\n",
       "      <td>9.619802</td>\n",
       "    </tr>\n",
       "    <tr>\n",
       "      <th>3</th>\n",
       "      <td>330</td>\n",
       "      <td>27</td>\n",
       "      <td>0.081818</td>\n",
       "      <td>8.181818</td>\n",
       "      <td>1.547044</td>\n",
       "    </tr>\n",
       "    <tr>\n",
       "      <th>4</th>\n",
       "      <td>41</td>\n",
       "      <td>4</td>\n",
       "      <td>0.097561</td>\n",
       "      <td>9.756098</td>\n",
       "      <td>0.192209</td>\n",
       "    </tr>\n",
       "    <tr>\n",
       "      <th>5</th>\n",
       "      <td>9</td>\n",
       "      <td>0</td>\n",
       "      <td>0.000000</td>\n",
       "      <td>0.000000</td>\n",
       "      <td>0.042192</td>\n",
       "    </tr>\n",
       "  </tbody>\n",
       "</table>\n",
       "</div>"
      ],
      "text/plain": [
       "          count   sum      mean    mean,% of_all_credit,%\n",
       "           debt  debt      debt                          \n",
       "children                                                 \n",
       "0         14091  1063  0.075438  7.543822       66.058788\n",
       "1          4808   444  0.092346  9.234609       22.539965\n",
       "2          2052   194  0.094542  9.454191        9.619802\n",
       "3           330    27  0.081818  8.181818        1.547044\n",
       "4            41     4  0.097561  9.756098        0.192209\n",
       "5             9     0  0.000000  0.000000        0.042192"
      ]
     },
     "metadata": {},
     "output_type": "display_data"
    }
   ],
   "source": [
    "data_pivot = data.pivot_table(index=['children'], values='debt', aggfunc = ['count', 'sum', 'mean']) # делаем сводную таблицу по кол-во детей у заемщика\n",
    "data_pivot ['mean,%'] = data_pivot ['mean'] * 100 # поулчаем снеднее невозращенных в срок кредтитов от взятых в каждой отдельбной категории по кол-детей у заемщика\n",
    "data_pivot ['of_all_credit,%'] = data_pivot ['count'] / data['debt'].count() * 100 # процент каждой выборки от общего кол-во кредитов\n",
    "display(data_pivot)\n",
    "\n"
   ]
  },
  {
   "cell_type": "markdown",
   "id": "d29c44b7",
   "metadata": {
    "deletable": false,
    "id": "3a6b99ec"
   },
   "source": [
    "**Вывод:** \n",
    "Из полученных данных видно, что зависимость между количеством детей и возвратом кредита в срок минимальна:\n",
    "\n",
    "Меньше всего проблем с возвратом кредита у людей у которых 5 детей (0% задолжностей). Однако выборка этих людей в доле взятия кредитов представлена недостаточно для достоверности анализа.\n",
    "- 5 детей (0.04% от общего кол-ва кредитов - 0% задолжностей)\n",
    "\n",
    "Хорошие показатели по сравнению с остальными показывают заемщики без детей:\n",
    "- без детей (66% от общего кол-ва кредитов - 7,5% задолжностей)\n",
    "\n",
    "Остальная выборка категорий семей у кого 1,2,3,4 детей имеет примерно равные проценты невозврата кредита в срок, несмотря на сильный разброс представления этих категорий в данных:\n",
    "- 1 ребенок (22,5% от общего кол-ва кредитов - 9.23% задолжностей)  \n",
    "- 2 ребенок (9.61% от общего кол-ва кредитов - 9.45% задолжностей)  \n",
    "- 3 ребенка (1.54% от общего кол-ва кредитов - 8.18% задолжностей)  \n",
    "- 4 ребенка (0.19% от общего кол-ва кредитов - 9.75% задолжностей) \n",
    " "
   ]
  },
  {
   "cell_type": "markdown",
   "id": "8d4ab387",
   "metadata": {
    "deletable": false,
    "editable": false,
    "id": "97be82ca"
   },
   "source": [
    "#### 3.2 Есть ли зависимость между семейным положением и возвратом кредита в срок?"
   ]
  },
  {
   "cell_type": "code",
   "execution_count": 23,
   "id": "54c48fd8",
   "metadata": {
    "scrolled": true
   },
   "outputs": [
    {
     "data": {
      "text/plain": [
       "family_status_id\n",
       "0          [женат / замужем]\n",
       "1         [гражданский брак]\n",
       "2           [вдовец / вдова]\n",
       "3                [в разводе]\n",
       "4    [Не женат / не замужем]\n",
       "Name: family_status, dtype: object"
      ]
     },
     "execution_count": 23,
     "metadata": {},
     "output_type": "execute_result"
    }
   ],
   "source": [
    "data.groupby('family_status_id')['family_status'].unique() #вывел уникальные значения чтобы посмотреть какой номер id означает какой статус"
   ]
  },
  {
   "cell_type": "code",
   "execution_count": 24,
   "id": "17f67748",
   "metadata": {
    "deletable": false,
    "id": "dc3f7ee8"
   },
   "outputs": [
    {
     "data": {
      "text/html": [
       "<div>\n",
       "<style scoped>\n",
       "    .dataframe tbody tr th:only-of-type {\n",
       "        vertical-align: middle;\n",
       "    }\n",
       "\n",
       "    .dataframe tbody tr th {\n",
       "        vertical-align: top;\n",
       "    }\n",
       "\n",
       "    .dataframe thead tr th {\n",
       "        text-align: left;\n",
       "    }\n",
       "\n",
       "    .dataframe thead tr:last-of-type th {\n",
       "        text-align: right;\n",
       "    }\n",
       "</style>\n",
       "<table border=\"1\" class=\"dataframe\">\n",
       "  <thead>\n",
       "    <tr>\n",
       "      <th></th>\n",
       "      <th>count</th>\n",
       "      <th>sum</th>\n",
       "      <th>mean</th>\n",
       "      <th>mean,%</th>\n",
       "      <th>of_all_credit,%</th>\n",
       "    </tr>\n",
       "    <tr>\n",
       "      <th></th>\n",
       "      <th>debt</th>\n",
       "      <th>debt</th>\n",
       "      <th>debt</th>\n",
       "      <th></th>\n",
       "      <th></th>\n",
       "    </tr>\n",
       "    <tr>\n",
       "      <th>family_status_id</th>\n",
       "      <th></th>\n",
       "      <th></th>\n",
       "      <th></th>\n",
       "      <th></th>\n",
       "      <th></th>\n",
       "    </tr>\n",
       "  </thead>\n",
       "  <tbody>\n",
       "    <tr>\n",
       "      <th>0</th>\n",
       "      <td>12261</td>\n",
       "      <td>927</td>\n",
       "      <td>0.075606</td>\n",
       "      <td>7.560558</td>\n",
       "      <td>57.479724</td>\n",
       "    </tr>\n",
       "    <tr>\n",
       "      <th>1</th>\n",
       "      <td>4134</td>\n",
       "      <td>385</td>\n",
       "      <td>0.093130</td>\n",
       "      <td>9.313014</td>\n",
       "      <td>19.380245</td>\n",
       "    </tr>\n",
       "    <tr>\n",
       "      <th>2</th>\n",
       "      <td>951</td>\n",
       "      <td>63</td>\n",
       "      <td>0.066246</td>\n",
       "      <td>6.624606</td>\n",
       "      <td>4.458300</td>\n",
       "    </tr>\n",
       "    <tr>\n",
       "      <th>3</th>\n",
       "      <td>1189</td>\n",
       "      <td>84</td>\n",
       "      <td>0.070648</td>\n",
       "      <td>7.064760</td>\n",
       "      <td>5.574047</td>\n",
       "    </tr>\n",
       "    <tr>\n",
       "      <th>4</th>\n",
       "      <td>2796</td>\n",
       "      <td>273</td>\n",
       "      <td>0.097639</td>\n",
       "      <td>9.763948</td>\n",
       "      <td>13.107684</td>\n",
       "    </tr>\n",
       "  </tbody>\n",
       "</table>\n",
       "</div>"
      ],
      "text/plain": [
       "                  count  sum      mean    mean,% of_all_credit,%\n",
       "                   debt debt      debt                          \n",
       "family_status_id                                                \n",
       "0                 12261  927  0.075606  7.560558       57.479724\n",
       "1                  4134  385  0.093130  9.313014       19.380245\n",
       "2                   951   63  0.066246  6.624606        4.458300\n",
       "3                  1189   84  0.070648  7.064760        5.574047\n",
       "4                  2796  273  0.097639  9.763948       13.107684"
      ]
     },
     "metadata": {},
     "output_type": "display_data"
    }
   ],
   "source": [
    "data_pivot = data.pivot_table(index=['family_status_id'], values='debt', aggfunc = ['count', 'sum', 'mean']) # делаем сводную таблицу по семейному положению заемщика\n",
    "data_pivot ['mean,%'] = data_pivot ['mean'] * 100 # получаем снеднее невозращенных в срок кредтитов от взятых в каждой отдельбной категории по семейному положению заемщика\n",
    "data_pivot ['of_all_credit,%'] = data_pivot ['count'] / data['debt'].count() * 100 # процент каждой выборки от общего кол-во кредитов\n",
    "display (data_pivot)"
   ]
  },
  {
   "cell_type": "markdown",
   "id": "29af6316",
   "metadata": {
    "deletable": false,
    "id": "1cef7837"
   },
   "source": [
    "**Вывод:** \n",
    "Из полученных данных видно, что зависимость между семейным положением и возвратом кредита в срок минимальна:\n",
    "\n",
    "Меньше всего проблем с возвратом кредита у людей которые у которые лишились супруга/супруги:\n",
    "- **2** вдовец / вдова (4.45% от общего кол-ва кредитов - 6.6% задолжностей)\n",
    "\n",
    "Далее идут женатые/замужние и те кто в разводе:\n",
    "- **3** в разводе (5.57% от общего кол-ва кредитов - 7.0% задолжностей)\n",
    "- **0** женат / замужем (57.47% от общего кол-ва кредитов - 7,5% задолжностей)\n",
    "\n",
    "С показателем более 9 процентов невозврата идут:\n",
    "- **1** гражданский брак (19.38% от общего кол-ва кредитов - 9.3% задолжностей)\n",
    "- **4** Не женат / не замужем (13.10% от общего кол-ва кредитов - 9.7% задолжностей)"
   ]
  },
  {
   "cell_type": "markdown",
   "id": "dce63d57",
   "metadata": {
    "deletable": false,
    "editable": false,
    "id": "1e8b2fca"
   },
   "source": [
    "#### 3.3 Есть ли зависимость между уровнем дохода и возвратом кредита в срок?"
   ]
  },
  {
   "cell_type": "code",
   "execution_count": 25,
   "id": "985754c1",
   "metadata": {
    "deletable": false,
    "id": "cd7e3720"
   },
   "outputs": [
    {
     "data": {
      "text/html": [
       "<div>\n",
       "<style scoped>\n",
       "    .dataframe tbody tr th:only-of-type {\n",
       "        vertical-align: middle;\n",
       "    }\n",
       "\n",
       "    .dataframe tbody tr th {\n",
       "        vertical-align: top;\n",
       "    }\n",
       "\n",
       "    .dataframe thead tr th {\n",
       "        text-align: left;\n",
       "    }\n",
       "\n",
       "    .dataframe thead tr:last-of-type th {\n",
       "        text-align: right;\n",
       "    }\n",
       "</style>\n",
       "<table border=\"1\" class=\"dataframe\">\n",
       "  <thead>\n",
       "    <tr>\n",
       "      <th></th>\n",
       "      <th>count</th>\n",
       "      <th>sum</th>\n",
       "      <th>mean</th>\n",
       "      <th>mean,%</th>\n",
       "      <th>of_all_credit,%</th>\n",
       "    </tr>\n",
       "    <tr>\n",
       "      <th></th>\n",
       "      <th>debt</th>\n",
       "      <th>debt</th>\n",
       "      <th>debt</th>\n",
       "      <th></th>\n",
       "      <th></th>\n",
       "    </tr>\n",
       "    <tr>\n",
       "      <th>total_income_category</th>\n",
       "      <th></th>\n",
       "      <th></th>\n",
       "      <th></th>\n",
       "      <th></th>\n",
       "      <th></th>\n",
       "    </tr>\n",
       "  </thead>\n",
       "  <tbody>\n",
       "    <tr>\n",
       "      <th>A</th>\n",
       "      <td>25</td>\n",
       "      <td>2</td>\n",
       "      <td>0.080000</td>\n",
       "      <td>8.000000</td>\n",
       "      <td>0.117200</td>\n",
       "    </tr>\n",
       "    <tr>\n",
       "      <th>B</th>\n",
       "      <td>5014</td>\n",
       "      <td>354</td>\n",
       "      <td>0.070602</td>\n",
       "      <td>7.060231</td>\n",
       "      <td>23.505696</td>\n",
       "    </tr>\n",
       "    <tr>\n",
       "      <th>C</th>\n",
       "      <td>15921</td>\n",
       "      <td>1353</td>\n",
       "      <td>0.084982</td>\n",
       "      <td>8.498210</td>\n",
       "      <td>74.637851</td>\n",
       "    </tr>\n",
       "    <tr>\n",
       "      <th>D</th>\n",
       "      <td>349</td>\n",
       "      <td>21</td>\n",
       "      <td>0.060172</td>\n",
       "      <td>6.017192</td>\n",
       "      <td>1.636116</td>\n",
       "    </tr>\n",
       "    <tr>\n",
       "      <th>E</th>\n",
       "      <td>22</td>\n",
       "      <td>2</td>\n",
       "      <td>0.090909</td>\n",
       "      <td>9.090909</td>\n",
       "      <td>0.103136</td>\n",
       "    </tr>\n",
       "  </tbody>\n",
       "</table>\n",
       "</div>"
      ],
      "text/plain": [
       "                       count   sum      mean    mean,% of_all_credit,%\n",
       "                        debt  debt      debt                          \n",
       "total_income_category                                                 \n",
       "A                         25     2  0.080000  8.000000        0.117200\n",
       "B                       5014   354  0.070602  7.060231       23.505696\n",
       "C                      15921  1353  0.084982  8.498210       74.637851\n",
       "D                        349    21  0.060172  6.017192        1.636116\n",
       "E                         22     2  0.090909  9.090909        0.103136"
      ]
     },
     "metadata": {},
     "output_type": "display_data"
    }
   ],
   "source": [
    "data_pivot = data.pivot_table(index=['total_income_category'], values='debt', aggfunc = ['count', 'sum', 'mean']) # делаем сводную таблицу по категории дохода заемщика\n",
    "data_pivot ['mean,%'] = data_pivot ['mean'] * 100 # поулчаем снеднее невозращенных в срок кредтитов от взятых в каждой отдельбной категории по категории дохода заемщика\n",
    "data_pivot ['of_all_credit,%'] = data_pivot ['count'] / data['debt'].count() * 100 # процент каждой категории от общего кол-во кредитов\n",
    "\n",
    "display (data_pivot)"
   ]
  },
  {
   "cell_type": "markdown",
   "id": "d6f7d65c",
   "metadata": {
    "deletable": false,
    "id": "e8593def"
   },
   "source": [
    "**Вывод:** \n",
    "\n",
    "Из полученных данных видно, что зависимость между доходом и возвратом кредита в срок есть:\n",
    "\n",
    "Меньше всего проблем с возвратом кредита у людей категории среднего дохода **D**, но они представленны малой частью от общего кол-ва заемщиков:\n",
    "- Категория D (1.6% от общего кол-ва кредитов - 6.0% задолжностей)\n",
    "\n",
    "Далее идут люди категории высокого дохода **B**:\n",
    "- Категория B (23.5% от общего кол-ва кредитов - 7.0% задолжностей)\n",
    "\n",
    "Следующие по ненадежности люди категории с самым высоким доходом - **A** и люди со среднем доходом **С**:\n",
    "- Категория A (0.11% от общего кол-ва кредитов - 8.0% задолжностей)\n",
    "- Категория C (74.6% от общего кол-ва кредитов - 8.4% задолжностей)\n",
    "\n",
    "Самые ненадежные - люди с маленьким доходом из категории **Е**:\n",
    "- Категория E (0.1% от общего кол-ва кредитов - 9.0% задолжностей)"
   ]
  },
  {
   "cell_type": "markdown",
   "id": "d4ff68ac",
   "metadata": {
    "deletable": false,
    "editable": false,
    "id": "99ecbd1f"
   },
   "source": [
    "#### 3.4 Как разные цели кредита влияют на его возврат в срок?"
   ]
  },
  {
   "cell_type": "code",
   "execution_count": 26,
   "id": "bea1ace1",
   "metadata": {
    "deletable": false,
    "id": "2b687290"
   },
   "outputs": [
    {
     "data": {
      "text/html": [
       "<div>\n",
       "<style scoped>\n",
       "    .dataframe tbody tr th:only-of-type {\n",
       "        vertical-align: middle;\n",
       "    }\n",
       "\n",
       "    .dataframe tbody tr th {\n",
       "        vertical-align: top;\n",
       "    }\n",
       "\n",
       "    .dataframe thead tr th {\n",
       "        text-align: left;\n",
       "    }\n",
       "\n",
       "    .dataframe thead tr:last-of-type th {\n",
       "        text-align: right;\n",
       "    }\n",
       "</style>\n",
       "<table border=\"1\" class=\"dataframe\">\n",
       "  <thead>\n",
       "    <tr>\n",
       "      <th></th>\n",
       "      <th>count</th>\n",
       "      <th>sum</th>\n",
       "      <th>mean</th>\n",
       "      <th>of_all_credit,%</th>\n",
       "    </tr>\n",
       "    <tr>\n",
       "      <th></th>\n",
       "      <th>debt</th>\n",
       "      <th>debt</th>\n",
       "      <th>debt</th>\n",
       "      <th></th>\n",
       "    </tr>\n",
       "    <tr>\n",
       "      <th>purpose_category</th>\n",
       "      <th></th>\n",
       "      <th></th>\n",
       "      <th></th>\n",
       "      <th></th>\n",
       "    </tr>\n",
       "  </thead>\n",
       "  <tbody>\n",
       "    <tr>\n",
       "      <th>операции с автомобилем</th>\n",
       "      <td>4279</td>\n",
       "      <td>400</td>\n",
       "      <td>0.093480</td>\n",
       "      <td>20.060007</td>\n",
       "    </tr>\n",
       "    <tr>\n",
       "      <th>операции с недвижимостью</th>\n",
       "      <td>10751</td>\n",
       "      <td>780</td>\n",
       "      <td>0.072551</td>\n",
       "      <td>50.400825</td>\n",
       "    </tr>\n",
       "    <tr>\n",
       "      <th>получение образования</th>\n",
       "      <td>3988</td>\n",
       "      <td>369</td>\n",
       "      <td>0.092528</td>\n",
       "      <td>18.695795</td>\n",
       "    </tr>\n",
       "    <tr>\n",
       "      <th>проведение свадьбы</th>\n",
       "      <td>2313</td>\n",
       "      <td>183</td>\n",
       "      <td>0.079118</td>\n",
       "      <td>10.843373</td>\n",
       "    </tr>\n",
       "  </tbody>\n",
       "</table>\n",
       "</div>"
      ],
      "text/plain": [
       "                          count  sum      mean of_all_credit,%\n",
       "                           debt debt      debt                \n",
       "purpose_category                                              \n",
       "операции с автомобилем     4279  400  0.093480       20.060007\n",
       "операции с недвижимостью  10751  780  0.072551       50.400825\n",
       "получение образования      3988  369  0.092528       18.695795\n",
       "проведение свадьбы         2313  183  0.079118       10.843373"
      ]
     },
     "metadata": {},
     "output_type": "display_data"
    }
   ],
   "source": [
    "data_pivot = data.pivot_table(index=['purpose_category'], values='debt', aggfunc = ['count', 'sum', 'mean']) \n",
    "data_pivot ['of_all_credit,%'] = data_pivot ['count'] / data['debt'].count() * 100 \n",
    "display (data_pivot)"
   ]
  },
  {
   "cell_type": "markdown",
   "id": "69b83448",
   "metadata": {
    "deletable": false,
    "id": "b4bb2ce6"
   },
   "source": [
    "**Вывод:** \n",
    "Из полученных данных видно, что зависимость целью кредита и возвратом кредита в срок есть:\n",
    "\n",
    "Люди чаще платят по кредитам, если берут его с целью взять недвижимость или сыграть свадьбу:\n",
    "- операции с недвижимостью (50.4% от общего кол-ва кредитов - 7.2% задолжностей)\n",
    "- проведение свадьбы (10.8% от общего кол-ва кредитов - 7.9% задолжностей)\n",
    "\n",
    "Меньше платят по задолжностям те кто берут кредиты на образование и на покупку автомобиля:\n",
    "- получение образовани (18.6% от общего кол-ва кредитов - 9.3% задолжностей)\n",
    "- операции с автомобилем (20.0% от общего кол-ва кредитов - 9.2% задолжностей)"
   ]
  },
  {
   "cell_type": "markdown",
   "id": "4b30a741",
   "metadata": {
    "deletable": false,
    "editable": false,
    "id": "09c3ac4c"
   },
   "source": [
    "#### 3.5 Приведите возможные причины появления пропусков в исходных данных."
   ]
  },
  {
   "cell_type": "markdown",
   "id": "98c6c2e5",
   "metadata": {
    "deletable": false,
    "id": "9da2ceda"
   },
   "source": [
    "*Ответ:* В данных встречается одинаковое кол-во пропусков в двух столбцах: \"Доходы\" и \"Стаж\". Скорее всего - это пропуски, которые зависят от друг от друга. Причина может крыться в ошибке которая произошла на стороне клиента или техничеком сбое. Также, может иметь место человеческий фактор.  "
   ]
  },
  {
   "cell_type": "markdown",
   "id": "5c1f0bda",
   "metadata": {
    "deletable": false,
    "editable": false,
    "id": "7b0487d6"
   },
   "source": [
    "#### 3.6 Объясните, почему заполнить пропуски медианным значением — лучшее решение для количественных переменных."
   ]
  },
  {
   "cell_type": "markdown",
   "id": "64d29520",
   "metadata": {
    "deletable": false,
    "id": "7ecf2b8e"
   },
   "source": [
    "*Ответ:* В случае с текущим кейсом, заполнение трудового стажа и дохода было лучшим решением из-за большого разброса значений как в трудовом стаже, так и в доходах. "
   ]
  },
  {
   "cell_type": "markdown",
   "id": "5ff41d7c",
   "metadata": {
    "deletable": false,
    "editable": false,
    "id": "6db5255a"
   },
   "source": [
    "### Шаг 4: общий вывод."
   ]
  },
  {
   "cell_type": "markdown",
   "id": "ab7aa563",
   "metadata": {
    "deletable": false,
    "id": "bad65432"
   },
   "source": [
    "Напишите ваш общий вывод.\n",
    "\n",
    "В процессе исследования надежности заемщиков, в перую очередь была проведена работа по предобработке данных представленные компанией. В  данных были полностью обработаны аномальные значения, удалены пропуски и произведена обработка дупликатов. В результате этой работы, данные были подготовлены к полноценному исследованию. Мы произвели категоризацию разных групп заемщиков с целью выявления зависимостей и закономерностей, которые помогут обьяснить и предсказать надежность будущих заемщиков: \n",
    "\n",
    "- Наличие детей у заемщиков повышает риск невозврата кредита в срок.\n",
    "- Люди которые находятся в официальных семейных отношениях и те которые из этих отношений вышли чаше возвращают кредиты, чем те, которые состоят в неофицаильных отношениях или никогда в них не состояли.\n",
    "- Граждане с самыми маленькими доходами чаще других подвержену риску к образованию задолженостей.\n",
    "- Люди которые берут деньги на свадьбу и на операции с недвижемостью возвращают кредиты чаще, чем те кто берет на такие цели как образование и покапка автомобиля"
   ]
  }
 ],
 "metadata": {
  "ExecuteTimeLog": [
   {
    "duration": 44,
    "start_time": "2023-02-07T07:52:34.531Z"
   },
   {
    "duration": 7,
    "start_time": "2023-02-07T07:52:39.768Z"
   },
   {
    "duration": 6,
    "start_time": "2023-02-07T07:52:39.902Z"
   },
   {
    "duration": 3,
    "start_time": "2023-02-07T07:52:41.424Z"
   },
   {
    "duration": 4,
    "start_time": "2023-02-07T07:52:44.376Z"
   },
   {
    "duration": 662,
    "start_time": "2023-02-07T07:52:48.408Z"
   },
   {
    "duration": 68,
    "start_time": "2023-02-07T07:52:52.167Z"
   },
   {
    "duration": 22,
    "start_time": "2023-02-07T07:52:53.130Z"
   },
   {
    "duration": 17,
    "start_time": "2023-02-07T07:52:55.095Z"
   },
   {
    "duration": 9,
    "start_time": "2023-02-07T07:52:56.200Z"
   },
   {
    "duration": 33,
    "start_time": "2023-02-07T07:52:56.984Z"
   },
   {
    "duration": 3,
    "start_time": "2023-02-07T07:52:58.208Z"
   },
   {
    "duration": 8,
    "start_time": "2023-02-07T07:52:58.999Z"
   },
   {
    "duration": 5,
    "start_time": "2023-02-07T07:53:00.160Z"
   },
   {
    "duration": 7,
    "start_time": "2023-02-07T07:53:00.560Z"
   },
   {
    "duration": 4,
    "start_time": "2023-02-07T07:53:00.992Z"
   },
   {
    "duration": 44,
    "start_time": "2023-02-07T07:53:01.568Z"
   },
   {
    "duration": 11,
    "start_time": "2023-02-07T07:53:01.992Z"
   },
   {
    "duration": 4,
    "start_time": "2023-02-07T07:53:02.783Z"
   },
   {
    "duration": 11,
    "start_time": "2023-02-07T07:53:03.407Z"
   },
   {
    "duration": 18,
    "start_time": "2023-02-07T07:53:03.816Z"
   },
   {
    "duration": 17,
    "start_time": "2023-02-07T07:53:04.023Z"
   },
   {
    "duration": 7,
    "start_time": "2023-02-07T07:53:04.688Z"
   },
   {
    "duration": 13,
    "start_time": "2023-02-07T07:53:04.953Z"
   },
   {
    "duration": 6,
    "start_time": "2023-02-07T07:53:05.720Z"
   },
   {
    "duration": 4,
    "start_time": "2023-02-07T07:53:06.271Z"
   },
   {
    "duration": 9,
    "start_time": "2023-02-07T07:53:06.607Z"
   },
   {
    "duration": 13,
    "start_time": "2023-02-07T07:53:07.919Z"
   },
   {
    "duration": 27,
    "start_time": "2023-02-07T08:22:15.737Z"
   },
   {
    "duration": 4,
    "start_time": "2023-02-07T08:22:19.960Z"
   },
   {
    "duration": 930,
    "start_time": "2023-02-07T08:32:46.715Z"
   },
   {
    "duration": 4,
    "start_time": "2023-02-07T08:34:29.899Z"
   },
   {
    "duration": 4,
    "start_time": "2023-02-07T08:52:21.594Z"
   },
   {
    "duration": 5,
    "start_time": "2023-02-07T08:52:28.369Z"
   },
   {
    "duration": 9,
    "start_time": "2023-02-07T08:54:02.609Z"
   },
   {
    "duration": 565,
    "start_time": "2023-02-07T08:54:06.642Z"
   },
   {
    "duration": 11,
    "start_time": "2023-02-07T08:54:14.224Z"
   },
   {
    "duration": 8,
    "start_time": "2023-02-07T08:54:37.761Z"
   },
   {
    "duration": 5,
    "start_time": "2023-02-07T09:05:13.539Z"
   },
   {
    "duration": 6,
    "start_time": "2023-02-07T09:05:20.843Z"
   },
   {
    "duration": 7,
    "start_time": "2023-02-07T09:05:28.691Z"
   },
   {
    "duration": 4,
    "start_time": "2023-02-07T09:06:38.292Z"
   },
   {
    "duration": 7,
    "start_time": "2023-02-07T09:06:43.756Z"
   },
   {
    "duration": 6,
    "start_time": "2023-02-07T09:06:54.394Z"
   },
   {
    "duration": 6,
    "start_time": "2023-02-07T09:08:06.586Z"
   },
   {
    "duration": 5,
    "start_time": "2023-02-07T09:08:53.034Z"
   },
   {
    "duration": 10,
    "start_time": "2023-02-07T09:10:12.563Z"
   },
   {
    "duration": 16,
    "start_time": "2023-02-07T09:10:16.337Z"
   },
   {
    "duration": 10,
    "start_time": "2023-02-07T09:10:59.458Z"
   },
   {
    "duration": 25,
    "start_time": "2023-02-07T09:11:08.216Z"
   },
   {
    "duration": 5,
    "start_time": "2023-02-07T09:11:21.528Z"
   },
   {
    "duration": 3,
    "start_time": "2023-02-07T09:11:56.104Z"
   },
   {
    "duration": 7,
    "start_time": "2023-02-07T09:12:07.583Z"
   },
   {
    "duration": 16,
    "start_time": "2023-02-07T09:12:27.355Z"
   },
   {
    "duration": 7,
    "start_time": "2023-02-07T09:12:30.489Z"
   },
   {
    "duration": 8,
    "start_time": "2023-02-07T09:12:36.961Z"
   },
   {
    "duration": 7,
    "start_time": "2023-02-07T09:12:39.059Z"
   },
   {
    "duration": 11,
    "start_time": "2023-02-07T09:16:25.799Z"
   },
   {
    "duration": 4,
    "start_time": "2023-02-07T09:17:22.470Z"
   },
   {
    "duration": 16,
    "start_time": "2023-02-07T09:17:28.317Z"
   },
   {
    "duration": 7,
    "start_time": "2023-02-07T09:17:54.813Z"
   },
   {
    "duration": 10,
    "start_time": "2023-02-07T09:18:11.664Z"
   },
   {
    "duration": 6,
    "start_time": "2023-02-07T09:18:16.421Z"
   },
   {
    "duration": 34,
    "start_time": "2023-02-07T09:20:06.637Z"
   },
   {
    "duration": 10,
    "start_time": "2023-02-07T09:32:31.372Z"
   },
   {
    "duration": 10,
    "start_time": "2023-02-07T09:32:43.303Z"
   },
   {
    "duration": 10,
    "start_time": "2023-02-07T09:43:08.080Z"
   },
   {
    "duration": 10,
    "start_time": "2023-02-07T09:43:12.657Z"
   },
   {
    "duration": 4,
    "start_time": "2023-02-07T09:43:21.816Z"
   },
   {
    "duration": 12,
    "start_time": "2023-02-07T09:43:27.769Z"
   },
   {
    "duration": 4,
    "start_time": "2023-02-07T09:43:36.224Z"
   },
   {
    "duration": 4,
    "start_time": "2023-02-07T09:43:42.576Z"
   },
   {
    "duration": 10,
    "start_time": "2023-02-07T09:43:47.193Z"
   },
   {
    "duration": 13,
    "start_time": "2023-02-07T09:44:09.104Z"
   },
   {
    "duration": 11,
    "start_time": "2023-02-07T09:44:15.471Z"
   },
   {
    "duration": 11,
    "start_time": "2023-02-07T09:44:21.680Z"
   },
   {
    "duration": 23,
    "start_time": "2023-02-07T09:46:10.991Z"
   },
   {
    "duration": 36,
    "start_time": "2023-02-07T09:49:26.264Z"
   },
   {
    "duration": 86,
    "start_time": "2023-02-07T10:33:59.199Z"
   },
   {
    "duration": 56,
    "start_time": "2023-02-07T10:34:14.144Z"
   },
   {
    "duration": 41,
    "start_time": "2023-02-07T10:34:42.780Z"
   },
   {
    "duration": 42,
    "start_time": "2023-02-07T10:34:54.024Z"
   },
   {
    "duration": 32,
    "start_time": "2023-02-07T10:34:56.672Z"
   },
   {
    "duration": 52,
    "start_time": "2023-02-07T10:35:02.548Z"
   },
   {
    "duration": 35,
    "start_time": "2023-02-07T10:35:14.675Z"
   },
   {
    "duration": 31,
    "start_time": "2023-02-07T10:35:17.407Z"
   },
   {
    "duration": 26,
    "start_time": "2023-02-07T10:35:20.073Z"
   },
   {
    "duration": 27,
    "start_time": "2023-02-07T10:35:23.172Z"
   },
   {
    "duration": 24,
    "start_time": "2023-02-07T10:35:25.911Z"
   },
   {
    "duration": 25,
    "start_time": "2023-02-07T10:37:02.457Z"
   },
   {
    "duration": 27,
    "start_time": "2023-02-07T10:37:07.164Z"
   },
   {
    "duration": 23,
    "start_time": "2023-02-07T10:37:15.815Z"
   },
   {
    "duration": 62,
    "start_time": "2023-02-07T10:40:25.942Z"
   },
   {
    "duration": 35,
    "start_time": "2023-02-07T13:10:53.934Z"
   },
   {
    "duration": 36,
    "start_time": "2023-02-07T13:11:38.214Z"
   },
   {
    "duration": 30,
    "start_time": "2023-02-07T13:11:40.702Z"
   },
   {
    "duration": 30,
    "start_time": "2023-02-07T13:12:02.189Z"
   },
   {
    "duration": 39,
    "start_time": "2023-02-07T13:12:23.214Z"
   },
   {
    "duration": 28,
    "start_time": "2023-02-07T13:12:28.278Z"
   },
   {
    "duration": 37,
    "start_time": "2023-02-07T13:12:58.030Z"
   },
   {
    "duration": 35,
    "start_time": "2023-02-07T13:13:16.828Z"
   },
   {
    "duration": 35,
    "start_time": "2023-02-07T13:13:19.230Z"
   },
   {
    "duration": 27,
    "start_time": "2023-02-07T13:13:20.270Z"
   },
   {
    "duration": 30,
    "start_time": "2023-02-07T13:13:41.855Z"
   },
   {
    "duration": 42,
    "start_time": "2023-02-07T13:14:06.057Z"
   },
   {
    "duration": 26,
    "start_time": "2023-02-07T13:14:29.334Z"
   },
   {
    "duration": 4,
    "start_time": "2023-02-07T13:15:54.002Z"
   },
   {
    "duration": 3,
    "start_time": "2023-02-07T13:15:56.263Z"
   },
   {
    "duration": 31,
    "start_time": "2023-02-07T13:16:06.774Z"
   },
   {
    "duration": 27,
    "start_time": "2023-02-07T13:16:20.479Z"
   },
   {
    "duration": 4,
    "start_time": "2023-02-07T14:16:49.362Z"
   },
   {
    "duration": 38,
    "start_time": "2023-02-07T14:17:17.353Z"
   },
   {
    "duration": 4,
    "start_time": "2023-02-07T14:17:30.646Z"
   },
   {
    "duration": 29,
    "start_time": "2023-02-07T14:17:32.488Z"
   },
   {
    "duration": 4,
    "start_time": "2023-02-07T14:19:15.960Z"
   },
   {
    "duration": 5,
    "start_time": "2023-02-07T14:19:21.220Z"
   },
   {
    "duration": 4,
    "start_time": "2023-02-07T14:19:23.632Z"
   },
   {
    "duration": 28,
    "start_time": "2023-02-07T14:19:26.673Z"
   },
   {
    "duration": 3,
    "start_time": "2023-02-07T14:22:36.511Z"
   },
   {
    "duration": 31,
    "start_time": "2023-02-07T14:22:40.582Z"
   },
   {
    "duration": 4,
    "start_time": "2023-02-07T14:23:38.462Z"
   },
   {
    "duration": 4,
    "start_time": "2023-02-07T14:23:45.990Z"
   },
   {
    "duration": 5,
    "start_time": "2023-02-07T14:23:53.765Z"
   },
   {
    "duration": 5,
    "start_time": "2023-02-07T14:24:09.550Z"
   },
   {
    "duration": 4,
    "start_time": "2023-02-07T14:24:10.093Z"
   },
   {
    "duration": 4,
    "start_time": "2023-02-07T14:24:14.469Z"
   },
   {
    "duration": 5,
    "start_time": "2023-02-07T14:24:27.606Z"
   },
   {
    "duration": 29,
    "start_time": "2023-02-07T14:24:32.181Z"
   },
   {
    "duration": 30,
    "start_time": "2023-02-07T14:24:35.653Z"
   },
   {
    "duration": 28,
    "start_time": "2023-02-07T14:24:36.285Z"
   },
   {
    "duration": 28,
    "start_time": "2023-02-07T14:24:40.829Z"
   },
   {
    "duration": 35,
    "start_time": "2023-02-07T14:25:56.525Z"
   },
   {
    "duration": 46,
    "start_time": "2023-02-07T14:26:29.084Z"
   },
   {
    "duration": 45,
    "start_time": "2023-02-07T14:26:39.389Z"
   },
   {
    "duration": 34,
    "start_time": "2023-02-07T14:26:49.468Z"
   },
   {
    "duration": 34,
    "start_time": "2023-02-07T14:30:54.131Z"
   },
   {
    "duration": 34,
    "start_time": "2023-02-07T14:31:06.863Z"
   },
   {
    "duration": 28,
    "start_time": "2023-02-07T14:31:12.618Z"
   },
   {
    "duration": 5,
    "start_time": "2023-02-07T14:31:47.557Z"
   },
   {
    "duration": 5,
    "start_time": "2023-02-07T14:31:51.055Z"
   },
   {
    "duration": 27,
    "start_time": "2023-02-07T14:31:57.010Z"
   },
   {
    "duration": 25,
    "start_time": "2023-02-07T14:32:07.122Z"
   },
   {
    "duration": 28,
    "start_time": "2023-02-07T14:32:14.530Z"
   },
   {
    "duration": 37,
    "start_time": "2023-02-07T14:32:43.498Z"
   },
   {
    "duration": 29,
    "start_time": "2023-02-07T14:32:53.331Z"
   },
   {
    "duration": 31,
    "start_time": "2023-02-07T14:33:06.089Z"
   },
   {
    "duration": 27,
    "start_time": "2023-02-07T14:34:07.156Z"
   },
   {
    "duration": 37,
    "start_time": "2023-02-07T14:34:17.825Z"
   },
   {
    "duration": 34,
    "start_time": "2023-02-07T14:35:33.824Z"
   },
   {
    "duration": 33,
    "start_time": "2023-02-07T14:36:05.955Z"
   },
   {
    "duration": 36,
    "start_time": "2023-02-07T14:36:21.549Z"
   },
   {
    "duration": 33,
    "start_time": "2023-02-07T14:36:29.253Z"
   },
   {
    "duration": 28,
    "start_time": "2023-02-07T14:36:38.696Z"
   },
   {
    "duration": 32,
    "start_time": "2023-02-07T14:37:53.451Z"
   },
   {
    "duration": 33,
    "start_time": "2023-02-07T14:38:03.184Z"
   },
   {
    "duration": 31,
    "start_time": "2023-02-07T14:38:17.955Z"
   },
   {
    "duration": 33,
    "start_time": "2023-02-07T14:50:36.804Z"
   },
   {
    "duration": 28,
    "start_time": "2023-02-07T14:51:30.290Z"
   },
   {
    "duration": 40,
    "start_time": "2023-02-07T15:04:58.988Z"
   },
   {
    "duration": 29,
    "start_time": "2023-02-07T15:04:59.779Z"
   },
   {
    "duration": 27,
    "start_time": "2023-02-07T15:05:07.866Z"
   },
   {
    "duration": 23,
    "start_time": "2023-02-07T15:06:01.747Z"
   },
   {
    "duration": 18,
    "start_time": "2023-02-07T15:06:03.131Z"
   },
   {
    "duration": 25,
    "start_time": "2023-02-07T15:06:17.922Z"
   },
   {
    "duration": 31,
    "start_time": "2023-02-07T15:07:05.498Z"
   },
   {
    "duration": 35,
    "start_time": "2023-02-07T15:07:41.786Z"
   },
   {
    "duration": 30,
    "start_time": "2023-02-07T15:07:55.835Z"
   },
   {
    "duration": 21,
    "start_time": "2023-02-07T15:08:24.714Z"
   },
   {
    "duration": 32,
    "start_time": "2023-02-07T15:08:36.890Z"
   },
   {
    "duration": 30,
    "start_time": "2023-02-07T15:09:00.834Z"
   },
   {
    "duration": 9,
    "start_time": "2023-02-07T15:09:53.978Z"
   },
   {
    "duration": 34,
    "start_time": "2023-02-07T15:10:03.705Z"
   },
   {
    "duration": 28,
    "start_time": "2023-02-07T15:10:53.849Z"
   },
   {
    "duration": 31,
    "start_time": "2023-02-07T15:11:13.449Z"
   },
   {
    "duration": 32,
    "start_time": "2023-02-07T15:11:26.208Z"
   },
   {
    "duration": 4,
    "start_time": "2023-02-07T15:11:31.273Z"
   },
   {
    "duration": 33,
    "start_time": "2023-02-07T15:11:41.608Z"
   },
   {
    "duration": 5,
    "start_time": "2023-02-07T15:12:13.898Z"
   },
   {
    "duration": 36,
    "start_time": "2023-02-07T15:12:27.576Z"
   },
   {
    "duration": 38,
    "start_time": "2023-02-07T15:12:41.824Z"
   },
   {
    "duration": 24,
    "start_time": "2023-02-07T15:12:46.272Z"
   },
   {
    "duration": 26,
    "start_time": "2023-02-07T15:12:53.992Z"
   },
   {
    "duration": 28,
    "start_time": "2023-02-07T15:13:12.784Z"
   },
   {
    "duration": 34,
    "start_time": "2023-02-07T15:13:25.591Z"
   },
   {
    "duration": 30,
    "start_time": "2023-02-07T15:13:50.576Z"
   },
   {
    "duration": 37,
    "start_time": "2023-02-07T15:13:52.735Z"
   },
   {
    "duration": 28,
    "start_time": "2023-02-07T15:14:58.415Z"
   },
   {
    "duration": 32,
    "start_time": "2023-02-07T15:45:37.545Z"
   },
   {
    "duration": 30,
    "start_time": "2023-02-07T15:45:37.680Z"
   },
   {
    "duration": 5,
    "start_time": "2023-02-07T15:54:21.613Z"
   },
   {
    "duration": 10,
    "start_time": "2023-02-07T15:54:51.301Z"
   },
   {
    "duration": 9,
    "start_time": "2023-02-07T15:54:58.765Z"
   },
   {
    "duration": 10,
    "start_time": "2023-02-07T15:55:01.108Z"
   },
   {
    "duration": 25,
    "start_time": "2023-02-07T15:56:42.556Z"
   },
   {
    "duration": 24,
    "start_time": "2023-02-07T15:57:21.244Z"
   },
   {
    "duration": 4,
    "start_time": "2023-02-07T15:57:41.867Z"
   },
   {
    "duration": 36,
    "start_time": "2023-02-07T15:57:53.570Z"
   },
   {
    "duration": 30,
    "start_time": "2023-02-07T15:58:01.844Z"
   },
   {
    "duration": 29,
    "start_time": "2023-02-07T15:58:16.603Z"
   },
   {
    "duration": 7,
    "start_time": "2023-02-07T15:58:39.874Z"
   },
   {
    "duration": 14,
    "start_time": "2023-02-07T15:58:43.195Z"
   },
   {
    "duration": 9,
    "start_time": "2023-02-07T15:58:51.155Z"
   },
   {
    "duration": 29,
    "start_time": "2023-02-07T15:58:53.603Z"
   },
   {
    "duration": 43,
    "start_time": "2023-02-07T16:53:08.071Z"
   },
   {
    "duration": 29,
    "start_time": "2023-02-07T17:07:20.273Z"
   },
   {
    "duration": 4,
    "start_time": "2023-02-07T18:11:50.180Z"
   },
   {
    "duration": 47,
    "start_time": "2023-02-07T18:12:00.873Z"
   },
   {
    "duration": 49,
    "start_time": "2023-02-07T18:12:21.673Z"
   },
   {
    "duration": 13,
    "start_time": "2023-02-07T18:19:49.142Z"
   },
   {
    "duration": 54,
    "start_time": "2023-02-07T18:20:03.899Z"
   },
   {
    "duration": 46,
    "start_time": "2023-02-07T18:20:17.373Z"
   },
   {
    "duration": 12,
    "start_time": "2023-02-07T18:20:37.227Z"
   },
   {
    "duration": 47,
    "start_time": "2023-02-07T18:20:53.669Z"
   },
   {
    "duration": 56,
    "start_time": "2023-02-07T18:20:58.205Z"
   },
   {
    "duration": 50,
    "start_time": "2023-02-07T18:21:02.626Z"
   },
   {
    "duration": 57,
    "start_time": "2023-02-07T18:21:07.203Z"
   },
   {
    "duration": 48,
    "start_time": "2023-02-07T18:21:09.674Z"
   },
   {
    "duration": 44,
    "start_time": "2023-02-07T18:21:20.163Z"
   },
   {
    "duration": 49,
    "start_time": "2023-02-07T18:21:23.202Z"
   },
   {
    "duration": 48,
    "start_time": "2023-02-07T18:21:28.714Z"
   },
   {
    "duration": 59,
    "start_time": "2023-02-07T18:21:51.690Z"
   },
   {
    "duration": 46,
    "start_time": "2023-02-07T18:21:53.082Z"
   },
   {
    "duration": 50,
    "start_time": "2023-02-07T18:21:58.042Z"
   },
   {
    "duration": 5,
    "start_time": "2023-02-07T18:22:06.634Z"
   },
   {
    "duration": 8,
    "start_time": "2023-02-07T18:22:20.562Z"
   },
   {
    "duration": 5,
    "start_time": "2023-02-07T18:23:42.952Z"
   },
   {
    "duration": 5,
    "start_time": "2023-02-07T18:23:50.337Z"
   },
   {
    "duration": 5,
    "start_time": "2023-02-07T18:23:53.224Z"
   },
   {
    "duration": 4,
    "start_time": "2023-02-07T18:23:58.361Z"
   },
   {
    "duration": 5,
    "start_time": "2023-02-07T18:24:01.576Z"
   },
   {
    "duration": 51,
    "start_time": "2023-02-07T18:24:03.712Z"
   },
   {
    "duration": 50,
    "start_time": "2023-02-07T18:24:06.536Z"
   },
   {
    "duration": 46,
    "start_time": "2023-02-07T18:24:12.791Z"
   },
   {
    "duration": 64,
    "start_time": "2023-02-07T18:24:14.664Z"
   },
   {
    "duration": 5,
    "start_time": "2023-02-07T18:24:23.296Z"
   },
   {
    "duration": 43,
    "start_time": "2023-02-07T18:24:28.472Z"
   },
   {
    "duration": 45,
    "start_time": "2023-02-07T18:27:21.461Z"
   },
   {
    "duration": 48,
    "start_time": "2023-02-07T18:27:50.741Z"
   },
   {
    "duration": 56,
    "start_time": "2023-02-07T18:30:38.748Z"
   },
   {
    "duration": 64,
    "start_time": "2023-02-07T18:31:06.995Z"
   },
   {
    "duration": 49,
    "start_time": "2023-02-07T18:32:24.329Z"
   },
   {
    "duration": 58,
    "start_time": "2023-02-07T18:32:25.041Z"
   },
   {
    "duration": 44,
    "start_time": "2023-02-07T18:33:00.242Z"
   },
   {
    "duration": 48,
    "start_time": "2023-02-07T18:33:26.345Z"
   },
   {
    "duration": 48,
    "start_time": "2023-02-07T18:33:27.024Z"
   },
   {
    "duration": 39,
    "start_time": "2023-02-07T18:33:27.480Z"
   },
   {
    "duration": 43,
    "start_time": "2023-02-07T18:34:39.057Z"
   },
   {
    "duration": 65,
    "start_time": "2023-02-07T18:34:54.968Z"
   },
   {
    "duration": 52,
    "start_time": "2023-02-07T18:35:07.763Z"
   },
   {
    "duration": 69,
    "start_time": "2023-02-07T18:35:26.698Z"
   },
   {
    "duration": 8,
    "start_time": "2023-02-07T18:35:32.849Z"
   },
   {
    "duration": 47,
    "start_time": "2023-02-07T18:35:40.487Z"
   },
   {
    "duration": 49,
    "start_time": "2023-02-07T18:35:47.168Z"
   },
   {
    "duration": 59,
    "start_time": "2023-02-07T18:35:53.999Z"
   },
   {
    "duration": 46,
    "start_time": "2023-02-07T18:36:08.727Z"
   },
   {
    "duration": 62,
    "start_time": "2023-02-07T18:37:10.591Z"
   },
   {
    "duration": 69,
    "start_time": "2023-02-07T18:37:14.833Z"
   },
   {
    "duration": 52,
    "start_time": "2023-02-07T18:37:26.870Z"
   },
   {
    "duration": 36,
    "start_time": "2023-02-07T18:37:55.422Z"
   },
   {
    "duration": 55,
    "start_time": "2023-02-07T18:38:00.101Z"
   },
   {
    "duration": 58,
    "start_time": "2023-02-07T18:44:31.859Z"
   },
   {
    "duration": 19,
    "start_time": "2023-02-07T18:45:04.617Z"
   },
   {
    "duration": 14,
    "start_time": "2023-02-07T18:45:35.850Z"
   },
   {
    "duration": 4,
    "start_time": "2023-02-07T18:46:00.840Z"
   },
   {
    "duration": 4,
    "start_time": "2023-02-07T18:46:05.409Z"
   },
   {
    "duration": 9,
    "start_time": "2023-02-07T18:46:08.824Z"
   },
   {
    "duration": 52,
    "start_time": "2023-02-07T18:46:10.844Z"
   },
   {
    "duration": 56,
    "start_time": "2023-02-07T18:47:45.641Z"
   },
   {
    "duration": 61,
    "start_time": "2023-02-07T19:11:50.004Z"
   },
   {
    "duration": 58,
    "start_time": "2023-02-07T19:12:00.663Z"
   },
   {
    "duration": 72,
    "start_time": "2023-02-07T19:12:06.611Z"
   },
   {
    "duration": 14,
    "start_time": "2023-02-07T19:12:06.941Z"
   },
   {
    "duration": 16,
    "start_time": "2023-02-07T19:12:07.291Z"
   },
   {
    "duration": 10,
    "start_time": "2023-02-07T19:12:08.051Z"
   },
   {
    "duration": 32,
    "start_time": "2023-02-07T19:12:08.427Z"
   },
   {
    "duration": 5,
    "start_time": "2023-02-07T19:12:09.002Z"
   },
   {
    "duration": 10,
    "start_time": "2023-02-07T19:12:09.379Z"
   },
   {
    "duration": 5,
    "start_time": "2023-02-07T19:12:09.987Z"
   },
   {
    "duration": 6,
    "start_time": "2023-02-07T19:12:10.395Z"
   },
   {
    "duration": 4,
    "start_time": "2023-02-07T19:12:10.811Z"
   },
   {
    "duration": 32,
    "start_time": "2023-02-07T19:12:11.434Z"
   },
   {
    "duration": 9,
    "start_time": "2023-02-07T19:12:11.850Z"
   },
   {
    "duration": 4,
    "start_time": "2023-02-07T19:12:12.518Z"
   },
   {
    "duration": 11,
    "start_time": "2023-02-07T19:12:13.234Z"
   },
   {
    "duration": 22,
    "start_time": "2023-02-07T19:12:13.611Z"
   },
   {
    "duration": 26,
    "start_time": "2023-02-07T19:12:13.828Z"
   },
   {
    "duration": 4,
    "start_time": "2023-02-07T19:12:14.482Z"
   },
   {
    "duration": 9,
    "start_time": "2023-02-07T19:12:14.676Z"
   },
   {
    "duration": 6,
    "start_time": "2023-02-07T19:12:15.130Z"
   },
   {
    "duration": 3,
    "start_time": "2023-02-07T19:12:15.818Z"
   },
   {
    "duration": 8,
    "start_time": "2023-02-07T19:12:16.155Z"
   },
   {
    "duration": 42,
    "start_time": "2023-02-07T19:12:16.947Z"
   },
   {
    "duration": 13,
    "start_time": "2023-02-07T19:12:18.891Z"
   },
   {
    "duration": 32,
    "start_time": "2023-02-07T19:12:19.491Z"
   },
   {
    "duration": 59,
    "start_time": "2023-02-07T19:12:20.427Z"
   },
   {
    "duration": 46,
    "start_time": "2023-02-07T19:12:42.363Z"
   },
   {
    "duration": 46,
    "start_time": "2023-02-07T19:13:05.741Z"
   },
   {
    "duration": 53,
    "start_time": "2023-02-07T19:13:10.627Z"
   },
   {
    "duration": 45,
    "start_time": "2023-02-07T19:13:20.906Z"
   },
   {
    "duration": 6,
    "start_time": "2023-02-07T19:14:42.250Z"
   },
   {
    "duration": 4,
    "start_time": "2023-02-07T19:14:48.907Z"
   },
   {
    "duration": 12,
    "start_time": "2023-02-07T19:15:01.393Z"
   },
   {
    "duration": 29,
    "start_time": "2023-02-07T19:16:10.824Z"
   },
   {
    "duration": 25,
    "start_time": "2023-02-07T19:16:17.888Z"
   },
   {
    "duration": 13,
    "start_time": "2023-02-07T19:16:27.537Z"
   },
   {
    "duration": 22,
    "start_time": "2023-02-07T19:16:59.720Z"
   },
   {
    "duration": 32,
    "start_time": "2023-02-07T19:17:05.552Z"
   },
   {
    "duration": 19,
    "start_time": "2023-02-07T19:17:17.113Z"
   },
   {
    "duration": 56,
    "start_time": "2023-02-07T19:17:33.985Z"
   },
   {
    "duration": 48,
    "start_time": "2023-02-07T19:17:38.976Z"
   },
   {
    "duration": 27,
    "start_time": "2023-02-07T19:19:04.681Z"
   },
   {
    "duration": 7,
    "start_time": "2023-02-07T19:19:10.567Z"
   },
   {
    "duration": 32,
    "start_time": "2023-02-07T19:19:15.694Z"
   },
   {
    "duration": 21,
    "start_time": "2023-02-07T19:19:32.326Z"
   },
   {
    "duration": 9,
    "start_time": "2023-02-07T19:19:53.966Z"
   },
   {
    "duration": 10,
    "start_time": "2023-02-07T19:20:02.510Z"
   },
   {
    "duration": 11,
    "start_time": "2023-02-07T19:20:23.262Z"
   },
   {
    "duration": 36,
    "start_time": "2023-02-07T19:21:09.269Z"
   },
   {
    "duration": 21,
    "start_time": "2023-02-07T19:21:19.381Z"
   },
   {
    "duration": 22,
    "start_time": "2023-02-07T19:21:27.853Z"
   },
   {
    "duration": 33,
    "start_time": "2023-02-07T19:22:37.012Z"
   },
   {
    "duration": 27,
    "start_time": "2023-02-07T19:22:39.748Z"
   },
   {
    "duration": 23,
    "start_time": "2023-02-07T19:23:02.764Z"
   },
   {
    "duration": 27,
    "start_time": "2023-02-07T19:23:20.820Z"
   },
   {
    "duration": 22,
    "start_time": "2023-02-07T19:23:23.629Z"
   },
   {
    "duration": 5,
    "start_time": "2023-02-07T19:24:17.450Z"
   },
   {
    "duration": 6,
    "start_time": "2023-02-07T19:24:20.202Z"
   },
   {
    "duration": 12,
    "start_time": "2023-02-07T19:24:27.803Z"
   },
   {
    "duration": 16,
    "start_time": "2023-02-07T19:25:40.362Z"
   },
   {
    "duration": 68,
    "start_time": "2023-02-07T19:25:43.417Z"
   },
   {
    "duration": 14,
    "start_time": "2023-02-07T19:25:47.473Z"
   },
   {
    "duration": 10,
    "start_time": "2023-02-07T19:25:49.537Z"
   },
   {
    "duration": 31,
    "start_time": "2023-02-07T19:25:51.217Z"
   },
   {
    "duration": 3,
    "start_time": "2023-02-07T19:25:52.739Z"
   },
   {
    "duration": 7,
    "start_time": "2023-02-07T19:25:53.787Z"
   },
   {
    "duration": 4,
    "start_time": "2023-02-07T19:25:56.098Z"
   },
   {
    "duration": 5,
    "start_time": "2023-02-07T19:25:56.465Z"
   },
   {
    "duration": 5,
    "start_time": "2023-02-07T19:25:56.833Z"
   },
   {
    "duration": 31,
    "start_time": "2023-02-07T19:25:57.377Z"
   },
   {
    "duration": 9,
    "start_time": "2023-02-07T19:25:57.769Z"
   },
   {
    "duration": 3,
    "start_time": "2023-02-07T19:25:58.370Z"
   },
   {
    "duration": 12,
    "start_time": "2023-02-07T19:25:59.129Z"
   },
   {
    "duration": 17,
    "start_time": "2023-02-07T19:25:59.529Z"
   },
   {
    "duration": 18,
    "start_time": "2023-02-07T19:25:59.721Z"
   },
   {
    "duration": 3,
    "start_time": "2023-02-07T19:26:00.313Z"
   },
   {
    "duration": 9,
    "start_time": "2023-02-07T19:26:00.521Z"
   },
   {
    "duration": 6,
    "start_time": "2023-02-07T19:26:00.945Z"
   },
   {
    "duration": 4,
    "start_time": "2023-02-07T19:26:01.407Z"
   },
   {
    "duration": 8,
    "start_time": "2023-02-07T19:26:01.578Z"
   },
   {
    "duration": 36,
    "start_time": "2023-02-07T19:26:02.242Z"
   },
   {
    "duration": 9,
    "start_time": "2023-02-07T19:26:02.962Z"
   },
   {
    "duration": 28,
    "start_time": "2023-02-07T19:26:03.426Z"
   },
   {
    "duration": 7,
    "start_time": "2023-02-07T19:26:05.209Z"
   },
   {
    "duration": 42,
    "start_time": "2023-02-07T19:26:13.537Z"
   },
   {
    "duration": 39,
    "start_time": "2023-02-07T19:26:16.611Z"
   },
   {
    "duration": 48,
    "start_time": "2023-02-07T19:26:28.249Z"
   },
   {
    "duration": 7,
    "start_time": "2023-02-07T19:26:36.329Z"
   },
   {
    "duration": 11,
    "start_time": "2023-02-07T19:26:46.993Z"
   },
   {
    "duration": 12,
    "start_time": "2023-02-07T19:27:34.400Z"
   },
   {
    "duration": 14,
    "start_time": "2023-02-07T19:27:41.674Z"
   },
   {
    "duration": 11,
    "start_time": "2023-02-07T19:27:45.985Z"
   },
   {
    "duration": 44,
    "start_time": "2023-02-07T19:27:58.065Z"
   },
   {
    "duration": 49,
    "start_time": "2023-02-07T19:28:00.689Z"
   },
   {
    "duration": 20,
    "start_time": "2023-02-07T19:28:48.576Z"
   },
   {
    "duration": 20,
    "start_time": "2023-02-07T19:28:52.921Z"
   },
   {
    "duration": 49,
    "start_time": "2023-02-07T19:28:55.776Z"
   },
   {
    "duration": 34,
    "start_time": "2023-02-07T19:29:02.105Z"
   },
   {
    "duration": 54,
    "start_time": "2023-02-07T19:29:19.570Z"
   },
   {
    "duration": 47,
    "start_time": "2023-02-07T19:32:59.062Z"
   },
   {
    "duration": 54,
    "start_time": "2023-02-07T21:35:17.362Z"
   },
   {
    "duration": 52,
    "start_time": "2023-02-07T21:35:38.569Z"
   },
   {
    "duration": 44,
    "start_time": "2023-02-07T21:35:44.602Z"
   },
   {
    "duration": 23,
    "start_time": "2023-02-07T21:36:21.969Z"
   },
   {
    "duration": 47,
    "start_time": "2023-02-07T21:36:31.553Z"
   },
   {
    "duration": 41,
    "start_time": "2023-02-07T21:37:24.568Z"
   },
   {
    "duration": 19,
    "start_time": "2023-02-07T21:37:34.929Z"
   },
   {
    "duration": 22,
    "start_time": "2023-02-07T21:37:44.072Z"
   },
   {
    "duration": 19,
    "start_time": "2023-02-07T21:37:47.536Z"
   },
   {
    "duration": 19,
    "start_time": "2023-02-07T21:37:48.869Z"
   },
   {
    "duration": 20,
    "start_time": "2023-02-07T21:37:55.792Z"
   },
   {
    "duration": 28,
    "start_time": "2023-02-07T21:38:12.360Z"
   },
   {
    "duration": 8,
    "start_time": "2023-02-07T21:38:14.224Z"
   },
   {
    "duration": 20,
    "start_time": "2023-02-07T21:38:16.008Z"
   },
   {
    "duration": 19,
    "start_time": "2023-02-07T21:38:16.865Z"
   },
   {
    "duration": 19,
    "start_time": "2023-02-07T21:38:17.080Z"
   },
   {
    "duration": 26,
    "start_time": "2023-02-07T21:38:17.320Z"
   },
   {
    "duration": 20,
    "start_time": "2023-02-07T21:38:17.753Z"
   },
   {
    "duration": 20,
    "start_time": "2023-02-07T21:38:26.664Z"
   },
   {
    "duration": 67,
    "start_time": "2023-02-07T21:38:43.456Z"
   },
   {
    "duration": 14,
    "start_time": "2023-02-07T21:38:43.824Z"
   },
   {
    "duration": 14,
    "start_time": "2023-02-07T21:38:44.168Z"
   },
   {
    "duration": 12,
    "start_time": "2023-02-07T21:38:44.903Z"
   },
   {
    "duration": 29,
    "start_time": "2023-02-07T21:38:45.296Z"
   },
   {
    "duration": 4,
    "start_time": "2023-02-07T21:38:45.848Z"
   },
   {
    "duration": 7,
    "start_time": "2023-02-07T21:38:46.232Z"
   },
   {
    "duration": 5,
    "start_time": "2023-02-07T21:38:46.831Z"
   },
   {
    "duration": 5,
    "start_time": "2023-02-07T21:38:47.224Z"
   },
   {
    "duration": 5,
    "start_time": "2023-02-07T21:38:47.631Z"
   },
   {
    "duration": 31,
    "start_time": "2023-02-07T21:38:48.232Z"
   },
   {
    "duration": 9,
    "start_time": "2023-02-07T21:38:48.639Z"
   },
   {
    "duration": 3,
    "start_time": "2023-02-07T21:38:49.263Z"
   },
   {
    "duration": 10,
    "start_time": "2023-02-07T21:38:49.904Z"
   },
   {
    "duration": 18,
    "start_time": "2023-02-07T21:38:50.326Z"
   },
   {
    "duration": 17,
    "start_time": "2023-02-07T21:38:50.575Z"
   },
   {
    "duration": 3,
    "start_time": "2023-02-07T21:38:51.248Z"
   },
   {
    "duration": 9,
    "start_time": "2023-02-07T21:38:51.503Z"
   },
   {
    "duration": 5,
    "start_time": "2023-02-07T21:38:52.392Z"
   },
   {
    "duration": 3,
    "start_time": "2023-02-07T21:38:53.112Z"
   },
   {
    "duration": 8,
    "start_time": "2023-02-07T21:38:53.295Z"
   },
   {
    "duration": 31,
    "start_time": "2023-02-07T21:38:54.303Z"
   },
   {
    "duration": 9,
    "start_time": "2023-02-07T21:38:55.711Z"
   },
   {
    "duration": 28,
    "start_time": "2023-02-07T21:38:56.000Z"
   },
   {
    "duration": 42,
    "start_time": "2023-02-07T21:38:57.015Z"
   },
   {
    "duration": 49,
    "start_time": "2023-02-07T21:39:13.648Z"
   },
   {
    "duration": 20,
    "start_time": "2023-02-07T21:40:18.352Z"
   },
   {
    "duration": 19,
    "start_time": "2023-02-07T21:40:23.792Z"
   },
   {
    "duration": 20,
    "start_time": "2023-02-07T21:40:24.544Z"
   },
   {
    "duration": 36,
    "start_time": "2023-02-07T21:40:29.343Z"
   },
   {
    "duration": 43,
    "start_time": "2023-02-07T21:40:34.567Z"
   },
   {
    "duration": 19,
    "start_time": "2023-02-07T21:40:41.239Z"
   },
   {
    "duration": 32,
    "start_time": "2023-02-07T21:40:45.375Z"
   },
   {
    "duration": 41,
    "start_time": "2023-02-07T21:40:56.407Z"
   },
   {
    "duration": 33,
    "start_time": "2023-02-07T21:40:59.959Z"
   },
   {
    "duration": 36,
    "start_time": "2023-02-07T21:41:17.190Z"
   },
   {
    "duration": 48,
    "start_time": "2023-02-07T21:41:31.702Z"
   },
   {
    "duration": 31,
    "start_time": "2023-02-07T21:41:38.847Z"
   },
   {
    "duration": 69,
    "start_time": "2023-02-07T21:41:53.941Z"
   },
   {
    "duration": 13,
    "start_time": "2023-02-07T21:41:54.447Z"
   },
   {
    "duration": 16,
    "start_time": "2023-02-07T21:41:54.805Z"
   },
   {
    "duration": 10,
    "start_time": "2023-02-07T21:41:55.590Z"
   },
   {
    "duration": 32,
    "start_time": "2023-02-07T21:41:55.973Z"
   },
   {
    "duration": 3,
    "start_time": "2023-02-07T21:41:56.574Z"
   },
   {
    "duration": 8,
    "start_time": "2023-02-07T21:41:56.965Z"
   },
   {
    "duration": 5,
    "start_time": "2023-02-07T21:41:57.590Z"
   },
   {
    "duration": 6,
    "start_time": "2023-02-07T21:41:58.022Z"
   },
   {
    "duration": 5,
    "start_time": "2023-02-07T21:41:58.661Z"
   },
   {
    "duration": 31,
    "start_time": "2023-02-07T21:41:59.293Z"
   },
   {
    "duration": 11,
    "start_time": "2023-02-07T21:41:59.733Z"
   },
   {
    "duration": 4,
    "start_time": "2023-02-07T21:42:00.448Z"
   },
   {
    "duration": 10,
    "start_time": "2023-02-07T21:42:01.062Z"
   },
   {
    "duration": 18,
    "start_time": "2023-02-07T21:42:01.501Z"
   },
   {
    "duration": 19,
    "start_time": "2023-02-07T21:42:01.725Z"
   },
   {
    "duration": 4,
    "start_time": "2023-02-07T21:42:02.383Z"
   },
   {
    "duration": 10,
    "start_time": "2023-02-07T21:42:02.602Z"
   },
   {
    "duration": 5,
    "start_time": "2023-02-07T21:42:03.030Z"
   },
   {
    "duration": 3,
    "start_time": "2023-02-07T21:42:03.478Z"
   },
   {
    "duration": 8,
    "start_time": "2023-02-07T21:42:03.669Z"
   },
   {
    "duration": 29,
    "start_time": "2023-02-07T21:42:04.302Z"
   },
   {
    "duration": 9,
    "start_time": "2023-02-07T21:42:05.133Z"
   },
   {
    "duration": 29,
    "start_time": "2023-02-07T21:42:05.454Z"
   },
   {
    "duration": 36,
    "start_time": "2023-02-07T21:42:06.885Z"
   },
   {
    "duration": 43,
    "start_time": "2023-02-07T21:42:08.693Z"
   },
   {
    "duration": 31,
    "start_time": "2023-02-07T21:51:44.257Z"
   },
   {
    "duration": 30,
    "start_time": "2023-02-07T21:51:49.807Z"
   },
   {
    "duration": 30,
    "start_time": "2023-02-07T21:51:50.496Z"
   },
   {
    "duration": 33,
    "start_time": "2023-02-07T21:51:59.560Z"
   },
   {
    "duration": 34,
    "start_time": "2023-02-07T21:51:59.791Z"
   },
   {
    "duration": 30,
    "start_time": "2023-02-07T21:52:00.327Z"
   },
   {
    "duration": 30,
    "start_time": "2023-02-07T21:52:01.367Z"
   },
   {
    "duration": 37,
    "start_time": "2023-02-07T21:52:09.031Z"
   },
   {
    "duration": 69,
    "start_time": "2023-02-07T21:52:29.807Z"
   },
   {
    "duration": 14,
    "start_time": "2023-02-07T21:52:30.184Z"
   },
   {
    "duration": 14,
    "start_time": "2023-02-07T21:52:30.527Z"
   },
   {
    "duration": 11,
    "start_time": "2023-02-07T21:52:31.278Z"
   },
   {
    "duration": 39,
    "start_time": "2023-02-07T21:52:31.655Z"
   },
   {
    "duration": 3,
    "start_time": "2023-02-07T21:52:32.271Z"
   },
   {
    "duration": 7,
    "start_time": "2023-02-07T21:52:32.687Z"
   },
   {
    "duration": 4,
    "start_time": "2023-02-07T21:52:33.294Z"
   },
   {
    "duration": 5,
    "start_time": "2023-02-07T21:52:33.711Z"
   },
   {
    "duration": 5,
    "start_time": "2023-02-07T21:52:34.110Z"
   },
   {
    "duration": 38,
    "start_time": "2023-02-07T21:52:34.711Z"
   },
   {
    "duration": 10,
    "start_time": "2023-02-07T21:52:35.134Z"
   },
   {
    "duration": 4,
    "start_time": "2023-02-07T21:52:35.766Z"
   },
   {
    "duration": 10,
    "start_time": "2023-02-07T21:52:36.438Z"
   },
   {
    "duration": 18,
    "start_time": "2023-02-07T21:52:36.878Z"
   },
   {
    "duration": 18,
    "start_time": "2023-02-07T21:52:37.118Z"
   },
   {
    "duration": 4,
    "start_time": "2023-02-07T21:52:37.878Z"
   },
   {
    "duration": 10,
    "start_time": "2023-02-07T21:52:38.125Z"
   },
   {
    "duration": 7,
    "start_time": "2023-02-07T21:52:38.934Z"
   },
   {
    "duration": 4,
    "start_time": "2023-02-07T21:52:39.382Z"
   },
   {
    "duration": 9,
    "start_time": "2023-02-07T21:52:39.646Z"
   },
   {
    "duration": 30,
    "start_time": "2023-02-07T21:52:40.599Z"
   },
   {
    "duration": 9,
    "start_time": "2023-02-07T21:52:41.992Z"
   },
   {
    "duration": 29,
    "start_time": "2023-02-07T21:52:42.466Z"
   },
   {
    "duration": 53,
    "start_time": "2023-02-07T21:52:44.622Z"
   },
   {
    "duration": 40,
    "start_time": "2023-02-07T21:52:56.022Z"
   },
   {
    "duration": 38,
    "start_time": "2023-02-07T21:54:36.007Z"
   },
   {
    "duration": 21,
    "start_time": "2023-02-07T21:56:31.382Z"
   },
   {
    "duration": 23,
    "start_time": "2023-02-07T21:56:41.677Z"
   },
   {
    "duration": 21,
    "start_time": "2023-02-07T21:56:45.460Z"
   },
   {
    "duration": 73,
    "start_time": "2023-02-07T21:56:55.228Z"
   },
   {
    "duration": 16,
    "start_time": "2023-02-07T21:56:55.612Z"
   },
   {
    "duration": 15,
    "start_time": "2023-02-07T21:56:55.964Z"
   },
   {
    "duration": 11,
    "start_time": "2023-02-07T21:56:56.709Z"
   },
   {
    "duration": 31,
    "start_time": "2023-02-07T21:56:57.116Z"
   },
   {
    "duration": 4,
    "start_time": "2023-02-07T21:56:57.724Z"
   },
   {
    "duration": 8,
    "start_time": "2023-02-07T21:56:58.107Z"
   },
   {
    "duration": 4,
    "start_time": "2023-02-07T21:56:58.716Z"
   },
   {
    "duration": 6,
    "start_time": "2023-02-07T21:56:59.171Z"
   },
   {
    "duration": 5,
    "start_time": "2023-02-07T21:56:59.601Z"
   },
   {
    "duration": 32,
    "start_time": "2023-02-07T21:57:00.796Z"
   },
   {
    "duration": 10,
    "start_time": "2023-02-07T21:57:01.220Z"
   },
   {
    "duration": 3,
    "start_time": "2023-02-07T21:57:01.876Z"
   },
   {
    "duration": 11,
    "start_time": "2023-02-07T21:57:02.675Z"
   },
   {
    "duration": 17,
    "start_time": "2023-02-07T21:57:03.100Z"
   },
   {
    "duration": 18,
    "start_time": "2023-02-07T21:57:03.308Z"
   },
   {
    "duration": 3,
    "start_time": "2023-02-07T21:57:03.917Z"
   },
   {
    "duration": 11,
    "start_time": "2023-02-07T21:57:04.148Z"
   },
   {
    "duration": 7,
    "start_time": "2023-02-07T21:57:04.605Z"
   },
   {
    "duration": 3,
    "start_time": "2023-02-07T21:57:05.116Z"
   },
   {
    "duration": 8,
    "start_time": "2023-02-07T21:57:05.372Z"
   },
   {
    "duration": 31,
    "start_time": "2023-02-07T21:57:06.068Z"
   },
   {
    "duration": 10,
    "start_time": "2023-02-07T21:57:07.211Z"
   },
   {
    "duration": 29,
    "start_time": "2023-02-07T21:57:07.725Z"
   },
   {
    "duration": 42,
    "start_time": "2023-02-07T21:57:09.452Z"
   },
   {
    "duration": 28,
    "start_time": "2023-02-07T22:20:26.680Z"
   },
   {
    "duration": 26,
    "start_time": "2023-02-07T22:20:28.416Z"
   },
   {
    "duration": 30,
    "start_time": "2023-02-07T22:20:28.864Z"
   },
   {
    "duration": 37,
    "start_time": "2023-02-07T22:20:34.224Z"
   },
   {
    "duration": 69,
    "start_time": "2023-02-07T22:21:37.920Z"
   },
   {
    "duration": 14,
    "start_time": "2023-02-07T22:21:38.820Z"
   },
   {
    "duration": 13,
    "start_time": "2023-02-07T22:21:42.529Z"
   },
   {
    "duration": 13,
    "start_time": "2023-02-07T22:21:46.855Z"
   },
   {
    "duration": 9,
    "start_time": "2023-02-07T22:21:47.615Z"
   },
   {
    "duration": 34,
    "start_time": "2023-02-07T22:21:48.000Z"
   },
   {
    "duration": 3,
    "start_time": "2023-02-07T22:21:48.584Z"
   },
   {
    "duration": 7,
    "start_time": "2023-02-07T22:21:48.967Z"
   },
   {
    "duration": 5,
    "start_time": "2023-02-07T22:21:49.583Z"
   },
   {
    "duration": 5,
    "start_time": "2023-02-07T22:21:50.000Z"
   },
   {
    "duration": 5,
    "start_time": "2023-02-07T22:21:50.399Z"
   },
   {
    "duration": 32,
    "start_time": "2023-02-07T22:21:51.008Z"
   },
   {
    "duration": 9,
    "start_time": "2023-02-07T22:21:51.416Z"
   },
   {
    "duration": 3,
    "start_time": "2023-02-07T22:21:52.048Z"
   },
   {
    "duration": 11,
    "start_time": "2023-02-07T22:21:52.783Z"
   },
   {
    "duration": 16,
    "start_time": "2023-02-07T22:21:53.208Z"
   },
   {
    "duration": 17,
    "start_time": "2023-02-07T22:21:53.415Z"
   },
   {
    "duration": 3,
    "start_time": "2023-02-07T22:21:54.080Z"
   },
   {
    "duration": 10,
    "start_time": "2023-02-07T22:21:54.311Z"
   },
   {
    "duration": 6,
    "start_time": "2023-02-07T22:21:54.752Z"
   },
   {
    "duration": 3,
    "start_time": "2023-02-07T22:21:55.192Z"
   },
   {
    "duration": 8,
    "start_time": "2023-02-07T22:21:55.512Z"
   },
   {
    "duration": 30,
    "start_time": "2023-02-07T22:21:56.256Z"
   },
   {
    "duration": 10,
    "start_time": "2023-02-07T22:21:57.184Z"
   },
   {
    "duration": 30,
    "start_time": "2023-02-07T22:21:57.448Z"
   },
   {
    "duration": 44,
    "start_time": "2023-02-07T22:21:58.176Z"
   },
   {
    "duration": 38,
    "start_time": "2023-02-07T22:21:59.592Z"
   },
   {
    "duration": 34,
    "start_time": "2023-02-07T22:22:45.257Z"
   },
   {
    "duration": 35,
    "start_time": "2023-02-07T22:31:03.895Z"
   },
   {
    "duration": 672,
    "start_time": "2023-02-08T17:29:56.789Z"
   },
   {
    "duration": 20,
    "start_time": "2023-02-08T17:29:57.462Z"
   },
   {
    "duration": 19,
    "start_time": "2023-02-08T17:29:57.484Z"
   },
   {
    "duration": 11,
    "start_time": "2023-02-08T17:29:57.504Z"
   },
   {
    "duration": 34,
    "start_time": "2023-02-08T17:29:57.517Z"
   },
   {
    "duration": 3,
    "start_time": "2023-02-08T17:29:57.553Z"
   },
   {
    "duration": 11,
    "start_time": "2023-02-08T17:29:57.558Z"
   },
   {
    "duration": 22,
    "start_time": "2023-02-08T17:29:57.570Z"
   },
   {
    "duration": 18,
    "start_time": "2023-02-08T17:29:57.594Z"
   },
   {
    "duration": 11,
    "start_time": "2023-02-08T17:29:57.616Z"
   },
   {
    "duration": 37,
    "start_time": "2023-02-08T17:29:57.628Z"
   },
   {
    "duration": 8,
    "start_time": "2023-02-08T17:29:57.667Z"
   },
   {
    "duration": 14,
    "start_time": "2023-02-08T17:29:57.676Z"
   },
   {
    "duration": 21,
    "start_time": "2023-02-08T17:29:57.691Z"
   },
   {
    "duration": 23,
    "start_time": "2023-02-08T17:29:57.714Z"
   },
   {
    "duration": 25,
    "start_time": "2023-02-08T17:29:57.739Z"
   },
   {
    "duration": 4,
    "start_time": "2023-02-08T17:29:57.765Z"
   },
   {
    "duration": 12,
    "start_time": "2023-02-08T17:29:57.770Z"
   },
   {
    "duration": 12,
    "start_time": "2023-02-08T17:29:57.784Z"
   },
   {
    "duration": 5,
    "start_time": "2023-02-08T17:29:57.798Z"
   },
   {
    "duration": 17,
    "start_time": "2023-02-08T17:29:57.804Z"
   },
   {
    "duration": 37,
    "start_time": "2023-02-08T17:29:57.823Z"
   },
   {
    "duration": 8,
    "start_time": "2023-02-08T17:29:57.862Z"
   },
   {
    "duration": 45,
    "start_time": "2023-02-08T17:29:57.872Z"
   },
   {
    "duration": 31,
    "start_time": "2023-02-08T17:29:57.918Z"
   },
   {
    "duration": 46,
    "start_time": "2023-02-08T17:29:57.950Z"
   },
   {
    "duration": 139,
    "start_time": "2023-02-08T21:49:31.222Z"
   },
   {
    "duration": 103,
    "start_time": "2023-02-08T21:52:17.274Z"
   },
   {
    "duration": 110,
    "start_time": "2023-02-08T21:55:33.963Z"
   },
   {
    "duration": 114,
    "start_time": "2023-02-08T22:06:27.707Z"
   },
   {
    "duration": 127,
    "start_time": "2023-02-08T22:39:00.045Z"
   }
  ],
  "colab": {
   "name": "dpp_template_part2.ipynb",
   "provenance": []
  },
  "kernelspec": {
   "display_name": "Python 3 (ipykernel)",
   "language": "python",
   "name": "python3"
  },
  "language_info": {
   "codemirror_mode": {
    "name": "ipython",
    "version": 3
   },
   "file_extension": ".py",
   "mimetype": "text/x-python",
   "name": "python",
   "nbconvert_exporter": "python",
   "pygments_lexer": "ipython3",
   "version": "3.9.13"
  },
  "toc": {
   "base_numbering": 1,
   "nav_menu": {},
   "number_sections": true,
   "sideBar": true,
   "skip_h1_title": true,
   "title_cell": "Table of Contents",
   "title_sidebar": "Contents",
   "toc_cell": false,
   "toc_position": {},
   "toc_section_display": true,
   "toc_window_display": true
  }
 },
 "nbformat": 4,
 "nbformat_minor": 5
}
