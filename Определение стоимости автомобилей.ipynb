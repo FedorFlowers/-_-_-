{
 "cells": [
  {
   "cell_type": "markdown",
   "metadata": {},
   "source": [
    "# Определение стоимости автомобилей"
   ]
  },
  {
   "cell_type": "markdown",
   "metadata": {},
   "source": [
    "Сервис по продаже автомобилей с пробегом «Не бит, не крашен» разрабатывает приложение для привлечения новых клиентов. В нём можно быстро узнать рыночную стоимость своего автомобиля. В вашем распоряжении исторические данные: технические характеристики, комплектации и цены автомобилей. Вам нужно построить модель для определения стоимости. \n",
    "\n",
    "Заказчику важны:\n",
    "\n",
    "- качество предсказания;\n",
    "- скорость предсказания;\n",
    "- время обучения."
   ]
  },
  {
   "cell_type": "markdown",
   "metadata": {},
   "source": [
    "# Описание данных\n",
    "Признаки\n",
    "- DateCrawled — дата скачивания анкеты из базы\n",
    "- VehicleType — тип автомобильного кузова\n",
    "- RegistrationYear — год регистрации автомобиля\n",
    "- Gearbox — тип коробки передач\n",
    "- Power — мощность (л. с.)\n",
    "- Model — модель автомобиля\n",
    "- Kilometer — пробег (км)\n",
    "- RegistrationMonth — месяц регистрации автомобиля\n",
    "- FuelType — тип топлива\n",
    "- Brand — марка автомобиля\n",
    "- Repaired — была машина в ремонте или нет\n",
    "- DateCreated — дата создания анкеты\n",
    "- NumberOfPictures — количество фотографий автомобиля\n",
    "- PostalCode — почтовый индекс владельца анкеты (пользователя)\n",
    "- LastSeen — дата последней активности пользователя\n",
    "\n",
    "Целевой признак\n",
    "- Price — цена (евро)"
   ]
  },
  {
   "cell_type": "markdown",
   "metadata": {},
   "source": [
    "## Подготовка данных"
   ]
  },
  {
   "cell_type": "code",
   "execution_count": 1,
   "metadata": {},
   "outputs": [],
   "source": [
    "import pandas as pd\n",
    "import matplotlib.pyplot as plt \n",
    "import seaborn as sns \n",
    "import numpy as np \n",
    "\n",
    "from sklearn.model_selection import train_test_split, GridSearchCV\n",
    "from sklearn.ensemble import RandomForestRegressor\n",
    "from sklearn.linear_model import LinearRegression\n",
    "from sklearn.metrics import mean_squared_error\n",
    "from sklearn.preprocessing import OneHotEncoder\n",
    "from sklearn.preprocessing import StandardScaler\n",
    "from sklearn.preprocessing import OrdinalEncoder\n",
    "from sklearn.model_selection import cross_val_score\n",
    "\n",
    "import lightgbm as lgb\n",
    "from catboost import CatBoostRegressor\n",
    "\n",
    "from time import time\n",
    "from tqdm import tqdm\n",
    "import time\n",
    "from sklearn.dummy import DummyRegressor"
   ]
  },
  {
   "cell_type": "code",
   "execution_count": 2,
   "metadata": {},
   "outputs": [
    {
     "name": "stdout",
     "output_type": "stream",
     "text": [
      "C:\\Users\\lukia\n"
     ]
    }
   ],
   "source": [
    "import os\n",
    "print(os.getcwd())\n",
    "\n",
    "file_path = 'autos.csv'\n",
    "df = pd.read_csv(file_path)"
   ]
  },
  {
   "cell_type": "code",
   "execution_count": 3,
   "metadata": {
    "scrolled": true
   },
   "outputs": [
    {
     "data": {
      "text/html": [
       "<div>\n",
       "<style scoped>\n",
       "    .dataframe tbody tr th:only-of-type {\n",
       "        vertical-align: middle;\n",
       "    }\n",
       "\n",
       "    .dataframe tbody tr th {\n",
       "        vertical-align: top;\n",
       "    }\n",
       "\n",
       "    .dataframe thead th {\n",
       "        text-align: right;\n",
       "    }\n",
       "</style>\n",
       "<table border=\"1\" class=\"dataframe\">\n",
       "  <thead>\n",
       "    <tr style=\"text-align: right;\">\n",
       "      <th></th>\n",
       "      <th>DateCrawled</th>\n",
       "      <th>Price</th>\n",
       "      <th>VehicleType</th>\n",
       "      <th>RegistrationYear</th>\n",
       "      <th>Gearbox</th>\n",
       "      <th>Power</th>\n",
       "      <th>Model</th>\n",
       "      <th>Kilometer</th>\n",
       "      <th>RegistrationMonth</th>\n",
       "      <th>FuelType</th>\n",
       "      <th>Brand</th>\n",
       "      <th>Repaired</th>\n",
       "      <th>DateCreated</th>\n",
       "      <th>NumberOfPictures</th>\n",
       "      <th>PostalCode</th>\n",
       "      <th>LastSeen</th>\n",
       "    </tr>\n",
       "  </thead>\n",
       "  <tbody>\n",
       "    <tr>\n",
       "      <th>0</th>\n",
       "      <td>2016-03-24 11:52:17</td>\n",
       "      <td>480</td>\n",
       "      <td>NaN</td>\n",
       "      <td>1993</td>\n",
       "      <td>manual</td>\n",
       "      <td>0</td>\n",
       "      <td>golf</td>\n",
       "      <td>150000</td>\n",
       "      <td>0</td>\n",
       "      <td>petrol</td>\n",
       "      <td>volkswagen</td>\n",
       "      <td>NaN</td>\n",
       "      <td>2016-03-24 00:00:00</td>\n",
       "      <td>0</td>\n",
       "      <td>70435</td>\n",
       "      <td>2016-04-07 03:16:57</td>\n",
       "    </tr>\n",
       "    <tr>\n",
       "      <th>1</th>\n",
       "      <td>2016-03-24 10:58:45</td>\n",
       "      <td>18300</td>\n",
       "      <td>coupe</td>\n",
       "      <td>2011</td>\n",
       "      <td>manual</td>\n",
       "      <td>190</td>\n",
       "      <td>NaN</td>\n",
       "      <td>125000</td>\n",
       "      <td>5</td>\n",
       "      <td>gasoline</td>\n",
       "      <td>audi</td>\n",
       "      <td>yes</td>\n",
       "      <td>2016-03-24 00:00:00</td>\n",
       "      <td>0</td>\n",
       "      <td>66954</td>\n",
       "      <td>2016-04-07 01:46:50</td>\n",
       "    </tr>\n",
       "    <tr>\n",
       "      <th>2</th>\n",
       "      <td>2016-03-14 12:52:21</td>\n",
       "      <td>9800</td>\n",
       "      <td>suv</td>\n",
       "      <td>2004</td>\n",
       "      <td>auto</td>\n",
       "      <td>163</td>\n",
       "      <td>grand</td>\n",
       "      <td>125000</td>\n",
       "      <td>8</td>\n",
       "      <td>gasoline</td>\n",
       "      <td>jeep</td>\n",
       "      <td>NaN</td>\n",
       "      <td>2016-03-14 00:00:00</td>\n",
       "      <td>0</td>\n",
       "      <td>90480</td>\n",
       "      <td>2016-04-05 12:47:46</td>\n",
       "    </tr>\n",
       "    <tr>\n",
       "      <th>3</th>\n",
       "      <td>2016-03-17 16:54:04</td>\n",
       "      <td>1500</td>\n",
       "      <td>small</td>\n",
       "      <td>2001</td>\n",
       "      <td>manual</td>\n",
       "      <td>75</td>\n",
       "      <td>golf</td>\n",
       "      <td>150000</td>\n",
       "      <td>6</td>\n",
       "      <td>petrol</td>\n",
       "      <td>volkswagen</td>\n",
       "      <td>no</td>\n",
       "      <td>2016-03-17 00:00:00</td>\n",
       "      <td>0</td>\n",
       "      <td>91074</td>\n",
       "      <td>2016-03-17 17:40:17</td>\n",
       "    </tr>\n",
       "    <tr>\n",
       "      <th>4</th>\n",
       "      <td>2016-03-31 17:25:20</td>\n",
       "      <td>3600</td>\n",
       "      <td>small</td>\n",
       "      <td>2008</td>\n",
       "      <td>manual</td>\n",
       "      <td>69</td>\n",
       "      <td>fabia</td>\n",
       "      <td>90000</td>\n",
       "      <td>7</td>\n",
       "      <td>gasoline</td>\n",
       "      <td>skoda</td>\n",
       "      <td>no</td>\n",
       "      <td>2016-03-31 00:00:00</td>\n",
       "      <td>0</td>\n",
       "      <td>60437</td>\n",
       "      <td>2016-04-06 10:17:21</td>\n",
       "    </tr>\n",
       "  </tbody>\n",
       "</table>\n",
       "</div>"
      ],
      "text/plain": [
       "           DateCrawled  Price VehicleType  RegistrationYear Gearbox  Power  \\\n",
       "0  2016-03-24 11:52:17    480         NaN              1993  manual      0   \n",
       "1  2016-03-24 10:58:45  18300       coupe              2011  manual    190   \n",
       "2  2016-03-14 12:52:21   9800         suv              2004    auto    163   \n",
       "3  2016-03-17 16:54:04   1500       small              2001  manual     75   \n",
       "4  2016-03-31 17:25:20   3600       small              2008  manual     69   \n",
       "\n",
       "   Model  Kilometer  RegistrationMonth  FuelType       Brand Repaired  \\\n",
       "0   golf     150000                  0    petrol  volkswagen      NaN   \n",
       "1    NaN     125000                  5  gasoline        audi      yes   \n",
       "2  grand     125000                  8  gasoline        jeep      NaN   \n",
       "3   golf     150000                  6    petrol  volkswagen       no   \n",
       "4  fabia      90000                  7  gasoline       skoda       no   \n",
       "\n",
       "           DateCreated  NumberOfPictures  PostalCode             LastSeen  \n",
       "0  2016-03-24 00:00:00                 0       70435  2016-04-07 03:16:57  \n",
       "1  2016-03-24 00:00:00                 0       66954  2016-04-07 01:46:50  \n",
       "2  2016-03-14 00:00:00                 0       90480  2016-04-05 12:47:46  \n",
       "3  2016-03-17 00:00:00                 0       91074  2016-03-17 17:40:17  \n",
       "4  2016-03-31 00:00:00                 0       60437  2016-04-06 10:17:21  "
      ]
     },
     "execution_count": 3,
     "metadata": {},
     "output_type": "execute_result"
    }
   ],
   "source": [
    "df.head()"
   ]
  },
  {
   "cell_type": "code",
   "execution_count": 4,
   "metadata": {},
   "outputs": [
    {
     "name": "stdout",
     "output_type": "stream",
     "text": [
      "<class 'pandas.core.frame.DataFrame'>\n",
      "RangeIndex: 354369 entries, 0 to 354368\n",
      "Data columns (total 16 columns):\n",
      " #   Column             Non-Null Count   Dtype \n",
      "---  ------             --------------   ----- \n",
      " 0   DateCrawled        354369 non-null  object\n",
      " 1   Price              354369 non-null  int64 \n",
      " 2   VehicleType        316879 non-null  object\n",
      " 3   RegistrationYear   354369 non-null  int64 \n",
      " 4   Gearbox            334536 non-null  object\n",
      " 5   Power              354369 non-null  int64 \n",
      " 6   Model              334664 non-null  object\n",
      " 7   Kilometer          354369 non-null  int64 \n",
      " 8   RegistrationMonth  354369 non-null  int64 \n",
      " 9   FuelType           321474 non-null  object\n",
      " 10  Brand              354369 non-null  object\n",
      " 11  Repaired           283215 non-null  object\n",
      " 12  DateCreated        354369 non-null  object\n",
      " 13  NumberOfPictures   354369 non-null  int64 \n",
      " 14  PostalCode         354369 non-null  int64 \n",
      " 15  LastSeen           354369 non-null  object\n",
      "dtypes: int64(7), object(9)\n",
      "memory usage: 43.3+ MB\n"
     ]
    }
   ],
   "source": [
    "df.info()"
   ]
  },
  {
   "cell_type": "markdown",
   "metadata": {},
   "source": [
    "Проверим и удалим дупликаты "
   ]
  },
  {
   "cell_type": "code",
   "execution_count": 5,
   "metadata": {},
   "outputs": [
    {
     "data": {
      "text/plain": [
       "4"
      ]
     },
     "execution_count": 5,
     "metadata": {},
     "output_type": "execute_result"
    }
   ],
   "source": [
    "df.duplicated().sum()"
   ]
  },
  {
   "cell_type": "code",
   "execution_count": 6,
   "metadata": {},
   "outputs": [
    {
     "data": {
      "text/plain": [
       "0"
      ]
     },
     "execution_count": 6,
     "metadata": {},
     "output_type": "execute_result"
    }
   ],
   "source": [
    "df = df.drop_duplicates().reset_index(drop=True)\n",
    "df.duplicated().sum()"
   ]
  },
  {
   "cell_type": "markdown",
   "metadata": {},
   "source": [
    "Проверим и пропуски"
   ]
  },
  {
   "cell_type": "code",
   "execution_count": 7,
   "metadata": {},
   "outputs": [
    {
     "data": {
      "text/plain": [
       "DateCrawled              0\n",
       "Price                    0\n",
       "VehicleType          37490\n",
       "RegistrationYear         0\n",
       "Gearbox              19833\n",
       "Power                    0\n",
       "Model                19705\n",
       "Kilometer                0\n",
       "RegistrationMonth        0\n",
       "FuelType             32895\n",
       "Brand                    0\n",
       "Repaired             71154\n",
       "DateCreated              0\n",
       "NumberOfPictures         0\n",
       "PostalCode               0\n",
       "LastSeen                 0\n",
       "dtype: int64"
      ]
     },
     "execution_count": 7,
     "metadata": {},
     "output_type": "execute_result"
    }
   ],
   "source": [
    "df.isna().sum()"
   ]
  },
  {
   "cell_type": "code",
   "execution_count": 8,
   "metadata": {},
   "outputs": [
    {
     "data": {
      "text/plain": [
       "array(['Repaired', 'VehicleType', 'FuelType', 'Gearbox', 'Model'],\n",
       "      dtype=object)"
      ]
     },
     "execution_count": 8,
     "metadata": {},
     "output_type": "execute_result"
    }
   ],
   "source": [
    "cols = df.isna().mean().sort_values(ascending=False).reset_index()\n",
    "cols = cols[cols[0] > 0]\n",
    "cols_with_missing = cols['index'].values\n",
    "cols_with_missing"
   ]
  },
  {
   "cell_type": "markdown",
   "metadata": {},
   "source": [
    "Данные колонки содержат категориальные признаки, поэтому пропуски заменим на ‘unknown’"
   ]
  },
  {
   "cell_type": "code",
   "execution_count": 9,
   "metadata": {},
   "outputs": [
    {
     "data": {
      "text/plain": [
       "DateCrawled          0\n",
       "Price                0\n",
       "VehicleType          0\n",
       "RegistrationYear     0\n",
       "Gearbox              0\n",
       "Power                0\n",
       "Model                0\n",
       "Kilometer            0\n",
       "RegistrationMonth    0\n",
       "FuelType             0\n",
       "Brand                0\n",
       "Repaired             0\n",
       "DateCreated          0\n",
       "NumberOfPictures     0\n",
       "PostalCode           0\n",
       "LastSeen             0\n",
       "dtype: int64"
      ]
     },
     "execution_count": 9,
     "metadata": {},
     "output_type": "execute_result"
    }
   ],
   "source": [
    "df[cols_with_missing] = df[cols_with_missing].fillna('unknown')\n",
    "df.isna().sum()"
   ]
  },
  {
   "cell_type": "markdown",
   "metadata": {},
   "source": [
    "Удаление лишних колонок которые не понадобяться в обучении"
   ]
  },
  {
   "cell_type": "markdown",
   "metadata": {},
   "source": [
    "В столбце NumberOfPictures все значения 0. Также, логически, следующие колонки: 'DateCrawled', 'DateCreated', 'PostalCode', 'LastSeen' не имеют веса в обучении \n",
    "\n",
    "- DateCrawled — дата скачивания анкеты из базы\n",
    "- DateCreated — дата создания анкеты\n",
    "- NumberOfPictures — количество фотографий автомобиля (так как в столбце нет значений кроме 0)\n",
    "- PostalCode — почтовый индекс владельца анкеты (пользователя)\n",
    "- LastSeen — дата последней активности пользователя"
   ]
  },
  {
   "cell_type": "code",
   "execution_count": 10,
   "metadata": {},
   "outputs": [
    {
     "data": {
      "text/plain": [
       "array([0], dtype=int64)"
      ]
     },
     "execution_count": 10,
     "metadata": {},
     "output_type": "execute_result"
    }
   ],
   "source": [
    "df['NumberOfPictures'].unique()  "
   ]
  },
  {
   "cell_type": "code",
   "execution_count": 11,
   "metadata": {},
   "outputs": [
    {
     "data": {
      "text/html": [
       "<div>\n",
       "<style scoped>\n",
       "    .dataframe tbody tr th:only-of-type {\n",
       "        vertical-align: middle;\n",
       "    }\n",
       "\n",
       "    .dataframe tbody tr th {\n",
       "        vertical-align: top;\n",
       "    }\n",
       "\n",
       "    .dataframe thead th {\n",
       "        text-align: right;\n",
       "    }\n",
       "</style>\n",
       "<table border=\"1\" class=\"dataframe\">\n",
       "  <thead>\n",
       "    <tr style=\"text-align: right;\">\n",
       "      <th></th>\n",
       "      <th>Price</th>\n",
       "      <th>VehicleType</th>\n",
       "      <th>RegistrationYear</th>\n",
       "      <th>Gearbox</th>\n",
       "      <th>Power</th>\n",
       "      <th>Model</th>\n",
       "      <th>Kilometer</th>\n",
       "      <th>FuelType</th>\n",
       "      <th>Brand</th>\n",
       "      <th>Repaired</th>\n",
       "    </tr>\n",
       "  </thead>\n",
       "  <tbody>\n",
       "    <tr>\n",
       "      <th>0</th>\n",
       "      <td>480</td>\n",
       "      <td>unknown</td>\n",
       "      <td>1993</td>\n",
       "      <td>manual</td>\n",
       "      <td>0</td>\n",
       "      <td>golf</td>\n",
       "      <td>150000</td>\n",
       "      <td>petrol</td>\n",
       "      <td>volkswagen</td>\n",
       "      <td>unknown</td>\n",
       "    </tr>\n",
       "    <tr>\n",
       "      <th>1</th>\n",
       "      <td>18300</td>\n",
       "      <td>coupe</td>\n",
       "      <td>2011</td>\n",
       "      <td>manual</td>\n",
       "      <td>190</td>\n",
       "      <td>unknown</td>\n",
       "      <td>125000</td>\n",
       "      <td>gasoline</td>\n",
       "      <td>audi</td>\n",
       "      <td>yes</td>\n",
       "    </tr>\n",
       "    <tr>\n",
       "      <th>2</th>\n",
       "      <td>9800</td>\n",
       "      <td>suv</td>\n",
       "      <td>2004</td>\n",
       "      <td>auto</td>\n",
       "      <td>163</td>\n",
       "      <td>grand</td>\n",
       "      <td>125000</td>\n",
       "      <td>gasoline</td>\n",
       "      <td>jeep</td>\n",
       "      <td>unknown</td>\n",
       "    </tr>\n",
       "    <tr>\n",
       "      <th>3</th>\n",
       "      <td>1500</td>\n",
       "      <td>small</td>\n",
       "      <td>2001</td>\n",
       "      <td>manual</td>\n",
       "      <td>75</td>\n",
       "      <td>golf</td>\n",
       "      <td>150000</td>\n",
       "      <td>petrol</td>\n",
       "      <td>volkswagen</td>\n",
       "      <td>no</td>\n",
       "    </tr>\n",
       "    <tr>\n",
       "      <th>4</th>\n",
       "      <td>3600</td>\n",
       "      <td>small</td>\n",
       "      <td>2008</td>\n",
       "      <td>manual</td>\n",
       "      <td>69</td>\n",
       "      <td>fabia</td>\n",
       "      <td>90000</td>\n",
       "      <td>gasoline</td>\n",
       "      <td>skoda</td>\n",
       "      <td>no</td>\n",
       "    </tr>\n",
       "    <tr>\n",
       "      <th>...</th>\n",
       "      <td>...</td>\n",
       "      <td>...</td>\n",
       "      <td>...</td>\n",
       "      <td>...</td>\n",
       "      <td>...</td>\n",
       "      <td>...</td>\n",
       "      <td>...</td>\n",
       "      <td>...</td>\n",
       "      <td>...</td>\n",
       "      <td>...</td>\n",
       "    </tr>\n",
       "    <tr>\n",
       "      <th>354360</th>\n",
       "      <td>0</td>\n",
       "      <td>unknown</td>\n",
       "      <td>2005</td>\n",
       "      <td>manual</td>\n",
       "      <td>0</td>\n",
       "      <td>colt</td>\n",
       "      <td>150000</td>\n",
       "      <td>petrol</td>\n",
       "      <td>mitsubishi</td>\n",
       "      <td>yes</td>\n",
       "    </tr>\n",
       "    <tr>\n",
       "      <th>354361</th>\n",
       "      <td>2200</td>\n",
       "      <td>unknown</td>\n",
       "      <td>2005</td>\n",
       "      <td>unknown</td>\n",
       "      <td>0</td>\n",
       "      <td>unknown</td>\n",
       "      <td>20000</td>\n",
       "      <td>unknown</td>\n",
       "      <td>sonstige_autos</td>\n",
       "      <td>unknown</td>\n",
       "    </tr>\n",
       "    <tr>\n",
       "      <th>354362</th>\n",
       "      <td>1199</td>\n",
       "      <td>convertible</td>\n",
       "      <td>2000</td>\n",
       "      <td>auto</td>\n",
       "      <td>101</td>\n",
       "      <td>fortwo</td>\n",
       "      <td>125000</td>\n",
       "      <td>petrol</td>\n",
       "      <td>smart</td>\n",
       "      <td>no</td>\n",
       "    </tr>\n",
       "    <tr>\n",
       "      <th>354363</th>\n",
       "      <td>9200</td>\n",
       "      <td>bus</td>\n",
       "      <td>1996</td>\n",
       "      <td>manual</td>\n",
       "      <td>102</td>\n",
       "      <td>transporter</td>\n",
       "      <td>150000</td>\n",
       "      <td>gasoline</td>\n",
       "      <td>volkswagen</td>\n",
       "      <td>no</td>\n",
       "    </tr>\n",
       "    <tr>\n",
       "      <th>354364</th>\n",
       "      <td>3400</td>\n",
       "      <td>wagon</td>\n",
       "      <td>2002</td>\n",
       "      <td>manual</td>\n",
       "      <td>100</td>\n",
       "      <td>golf</td>\n",
       "      <td>150000</td>\n",
       "      <td>gasoline</td>\n",
       "      <td>volkswagen</td>\n",
       "      <td>unknown</td>\n",
       "    </tr>\n",
       "  </tbody>\n",
       "</table>\n",
       "<p>354365 rows × 10 columns</p>\n",
       "</div>"
      ],
      "text/plain": [
       "        Price  VehicleType  RegistrationYear  Gearbox  Power        Model  \\\n",
       "0         480      unknown              1993   manual      0         golf   \n",
       "1       18300        coupe              2011   manual    190      unknown   \n",
       "2        9800          suv              2004     auto    163        grand   \n",
       "3        1500        small              2001   manual     75         golf   \n",
       "4        3600        small              2008   manual     69        fabia   \n",
       "...       ...          ...               ...      ...    ...          ...   \n",
       "354360      0      unknown              2005   manual      0         colt   \n",
       "354361   2200      unknown              2005  unknown      0      unknown   \n",
       "354362   1199  convertible              2000     auto    101       fortwo   \n",
       "354363   9200          bus              1996   manual    102  transporter   \n",
       "354364   3400        wagon              2002   manual    100         golf   \n",
       "\n",
       "        Kilometer  FuelType           Brand Repaired  \n",
       "0          150000    petrol      volkswagen  unknown  \n",
       "1          125000  gasoline            audi      yes  \n",
       "2          125000  gasoline            jeep  unknown  \n",
       "3          150000    petrol      volkswagen       no  \n",
       "4           90000  gasoline           skoda       no  \n",
       "...           ...       ...             ...      ...  \n",
       "354360     150000    petrol      mitsubishi      yes  \n",
       "354361      20000   unknown  sonstige_autos  unknown  \n",
       "354362     125000    petrol           smart       no  \n",
       "354363     150000  gasoline      volkswagen       no  \n",
       "354364     150000  gasoline      volkswagen  unknown  \n",
       "\n",
       "[354365 rows x 10 columns]"
      ]
     },
     "execution_count": 11,
     "metadata": {},
     "output_type": "execute_result"
    }
   ],
   "source": [
    "df = df.drop(['DateCrawled', 'DateCreated', 'PostalCode', 'LastSeen', 'NumberOfPictures', 'RegistrationMonth'], axis = 1)\n",
    "df"
   ]
  },
  {
   "cell_type": "markdown",
   "metadata": {},
   "source": [
    "Ппроверим дупликаты после удаления замены пропусков и удаления лишних столбцов"
   ]
  },
  {
   "cell_type": "code",
   "execution_count": 12,
   "metadata": {
    "scrolled": true
   },
   "outputs": [
    {
     "data": {
      "text/plain": [
       "45036"
      ]
     },
     "execution_count": 12,
     "metadata": {},
     "output_type": "execute_result"
    }
   ],
   "source": [
    "df.duplicated().sum()"
   ]
  },
  {
   "cell_type": "code",
   "execution_count": 13,
   "metadata": {},
   "outputs": [
    {
     "data": {
      "text/plain": [
       "0"
      ]
     },
     "execution_count": 13,
     "metadata": {},
     "output_type": "execute_result"
    }
   ],
   "source": [
    "df = df.drop_duplicates().reset_index(drop=True)\n",
    "df.duplicated().sum()"
   ]
  },
  {
   "cell_type": "markdown",
   "metadata": {},
   "source": [
    "Посмотрим на графики числовых столбоцв и на выбросы"
   ]
  },
  {
   "cell_type": "code",
   "execution_count": 14,
   "metadata": {
    "scrolled": false
   },
   "outputs": [
    {
     "data": {
      "image/png": "[encoded data removed]",
      "text/plain": [
       "<Figure size 800x600 with 1 Axes>"
      ]
     },
     "metadata": {},
     "output_type": "display_data"
    },
    {
     "data": {
      "image/png": "[encoded data removed]",
      "text/plain": [
       "<Figure size 800x600 with 1 Axes>"
      ]
     },
     "metadata": {},
     "output_type": "display_data"
    },
    {
     "data": {
      "image/png": "[encoded data removed]",
      "text/plain": [
       "<Figure size 800x600 with 1 Axes>"
      ]
     },
     "metadata": {},
     "output_type": "display_data"
    },
    {
     "data": {
      "image/png": "[encoded data removed]",
      "text/plain": [
       "<Figure size 800x600 with 1 Axes>"
      ]
     },
     "metadata": {},
     "output_type": "display_data"
    },
    {
     "data": {
      "image/png": "[encoded data removed]",
      "text/plain": [
       "<Figure size 800x600 with 1 Axes>"
      ]
     },
     "metadata": {},
     "output_type": "display_data"
    },
    {
     "data": {
      "image/png": "[encoded data removed]",
      "text/plain": [
       "<Figure size 800x600 with 1 Axes>"
      ]
     },
     "metadata": {},
     "output_type": "display_data"
    },
    {
     "data": {
      "image/png": "[encoded data removed]",
      "text/plain": [
       "<Figure size 800x600 with 1 Axes>"
      ]
     },
     "metadata": {},
     "output_type": "display_data"
    },
    {
     "data": {
      "image/png": "[encoded data removed]",
      "text/plain": [
       "<Figure size 800x600 with 1 Axes>"
      ]
     },
     "metadata": {},
     "output_type": "display_data"
    }
   ],
   "source": [
    "def plot_histogram(data, feature_name, bins=50, kde=True):\n",
    "    plt.figure(figsize=(8, 6))\n",
    "    sns.histplot(data[feature_name], bins=bins, kde=kde)\n",
    "    plt.title(f'{feature_name}')\n",
    "    plt.xlabel(feature_name)\n",
    "    plt.ylabel('Count')\n",
    "    plt.autoscale(enable=True, axis='both', tight=True)\n",
    "    plt.tight_layout()  \n",
    "    plt.show()\n",
    "\n",
    "def plot_boxplot(data, feature_name, title=None):\n",
    "    plt.figure(figsize=(8, 6))\n",
    "    sns.boxplot(x=data[feature_name])\n",
    "    plt.title(f'{feature_name}')\n",
    "    plt.xlabel(feature_name)\n",
    "    plt.autoscale(enable=True, axis='both', tight=True)\n",
    "    plt.tight_layout() \n",
    "    plt.show()\n",
    "    \n",
    "numeric_columns = df.select_dtypes(include=['int64']).columns\n",
    "\n",
    "for column in numeric_columns:\n",
    "    plot_histogram(df, column)\n",
    "    plot_boxplot(df, column)"
   ]
  },
  {
   "cell_type": "code",
   "execution_count": 15,
   "metadata": {},
   "outputs": [
    {
     "data": {
      "text/html": [
       "<div>\n",
       "<style scoped>\n",
       "    .dataframe tbody tr th:only-of-type {\n",
       "        vertical-align: middle;\n",
       "    }\n",
       "\n",
       "    .dataframe tbody tr th {\n",
       "        vertical-align: top;\n",
       "    }\n",
       "\n",
       "    .dataframe thead th {\n",
       "        text-align: right;\n",
       "    }\n",
       "</style>\n",
       "<table border=\"1\" class=\"dataframe\">\n",
       "  <thead>\n",
       "    <tr style=\"text-align: right;\">\n",
       "      <th></th>\n",
       "      <th>Price</th>\n",
       "      <th>RegistrationYear</th>\n",
       "      <th>Power</th>\n",
       "      <th>Kilometer</th>\n",
       "    </tr>\n",
       "  </thead>\n",
       "  <tbody>\n",
       "    <tr>\n",
       "      <th>count</th>\n",
       "      <td>309329.000000</td>\n",
       "      <td>309329.000000</td>\n",
       "      <td>309329.000000</td>\n",
       "      <td>309329.000000</td>\n",
       "    </tr>\n",
       "    <tr>\n",
       "      <th>mean</th>\n",
       "      <td>4486.937196</td>\n",
       "      <td>2004.360105</td>\n",
       "      <td>110.976908</td>\n",
       "      <td>127217.735809</td>\n",
       "    </tr>\n",
       "    <tr>\n",
       "      <th>std</th>\n",
       "      <td>4564.852796</td>\n",
       "      <td>92.541399</td>\n",
       "      <td>200.969473</td>\n",
       "      <td>38532.941010</td>\n",
       "    </tr>\n",
       "    <tr>\n",
       "      <th>min</th>\n",
       "      <td>0.000000</td>\n",
       "      <td>1000.000000</td>\n",
       "      <td>0.000000</td>\n",
       "      <td>5000.000000</td>\n",
       "    </tr>\n",
       "    <tr>\n",
       "      <th>25%</th>\n",
       "      <td>1100.000000</td>\n",
       "      <td>1999.000000</td>\n",
       "      <td>69.000000</td>\n",
       "      <td>125000.000000</td>\n",
       "    </tr>\n",
       "    <tr>\n",
       "      <th>50%</th>\n",
       "      <td>2800.000000</td>\n",
       "      <td>2003.000000</td>\n",
       "      <td>105.000000</td>\n",
       "      <td>150000.000000</td>\n",
       "    </tr>\n",
       "    <tr>\n",
       "      <th>75%</th>\n",
       "      <td>6500.000000</td>\n",
       "      <td>2008.000000</td>\n",
       "      <td>143.000000</td>\n",
       "      <td>150000.000000</td>\n",
       "    </tr>\n",
       "    <tr>\n",
       "      <th>max</th>\n",
       "      <td>20000.000000</td>\n",
       "      <td>9999.000000</td>\n",
       "      <td>20000.000000</td>\n",
       "      <td>150000.000000</td>\n",
       "    </tr>\n",
       "  </tbody>\n",
       "</table>\n",
       "</div>"
      ],
      "text/plain": [
       "               Price  RegistrationYear          Power      Kilometer\n",
       "count  309329.000000     309329.000000  309329.000000  309329.000000\n",
       "mean     4486.937196       2004.360105     110.976908  127217.735809\n",
       "std      4564.852796         92.541399     200.969473   38532.941010\n",
       "min         0.000000       1000.000000       0.000000    5000.000000\n",
       "25%      1100.000000       1999.000000      69.000000  125000.000000\n",
       "50%      2800.000000       2003.000000     105.000000  150000.000000\n",
       "75%      6500.000000       2008.000000     143.000000  150000.000000\n",
       "max     20000.000000       9999.000000   20000.000000  150000.000000"
      ]
     },
     "execution_count": 15,
     "metadata": {},
     "output_type": "execute_result"
    }
   ],
   "source": [
    "df.describe()"
   ]
  },
  {
   "cell_type": "markdown",
   "metadata": {},
   "source": [
    "Некоторые значения похожи на выбросы, например такие как:\n",
    "- мощность, которая достигает у некоторых элементов безумных значений. Можно удалить все что меньше 1000 лошадиных сил и то что меньше 5 лошадиных сил.\n",
    "- дата регистрации, например те машины, которым уже больше 100 лет, и те где года указаны больше сегодняшнего (2022)"
   ]
  },
  {
   "cell_type": "code",
   "execution_count": 16,
   "metadata": {},
   "outputs": [
    {
     "data": {
      "text/html": [
       "<div>\n",
       "<style scoped>\n",
       "    .dataframe tbody tr th:only-of-type {\n",
       "        vertical-align: middle;\n",
       "    }\n",
       "\n",
       "    .dataframe tbody tr th {\n",
       "        vertical-align: top;\n",
       "    }\n",
       "\n",
       "    .dataframe thead th {\n",
       "        text-align: right;\n",
       "    }\n",
       "</style>\n",
       "<table border=\"1\" class=\"dataframe\">\n",
       "  <thead>\n",
       "    <tr style=\"text-align: right;\">\n",
       "      <th></th>\n",
       "      <th>Price</th>\n",
       "      <th>VehicleType</th>\n",
       "      <th>RegistrationYear</th>\n",
       "      <th>Gearbox</th>\n",
       "      <th>Power</th>\n",
       "      <th>Model</th>\n",
       "      <th>Kilometer</th>\n",
       "      <th>FuelType</th>\n",
       "      <th>Brand</th>\n",
       "      <th>Repaired</th>\n",
       "    </tr>\n",
       "  </thead>\n",
       "  <tbody>\n",
       "    <tr>\n",
       "      <th>0</th>\n",
       "      <td>480</td>\n",
       "      <td>unknown</td>\n",
       "      <td>1993</td>\n",
       "      <td>manual</td>\n",
       "      <td>0</td>\n",
       "      <td>golf</td>\n",
       "      <td>150000</td>\n",
       "      <td>petrol</td>\n",
       "      <td>volkswagen</td>\n",
       "      <td>unknown</td>\n",
       "    </tr>\n",
       "    <tr>\n",
       "      <th>15</th>\n",
       "      <td>450</td>\n",
       "      <td>small</td>\n",
       "      <td>1910</td>\n",
       "      <td>unknown</td>\n",
       "      <td>0</td>\n",
       "      <td>ka</td>\n",
       "      <td>5000</td>\n",
       "      <td>petrol</td>\n",
       "      <td>ford</td>\n",
       "      <td>unknown</td>\n",
       "    </tr>\n",
       "    <tr>\n",
       "      <th>32</th>\n",
       "      <td>245</td>\n",
       "      <td>sedan</td>\n",
       "      <td>1994</td>\n",
       "      <td>unknown</td>\n",
       "      <td>0</td>\n",
       "      <td>golf</td>\n",
       "      <td>150000</td>\n",
       "      <td>petrol</td>\n",
       "      <td>volkswagen</td>\n",
       "      <td>no</td>\n",
       "    </tr>\n",
       "    <tr>\n",
       "      <th>37</th>\n",
       "      <td>1500</td>\n",
       "      <td>unknown</td>\n",
       "      <td>2016</td>\n",
       "      <td>unknown</td>\n",
       "      <td>0</td>\n",
       "      <td>kangoo</td>\n",
       "      <td>150000</td>\n",
       "      <td>gasoline</td>\n",
       "      <td>renault</td>\n",
       "      <td>no</td>\n",
       "    </tr>\n",
       "    <tr>\n",
       "      <th>40</th>\n",
       "      <td>0</td>\n",
       "      <td>unknown</td>\n",
       "      <td>1990</td>\n",
       "      <td>unknown</td>\n",
       "      <td>0</td>\n",
       "      <td>corsa</td>\n",
       "      <td>150000</td>\n",
       "      <td>petrol</td>\n",
       "      <td>opel</td>\n",
       "      <td>unknown</td>\n",
       "    </tr>\n",
       "    <tr>\n",
       "      <th>...</th>\n",
       "      <td>...</td>\n",
       "      <td>...</td>\n",
       "      <td>...</td>\n",
       "      <td>...</td>\n",
       "      <td>...</td>\n",
       "      <td>...</td>\n",
       "      <td>...</td>\n",
       "      <td>...</td>\n",
       "      <td>...</td>\n",
       "      <td>...</td>\n",
       "    </tr>\n",
       "    <tr>\n",
       "      <th>309306</th>\n",
       "      <td>180</td>\n",
       "      <td>unknown</td>\n",
       "      <td>1995</td>\n",
       "      <td>unknown</td>\n",
       "      <td>0</td>\n",
       "      <td>unknown</td>\n",
       "      <td>125000</td>\n",
       "      <td>petrol</td>\n",
       "      <td>opel</td>\n",
       "      <td>unknown</td>\n",
       "    </tr>\n",
       "    <tr>\n",
       "      <th>309312</th>\n",
       "      <td>2600</td>\n",
       "      <td>unknown</td>\n",
       "      <td>2005</td>\n",
       "      <td>auto</td>\n",
       "      <td>0</td>\n",
       "      <td>c_klasse</td>\n",
       "      <td>150000</td>\n",
       "      <td>unknown</td>\n",
       "      <td>mercedes_benz</td>\n",
       "      <td>unknown</td>\n",
       "    </tr>\n",
       "    <tr>\n",
       "      <th>309321</th>\n",
       "      <td>3999</td>\n",
       "      <td>wagon</td>\n",
       "      <td>2005</td>\n",
       "      <td>manual</td>\n",
       "      <td>3</td>\n",
       "      <td>3er</td>\n",
       "      <td>150000</td>\n",
       "      <td>gasoline</td>\n",
       "      <td>bmw</td>\n",
       "      <td>no</td>\n",
       "    </tr>\n",
       "    <tr>\n",
       "      <th>309324</th>\n",
       "      <td>0</td>\n",
       "      <td>unknown</td>\n",
       "      <td>2005</td>\n",
       "      <td>manual</td>\n",
       "      <td>0</td>\n",
       "      <td>colt</td>\n",
       "      <td>150000</td>\n",
       "      <td>petrol</td>\n",
       "      <td>mitsubishi</td>\n",
       "      <td>yes</td>\n",
       "    </tr>\n",
       "    <tr>\n",
       "      <th>309325</th>\n",
       "      <td>2200</td>\n",
       "      <td>unknown</td>\n",
       "      <td>2005</td>\n",
       "      <td>unknown</td>\n",
       "      <td>0</td>\n",
       "      <td>unknown</td>\n",
       "      <td>20000</td>\n",
       "      <td>unknown</td>\n",
       "      <td>sonstige_autos</td>\n",
       "      <td>unknown</td>\n",
       "    </tr>\n",
       "  </tbody>\n",
       "</table>\n",
       "<p>36456 rows × 10 columns</p>\n",
       "</div>"
      ],
      "text/plain": [
       "        Price VehicleType  RegistrationYear  Gearbox  Power     Model  \\\n",
       "0         480     unknown              1993   manual      0      golf   \n",
       "15        450       small              1910  unknown      0        ka   \n",
       "32        245       sedan              1994  unknown      0      golf   \n",
       "37       1500     unknown              2016  unknown      0    kangoo   \n",
       "40          0     unknown              1990  unknown      0     corsa   \n",
       "...       ...         ...               ...      ...    ...       ...   \n",
       "309306    180     unknown              1995  unknown      0   unknown   \n",
       "309312   2600     unknown              2005     auto      0  c_klasse   \n",
       "309321   3999       wagon              2005   manual      3       3er   \n",
       "309324      0     unknown              2005   manual      0      colt   \n",
       "309325   2200     unknown              2005  unknown      0   unknown   \n",
       "\n",
       "        Kilometer  FuelType           Brand Repaired  \n",
       "0          150000    petrol      volkswagen  unknown  \n",
       "15           5000    petrol            ford  unknown  \n",
       "32         150000    petrol      volkswagen       no  \n",
       "37         150000  gasoline         renault       no  \n",
       "40         150000    petrol            opel  unknown  \n",
       "...           ...       ...             ...      ...  \n",
       "309306     125000    petrol            opel  unknown  \n",
       "309312     150000   unknown   mercedes_benz  unknown  \n",
       "309321     150000  gasoline             bmw       no  \n",
       "309324     150000    petrol      mitsubishi      yes  \n",
       "309325      20000   unknown  sonstige_autos  unknown  \n",
       "\n",
       "[36456 rows x 10 columns]"
      ]
     },
     "execution_count": 16,
     "metadata": {},
     "output_type": "execute_result"
    }
   ],
   "source": [
    "df.query('Power >= 1000 | Power <= 5')\n"
   ]
  },
  {
   "cell_type": "code",
   "execution_count": 17,
   "metadata": {},
   "outputs": [
    {
     "data": {
      "text/html": [
       "<div>\n",
       "<style scoped>\n",
       "    .dataframe tbody tr th:only-of-type {\n",
       "        vertical-align: middle;\n",
       "    }\n",
       "\n",
       "    .dataframe tbody tr th {\n",
       "        vertical-align: top;\n",
       "    }\n",
       "\n",
       "    .dataframe thead th {\n",
       "        text-align: right;\n",
       "    }\n",
       "</style>\n",
       "<table border=\"1\" class=\"dataframe\">\n",
       "  <thead>\n",
       "    <tr style=\"text-align: right;\">\n",
       "      <th></th>\n",
       "      <th>Price</th>\n",
       "      <th>VehicleType</th>\n",
       "      <th>RegistrationYear</th>\n",
       "      <th>Gearbox</th>\n",
       "      <th>Power</th>\n",
       "      <th>Model</th>\n",
       "      <th>Kilometer</th>\n",
       "      <th>FuelType</th>\n",
       "      <th>Brand</th>\n",
       "      <th>Repaired</th>\n",
       "    </tr>\n",
       "  </thead>\n",
       "  <tbody>\n",
       "    <tr>\n",
       "      <th>15</th>\n",
       "      <td>450</td>\n",
       "      <td>small</td>\n",
       "      <td>1910</td>\n",
       "      <td>unknown</td>\n",
       "      <td>0</td>\n",
       "      <td>ka</td>\n",
       "      <td>5000</td>\n",
       "      <td>petrol</td>\n",
       "      <td>ford</td>\n",
       "      <td>unknown</td>\n",
       "    </tr>\n",
       "    <tr>\n",
       "      <th>622</th>\n",
       "      <td>0</td>\n",
       "      <td>unknown</td>\n",
       "      <td>1111</td>\n",
       "      <td>unknown</td>\n",
       "      <td>0</td>\n",
       "      <td>unknown</td>\n",
       "      <td>5000</td>\n",
       "      <td>unknown</td>\n",
       "      <td>opel</td>\n",
       "      <td>unknown</td>\n",
       "    </tr>\n",
       "    <tr>\n",
       "      <th>6601</th>\n",
       "      <td>0</td>\n",
       "      <td>small</td>\n",
       "      <td>1910</td>\n",
       "      <td>unknown</td>\n",
       "      <td>0</td>\n",
       "      <td>unknown</td>\n",
       "      <td>5000</td>\n",
       "      <td>other</td>\n",
       "      <td>sonstige_autos</td>\n",
       "      <td>unknown</td>\n",
       "    </tr>\n",
       "    <tr>\n",
       "      <th>6943</th>\n",
       "      <td>135</td>\n",
       "      <td>unknown</td>\n",
       "      <td>1910</td>\n",
       "      <td>unknown</td>\n",
       "      <td>0</td>\n",
       "      <td>unknown</td>\n",
       "      <td>5000</td>\n",
       "      <td>unknown</td>\n",
       "      <td>opel</td>\n",
       "      <td>unknown</td>\n",
       "    </tr>\n",
       "    <tr>\n",
       "      <th>10110</th>\n",
       "      <td>1250</td>\n",
       "      <td>unknown</td>\n",
       "      <td>1910</td>\n",
       "      <td>unknown</td>\n",
       "      <td>0</td>\n",
       "      <td>other</td>\n",
       "      <td>5000</td>\n",
       "      <td>unknown</td>\n",
       "      <td>audi</td>\n",
       "      <td>unknown</td>\n",
       "    </tr>\n",
       "    <tr>\n",
       "      <th>...</th>\n",
       "      <td>...</td>\n",
       "      <td>...</td>\n",
       "      <td>...</td>\n",
       "      <td>...</td>\n",
       "      <td>...</td>\n",
       "      <td>...</td>\n",
       "      <td>...</td>\n",
       "      <td>...</td>\n",
       "      <td>...</td>\n",
       "      <td>...</td>\n",
       "    </tr>\n",
       "    <tr>\n",
       "      <th>299454</th>\n",
       "      <td>1</td>\n",
       "      <td>unknown</td>\n",
       "      <td>3000</td>\n",
       "      <td>unknown</td>\n",
       "      <td>0</td>\n",
       "      <td>zafira</td>\n",
       "      <td>5000</td>\n",
       "      <td>unknown</td>\n",
       "      <td>opel</td>\n",
       "      <td>unknown</td>\n",
       "    </tr>\n",
       "    <tr>\n",
       "      <th>300472</th>\n",
       "      <td>1</td>\n",
       "      <td>other</td>\n",
       "      <td>1910</td>\n",
       "      <td>unknown</td>\n",
       "      <td>0</td>\n",
       "      <td>unknown</td>\n",
       "      <td>5000</td>\n",
       "      <td>other</td>\n",
       "      <td>volkswagen</td>\n",
       "      <td>unknown</td>\n",
       "    </tr>\n",
       "    <tr>\n",
       "      <th>304992</th>\n",
       "      <td>1</td>\n",
       "      <td>unknown</td>\n",
       "      <td>1000</td>\n",
       "      <td>unknown</td>\n",
       "      <td>1000</td>\n",
       "      <td>unknown</td>\n",
       "      <td>150000</td>\n",
       "      <td>unknown</td>\n",
       "      <td>sonstige_autos</td>\n",
       "      <td>unknown</td>\n",
       "    </tr>\n",
       "    <tr>\n",
       "      <th>307202</th>\n",
       "      <td>11500</td>\n",
       "      <td>unknown</td>\n",
       "      <td>1800</td>\n",
       "      <td>unknown</td>\n",
       "      <td>16</td>\n",
       "      <td>other</td>\n",
       "      <td>5000</td>\n",
       "      <td>petrol</td>\n",
       "      <td>fiat</td>\n",
       "      <td>unknown</td>\n",
       "    </tr>\n",
       "    <tr>\n",
       "      <th>309012</th>\n",
       "      <td>200</td>\n",
       "      <td>unknown</td>\n",
       "      <td>1910</td>\n",
       "      <td>unknown</td>\n",
       "      <td>0</td>\n",
       "      <td>unknown</td>\n",
       "      <td>5000</td>\n",
       "      <td>petrol</td>\n",
       "      <td>sonstige_autos</td>\n",
       "      <td>unknown</td>\n",
       "    </tr>\n",
       "  </tbody>\n",
       "</table>\n",
       "<p>244 rows × 10 columns</p>\n",
       "</div>"
      ],
      "text/plain": [
       "        Price VehicleType  RegistrationYear  Gearbox  Power    Model  \\\n",
       "15        450       small              1910  unknown      0       ka   \n",
       "622         0     unknown              1111  unknown      0  unknown   \n",
       "6601        0       small              1910  unknown      0  unknown   \n",
       "6943      135     unknown              1910  unknown      0  unknown   \n",
       "10110    1250     unknown              1910  unknown      0    other   \n",
       "...       ...         ...               ...      ...    ...      ...   \n",
       "299454      1     unknown              3000  unknown      0   zafira   \n",
       "300472      1       other              1910  unknown      0  unknown   \n",
       "304992      1     unknown              1000  unknown   1000  unknown   \n",
       "307202  11500     unknown              1800  unknown     16    other   \n",
       "309012    200     unknown              1910  unknown      0  unknown   \n",
       "\n",
       "        Kilometer FuelType           Brand Repaired  \n",
       "15           5000   petrol            ford  unknown  \n",
       "622          5000  unknown            opel  unknown  \n",
       "6601         5000    other  sonstige_autos  unknown  \n",
       "6943         5000  unknown            opel  unknown  \n",
       "10110        5000  unknown            audi  unknown  \n",
       "...           ...      ...             ...      ...  \n",
       "299454       5000  unknown            opel  unknown  \n",
       "300472       5000    other      volkswagen  unknown  \n",
       "304992     150000  unknown  sonstige_autos  unknown  \n",
       "307202       5000   petrol            fiat  unknown  \n",
       "309012       5000   petrol  sonstige_autos  unknown  \n",
       "\n",
       "[244 rows x 10 columns]"
      ]
     },
     "execution_count": 17,
     "metadata": {},
     "output_type": "execute_result"
    }
   ],
   "source": [
    "df.query('RegistrationYear < 1920 or RegistrationYear >= 2022')"
   ]
  },
  {
   "cell_type": "code",
   "execution_count": 18,
   "metadata": {},
   "outputs": [],
   "source": [
    "df = df.drop(df.query('Power >= 1000 | Power <= 5').index).reset_index(drop=True)"
   ]
  },
  {
   "cell_type": "code",
   "execution_count": 19,
   "metadata": {},
   "outputs": [
    {
     "name": "stdout",
     "output_type": "stream",
     "text": [
      "<class 'pandas.core.frame.DataFrame'>\n",
      "RangeIndex: 256402 entries, 0 to 256401\n",
      "Data columns (total 10 columns):\n",
      " #   Column            Non-Null Count   Dtype \n",
      "---  ------            --------------   ----- \n",
      " 0   Price             256402 non-null  int64 \n",
      " 1   VehicleType       256402 non-null  object\n",
      " 2   RegistrationYear  256402 non-null  int64 \n",
      " 3   Gearbox           256402 non-null  object\n",
      " 4   Power             256402 non-null  int64 \n",
      " 5   Model             256402 non-null  object\n",
      " 6   Kilometer         256402 non-null  int64 \n",
      " 7   FuelType          256402 non-null  object\n",
      " 8   Brand             256402 non-null  object\n",
      " 9   Repaired          256402 non-null  object\n",
      "dtypes: int64(4), object(6)\n",
      "memory usage: 19.6+ MB\n"
     ]
    }
   ],
   "source": [
    "df = df.drop(df.query('RegistrationYear < 1920 or RegistrationYear >= 2016').index).reset_index(drop=True)\n",
    "\n",
    "df.info()"
   ]
  },
  {
   "cell_type": "markdown",
   "metadata": {},
   "source": [
    "Удаляем выбросы на основе стандартного отклонения"
   ]
  },
  {
   "cell_type": "code",
   "execution_count": 20,
   "metadata": {},
   "outputs": [
    {
     "name": "stdout",
     "output_type": "stream",
     "text": [
      "<class 'pandas.core.frame.DataFrame'>\n",
      "Int64Index: 253790 entries, 0 to 256401\n",
      "Data columns (total 10 columns):\n",
      " #   Column            Non-Null Count   Dtype \n",
      "---  ------            --------------   ----- \n",
      " 0   Price             253790 non-null  int64 \n",
      " 1   VehicleType       253790 non-null  object\n",
      " 2   RegistrationYear  253790 non-null  int64 \n",
      " 3   Gearbox           253790 non-null  object\n",
      " 4   Power             253790 non-null  int64 \n",
      " 5   Model             253790 non-null  object\n",
      " 6   Kilometer         253790 non-null  int64 \n",
      " 7   FuelType          253790 non-null  object\n",
      " 8   Brand             253790 non-null  object\n",
      " 9   Repaired          253790 non-null  object\n",
      "dtypes: int64(4), object(6)\n",
      "memory usage: 21.3+ MB\n"
     ]
    }
   ],
   "source": [
    "mean = df['Price'].mean()\n",
    "std = df['Price'].std()\n",
    "threshold = 3 * std\n",
    "\n",
    "outliers = df.query('Price < (@mean - @threshold) or Price > (@mean + @threshold)')\n",
    "df = df.drop(outliers.index)\n",
    "df.info()"
   ]
  },
  {
   "cell_type": "markdown",
   "metadata": {},
   "source": [
    "Проверим корреляцию"
   ]
  },
  {
   "cell_type": "code",
   "execution_count": 21,
   "metadata": {
    "scrolled": false
   },
   "outputs": [
    {
     "data": {
      "image/png": "[encoded data removed]",
      "text/plain": [
       "<Figure size 1500x500 with 2 Axes>"
      ]
     },
     "metadata": {},
     "output_type": "display_data"
    }
   ],
   "source": [
    "plt.figure(figsize=(15, 5))\n",
    "plt.title('Матрица корреляций')\n",
    "\n",
    "sns.heatmap(df.corr(), annot = True)\n",
    "\n",
    "plt.show()"
   ]
  },
  {
   "cell_type": "markdown",
   "metadata": {},
   "source": [
    "Эффекта мультиколлинеарности не наблюдается, т.к. нет значений приближенных к 1/-1. "
   ]
  },
  {
   "cell_type": "markdown",
   "metadata": {},
   "source": [
    "Деление на выборки, cтандартизация и маштабирование"
   ]
  },
  {
   "cell_type": "code",
   "execution_count": 23,
   "metadata": {},
   "outputs": [
    {
     "name": "stdout",
     "output_type": "stream",
     "text": [
      "Размер выборки train: (203032, 9), (203032,)\n",
      "Размер выборки test: (50758, 9), (50758,)\n"
     ]
    }
   ],
   "source": [
    "features = df.drop('Price', axis=1)\n",
    "target = df['Price']\n",
    "\n",
    "features_train, features_test, target_train, target_test = train_test_split(features,\n",
    "                                                                              target,\n",
    "                                                                              test_size = 0.2,\n",
    "                                                                              random_state = 123)\n",
    "\n",
    "print(f'Размер выборки train: {features_train.shape}, {target_train.shape}')\n",
    "print(f'Размер выборки test: {features_test.shape}, {target_test.shape}')"
   ]
  },
  {
   "cell_type": "code",
   "execution_count": 24,
   "metadata": {},
   "outputs": [
    {
     "name": "stdout",
     "output_type": "stream",
     "text": [
      "Размер выборки train: (203032, 9), (203032,)\n",
      "Размер выборки test: (50758, 9), (50758,)\n"
     ]
    }
   ],
   "source": [
    "scale_columns = np.array(features_train.select_dtypes(include=['int64', 'float64']).columns)\n",
    "scaler = StandardScaler()\n",
    "features_train_scaled = pd.DataFrame(scaler.fit_transform(features_train[scale_columns]), columns=scale_columns)\n",
    "features_test_scaled = pd.DataFrame(scaler.transform(features_test[scale_columns]), columns=scale_columns)\n",
    "\n",
    "cat_columns = np.array(features_train.select_dtypes(include=['object']).columns)\n",
    "encoder = OrdinalEncoder()\n",
    "features_train_encoded = pd.DataFrame(encoder.fit_transform(features_train[cat_columns]), columns=cat_columns)\n",
    "features_test_encoded = pd.DataFrame(encoder.transform(features_test[cat_columns]), columns=cat_columns)\n",
    "\n",
    "features_train_final = pd.concat([features_train_scaled, features_train_encoded], axis=1)\n",
    "features_test_final = pd.concat([features_test_scaled, features_test_encoded], axis=1)\n",
    "\n",
    "print(f'Размер выборки train: {features_train_final.shape}, {target_train.shape}')\n",
    "print(f'Размер выборки test: {features_test_final.shape}, {target_test.shape}')"
   ]
  },
  {
   "cell_type": "markdown",
   "metadata": {},
   "source": [
    "###### Итог:\n",
    "- Проверили и удалили дупликаты в датафрейме\n",
    "- Проверили и заполнили пропуски в категориальных данных\n",
    "- Удалили выбросы в столбцах: 'RegistrationYear' и 'Power'\n",
    "- Избавились от лишних признаков которые не понадобятся в машинном обучении\n",
    "- Провелири датасет на мультиколлинеарность\n",
    "- Провели прямое кодирование one-hot encoding"
   ]
  },
  {
   "cell_type": "markdown",
   "metadata": {},
   "source": [
    "## Обучение моделей"
   ]
  },
  {
   "cell_type": "markdown",
   "metadata": {},
   "source": [
    "###### RandomForest"
   ]
  },
  {
   "cell_type": "code",
   "execution_count": 25,
   "metadata": {},
   "outputs": [
    {
     "name": "stdout",
     "output_type": "stream",
     "text": [
      "Fitting 3 folds for each of 12 candidates, totalling 36 fits\n",
      "Train RMSE: 1839.85\n",
      "Time: 36.81\n",
      "Best parameters: {'max_depth': 11, 'n_estimators': 20}\n"
     ]
    }
   ],
   "source": [
    "start = time.time()\n",
    "\n",
    "param_grid = {\n",
    "    'n_estimators': range(10, 30, 10),\n",
    "    'max_depth': range(1, 12, 2),\n",
    "}\n",
    "\n",
    "grid_search = GridSearchCV(estimator=RandomForestRegressor(random_state=123),\n",
    "                           param_grid=param_grid,\n",
    "                           scoring='neg_mean_squared_error',\n",
    "                           cv=3,\n",
    "                           n_jobs=-1,\n",
    "                           verbose=2\n",
    ")\n",
    "\n",
    "grid_search.fit(features_train_final, target_train)\n",
    "\n",
    "end = time.time()\n",
    "time_fit_rf_cv = end - start\n",
    "\n",
    "best_params_rf = grid_search.best_params_\n",
    "best_score_rf = (-grid_search.best_score_) ** 0.5\n",
    "\n",
    "print('Train RMSE: {:.2f}'.format(best_score_rf))\n",
    "print('Time: {:.2f}'.format(time_fit_rf_cv))\n",
    "print('Best parameters:', grid_search.best_params_)\n",
    "\n",
    "best_estimators_rf = grid_search.best_params_['n_estimators']\n",
    "best_depth_rf = grid_search.best_params_['max_depth']"
   ]
  },
  {
   "cell_type": "code",
   "execution_count": 26,
   "metadata": {},
   "outputs": [
    {
     "name": "stdout",
     "output_type": "stream",
     "text": [
      "Time Fit: 6.83\n",
      "Time Predict: 0.47\n"
     ]
    }
   ],
   "source": [
    "start = time.time()\n",
    "model = RandomForestRegressor(n_estimators=best_estimators_rf, \n",
    "                              max_depth=best_depth_rf, \n",
    "                              random_state=123)\n",
    "\n",
    "model.fit(features_train_final, target_train)\n",
    "\n",
    "end = time.time()\n",
    "time_fit_rf = end - start\n",
    "\n",
    "start = time.time()\n",
    "predictions_train = model.predict(features_train_final)\n",
    "end = time.time()\n",
    "time_pred_rf = end - start\n",
    "\n",
    "print('Time Fit: {:.2f}'.format(time_fit_rf))\n",
    "print('Time Predict: {:.2f}'.format(time_pred_rf))"
   ]
  },
  {
   "cell_type": "markdown",
   "metadata": {},
   "source": [
    "###### LightGBM"
   ]
  },
  {
   "cell_type": "code",
   "execution_count": 27,
   "metadata": {},
   "outputs": [
    {
     "name": "stdout",
     "output_type": "stream",
     "text": [
      "Fitting 3 folds for each of 18 candidates, totalling 54 fits\n",
      "Best hyperparameters: {'boosting_type': 'gbdt', 'learning_rate': 0.15, 'max_depth': 11}\n",
      "Best RMSE score: 1698.7629365320163\n",
      "Time: 25.32\n"
     ]
    }
   ],
   "source": [
    "start = time.time()\n",
    "param_grid = {\n",
    "    'boosting_type': ['gbdt'],\n",
    "    'max_depth': range(1, 12, 2),\n",
    "    'learning_rate': [0.01, 0.1, 0.15],\n",
    "}\n",
    "\n",
    "model = lgb.LGBMRegressor(random_state=123)\n",
    "\n",
    "grid_search = GridSearchCV(model, \n",
    "                           param_grid, \n",
    "                           scoring='neg_mean_squared_error', \n",
    "                           cv=3,\n",
    "                           n_jobs=-1,\n",
    "                           verbose=2)\n",
    "\n",
    "grid_search.fit(features_train_final, target_train)\n",
    "\n",
    "end = time.time()\n",
    "time_fit_lgbm_cv = end - start\n",
    "\n",
    "best_params_lgbm = grid_search.best_params_\n",
    "best_score_lgbm = (-grid_search.best_score_) ** 0.5\n",
    "\n",
    "print('Best hyperparameters:', best_params_lgbm)\n",
    "print('Best RMSE score:', best_score_lgbm)\n",
    "print('Time: {:.2f}'.format(time_fit_lgbm_cv))"
   ]
  },
  {
   "cell_type": "code",
   "execution_count": 28,
   "metadata": {},
   "outputs": [
    {
     "name": "stdout",
     "output_type": "stream",
     "text": [
      "Time Fit: 1.35\n",
      "Time Predict: 0.60\n"
     ]
    }
   ],
   "source": [
    "start = time.time()\n",
    "model = lgb.LGBMRegressor(**best_params_lgbm, random_state=123)\n",
    "\n",
    "model.fit(features_train_final, target_train)\n",
    "\n",
    "end = time.time()\n",
    "time_fit_lgbm = end - start\n",
    "\n",
    "start = time.time()\n",
    "predictions_train = model.predict(features_train_final)\n",
    "end = time.time()\n",
    "time_pred_lgbm = end - start\n",
    "\n",
    "print('Time Fit: {:.2f}'.format(time_fit_lgbm))\n",
    "print('Time Predict: {:.2f}'.format(time_pred_lgbm))"
   ]
  },
  {
   "cell_type": "markdown",
   "metadata": {},
   "source": [
    "###### CatBoost"
   ]
  },
  {
   "cell_type": "code",
   "execution_count": 29,
   "metadata": {},
   "outputs": [
    {
     "name": "stdout",
     "output_type": "stream",
     "text": [
      "Fitting 3 folds for each of 3 candidates, totalling 9 fits\n",
      "0:\tlearn: 4035.9368176\ttotal: 163ms\tremaining: 2m 42s\n",
      "1:\tlearn: 3675.1161649\ttotal: 193ms\tremaining: 1m 36s\n",
      "2:\tlearn: 3378.0072518\ttotal: 224ms\tremaining: 1m 14s\n",
      "3:\tlearn: 3139.3802364\ttotal: 255ms\tremaining: 1m 3s\n",
      "4:\tlearn: 2943.8035628\ttotal: 272ms\tremaining: 54.1s\n",
      "5:\tlearn: 2783.1059065\ttotal: 289ms\tremaining: 47.9s\n",
      "6:\tlearn: 2652.7661962\ttotal: 302ms\tremaining: 42.9s\n",
      "7:\tlearn: 2545.0480114\ttotal: 317ms\tremaining: 39.2s\n",
      "8:\tlearn: 2457.5702615\ttotal: 331ms\tremaining: 36.5s\n",
      "9:\tlearn: 2382.8254781\ttotal: 346ms\tremaining: 34.2s\n",
      "10:\tlearn: 2320.6963141\ttotal: 360ms\tremaining: 32.4s\n",
      "11:\tlearn: 2270.5365897\ttotal: 377ms\tremaining: 31s\n",
      "12:\tlearn: 2228.0996255\ttotal: 394ms\tremaining: 29.9s\n",
      "13:\tlearn: 2191.1014110\ttotal: 409ms\tremaining: 28.8s\n",
      "14:\tlearn: 2160.4628901\ttotal: 424ms\tremaining: 27.8s\n",
      "15:\tlearn: 2126.5633500\ttotal: 440ms\tremaining: 27.1s\n",
      "16:\tlearn: 2103.9485448\ttotal: 453ms\tremaining: 26.2s\n",
      "17:\tlearn: 2081.2447543\ttotal: 467ms\tremaining: 25.5s\n",
      "18:\tlearn: 2063.3657746\ttotal: 481ms\tremaining: 24.8s\n",
      "19:\tlearn: 2046.7154958\ttotal: 496ms\tremaining: 24.3s\n",
      "20:\tlearn: 2032.9090694\ttotal: 509ms\tremaining: 23.7s\n",
      "21:\tlearn: 2020.2170388\ttotal: 523ms\tremaining: 23.2s\n",
      "22:\tlearn: 2005.3805456\ttotal: 537ms\tremaining: 22.8s\n",
      "23:\tlearn: 1992.1633871\ttotal: 552ms\tremaining: 22.5s\n",
      "24:\tlearn: 1978.7355450\ttotal: 566ms\tremaining: 22.1s\n",
      "25:\tlearn: 1968.3389912\ttotal: 582ms\tremaining: 21.8s\n",
      "26:\tlearn: 1960.3097214\ttotal: 599ms\tremaining: 21.6s\n",
      "27:\tlearn: 1953.9040316\ttotal: 616ms\tremaining: 21.4s\n",
      "28:\tlearn: 1946.7819675\ttotal: 631ms\tremaining: 21.1s\n",
      "29:\tlearn: 1938.5114422\ttotal: 648ms\tremaining: 21s\n",
      "30:\tlearn: 1932.2379983\ttotal: 662ms\tremaining: 20.7s\n",
      "31:\tlearn: 1926.3261021\ttotal: 677ms\tremaining: 20.5s\n",
      "32:\tlearn: 1915.7066784\ttotal: 694ms\tremaining: 20.3s\n",
      "33:\tlearn: 1910.0406098\ttotal: 709ms\tremaining: 20.2s\n",
      "34:\tlearn: 1906.9312115\ttotal: 724ms\tremaining: 20s\n",
      "35:\tlearn: 1901.7643712\ttotal: 737ms\tremaining: 19.7s\n",
      "36:\tlearn: 1895.6724221\ttotal: 752ms\tremaining: 19.6s\n",
      "37:\tlearn: 1890.5563928\ttotal: 765ms\tremaining: 19.4s\n",
      "38:\tlearn: 1887.6875108\ttotal: 778ms\tremaining: 19.2s\n",
      "39:\tlearn: 1884.2400291\ttotal: 792ms\tremaining: 19s\n",
      "40:\tlearn: 1878.0237105\ttotal: 807ms\tremaining: 18.9s\n",
      "41:\tlearn: 1872.9449461\ttotal: 828ms\tremaining: 18.9s\n",
      "42:\tlearn: 1868.1194599\ttotal: 840ms\tremaining: 18.7s\n",
      "43:\tlearn: 1864.4494967\ttotal: 854ms\tremaining: 18.5s\n",
      "44:\tlearn: 1861.2538873\ttotal: 866ms\tremaining: 18.4s\n",
      "45:\tlearn: 1855.7224846\ttotal: 883ms\tremaining: 18.3s\n",
      "46:\tlearn: 1853.4625420\ttotal: 896ms\tremaining: 18.2s\n",
      "47:\tlearn: 1850.4159948\ttotal: 910ms\tremaining: 18.1s\n",
      "48:\tlearn: 1847.0898962\ttotal: 927ms\tremaining: 18s\n",
      "49:\tlearn: 1845.1823161\ttotal: 941ms\tremaining: 17.9s\n",
      "50:\tlearn: 1841.9332040\ttotal: 956ms\tremaining: 17.8s\n",
      "51:\tlearn: 1839.1610091\ttotal: 970ms\tremaining: 17.7s\n",
      "52:\tlearn: 1836.8004744\ttotal: 984ms\tremaining: 17.6s\n",
      "53:\tlearn: 1834.4161632\ttotal: 1s\tremaining: 17.6s\n",
      "54:\tlearn: 1832.7362727\ttotal: 1.02s\tremaining: 17.6s\n",
      "55:\tlearn: 1829.6999354\ttotal: 1.05s\tremaining: 17.6s\n",
      "56:\tlearn: 1826.7080390\ttotal: 1.07s\tremaining: 17.6s\n",
      "57:\tlearn: 1823.5822275\ttotal: 1.09s\tremaining: 17.7s\n",
      "58:\tlearn: 1821.3659985\ttotal: 1.11s\tremaining: 17.7s\n",
      "59:\tlearn: 1819.5273353\ttotal: 1.13s\tremaining: 17.7s\n",
      "60:\tlearn: 1816.8345180\ttotal: 1.15s\tremaining: 17.7s\n",
      "61:\tlearn: 1814.4411600\ttotal: 1.16s\tremaining: 17.6s\n",
      "62:\tlearn: 1811.5901565\ttotal: 1.19s\tremaining: 17.6s\n",
      "63:\tlearn: 1808.7360976\ttotal: 1.21s\tremaining: 17.7s\n",
      "64:\tlearn: 1807.3502780\ttotal: 1.23s\tremaining: 17.7s\n",
      "65:\tlearn: 1805.1509995\ttotal: 1.26s\tremaining: 17.8s\n",
      "66:\tlearn: 1802.8924561\ttotal: 1.28s\tremaining: 17.9s\n",
      "67:\tlearn: 1801.7531454\ttotal: 1.31s\tremaining: 17.9s\n",
      "68:\tlearn: 1799.7869993\ttotal: 1.32s\tremaining: 17.9s\n",
      "69:\tlearn: 1798.5856468\ttotal: 1.34s\tremaining: 17.8s\n",
      "70:\tlearn: 1796.8811416\ttotal: 1.36s\tremaining: 17.8s\n",
      "71:\tlearn: 1794.5695179\ttotal: 1.37s\tremaining: 17.7s\n",
      "72:\tlearn: 1792.8891352\ttotal: 1.39s\tremaining: 17.6s\n",
      "73:\tlearn: 1791.3751992\ttotal: 1.4s\tremaining: 17.6s\n",
      "74:\tlearn: 1790.3508423\ttotal: 1.42s\tremaining: 17.5s\n",
      "75:\tlearn: 1789.1913539\ttotal: 1.44s\tremaining: 17.4s\n",
      "76:\tlearn: 1787.1647387\ttotal: 1.46s\tremaining: 17.5s\n",
      "77:\tlearn: 1785.9552072\ttotal: 1.48s\tremaining: 17.4s\n",
      "78:\tlearn: 1784.7516403\ttotal: 1.49s\tremaining: 17.4s\n",
      "79:\tlearn: 1783.5283175\ttotal: 1.5s\tremaining: 17.3s\n",
      "80:\tlearn: 1781.6575703\ttotal: 1.52s\tremaining: 17.3s\n",
      "81:\tlearn: 1780.0939733\ttotal: 1.54s\tremaining: 17.2s\n",
      "82:\tlearn: 1779.0954609\ttotal: 1.55s\tremaining: 17.2s\n",
      "83:\tlearn: 1778.0405564\ttotal: 1.57s\tremaining: 17.1s\n",
      "84:\tlearn: 1776.2427091\ttotal: 1.58s\tremaining: 17.1s\n",
      "85:\tlearn: 1774.9325725\ttotal: 1.6s\tremaining: 17s\n",
      "86:\tlearn: 1774.0770205\ttotal: 1.61s\tremaining: 16.9s\n",
      "87:\tlearn: 1773.1638842\ttotal: 1.63s\tremaining: 16.9s\n",
      "88:\tlearn: 1771.7745991\ttotal: 1.65s\tremaining: 16.9s\n",
      "89:\tlearn: 1770.4179050\ttotal: 1.67s\tremaining: 16.9s\n",
      "90:\tlearn: 1769.3961091\ttotal: 1.69s\tremaining: 16.9s\n",
      "91:\tlearn: 1768.2094487\ttotal: 1.7s\tremaining: 16.8s\n",
      "92:\tlearn: 1766.9232318\ttotal: 1.72s\tremaining: 16.8s\n",
      "93:\tlearn: 1765.9269521\ttotal: 1.73s\tremaining: 16.7s\n",
      "94:\tlearn: 1764.4673389\ttotal: 1.75s\tremaining: 16.7s\n",
      "95:\tlearn: 1762.8034161\ttotal: 1.77s\tremaining: 16.6s\n",
      "96:\tlearn: 1761.4502781\ttotal: 1.78s\tremaining: 16.6s\n",
      "97:\tlearn: 1760.2466227\ttotal: 1.8s\tremaining: 16.6s\n",
      "98:\tlearn: 1758.3613427\ttotal: 1.82s\tremaining: 16.5s\n",
      "99:\tlearn: 1757.3428076\ttotal: 1.83s\tremaining: 16.5s\n",
      "100:\tlearn: 1755.8941776\ttotal: 1.85s\tremaining: 16.5s\n",
      "101:\tlearn: 1755.1495930\ttotal: 1.87s\tremaining: 16.4s\n",
      "102:\tlearn: 1753.8800196\ttotal: 1.89s\tremaining: 16.5s\n",
      "103:\tlearn: 1751.9673186\ttotal: 1.91s\tremaining: 16.5s\n",
      "104:\tlearn: 1750.5926297\ttotal: 1.93s\tremaining: 16.4s\n",
      "105:\tlearn: 1749.6270686\ttotal: 1.94s\tremaining: 16.4s\n",
      "106:\tlearn: 1748.8572245\ttotal: 1.96s\tremaining: 16.4s\n",
      "107:\tlearn: 1748.0671213\ttotal: 1.97s\tremaining: 16.3s\n",
      "108:\tlearn: 1747.1183267\ttotal: 1.99s\tremaining: 16.3s\n",
      "109:\tlearn: 1746.1089537\ttotal: 2.01s\tremaining: 16.2s\n",
      "110:\tlearn: 1745.1667867\ttotal: 2.02s\tremaining: 16.2s\n",
      "111:\tlearn: 1744.0792523\ttotal: 2.04s\tremaining: 16.2s\n",
      "112:\tlearn: 1743.5149221\ttotal: 2.05s\tremaining: 16.1s\n",
      "113:\tlearn: 1742.9968167\ttotal: 2.07s\tremaining: 16.1s\n",
      "114:\tlearn: 1741.9880116\ttotal: 2.1s\tremaining: 16.1s\n",
      "115:\tlearn: 1741.1986929\ttotal: 2.12s\tremaining: 16.2s\n",
      "116:\tlearn: 1740.6253984\ttotal: 2.13s\tremaining: 16.1s\n",
      "117:\tlearn: 1740.1724151\ttotal: 2.15s\tremaining: 16.1s\n",
      "118:\tlearn: 1739.4574605\ttotal: 2.16s\tremaining: 16s\n",
      "119:\tlearn: 1738.5815323\ttotal: 2.18s\tremaining: 16s\n",
      "120:\tlearn: 1737.3898531\ttotal: 2.19s\tremaining: 15.9s\n",
      "121:\tlearn: 1736.6740007\ttotal: 2.21s\tremaining: 15.9s\n",
      "122:\tlearn: 1735.0422404\ttotal: 2.23s\tremaining: 15.9s\n",
      "123:\tlearn: 1734.2438779\ttotal: 2.24s\tremaining: 15.8s\n",
      "124:\tlearn: 1733.5219603\ttotal: 2.26s\tremaining: 15.8s\n",
      "125:\tlearn: 1732.8763147\ttotal: 2.27s\tremaining: 15.8s\n",
      "126:\tlearn: 1732.1226606\ttotal: 2.3s\tremaining: 15.8s\n",
      "127:\tlearn: 1730.7872365\ttotal: 2.32s\tremaining: 15.8s\n",
      "128:\tlearn: 1730.0703962\ttotal: 2.33s\tremaining: 15.7s\n",
      "129:\tlearn: 1729.2744268\ttotal: 2.35s\tremaining: 15.7s\n",
      "130:\tlearn: 1728.3191153\ttotal: 2.37s\tremaining: 15.7s\n",
      "131:\tlearn: 1726.8346713\ttotal: 2.38s\tremaining: 15.7s\n",
      "132:\tlearn: 1725.2257997\ttotal: 2.4s\tremaining: 15.6s\n",
      "133:\tlearn: 1724.6376029\ttotal: 2.42s\tremaining: 15.6s\n",
      "134:\tlearn: 1723.3269325\ttotal: 2.43s\tremaining: 15.6s\n",
      "135:\tlearn: 1722.4538231\ttotal: 2.45s\tremaining: 15.6s\n",
      "136:\tlearn: 1722.1306489\ttotal: 2.46s\tremaining: 15.5s\n",
      "137:\tlearn: 1721.3653566\ttotal: 2.48s\tremaining: 15.5s\n",
      "138:\tlearn: 1720.2562854\ttotal: 2.5s\tremaining: 15.5s\n",
      "139:\tlearn: 1719.4728712\ttotal: 2.52s\tremaining: 15.5s\n",
      "140:\tlearn: 1718.7838051\ttotal: 2.53s\tremaining: 15.4s\n",
      "141:\tlearn: 1717.7619583\ttotal: 2.56s\tremaining: 15.4s\n",
      "142:\tlearn: 1716.7978729\ttotal: 2.58s\tremaining: 15.5s\n",
      "143:\tlearn: 1716.2568416\ttotal: 2.6s\tremaining: 15.4s\n",
      "144:\tlearn: 1715.8123520\ttotal: 2.61s\tremaining: 15.4s\n",
      "145:\tlearn: 1715.4419596\ttotal: 2.63s\tremaining: 15.4s\n",
      "146:\tlearn: 1714.9265241\ttotal: 2.64s\tremaining: 15.3s\n",
      "147:\tlearn: 1714.2815983\ttotal: 2.66s\tremaining: 15.3s\n",
      "148:\tlearn: 1713.3697738\ttotal: 2.67s\tremaining: 15.3s\n",
      "149:\tlearn: 1712.4535268\ttotal: 2.69s\tremaining: 15.2s\n",
      "150:\tlearn: 1711.7214430\ttotal: 2.71s\tremaining: 15.2s\n",
      "151:\tlearn: 1711.0510265\ttotal: 2.73s\tremaining: 15.2s\n",
      "152:\tlearn: 1710.4982946\ttotal: 2.75s\tremaining: 15.2s\n",
      "153:\tlearn: 1709.3970132\ttotal: 2.76s\tremaining: 15.2s\n",
      "154:\tlearn: 1708.7640275\ttotal: 2.78s\tremaining: 15.2s\n",
      "155:\tlearn: 1708.2362247\ttotal: 2.79s\tremaining: 15.1s\n",
      "156:\tlearn: 1707.4824026\ttotal: 2.81s\tremaining: 15.1s\n",
      "157:\tlearn: 1706.6584035\ttotal: 2.83s\tremaining: 15.1s\n",
      "158:\tlearn: 1706.3527501\ttotal: 2.84s\tremaining: 15s\n",
      "159:\tlearn: 1706.0869180\ttotal: 2.86s\tremaining: 15s\n",
      "160:\tlearn: 1705.4764722\ttotal: 2.87s\tremaining: 15s\n",
      "161:\tlearn: 1704.8073817\ttotal: 2.89s\tremaining: 14.9s\n",
      "162:\tlearn: 1704.3269283\ttotal: 2.9s\tremaining: 14.9s\n",
      "163:\tlearn: 1703.8771740\ttotal: 2.92s\tremaining: 14.9s\n",
      "164:\tlearn: 1703.2592791\ttotal: 2.94s\tremaining: 14.9s\n",
      "165:\tlearn: 1702.5899033\ttotal: 2.96s\tremaining: 14.9s\n",
      "166:\tlearn: 1701.8695668\ttotal: 2.97s\tremaining: 14.8s\n",
      "167:\tlearn: 1701.2576837\ttotal: 2.99s\tremaining: 14.8s\n",
      "168:\tlearn: 1700.7488651\ttotal: 3.01s\tremaining: 14.8s\n",
      "169:\tlearn: 1700.2913231\ttotal: 3.02s\tremaining: 14.8s\n",
      "170:\tlearn: 1700.0697645\ttotal: 3.04s\tremaining: 14.7s\n",
      "171:\tlearn: 1699.2099584\ttotal: 3.06s\tremaining: 14.7s\n",
      "172:\tlearn: 1698.8965351\ttotal: 3.07s\tremaining: 14.7s\n",
      "173:\tlearn: 1698.2145794\ttotal: 3.09s\tremaining: 14.7s\n",
      "174:\tlearn: 1697.6221443\ttotal: 3.11s\tremaining: 14.7s\n",
      "175:\tlearn: 1697.0272278\ttotal: 3.12s\tremaining: 14.6s\n",
      "176:\tlearn: 1696.3068620\ttotal: 3.14s\tremaining: 14.6s\n",
      "177:\tlearn: 1695.8073136\ttotal: 3.16s\tremaining: 14.6s\n",
      "178:\tlearn: 1695.1645380\ttotal: 3.18s\tremaining: 14.6s\n",
      "179:\tlearn: 1694.6274414\ttotal: 3.19s\tremaining: 14.5s\n",
      "180:\tlearn: 1693.8507203\ttotal: 3.21s\tremaining: 14.5s\n",
      "181:\tlearn: 1693.3300237\ttotal: 3.22s\tremaining: 14.5s\n",
      "182:\tlearn: 1692.9690702\ttotal: 3.24s\tremaining: 14.5s\n",
      "183:\tlearn: 1692.6273113\ttotal: 3.25s\tremaining: 14.4s\n",
      "184:\tlearn: 1692.2798105\ttotal: 3.27s\tremaining: 14.4s\n",
      "185:\tlearn: 1691.6080571\ttotal: 3.29s\tremaining: 14.4s\n",
      "186:\tlearn: 1691.0908816\ttotal: 3.3s\tremaining: 14.4s\n",
      "187:\tlearn: 1690.6446016\ttotal: 3.32s\tremaining: 14.3s\n",
      "188:\tlearn: 1690.1918230\ttotal: 3.33s\tremaining: 14.3s\n",
      "189:\tlearn: 1689.7740399\ttotal: 3.35s\tremaining: 14.3s\n",
      "190:\tlearn: 1689.3519800\ttotal: 3.37s\tremaining: 14.3s\n",
      "191:\tlearn: 1688.7762219\ttotal: 3.39s\tremaining: 14.3s\n",
      "192:\tlearn: 1688.3319559\ttotal: 3.41s\tremaining: 14.2s\n",
      "193:\tlearn: 1687.1277988\ttotal: 3.42s\tremaining: 14.2s\n",
      "194:\tlearn: 1686.5711810\ttotal: 3.44s\tremaining: 14.2s\n",
      "195:\tlearn: 1685.8790883\ttotal: 3.46s\tremaining: 14.2s\n",
      "196:\tlearn: 1685.4555803\ttotal: 3.47s\tremaining: 14.2s\n",
      "197:\tlearn: 1685.0756067\ttotal: 3.49s\tremaining: 14.1s\n",
      "198:\tlearn: 1684.5057224\ttotal: 3.51s\tremaining: 14.1s\n",
      "199:\tlearn: 1684.2111550\ttotal: 3.52s\tremaining: 14.1s\n",
      "200:\tlearn: 1683.5449618\ttotal: 3.54s\tremaining: 14.1s\n",
      "201:\tlearn: 1683.2549158\ttotal: 3.56s\tremaining: 14.1s\n",
      "202:\tlearn: 1682.7314169\ttotal: 3.58s\tremaining: 14s\n",
      "203:\tlearn: 1682.2945953\ttotal: 3.59s\tremaining: 14s\n",
      "204:\tlearn: 1681.9260552\ttotal: 3.61s\tremaining: 14s\n",
      "205:\tlearn: 1681.5991341\ttotal: 3.62s\tremaining: 14s\n",
      "206:\tlearn: 1681.2716045\ttotal: 3.64s\tremaining: 13.9s\n",
      "207:\tlearn: 1680.6114696\ttotal: 3.65s\tremaining: 13.9s\n",
      "208:\tlearn: 1679.9077663\ttotal: 3.67s\tremaining: 13.9s\n",
      "209:\tlearn: 1679.2388370\ttotal: 3.69s\tremaining: 13.9s\n",
      "210:\tlearn: 1678.5152382\ttotal: 3.7s\tremaining: 13.8s\n",
      "211:\tlearn: 1678.0853911\ttotal: 3.72s\tremaining: 13.8s\n",
      "212:\tlearn: 1677.4083861\ttotal: 3.74s\tremaining: 13.8s\n",
      "213:\tlearn: 1677.1353621\ttotal: 3.75s\tremaining: 13.8s\n",
      "214:\tlearn: 1676.6140187\ttotal: 3.77s\tremaining: 13.8s\n",
      "215:\tlearn: 1675.9789336\ttotal: 3.79s\tremaining: 13.8s\n",
      "216:\tlearn: 1675.7390631\ttotal: 3.81s\tremaining: 13.7s\n",
      "217:\tlearn: 1675.0188997\ttotal: 3.83s\tremaining: 13.7s\n",
      "218:\tlearn: 1674.7177084\ttotal: 3.84s\tremaining: 13.7s\n",
      "219:\tlearn: 1674.3529747\ttotal: 3.86s\tremaining: 13.7s\n",
      "220:\tlearn: 1673.9674353\ttotal: 3.88s\tremaining: 13.7s\n",
      "221:\tlearn: 1673.4265864\ttotal: 3.91s\tremaining: 13.7s\n",
      "222:\tlearn: 1673.0164366\ttotal: 3.93s\tremaining: 13.7s\n",
      "223:\tlearn: 1672.4789945\ttotal: 3.95s\tremaining: 13.7s\n",
      "224:\tlearn: 1672.0196751\ttotal: 3.96s\tremaining: 13.7s\n",
      "225:\tlearn: 1671.8386679\ttotal: 3.98s\tremaining: 13.6s\n",
      "226:\tlearn: 1671.6654931\ttotal: 4s\tremaining: 13.6s\n",
      "227:\tlearn: 1671.0843133\ttotal: 4.01s\tremaining: 13.6s\n",
      "228:\tlearn: 1670.6916667\ttotal: 4.03s\tremaining: 13.6s\n",
      "229:\tlearn: 1670.3850925\ttotal: 4.04s\tremaining: 13.5s\n",
      "230:\tlearn: 1669.9818253\ttotal: 4.06s\tremaining: 13.5s\n",
      "231:\tlearn: 1669.2503500\ttotal: 4.08s\tremaining: 13.5s\n",
      "232:\tlearn: 1668.9133590\ttotal: 4.09s\tremaining: 13.5s\n",
      "233:\tlearn: 1668.4901116\ttotal: 4.11s\tremaining: 13.4s\n",
      "234:\tlearn: 1668.1948937\ttotal: 4.12s\tremaining: 13.4s\n",
      "235:\tlearn: 1667.7720242\ttotal: 4.14s\tremaining: 13.4s\n",
      "236:\tlearn: 1667.3053626\ttotal: 4.15s\tremaining: 13.4s\n",
      "237:\tlearn: 1666.8992957\ttotal: 4.17s\tremaining: 13.3s\n",
      "238:\tlearn: 1666.4189404\ttotal: 4.19s\tremaining: 13.3s\n",
      "239:\tlearn: 1665.9864421\ttotal: 4.2s\tremaining: 13.3s\n",
      "240:\tlearn: 1665.2671057\ttotal: 4.22s\tremaining: 13.3s\n",
      "241:\tlearn: 1665.0027078\ttotal: 4.24s\tremaining: 13.3s\n",
      "242:\tlearn: 1664.6704876\ttotal: 4.25s\tremaining: 13.3s\n",
      "243:\tlearn: 1663.7163152\ttotal: 4.27s\tremaining: 13.2s\n",
      "244:\tlearn: 1663.2801866\ttotal: 4.29s\tremaining: 13.2s\n",
      "245:\tlearn: 1663.2131510\ttotal: 4.3s\tremaining: 13.2s\n",
      "246:\tlearn: 1663.0032629\ttotal: 4.31s\tremaining: 13.2s\n",
      "247:\tlearn: 1662.5440634\ttotal: 4.33s\tremaining: 13.1s\n",
      "248:\tlearn: 1662.1477703\ttotal: 4.35s\tremaining: 13.1s\n",
      "249:\tlearn: 1661.8673026\ttotal: 4.36s\tremaining: 13.1s\n",
      "250:\tlearn: 1661.3271530\ttotal: 4.38s\tremaining: 13.1s\n",
      "251:\tlearn: 1661.0447927\ttotal: 4.4s\tremaining: 13.1s\n",
      "252:\tlearn: 1660.6538152\ttotal: 4.42s\tremaining: 13s\n",
      "253:\tlearn: 1660.2559161\ttotal: 4.43s\tremaining: 13s\n",
      "254:\tlearn: 1659.9681027\ttotal: 4.45s\tremaining: 13s\n",
      "255:\tlearn: 1659.6170712\ttotal: 4.46s\tremaining: 13s\n",
      "256:\tlearn: 1659.3610334\ttotal: 4.48s\tremaining: 12.9s\n",
      "257:\tlearn: 1658.8638391\ttotal: 4.49s\tremaining: 12.9s\n",
      "258:\tlearn: 1658.5753367\ttotal: 4.51s\tremaining: 12.9s\n",
      "259:\tlearn: 1658.1520124\ttotal: 4.53s\tremaining: 12.9s\n",
      "260:\tlearn: 1657.8473657\ttotal: 4.54s\tremaining: 12.9s\n",
      "261:\tlearn: 1657.7635661\ttotal: 4.55s\tremaining: 12.8s\n",
      "262:\tlearn: 1657.3474084\ttotal: 4.57s\tremaining: 12.8s\n",
      "263:\tlearn: 1656.9391639\ttotal: 4.59s\tremaining: 12.8s\n",
      "264:\tlearn: 1656.6797852\ttotal: 4.61s\tremaining: 12.8s\n",
      "265:\tlearn: 1656.3438192\ttotal: 4.63s\tremaining: 12.8s\n",
      "266:\tlearn: 1655.8465509\ttotal: 4.64s\tremaining: 12.8s\n",
      "267:\tlearn: 1655.2897333\ttotal: 4.66s\tremaining: 12.7s\n",
      "268:\tlearn: 1655.0278707\ttotal: 4.67s\tremaining: 12.7s\n",
      "269:\tlearn: 1654.8479018\ttotal: 4.69s\tremaining: 12.7s\n",
      "270:\tlearn: 1654.5680982\ttotal: 4.7s\tremaining: 12.7s\n",
      "271:\tlearn: 1654.2523141\ttotal: 4.72s\tremaining: 12.6s\n",
      "272:\tlearn: 1654.1681442\ttotal: 4.73s\tremaining: 12.6s\n",
      "273:\tlearn: 1653.7839846\ttotal: 4.75s\tremaining: 12.6s\n",
      "274:\tlearn: 1653.3583636\ttotal: 4.76s\tremaining: 12.6s\n",
      "275:\tlearn: 1652.9364947\ttotal: 4.78s\tremaining: 12.5s\n",
      "276:\tlearn: 1652.5990879\ttotal: 4.8s\tremaining: 12.5s\n",
      "277:\tlearn: 1652.2149104\ttotal: 4.82s\tremaining: 12.5s\n",
      "278:\tlearn: 1651.8476452\ttotal: 4.83s\tremaining: 12.5s\n",
      "279:\tlearn: 1651.7229508\ttotal: 4.85s\tremaining: 12.5s\n",
      "280:\tlearn: 1651.3349420\ttotal: 4.86s\tremaining: 12.4s\n",
      "281:\tlearn: 1651.0973919\ttotal: 4.88s\tremaining: 12.4s\n",
      "282:\tlearn: 1650.9151672\ttotal: 4.89s\tremaining: 12.4s\n",
      "283:\tlearn: 1650.5891074\ttotal: 4.91s\tremaining: 12.4s\n",
      "284:\tlearn: 1650.2117358\ttotal: 4.92s\tremaining: 12.4s\n",
      "285:\tlearn: 1649.7982730\ttotal: 4.94s\tremaining: 12.3s\n",
      "286:\tlearn: 1649.5375578\ttotal: 4.96s\tremaining: 12.3s\n",
      "287:\tlearn: 1649.2844422\ttotal: 4.97s\tremaining: 12.3s\n",
      "288:\tlearn: 1648.8834572\ttotal: 4.99s\tremaining: 12.3s\n",
      "289:\tlearn: 1648.5465550\ttotal: 5.01s\tremaining: 12.3s\n",
      "290:\tlearn: 1648.0167766\ttotal: 5.03s\tremaining: 12.3s\n",
      "291:\tlearn: 1647.7107998\ttotal: 5.05s\tremaining: 12.2s\n",
      "292:\tlearn: 1647.4513300\ttotal: 5.07s\tremaining: 12.2s\n",
      "293:\tlearn: 1646.6910547\ttotal: 5.08s\tremaining: 12.2s\n",
      "294:\tlearn: 1646.4270550\ttotal: 5.1s\tremaining: 12.2s\n",
      "295:\tlearn: 1646.0791455\ttotal: 5.12s\tremaining: 12.2s\n",
      "296:\tlearn: 1645.7709510\ttotal: 5.13s\tremaining: 12.1s\n",
      "297:\tlearn: 1645.1915746\ttotal: 5.15s\tremaining: 12.1s\n",
      "298:\tlearn: 1644.8544925\ttotal: 5.16s\tremaining: 12.1s\n",
      "299:\tlearn: 1644.5520826\ttotal: 5.18s\tremaining: 12.1s\n",
      "300:\tlearn: 1644.1805029\ttotal: 5.2s\tremaining: 12.1s\n",
      "301:\tlearn: 1643.8862982\ttotal: 5.23s\tremaining: 12.1s\n",
      "302:\tlearn: 1643.5160915\ttotal: 5.25s\tremaining: 12.1s\n",
      "303:\tlearn: 1643.2379378\ttotal: 5.27s\tremaining: 12.1s\n",
      "304:\tlearn: 1642.9293790\ttotal: 5.29s\tremaining: 12.1s\n",
      "305:\tlearn: 1642.4671037\ttotal: 5.31s\tremaining: 12.1s\n",
      "306:\tlearn: 1642.2421507\ttotal: 5.33s\tremaining: 12s\n",
      "307:\tlearn: 1641.9424293\ttotal: 5.34s\tremaining: 12s\n",
      "308:\tlearn: 1641.7471768\ttotal: 5.35s\tremaining: 12s\n",
      "309:\tlearn: 1641.2706111\ttotal: 5.37s\tremaining: 12s\n",
      "310:\tlearn: 1641.0017982\ttotal: 5.38s\tremaining: 11.9s\n",
      "311:\tlearn: 1640.6360100\ttotal: 5.4s\tremaining: 11.9s\n",
      "312:\tlearn: 1640.4627131\ttotal: 5.42s\tremaining: 11.9s\n",
      "313:\tlearn: 1640.1112071\ttotal: 5.44s\tremaining: 11.9s\n",
      "314:\tlearn: 1639.8919099\ttotal: 5.45s\tremaining: 11.9s\n",
      "315:\tlearn: 1639.7453664\ttotal: 5.46s\tremaining: 11.8s\n",
      "316:\tlearn: 1639.2168376\ttotal: 5.48s\tremaining: 11.8s\n",
      "317:\tlearn: 1638.9942494\ttotal: 5.5s\tremaining: 11.8s\n",
      "318:\tlearn: 1638.7070965\ttotal: 5.51s\tremaining: 11.8s\n",
      "319:\tlearn: 1638.5006668\ttotal: 5.53s\tremaining: 11.7s\n",
      "320:\tlearn: 1638.3013933\ttotal: 5.54s\tremaining: 11.7s\n",
      "321:\tlearn: 1638.0868580\ttotal: 5.55s\tremaining: 11.7s\n",
      "322:\tlearn: 1637.6751142\ttotal: 5.57s\tremaining: 11.7s\n",
      "323:\tlearn: 1637.5472989\ttotal: 5.59s\tremaining: 11.7s\n",
      "324:\tlearn: 1637.1768185\ttotal: 5.61s\tremaining: 11.6s\n",
      "325:\tlearn: 1636.8288632\ttotal: 5.63s\tremaining: 11.6s\n",
      "326:\tlearn: 1636.4587924\ttotal: 5.64s\tremaining: 11.6s\n",
      "327:\tlearn: 1636.4014657\ttotal: 5.66s\tremaining: 11.6s\n",
      "328:\tlearn: 1636.2767889\ttotal: 5.68s\tremaining: 11.6s\n",
      "329:\tlearn: 1636.0854795\ttotal: 5.69s\tremaining: 11.6s\n",
      "330:\tlearn: 1635.8301677\ttotal: 5.71s\tremaining: 11.5s\n",
      "331:\tlearn: 1635.6550815\ttotal: 5.73s\tremaining: 11.5s\n",
      "332:\tlearn: 1635.3747732\ttotal: 5.74s\tremaining: 11.5s\n",
      "333:\tlearn: 1635.0158658\ttotal: 5.76s\tremaining: 11.5s\n",
      "334:\tlearn: 1634.6709307\ttotal: 5.78s\tremaining: 11.5s\n",
      "335:\tlearn: 1634.2029207\ttotal: 5.79s\tremaining: 11.4s\n",
      "336:\tlearn: 1634.0391531\ttotal: 5.8s\tremaining: 11.4s\n",
      "337:\tlearn: 1633.6291894\ttotal: 5.82s\tremaining: 11.4s\n",
      "338:\tlearn: 1633.1664350\ttotal: 5.85s\tremaining: 11.4s\n",
      "339:\tlearn: 1632.9209338\ttotal: 5.86s\tremaining: 11.4s\n",
      "340:\tlearn: 1632.8822344\ttotal: 5.88s\tremaining: 11.4s\n",
      "341:\tlearn: 1632.6428659\ttotal: 5.89s\tremaining: 11.3s\n",
      "342:\tlearn: 1632.3794858\ttotal: 5.91s\tremaining: 11.3s\n",
      "343:\tlearn: 1632.1375312\ttotal: 5.92s\tremaining: 11.3s\n",
      "344:\tlearn: 1631.9156211\ttotal: 5.94s\tremaining: 11.3s\n",
      "345:\tlearn: 1631.6815439\ttotal: 5.96s\tremaining: 11.3s\n",
      "346:\tlearn: 1631.4024896\ttotal: 5.97s\tremaining: 11.2s\n",
      "347:\tlearn: 1630.9797761\ttotal: 5.99s\tremaining: 11.2s\n",
      "348:\tlearn: 1630.6203154\ttotal: 6.01s\tremaining: 11.2s\n",
      "349:\tlearn: 1630.4205492\ttotal: 6.02s\tremaining: 11.2s\n",
      "350:\tlearn: 1630.2285626\ttotal: 6.04s\tremaining: 11.2s\n",
      "351:\tlearn: 1629.9511771\ttotal: 6.06s\tremaining: 11.2s\n",
      "352:\tlearn: 1629.5969307\ttotal: 6.08s\tremaining: 11.1s\n",
      "353:\tlearn: 1629.3676833\ttotal: 6.09s\tremaining: 11.1s\n",
      "354:\tlearn: 1629.0661958\ttotal: 6.11s\tremaining: 11.1s\n",
      "355:\tlearn: 1628.7723555\ttotal: 6.12s\tremaining: 11.1s\n",
      "356:\tlearn: 1628.6129744\ttotal: 6.14s\tremaining: 11.1s\n",
      "357:\tlearn: 1628.3013429\ttotal: 6.16s\tremaining: 11s\n",
      "358:\tlearn: 1628.1392733\ttotal: 6.17s\tremaining: 11s\n",
      "359:\tlearn: 1627.9824042\ttotal: 6.18s\tremaining: 11s\n",
      "360:\tlearn: 1627.7145806\ttotal: 6.2s\tremaining: 11s\n",
      "361:\tlearn: 1627.3314776\ttotal: 6.21s\tremaining: 11s\n",
      "362:\tlearn: 1627.0683018\ttotal: 6.23s\tremaining: 10.9s\n",
      "363:\tlearn: 1626.8077280\ttotal: 6.25s\tremaining: 10.9s\n",
      "364:\tlearn: 1626.5228434\ttotal: 6.27s\tremaining: 10.9s\n",
      "365:\tlearn: 1626.3424443\ttotal: 6.29s\tremaining: 10.9s\n",
      "366:\tlearn: 1626.0872907\ttotal: 6.31s\tremaining: 10.9s\n",
      "367:\tlearn: 1625.9369970\ttotal: 6.32s\tremaining: 10.9s\n",
      "368:\tlearn: 1625.7303740\ttotal: 6.34s\tremaining: 10.8s\n",
      "369:\tlearn: 1625.4739117\ttotal: 6.35s\tremaining: 10.8s\n",
      "370:\tlearn: 1625.1463635\ttotal: 6.37s\tremaining: 10.8s\n",
      "371:\tlearn: 1624.8580835\ttotal: 6.38s\tremaining: 10.8s\n",
      "372:\tlearn: 1624.7276837\ttotal: 6.4s\tremaining: 10.8s\n",
      "373:\tlearn: 1624.4966828\ttotal: 6.41s\tremaining: 10.7s\n",
      "374:\tlearn: 1624.1466603\ttotal: 6.43s\tremaining: 10.7s\n",
      "375:\tlearn: 1623.9072975\ttotal: 6.45s\tremaining: 10.7s\n",
      "376:\tlearn: 1623.6853807\ttotal: 6.47s\tremaining: 10.7s\n",
      "377:\tlearn: 1623.3681857\ttotal: 6.48s\tremaining: 10.7s\n",
      "378:\tlearn: 1623.0670824\ttotal: 6.5s\tremaining: 10.6s\n",
      "379:\tlearn: 1622.7559345\ttotal: 6.52s\tremaining: 10.6s\n",
      "380:\tlearn: 1622.4086301\ttotal: 6.54s\tremaining: 10.6s\n",
      "381:\tlearn: 1622.2061306\ttotal: 6.55s\tremaining: 10.6s\n",
      "382:\tlearn: 1621.7919902\ttotal: 6.57s\tremaining: 10.6s\n",
      "383:\tlearn: 1621.2970736\ttotal: 6.59s\tremaining: 10.6s\n",
      "384:\tlearn: 1621.0186389\ttotal: 6.61s\tremaining: 10.6s\n",
      "385:\tlearn: 1620.7664278\ttotal: 6.62s\tremaining: 10.5s\n",
      "386:\tlearn: 1620.5451535\ttotal: 6.63s\tremaining: 10.5s\n",
      "387:\tlearn: 1620.3913137\ttotal: 6.65s\tremaining: 10.5s\n",
      "388:\tlearn: 1620.2727681\ttotal: 6.67s\tremaining: 10.5s\n",
      "389:\tlearn: 1619.9146223\ttotal: 6.69s\tremaining: 10.5s\n",
      "390:\tlearn: 1619.4862154\ttotal: 6.7s\tremaining: 10.4s\n",
      "391:\tlearn: 1619.2755162\ttotal: 6.72s\tremaining: 10.4s\n",
      "392:\tlearn: 1618.9215051\ttotal: 6.74s\tremaining: 10.4s\n",
      "393:\tlearn: 1618.4454812\ttotal: 6.75s\tremaining: 10.4s\n",
      "394:\tlearn: 1618.2896789\ttotal: 6.77s\tremaining: 10.4s\n",
      "395:\tlearn: 1618.0259676\ttotal: 6.79s\tremaining: 10.4s\n",
      "396:\tlearn: 1617.8127553\ttotal: 6.8s\tremaining: 10.3s\n",
      "397:\tlearn: 1617.5304606\ttotal: 6.82s\tremaining: 10.3s\n",
      "398:\tlearn: 1617.4087724\ttotal: 6.83s\tremaining: 10.3s\n",
      "399:\tlearn: 1617.1712879\ttotal: 6.85s\tremaining: 10.3s\n",
      "400:\tlearn: 1616.8418854\ttotal: 6.87s\tremaining: 10.3s\n",
      "401:\tlearn: 1616.4549327\ttotal: 6.89s\tremaining: 10.2s\n",
      "402:\tlearn: 1616.2756243\ttotal: 6.91s\tremaining: 10.2s\n",
      "403:\tlearn: 1616.0523722\ttotal: 6.92s\tremaining: 10.2s\n",
      "404:\tlearn: 1615.9013467\ttotal: 6.94s\tremaining: 10.2s\n",
      "405:\tlearn: 1615.6322075\ttotal: 6.96s\tremaining: 10.2s\n",
      "406:\tlearn: 1615.3479056\ttotal: 6.97s\tremaining: 10.2s\n",
      "407:\tlearn: 1615.1164008\ttotal: 6.99s\tremaining: 10.1s\n",
      "408:\tlearn: 1615.0049726\ttotal: 7s\tremaining: 10.1s\n",
      "409:\tlearn: 1614.7824904\ttotal: 7.02s\tremaining: 10.1s\n",
      "410:\tlearn: 1614.5687228\ttotal: 7.04s\tremaining: 10.1s\n",
      "411:\tlearn: 1614.2627238\ttotal: 7.05s\tremaining: 10.1s\n",
      "412:\tlearn: 1613.9050108\ttotal: 7.07s\tremaining: 10.1s\n",
      "413:\tlearn: 1613.7920512\ttotal: 7.09s\tremaining: 10s\n",
      "414:\tlearn: 1613.5812830\ttotal: 7.11s\tremaining: 10s\n",
      "415:\tlearn: 1613.3402971\ttotal: 7.12s\tremaining: 10s\n",
      "416:\tlearn: 1613.0607088\ttotal: 7.14s\tremaining: 9.98s\n",
      "417:\tlearn: 1612.9353712\ttotal: 7.16s\tremaining: 9.96s\n",
      "418:\tlearn: 1612.8049522\ttotal: 7.17s\tremaining: 9.94s\n",
      "419:\tlearn: 1612.6659668\ttotal: 7.18s\tremaining: 9.92s\n",
      "420:\tlearn: 1612.4296925\ttotal: 7.2s\tremaining: 9.9s\n",
      "421:\tlearn: 1612.2456501\ttotal: 7.22s\tremaining: 9.88s\n",
      "422:\tlearn: 1612.1342247\ttotal: 7.23s\tremaining: 9.87s\n",
      "423:\tlearn: 1611.7731301\ttotal: 7.25s\tremaining: 9.85s\n",
      "424:\tlearn: 1611.6837622\ttotal: 7.26s\tremaining: 9.82s\n",
      "425:\tlearn: 1611.4220543\ttotal: 7.28s\tremaining: 9.81s\n",
      "426:\tlearn: 1611.2296716\ttotal: 7.3s\tremaining: 9.8s\n",
      "427:\tlearn: 1611.0436006\ttotal: 7.32s\tremaining: 9.78s\n",
      "428:\tlearn: 1610.7234831\ttotal: 7.34s\tremaining: 9.77s\n",
      "429:\tlearn: 1610.2824837\ttotal: 7.35s\tremaining: 9.75s\n",
      "430:\tlearn: 1609.9197782\ttotal: 7.37s\tremaining: 9.73s\n",
      "431:\tlearn: 1609.7319991\ttotal: 7.39s\tremaining: 9.71s\n",
      "432:\tlearn: 1609.5338397\ttotal: 7.4s\tremaining: 9.69s\n",
      "433:\tlearn: 1609.3143708\ttotal: 7.42s\tremaining: 9.67s\n",
      "434:\tlearn: 1608.9643926\ttotal: 7.43s\tremaining: 9.65s\n",
      "435:\tlearn: 1608.7715388\ttotal: 7.45s\tremaining: 9.63s\n",
      "436:\tlearn: 1608.6657146\ttotal: 7.46s\tremaining: 9.61s\n",
      "437:\tlearn: 1608.3517922\ttotal: 7.48s\tremaining: 9.6s\n",
      "438:\tlearn: 1607.9915213\ttotal: 7.5s\tremaining: 9.58s\n",
      "439:\tlearn: 1607.7558175\ttotal: 7.52s\tremaining: 9.57s\n",
      "440:\tlearn: 1607.6157934\ttotal: 7.54s\tremaining: 9.55s\n",
      "441:\tlearn: 1607.4819931\ttotal: 7.55s\tremaining: 9.54s\n",
      "442:\tlearn: 1607.2262250\ttotal: 7.57s\tremaining: 9.52s\n",
      "443:\tlearn: 1606.9387929\ttotal: 7.58s\tremaining: 9.5s\n",
      "444:\tlearn: 1606.7469491\ttotal: 7.6s\tremaining: 9.48s\n",
      "445:\tlearn: 1606.5125872\ttotal: 7.61s\tremaining: 9.46s\n",
      "446:\tlearn: 1606.3083378\ttotal: 7.63s\tremaining: 9.44s\n",
      "447:\tlearn: 1606.0953316\ttotal: 7.64s\tremaining: 9.42s\n",
      "448:\tlearn: 1605.8343538\ttotal: 7.66s\tremaining: 9.4s\n",
      "449:\tlearn: 1605.6142543\ttotal: 7.68s\tremaining: 9.38s\n",
      "450:\tlearn: 1605.4277472\ttotal: 7.69s\tremaining: 9.37s\n",
      "451:\tlearn: 1605.2688004\ttotal: 7.72s\tremaining: 9.36s\n",
      "452:\tlearn: 1605.0962140\ttotal: 7.73s\tremaining: 9.34s\n",
      "453:\tlearn: 1604.7000336\ttotal: 7.75s\tremaining: 9.32s\n",
      "454:\tlearn: 1604.4334741\ttotal: 7.76s\tremaining: 9.3s\n",
      "455:\tlearn: 1604.2601571\ttotal: 7.78s\tremaining: 9.28s\n",
      "456:\tlearn: 1604.0243406\ttotal: 7.8s\tremaining: 9.26s\n",
      "457:\tlearn: 1603.7248560\ttotal: 7.81s\tremaining: 9.24s\n",
      "458:\tlearn: 1603.5711887\ttotal: 7.83s\tremaining: 9.23s\n",
      "459:\tlearn: 1603.3758318\ttotal: 7.84s\tremaining: 9.21s\n",
      "460:\tlearn: 1603.2398774\ttotal: 7.86s\tremaining: 9.19s\n",
      "461:\tlearn: 1603.1458234\ttotal: 7.87s\tremaining: 9.17s\n",
      "462:\tlearn: 1602.9672646\ttotal: 7.9s\tremaining: 9.16s\n",
      "463:\tlearn: 1602.5941473\ttotal: 7.92s\tremaining: 9.15s\n",
      "464:\tlearn: 1602.3776019\ttotal: 7.93s\tremaining: 9.13s\n",
      "465:\tlearn: 1602.2573070\ttotal: 7.95s\tremaining: 9.11s\n",
      "466:\tlearn: 1602.0805378\ttotal: 7.96s\tremaining: 9.09s\n",
      "467:\tlearn: 1601.9359046\ttotal: 7.98s\tremaining: 9.07s\n",
      "468:\tlearn: 1601.6874960\ttotal: 7.99s\tremaining: 9.05s\n",
      "469:\tlearn: 1601.6043863\ttotal: 8.01s\tremaining: 9.03s\n",
      "470:\tlearn: 1601.3243742\ttotal: 8.02s\tremaining: 9.01s\n",
      "471:\tlearn: 1601.0497689\ttotal: 8.04s\tremaining: 8.99s\n",
      "472:\tlearn: 1600.8422751\ttotal: 8.06s\tremaining: 8.98s\n",
      "473:\tlearn: 1600.7863617\ttotal: 8.07s\tremaining: 8.96s\n",
      "474:\tlearn: 1600.5746566\ttotal: 8.09s\tremaining: 8.94s\n",
      "475:\tlearn: 1600.3971689\ttotal: 8.1s\tremaining: 8.92s\n",
      "476:\tlearn: 1600.2221958\ttotal: 8.12s\tremaining: 8.91s\n",
      "477:\tlearn: 1600.0136393\ttotal: 8.14s\tremaining: 8.89s\n",
      "478:\tlearn: 1599.8248341\ttotal: 8.15s\tremaining: 8.87s\n",
      "479:\tlearn: 1599.6370685\ttotal: 8.17s\tremaining: 8.85s\n",
      "480:\tlearn: 1599.4418438\ttotal: 8.19s\tremaining: 8.83s\n",
      "481:\tlearn: 1599.2308291\ttotal: 8.2s\tremaining: 8.81s\n",
      "482:\tlearn: 1598.9945789\ttotal: 8.22s\tremaining: 8.8s\n",
      "483:\tlearn: 1598.7919590\ttotal: 8.23s\tremaining: 8.78s\n",
      "484:\tlearn: 1598.7105513\ttotal: 8.25s\tremaining: 8.76s\n",
      "485:\tlearn: 1598.4522151\ttotal: 8.26s\tremaining: 8.74s\n",
      "486:\tlearn: 1598.2464305\ttotal: 8.28s\tremaining: 8.72s\n",
      "487:\tlearn: 1597.9375368\ttotal: 8.3s\tremaining: 8.71s\n",
      "488:\tlearn: 1597.7898716\ttotal: 8.31s\tremaining: 8.69s\n",
      "489:\tlearn: 1597.6144340\ttotal: 8.33s\tremaining: 8.68s\n",
      "490:\tlearn: 1597.5046659\ttotal: 8.35s\tremaining: 8.66s\n",
      "491:\tlearn: 1597.2892533\ttotal: 8.37s\tremaining: 8.64s\n",
      "492:\tlearn: 1597.2097331\ttotal: 8.38s\tremaining: 8.62s\n",
      "493:\tlearn: 1597.0534117\ttotal: 8.4s\tremaining: 8.6s\n",
      "494:\tlearn: 1597.0355012\ttotal: 8.41s\tremaining: 8.58s\n",
      "495:\tlearn: 1596.7814835\ttotal: 8.43s\tremaining: 8.56s\n",
      "496:\tlearn: 1596.5852699\ttotal: 8.44s\tremaining: 8.54s\n",
      "497:\tlearn: 1596.4531225\ttotal: 8.46s\tremaining: 8.52s\n",
      "498:\tlearn: 1596.3435159\ttotal: 8.47s\tremaining: 8.5s\n",
      "499:\tlearn: 1596.1505763\ttotal: 8.49s\tremaining: 8.49s\n",
      "500:\tlearn: 1595.9153802\ttotal: 8.5s\tremaining: 8.47s\n",
      "501:\tlearn: 1595.5945217\ttotal: 8.52s\tremaining: 8.45s\n",
      "502:\tlearn: 1595.3801864\ttotal: 8.54s\tremaining: 8.44s\n",
      "503:\tlearn: 1595.2584024\ttotal: 8.56s\tremaining: 8.42s\n",
      "504:\tlearn: 1595.0789733\ttotal: 8.57s\tremaining: 8.4s\n",
      "505:\tlearn: 1594.7929777\ttotal: 8.59s\tremaining: 8.38s\n",
      "506:\tlearn: 1594.6134597\ttotal: 8.61s\tremaining: 8.37s\n",
      "507:\tlearn: 1594.3744475\ttotal: 8.62s\tremaining: 8.35s\n",
      "508:\tlearn: 1594.0840595\ttotal: 8.64s\tremaining: 8.33s\n",
      "509:\tlearn: 1593.8986480\ttotal: 8.65s\tremaining: 8.32s\n",
      "510:\tlearn: 1593.7925650\ttotal: 8.67s\tremaining: 8.3s\n",
      "511:\tlearn: 1593.6288812\ttotal: 8.69s\tremaining: 8.28s\n",
      "512:\tlearn: 1593.5112863\ttotal: 8.7s\tremaining: 8.26s\n",
      "513:\tlearn: 1593.3150518\ttotal: 8.72s\tremaining: 8.24s\n",
      "514:\tlearn: 1593.1194674\ttotal: 8.73s\tremaining: 8.23s\n",
      "515:\tlearn: 1592.8855596\ttotal: 8.76s\tremaining: 8.21s\n",
      "516:\tlearn: 1592.7013599\ttotal: 8.77s\tremaining: 8.2s\n",
      "517:\tlearn: 1592.4790756\ttotal: 8.79s\tremaining: 8.18s\n",
      "518:\tlearn: 1592.3629021\ttotal: 8.8s\tremaining: 8.16s\n",
      "519:\tlearn: 1592.2658796\ttotal: 8.82s\tremaining: 8.14s\n",
      "520:\tlearn: 1592.1937934\ttotal: 8.83s\tremaining: 8.12s\n",
      "521:\tlearn: 1592.1013769\ttotal: 8.85s\tremaining: 8.1s\n",
      "522:\tlearn: 1591.8885554\ttotal: 8.86s\tremaining: 8.08s\n",
      "523:\tlearn: 1591.7568402\ttotal: 8.88s\tremaining: 8.06s\n",
      "524:\tlearn: 1591.5344009\ttotal: 8.89s\tremaining: 8.04s\n",
      "525:\tlearn: 1591.4414341\ttotal: 8.91s\tremaining: 8.03s\n",
      "526:\tlearn: 1591.3170332\ttotal: 8.92s\tremaining: 8.01s\n",
      "527:\tlearn: 1591.0718220\ttotal: 8.95s\tremaining: 8s\n",
      "528:\tlearn: 1590.9228586\ttotal: 8.96s\tremaining: 7.98s\n",
      "529:\tlearn: 1590.9155127\ttotal: 8.97s\tremaining: 7.96s\n",
      "530:\tlearn: 1590.6619735\ttotal: 8.99s\tremaining: 7.94s\n",
      "531:\tlearn: 1590.5710952\ttotal: 9.01s\tremaining: 7.93s\n",
      "532:\tlearn: 1590.4454504\ttotal: 9.03s\tremaining: 7.91s\n",
      "533:\tlearn: 1590.3275426\ttotal: 9.04s\tremaining: 7.89s\n",
      "534:\tlearn: 1590.1269258\ttotal: 9.06s\tremaining: 7.87s\n",
      "535:\tlearn: 1589.9410276\ttotal: 9.07s\tremaining: 7.85s\n",
      "536:\tlearn: 1589.5999952\ttotal: 9.09s\tremaining: 7.84s\n",
      "537:\tlearn: 1589.2974736\ttotal: 9.1s\tremaining: 7.82s\n",
      "538:\tlearn: 1589.1479231\ttotal: 9.12s\tremaining: 7.8s\n",
      "539:\tlearn: 1588.9327012\ttotal: 9.14s\tremaining: 7.78s\n",
      "540:\tlearn: 1588.8342213\ttotal: 9.15s\tremaining: 7.76s\n",
      "541:\tlearn: 1588.6946688\ttotal: 9.17s\tremaining: 7.75s\n",
      "542:\tlearn: 1588.5943419\ttotal: 9.19s\tremaining: 7.74s\n",
      "543:\tlearn: 1588.2834603\ttotal: 9.21s\tremaining: 7.72s\n",
      "544:\tlearn: 1588.1226224\ttotal: 9.24s\tremaining: 7.71s\n",
      "545:\tlearn: 1587.9771346\ttotal: 9.26s\tremaining: 7.7s\n",
      "546:\tlearn: 1587.8462488\ttotal: 9.29s\tremaining: 7.69s\n",
      "547:\tlearn: 1587.7097053\ttotal: 9.3s\tremaining: 7.67s\n",
      "548:\tlearn: 1587.5039635\ttotal: 9.31s\tremaining: 7.65s\n",
      "549:\tlearn: 1587.3021791\ttotal: 9.33s\tremaining: 7.63s\n",
      "550:\tlearn: 1587.0580470\ttotal: 9.34s\tremaining: 7.61s\n",
      "551:\tlearn: 1586.8183857\ttotal: 9.36s\tremaining: 7.59s\n",
      "552:\tlearn: 1586.7414300\ttotal: 9.37s\tremaining: 7.58s\n",
      "553:\tlearn: 1586.4489193\ttotal: 9.39s\tremaining: 7.56s\n",
      "554:\tlearn: 1586.2693805\ttotal: 9.41s\tremaining: 7.54s\n",
      "555:\tlearn: 1586.2000820\ttotal: 9.42s\tremaining: 7.52s\n",
      "556:\tlearn: 1586.0813500\ttotal: 9.43s\tremaining: 7.5s\n",
      "557:\tlearn: 1585.9852292\ttotal: 9.45s\tremaining: 7.48s\n",
      "558:\tlearn: 1585.7257686\ttotal: 9.46s\tremaining: 7.47s\n",
      "559:\tlearn: 1585.4995354\ttotal: 9.48s\tremaining: 7.45s\n",
      "560:\tlearn: 1585.2970699\ttotal: 9.49s\tremaining: 7.43s\n",
      "561:\tlearn: 1585.0673165\ttotal: 9.51s\tremaining: 7.41s\n",
      "562:\tlearn: 1584.7718914\ttotal: 9.53s\tremaining: 7.4s\n",
      "563:\tlearn: 1584.5901263\ttotal: 9.54s\tremaining: 7.38s\n",
      "564:\tlearn: 1584.3904515\ttotal: 9.56s\tremaining: 7.36s\n",
      "565:\tlearn: 1584.2074557\ttotal: 9.58s\tremaining: 7.35s\n",
      "566:\tlearn: 1584.1013612\ttotal: 9.6s\tremaining: 7.33s\n",
      "567:\tlearn: 1584.0176688\ttotal: 9.62s\tremaining: 7.31s\n",
      "568:\tlearn: 1583.8015896\ttotal: 9.63s\tremaining: 7.29s\n",
      "569:\tlearn: 1583.7047346\ttotal: 9.64s\tremaining: 7.28s\n",
      "570:\tlearn: 1583.5738416\ttotal: 9.66s\tremaining: 7.26s\n",
      "571:\tlearn: 1583.4232914\ttotal: 9.68s\tremaining: 7.24s\n",
      "572:\tlearn: 1583.1948398\ttotal: 9.69s\tremaining: 7.22s\n",
      "573:\tlearn: 1582.9494903\ttotal: 9.71s\tremaining: 7.21s\n",
      "574:\tlearn: 1582.7910274\ttotal: 9.72s\tremaining: 7.19s\n",
      "575:\tlearn: 1582.6351365\ttotal: 9.74s\tremaining: 7.17s\n",
      "576:\tlearn: 1582.4669169\ttotal: 9.76s\tremaining: 7.15s\n",
      "577:\tlearn: 1582.3179381\ttotal: 9.77s\tremaining: 7.13s\n",
      "578:\tlearn: 1582.0873047\ttotal: 9.79s\tremaining: 7.12s\n",
      "579:\tlearn: 1581.9106659\ttotal: 9.81s\tremaining: 7.11s\n",
      "580:\tlearn: 1581.6964474\ttotal: 9.83s\tremaining: 7.09s\n",
      "581:\tlearn: 1581.5716791\ttotal: 9.85s\tremaining: 7.07s\n",
      "582:\tlearn: 1581.4493760\ttotal: 9.86s\tremaining: 7.05s\n",
      "583:\tlearn: 1581.3067357\ttotal: 9.88s\tremaining: 7.03s\n",
      "584:\tlearn: 1581.1097984\ttotal: 9.89s\tremaining: 7.02s\n",
      "585:\tlearn: 1580.9662393\ttotal: 9.91s\tremaining: 7s\n",
      "586:\tlearn: 1580.8230490\ttotal: 9.92s\tremaining: 6.98s\n",
      "587:\tlearn: 1580.6690549\ttotal: 9.94s\tremaining: 6.96s\n",
      "588:\tlearn: 1580.3947675\ttotal: 9.95s\tremaining: 6.95s\n",
      "589:\tlearn: 1580.0688341\ttotal: 9.97s\tremaining: 6.93s\n",
      "590:\tlearn: 1579.9377220\ttotal: 9.99s\tremaining: 6.91s\n",
      "591:\tlearn: 1579.7765948\ttotal: 10s\tremaining: 6.9s\n",
      "592:\tlearn: 1579.5572761\ttotal: 10s\tremaining: 6.88s\n",
      "593:\tlearn: 1579.3902732\ttotal: 10s\tremaining: 6.86s\n",
      "594:\tlearn: 1579.2435717\ttotal: 10.1s\tremaining: 6.85s\n",
      "595:\tlearn: 1579.0772859\ttotal: 10.1s\tremaining: 6.83s\n",
      "596:\tlearn: 1578.9067733\ttotal: 10.1s\tremaining: 6.81s\n",
      "597:\tlearn: 1578.7331757\ttotal: 10.1s\tremaining: 6.79s\n",
      "598:\tlearn: 1578.5187963\ttotal: 10.1s\tremaining: 6.78s\n",
      "599:\tlearn: 1578.3975102\ttotal: 10.1s\tremaining: 6.76s\n",
      "600:\tlearn: 1578.1930751\ttotal: 10.2s\tremaining: 6.74s\n",
      "601:\tlearn: 1578.0058670\ttotal: 10.2s\tremaining: 6.72s\n",
      "602:\tlearn: 1577.7961843\ttotal: 10.2s\tremaining: 6.71s\n",
      "603:\tlearn: 1577.6687666\ttotal: 10.2s\tremaining: 6.69s\n",
      "604:\tlearn: 1577.4485956\ttotal: 10.2s\tremaining: 6.68s\n",
      "605:\tlearn: 1577.3938323\ttotal: 10.2s\tremaining: 6.66s\n",
      "606:\tlearn: 1577.2251444\ttotal: 10.3s\tremaining: 6.64s\n",
      "607:\tlearn: 1577.0890549\ttotal: 10.3s\tremaining: 6.62s\n",
      "608:\tlearn: 1576.9340673\ttotal: 10.3s\tremaining: 6.61s\n",
      "609:\tlearn: 1576.7286970\ttotal: 10.3s\tremaining: 6.59s\n",
      "610:\tlearn: 1576.6267857\ttotal: 10.3s\tremaining: 6.57s\n",
      "611:\tlearn: 1576.4688173\ttotal: 10.3s\tremaining: 6.55s\n",
      "612:\tlearn: 1576.2893694\ttotal: 10.3s\tremaining: 6.53s\n",
      "613:\tlearn: 1576.1099887\ttotal: 10.4s\tremaining: 6.52s\n",
      "614:\tlearn: 1575.8686010\ttotal: 10.4s\tremaining: 6.5s\n",
      "615:\tlearn: 1575.6836845\ttotal: 10.4s\tremaining: 6.48s\n",
      "616:\tlearn: 1575.5610577\ttotal: 10.4s\tremaining: 6.46s\n",
      "617:\tlearn: 1575.4236869\ttotal: 10.4s\tremaining: 6.45s\n",
      "618:\tlearn: 1575.2803820\ttotal: 10.5s\tremaining: 6.43s\n",
      "619:\tlearn: 1575.0864356\ttotal: 10.5s\tremaining: 6.42s\n",
      "620:\tlearn: 1575.0174800\ttotal: 10.5s\tremaining: 6.4s\n",
      "621:\tlearn: 1574.9006759\ttotal: 10.5s\tremaining: 6.38s\n",
      "622:\tlearn: 1574.7333039\ttotal: 10.5s\tremaining: 6.37s\n",
      "623:\tlearn: 1574.5691162\ttotal: 10.5s\tremaining: 6.35s\n",
      "624:\tlearn: 1574.4033382\ttotal: 10.6s\tremaining: 6.33s\n",
      "625:\tlearn: 1574.1654815\ttotal: 10.6s\tremaining: 6.32s\n",
      "626:\tlearn: 1573.9103422\ttotal: 10.6s\tremaining: 6.3s\n",
      "627:\tlearn: 1573.8105402\ttotal: 10.6s\tremaining: 6.28s\n",
      "628:\tlearn: 1573.6785931\ttotal: 10.6s\tremaining: 6.26s\n",
      "629:\tlearn: 1573.5195186\ttotal: 10.6s\tremaining: 6.25s\n",
      "630:\tlearn: 1573.3270828\ttotal: 10.7s\tremaining: 6.23s\n",
      "631:\tlearn: 1573.2462330\ttotal: 10.7s\tremaining: 6.21s\n",
      "632:\tlearn: 1573.0688181\ttotal: 10.7s\tremaining: 6.2s\n",
      "633:\tlearn: 1572.9502329\ttotal: 10.7s\tremaining: 6.18s\n",
      "634:\tlearn: 1572.8283913\ttotal: 10.7s\tremaining: 6.16s\n",
      "635:\tlearn: 1572.7082671\ttotal: 10.7s\tremaining: 6.14s\n",
      "636:\tlearn: 1572.5045178\ttotal: 10.8s\tremaining: 6.13s\n",
      "637:\tlearn: 1572.3473574\ttotal: 10.8s\tremaining: 6.11s\n",
      "638:\tlearn: 1572.1584010\ttotal: 10.8s\tremaining: 6.09s\n",
      "639:\tlearn: 1572.0313727\ttotal: 10.8s\tremaining: 6.07s\n",
      "640:\tlearn: 1571.8377093\ttotal: 10.8s\tremaining: 6.06s\n",
      "641:\tlearn: 1571.6500261\ttotal: 10.8s\tremaining: 6.04s\n",
      "642:\tlearn: 1571.5314232\ttotal: 10.8s\tremaining: 6.02s\n",
      "643:\tlearn: 1571.4292837\ttotal: 10.9s\tremaining: 6s\n",
      "644:\tlearn: 1571.2465398\ttotal: 10.9s\tremaining: 5.99s\n",
      "645:\tlearn: 1571.1113648\ttotal: 10.9s\tremaining: 5.97s\n",
      "646:\tlearn: 1570.8484234\ttotal: 10.9s\tremaining: 5.96s\n",
      "647:\tlearn: 1570.6982551\ttotal: 10.9s\tremaining: 5.94s\n",
      "648:\tlearn: 1570.6067647\ttotal: 10.9s\tremaining: 5.92s\n",
      "649:\tlearn: 1570.4642969\ttotal: 11s\tremaining: 5.9s\n",
      "650:\tlearn: 1570.3457299\ttotal: 11s\tremaining: 5.89s\n",
      "651:\tlearn: 1570.2587050\ttotal: 11s\tremaining: 5.87s\n",
      "652:\tlearn: 1570.0628474\ttotal: 11s\tremaining: 5.85s\n",
      "653:\tlearn: 1569.8792950\ttotal: 11s\tremaining: 5.83s\n",
      "654:\tlearn: 1569.6634961\ttotal: 11s\tremaining: 5.82s\n",
      "655:\tlearn: 1569.5746132\ttotal: 11.1s\tremaining: 5.8s\n",
      "656:\tlearn: 1569.4757553\ttotal: 11.1s\tremaining: 5.78s\n",
      "657:\tlearn: 1569.2985089\ttotal: 11.1s\tremaining: 5.76s\n",
      "658:\tlearn: 1569.0839618\ttotal: 11.1s\tremaining: 5.75s\n",
      "659:\tlearn: 1568.8528724\ttotal: 11.1s\tremaining: 5.73s\n",
      "660:\tlearn: 1568.7124062\ttotal: 11.1s\tremaining: 5.71s\n",
      "661:\tlearn: 1568.5635853\ttotal: 11.2s\tremaining: 5.7s\n",
      "662:\tlearn: 1568.4300907\ttotal: 11.2s\tremaining: 5.68s\n",
      "663:\tlearn: 1568.2059161\ttotal: 11.2s\tremaining: 5.66s\n",
      "664:\tlearn: 1567.9773671\ttotal: 11.2s\tremaining: 5.64s\n",
      "665:\tlearn: 1567.8467415\ttotal: 11.2s\tremaining: 5.63s\n",
      "666:\tlearn: 1567.6949416\ttotal: 11.2s\tremaining: 5.61s\n",
      "667:\tlearn: 1567.5616812\ttotal: 11.3s\tremaining: 5.59s\n",
      "668:\tlearn: 1567.4241353\ttotal: 11.3s\tremaining: 5.58s\n",
      "669:\tlearn: 1567.2824087\ttotal: 11.3s\tremaining: 5.56s\n",
      "670:\tlearn: 1567.1107512\ttotal: 11.3s\tremaining: 5.54s\n",
      "671:\tlearn: 1566.9291806\ttotal: 11.3s\tremaining: 5.53s\n",
      "672:\tlearn: 1566.8151412\ttotal: 11.3s\tremaining: 5.51s\n",
      "673:\tlearn: 1566.6907468\ttotal: 11.4s\tremaining: 5.49s\n",
      "674:\tlearn: 1566.4895644\ttotal: 11.4s\tremaining: 5.47s\n",
      "675:\tlearn: 1566.3731936\ttotal: 11.4s\tremaining: 5.46s\n",
      "676:\tlearn: 1566.2116743\ttotal: 11.4s\tremaining: 5.44s\n",
      "677:\tlearn: 1566.1177584\ttotal: 11.4s\tremaining: 5.42s\n",
      "678:\tlearn: 1566.0220265\ttotal: 11.4s\tremaining: 5.41s\n",
      "679:\tlearn: 1565.8159867\ttotal: 11.5s\tremaining: 5.39s\n",
      "680:\tlearn: 1565.6151565\ttotal: 11.5s\tremaining: 5.37s\n",
      "681:\tlearn: 1565.3344019\ttotal: 11.5s\tremaining: 5.36s\n",
      "682:\tlearn: 1565.1561650\ttotal: 11.5s\tremaining: 5.34s\n",
      "683:\tlearn: 1564.9037633\ttotal: 11.5s\tremaining: 5.32s\n",
      "684:\tlearn: 1564.8192818\ttotal: 11.5s\tremaining: 5.31s\n",
      "685:\tlearn: 1564.6929883\ttotal: 11.6s\tremaining: 5.29s\n",
      "686:\tlearn: 1564.5403925\ttotal: 11.6s\tremaining: 5.27s\n",
      "687:\tlearn: 1564.2633650\ttotal: 11.6s\tremaining: 5.26s\n",
      "688:\tlearn: 1564.1603253\ttotal: 11.6s\tremaining: 5.24s\n",
      "689:\tlearn: 1564.0480757\ttotal: 11.6s\tremaining: 5.22s\n",
      "690:\tlearn: 1563.8888274\ttotal: 11.6s\tremaining: 5.21s\n",
      "691:\tlearn: 1563.7940113\ttotal: 11.7s\tremaining: 5.19s\n",
      "692:\tlearn: 1563.6661318\ttotal: 11.7s\tremaining: 5.17s\n",
      "693:\tlearn: 1563.5421120\ttotal: 11.7s\tremaining: 5.15s\n",
      "694:\tlearn: 1563.4086853\ttotal: 11.7s\tremaining: 5.13s\n",
      "695:\tlearn: 1563.2841047\ttotal: 11.7s\tremaining: 5.12s\n",
      "696:\tlearn: 1563.0595716\ttotal: 11.7s\tremaining: 5.1s\n",
      "697:\tlearn: 1562.8300509\ttotal: 11.8s\tremaining: 5.09s\n",
      "698:\tlearn: 1562.6551256\ttotal: 11.8s\tremaining: 5.07s\n",
      "699:\tlearn: 1562.5182761\ttotal: 11.8s\tremaining: 5.05s\n",
      "700:\tlearn: 1562.3222113\ttotal: 11.8s\tremaining: 5.04s\n",
      "701:\tlearn: 1562.1028704\ttotal: 11.8s\tremaining: 5.02s\n",
      "702:\tlearn: 1562.0109563\ttotal: 11.8s\tremaining: 5s\n",
      "703:\tlearn: 1561.9279633\ttotal: 11.9s\tremaining: 4.99s\n",
      "704:\tlearn: 1561.7596061\ttotal: 11.9s\tremaining: 4.97s\n",
      "705:\tlearn: 1561.6349530\ttotal: 11.9s\tremaining: 4.96s\n",
      "706:\tlearn: 1561.5493460\ttotal: 11.9s\tremaining: 4.94s\n",
      "707:\tlearn: 1561.4634104\ttotal: 12s\tremaining: 4.93s\n",
      "708:\tlearn: 1561.3736795\ttotal: 12s\tremaining: 4.91s\n",
      "709:\tlearn: 1561.3040931\ttotal: 12s\tremaining: 4.89s\n",
      "710:\tlearn: 1561.2571303\ttotal: 12s\tremaining: 4.88s\n",
      "711:\tlearn: 1561.2379303\ttotal: 12s\tremaining: 4.86s\n",
      "712:\tlearn: 1561.1729598\ttotal: 12s\tremaining: 4.84s\n",
      "713:\tlearn: 1561.0103629\ttotal: 12s\tremaining: 4.82s\n",
      "714:\tlearn: 1560.8973879\ttotal: 12.1s\tremaining: 4.8s\n",
      "715:\tlearn: 1560.8149370\ttotal: 12.1s\tremaining: 4.79s\n",
      "716:\tlearn: 1560.7084354\ttotal: 12.1s\tremaining: 4.77s\n",
      "717:\tlearn: 1560.5805431\ttotal: 12.1s\tremaining: 4.75s\n",
      "718:\tlearn: 1560.4915141\ttotal: 12.1s\tremaining: 4.73s\n",
      "719:\tlearn: 1560.3737180\ttotal: 12.1s\tremaining: 4.72s\n",
      "720:\tlearn: 1560.2581971\ttotal: 12.1s\tremaining: 4.7s\n",
      "721:\tlearn: 1560.1267272\ttotal: 12.2s\tremaining: 4.68s\n",
      "722:\tlearn: 1560.0178111\ttotal: 12.2s\tremaining: 4.67s\n",
      "723:\tlearn: 1559.8631880\ttotal: 12.2s\tremaining: 4.65s\n",
      "724:\tlearn: 1559.7324652\ttotal: 12.2s\tremaining: 4.63s\n",
      "725:\tlearn: 1559.6209723\ttotal: 12.2s\tremaining: 4.62s\n",
      "726:\tlearn: 1559.4187187\ttotal: 12.2s\tremaining: 4.6s\n",
      "727:\tlearn: 1559.3317009\ttotal: 12.3s\tremaining: 4.58s\n",
      "728:\tlearn: 1559.1520095\ttotal: 12.3s\tremaining: 4.57s\n",
      "729:\tlearn: 1559.0078699\ttotal: 12.3s\tremaining: 4.55s\n",
      "730:\tlearn: 1558.8679852\ttotal: 12.3s\tremaining: 4.53s\n",
      "731:\tlearn: 1558.7356521\ttotal: 12.3s\tremaining: 4.51s\n",
      "732:\tlearn: 1558.6191037\ttotal: 12.3s\tremaining: 4.5s\n",
      "733:\tlearn: 1558.5337411\ttotal: 12.4s\tremaining: 4.48s\n",
      "734:\tlearn: 1558.4143207\ttotal: 12.4s\tremaining: 4.46s\n",
      "735:\tlearn: 1558.2621614\ttotal: 12.4s\tremaining: 4.45s\n",
      "736:\tlearn: 1558.1484894\ttotal: 12.4s\tremaining: 4.43s\n",
      "737:\tlearn: 1557.9452252\ttotal: 12.4s\tremaining: 4.41s\n",
      "738:\tlearn: 1557.8633882\ttotal: 12.4s\tremaining: 4.39s\n",
      "739:\tlearn: 1557.6996199\ttotal: 12.5s\tremaining: 4.38s\n",
      "740:\tlearn: 1557.6193357\ttotal: 12.5s\tremaining: 4.36s\n",
      "741:\tlearn: 1557.4608925\ttotal: 12.5s\tremaining: 4.34s\n",
      "742:\tlearn: 1557.2532465\ttotal: 12.5s\tremaining: 4.33s\n",
      "743:\tlearn: 1557.0481202\ttotal: 12.5s\tremaining: 4.31s\n",
      "744:\tlearn: 1556.9147599\ttotal: 12.5s\tremaining: 4.29s\n",
      "745:\tlearn: 1556.7521194\ttotal: 12.6s\tremaining: 4.27s\n",
      "746:\tlearn: 1556.5943817\ttotal: 12.6s\tremaining: 4.26s\n",
      "747:\tlearn: 1556.3906004\ttotal: 12.6s\tremaining: 4.24s\n",
      "748:\tlearn: 1556.2345613\ttotal: 12.6s\tremaining: 4.23s\n",
      "749:\tlearn: 1556.1004872\ttotal: 12.6s\tremaining: 4.21s\n",
      "750:\tlearn: 1555.9948378\ttotal: 12.6s\tremaining: 4.19s\n",
      "751:\tlearn: 1555.9359606\ttotal: 12.7s\tremaining: 4.17s\n",
      "752:\tlearn: 1555.7450598\ttotal: 12.7s\tremaining: 4.16s\n",
      "753:\tlearn: 1555.6557324\ttotal: 12.7s\tremaining: 4.14s\n",
      "754:\tlearn: 1555.4809371\ttotal: 12.7s\tremaining: 4.12s\n",
      "755:\tlearn: 1555.3449702\ttotal: 12.7s\tremaining: 4.11s\n",
      "756:\tlearn: 1555.2021651\ttotal: 12.7s\tremaining: 4.09s\n",
      "757:\tlearn: 1555.1532280\ttotal: 12.8s\tremaining: 4.07s\n",
      "758:\tlearn: 1555.0268175\ttotal: 12.8s\tremaining: 4.06s\n",
      "759:\tlearn: 1554.8806157\ttotal: 12.8s\tremaining: 4.04s\n",
      "760:\tlearn: 1554.7668343\ttotal: 12.8s\tremaining: 4.03s\n",
      "761:\tlearn: 1554.5610716\ttotal: 12.8s\tremaining: 4.01s\n",
      "762:\tlearn: 1554.4269620\ttotal: 12.9s\tremaining: 3.99s\n",
      "763:\tlearn: 1554.2254720\ttotal: 12.9s\tremaining: 3.98s\n",
      "764:\tlearn: 1554.1046789\ttotal: 12.9s\tremaining: 3.96s\n",
      "765:\tlearn: 1553.8714757\ttotal: 12.9s\tremaining: 3.94s\n",
      "766:\tlearn: 1553.8100262\ttotal: 12.9s\tremaining: 3.92s\n",
      "767:\tlearn: 1553.6567434\ttotal: 12.9s\tremaining: 3.91s\n",
      "768:\tlearn: 1553.5508192\ttotal: 12.9s\tremaining: 3.89s\n",
      "769:\tlearn: 1553.4832061\ttotal: 13s\tremaining: 3.87s\n",
      "770:\tlearn: 1553.3961941\ttotal: 13s\tremaining: 3.85s\n",
      "771:\tlearn: 1553.3722401\ttotal: 13s\tremaining: 3.84s\n",
      "772:\tlearn: 1553.2281594\ttotal: 13s\tremaining: 3.82s\n",
      "773:\tlearn: 1553.0517140\ttotal: 13s\tremaining: 3.8s\n",
      "774:\tlearn: 1552.9133943\ttotal: 13s\tremaining: 3.79s\n",
      "775:\tlearn: 1552.7814716\ttotal: 13.1s\tremaining: 3.77s\n",
      "776:\tlearn: 1552.6805662\ttotal: 13.1s\tremaining: 3.75s\n",
      "777:\tlearn: 1552.5159513\ttotal: 13.1s\tremaining: 3.73s\n",
      "778:\tlearn: 1552.3459540\ttotal: 13.1s\tremaining: 3.72s\n",
      "779:\tlearn: 1552.2225576\ttotal: 13.1s\tremaining: 3.7s\n",
      "780:\tlearn: 1552.1577152\ttotal: 13.1s\tremaining: 3.68s\n",
      "781:\tlearn: 1551.9834111\ttotal: 13.2s\tremaining: 3.67s\n",
      "782:\tlearn: 1551.8544677\ttotal: 13.2s\tremaining: 3.65s\n",
      "783:\tlearn: 1551.7799883\ttotal: 13.2s\tremaining: 3.63s\n",
      "784:\tlearn: 1551.6891599\ttotal: 13.2s\tremaining: 3.62s\n",
      "785:\tlearn: 1551.5380023\ttotal: 13.2s\tremaining: 3.6s\n",
      "786:\tlearn: 1551.4704106\ttotal: 13.3s\tremaining: 3.59s\n",
      "787:\tlearn: 1551.2861417\ttotal: 13.3s\tremaining: 3.57s\n",
      "788:\tlearn: 1551.1873837\ttotal: 13.3s\tremaining: 3.55s\n",
      "789:\tlearn: 1551.0220040\ttotal: 13.3s\tremaining: 3.54s\n",
      "790:\tlearn: 1550.8793150\ttotal: 13.3s\tremaining: 3.52s\n",
      "791:\tlearn: 1550.7761039\ttotal: 13.3s\tremaining: 3.5s\n",
      "792:\tlearn: 1550.6162506\ttotal: 13.3s\tremaining: 3.48s\n",
      "793:\tlearn: 1550.5033599\ttotal: 13.4s\tremaining: 3.47s\n",
      "794:\tlearn: 1550.3617319\ttotal: 13.4s\tremaining: 3.45s\n",
      "795:\tlearn: 1550.2165842\ttotal: 13.4s\tremaining: 3.43s\n",
      "796:\tlearn: 1550.0360255\ttotal: 13.4s\tremaining: 3.42s\n",
      "797:\tlearn: 1549.9124936\ttotal: 13.4s\tremaining: 3.4s\n",
      "798:\tlearn: 1549.8096430\ttotal: 13.4s\tremaining: 3.38s\n",
      "799:\tlearn: 1549.6690406\ttotal: 13.5s\tremaining: 3.37s\n",
      "800:\tlearn: 1549.5353731\ttotal: 13.5s\tremaining: 3.35s\n",
      "801:\tlearn: 1549.3306865\ttotal: 13.5s\tremaining: 3.33s\n",
      "802:\tlearn: 1549.1901960\ttotal: 13.5s\tremaining: 3.31s\n",
      "803:\tlearn: 1549.0063830\ttotal: 13.5s\tremaining: 3.3s\n",
      "804:\tlearn: 1548.9039049\ttotal: 13.5s\tremaining: 3.28s\n",
      "805:\tlearn: 1548.7350179\ttotal: 13.6s\tremaining: 3.26s\n",
      "806:\tlearn: 1548.6169074\ttotal: 13.6s\tremaining: 3.25s\n",
      "807:\tlearn: 1548.4973174\ttotal: 13.6s\tremaining: 3.23s\n",
      "808:\tlearn: 1548.3590553\ttotal: 13.6s\tremaining: 3.21s\n",
      "809:\tlearn: 1548.2707377\ttotal: 13.6s\tremaining: 3.19s\n",
      "810:\tlearn: 1548.1462974\ttotal: 13.6s\tremaining: 3.18s\n",
      "811:\tlearn: 1548.0289564\ttotal: 13.6s\tremaining: 3.16s\n",
      "812:\tlearn: 1547.9160653\ttotal: 13.7s\tremaining: 3.14s\n",
      "813:\tlearn: 1547.8025918\ttotal: 13.7s\tremaining: 3.13s\n",
      "814:\tlearn: 1547.6731069\ttotal: 13.7s\tremaining: 3.11s\n",
      "815:\tlearn: 1547.5002531\ttotal: 13.7s\tremaining: 3.09s\n",
      "816:\tlearn: 1547.3801903\ttotal: 13.7s\tremaining: 3.08s\n",
      "817:\tlearn: 1547.2138646\ttotal: 13.7s\tremaining: 3.06s\n",
      "818:\tlearn: 1547.0388864\ttotal: 13.8s\tremaining: 3.04s\n",
      "819:\tlearn: 1546.9043125\ttotal: 13.8s\tremaining: 3.02s\n",
      "820:\tlearn: 1546.7575124\ttotal: 13.8s\tremaining: 3.01s\n",
      "821:\tlearn: 1546.5690621\ttotal: 13.8s\tremaining: 2.99s\n",
      "822:\tlearn: 1546.4320974\ttotal: 13.8s\tremaining: 2.98s\n",
      "823:\tlearn: 1546.2730410\ttotal: 13.8s\tremaining: 2.96s\n",
      "824:\tlearn: 1546.1080006\ttotal: 13.9s\tremaining: 2.94s\n",
      "825:\tlearn: 1545.9640781\ttotal: 13.9s\tremaining: 2.92s\n",
      "826:\tlearn: 1545.9011906\ttotal: 13.9s\tremaining: 2.91s\n",
      "827:\tlearn: 1545.8233052\ttotal: 13.9s\tremaining: 2.89s\n",
      "828:\tlearn: 1545.7080519\ttotal: 13.9s\tremaining: 2.87s\n",
      "829:\tlearn: 1545.4967988\ttotal: 13.9s\tremaining: 2.86s\n",
      "830:\tlearn: 1545.3251181\ttotal: 14s\tremaining: 2.84s\n",
      "831:\tlearn: 1545.1509097\ttotal: 14s\tremaining: 2.82s\n",
      "832:\tlearn: 1545.0084936\ttotal: 14s\tremaining: 2.81s\n",
      "833:\tlearn: 1544.9210508\ttotal: 14s\tremaining: 2.79s\n",
      "834:\tlearn: 1544.8585150\ttotal: 14s\tremaining: 2.77s\n",
      "835:\tlearn: 1544.7571284\ttotal: 14s\tremaining: 2.75s\n",
      "836:\tlearn: 1544.6311536\ttotal: 14.1s\tremaining: 2.74s\n",
      "837:\tlearn: 1544.4934535\ttotal: 14.1s\tremaining: 2.72s\n",
      "838:\tlearn: 1544.3966259\ttotal: 14.1s\tremaining: 2.7s\n",
      "839:\tlearn: 1544.2755458\ttotal: 14.1s\tremaining: 2.69s\n",
      "840:\tlearn: 1544.1885963\ttotal: 14.1s\tremaining: 2.67s\n",
      "841:\tlearn: 1544.0507928\ttotal: 14.1s\tremaining: 2.65s\n",
      "842:\tlearn: 1543.8999042\ttotal: 14.2s\tremaining: 2.64s\n",
      "843:\tlearn: 1543.7617447\ttotal: 14.2s\tremaining: 2.62s\n",
      "844:\tlearn: 1543.6070366\ttotal: 14.2s\tremaining: 2.6s\n",
      "845:\tlearn: 1543.4969159\ttotal: 14.2s\tremaining: 2.58s\n",
      "846:\tlearn: 1543.3210339\ttotal: 14.2s\tremaining: 2.57s\n",
      "847:\tlearn: 1543.1466819\ttotal: 14.2s\tremaining: 2.55s\n",
      "848:\tlearn: 1543.0775941\ttotal: 14.3s\tremaining: 2.54s\n",
      "849:\tlearn: 1543.0026022\ttotal: 14.3s\tremaining: 2.52s\n",
      "850:\tlearn: 1542.7973686\ttotal: 14.3s\tremaining: 2.5s\n",
      "851:\tlearn: 1542.7267678\ttotal: 14.3s\tremaining: 2.48s\n",
      "852:\tlearn: 1542.6545304\ttotal: 14.3s\tremaining: 2.47s\n",
      "853:\tlearn: 1542.5176045\ttotal: 14.3s\tremaining: 2.45s\n",
      "854:\tlearn: 1542.4119757\ttotal: 14.4s\tremaining: 2.43s\n",
      "855:\tlearn: 1542.2290176\ttotal: 14.4s\tremaining: 2.42s\n",
      "856:\tlearn: 1542.0594533\ttotal: 14.4s\tremaining: 2.4s\n",
      "857:\tlearn: 1541.9501238\ttotal: 14.4s\tremaining: 2.38s\n",
      "858:\tlearn: 1541.8036348\ttotal: 14.4s\tremaining: 2.37s\n",
      "859:\tlearn: 1541.6928320\ttotal: 14.4s\tremaining: 2.35s\n",
      "860:\tlearn: 1541.6304652\ttotal: 14.4s\tremaining: 2.33s\n",
      "861:\tlearn: 1541.4739304\ttotal: 14.5s\tremaining: 2.32s\n",
      "862:\tlearn: 1541.3885654\ttotal: 14.5s\tremaining: 2.3s\n",
      "863:\tlearn: 1541.2781064\ttotal: 14.5s\tremaining: 2.28s\n",
      "864:\tlearn: 1541.1194843\ttotal: 14.5s\tremaining: 2.27s\n",
      "865:\tlearn: 1540.8941337\ttotal: 14.5s\tremaining: 2.25s\n",
      "866:\tlearn: 1540.7968838\ttotal: 14.6s\tremaining: 2.23s\n",
      "867:\tlearn: 1540.7096577\ttotal: 14.6s\tremaining: 2.22s\n",
      "868:\tlearn: 1540.5991258\ttotal: 14.6s\tremaining: 2.2s\n",
      "869:\tlearn: 1540.4747422\ttotal: 14.6s\tremaining: 2.18s\n",
      "870:\tlearn: 1540.3415788\ttotal: 14.6s\tremaining: 2.17s\n",
      "871:\tlearn: 1540.2238276\ttotal: 14.6s\tremaining: 2.15s\n",
      "872:\tlearn: 1540.1812520\ttotal: 14.7s\tremaining: 2.13s\n",
      "873:\tlearn: 1540.0690816\ttotal: 14.7s\tremaining: 2.11s\n",
      "874:\tlearn: 1539.9562206\ttotal: 14.7s\tremaining: 2.1s\n",
      "875:\tlearn: 1539.8597574\ttotal: 14.7s\tremaining: 2.08s\n",
      "876:\tlearn: 1539.6310327\ttotal: 14.7s\tremaining: 2.06s\n",
      "877:\tlearn: 1539.5525658\ttotal: 14.7s\tremaining: 2.05s\n",
      "878:\tlearn: 1539.4440853\ttotal: 14.8s\tremaining: 2.03s\n",
      "879:\tlearn: 1539.3271655\ttotal: 14.8s\tremaining: 2.01s\n",
      "880:\tlearn: 1539.1971823\ttotal: 14.8s\tremaining: 2s\n",
      "881:\tlearn: 1539.0506673\ttotal: 14.8s\tremaining: 1.98s\n",
      "882:\tlearn: 1538.9228257\ttotal: 14.8s\tremaining: 1.96s\n",
      "883:\tlearn: 1538.8386982\ttotal: 14.8s\tremaining: 1.95s\n",
      "884:\tlearn: 1538.7503950\ttotal: 14.9s\tremaining: 1.93s\n",
      "885:\tlearn: 1538.6369020\ttotal: 14.9s\tremaining: 1.91s\n",
      "886:\tlearn: 1538.5136946\ttotal: 14.9s\tremaining: 1.9s\n",
      "887:\tlearn: 1538.4167790\ttotal: 14.9s\tremaining: 1.88s\n",
      "888:\tlearn: 1538.3064863\ttotal: 14.9s\tremaining: 1.86s\n",
      "889:\tlearn: 1538.0847090\ttotal: 14.9s\tremaining: 1.85s\n",
      "890:\tlearn: 1538.0127128\ttotal: 15s\tremaining: 1.83s\n",
      "891:\tlearn: 1537.9164671\ttotal: 15s\tremaining: 1.81s\n",
      "892:\tlearn: 1537.7094159\ttotal: 15s\tremaining: 1.79s\n",
      "893:\tlearn: 1537.6006218\ttotal: 15s\tremaining: 1.78s\n",
      "894:\tlearn: 1537.4683230\ttotal: 15s\tremaining: 1.76s\n",
      "895:\tlearn: 1537.3157455\ttotal: 15s\tremaining: 1.75s\n",
      "896:\tlearn: 1537.2475627\ttotal: 15s\tremaining: 1.73s\n",
      "897:\tlearn: 1537.0542056\ttotal: 15.1s\tremaining: 1.71s\n",
      "898:\tlearn: 1536.9388856\ttotal: 15.1s\tremaining: 1.69s\n",
      "899:\tlearn: 1536.8081909\ttotal: 15.1s\tremaining: 1.68s\n",
      "900:\tlearn: 1536.7201346\ttotal: 15.1s\tremaining: 1.66s\n",
      "901:\tlearn: 1536.6597126\ttotal: 15.1s\tremaining: 1.64s\n",
      "902:\tlearn: 1536.5155823\ttotal: 15.2s\tremaining: 1.63s\n",
      "903:\tlearn: 1536.3830577\ttotal: 15.2s\tremaining: 1.61s\n",
      "904:\tlearn: 1536.2050430\ttotal: 15.2s\tremaining: 1.59s\n",
      "905:\tlearn: 1536.1527686\ttotal: 15.2s\tremaining: 1.58s\n",
      "906:\tlearn: 1536.0128269\ttotal: 15.2s\tremaining: 1.56s\n",
      "907:\tlearn: 1535.9183734\ttotal: 15.2s\tremaining: 1.54s\n",
      "908:\tlearn: 1535.8191443\ttotal: 15.3s\tremaining: 1.53s\n",
      "909:\tlearn: 1535.7913561\ttotal: 15.3s\tremaining: 1.51s\n",
      "910:\tlearn: 1535.7285407\ttotal: 15.3s\tremaining: 1.49s\n",
      "911:\tlearn: 1535.5968416\ttotal: 15.3s\tremaining: 1.48s\n",
      "912:\tlearn: 1535.5113268\ttotal: 15.3s\tremaining: 1.46s\n",
      "913:\tlearn: 1535.4185356\ttotal: 15.3s\tremaining: 1.44s\n",
      "914:\tlearn: 1535.3025950\ttotal: 15.4s\tremaining: 1.43s\n",
      "915:\tlearn: 1535.2450783\ttotal: 15.4s\tremaining: 1.41s\n",
      "916:\tlearn: 1535.1029447\ttotal: 15.4s\tremaining: 1.39s\n",
      "917:\tlearn: 1534.9811212\ttotal: 15.4s\tremaining: 1.38s\n",
      "918:\tlearn: 1534.8339154\ttotal: 15.4s\tremaining: 1.36s\n",
      "919:\tlearn: 1534.7595564\ttotal: 15.4s\tremaining: 1.34s\n",
      "920:\tlearn: 1534.6812471\ttotal: 15.4s\tremaining: 1.32s\n",
      "921:\tlearn: 1534.6109554\ttotal: 15.5s\tremaining: 1.31s\n",
      "922:\tlearn: 1534.5591417\ttotal: 15.5s\tremaining: 1.29s\n",
      "923:\tlearn: 1534.4613411\ttotal: 15.5s\tremaining: 1.27s\n",
      "924:\tlearn: 1534.3228648\ttotal: 15.5s\tremaining: 1.26s\n",
      "925:\tlearn: 1534.2682780\ttotal: 15.5s\tremaining: 1.24s\n",
      "926:\tlearn: 1534.1458049\ttotal: 15.5s\tremaining: 1.22s\n",
      "927:\tlearn: 1534.0469110\ttotal: 15.6s\tremaining: 1.21s\n",
      "928:\tlearn: 1533.9176459\ttotal: 15.6s\tremaining: 1.19s\n",
      "929:\tlearn: 1533.7945030\ttotal: 15.6s\tremaining: 1.17s\n",
      "930:\tlearn: 1533.6665891\ttotal: 15.6s\tremaining: 1.16s\n",
      "931:\tlearn: 1533.5769947\ttotal: 15.6s\tremaining: 1.14s\n",
      "932:\tlearn: 1533.3860575\ttotal: 15.6s\tremaining: 1.12s\n",
      "933:\tlearn: 1533.2972113\ttotal: 15.7s\tremaining: 1.11s\n",
      "934:\tlearn: 1533.1259055\ttotal: 15.7s\tremaining: 1.09s\n",
      "935:\tlearn: 1532.9806985\ttotal: 15.7s\tremaining: 1.07s\n",
      "936:\tlearn: 1532.9238825\ttotal: 15.7s\tremaining: 1.06s\n",
      "937:\tlearn: 1532.8695994\ttotal: 15.7s\tremaining: 1.04s\n",
      "938:\tlearn: 1532.7656359\ttotal: 15.7s\tremaining: 1.02s\n",
      "939:\tlearn: 1532.7364127\ttotal: 15.8s\tremaining: 1.01s\n",
      "940:\tlearn: 1532.5906526\ttotal: 15.8s\tremaining: 989ms\n",
      "941:\tlearn: 1532.5216727\ttotal: 15.8s\tremaining: 973ms\n",
      "942:\tlearn: 1532.3673840\ttotal: 15.8s\tremaining: 956ms\n",
      "943:\tlearn: 1532.2388923\ttotal: 15.8s\tremaining: 939ms\n",
      "944:\tlearn: 1532.1509517\ttotal: 15.8s\tremaining: 922ms\n",
      "945:\tlearn: 1532.0101402\ttotal: 15.9s\tremaining: 905ms\n",
      "946:\tlearn: 1531.9587439\ttotal: 15.9s\tremaining: 888ms\n",
      "947:\tlearn: 1531.8887634\ttotal: 15.9s\tremaining: 872ms\n",
      "948:\tlearn: 1531.7533382\ttotal: 15.9s\tremaining: 855ms\n",
      "949:\tlearn: 1531.6393625\ttotal: 15.9s\tremaining: 838ms\n",
      "950:\tlearn: 1531.5702520\ttotal: 15.9s\tremaining: 821ms\n",
      "951:\tlearn: 1531.4510146\ttotal: 16s\tremaining: 805ms\n",
      "952:\tlearn: 1531.3397837\ttotal: 16s\tremaining: 788ms\n",
      "953:\tlearn: 1531.2585139\ttotal: 16s\tremaining: 771ms\n",
      "954:\tlearn: 1531.1570952\ttotal: 16s\tremaining: 754ms\n",
      "955:\tlearn: 1530.9982236\ttotal: 16s\tremaining: 737ms\n",
      "956:\tlearn: 1530.9497463\ttotal: 16s\tremaining: 721ms\n",
      "957:\tlearn: 1530.8321949\ttotal: 16.1s\tremaining: 704ms\n",
      "958:\tlearn: 1530.7045239\ttotal: 16.1s\tremaining: 687ms\n",
      "959:\tlearn: 1530.5885499\ttotal: 16.1s\tremaining: 670ms\n",
      "960:\tlearn: 1530.5114017\ttotal: 16.1s\tremaining: 654ms\n",
      "961:\tlearn: 1530.4578413\ttotal: 16.1s\tremaining: 637ms\n",
      "962:\tlearn: 1530.3211216\ttotal: 16.1s\tremaining: 620ms\n",
      "963:\tlearn: 1530.2104977\ttotal: 16.2s\tremaining: 603ms\n",
      "964:\tlearn: 1530.1352613\ttotal: 16.2s\tremaining: 587ms\n",
      "965:\tlearn: 1530.0142440\ttotal: 16.2s\tremaining: 570ms\n",
      "966:\tlearn: 1529.9108990\ttotal: 16.2s\tremaining: 553ms\n",
      "967:\tlearn: 1529.8328768\ttotal: 16.2s\tremaining: 536ms\n",
      "968:\tlearn: 1529.7401844\ttotal: 16.2s\tremaining: 520ms\n",
      "969:\tlearn: 1529.6647707\ttotal: 16.3s\tremaining: 503ms\n",
      "970:\tlearn: 1529.6015153\ttotal: 16.3s\tremaining: 486ms\n",
      "971:\tlearn: 1529.5202796\ttotal: 16.3s\tremaining: 469ms\n",
      "972:\tlearn: 1529.4344577\ttotal: 16.3s\tremaining: 453ms\n",
      "973:\tlearn: 1529.2808279\ttotal: 16.3s\tremaining: 436ms\n",
      "974:\tlearn: 1529.1662331\ttotal: 16.3s\tremaining: 419ms\n",
      "975:\tlearn: 1529.0688313\ttotal: 16.4s\tremaining: 402ms\n",
      "976:\tlearn: 1528.9684430\ttotal: 16.4s\tremaining: 386ms\n",
      "977:\tlearn: 1528.8057199\ttotal: 16.4s\tremaining: 369ms\n",
      "978:\tlearn: 1528.7519529\ttotal: 16.4s\tremaining: 352ms\n",
      "979:\tlearn: 1528.6512581\ttotal: 16.4s\tremaining: 335ms\n",
      "980:\tlearn: 1528.5298962\ttotal: 16.5s\tremaining: 319ms\n",
      "981:\tlearn: 1528.4729673\ttotal: 16.5s\tremaining: 302ms\n",
      "982:\tlearn: 1528.2499593\ttotal: 16.5s\tremaining: 285ms\n",
      "983:\tlearn: 1528.1245359\ttotal: 16.5s\tremaining: 268ms\n",
      "984:\tlearn: 1527.9664830\ttotal: 16.5s\tremaining: 252ms\n",
      "985:\tlearn: 1527.8787157\ttotal: 16.5s\tremaining: 235ms\n",
      "986:\tlearn: 1527.7654428\ttotal: 16.5s\tremaining: 218ms\n",
      "987:\tlearn: 1527.6757274\ttotal: 16.6s\tremaining: 201ms\n",
      "988:\tlearn: 1527.5432910\ttotal: 16.6s\tremaining: 184ms\n",
      "989:\tlearn: 1527.4042996\ttotal: 16.6s\tremaining: 168ms\n",
      "990:\tlearn: 1527.3015390\ttotal: 16.6s\tremaining: 151ms\n",
      "991:\tlearn: 1527.1896711\ttotal: 16.6s\tremaining: 134ms\n",
      "992:\tlearn: 1527.1230697\ttotal: 16.7s\tremaining: 117ms\n",
      "993:\tlearn: 1527.0319044\ttotal: 16.7s\tremaining: 101ms\n",
      "994:\tlearn: 1526.9531949\ttotal: 16.7s\tremaining: 83.9ms\n",
      "995:\tlearn: 1526.8608956\ttotal: 16.7s\tremaining: 67.1ms\n",
      "996:\tlearn: 1526.7791251\ttotal: 16.7s\tremaining: 50.3ms\n",
      "997:\tlearn: 1526.6631541\ttotal: 16.7s\tremaining: 33.5ms\n",
      "998:\tlearn: 1526.5890036\ttotal: 16.7s\tremaining: 16.8ms\n",
      "999:\tlearn: 1526.4984580\ttotal: 16.8s\tremaining: 0us\n",
      "Best hyperparameters: {'learning_rate': 0.15}\n",
      "Best RMSE score: 1647.1006495300148\n",
      "Time: 108.98\n"
     ]
    }
   ],
   "source": [
    "start = time.time()\n",
    "param_grid = {\n",
    "    'learning_rate': [0.01, 0.1, 0.15],\n",
    "}\n",
    "\n",
    "model = CatBoostRegressor(random_state=123)\n",
    "\n",
    "grid_search = GridSearchCV(model,\n",
    "                           param_grid,\n",
    "                           scoring='neg_mean_squared_error',\n",
    "                           cv=3,\n",
    "                           n_jobs=-1,\n",
    "                           verbose=2)\n",
    "\n",
    "grid_search.fit(features_train_final, target_train)\n",
    "\n",
    "end = time.time()\n",
    "time_fit_cb_cv = end - start\n",
    "\n",
    "best_params_cb = grid_search.best_params_\n",
    "best_score_cb = (-grid_search.best_score_) ** 0.5\n",
    "\n",
    "print('Best hyperparameters:', best_params_cb)\n",
    "print('Best RMSE score:', best_score_cb)\n",
    "print('Time: {:.2f}'.format(time_fit_cb_cv))"
   ]
  },
  {
   "cell_type": "code",
   "execution_count": 30,
   "metadata": {},
   "outputs": [
    {
     "name": "stdout",
     "output_type": "stream",
     "text": [
      "0:\tlearn: 4035.9368176\ttotal: 25.2ms\tremaining: 25.2s\n",
      "1:\tlearn: 3675.1161649\ttotal: 51.7ms\tremaining: 25.8s\n",
      "2:\tlearn: 3378.0072518\ttotal: 75.1ms\tremaining: 24.9s\n",
      "3:\tlearn: 3139.3802364\ttotal: 95.3ms\tremaining: 23.7s\n",
      "4:\tlearn: 2943.8035628\ttotal: 111ms\tremaining: 22.1s\n",
      "5:\tlearn: 2783.1059065\ttotal: 124ms\tremaining: 20.6s\n",
      "6:\tlearn: 2652.7661962\ttotal: 137ms\tremaining: 19.5s\n",
      "7:\tlearn: 2545.0480114\ttotal: 151ms\tremaining: 18.7s\n",
      "8:\tlearn: 2457.5702615\ttotal: 165ms\tremaining: 18.1s\n",
      "9:\tlearn: 2382.8254781\ttotal: 178ms\tremaining: 17.7s\n",
      "10:\tlearn: 2320.6963141\ttotal: 193ms\tremaining: 17.3s\n",
      "11:\tlearn: 2270.5365897\ttotal: 205ms\tremaining: 16.9s\n",
      "12:\tlearn: 2228.0996255\ttotal: 221ms\tremaining: 16.7s\n",
      "13:\tlearn: 2191.1014110\ttotal: 242ms\tremaining: 17.1s\n",
      "14:\tlearn: 2160.4628901\ttotal: 257ms\tremaining: 16.9s\n",
      "15:\tlearn: 2126.5633500\ttotal: 271ms\tremaining: 16.7s\n",
      "16:\tlearn: 2103.9485448\ttotal: 285ms\tremaining: 16.5s\n",
      "17:\tlearn: 2081.2447543\ttotal: 299ms\tremaining: 16.3s\n",
      "18:\tlearn: 2063.3657746\ttotal: 312ms\tremaining: 16.1s\n",
      "19:\tlearn: 2046.7154958\ttotal: 327ms\tremaining: 16s\n",
      "20:\tlearn: 2032.9090694\ttotal: 341ms\tremaining: 15.9s\n",
      "21:\tlearn: 2020.2170388\ttotal: 356ms\tremaining: 15.8s\n",
      "22:\tlearn: 2005.3805456\ttotal: 370ms\tremaining: 15.7s\n",
      "23:\tlearn: 1992.1633871\ttotal: 384ms\tremaining: 15.6s\n",
      "24:\tlearn: 1978.7355450\ttotal: 400ms\tremaining: 15.6s\n",
      "25:\tlearn: 1968.3389912\ttotal: 413ms\tremaining: 15.5s\n",
      "26:\tlearn: 1960.3097214\ttotal: 428ms\tremaining: 15.4s\n",
      "27:\tlearn: 1953.9040316\ttotal: 449ms\tremaining: 15.6s\n",
      "28:\tlearn: 1946.7819675\ttotal: 462ms\tremaining: 15.5s\n",
      "29:\tlearn: 1938.5114422\ttotal: 479ms\tremaining: 15.5s\n",
      "30:\tlearn: 1932.2379983\ttotal: 493ms\tremaining: 15.4s\n",
      "31:\tlearn: 1926.3261021\ttotal: 507ms\tremaining: 15.3s\n",
      "32:\tlearn: 1915.7066784\ttotal: 523ms\tremaining: 15.3s\n",
      "33:\tlearn: 1910.0406098\ttotal: 538ms\tremaining: 15.3s\n",
      "34:\tlearn: 1906.9312115\ttotal: 553ms\tremaining: 15.2s\n",
      "35:\tlearn: 1901.7643712\ttotal: 568ms\tremaining: 15.2s\n",
      "36:\tlearn: 1895.6724221\ttotal: 585ms\tremaining: 15.2s\n",
      "37:\tlearn: 1890.5563928\ttotal: 601ms\tremaining: 15.2s\n",
      "38:\tlearn: 1887.6875108\ttotal: 613ms\tremaining: 15.1s\n",
      "39:\tlearn: 1884.2400291\ttotal: 630ms\tremaining: 15.1s\n",
      "40:\tlearn: 1878.0237105\ttotal: 653ms\tremaining: 15.3s\n",
      "41:\tlearn: 1872.9449461\ttotal: 683ms\tremaining: 15.6s\n",
      "42:\tlearn: 1868.1194599\ttotal: 708ms\tremaining: 15.8s\n",
      "43:\tlearn: 1864.4494967\ttotal: 733ms\tremaining: 15.9s\n",
      "44:\tlearn: 1861.2538873\ttotal: 756ms\tremaining: 16s\n",
      "45:\tlearn: 1855.7224846\ttotal: 779ms\tremaining: 16.2s\n",
      "46:\tlearn: 1853.4625420\ttotal: 796ms\tremaining: 16.1s\n",
      "47:\tlearn: 1850.4159948\ttotal: 810ms\tremaining: 16.1s\n",
      "48:\tlearn: 1847.0898962\ttotal: 829ms\tremaining: 16.1s\n",
      "49:\tlearn: 1845.1823161\ttotal: 844ms\tremaining: 16s\n",
      "50:\tlearn: 1841.9332040\ttotal: 860ms\tremaining: 16s\n",
      "51:\tlearn: 1839.1610091\ttotal: 875ms\tremaining: 15.9s\n",
      "52:\tlearn: 1836.8004744\ttotal: 895ms\tremaining: 16s\n",
      "53:\tlearn: 1834.4161632\ttotal: 912ms\tremaining: 16s\n",
      "54:\tlearn: 1832.7362727\ttotal: 926ms\tremaining: 15.9s\n",
      "55:\tlearn: 1829.6999354\ttotal: 939ms\tremaining: 15.8s\n",
      "56:\tlearn: 1826.7080390\ttotal: 954ms\tremaining: 15.8s\n",
      "57:\tlearn: 1823.5822275\ttotal: 969ms\tremaining: 15.7s\n",
      "58:\tlearn: 1821.3659985\ttotal: 983ms\tremaining: 15.7s\n",
      "59:\tlearn: 1819.5273353\ttotal: 999ms\tremaining: 15.6s\n",
      "60:\tlearn: 1816.8345180\ttotal: 1.01s\tremaining: 15.6s\n",
      "61:\tlearn: 1814.4411600\ttotal: 1.03s\tremaining: 15.6s\n",
      "62:\tlearn: 1811.5901565\ttotal: 1.05s\tremaining: 15.6s\n",
      "63:\tlearn: 1808.7360976\ttotal: 1.06s\tremaining: 15.6s\n",
      "64:\tlearn: 1807.3502780\ttotal: 1.08s\tremaining: 15.6s\n",
      "65:\tlearn: 1805.1509995\ttotal: 1.1s\tremaining: 15.6s\n",
      "66:\tlearn: 1802.8924561\ttotal: 1.12s\tremaining: 15.7s\n",
      "67:\tlearn: 1801.7531454\ttotal: 1.14s\tremaining: 15.6s\n",
      "68:\tlearn: 1799.7869993\ttotal: 1.16s\tremaining: 15.6s\n",
      "69:\tlearn: 1798.5856468\ttotal: 1.17s\tremaining: 15.6s\n",
      "70:\tlearn: 1796.8811416\ttotal: 1.19s\tremaining: 15.5s\n",
      "71:\tlearn: 1794.5695179\ttotal: 1.2s\tremaining: 15.5s\n",
      "72:\tlearn: 1792.8891352\ttotal: 1.21s\tremaining: 15.4s\n",
      "73:\tlearn: 1791.3751992\ttotal: 1.23s\tremaining: 15.4s\n",
      "74:\tlearn: 1790.3508423\ttotal: 1.25s\tremaining: 15.4s\n",
      "75:\tlearn: 1789.1913539\ttotal: 1.26s\tremaining: 15.3s\n",
      "76:\tlearn: 1787.1647387\ttotal: 1.27s\tremaining: 15.3s\n",
      "77:\tlearn: 1785.9552072\ttotal: 1.3s\tremaining: 15.3s\n",
      "78:\tlearn: 1784.7516403\ttotal: 1.31s\tremaining: 15.3s\n",
      "79:\tlearn: 1783.5283175\ttotal: 1.33s\tremaining: 15.3s\n",
      "80:\tlearn: 1781.6575703\ttotal: 1.35s\tremaining: 15.3s\n",
      "81:\tlearn: 1780.0939733\ttotal: 1.36s\tremaining: 15.3s\n",
      "82:\tlearn: 1779.0954609\ttotal: 1.38s\tremaining: 15.2s\n",
      "83:\tlearn: 1778.0405564\ttotal: 1.39s\tremaining: 15.2s\n",
      "84:\tlearn: 1776.2427091\ttotal: 1.41s\tremaining: 15.2s\n",
      "85:\tlearn: 1774.9325725\ttotal: 1.43s\tremaining: 15.2s\n",
      "86:\tlearn: 1774.0770205\ttotal: 1.44s\tremaining: 15.1s\n",
      "87:\tlearn: 1773.1638842\ttotal: 1.46s\tremaining: 15.1s\n",
      "88:\tlearn: 1771.7745991\ttotal: 1.48s\tremaining: 15.2s\n",
      "89:\tlearn: 1770.4179050\ttotal: 1.51s\tremaining: 15.3s\n",
      "90:\tlearn: 1769.3961091\ttotal: 1.53s\tremaining: 15.3s\n",
      "91:\tlearn: 1768.2094487\ttotal: 1.54s\tremaining: 15.2s\n",
      "92:\tlearn: 1766.9232318\ttotal: 1.56s\tremaining: 15.2s\n",
      "93:\tlearn: 1765.9269521\ttotal: 1.57s\tremaining: 15.2s\n",
      "94:\tlearn: 1764.4673389\ttotal: 1.59s\tremaining: 15.2s\n",
      "95:\tlearn: 1762.8034161\ttotal: 1.6s\tremaining: 15.1s\n",
      "96:\tlearn: 1761.4502781\ttotal: 1.62s\tremaining: 15.1s\n",
      "97:\tlearn: 1760.2466227\ttotal: 1.64s\tremaining: 15.1s\n",
      "98:\tlearn: 1758.3613427\ttotal: 1.66s\tremaining: 15.1s\n",
      "99:\tlearn: 1757.3428076\ttotal: 1.67s\tremaining: 15s\n",
      "100:\tlearn: 1755.8941776\ttotal: 1.69s\tremaining: 15s\n",
      "101:\tlearn: 1755.1495930\ttotal: 1.71s\tremaining: 15s\n",
      "102:\tlearn: 1753.8800196\ttotal: 1.72s\tremaining: 15s\n",
      "103:\tlearn: 1751.9673186\ttotal: 1.74s\tremaining: 15s\n",
      "104:\tlearn: 1750.5926297\ttotal: 1.76s\tremaining: 15s\n",
      "105:\tlearn: 1749.6270686\ttotal: 1.77s\tremaining: 14.9s\n",
      "106:\tlearn: 1748.8572245\ttotal: 1.79s\tremaining: 14.9s\n",
      "107:\tlearn: 1748.0671213\ttotal: 1.8s\tremaining: 14.9s\n",
      "108:\tlearn: 1747.1183267\ttotal: 1.82s\tremaining: 14.9s\n",
      "109:\tlearn: 1746.1089537\ttotal: 1.83s\tremaining: 14.8s\n",
      "110:\tlearn: 1745.1667867\ttotal: 1.85s\tremaining: 14.8s\n",
      "111:\tlearn: 1744.0792523\ttotal: 1.86s\tremaining: 14.8s\n",
      "112:\tlearn: 1743.5149221\ttotal: 1.88s\tremaining: 14.8s\n",
      "113:\tlearn: 1742.9968167\ttotal: 1.89s\tremaining: 14.7s\n",
      "114:\tlearn: 1741.9880116\ttotal: 1.91s\tremaining: 14.7s\n",
      "115:\tlearn: 1741.1986929\ttotal: 1.93s\tremaining: 14.7s\n",
      "116:\tlearn: 1740.6253984\ttotal: 1.96s\tremaining: 14.8s\n",
      "117:\tlearn: 1740.1724151\ttotal: 1.97s\tremaining: 14.7s\n",
      "118:\tlearn: 1739.4574605\ttotal: 1.99s\tremaining: 14.7s\n",
      "119:\tlearn: 1738.5815323\ttotal: 2s\tremaining: 14.7s\n",
      "120:\tlearn: 1737.3898531\ttotal: 2.02s\tremaining: 14.7s\n",
      "121:\tlearn: 1736.6740007\ttotal: 2.03s\tremaining: 14.6s\n",
      "122:\tlearn: 1735.0422404\ttotal: 2.05s\tremaining: 14.6s\n",
      "123:\tlearn: 1734.2438779\ttotal: 2.07s\tremaining: 14.6s\n",
      "124:\tlearn: 1733.5219603\ttotal: 2.08s\tremaining: 14.6s\n",
      "125:\tlearn: 1732.8763147\ttotal: 2.1s\tremaining: 14.5s\n",
      "126:\tlearn: 1732.1226606\ttotal: 2.11s\tremaining: 14.5s\n",
      "127:\tlearn: 1730.7872365\ttotal: 2.13s\tremaining: 14.5s\n",
      "128:\tlearn: 1730.0703962\ttotal: 2.15s\tremaining: 14.5s\n",
      "129:\tlearn: 1729.2744268\ttotal: 2.17s\tremaining: 14.5s\n",
      "130:\tlearn: 1728.3191153\ttotal: 2.19s\tremaining: 14.5s\n",
      "131:\tlearn: 1726.8346713\ttotal: 2.21s\tremaining: 14.5s\n",
      "132:\tlearn: 1725.2257997\ttotal: 2.22s\tremaining: 14.5s\n",
      "133:\tlearn: 1724.6376029\ttotal: 2.24s\tremaining: 14.5s\n",
      "134:\tlearn: 1723.3269325\ttotal: 2.25s\tremaining: 14.4s\n",
      "135:\tlearn: 1722.4538231\ttotal: 2.27s\tremaining: 14.4s\n",
      "136:\tlearn: 1722.1306489\ttotal: 2.28s\tremaining: 14.4s\n",
      "137:\tlearn: 1721.3653566\ttotal: 2.3s\tremaining: 14.4s\n",
      "138:\tlearn: 1720.2562854\ttotal: 2.32s\tremaining: 14.4s\n",
      "139:\tlearn: 1719.4728712\ttotal: 2.33s\tremaining: 14.3s\n",
      "140:\tlearn: 1718.7838051\ttotal: 2.35s\tremaining: 14.3s\n",
      "141:\tlearn: 1717.7619583\ttotal: 2.37s\tremaining: 14.3s\n",
      "142:\tlearn: 1716.7978729\ttotal: 2.39s\tremaining: 14.3s\n",
      "143:\tlearn: 1716.2568416\ttotal: 2.4s\tremaining: 14.3s\n",
      "144:\tlearn: 1715.8123520\ttotal: 2.42s\tremaining: 14.3s\n",
      "145:\tlearn: 1715.4419596\ttotal: 2.44s\tremaining: 14.2s\n",
      "146:\tlearn: 1714.9265241\ttotal: 2.45s\tremaining: 14.2s\n",
      "147:\tlearn: 1714.2815983\ttotal: 2.47s\tremaining: 14.2s\n",
      "148:\tlearn: 1713.3697738\ttotal: 2.48s\tremaining: 14.2s\n",
      "149:\tlearn: 1712.4535268\ttotal: 2.5s\tremaining: 14.2s\n",
      "150:\tlearn: 1711.7214430\ttotal: 2.51s\tremaining: 14.1s\n",
      "151:\tlearn: 1711.0510265\ttotal: 2.53s\tremaining: 14.1s\n",
      "152:\tlearn: 1710.4982946\ttotal: 2.55s\tremaining: 14.1s\n",
      "153:\tlearn: 1709.3970132\ttotal: 2.56s\tremaining: 14.1s\n",
      "154:\tlearn: 1708.7640275\ttotal: 2.58s\tremaining: 14.1s\n",
      "155:\tlearn: 1708.2362247\ttotal: 2.6s\tremaining: 14.1s\n",
      "156:\tlearn: 1707.4824026\ttotal: 2.62s\tremaining: 14.1s\n",
      "157:\tlearn: 1706.6584035\ttotal: 2.64s\tremaining: 14.1s\n",
      "158:\tlearn: 1706.3527501\ttotal: 2.65s\tremaining: 14s\n",
      "159:\tlearn: 1706.0869180\ttotal: 2.67s\tremaining: 14s\n",
      "160:\tlearn: 1705.4764722\ttotal: 2.68s\tremaining: 14s\n",
      "161:\tlearn: 1704.8073817\ttotal: 2.7s\tremaining: 14s\n",
      "162:\tlearn: 1704.3269283\ttotal: 2.72s\tremaining: 13.9s\n",
      "163:\tlearn: 1703.8771740\ttotal: 2.73s\tremaining: 13.9s\n",
      "164:\tlearn: 1703.2592791\ttotal: 2.75s\tremaining: 13.9s\n",
      "165:\tlearn: 1702.5899033\ttotal: 2.76s\tremaining: 13.9s\n",
      "166:\tlearn: 1701.8695668\ttotal: 2.79s\tremaining: 13.9s\n",
      "167:\tlearn: 1701.2576837\ttotal: 2.81s\tremaining: 13.9s\n",
      "168:\tlearn: 1700.7488651\ttotal: 2.83s\tremaining: 13.9s\n",
      "169:\tlearn: 1700.2913231\ttotal: 2.86s\tremaining: 14s\n",
      "170:\tlearn: 1700.0697645\ttotal: 2.88s\tremaining: 13.9s\n",
      "171:\tlearn: 1699.2099584\ttotal: 2.9s\tremaining: 13.9s\n",
      "172:\tlearn: 1698.8965351\ttotal: 2.91s\tremaining: 13.9s\n",
      "173:\tlearn: 1698.2145794\ttotal: 2.93s\tremaining: 13.9s\n",
      "174:\tlearn: 1697.6221443\ttotal: 2.94s\tremaining: 13.9s\n",
      "175:\tlearn: 1697.0272278\ttotal: 2.96s\tremaining: 13.8s\n",
      "176:\tlearn: 1696.3068620\ttotal: 2.97s\tremaining: 13.8s\n",
      "177:\tlearn: 1695.8073136\ttotal: 2.99s\tremaining: 13.8s\n",
      "178:\tlearn: 1695.1645380\ttotal: 3s\tremaining: 13.8s\n",
      "179:\tlearn: 1694.6274414\ttotal: 3.02s\tremaining: 13.8s\n",
      "180:\tlearn: 1693.8507203\ttotal: 3.03s\tremaining: 13.7s\n",
      "181:\tlearn: 1693.3300237\ttotal: 3.05s\tremaining: 13.7s\n",
      "182:\tlearn: 1692.9690702\ttotal: 3.07s\tremaining: 13.7s\n",
      "183:\tlearn: 1692.6273113\ttotal: 3.08s\tremaining: 13.7s\n",
      "184:\tlearn: 1692.2798105\ttotal: 3.1s\tremaining: 13.6s\n",
      "185:\tlearn: 1691.6080571\ttotal: 3.11s\tremaining: 13.6s\n",
      "186:\tlearn: 1691.0908816\ttotal: 3.13s\tremaining: 13.6s\n",
      "187:\tlearn: 1690.6446016\ttotal: 3.15s\tremaining: 13.6s\n",
      "188:\tlearn: 1690.1918230\ttotal: 3.17s\tremaining: 13.6s\n",
      "189:\tlearn: 1689.7740399\ttotal: 3.19s\tremaining: 13.6s\n",
      "190:\tlearn: 1689.3519800\ttotal: 3.22s\tremaining: 13.6s\n",
      "191:\tlearn: 1688.7762219\ttotal: 3.25s\tremaining: 13.7s\n",
      "192:\tlearn: 1688.3319559\ttotal: 3.28s\tremaining: 13.7s\n",
      "193:\tlearn: 1687.1277988\ttotal: 3.3s\tremaining: 13.7s\n",
      "194:\tlearn: 1686.5711810\ttotal: 3.32s\tremaining: 13.7s\n",
      "195:\tlearn: 1685.8790883\ttotal: 3.34s\tremaining: 13.7s\n",
      "196:\tlearn: 1685.4555803\ttotal: 3.36s\tremaining: 13.7s\n",
      "197:\tlearn: 1685.0756067\ttotal: 3.38s\tremaining: 13.7s\n",
      "198:\tlearn: 1684.5057224\ttotal: 3.4s\tremaining: 13.7s\n",
      "199:\tlearn: 1684.2111550\ttotal: 3.42s\tremaining: 13.7s\n",
      "200:\tlearn: 1683.5449618\ttotal: 3.46s\tremaining: 13.7s\n",
      "201:\tlearn: 1683.2549158\ttotal: 3.48s\tremaining: 13.8s\n",
      "202:\tlearn: 1682.7314169\ttotal: 3.5s\tremaining: 13.8s\n",
      "203:\tlearn: 1682.2945953\ttotal: 3.53s\tremaining: 13.8s\n",
      "204:\tlearn: 1681.9260552\ttotal: 3.55s\tremaining: 13.8s\n",
      "205:\tlearn: 1681.5991341\ttotal: 3.58s\tremaining: 13.8s\n",
      "206:\tlearn: 1681.2716045\ttotal: 3.6s\tremaining: 13.8s\n",
      "207:\tlearn: 1680.6114696\ttotal: 3.63s\tremaining: 13.8s\n",
      "208:\tlearn: 1679.9077663\ttotal: 3.65s\tremaining: 13.8s\n",
      "209:\tlearn: 1679.2388370\ttotal: 3.68s\tremaining: 13.9s\n",
      "210:\tlearn: 1678.5152382\ttotal: 3.7s\tremaining: 13.8s\n",
      "211:\tlearn: 1678.0853911\ttotal: 3.73s\tremaining: 13.8s\n",
      "212:\tlearn: 1677.4083861\ttotal: 3.75s\tremaining: 13.9s\n",
      "213:\tlearn: 1677.1353621\ttotal: 3.77s\tremaining: 13.9s\n",
      "214:\tlearn: 1676.6140187\ttotal: 3.79s\tremaining: 13.9s\n",
      "215:\tlearn: 1675.9789336\ttotal: 3.81s\tremaining: 13.8s\n",
      "216:\tlearn: 1675.7390631\ttotal: 3.83s\tremaining: 13.8s\n",
      "217:\tlearn: 1675.0188997\ttotal: 3.85s\tremaining: 13.8s\n",
      "218:\tlearn: 1674.7177084\ttotal: 3.86s\tremaining: 13.8s\n",
      "219:\tlearn: 1674.3529747\ttotal: 3.88s\tremaining: 13.8s\n",
      "220:\tlearn: 1673.9674353\ttotal: 3.9s\tremaining: 13.8s\n",
      "221:\tlearn: 1673.4265864\ttotal: 3.92s\tremaining: 13.7s\n",
      "222:\tlearn: 1673.0164366\ttotal: 3.94s\tremaining: 13.7s\n",
      "223:\tlearn: 1672.4789945\ttotal: 3.95s\tremaining: 13.7s\n",
      "224:\tlearn: 1672.0196751\ttotal: 3.97s\tremaining: 13.7s\n",
      "225:\tlearn: 1671.8386679\ttotal: 3.98s\tremaining: 13.6s\n",
      "226:\tlearn: 1671.6654931\ttotal: 4s\tremaining: 13.6s\n",
      "227:\tlearn: 1671.0843133\ttotal: 4.01s\tremaining: 13.6s\n",
      "228:\tlearn: 1670.6916667\ttotal: 4.03s\tremaining: 13.6s\n",
      "229:\tlearn: 1670.3850925\ttotal: 4.05s\tremaining: 13.6s\n",
      "230:\tlearn: 1669.9818253\ttotal: 4.06s\tremaining: 13.5s\n",
      "231:\tlearn: 1669.2503500\ttotal: 4.08s\tremaining: 13.5s\n",
      "232:\tlearn: 1668.9133590\ttotal: 4.1s\tremaining: 13.5s\n",
      "233:\tlearn: 1668.4901116\ttotal: 4.12s\tremaining: 13.5s\n",
      "234:\tlearn: 1668.1948937\ttotal: 4.14s\tremaining: 13.5s\n",
      "235:\tlearn: 1667.7720242\ttotal: 4.15s\tremaining: 13.4s\n",
      "236:\tlearn: 1667.3053626\ttotal: 4.17s\tremaining: 13.4s\n",
      "237:\tlearn: 1666.8992957\ttotal: 4.18s\tremaining: 13.4s\n",
      "238:\tlearn: 1666.4189404\ttotal: 4.2s\tremaining: 13.4s\n",
      "239:\tlearn: 1665.9864421\ttotal: 4.22s\tremaining: 13.4s\n",
      "240:\tlearn: 1665.2671057\ttotal: 4.24s\tremaining: 13.4s\n",
      "241:\tlearn: 1665.0027078\ttotal: 4.25s\tremaining: 13.3s\n",
      "242:\tlearn: 1664.6704876\ttotal: 4.27s\tremaining: 13.3s\n",
      "243:\tlearn: 1663.7163152\ttotal: 4.29s\tremaining: 13.3s\n",
      "244:\tlearn: 1663.2801866\ttotal: 4.3s\tremaining: 13.3s\n",
      "245:\tlearn: 1663.2131510\ttotal: 4.32s\tremaining: 13.2s\n",
      "246:\tlearn: 1663.0032629\ttotal: 4.33s\tremaining: 13.2s\n",
      "247:\tlearn: 1662.5440634\ttotal: 4.35s\tremaining: 13.2s\n",
      "248:\tlearn: 1662.1477703\ttotal: 4.37s\tremaining: 13.2s\n",
      "249:\tlearn: 1661.8673026\ttotal: 4.38s\tremaining: 13.2s\n",
      "250:\tlearn: 1661.3271530\ttotal: 4.4s\tremaining: 13.1s\n",
      "251:\tlearn: 1661.0447927\ttotal: 4.42s\tremaining: 13.1s\n",
      "252:\tlearn: 1660.6538152\ttotal: 4.43s\tremaining: 13.1s\n",
      "253:\tlearn: 1660.2559161\ttotal: 4.45s\tremaining: 13.1s\n",
      "254:\tlearn: 1659.9681027\ttotal: 4.46s\tremaining: 13s\n",
      "255:\tlearn: 1659.6170712\ttotal: 4.48s\tremaining: 13s\n",
      "256:\tlearn: 1659.3610334\ttotal: 4.49s\tremaining: 13s\n",
      "257:\tlearn: 1658.8638391\ttotal: 4.51s\tremaining: 13s\n",
      "258:\tlearn: 1658.5753367\ttotal: 4.52s\tremaining: 12.9s\n",
      "259:\tlearn: 1658.1520124\ttotal: 4.54s\tremaining: 12.9s\n",
      "260:\tlearn: 1657.8473657\ttotal: 4.56s\tremaining: 12.9s\n",
      "261:\tlearn: 1657.7635661\ttotal: 4.58s\tremaining: 12.9s\n",
      "262:\tlearn: 1657.3474084\ttotal: 4.6s\tremaining: 12.9s\n",
      "263:\tlearn: 1656.9391639\ttotal: 4.63s\tremaining: 12.9s\n",
      "264:\tlearn: 1656.6797852\ttotal: 4.64s\tremaining: 12.9s\n",
      "265:\tlearn: 1656.3438192\ttotal: 4.67s\tremaining: 12.9s\n",
      "266:\tlearn: 1655.8465509\ttotal: 4.69s\tremaining: 12.9s\n",
      "267:\tlearn: 1655.2897333\ttotal: 4.71s\tremaining: 12.9s\n",
      "268:\tlearn: 1655.0278707\ttotal: 4.73s\tremaining: 12.8s\n",
      "269:\tlearn: 1654.8479018\ttotal: 4.75s\tremaining: 12.8s\n",
      "270:\tlearn: 1654.5680982\ttotal: 4.77s\tremaining: 12.8s\n",
      "271:\tlearn: 1654.2523141\ttotal: 4.79s\tremaining: 12.8s\n",
      "272:\tlearn: 1654.1681442\ttotal: 4.8s\tremaining: 12.8s\n",
      "273:\tlearn: 1653.7839846\ttotal: 4.83s\tremaining: 12.8s\n",
      "274:\tlearn: 1653.3583636\ttotal: 4.85s\tremaining: 12.8s\n",
      "275:\tlearn: 1652.9364947\ttotal: 4.88s\tremaining: 12.8s\n",
      "276:\tlearn: 1652.5990879\ttotal: 4.9s\tremaining: 12.8s\n",
      "277:\tlearn: 1652.2149104\ttotal: 4.92s\tremaining: 12.8s\n",
      "278:\tlearn: 1651.8476452\ttotal: 4.93s\tremaining: 12.7s\n",
      "279:\tlearn: 1651.7229508\ttotal: 4.94s\tremaining: 12.7s\n",
      "280:\tlearn: 1651.3349420\ttotal: 4.96s\tremaining: 12.7s\n",
      "281:\tlearn: 1651.0973919\ttotal: 4.98s\tremaining: 12.7s\n",
      "282:\tlearn: 1650.9151672\ttotal: 5s\tremaining: 12.7s\n",
      "283:\tlearn: 1650.5891074\ttotal: 5.01s\tremaining: 12.6s\n",
      "284:\tlearn: 1650.2117358\ttotal: 5.03s\tremaining: 12.6s\n",
      "285:\tlearn: 1649.7982730\ttotal: 5.04s\tremaining: 12.6s\n",
      "286:\tlearn: 1649.5375578\ttotal: 5.06s\tremaining: 12.6s\n",
      "287:\tlearn: 1649.2844422\ttotal: 5.07s\tremaining: 12.5s\n",
      "288:\tlearn: 1648.8834572\ttotal: 5.09s\tremaining: 12.5s\n",
      "289:\tlearn: 1648.5465550\ttotal: 5.11s\tremaining: 12.5s\n",
      "290:\tlearn: 1648.0167766\ttotal: 5.12s\tremaining: 12.5s\n",
      "291:\tlearn: 1647.7107998\ttotal: 5.14s\tremaining: 12.5s\n",
      "292:\tlearn: 1647.4513300\ttotal: 5.16s\tremaining: 12.4s\n",
      "293:\tlearn: 1646.6910547\ttotal: 5.17s\tremaining: 12.4s\n",
      "294:\tlearn: 1646.4270550\ttotal: 5.19s\tremaining: 12.4s\n",
      "295:\tlearn: 1646.0791455\ttotal: 5.21s\tremaining: 12.4s\n",
      "296:\tlearn: 1645.7709510\ttotal: 5.23s\tremaining: 12.4s\n",
      "297:\tlearn: 1645.1915746\ttotal: 5.25s\tremaining: 12.4s\n",
      "298:\tlearn: 1644.8544925\ttotal: 5.26s\tremaining: 12.3s\n",
      "299:\tlearn: 1644.5520826\ttotal: 5.28s\tremaining: 12.3s\n",
      "300:\tlearn: 1644.1805029\ttotal: 5.3s\tremaining: 12.3s\n",
      "301:\tlearn: 1643.8862982\ttotal: 5.31s\tremaining: 12.3s\n",
      "302:\tlearn: 1643.5160915\ttotal: 5.33s\tremaining: 12.3s\n",
      "303:\tlearn: 1643.2379378\ttotal: 5.34s\tremaining: 12.2s\n",
      "304:\tlearn: 1642.9293790\ttotal: 5.36s\tremaining: 12.2s\n",
      "305:\tlearn: 1642.4671037\ttotal: 5.37s\tremaining: 12.2s\n",
      "306:\tlearn: 1642.2421507\ttotal: 5.39s\tremaining: 12.2s\n",
      "307:\tlearn: 1641.9424293\ttotal: 5.4s\tremaining: 12.1s\n",
      "308:\tlearn: 1641.7471768\ttotal: 5.43s\tremaining: 12.1s\n",
      "309:\tlearn: 1641.2706111\ttotal: 5.45s\tremaining: 12.1s\n",
      "310:\tlearn: 1641.0017982\ttotal: 5.47s\tremaining: 12.1s\n",
      "311:\tlearn: 1640.6360100\ttotal: 5.5s\tremaining: 12.1s\n",
      "312:\tlearn: 1640.4627131\ttotal: 5.52s\tremaining: 12.1s\n",
      "313:\tlearn: 1640.1112071\ttotal: 5.54s\tremaining: 12.1s\n",
      "314:\tlearn: 1639.8919099\ttotal: 5.55s\tremaining: 12.1s\n",
      "315:\tlearn: 1639.7453664\ttotal: 5.57s\tremaining: 12s\n",
      "316:\tlearn: 1639.2168376\ttotal: 5.58s\tremaining: 12s\n",
      "317:\tlearn: 1638.9942494\ttotal: 5.6s\tremaining: 12s\n",
      "318:\tlearn: 1638.7070965\ttotal: 5.62s\tremaining: 12s\n",
      "319:\tlearn: 1638.5006668\ttotal: 5.63s\tremaining: 12s\n",
      "320:\tlearn: 1638.3013933\ttotal: 5.65s\tremaining: 11.9s\n",
      "321:\tlearn: 1638.0868580\ttotal: 5.66s\tremaining: 11.9s\n",
      "322:\tlearn: 1637.6751142\ttotal: 5.68s\tremaining: 11.9s\n",
      "323:\tlearn: 1637.5472989\ttotal: 5.7s\tremaining: 11.9s\n",
      "324:\tlearn: 1637.1768185\ttotal: 5.71s\tremaining: 11.9s\n",
      "325:\tlearn: 1636.8288632\ttotal: 5.73s\tremaining: 11.8s\n",
      "326:\tlearn: 1636.4587924\ttotal: 5.74s\tremaining: 11.8s\n",
      "327:\tlearn: 1636.4014657\ttotal: 5.76s\tremaining: 11.8s\n",
      "328:\tlearn: 1636.2767889\ttotal: 5.77s\tremaining: 11.8s\n",
      "329:\tlearn: 1636.0854795\ttotal: 5.79s\tremaining: 11.7s\n",
      "330:\tlearn: 1635.8301677\ttotal: 5.8s\tremaining: 11.7s\n",
      "331:\tlearn: 1635.6550815\ttotal: 5.82s\tremaining: 11.7s\n",
      "332:\tlearn: 1635.3747732\ttotal: 5.83s\tremaining: 11.7s\n",
      "333:\tlearn: 1635.0158658\ttotal: 5.86s\tremaining: 11.7s\n",
      "334:\tlearn: 1634.6709307\ttotal: 5.87s\tremaining: 11.7s\n",
      "335:\tlearn: 1634.2029207\ttotal: 5.89s\tremaining: 11.6s\n",
      "336:\tlearn: 1634.0391531\ttotal: 5.91s\tremaining: 11.6s\n",
      "337:\tlearn: 1633.6291894\ttotal: 5.92s\tremaining: 11.6s\n",
      "338:\tlearn: 1633.1664350\ttotal: 5.95s\tremaining: 11.6s\n",
      "339:\tlearn: 1632.9209338\ttotal: 5.97s\tremaining: 11.6s\n",
      "340:\tlearn: 1632.8822344\ttotal: 5.99s\tremaining: 11.6s\n",
      "341:\tlearn: 1632.6428659\ttotal: 6.01s\tremaining: 11.6s\n",
      "342:\tlearn: 1632.3794858\ttotal: 6.03s\tremaining: 11.6s\n",
      "343:\tlearn: 1632.1375312\ttotal: 6.05s\tremaining: 11.5s\n",
      "344:\tlearn: 1631.9156211\ttotal: 6.07s\tremaining: 11.5s\n",
      "345:\tlearn: 1631.6815439\ttotal: 6.08s\tremaining: 11.5s\n",
      "346:\tlearn: 1631.4024896\ttotal: 6.09s\tremaining: 11.5s\n",
      "347:\tlearn: 1630.9797761\ttotal: 6.11s\tremaining: 11.4s\n",
      "348:\tlearn: 1630.6203154\ttotal: 6.13s\tremaining: 11.4s\n",
      "349:\tlearn: 1630.4205492\ttotal: 6.14s\tremaining: 11.4s\n",
      "350:\tlearn: 1630.2285626\ttotal: 6.15s\tremaining: 11.4s\n",
      "351:\tlearn: 1629.9511771\ttotal: 6.17s\tremaining: 11.4s\n",
      "352:\tlearn: 1629.5969307\ttotal: 6.18s\tremaining: 11.3s\n",
      "353:\tlearn: 1629.3676833\ttotal: 6.2s\tremaining: 11.3s\n",
      "354:\tlearn: 1629.0661958\ttotal: 6.21s\tremaining: 11.3s\n",
      "355:\tlearn: 1628.7723555\ttotal: 6.23s\tremaining: 11.3s\n",
      "356:\tlearn: 1628.6129744\ttotal: 6.25s\tremaining: 11.3s\n",
      "357:\tlearn: 1628.3013429\ttotal: 6.27s\tremaining: 11.2s\n",
      "358:\tlearn: 1628.1392733\ttotal: 6.28s\tremaining: 11.2s\n",
      "359:\tlearn: 1627.9824042\ttotal: 6.3s\tremaining: 11.2s\n",
      "360:\tlearn: 1627.7145806\ttotal: 6.32s\tremaining: 11.2s\n",
      "361:\tlearn: 1627.3314776\ttotal: 6.33s\tremaining: 11.2s\n",
      "362:\tlearn: 1627.0683018\ttotal: 6.35s\tremaining: 11.1s\n",
      "363:\tlearn: 1626.8077280\ttotal: 6.36s\tremaining: 11.1s\n",
      "364:\tlearn: 1626.5228434\ttotal: 6.38s\tremaining: 11.1s\n",
      "365:\tlearn: 1626.3424443\ttotal: 6.4s\tremaining: 11.1s\n",
      "366:\tlearn: 1626.0872907\ttotal: 6.41s\tremaining: 11.1s\n",
      "367:\tlearn: 1625.9369970\ttotal: 6.43s\tremaining: 11s\n",
      "368:\tlearn: 1625.7303740\ttotal: 6.44s\tremaining: 11s\n",
      "369:\tlearn: 1625.4739117\ttotal: 6.46s\tremaining: 11s\n",
      "370:\tlearn: 1625.1463635\ttotal: 6.48s\tremaining: 11s\n",
      "371:\tlearn: 1624.8580835\ttotal: 6.5s\tremaining: 11s\n",
      "372:\tlearn: 1624.7276837\ttotal: 6.51s\tremaining: 10.9s\n",
      "373:\tlearn: 1624.4966828\ttotal: 6.53s\tremaining: 10.9s\n",
      "374:\tlearn: 1624.1466603\ttotal: 6.54s\tremaining: 10.9s\n",
      "375:\tlearn: 1623.9072975\ttotal: 6.56s\tremaining: 10.9s\n",
      "376:\tlearn: 1623.6853807\ttotal: 6.57s\tremaining: 10.9s\n",
      "377:\tlearn: 1623.3681857\ttotal: 6.59s\tremaining: 10.8s\n",
      "378:\tlearn: 1623.0670824\ttotal: 6.61s\tremaining: 10.8s\n",
      "379:\tlearn: 1622.7559345\ttotal: 6.62s\tremaining: 10.8s\n",
      "380:\tlearn: 1622.4086301\ttotal: 6.64s\tremaining: 10.8s\n",
      "381:\tlearn: 1622.2061306\ttotal: 6.66s\tremaining: 10.8s\n",
      "382:\tlearn: 1621.7919902\ttotal: 6.68s\tremaining: 10.8s\n",
      "383:\tlearn: 1621.2970736\ttotal: 6.7s\tremaining: 10.7s\n",
      "384:\tlearn: 1621.0186389\ttotal: 6.71s\tremaining: 10.7s\n",
      "385:\tlearn: 1620.7664278\ttotal: 6.73s\tremaining: 10.7s\n",
      "386:\tlearn: 1620.5451535\ttotal: 6.75s\tremaining: 10.7s\n",
      "387:\tlearn: 1620.3913137\ttotal: 6.76s\tremaining: 10.7s\n",
      "388:\tlearn: 1620.2727681\ttotal: 6.78s\tremaining: 10.6s\n",
      "389:\tlearn: 1619.9146223\ttotal: 6.79s\tremaining: 10.6s\n",
      "390:\tlearn: 1619.4862154\ttotal: 6.81s\tremaining: 10.6s\n",
      "391:\tlearn: 1619.2755162\ttotal: 6.83s\tremaining: 10.6s\n",
      "392:\tlearn: 1618.9215051\ttotal: 6.85s\tremaining: 10.6s\n",
      "393:\tlearn: 1618.4454812\ttotal: 6.86s\tremaining: 10.6s\n",
      "394:\tlearn: 1618.2896789\ttotal: 6.88s\tremaining: 10.5s\n",
      "395:\tlearn: 1618.0259676\ttotal: 6.9s\tremaining: 10.5s\n",
      "396:\tlearn: 1617.8127553\ttotal: 6.92s\tremaining: 10.5s\n",
      "397:\tlearn: 1617.5304606\ttotal: 6.94s\tremaining: 10.5s\n",
      "398:\tlearn: 1617.4087724\ttotal: 6.95s\tremaining: 10.5s\n",
      "399:\tlearn: 1617.1712879\ttotal: 6.97s\tremaining: 10.4s\n",
      "400:\tlearn: 1616.8418854\ttotal: 6.98s\tremaining: 10.4s\n",
      "401:\tlearn: 1616.4549327\ttotal: 7s\tremaining: 10.4s\n",
      "402:\tlearn: 1616.2756243\ttotal: 7.01s\tremaining: 10.4s\n",
      "403:\tlearn: 1616.0523722\ttotal: 7.03s\tremaining: 10.4s\n",
      "404:\tlearn: 1615.9013467\ttotal: 7.05s\tremaining: 10.4s\n",
      "405:\tlearn: 1615.6322075\ttotal: 7.07s\tremaining: 10.3s\n",
      "406:\tlearn: 1615.3479056\ttotal: 7.08s\tremaining: 10.3s\n",
      "407:\tlearn: 1615.1164008\ttotal: 7.1s\tremaining: 10.3s\n",
      "408:\tlearn: 1615.0049726\ttotal: 7.11s\tremaining: 10.3s\n",
      "409:\tlearn: 1614.7824904\ttotal: 7.13s\tremaining: 10.3s\n",
      "410:\tlearn: 1614.5687228\ttotal: 7.15s\tremaining: 10.2s\n",
      "411:\tlearn: 1614.2627238\ttotal: 7.17s\tremaining: 10.2s\n",
      "412:\tlearn: 1613.9050108\ttotal: 7.18s\tremaining: 10.2s\n",
      "413:\tlearn: 1613.7920512\ttotal: 7.2s\tremaining: 10.2s\n",
      "414:\tlearn: 1613.5812830\ttotal: 7.22s\tremaining: 10.2s\n",
      "415:\tlearn: 1613.3402971\ttotal: 7.23s\tremaining: 10.2s\n",
      "416:\tlearn: 1613.0607088\ttotal: 7.25s\tremaining: 10.1s\n",
      "417:\tlearn: 1612.9353712\ttotal: 7.26s\tremaining: 10.1s\n",
      "418:\tlearn: 1612.8049522\ttotal: 7.28s\tremaining: 10.1s\n",
      "419:\tlearn: 1612.6659668\ttotal: 7.29s\tremaining: 10.1s\n",
      "420:\tlearn: 1612.4296925\ttotal: 7.31s\tremaining: 10.1s\n",
      "421:\tlearn: 1612.2456501\ttotal: 7.33s\tremaining: 10s\n",
      "422:\tlearn: 1612.1342247\ttotal: 7.35s\tremaining: 10s\n",
      "423:\tlearn: 1611.7731301\ttotal: 7.37s\tremaining: 10s\n",
      "424:\tlearn: 1611.6837622\ttotal: 7.38s\tremaining: 9.99s\n",
      "425:\tlearn: 1611.4220543\ttotal: 7.4s\tremaining: 9.97s\n",
      "426:\tlearn: 1611.2296716\ttotal: 7.41s\tremaining: 9.95s\n",
      "427:\tlearn: 1611.0436006\ttotal: 7.43s\tremaining: 9.93s\n",
      "428:\tlearn: 1610.7234831\ttotal: 7.45s\tremaining: 9.91s\n",
      "429:\tlearn: 1610.2824837\ttotal: 7.46s\tremaining: 9.89s\n",
      "430:\tlearn: 1609.9197782\ttotal: 7.48s\tremaining: 9.88s\n",
      "431:\tlearn: 1609.7319991\ttotal: 7.5s\tremaining: 9.86s\n",
      "432:\tlearn: 1609.5338397\ttotal: 7.51s\tremaining: 9.84s\n",
      "433:\tlearn: 1609.3143708\ttotal: 7.53s\tremaining: 9.82s\n",
      "434:\tlearn: 1608.9643926\ttotal: 7.54s\tremaining: 9.8s\n",
      "435:\tlearn: 1608.7715388\ttotal: 7.57s\tremaining: 9.79s\n",
      "436:\tlearn: 1608.6657146\ttotal: 7.58s\tremaining: 9.77s\n",
      "437:\tlearn: 1608.3517922\ttotal: 7.6s\tremaining: 9.75s\n",
      "438:\tlearn: 1607.9915213\ttotal: 7.62s\tremaining: 9.73s\n",
      "439:\tlearn: 1607.7558175\ttotal: 7.63s\tremaining: 9.71s\n",
      "440:\tlearn: 1607.6157934\ttotal: 7.65s\tremaining: 9.7s\n",
      "441:\tlearn: 1607.4819931\ttotal: 7.66s\tremaining: 9.68s\n",
      "442:\tlearn: 1607.2262250\ttotal: 7.68s\tremaining: 9.65s\n",
      "443:\tlearn: 1606.9387929\ttotal: 7.7s\tremaining: 9.64s\n",
      "444:\tlearn: 1606.7469491\ttotal: 7.71s\tremaining: 9.62s\n",
      "445:\tlearn: 1606.5125872\ttotal: 7.73s\tremaining: 9.6s\n",
      "446:\tlearn: 1606.3083378\ttotal: 7.74s\tremaining: 9.58s\n",
      "447:\tlearn: 1606.0953316\ttotal: 7.76s\tremaining: 9.56s\n",
      "448:\tlearn: 1605.8343538\ttotal: 7.78s\tremaining: 9.54s\n",
      "449:\tlearn: 1605.6142543\ttotal: 7.8s\tremaining: 9.53s\n",
      "450:\tlearn: 1605.4277472\ttotal: 7.83s\tremaining: 9.53s\n",
      "451:\tlearn: 1605.2688004\ttotal: 7.85s\tremaining: 9.52s\n",
      "452:\tlearn: 1605.0962140\ttotal: 7.88s\tremaining: 9.51s\n",
      "453:\tlearn: 1604.7000336\ttotal: 7.9s\tremaining: 9.5s\n",
      "454:\tlearn: 1604.4334741\ttotal: 7.91s\tremaining: 9.48s\n",
      "455:\tlearn: 1604.2601571\ttotal: 7.93s\tremaining: 9.46s\n",
      "456:\tlearn: 1604.0243406\ttotal: 7.94s\tremaining: 9.44s\n",
      "457:\tlearn: 1603.7248560\ttotal: 7.96s\tremaining: 9.42s\n",
      "458:\tlearn: 1603.5711887\ttotal: 7.97s\tremaining: 9.4s\n",
      "459:\tlearn: 1603.3758318\ttotal: 7.99s\tremaining: 9.38s\n",
      "460:\tlearn: 1603.2398774\ttotal: 8.01s\tremaining: 9.36s\n",
      "461:\tlearn: 1603.1458234\ttotal: 8.02s\tremaining: 9.34s\n",
      "462:\tlearn: 1602.9672646\ttotal: 8.04s\tremaining: 9.32s\n",
      "463:\tlearn: 1602.5941473\ttotal: 8.05s\tremaining: 9.3s\n",
      "464:\tlearn: 1602.3776019\ttotal: 8.07s\tremaining: 9.28s\n",
      "465:\tlearn: 1602.2573070\ttotal: 8.08s\tremaining: 9.26s\n",
      "466:\tlearn: 1602.0805378\ttotal: 8.09s\tremaining: 9.24s\n",
      "467:\tlearn: 1601.9359046\ttotal: 8.12s\tremaining: 9.23s\n",
      "468:\tlearn: 1601.6874960\ttotal: 8.14s\tremaining: 9.22s\n",
      "469:\tlearn: 1601.6043863\ttotal: 8.17s\tremaining: 9.21s\n",
      "470:\tlearn: 1601.3243742\ttotal: 8.19s\tremaining: 9.2s\n",
      "471:\tlearn: 1601.0497689\ttotal: 8.21s\tremaining: 9.18s\n",
      "472:\tlearn: 1600.8422751\ttotal: 8.22s\tremaining: 9.16s\n",
      "473:\tlearn: 1600.7863617\ttotal: 8.24s\tremaining: 9.14s\n",
      "474:\tlearn: 1600.5746566\ttotal: 8.25s\tremaining: 9.12s\n",
      "475:\tlearn: 1600.3971689\ttotal: 8.27s\tremaining: 9.1s\n",
      "476:\tlearn: 1600.2221958\ttotal: 8.28s\tremaining: 9.08s\n",
      "477:\tlearn: 1600.0136393\ttotal: 8.3s\tremaining: 9.06s\n",
      "478:\tlearn: 1599.8248341\ttotal: 8.31s\tremaining: 9.04s\n",
      "479:\tlearn: 1599.6370685\ttotal: 8.33s\tremaining: 9.02s\n",
      "480:\tlearn: 1599.4418438\ttotal: 8.34s\tremaining: 9s\n",
      "481:\tlearn: 1599.2308291\ttotal: 8.36s\tremaining: 8.98s\n",
      "482:\tlearn: 1598.9945789\ttotal: 8.37s\tremaining: 8.96s\n",
      "483:\tlearn: 1598.7919590\ttotal: 8.39s\tremaining: 8.95s\n",
      "484:\tlearn: 1598.7105513\ttotal: 8.41s\tremaining: 8.93s\n",
      "485:\tlearn: 1598.4522151\ttotal: 8.42s\tremaining: 8.91s\n",
      "486:\tlearn: 1598.2464305\ttotal: 8.44s\tremaining: 8.89s\n",
      "487:\tlearn: 1597.9375368\ttotal: 8.46s\tremaining: 8.87s\n",
      "488:\tlearn: 1597.7898716\ttotal: 8.47s\tremaining: 8.85s\n",
      "489:\tlearn: 1597.6144340\ttotal: 8.49s\tremaining: 8.83s\n",
      "490:\tlearn: 1597.5046659\ttotal: 8.5s\tremaining: 8.81s\n",
      "491:\tlearn: 1597.2892533\ttotal: 8.52s\tremaining: 8.79s\n",
      "492:\tlearn: 1597.2097331\ttotal: 8.53s\tremaining: 8.78s\n",
      "493:\tlearn: 1597.0534117\ttotal: 8.55s\tremaining: 8.75s\n",
      "494:\tlearn: 1597.0355012\ttotal: 8.56s\tremaining: 8.73s\n",
      "495:\tlearn: 1596.7814835\ttotal: 8.57s\tremaining: 8.71s\n",
      "496:\tlearn: 1596.5852699\ttotal: 8.6s\tremaining: 8.7s\n",
      "497:\tlearn: 1596.4531225\ttotal: 8.61s\tremaining: 8.68s\n",
      "498:\tlearn: 1596.3435159\ttotal: 8.63s\tremaining: 8.66s\n",
      "499:\tlearn: 1596.1505763\ttotal: 8.64s\tremaining: 8.64s\n",
      "500:\tlearn: 1595.9153802\ttotal: 8.66s\tremaining: 8.63s\n",
      "501:\tlearn: 1595.5945217\ttotal: 8.68s\tremaining: 8.61s\n",
      "502:\tlearn: 1595.3801864\ttotal: 8.7s\tremaining: 8.59s\n",
      "503:\tlearn: 1595.2584024\ttotal: 8.71s\tremaining: 8.58s\n",
      "504:\tlearn: 1595.0789733\ttotal: 8.73s\tremaining: 8.56s\n",
      "505:\tlearn: 1594.7929777\ttotal: 8.75s\tremaining: 8.54s\n",
      "506:\tlearn: 1594.6134597\ttotal: 8.77s\tremaining: 8.52s\n",
      "507:\tlearn: 1594.3744475\ttotal: 8.79s\tremaining: 8.51s\n",
      "508:\tlearn: 1594.0840595\ttotal: 8.8s\tremaining: 8.49s\n",
      "509:\tlearn: 1593.8986480\ttotal: 8.82s\tremaining: 8.48s\n",
      "510:\tlearn: 1593.7925650\ttotal: 8.84s\tremaining: 8.46s\n",
      "511:\tlearn: 1593.6288812\ttotal: 8.86s\tremaining: 8.44s\n",
      "512:\tlearn: 1593.5112863\ttotal: 8.87s\tremaining: 8.42s\n",
      "513:\tlearn: 1593.3150518\ttotal: 8.88s\tremaining: 8.4s\n",
      "514:\tlearn: 1593.1194674\ttotal: 8.9s\tremaining: 8.38s\n",
      "515:\tlearn: 1592.8855596\ttotal: 8.92s\tremaining: 8.36s\n",
      "516:\tlearn: 1592.7013599\ttotal: 8.93s\tremaining: 8.34s\n",
      "517:\tlearn: 1592.4790756\ttotal: 8.95s\tremaining: 8.32s\n",
      "518:\tlearn: 1592.3629021\ttotal: 8.96s\tremaining: 8.31s\n",
      "519:\tlearn: 1592.2658796\ttotal: 8.98s\tremaining: 8.29s\n",
      "520:\tlearn: 1592.1937934\ttotal: 8.99s\tremaining: 8.27s\n",
      "521:\tlearn: 1592.1013769\ttotal: 9.01s\tremaining: 8.25s\n",
      "522:\tlearn: 1591.8885554\ttotal: 9.03s\tremaining: 8.23s\n",
      "523:\tlearn: 1591.7568402\ttotal: 9.04s\tremaining: 8.21s\n",
      "524:\tlearn: 1591.5344009\ttotal: 9.06s\tremaining: 8.19s\n",
      "525:\tlearn: 1591.4414341\ttotal: 9.07s\tremaining: 8.17s\n",
      "526:\tlearn: 1591.3170332\ttotal: 9.09s\tremaining: 8.15s\n",
      "527:\tlearn: 1591.0718220\ttotal: 9.1s\tremaining: 8.14s\n",
      "528:\tlearn: 1590.9228586\ttotal: 9.12s\tremaining: 8.12s\n",
      "529:\tlearn: 1590.9155127\ttotal: 9.13s\tremaining: 8.1s\n",
      "530:\tlearn: 1590.6619735\ttotal: 9.15s\tremaining: 8.08s\n",
      "531:\tlearn: 1590.5710952\ttotal: 9.16s\tremaining: 8.06s\n",
      "532:\tlearn: 1590.4454504\ttotal: 9.18s\tremaining: 8.04s\n",
      "533:\tlearn: 1590.3275426\ttotal: 9.19s\tremaining: 8.02s\n",
      "534:\tlearn: 1590.1269258\ttotal: 9.21s\tremaining: 8.01s\n",
      "535:\tlearn: 1589.9410276\ttotal: 9.23s\tremaining: 7.99s\n",
      "536:\tlearn: 1589.5999952\ttotal: 9.25s\tremaining: 7.97s\n",
      "537:\tlearn: 1589.2974736\ttotal: 9.27s\tremaining: 7.96s\n",
      "538:\tlearn: 1589.1479231\ttotal: 9.28s\tremaining: 7.94s\n",
      "539:\tlearn: 1588.9327012\ttotal: 9.3s\tremaining: 7.92s\n",
      "540:\tlearn: 1588.8342213\ttotal: 9.32s\tremaining: 7.9s\n",
      "541:\tlearn: 1588.6946688\ttotal: 9.33s\tremaining: 7.88s\n",
      "542:\tlearn: 1588.5943419\ttotal: 9.35s\tremaining: 7.87s\n",
      "543:\tlearn: 1588.2834603\ttotal: 9.36s\tremaining: 7.85s\n",
      "544:\tlearn: 1588.1226224\ttotal: 9.38s\tremaining: 7.83s\n",
      "545:\tlearn: 1587.9771346\ttotal: 9.39s\tremaining: 7.81s\n",
      "546:\tlearn: 1587.8462488\ttotal: 9.41s\tremaining: 7.8s\n",
      "547:\tlearn: 1587.7097053\ttotal: 9.44s\tremaining: 7.79s\n",
      "548:\tlearn: 1587.5039635\ttotal: 9.46s\tremaining: 7.77s\n",
      "549:\tlearn: 1587.3021791\ttotal: 9.49s\tremaining: 7.76s\n",
      "550:\tlearn: 1587.0580470\ttotal: 9.51s\tremaining: 7.75s\n",
      "551:\tlearn: 1586.8183857\ttotal: 9.53s\tremaining: 7.74s\n",
      "552:\tlearn: 1586.7414300\ttotal: 9.55s\tremaining: 7.72s\n",
      "553:\tlearn: 1586.4489193\ttotal: 9.57s\tremaining: 7.71s\n",
      "554:\tlearn: 1586.2693805\ttotal: 9.59s\tremaining: 7.69s\n",
      "555:\tlearn: 1586.2000820\ttotal: 9.6s\tremaining: 7.67s\n",
      "556:\tlearn: 1586.0813500\ttotal: 9.61s\tremaining: 7.64s\n",
      "557:\tlearn: 1585.9852292\ttotal: 9.63s\tremaining: 7.62s\n",
      "558:\tlearn: 1585.7257686\ttotal: 9.64s\tremaining: 7.61s\n",
      "559:\tlearn: 1585.4995354\ttotal: 9.66s\tremaining: 7.59s\n",
      "560:\tlearn: 1585.2970699\ttotal: 9.67s\tremaining: 7.57s\n",
      "561:\tlearn: 1585.0673165\ttotal: 9.69s\tremaining: 7.55s\n",
      "562:\tlearn: 1584.7718914\ttotal: 9.71s\tremaining: 7.54s\n",
      "563:\tlearn: 1584.5901263\ttotal: 9.72s\tremaining: 7.52s\n",
      "564:\tlearn: 1584.3904515\ttotal: 9.74s\tremaining: 7.5s\n",
      "565:\tlearn: 1584.2074557\ttotal: 9.76s\tremaining: 7.48s\n",
      "566:\tlearn: 1584.1013612\ttotal: 9.77s\tremaining: 7.46s\n",
      "567:\tlearn: 1584.0176688\ttotal: 9.79s\tremaining: 7.44s\n",
      "568:\tlearn: 1583.8015896\ttotal: 9.8s\tremaining: 7.42s\n",
      "569:\tlearn: 1583.7047346\ttotal: 9.82s\tremaining: 7.41s\n",
      "570:\tlearn: 1583.5738416\ttotal: 9.83s\tremaining: 7.38s\n",
      "571:\tlearn: 1583.4232914\ttotal: 9.85s\tremaining: 7.37s\n",
      "572:\tlearn: 1583.1948398\ttotal: 9.87s\tremaining: 7.35s\n",
      "573:\tlearn: 1582.9494903\ttotal: 9.88s\tremaining: 7.33s\n",
      "574:\tlearn: 1582.7910274\ttotal: 9.9s\tremaining: 7.32s\n",
      "575:\tlearn: 1582.6351365\ttotal: 9.91s\tremaining: 7.3s\n",
      "576:\tlearn: 1582.4669169\ttotal: 9.93s\tremaining: 7.28s\n",
      "577:\tlearn: 1582.3179381\ttotal: 9.95s\tremaining: 7.26s\n",
      "578:\tlearn: 1582.0873047\ttotal: 9.96s\tremaining: 7.24s\n",
      "579:\tlearn: 1581.9106659\ttotal: 9.98s\tremaining: 7.23s\n",
      "580:\tlearn: 1581.6964474\ttotal: 9.99s\tremaining: 7.21s\n",
      "581:\tlearn: 1581.5716791\ttotal: 10s\tremaining: 7.19s\n",
      "582:\tlearn: 1581.4493760\ttotal: 10s\tremaining: 7.17s\n",
      "583:\tlearn: 1581.3067357\ttotal: 10s\tremaining: 7.15s\n",
      "584:\tlearn: 1581.1097984\ttotal: 10.1s\tremaining: 7.13s\n",
      "585:\tlearn: 1580.9662393\ttotal: 10.1s\tremaining: 7.12s\n",
      "586:\tlearn: 1580.8230490\ttotal: 10.1s\tremaining: 7.1s\n",
      "587:\tlearn: 1580.6690549\ttotal: 10.1s\tremaining: 7.08s\n",
      "588:\tlearn: 1580.3947675\ttotal: 10.1s\tremaining: 7.06s\n",
      "589:\tlearn: 1580.0688341\ttotal: 10.1s\tremaining: 7.04s\n",
      "590:\tlearn: 1579.9377220\ttotal: 10.2s\tremaining: 7.03s\n",
      "591:\tlearn: 1579.7765948\ttotal: 10.2s\tremaining: 7.01s\n",
      "592:\tlearn: 1579.5572761\ttotal: 10.2s\tremaining: 6.99s\n",
      "593:\tlearn: 1579.3902732\ttotal: 10.2s\tremaining: 6.97s\n",
      "594:\tlearn: 1579.2435717\ttotal: 10.2s\tremaining: 6.95s\n",
      "595:\tlearn: 1579.0772859\ttotal: 10.2s\tremaining: 6.94s\n",
      "596:\tlearn: 1578.9067733\ttotal: 10.3s\tremaining: 6.92s\n",
      "597:\tlearn: 1578.7331757\ttotal: 10.3s\tremaining: 6.91s\n",
      "598:\tlearn: 1578.5187963\ttotal: 10.3s\tremaining: 6.9s\n",
      "599:\tlearn: 1578.3975102\ttotal: 10.3s\tremaining: 6.88s\n",
      "600:\tlearn: 1578.1930751\ttotal: 10.3s\tremaining: 6.87s\n",
      "601:\tlearn: 1578.0058670\ttotal: 10.4s\tremaining: 6.85s\n",
      "602:\tlearn: 1577.7961843\ttotal: 10.4s\tremaining: 6.84s\n",
      "603:\tlearn: 1577.6687666\ttotal: 10.4s\tremaining: 6.82s\n",
      "604:\tlearn: 1577.4485956\ttotal: 10.4s\tremaining: 6.8s\n",
      "605:\tlearn: 1577.3938323\ttotal: 10.4s\tremaining: 6.78s\n",
      "606:\tlearn: 1577.2251444\ttotal: 10.4s\tremaining: 6.76s\n",
      "607:\tlearn: 1577.0890549\ttotal: 10.5s\tremaining: 6.75s\n",
      "608:\tlearn: 1576.9340673\ttotal: 10.5s\tremaining: 6.73s\n",
      "609:\tlearn: 1576.7286970\ttotal: 10.5s\tremaining: 6.72s\n",
      "610:\tlearn: 1576.6267857\ttotal: 10.5s\tremaining: 6.7s\n",
      "611:\tlearn: 1576.4688173\ttotal: 10.5s\tremaining: 6.68s\n",
      "612:\tlearn: 1576.2893694\ttotal: 10.6s\tremaining: 6.66s\n",
      "613:\tlearn: 1576.1099887\ttotal: 10.6s\tremaining: 6.64s\n",
      "614:\tlearn: 1575.8686010\ttotal: 10.6s\tremaining: 6.63s\n",
      "615:\tlearn: 1575.6836845\ttotal: 10.6s\tremaining: 6.61s\n",
      "616:\tlearn: 1575.5610577\ttotal: 10.6s\tremaining: 6.59s\n",
      "617:\tlearn: 1575.4236869\ttotal: 10.6s\tremaining: 6.57s\n",
      "618:\tlearn: 1575.2803820\ttotal: 10.6s\tremaining: 6.55s\n",
      "619:\tlearn: 1575.0864356\ttotal: 10.7s\tremaining: 6.54s\n",
      "620:\tlearn: 1575.0174800\ttotal: 10.7s\tremaining: 6.52s\n",
      "621:\tlearn: 1574.9006759\ttotal: 10.7s\tremaining: 6.5s\n",
      "622:\tlearn: 1574.7333039\ttotal: 10.7s\tremaining: 6.49s\n",
      "623:\tlearn: 1574.5691162\ttotal: 10.7s\tremaining: 6.47s\n",
      "624:\tlearn: 1574.4033382\ttotal: 10.8s\tremaining: 6.46s\n",
      "625:\tlearn: 1574.1654815\ttotal: 10.8s\tremaining: 6.45s\n",
      "626:\tlearn: 1573.9103422\ttotal: 10.8s\tremaining: 6.43s\n",
      "627:\tlearn: 1573.8105402\ttotal: 10.8s\tremaining: 6.42s\n",
      "628:\tlearn: 1573.6785931\ttotal: 10.8s\tremaining: 6.4s\n",
      "629:\tlearn: 1573.5195186\ttotal: 10.9s\tremaining: 6.38s\n",
      "630:\tlearn: 1573.3270828\ttotal: 10.9s\tremaining: 6.36s\n",
      "631:\tlearn: 1573.2462330\ttotal: 10.9s\tremaining: 6.34s\n",
      "632:\tlearn: 1573.0688181\ttotal: 10.9s\tremaining: 6.32s\n",
      "633:\tlearn: 1572.9502329\ttotal: 10.9s\tremaining: 6.3s\n",
      "634:\tlearn: 1572.8283913\ttotal: 10.9s\tremaining: 6.29s\n",
      "635:\tlearn: 1572.7082671\ttotal: 11s\tremaining: 6.27s\n",
      "636:\tlearn: 1572.5045178\ttotal: 11s\tremaining: 6.25s\n",
      "637:\tlearn: 1572.3473574\ttotal: 11s\tremaining: 6.23s\n",
      "638:\tlearn: 1572.1584010\ttotal: 11s\tremaining: 6.21s\n",
      "639:\tlearn: 1572.0313727\ttotal: 11s\tremaining: 6.2s\n",
      "640:\tlearn: 1571.8377093\ttotal: 11s\tremaining: 6.18s\n",
      "641:\tlearn: 1571.6500261\ttotal: 11s\tremaining: 6.16s\n",
      "642:\tlearn: 1571.5314232\ttotal: 11.1s\tremaining: 6.14s\n",
      "643:\tlearn: 1571.4292837\ttotal: 11.1s\tremaining: 6.13s\n",
      "644:\tlearn: 1571.2465398\ttotal: 11.1s\tremaining: 6.11s\n",
      "645:\tlearn: 1571.1113648\ttotal: 11.1s\tremaining: 6.09s\n",
      "646:\tlearn: 1570.8484234\ttotal: 11.1s\tremaining: 6.08s\n",
      "647:\tlearn: 1570.6982551\ttotal: 11.2s\tremaining: 6.06s\n",
      "648:\tlearn: 1570.6067647\ttotal: 11.2s\tremaining: 6.04s\n",
      "649:\tlearn: 1570.4642969\ttotal: 11.2s\tremaining: 6.03s\n",
      "650:\tlearn: 1570.3457299\ttotal: 11.2s\tremaining: 6.01s\n",
      "651:\tlearn: 1570.2587050\ttotal: 11.2s\tremaining: 5.99s\n",
      "652:\tlearn: 1570.0628474\ttotal: 11.2s\tremaining: 5.98s\n",
      "653:\tlearn: 1569.8792950\ttotal: 11.3s\tremaining: 5.96s\n",
      "654:\tlearn: 1569.6634961\ttotal: 11.3s\tremaining: 5.94s\n",
      "655:\tlearn: 1569.5746132\ttotal: 11.3s\tremaining: 5.93s\n",
      "656:\tlearn: 1569.4757553\ttotal: 11.3s\tremaining: 5.91s\n",
      "657:\tlearn: 1569.2985089\ttotal: 11.3s\tremaining: 5.89s\n",
      "658:\tlearn: 1569.0839618\ttotal: 11.4s\tremaining: 5.88s\n",
      "659:\tlearn: 1568.8528724\ttotal: 11.4s\tremaining: 5.86s\n",
      "660:\tlearn: 1568.7124062\ttotal: 11.4s\tremaining: 5.84s\n",
      "661:\tlearn: 1568.5635853\ttotal: 11.4s\tremaining: 5.82s\n",
      "662:\tlearn: 1568.4300907\ttotal: 11.4s\tremaining: 5.81s\n",
      "663:\tlearn: 1568.2059161\ttotal: 11.4s\tremaining: 5.79s\n",
      "664:\tlearn: 1567.9773671\ttotal: 11.5s\tremaining: 5.77s\n",
      "665:\tlearn: 1567.8467415\ttotal: 11.5s\tremaining: 5.75s\n",
      "666:\tlearn: 1567.6949416\ttotal: 11.5s\tremaining: 5.73s\n",
      "667:\tlearn: 1567.5616812\ttotal: 11.5s\tremaining: 5.71s\n",
      "668:\tlearn: 1567.4241353\ttotal: 11.5s\tremaining: 5.7s\n",
      "669:\tlearn: 1567.2824087\ttotal: 11.5s\tremaining: 5.68s\n",
      "670:\tlearn: 1567.1107512\ttotal: 11.6s\tremaining: 5.67s\n",
      "671:\tlearn: 1566.9291806\ttotal: 11.6s\tremaining: 5.65s\n",
      "672:\tlearn: 1566.8151412\ttotal: 11.6s\tremaining: 5.63s\n",
      "673:\tlearn: 1566.6907468\ttotal: 11.6s\tremaining: 5.61s\n",
      "674:\tlearn: 1566.4895644\ttotal: 11.6s\tremaining: 5.59s\n",
      "675:\tlearn: 1566.3731936\ttotal: 11.6s\tremaining: 5.58s\n",
      "676:\tlearn: 1566.2116743\ttotal: 11.7s\tremaining: 5.56s\n",
      "677:\tlearn: 1566.1177584\ttotal: 11.7s\tremaining: 5.54s\n",
      "678:\tlearn: 1566.0220265\ttotal: 11.7s\tremaining: 5.53s\n",
      "679:\tlearn: 1565.8159867\ttotal: 11.7s\tremaining: 5.51s\n",
      "680:\tlearn: 1565.6151565\ttotal: 11.7s\tremaining: 5.49s\n",
      "681:\tlearn: 1565.3344019\ttotal: 11.7s\tremaining: 5.48s\n",
      "682:\tlearn: 1565.1561650\ttotal: 11.8s\tremaining: 5.46s\n",
      "683:\tlearn: 1564.9037633\ttotal: 11.8s\tremaining: 5.44s\n",
      "684:\tlearn: 1564.8192818\ttotal: 11.8s\tremaining: 5.42s\n",
      "685:\tlearn: 1564.6929883\ttotal: 11.8s\tremaining: 5.41s\n",
      "686:\tlearn: 1564.5403925\ttotal: 11.8s\tremaining: 5.39s\n",
      "687:\tlearn: 1564.2633650\ttotal: 11.8s\tremaining: 5.37s\n",
      "688:\tlearn: 1564.1603253\ttotal: 11.9s\tremaining: 5.35s\n",
      "689:\tlearn: 1564.0480757\ttotal: 11.9s\tremaining: 5.34s\n",
      "690:\tlearn: 1563.8888274\ttotal: 11.9s\tremaining: 5.32s\n",
      "691:\tlearn: 1563.7940113\ttotal: 11.9s\tremaining: 5.3s\n",
      "692:\tlearn: 1563.6661318\ttotal: 11.9s\tremaining: 5.28s\n",
      "693:\tlearn: 1563.5421120\ttotal: 11.9s\tremaining: 5.27s\n",
      "694:\tlearn: 1563.4086853\ttotal: 12s\tremaining: 5.25s\n",
      "695:\tlearn: 1563.2841047\ttotal: 12s\tremaining: 5.23s\n",
      "696:\tlearn: 1563.0595716\ttotal: 12s\tremaining: 5.21s\n",
      "697:\tlearn: 1562.8300509\ttotal: 12s\tremaining: 5.2s\n",
      "698:\tlearn: 1562.6551256\ttotal: 12s\tremaining: 5.18s\n",
      "699:\tlearn: 1562.5182761\ttotal: 12s\tremaining: 5.16s\n",
      "700:\tlearn: 1562.3222113\ttotal: 12.1s\tremaining: 5.14s\n",
      "701:\tlearn: 1562.1028704\ttotal: 12.1s\tremaining: 5.13s\n",
      "702:\tlearn: 1562.0109563\ttotal: 12.1s\tremaining: 5.11s\n",
      "703:\tlearn: 1561.9279633\ttotal: 12.1s\tremaining: 5.09s\n",
      "704:\tlearn: 1561.7596061\ttotal: 12.1s\tremaining: 5.07s\n",
      "705:\tlearn: 1561.6349530\ttotal: 12.1s\tremaining: 5.06s\n",
      "706:\tlearn: 1561.5493460\ttotal: 12.2s\tremaining: 5.04s\n",
      "707:\tlearn: 1561.4634104\ttotal: 12.2s\tremaining: 5.02s\n",
      "708:\tlearn: 1561.3736795\ttotal: 12.2s\tremaining: 5s\n",
      "709:\tlearn: 1561.3040931\ttotal: 12.2s\tremaining: 4.98s\n",
      "710:\tlearn: 1561.2571303\ttotal: 12.2s\tremaining: 4.96s\n",
      "711:\tlearn: 1561.2379303\ttotal: 12.2s\tremaining: 4.95s\n",
      "712:\tlearn: 1561.1729598\ttotal: 12.2s\tremaining: 4.93s\n",
      "713:\tlearn: 1561.0103629\ttotal: 12.3s\tremaining: 4.91s\n",
      "714:\tlearn: 1560.8973879\ttotal: 12.3s\tremaining: 4.89s\n",
      "715:\tlearn: 1560.8149370\ttotal: 12.3s\tremaining: 4.88s\n",
      "716:\tlearn: 1560.7084354\ttotal: 12.3s\tremaining: 4.86s\n",
      "717:\tlearn: 1560.5805431\ttotal: 12.3s\tremaining: 4.84s\n",
      "718:\tlearn: 1560.4915141\ttotal: 12.3s\tremaining: 4.83s\n",
      "719:\tlearn: 1560.3737180\ttotal: 12.4s\tremaining: 4.81s\n",
      "720:\tlearn: 1560.2581971\ttotal: 12.4s\tremaining: 4.79s\n",
      "721:\tlearn: 1560.1267272\ttotal: 12.4s\tremaining: 4.77s\n",
      "722:\tlearn: 1560.0178111\ttotal: 12.4s\tremaining: 4.76s\n",
      "723:\tlearn: 1559.8631880\ttotal: 12.4s\tremaining: 4.74s\n",
      "724:\tlearn: 1559.7324652\ttotal: 12.4s\tremaining: 4.72s\n",
      "725:\tlearn: 1559.6209723\ttotal: 12.5s\tremaining: 4.7s\n",
      "726:\tlearn: 1559.4187187\ttotal: 12.5s\tremaining: 4.68s\n",
      "727:\tlearn: 1559.3317009\ttotal: 12.5s\tremaining: 4.67s\n",
      "728:\tlearn: 1559.1520095\ttotal: 12.5s\tremaining: 4.65s\n",
      "729:\tlearn: 1559.0078699\ttotal: 12.5s\tremaining: 4.63s\n",
      "730:\tlearn: 1558.8679852\ttotal: 12.5s\tremaining: 4.61s\n",
      "731:\tlearn: 1558.7356521\ttotal: 12.6s\tremaining: 4.6s\n",
      "732:\tlearn: 1558.6191037\ttotal: 12.6s\tremaining: 4.58s\n",
      "733:\tlearn: 1558.5337411\ttotal: 12.6s\tremaining: 4.57s\n",
      "734:\tlearn: 1558.4143207\ttotal: 12.6s\tremaining: 4.55s\n",
      "735:\tlearn: 1558.2621614\ttotal: 12.6s\tremaining: 4.53s\n",
      "736:\tlearn: 1558.1484894\ttotal: 12.6s\tremaining: 4.51s\n",
      "737:\tlearn: 1557.9452252\ttotal: 12.7s\tremaining: 4.49s\n",
      "738:\tlearn: 1557.8633882\ttotal: 12.7s\tremaining: 4.47s\n",
      "739:\tlearn: 1557.6996199\ttotal: 12.7s\tremaining: 4.46s\n",
      "740:\tlearn: 1557.6193357\ttotal: 12.7s\tremaining: 4.44s\n",
      "741:\tlearn: 1557.4608925\ttotal: 12.7s\tremaining: 4.42s\n",
      "742:\tlearn: 1557.2532465\ttotal: 12.7s\tremaining: 4.41s\n",
      "743:\tlearn: 1557.0481202\ttotal: 12.8s\tremaining: 4.39s\n",
      "744:\tlearn: 1556.9147599\ttotal: 12.8s\tremaining: 4.37s\n",
      "745:\tlearn: 1556.7521194\ttotal: 12.8s\tremaining: 4.35s\n",
      "746:\tlearn: 1556.5943817\ttotal: 12.8s\tremaining: 4.34s\n",
      "747:\tlearn: 1556.3906004\ttotal: 12.8s\tremaining: 4.32s\n",
      "748:\tlearn: 1556.2345613\ttotal: 12.8s\tremaining: 4.3s\n",
      "749:\tlearn: 1556.1004872\ttotal: 12.9s\tremaining: 4.29s\n",
      "750:\tlearn: 1555.9948378\ttotal: 12.9s\tremaining: 4.27s\n",
      "751:\tlearn: 1555.9359606\ttotal: 12.9s\tremaining: 4.25s\n",
      "752:\tlearn: 1555.7450598\ttotal: 12.9s\tremaining: 4.24s\n",
      "753:\tlearn: 1555.6557324\ttotal: 12.9s\tremaining: 4.22s\n",
      "754:\tlearn: 1555.4809371\ttotal: 13s\tremaining: 4.2s\n",
      "755:\tlearn: 1555.3449702\ttotal: 13s\tremaining: 4.19s\n",
      "756:\tlearn: 1555.2021651\ttotal: 13s\tremaining: 4.17s\n",
      "757:\tlearn: 1555.1532280\ttotal: 13s\tremaining: 4.16s\n",
      "758:\tlearn: 1555.0268175\ttotal: 13s\tremaining: 4.14s\n",
      "759:\tlearn: 1554.8806157\ttotal: 13.1s\tremaining: 4.12s\n",
      "760:\tlearn: 1554.7668343\ttotal: 13.1s\tremaining: 4.1s\n",
      "761:\tlearn: 1554.5610716\ttotal: 13.1s\tremaining: 4.09s\n",
      "762:\tlearn: 1554.4269620\ttotal: 13.1s\tremaining: 4.07s\n",
      "763:\tlearn: 1554.2254720\ttotal: 13.1s\tremaining: 4.05s\n",
      "764:\tlearn: 1554.1046789\ttotal: 13.1s\tremaining: 4.03s\n",
      "765:\tlearn: 1553.8714757\ttotal: 13.2s\tremaining: 4.02s\n",
      "766:\tlearn: 1553.8100262\ttotal: 13.2s\tremaining: 4s\n",
      "767:\tlearn: 1553.6567434\ttotal: 13.2s\tremaining: 3.98s\n",
      "768:\tlearn: 1553.5508192\ttotal: 13.2s\tremaining: 3.96s\n",
      "769:\tlearn: 1553.4832061\ttotal: 13.2s\tremaining: 3.95s\n",
      "770:\tlearn: 1553.3961941\ttotal: 13.2s\tremaining: 3.93s\n",
      "771:\tlearn: 1553.3722401\ttotal: 13.2s\tremaining: 3.91s\n",
      "772:\tlearn: 1553.2281594\ttotal: 13.3s\tremaining: 3.9s\n",
      "773:\tlearn: 1553.0517140\ttotal: 13.3s\tremaining: 3.88s\n",
      "774:\tlearn: 1552.9133943\ttotal: 13.3s\tremaining: 3.86s\n",
      "775:\tlearn: 1552.7814716\ttotal: 13.3s\tremaining: 3.84s\n",
      "776:\tlearn: 1552.6805662\ttotal: 13.3s\tremaining: 3.83s\n",
      "777:\tlearn: 1552.5159513\ttotal: 13.3s\tremaining: 3.81s\n",
      "778:\tlearn: 1552.3459540\ttotal: 13.4s\tremaining: 3.79s\n",
      "779:\tlearn: 1552.2225576\ttotal: 13.4s\tremaining: 3.77s\n",
      "780:\tlearn: 1552.1577152\ttotal: 13.4s\tremaining: 3.76s\n",
      "781:\tlearn: 1551.9834111\ttotal: 13.4s\tremaining: 3.74s\n",
      "782:\tlearn: 1551.8544677\ttotal: 13.4s\tremaining: 3.72s\n",
      "783:\tlearn: 1551.7799883\ttotal: 13.4s\tremaining: 3.7s\n",
      "784:\tlearn: 1551.6891599\ttotal: 13.5s\tremaining: 3.69s\n",
      "785:\tlearn: 1551.5380023\ttotal: 13.5s\tremaining: 3.67s\n",
      "786:\tlearn: 1551.4704106\ttotal: 13.5s\tremaining: 3.65s\n",
      "787:\tlearn: 1551.2861417\ttotal: 13.5s\tremaining: 3.63s\n",
      "788:\tlearn: 1551.1873837\ttotal: 13.5s\tremaining: 3.62s\n",
      "789:\tlearn: 1551.0220040\ttotal: 13.5s\tremaining: 3.6s\n",
      "790:\tlearn: 1550.8793150\ttotal: 13.6s\tremaining: 3.58s\n",
      "791:\tlearn: 1550.7761039\ttotal: 13.6s\tremaining: 3.56s\n",
      "792:\tlearn: 1550.6162506\ttotal: 13.6s\tremaining: 3.55s\n",
      "793:\tlearn: 1550.5033599\ttotal: 13.6s\tremaining: 3.53s\n",
      "794:\tlearn: 1550.3617319\ttotal: 13.6s\tremaining: 3.51s\n",
      "795:\tlearn: 1550.2165842\ttotal: 13.6s\tremaining: 3.5s\n",
      "796:\tlearn: 1550.0360255\ttotal: 13.7s\tremaining: 3.48s\n",
      "797:\tlearn: 1549.9124936\ttotal: 13.7s\tremaining: 3.46s\n",
      "798:\tlearn: 1549.8096430\ttotal: 13.7s\tremaining: 3.44s\n",
      "799:\tlearn: 1549.6690406\ttotal: 13.7s\tremaining: 3.43s\n",
      "800:\tlearn: 1549.5353731\ttotal: 13.7s\tremaining: 3.41s\n",
      "801:\tlearn: 1549.3306865\ttotal: 13.7s\tremaining: 3.39s\n",
      "802:\tlearn: 1549.1901960\ttotal: 13.8s\tremaining: 3.38s\n",
      "803:\tlearn: 1549.0063830\ttotal: 13.8s\tremaining: 3.36s\n",
      "804:\tlearn: 1548.9039049\ttotal: 13.8s\tremaining: 3.34s\n",
      "805:\tlearn: 1548.7350179\ttotal: 13.8s\tremaining: 3.32s\n",
      "806:\tlearn: 1548.6169074\ttotal: 13.8s\tremaining: 3.31s\n",
      "807:\tlearn: 1548.4973174\ttotal: 13.8s\tremaining: 3.29s\n",
      "808:\tlearn: 1548.3590553\ttotal: 13.9s\tremaining: 3.27s\n",
      "809:\tlearn: 1548.2707377\ttotal: 13.9s\tremaining: 3.25s\n",
      "810:\tlearn: 1548.1462974\ttotal: 13.9s\tremaining: 3.24s\n",
      "811:\tlearn: 1548.0289564\ttotal: 13.9s\tremaining: 3.22s\n",
      "812:\tlearn: 1547.9160653\ttotal: 13.9s\tremaining: 3.2s\n",
      "813:\tlearn: 1547.8025918\ttotal: 13.9s\tremaining: 3.18s\n",
      "814:\tlearn: 1547.6731069\ttotal: 13.9s\tremaining: 3.17s\n",
      "815:\tlearn: 1547.5002531\ttotal: 14s\tremaining: 3.15s\n",
      "816:\tlearn: 1547.3801903\ttotal: 14s\tremaining: 3.13s\n",
      "817:\tlearn: 1547.2138646\ttotal: 14s\tremaining: 3.11s\n",
      "818:\tlearn: 1547.0388864\ttotal: 14s\tremaining: 3.1s\n",
      "819:\tlearn: 1546.9043125\ttotal: 14s\tremaining: 3.08s\n",
      "820:\tlearn: 1546.7575124\ttotal: 14.1s\tremaining: 3.06s\n",
      "821:\tlearn: 1546.5690621\ttotal: 14.1s\tremaining: 3.05s\n",
      "822:\tlearn: 1546.4320974\ttotal: 14.1s\tremaining: 3.03s\n",
      "823:\tlearn: 1546.2730410\ttotal: 14.1s\tremaining: 3.01s\n",
      "824:\tlearn: 1546.1080006\ttotal: 14.1s\tremaining: 3s\n",
      "825:\tlearn: 1545.9640781\ttotal: 14.1s\tremaining: 2.98s\n",
      "826:\tlearn: 1545.9011906\ttotal: 14.2s\tremaining: 2.96s\n",
      "827:\tlearn: 1545.8233052\ttotal: 14.2s\tremaining: 2.94s\n",
      "828:\tlearn: 1545.7080519\ttotal: 14.2s\tremaining: 2.93s\n",
      "829:\tlearn: 1545.4967988\ttotal: 14.2s\tremaining: 2.91s\n",
      "830:\tlearn: 1545.3251181\ttotal: 14.2s\tremaining: 2.89s\n",
      "831:\tlearn: 1545.1509097\ttotal: 14.2s\tremaining: 2.87s\n",
      "832:\tlearn: 1545.0084936\ttotal: 14.3s\tremaining: 2.86s\n",
      "833:\tlearn: 1544.9210508\ttotal: 14.3s\tremaining: 2.84s\n",
      "834:\tlearn: 1544.8585150\ttotal: 14.3s\tremaining: 2.82s\n",
      "835:\tlearn: 1544.7571284\ttotal: 14.3s\tremaining: 2.81s\n",
      "836:\tlearn: 1544.6311536\ttotal: 14.3s\tremaining: 2.79s\n",
      "837:\tlearn: 1544.4934535\ttotal: 14.3s\tremaining: 2.77s\n",
      "838:\tlearn: 1544.3966259\ttotal: 14.4s\tremaining: 2.75s\n",
      "839:\tlearn: 1544.2755458\ttotal: 14.4s\tremaining: 2.74s\n",
      "840:\tlearn: 1544.1885963\ttotal: 14.4s\tremaining: 2.72s\n",
      "841:\tlearn: 1544.0507928\ttotal: 14.4s\tremaining: 2.7s\n",
      "842:\tlearn: 1543.8999042\ttotal: 14.4s\tremaining: 2.69s\n",
      "843:\tlearn: 1543.7617447\ttotal: 14.4s\tremaining: 2.67s\n",
      "844:\tlearn: 1543.6070366\ttotal: 14.5s\tremaining: 2.65s\n",
      "845:\tlearn: 1543.4969159\ttotal: 14.5s\tremaining: 2.63s\n",
      "846:\tlearn: 1543.3210339\ttotal: 14.5s\tremaining: 2.62s\n",
      "847:\tlearn: 1543.1466819\ttotal: 14.5s\tremaining: 2.6s\n",
      "848:\tlearn: 1543.0775941\ttotal: 14.5s\tremaining: 2.58s\n",
      "849:\tlearn: 1543.0026022\ttotal: 14.5s\tremaining: 2.56s\n",
      "850:\tlearn: 1542.7973686\ttotal: 14.6s\tremaining: 2.55s\n",
      "851:\tlearn: 1542.7267678\ttotal: 14.6s\tremaining: 2.53s\n",
      "852:\tlearn: 1542.6545304\ttotal: 14.6s\tremaining: 2.51s\n",
      "853:\tlearn: 1542.5176045\ttotal: 14.6s\tremaining: 2.5s\n",
      "854:\tlearn: 1542.4119757\ttotal: 14.6s\tremaining: 2.48s\n",
      "855:\tlearn: 1542.2290176\ttotal: 14.6s\tremaining: 2.46s\n",
      "856:\tlearn: 1542.0594533\ttotal: 14.7s\tremaining: 2.44s\n",
      "857:\tlearn: 1541.9501238\ttotal: 14.7s\tremaining: 2.43s\n",
      "858:\tlearn: 1541.8036348\ttotal: 14.7s\tremaining: 2.41s\n",
      "859:\tlearn: 1541.6928320\ttotal: 14.7s\tremaining: 2.39s\n",
      "860:\tlearn: 1541.6304652\ttotal: 14.7s\tremaining: 2.38s\n",
      "861:\tlearn: 1541.4739304\ttotal: 14.7s\tremaining: 2.36s\n",
      "862:\tlearn: 1541.3885654\ttotal: 14.8s\tremaining: 2.34s\n",
      "863:\tlearn: 1541.2781064\ttotal: 14.8s\tremaining: 2.33s\n",
      "864:\tlearn: 1541.1194843\ttotal: 14.8s\tremaining: 2.31s\n",
      "865:\tlearn: 1540.8941337\ttotal: 14.8s\tremaining: 2.29s\n",
      "866:\tlearn: 1540.7968838\ttotal: 14.8s\tremaining: 2.27s\n",
      "867:\tlearn: 1540.7096577\ttotal: 14.8s\tremaining: 2.26s\n",
      "868:\tlearn: 1540.5991258\ttotal: 14.9s\tremaining: 2.24s\n",
      "869:\tlearn: 1540.4747422\ttotal: 14.9s\tremaining: 2.22s\n",
      "870:\tlearn: 1540.3415788\ttotal: 14.9s\tremaining: 2.21s\n",
      "871:\tlearn: 1540.2238276\ttotal: 14.9s\tremaining: 2.19s\n",
      "872:\tlearn: 1540.1812520\ttotal: 14.9s\tremaining: 2.17s\n",
      "873:\tlearn: 1540.0690816\ttotal: 14.9s\tremaining: 2.15s\n",
      "874:\tlearn: 1539.9562206\ttotal: 15s\tremaining: 2.14s\n",
      "875:\tlearn: 1539.8597574\ttotal: 15s\tremaining: 2.12s\n",
      "876:\tlearn: 1539.6310327\ttotal: 15s\tremaining: 2.1s\n",
      "877:\tlearn: 1539.5525658\ttotal: 15s\tremaining: 2.09s\n",
      "878:\tlearn: 1539.4440853\ttotal: 15s\tremaining: 2.07s\n",
      "879:\tlearn: 1539.3271655\ttotal: 15s\tremaining: 2.05s\n",
      "880:\tlearn: 1539.1971823\ttotal: 15.1s\tremaining: 2.03s\n",
      "881:\tlearn: 1539.0506673\ttotal: 15.1s\tremaining: 2.02s\n",
      "882:\tlearn: 1538.9228257\ttotal: 15.1s\tremaining: 2s\n",
      "883:\tlearn: 1538.8386982\ttotal: 15.1s\tremaining: 1.98s\n",
      "884:\tlearn: 1538.7503950\ttotal: 15.1s\tremaining: 1.97s\n",
      "885:\tlearn: 1538.6369020\ttotal: 15.2s\tremaining: 1.95s\n",
      "886:\tlearn: 1538.5136946\ttotal: 15.2s\tremaining: 1.93s\n",
      "887:\tlearn: 1538.4167790\ttotal: 15.2s\tremaining: 1.91s\n",
      "888:\tlearn: 1538.3064863\ttotal: 15.2s\tremaining: 1.9s\n",
      "889:\tlearn: 1538.0847090\ttotal: 15.2s\tremaining: 1.88s\n",
      "890:\tlearn: 1538.0127128\ttotal: 15.2s\tremaining: 1.86s\n",
      "891:\tlearn: 1537.9164671\ttotal: 15.2s\tremaining: 1.84s\n",
      "892:\tlearn: 1537.7094159\ttotal: 15.3s\tremaining: 1.83s\n",
      "893:\tlearn: 1537.6006218\ttotal: 15.3s\tremaining: 1.81s\n",
      "894:\tlearn: 1537.4683230\ttotal: 15.3s\tremaining: 1.79s\n",
      "895:\tlearn: 1537.3157455\ttotal: 15.3s\tremaining: 1.78s\n",
      "896:\tlearn: 1537.2475627\ttotal: 15.3s\tremaining: 1.76s\n",
      "897:\tlearn: 1537.0542056\ttotal: 15.3s\tremaining: 1.74s\n",
      "898:\tlearn: 1536.9388856\ttotal: 15.4s\tremaining: 1.73s\n",
      "899:\tlearn: 1536.8081909\ttotal: 15.4s\tremaining: 1.71s\n",
      "900:\tlearn: 1536.7201346\ttotal: 15.4s\tremaining: 1.69s\n",
      "901:\tlearn: 1536.6597126\ttotal: 15.4s\tremaining: 1.67s\n",
      "902:\tlearn: 1536.5155823\ttotal: 15.4s\tremaining: 1.66s\n",
      "903:\tlearn: 1536.3830577\ttotal: 15.4s\tremaining: 1.64s\n",
      "904:\tlearn: 1536.2050430\ttotal: 15.5s\tremaining: 1.62s\n",
      "905:\tlearn: 1536.1527686\ttotal: 15.5s\tremaining: 1.6s\n",
      "906:\tlearn: 1536.0128269\ttotal: 15.5s\tremaining: 1.59s\n",
      "907:\tlearn: 1535.9183734\ttotal: 15.5s\tremaining: 1.57s\n",
      "908:\tlearn: 1535.8191443\ttotal: 15.5s\tremaining: 1.55s\n",
      "909:\tlearn: 1535.7913561\ttotal: 15.5s\tremaining: 1.54s\n",
      "910:\tlearn: 1535.7285407\ttotal: 15.6s\tremaining: 1.52s\n",
      "911:\tlearn: 1535.5968416\ttotal: 15.6s\tremaining: 1.5s\n",
      "912:\tlearn: 1535.5113268\ttotal: 15.6s\tremaining: 1.49s\n",
      "913:\tlearn: 1535.4185356\ttotal: 15.6s\tremaining: 1.47s\n",
      "914:\tlearn: 1535.3025950\ttotal: 15.6s\tremaining: 1.45s\n",
      "915:\tlearn: 1535.2450783\ttotal: 15.6s\tremaining: 1.43s\n",
      "916:\tlearn: 1535.1029447\ttotal: 15.7s\tremaining: 1.42s\n",
      "917:\tlearn: 1534.9811212\ttotal: 15.7s\tremaining: 1.4s\n",
      "918:\tlearn: 1534.8339154\ttotal: 15.7s\tremaining: 1.38s\n",
      "919:\tlearn: 1534.7595564\ttotal: 15.7s\tremaining: 1.37s\n",
      "920:\tlearn: 1534.6812471\ttotal: 15.7s\tremaining: 1.35s\n",
      "921:\tlearn: 1534.6109554\ttotal: 15.7s\tremaining: 1.33s\n",
      "922:\tlearn: 1534.5591417\ttotal: 15.8s\tremaining: 1.31s\n",
      "923:\tlearn: 1534.4613411\ttotal: 15.8s\tremaining: 1.3s\n",
      "924:\tlearn: 1534.3228648\ttotal: 15.8s\tremaining: 1.28s\n",
      "925:\tlearn: 1534.2682780\ttotal: 15.8s\tremaining: 1.26s\n",
      "926:\tlearn: 1534.1458049\ttotal: 15.8s\tremaining: 1.25s\n",
      "927:\tlearn: 1534.0469110\ttotal: 15.8s\tremaining: 1.23s\n",
      "928:\tlearn: 1533.9176459\ttotal: 15.9s\tremaining: 1.21s\n",
      "929:\tlearn: 1533.7945030\ttotal: 15.9s\tremaining: 1.19s\n",
      "930:\tlearn: 1533.6665891\ttotal: 15.9s\tremaining: 1.18s\n",
      "931:\tlearn: 1533.5769947\ttotal: 15.9s\tremaining: 1.16s\n",
      "932:\tlearn: 1533.3860575\ttotal: 15.9s\tremaining: 1.14s\n",
      "933:\tlearn: 1533.2972113\ttotal: 15.9s\tremaining: 1.13s\n",
      "934:\tlearn: 1533.1259055\ttotal: 16s\tremaining: 1.11s\n",
      "935:\tlearn: 1532.9806985\ttotal: 16s\tremaining: 1.09s\n",
      "936:\tlearn: 1532.9238825\ttotal: 16s\tremaining: 1.07s\n",
      "937:\tlearn: 1532.8695994\ttotal: 16s\tremaining: 1.06s\n",
      "938:\tlearn: 1532.7656359\ttotal: 16s\tremaining: 1.04s\n",
      "939:\tlearn: 1532.7364127\ttotal: 16s\tremaining: 1.02s\n",
      "940:\tlearn: 1532.5906526\ttotal: 16.1s\tremaining: 1.01s\n",
      "941:\tlearn: 1532.5216727\ttotal: 16.1s\tremaining: 989ms\n",
      "942:\tlearn: 1532.3673840\ttotal: 16.1s\tremaining: 973ms\n",
      "943:\tlearn: 1532.2388923\ttotal: 16.1s\tremaining: 956ms\n",
      "944:\tlearn: 1532.1509517\ttotal: 16.1s\tremaining: 940ms\n",
      "945:\tlearn: 1532.0101402\ttotal: 16.2s\tremaining: 923ms\n",
      "946:\tlearn: 1531.9587439\ttotal: 16.2s\tremaining: 906ms\n",
      "947:\tlearn: 1531.8887634\ttotal: 16.2s\tremaining: 889ms\n",
      "948:\tlearn: 1531.7533382\ttotal: 16.2s\tremaining: 871ms\n",
      "949:\tlearn: 1531.6393625\ttotal: 16.2s\tremaining: 854ms\n",
      "950:\tlearn: 1531.5702520\ttotal: 16.2s\tremaining: 837ms\n",
      "951:\tlearn: 1531.4510146\ttotal: 16.3s\tremaining: 820ms\n",
      "952:\tlearn: 1531.3397837\ttotal: 16.3s\tremaining: 803ms\n",
      "953:\tlearn: 1531.2585139\ttotal: 16.3s\tremaining: 785ms\n",
      "954:\tlearn: 1531.1570952\ttotal: 16.3s\tremaining: 768ms\n",
      "955:\tlearn: 1530.9982236\ttotal: 16.3s\tremaining: 751ms\n",
      "956:\tlearn: 1530.9497463\ttotal: 16.3s\tremaining: 734ms\n",
      "957:\tlearn: 1530.8321949\ttotal: 16.4s\tremaining: 717ms\n",
      "958:\tlearn: 1530.7045239\ttotal: 16.4s\tremaining: 700ms\n",
      "959:\tlearn: 1530.5885499\ttotal: 16.4s\tremaining: 683ms\n",
      "960:\tlearn: 1530.5114017\ttotal: 16.4s\tremaining: 666ms\n",
      "961:\tlearn: 1530.4578413\ttotal: 16.4s\tremaining: 649ms\n",
      "962:\tlearn: 1530.3211216\ttotal: 16.4s\tremaining: 631ms\n",
      "963:\tlearn: 1530.2104977\ttotal: 16.4s\tremaining: 614ms\n",
      "964:\tlearn: 1530.1352613\ttotal: 16.5s\tremaining: 597ms\n",
      "965:\tlearn: 1530.0142440\ttotal: 16.5s\tremaining: 580ms\n",
      "966:\tlearn: 1529.9108990\ttotal: 16.5s\tremaining: 563ms\n",
      "967:\tlearn: 1529.8328768\ttotal: 16.5s\tremaining: 546ms\n",
      "968:\tlearn: 1529.7401844\ttotal: 16.5s\tremaining: 529ms\n",
      "969:\tlearn: 1529.6647707\ttotal: 16.5s\tremaining: 512ms\n",
      "970:\tlearn: 1529.6015153\ttotal: 16.6s\tremaining: 495ms\n",
      "971:\tlearn: 1529.5202796\ttotal: 16.6s\tremaining: 478ms\n",
      "972:\tlearn: 1529.4344577\ttotal: 16.6s\tremaining: 460ms\n",
      "973:\tlearn: 1529.2808279\ttotal: 16.6s\tremaining: 444ms\n",
      "974:\tlearn: 1529.1662331\ttotal: 16.6s\tremaining: 426ms\n",
      "975:\tlearn: 1529.0688313\ttotal: 16.6s\tremaining: 409ms\n",
      "976:\tlearn: 1528.9684430\ttotal: 16.7s\tremaining: 392ms\n",
      "977:\tlearn: 1528.8057199\ttotal: 16.7s\tremaining: 375ms\n",
      "978:\tlearn: 1528.7519529\ttotal: 16.7s\tremaining: 358ms\n",
      "979:\tlearn: 1528.6512581\ttotal: 16.7s\tremaining: 341ms\n",
      "980:\tlearn: 1528.5298962\ttotal: 16.7s\tremaining: 324ms\n",
      "981:\tlearn: 1528.4729673\ttotal: 16.7s\tremaining: 307ms\n",
      "982:\tlearn: 1528.2499593\ttotal: 16.8s\tremaining: 290ms\n",
      "983:\tlearn: 1528.1245359\ttotal: 16.8s\tremaining: 273ms\n",
      "984:\tlearn: 1527.9664830\ttotal: 16.8s\tremaining: 256ms\n",
      "985:\tlearn: 1527.8787157\ttotal: 16.8s\tremaining: 239ms\n",
      "986:\tlearn: 1527.7654428\ttotal: 16.8s\tremaining: 222ms\n",
      "987:\tlearn: 1527.6757274\ttotal: 16.8s\tremaining: 205ms\n",
      "988:\tlearn: 1527.5432910\ttotal: 16.9s\tremaining: 188ms\n",
      "989:\tlearn: 1527.4042996\ttotal: 16.9s\tremaining: 170ms\n",
      "990:\tlearn: 1527.3015390\ttotal: 16.9s\tremaining: 153ms\n",
      "991:\tlearn: 1527.1896711\ttotal: 16.9s\tremaining: 136ms\n",
      "992:\tlearn: 1527.1230697\ttotal: 16.9s\tremaining: 119ms\n",
      "993:\tlearn: 1527.0319044\ttotal: 16.9s\tremaining: 102ms\n",
      "994:\tlearn: 1526.9531949\ttotal: 17s\tremaining: 85.2ms\n",
      "995:\tlearn: 1526.8608956\ttotal: 17s\tremaining: 68.2ms\n",
      "996:\tlearn: 1526.7791251\ttotal: 17s\tremaining: 51.1ms\n",
      "997:\tlearn: 1526.6631541\ttotal: 17s\tremaining: 34.1ms\n",
      "998:\tlearn: 1526.5890036\ttotal: 17s\tremaining: 17ms\n",
      "999:\tlearn: 1526.4984580\ttotal: 17s\tremaining: 0us\n",
      "Time Fit (CV): 17.74\n",
      "Time Predict: 0.11\n"
     ]
    }
   ],
   "source": [
    "start = time.time()\n",
    "model = CatBoostRegressor(**best_params_cb, random_state=123)\n",
    "\n",
    "model.fit(features_train_final, target_train)\n",
    "end = time.time()\n",
    "time_fit_cb = end - start\n",
    "\n",
    "start = time.time()\n",
    "predictions_train = model.predict(features_train_final)\n",
    "end = time.time()\n",
    "time_pred_cb = end - start\n",
    "\n",
    "print('Time Fit (CV): {:.2f}'.format(time_fit_cb))\n",
    "print('Time Predict: {:.2f}'.format(time_pred_cb))"
   ]
  },
  {
   "cell_type": "markdown",
   "metadata": {},
   "source": [
    "Метрика слишком маленькая - 41, не понимаю где ошибка"
   ]
  },
  {
   "cell_type": "markdown",
   "metadata": {},
   "source": [
    "## Анализ моделей"
   ]
  },
  {
   "cell_type": "markdown",
   "metadata": {},
   "source": [
    "Анализ скорости и результата моделей на тренировочной выборке "
   ]
  },
  {
   "cell_type": "code",
   "execution_count": 31,
   "metadata": {},
   "outputs": [
    {
     "data": {
      "text/html": [
       "<div>\n",
       "<style scoped>\n",
       "    .dataframe tbody tr th:only-of-type {\n",
       "        vertical-align: middle;\n",
       "    }\n",
       "\n",
       "    .dataframe tbody tr th {\n",
       "        vertical-align: top;\n",
       "    }\n",
       "\n",
       "    .dataframe thead th {\n",
       "        text-align: right;\n",
       "    }\n",
       "</style>\n",
       "<table border=\"1\" class=\"dataframe\">\n",
       "  <thead>\n",
       "    <tr style=\"text-align: right;\">\n",
       "      <th></th>\n",
       "      <th>Model</th>\n",
       "      <th>RMSE</th>\n",
       "      <th>Time fit</th>\n",
       "      <th>Time pred</th>\n",
       "    </tr>\n",
       "  </thead>\n",
       "  <tbody>\n",
       "    <tr>\n",
       "      <th>0</th>\n",
       "      <td>CatBoost</td>\n",
       "      <td>1647.100650</td>\n",
       "      <td>17.741309</td>\n",
       "      <td>0.109793</td>\n",
       "    </tr>\n",
       "    <tr>\n",
       "      <th>1</th>\n",
       "      <td>LightGBM</td>\n",
       "      <td>1698.762937</td>\n",
       "      <td>1.346483</td>\n",
       "      <td>0.602206</td>\n",
       "    </tr>\n",
       "    <tr>\n",
       "      <th>2</th>\n",
       "      <td>RandomForest</td>\n",
       "      <td>1839.846819</td>\n",
       "      <td>6.829967</td>\n",
       "      <td>0.474072</td>\n",
       "    </tr>\n",
       "  </tbody>\n",
       "</table>\n",
       "</div>"
      ],
      "text/plain": [
       "          Model         RMSE   Time fit  Time pred\n",
       "0      CatBoost  1647.100650  17.741309   0.109793\n",
       "1      LightGBM  1698.762937   1.346483   0.602206\n",
       "2  RandomForest  1839.846819   6.829967   0.474072"
      ]
     },
     "metadata": {},
     "output_type": "display_data"
    }
   ],
   "source": [
    "results = []\n",
    "results.append({'Model': 'LightGBM', 'RMSE': best_score_lgbm, 'Time fit': time_fit_lgbm, 'Time pred': time_pred_lgbm})\n",
    "results.append({'Model': 'CatBoost', 'RMSE': best_score_cb, 'Time fit': time_fit_cb, 'Time pred': time_pred_cb})\n",
    "results.append({'Model': 'RandomForest', 'RMSE': best_score_rf, 'Time fit': time_fit_rf, 'Time pred': time_pred_rf})\n",
    "\n",
    "df_results = pd.DataFrame(results)\n",
    "df_results_sorted = df_results.sort_values(by='RMSE', ignore_index=True)\n",
    "display(df_results_sorted)"
   ]
  },
  {
   "cell_type": "markdown",
   "metadata": {},
   "source": [
    "- Лучшая модель по RMSE: CatBoost \n",
    "\n",
    "- Лучшая модель по скорости: LightGBM\n",
    "\n",
    "- Выбираем лучшуб модель по RMSE-CatBoost"
   ]
  },
  {
   "cell_type": "markdown",
   "metadata": {},
   "source": [
    "Проверяем лучшую модель на тестовый быборке "
   ]
  },
  {
   "cell_type": "code",
   "execution_count": 32,
   "metadata": {},
   "outputs": [
    {
     "name": "stdout",
     "output_type": "stream",
     "text": [
      "0:\tlearn: 4023.3066747\ttotal: 22.5ms\tremaining: 22.5s\n",
      "1:\tlearn: 3663.8350193\ttotal: 48.7ms\tremaining: 24.3s\n",
      "2:\tlearn: 3379.0221777\ttotal: 69ms\tremaining: 22.9s\n",
      "3:\tlearn: 3147.4678211\ttotal: 86.9ms\tremaining: 21.6s\n",
      "4:\tlearn: 2947.7409955\ttotal: 101ms\tremaining: 20.1s\n",
      "5:\tlearn: 2788.3310944\ttotal: 116ms\tremaining: 19.2s\n",
      "6:\tlearn: 2658.5044207\ttotal: 129ms\tremaining: 18.3s\n",
      "7:\tlearn: 2551.8320498\ttotal: 142ms\tremaining: 17.7s\n",
      "8:\tlearn: 2462.5700832\ttotal: 155ms\tremaining: 17.1s\n",
      "9:\tlearn: 2390.9273670\ttotal: 168ms\tremaining: 16.7s\n",
      "10:\tlearn: 2324.7951164\ttotal: 182ms\tremaining: 16.4s\n",
      "11:\tlearn: 2275.2351277\ttotal: 195ms\tremaining: 16.1s\n",
      "12:\tlearn: 2231.0564547\ttotal: 209ms\tremaining: 15.9s\n",
      "13:\tlearn: 2196.4003086\ttotal: 222ms\tremaining: 15.6s\n",
      "14:\tlearn: 2167.1136319\ttotal: 239ms\tremaining: 15.7s\n",
      "15:\tlearn: 2137.3120420\ttotal: 255ms\tremaining: 15.7s\n",
      "16:\tlearn: 2116.2449260\ttotal: 270ms\tremaining: 15.6s\n",
      "17:\tlearn: 2096.2422011\ttotal: 283ms\tremaining: 15.5s\n",
      "18:\tlearn: 2077.9729465\ttotal: 297ms\tremaining: 15.3s\n",
      "19:\tlearn: 2052.9179194\ttotal: 311ms\tremaining: 15.3s\n",
      "20:\tlearn: 2034.0516422\ttotal: 326ms\tremaining: 15.2s\n",
      "21:\tlearn: 2022.0566171\ttotal: 339ms\tremaining: 15.1s\n",
      "22:\tlearn: 2010.7288132\ttotal: 352ms\tremaining: 14.9s\n",
      "23:\tlearn: 1999.8707791\ttotal: 365ms\tremaining: 14.8s\n",
      "24:\tlearn: 1986.3685385\ttotal: 378ms\tremaining: 14.8s\n",
      "25:\tlearn: 1974.5073542\ttotal: 394ms\tremaining: 14.8s\n",
      "26:\tlearn: 1962.6874759\ttotal: 409ms\tremaining: 14.7s\n",
      "27:\tlearn: 1954.1551570\ttotal: 423ms\tremaining: 14.7s\n",
      "28:\tlearn: 1947.4483546\ttotal: 435ms\tremaining: 14.6s\n",
      "29:\tlearn: 1940.7814819\ttotal: 456ms\tremaining: 14.7s\n",
      "30:\tlearn: 1928.6493034\ttotal: 474ms\tremaining: 14.8s\n",
      "31:\tlearn: 1921.3606296\ttotal: 488ms\tremaining: 14.8s\n",
      "32:\tlearn: 1915.8420685\ttotal: 504ms\tremaining: 14.8s\n",
      "33:\tlearn: 1908.6396266\ttotal: 519ms\tremaining: 14.8s\n",
      "34:\tlearn: 1905.2182823\ttotal: 533ms\tremaining: 14.7s\n",
      "35:\tlearn: 1900.7367448\ttotal: 549ms\tremaining: 14.7s\n",
      "36:\tlearn: 1896.1462096\ttotal: 563ms\tremaining: 14.7s\n",
      "37:\tlearn: 1893.4518250\ttotal: 577ms\tremaining: 14.6s\n",
      "38:\tlearn: 1886.2945030\ttotal: 592ms\tremaining: 14.6s\n",
      "39:\tlearn: 1882.2554269\ttotal: 608ms\tremaining: 14.6s\n",
      "40:\tlearn: 1877.8397095\ttotal: 625ms\tremaining: 14.6s\n",
      "41:\tlearn: 1871.8700432\ttotal: 643ms\tremaining: 14.7s\n",
      "42:\tlearn: 1864.8042600\ttotal: 671ms\tremaining: 14.9s\n",
      "43:\tlearn: 1861.2621836\ttotal: 688ms\tremaining: 15s\n",
      "44:\tlearn: 1857.5955192\ttotal: 713ms\tremaining: 15.1s\n",
      "45:\tlearn: 1853.4115570\ttotal: 731ms\tremaining: 15.2s\n",
      "46:\tlearn: 1850.9129061\ttotal: 746ms\tremaining: 15.1s\n",
      "47:\tlearn: 1848.6874736\ttotal: 761ms\tremaining: 15.1s\n",
      "48:\tlearn: 1846.4681966\ttotal: 776ms\tremaining: 15.1s\n",
      "49:\tlearn: 1844.0510399\ttotal: 791ms\tremaining: 15s\n",
      "50:\tlearn: 1840.2359351\ttotal: 807ms\tremaining: 15s\n",
      "51:\tlearn: 1837.9194349\ttotal: 822ms\tremaining: 15s\n",
      "52:\tlearn: 1835.9344957\ttotal: 837ms\tremaining: 14.9s\n",
      "53:\tlearn: 1833.5961075\ttotal: 853ms\tremaining: 14.9s\n",
      "54:\tlearn: 1831.3171450\ttotal: 877ms\tremaining: 15.1s\n",
      "55:\tlearn: 1829.0028743\ttotal: 901ms\tremaining: 15.2s\n",
      "56:\tlearn: 1827.0256084\ttotal: 919ms\tremaining: 15.2s\n",
      "57:\tlearn: 1824.2540711\ttotal: 937ms\tremaining: 15.2s\n",
      "58:\tlearn: 1821.8651019\ttotal: 953ms\tremaining: 15.2s\n",
      "59:\tlearn: 1819.3804049\ttotal: 970ms\tremaining: 15.2s\n",
      "60:\tlearn: 1817.7086796\ttotal: 984ms\tremaining: 15.2s\n",
      "61:\tlearn: 1815.5701485\ttotal: 1000ms\tremaining: 15.1s\n",
      "62:\tlearn: 1812.8942359\ttotal: 1.01s\tremaining: 15.1s\n",
      "63:\tlearn: 1809.5922579\ttotal: 1.03s\tremaining: 15.1s\n",
      "64:\tlearn: 1807.8345928\ttotal: 1.05s\tremaining: 15.1s\n",
      "65:\tlearn: 1805.4438135\ttotal: 1.06s\tremaining: 15s\n",
      "66:\tlearn: 1803.1716328\ttotal: 1.08s\tremaining: 15.1s\n",
      "67:\tlearn: 1798.8842261\ttotal: 1.11s\tremaining: 15.2s\n",
      "68:\tlearn: 1796.9022628\ttotal: 1.13s\tremaining: 15.2s\n",
      "69:\tlearn: 1794.2473136\ttotal: 1.15s\tremaining: 15.2s\n",
      "70:\tlearn: 1792.6155730\ttotal: 1.16s\tremaining: 15.2s\n",
      "71:\tlearn: 1791.7206627\ttotal: 1.18s\tremaining: 15.2s\n",
      "72:\tlearn: 1789.2847982\ttotal: 1.19s\tremaining: 15.2s\n",
      "73:\tlearn: 1788.3667516\ttotal: 1.21s\tremaining: 15.1s\n",
      "74:\tlearn: 1787.3659628\ttotal: 1.23s\tremaining: 15.1s\n",
      "75:\tlearn: 1785.7419900\ttotal: 1.24s\tremaining: 15.1s\n",
      "76:\tlearn: 1784.1091861\ttotal: 1.26s\tremaining: 15.1s\n",
      "77:\tlearn: 1782.6354132\ttotal: 1.27s\tremaining: 15.1s\n",
      "78:\tlearn: 1781.3214645\ttotal: 1.29s\tremaining: 15s\n",
      "79:\tlearn: 1780.2734250\ttotal: 1.31s\tremaining: 15.1s\n",
      "80:\tlearn: 1779.1349042\ttotal: 1.33s\tremaining: 15.1s\n",
      "81:\tlearn: 1777.8757408\ttotal: 1.34s\tremaining: 15.1s\n",
      "82:\tlearn: 1775.9913363\ttotal: 1.36s\tremaining: 15s\n",
      "83:\tlearn: 1774.4844329\ttotal: 1.38s\tremaining: 15s\n",
      "84:\tlearn: 1773.3801872\ttotal: 1.39s\tremaining: 15s\n",
      "85:\tlearn: 1771.2241549\ttotal: 1.41s\tremaining: 15s\n",
      "86:\tlearn: 1770.5326203\ttotal: 1.43s\tremaining: 15s\n",
      "87:\tlearn: 1769.5247593\ttotal: 1.44s\tremaining: 14.9s\n",
      "88:\tlearn: 1768.9560683\ttotal: 1.46s\tremaining: 14.9s\n",
      "89:\tlearn: 1766.7761525\ttotal: 1.48s\tremaining: 14.9s\n",
      "90:\tlearn: 1765.2423732\ttotal: 1.49s\tremaining: 14.9s\n",
      "91:\tlearn: 1764.2832306\ttotal: 1.52s\tremaining: 15s\n",
      "92:\tlearn: 1762.9277650\ttotal: 1.53s\tremaining: 15s\n",
      "93:\tlearn: 1761.9609251\ttotal: 1.55s\tremaining: 14.9s\n",
      "94:\tlearn: 1761.0823365\ttotal: 1.56s\tremaining: 14.9s\n",
      "95:\tlearn: 1760.2183349\ttotal: 1.58s\tremaining: 14.9s\n",
      "96:\tlearn: 1758.6108451\ttotal: 1.6s\tremaining: 14.9s\n",
      "97:\tlearn: 1757.5833700\ttotal: 1.61s\tremaining: 14.8s\n",
      "98:\tlearn: 1756.4126223\ttotal: 1.63s\tremaining: 14.8s\n",
      "99:\tlearn: 1754.9991594\ttotal: 1.65s\tremaining: 14.8s\n",
      "100:\tlearn: 1753.8004525\ttotal: 1.66s\tremaining: 14.8s\n",
      "101:\tlearn: 1752.5577083\ttotal: 1.68s\tremaining: 14.8s\n",
      "102:\tlearn: 1751.5437819\ttotal: 1.69s\tremaining: 14.7s\n",
      "103:\tlearn: 1750.2707170\ttotal: 1.72s\tremaining: 14.8s\n",
      "104:\tlearn: 1749.0484457\ttotal: 1.74s\tremaining: 14.8s\n",
      "105:\tlearn: 1747.6146259\ttotal: 1.75s\tremaining: 14.8s\n",
      "106:\tlearn: 1746.9345364\ttotal: 1.77s\tremaining: 14.7s\n",
      "107:\tlearn: 1745.8994477\ttotal: 1.78s\tremaining: 14.7s\n",
      "108:\tlearn: 1744.6296496\ttotal: 1.8s\tremaining: 14.7s\n",
      "109:\tlearn: 1744.1657832\ttotal: 1.81s\tremaining: 14.7s\n",
      "110:\tlearn: 1743.2234844\ttotal: 1.83s\tremaining: 14.7s\n",
      "111:\tlearn: 1742.1266443\ttotal: 1.84s\tremaining: 14.6s\n",
      "112:\tlearn: 1740.7331961\ttotal: 1.86s\tremaining: 14.6s\n",
      "113:\tlearn: 1739.8072529\ttotal: 1.88s\tremaining: 14.6s\n",
      "114:\tlearn: 1739.2791678\ttotal: 1.9s\tremaining: 14.6s\n",
      "115:\tlearn: 1738.4693668\ttotal: 1.91s\tremaining: 14.6s\n",
      "116:\tlearn: 1737.5870298\ttotal: 1.93s\tremaining: 14.6s\n",
      "117:\tlearn: 1736.6906531\ttotal: 1.96s\tremaining: 14.7s\n",
      "118:\tlearn: 1735.5316565\ttotal: 1.98s\tremaining: 14.6s\n",
      "119:\tlearn: 1734.6848761\ttotal: 1.99s\tremaining: 14.6s\n",
      "120:\tlearn: 1734.1519451\ttotal: 2.01s\tremaining: 14.6s\n",
      "121:\tlearn: 1733.6341499\ttotal: 2.02s\tremaining: 14.6s\n",
      "122:\tlearn: 1732.5536691\ttotal: 2.04s\tremaining: 14.5s\n",
      "123:\tlearn: 1731.8741482\ttotal: 2.05s\tremaining: 14.5s\n",
      "124:\tlearn: 1731.2010756\ttotal: 2.07s\tremaining: 14.5s\n",
      "125:\tlearn: 1730.6637101\ttotal: 2.08s\tremaining: 14.5s\n",
      "126:\tlearn: 1729.1444927\ttotal: 2.1s\tremaining: 14.5s\n",
      "127:\tlearn: 1728.3205839\ttotal: 2.12s\tremaining: 14.4s\n",
      "128:\tlearn: 1727.6375415\ttotal: 2.14s\tremaining: 14.5s\n",
      "129:\tlearn: 1726.9110188\ttotal: 2.17s\tremaining: 14.5s\n",
      "130:\tlearn: 1726.4637172\ttotal: 2.19s\tremaining: 14.5s\n",
      "131:\tlearn: 1725.9292032\ttotal: 2.2s\tremaining: 14.5s\n",
      "132:\tlearn: 1725.1574584\ttotal: 2.22s\tremaining: 14.4s\n",
      "133:\tlearn: 1724.6644320\ttotal: 2.23s\tremaining: 14.4s\n",
      "134:\tlearn: 1723.2763791\ttotal: 2.25s\tremaining: 14.4s\n",
      "135:\tlearn: 1722.1700437\ttotal: 2.27s\tremaining: 14.4s\n",
      "136:\tlearn: 1721.2988185\ttotal: 2.28s\tremaining: 14.4s\n",
      "137:\tlearn: 1720.4076540\ttotal: 2.3s\tremaining: 14.4s\n",
      "138:\tlearn: 1719.2655215\ttotal: 2.32s\tremaining: 14.3s\n",
      "139:\tlearn: 1718.3443051\ttotal: 2.33s\tremaining: 14.3s\n",
      "140:\tlearn: 1717.5582394\ttotal: 2.35s\tremaining: 14.3s\n",
      "141:\tlearn: 1716.7263617\ttotal: 2.38s\tremaining: 14.4s\n",
      "142:\tlearn: 1716.1133822\ttotal: 2.39s\tremaining: 14.3s\n",
      "143:\tlearn: 1715.4554294\ttotal: 2.41s\tremaining: 14.3s\n",
      "144:\tlearn: 1715.0858953\ttotal: 2.42s\tremaining: 14.3s\n",
      "145:\tlearn: 1714.1930328\ttotal: 2.44s\tremaining: 14.3s\n",
      "146:\tlearn: 1713.6309186\ttotal: 2.45s\tremaining: 14.2s\n",
      "147:\tlearn: 1713.0193539\ttotal: 2.47s\tremaining: 14.2s\n",
      "148:\tlearn: 1712.2842253\ttotal: 2.49s\tremaining: 14.2s\n",
      "149:\tlearn: 1711.1578216\ttotal: 2.5s\tremaining: 14.2s\n",
      "150:\tlearn: 1710.4203012\ttotal: 2.52s\tremaining: 14.2s\n",
      "151:\tlearn: 1709.7120484\ttotal: 2.54s\tremaining: 14.2s\n",
      "152:\tlearn: 1709.1563797\ttotal: 2.55s\tremaining: 14.1s\n",
      "153:\tlearn: 1708.3629396\ttotal: 2.58s\tremaining: 14.2s\n",
      "154:\tlearn: 1707.8604143\ttotal: 2.59s\tremaining: 14.1s\n",
      "155:\tlearn: 1707.5027510\ttotal: 2.61s\tremaining: 14.1s\n",
      "156:\tlearn: 1706.5859860\ttotal: 2.63s\tremaining: 14.1s\n",
      "157:\tlearn: 1705.7984812\ttotal: 2.65s\tremaining: 14.1s\n",
      "158:\tlearn: 1705.1144847\ttotal: 2.67s\tremaining: 14.1s\n",
      "159:\tlearn: 1704.6716391\ttotal: 2.7s\tremaining: 14.2s\n",
      "160:\tlearn: 1704.1453953\ttotal: 2.72s\tremaining: 14.2s\n",
      "161:\tlearn: 1703.4265197\ttotal: 2.74s\tremaining: 14.2s\n",
      "162:\tlearn: 1703.0941492\ttotal: 2.76s\tremaining: 14.2s\n",
      "163:\tlearn: 1702.2386386\ttotal: 2.78s\tremaining: 14.2s\n",
      "164:\tlearn: 1700.9425794\ttotal: 2.79s\tremaining: 14.1s\n",
      "165:\tlearn: 1700.5602461\ttotal: 2.81s\tremaining: 14.1s\n",
      "166:\tlearn: 1700.0822668\ttotal: 2.82s\tremaining: 14.1s\n",
      "167:\tlearn: 1699.6710870\ttotal: 2.83s\tremaining: 14s\n",
      "168:\tlearn: 1698.9465001\ttotal: 2.85s\tremaining: 14s\n",
      "169:\tlearn: 1698.4195064\ttotal: 2.87s\tremaining: 14s\n",
      "170:\tlearn: 1697.8412248\ttotal: 2.89s\tremaining: 14s\n",
      "171:\tlearn: 1697.5803509\ttotal: 2.91s\tremaining: 14s\n",
      "172:\tlearn: 1697.2207918\ttotal: 2.94s\tremaining: 14s\n",
      "173:\tlearn: 1696.5842624\ttotal: 2.96s\tremaining: 14s\n",
      "174:\tlearn: 1696.3452818\ttotal: 2.97s\tremaining: 14s\n",
      "175:\tlearn: 1695.7925317\ttotal: 2.99s\tremaining: 14s\n",
      "176:\tlearn: 1695.2135932\ttotal: 3s\tremaining: 14s\n",
      "177:\tlearn: 1694.7083997\ttotal: 3.02s\tremaining: 13.9s\n",
      "178:\tlearn: 1694.2195598\ttotal: 3.03s\tremaining: 13.9s\n",
      "179:\tlearn: 1693.8946503\ttotal: 3.04s\tremaining: 13.9s\n",
      "180:\tlearn: 1693.3021220\ttotal: 3.06s\tremaining: 13.8s\n",
      "181:\tlearn: 1692.6993072\ttotal: 3.07s\tremaining: 13.8s\n",
      "182:\tlearn: 1692.1958635\ttotal: 3.09s\tremaining: 13.8s\n",
      "183:\tlearn: 1691.7170714\ttotal: 3.1s\tremaining: 13.8s\n",
      "184:\tlearn: 1691.2150805\ttotal: 3.12s\tremaining: 13.7s\n",
      "185:\tlearn: 1690.6943055\ttotal: 3.13s\tremaining: 13.7s\n",
      "186:\tlearn: 1690.0300989\ttotal: 3.15s\tremaining: 13.7s\n",
      "187:\tlearn: 1689.4550755\ttotal: 3.17s\tremaining: 13.7s\n",
      "188:\tlearn: 1689.2750262\ttotal: 3.18s\tremaining: 13.7s\n",
      "189:\tlearn: 1688.7454202\ttotal: 3.2s\tremaining: 13.6s\n",
      "190:\tlearn: 1688.0146884\ttotal: 3.22s\tremaining: 13.6s\n",
      "191:\tlearn: 1687.6663603\ttotal: 3.23s\tremaining: 13.6s\n",
      "192:\tlearn: 1687.2236705\ttotal: 3.25s\tremaining: 13.6s\n",
      "193:\tlearn: 1686.7696029\ttotal: 3.26s\tremaining: 13.6s\n",
      "194:\tlearn: 1686.3172215\ttotal: 3.28s\tremaining: 13.5s\n",
      "195:\tlearn: 1685.8717292\ttotal: 3.3s\tremaining: 13.5s\n",
      "196:\tlearn: 1685.2748147\ttotal: 3.31s\tremaining: 13.5s\n",
      "197:\tlearn: 1684.8207958\ttotal: 3.33s\tremaining: 13.5s\n",
      "198:\tlearn: 1684.5565767\ttotal: 3.34s\tremaining: 13.5s\n",
      "199:\tlearn: 1684.2868064\ttotal: 3.36s\tremaining: 13.4s\n",
      "200:\tlearn: 1683.7181055\ttotal: 3.38s\tremaining: 13.4s\n",
      "201:\tlearn: 1683.1860367\ttotal: 3.4s\tremaining: 13.4s\n",
      "202:\tlearn: 1682.7247399\ttotal: 3.41s\tremaining: 13.4s\n",
      "203:\tlearn: 1682.0249817\ttotal: 3.43s\tremaining: 13.4s\n",
      "204:\tlearn: 1681.5691883\ttotal: 3.45s\tremaining: 13.4s\n",
      "205:\tlearn: 1681.2086459\ttotal: 3.46s\tremaining: 13.4s\n",
      "206:\tlearn: 1680.7679619\ttotal: 3.48s\tremaining: 13.3s\n",
      "207:\tlearn: 1680.3602209\ttotal: 3.5s\tremaining: 13.3s\n",
      "208:\tlearn: 1680.0539693\ttotal: 3.51s\tremaining: 13.3s\n",
      "209:\tlearn: 1679.7468816\ttotal: 3.53s\tremaining: 13.3s\n",
      "210:\tlearn: 1679.3389764\ttotal: 3.54s\tremaining: 13.3s\n",
      "211:\tlearn: 1678.8613420\ttotal: 3.56s\tremaining: 13.2s\n",
      "212:\tlearn: 1678.1238490\ttotal: 3.58s\tremaining: 13.2s\n",
      "213:\tlearn: 1677.6792544\ttotal: 3.6s\tremaining: 13.2s\n",
      "214:\tlearn: 1676.9209127\ttotal: 3.62s\tremaining: 13.2s\n",
      "215:\tlearn: 1676.7202385\ttotal: 3.63s\tremaining: 13.2s\n",
      "216:\tlearn: 1676.3981424\ttotal: 3.65s\tremaining: 13.2s\n",
      "217:\tlearn: 1676.1784634\ttotal: 3.67s\tremaining: 13.1s\n",
      "218:\tlearn: 1676.0633419\ttotal: 3.68s\tremaining: 13.1s\n",
      "219:\tlearn: 1675.5061819\ttotal: 3.69s\tremaining: 13.1s\n",
      "220:\tlearn: 1674.3487806\ttotal: 3.71s\tremaining: 13.1s\n",
      "221:\tlearn: 1674.3230343\ttotal: 3.72s\tremaining: 13s\n",
      "222:\tlearn: 1673.9040556\ttotal: 3.74s\tremaining: 13s\n",
      "223:\tlearn: 1673.2315874\ttotal: 3.75s\tremaining: 13s\n",
      "224:\tlearn: 1672.6624964\ttotal: 3.77s\tremaining: 13s\n",
      "225:\tlearn: 1672.4062914\ttotal: 3.79s\tremaining: 13s\n",
      "226:\tlearn: 1672.0504110\ttotal: 3.81s\tremaining: 13s\n",
      "227:\tlearn: 1671.3990810\ttotal: 3.83s\tremaining: 13s\n",
      "228:\tlearn: 1670.9139458\ttotal: 3.84s\tremaining: 12.9s\n",
      "229:\tlearn: 1670.4719324\ttotal: 3.86s\tremaining: 12.9s\n",
      "230:\tlearn: 1670.1026326\ttotal: 3.87s\tremaining: 12.9s\n",
      "231:\tlearn: 1669.7372178\ttotal: 3.89s\tremaining: 12.9s\n",
      "232:\tlearn: 1668.9538723\ttotal: 3.91s\tremaining: 12.9s\n",
      "233:\tlearn: 1668.5290176\ttotal: 3.92s\tremaining: 12.8s\n",
      "234:\tlearn: 1667.9520144\ttotal: 3.94s\tremaining: 12.8s\n",
      "235:\tlearn: 1667.5169600\ttotal: 3.96s\tremaining: 12.8s\n",
      "236:\tlearn: 1667.0565904\ttotal: 3.98s\tremaining: 12.8s\n",
      "237:\tlearn: 1666.6288483\ttotal: 3.99s\tremaining: 12.8s\n",
      "238:\tlearn: 1666.2565107\ttotal: 4.02s\tremaining: 12.8s\n",
      "239:\tlearn: 1665.5230471\ttotal: 4.04s\tremaining: 12.8s\n",
      "240:\tlearn: 1664.9723404\ttotal: 4.05s\tremaining: 12.8s\n",
      "241:\tlearn: 1664.5703892\ttotal: 4.07s\tremaining: 12.7s\n",
      "242:\tlearn: 1664.1994865\ttotal: 4.08s\tremaining: 12.7s\n",
      "243:\tlearn: 1663.8014694\ttotal: 4.1s\tremaining: 12.7s\n",
      "244:\tlearn: 1663.6758842\ttotal: 4.11s\tremaining: 12.7s\n",
      "245:\tlearn: 1663.1153943\ttotal: 4.13s\tremaining: 12.6s\n",
      "246:\tlearn: 1663.0628425\ttotal: 4.14s\tremaining: 12.6s\n",
      "247:\tlearn: 1662.8330588\ttotal: 4.16s\tremaining: 12.6s\n",
      "248:\tlearn: 1662.3873517\ttotal: 4.17s\tremaining: 12.6s\n",
      "249:\tlearn: 1661.8929310\ttotal: 4.19s\tremaining: 12.6s\n",
      "250:\tlearn: 1661.4959247\ttotal: 4.2s\tremaining: 12.5s\n",
      "251:\tlearn: 1661.2594898\ttotal: 4.22s\tremaining: 12.5s\n",
      "252:\tlearn: 1660.9346454\ttotal: 4.24s\tremaining: 12.5s\n",
      "253:\tlearn: 1660.7954668\ttotal: 4.26s\tremaining: 12.5s\n",
      "254:\tlearn: 1660.4570953\ttotal: 4.27s\tremaining: 12.5s\n",
      "255:\tlearn: 1660.3227262\ttotal: 4.28s\tremaining: 12.4s\n",
      "256:\tlearn: 1660.0597467\ttotal: 4.3s\tremaining: 12.4s\n",
      "257:\tlearn: 1659.6516664\ttotal: 4.32s\tremaining: 12.4s\n",
      "258:\tlearn: 1659.1934021\ttotal: 4.33s\tremaining: 12.4s\n",
      "259:\tlearn: 1658.9421690\ttotal: 4.35s\tremaining: 12.4s\n",
      "260:\tlearn: 1658.9270754\ttotal: 4.36s\tremaining: 12.3s\n",
      "261:\tlearn: 1658.4321843\ttotal: 4.37s\tremaining: 12.3s\n",
      "262:\tlearn: 1657.9324056\ttotal: 4.39s\tremaining: 12.3s\n",
      "263:\tlearn: 1657.7130219\ttotal: 4.41s\tremaining: 12.3s\n",
      "264:\tlearn: 1657.4194224\ttotal: 4.43s\tremaining: 12.3s\n",
      "265:\tlearn: 1657.2759038\ttotal: 4.45s\tremaining: 12.3s\n",
      "266:\tlearn: 1657.1810667\ttotal: 4.46s\tremaining: 12.3s\n",
      "267:\tlearn: 1656.6754369\ttotal: 4.48s\tremaining: 12.2s\n",
      "268:\tlearn: 1656.3001719\ttotal: 4.5s\tremaining: 12.2s\n",
      "269:\tlearn: 1655.8150994\ttotal: 4.51s\tremaining: 12.2s\n",
      "270:\tlearn: 1655.4508350\ttotal: 4.53s\tremaining: 12.2s\n",
      "271:\tlearn: 1655.2397842\ttotal: 4.54s\tremaining: 12.2s\n",
      "272:\tlearn: 1654.9488687\ttotal: 4.56s\tremaining: 12.1s\n",
      "273:\tlearn: 1654.5294151\ttotal: 4.57s\tremaining: 12.1s\n",
      "274:\tlearn: 1654.1387548\ttotal: 4.59s\tremaining: 12.1s\n",
      "275:\tlearn: 1653.7792782\ttotal: 4.61s\tremaining: 12.1s\n",
      "276:\tlearn: 1653.5167534\ttotal: 4.62s\tremaining: 12.1s\n",
      "277:\tlearn: 1653.0915223\ttotal: 4.64s\tremaining: 12.1s\n",
      "278:\tlearn: 1652.5879617\ttotal: 4.66s\tremaining: 12.1s\n",
      "279:\tlearn: 1652.0660031\ttotal: 4.68s\tremaining: 12s\n",
      "280:\tlearn: 1651.7094813\ttotal: 4.7s\tremaining: 12s\n",
      "281:\tlearn: 1651.3000105\ttotal: 4.72s\tremaining: 12s\n",
      "282:\tlearn: 1650.8961419\ttotal: 4.73s\tremaining: 12s\n",
      "283:\tlearn: 1650.6422365\ttotal: 4.75s\tremaining: 12s\n",
      "284:\tlearn: 1650.3262999\ttotal: 4.76s\tremaining: 12s\n",
      "285:\tlearn: 1649.9503305\ttotal: 4.78s\tremaining: 11.9s\n",
      "286:\tlearn: 1649.5282689\ttotal: 4.8s\tremaining: 11.9s\n",
      "287:\tlearn: 1649.2978312\ttotal: 4.81s\tremaining: 11.9s\n",
      "288:\tlearn: 1649.0608205\ttotal: 4.83s\tremaining: 11.9s\n",
      "289:\tlearn: 1648.7427943\ttotal: 4.84s\tremaining: 11.9s\n",
      "290:\tlearn: 1648.3836640\ttotal: 4.87s\tremaining: 11.9s\n",
      "291:\tlearn: 1647.9434365\ttotal: 4.89s\tremaining: 11.8s\n",
      "292:\tlearn: 1647.7019373\ttotal: 4.9s\tremaining: 11.8s\n",
      "293:\tlearn: 1647.5265771\ttotal: 4.92s\tremaining: 11.8s\n",
      "294:\tlearn: 1647.2804069\ttotal: 4.93s\tremaining: 11.8s\n",
      "295:\tlearn: 1647.0030825\ttotal: 4.95s\tremaining: 11.8s\n",
      "296:\tlearn: 1646.8109145\ttotal: 4.96s\tremaining: 11.7s\n",
      "297:\tlearn: 1646.2874877\ttotal: 4.98s\tremaining: 11.7s\n",
      "298:\tlearn: 1646.1438490\ttotal: 5s\tremaining: 11.7s\n",
      "299:\tlearn: 1645.8242378\ttotal: 5.01s\tremaining: 11.7s\n",
      "300:\tlearn: 1645.6151987\ttotal: 5.03s\tremaining: 11.7s\n",
      "301:\tlearn: 1645.1655626\ttotal: 5.04s\tremaining: 11.7s\n",
      "302:\tlearn: 1644.8590947\ttotal: 5.06s\tremaining: 11.6s\n",
      "303:\tlearn: 1644.5148678\ttotal: 5.08s\tremaining: 11.6s\n",
      "304:\tlearn: 1644.0956369\ttotal: 5.1s\tremaining: 11.6s\n",
      "305:\tlearn: 1643.8602120\ttotal: 5.12s\tremaining: 11.6s\n",
      "306:\tlearn: 1643.7390256\ttotal: 5.13s\tremaining: 11.6s\n",
      "307:\tlearn: 1643.4555386\ttotal: 5.15s\tremaining: 11.6s\n",
      "308:\tlearn: 1643.0265323\ttotal: 5.16s\tremaining: 11.5s\n",
      "309:\tlearn: 1642.6698515\ttotal: 5.18s\tremaining: 11.5s\n",
      "310:\tlearn: 1642.3424665\ttotal: 5.2s\tremaining: 11.5s\n",
      "311:\tlearn: 1642.0995975\ttotal: 5.21s\tremaining: 11.5s\n",
      "312:\tlearn: 1641.8358763\ttotal: 5.23s\tremaining: 11.5s\n",
      "313:\tlearn: 1641.4937403\ttotal: 5.24s\tremaining: 11.5s\n",
      "314:\tlearn: 1641.0019852\ttotal: 5.26s\tremaining: 11.4s\n",
      "315:\tlearn: 1640.8050808\ttotal: 5.28s\tremaining: 11.4s\n",
      "316:\tlearn: 1640.3763401\ttotal: 5.3s\tremaining: 11.4s\n",
      "317:\tlearn: 1639.9813237\ttotal: 5.32s\tremaining: 11.4s\n",
      "318:\tlearn: 1639.7884522\ttotal: 5.33s\tremaining: 11.4s\n",
      "319:\tlearn: 1639.4960235\ttotal: 5.35s\tremaining: 11.4s\n",
      "320:\tlearn: 1639.2088425\ttotal: 5.37s\tremaining: 11.3s\n",
      "321:\tlearn: 1638.8759498\ttotal: 5.38s\tremaining: 11.3s\n",
      "322:\tlearn: 1638.5555261\ttotal: 5.39s\tremaining: 11.3s\n",
      "323:\tlearn: 1638.4359748\ttotal: 5.41s\tremaining: 11.3s\n",
      "324:\tlearn: 1638.0938398\ttotal: 5.43s\tremaining: 11.3s\n",
      "325:\tlearn: 1637.9186232\ttotal: 5.44s\tremaining: 11.2s\n",
      "326:\tlearn: 1637.6414532\ttotal: 5.46s\tremaining: 11.2s\n",
      "327:\tlearn: 1637.4253057\ttotal: 5.47s\tremaining: 11.2s\n",
      "328:\tlearn: 1637.1397626\ttotal: 5.49s\tremaining: 11.2s\n",
      "329:\tlearn: 1636.8245666\ttotal: 5.51s\tremaining: 11.2s\n",
      "330:\tlearn: 1636.6360109\ttotal: 5.52s\tremaining: 11.2s\n",
      "331:\tlearn: 1636.3353424\ttotal: 5.54s\tremaining: 11.1s\n",
      "332:\tlearn: 1636.0535540\ttotal: 5.56s\tremaining: 11.1s\n",
      "333:\tlearn: 1635.7746177\ttotal: 5.57s\tremaining: 11.1s\n",
      "334:\tlearn: 1635.5071187\ttotal: 5.59s\tremaining: 11.1s\n",
      "335:\tlearn: 1635.0622657\ttotal: 5.61s\tremaining: 11.1s\n",
      "336:\tlearn: 1634.8422535\ttotal: 5.62s\tremaining: 11.1s\n",
      "337:\tlearn: 1634.5884250\ttotal: 5.64s\tremaining: 11s\n",
      "338:\tlearn: 1634.3761541\ttotal: 5.65s\tremaining: 11s\n",
      "339:\tlearn: 1634.0779120\ttotal: 5.67s\tremaining: 11s\n",
      "340:\tlearn: 1633.7455138\ttotal: 5.69s\tremaining: 11s\n",
      "341:\tlearn: 1633.6916709\ttotal: 5.7s\tremaining: 11s\n",
      "342:\tlearn: 1633.4358604\ttotal: 5.72s\tremaining: 11s\n",
      "343:\tlearn: 1633.1800794\ttotal: 5.74s\tremaining: 10.9s\n",
      "344:\tlearn: 1632.9860637\ttotal: 5.76s\tremaining: 10.9s\n",
      "345:\tlearn: 1632.7183584\ttotal: 5.77s\tremaining: 10.9s\n",
      "346:\tlearn: 1632.4963098\ttotal: 5.79s\tremaining: 10.9s\n",
      "347:\tlearn: 1632.2836988\ttotal: 5.8s\tremaining: 10.9s\n",
      "348:\tlearn: 1632.1322878\ttotal: 5.82s\tremaining: 10.9s\n",
      "349:\tlearn: 1631.8392225\ttotal: 5.84s\tremaining: 10.8s\n",
      "350:\tlearn: 1631.5899039\ttotal: 5.85s\tremaining: 10.8s\n",
      "351:\tlearn: 1631.2946171\ttotal: 5.87s\tremaining: 10.8s\n",
      "352:\tlearn: 1630.9195290\ttotal: 5.89s\tremaining: 10.8s\n",
      "353:\tlearn: 1630.6967714\ttotal: 5.9s\tremaining: 10.8s\n",
      "354:\tlearn: 1630.3223343\ttotal: 5.92s\tremaining: 10.8s\n",
      "355:\tlearn: 1629.9795977\ttotal: 5.94s\tremaining: 10.7s\n",
      "356:\tlearn: 1629.7965813\ttotal: 5.96s\tremaining: 10.7s\n",
      "357:\tlearn: 1629.4773303\ttotal: 5.98s\tremaining: 10.7s\n",
      "358:\tlearn: 1629.0761233\ttotal: 6s\tremaining: 10.7s\n",
      "359:\tlearn: 1628.7013353\ttotal: 6.01s\tremaining: 10.7s\n",
      "360:\tlearn: 1628.6552495\ttotal: 6.03s\tremaining: 10.7s\n",
      "361:\tlearn: 1628.3390659\ttotal: 6.04s\tremaining: 10.6s\n",
      "362:\tlearn: 1627.9790336\ttotal: 6.06s\tremaining: 10.6s\n",
      "363:\tlearn: 1627.7068109\ttotal: 6.07s\tremaining: 10.6s\n",
      "364:\tlearn: 1627.4529739\ttotal: 6.09s\tremaining: 10.6s\n",
      "365:\tlearn: 1627.2185626\ttotal: 6.11s\tremaining: 10.6s\n",
      "366:\tlearn: 1626.8480530\ttotal: 6.13s\tremaining: 10.6s\n",
      "367:\tlearn: 1626.5220818\ttotal: 6.14s\tremaining: 10.6s\n",
      "368:\tlearn: 1626.3437834\ttotal: 6.16s\tremaining: 10.5s\n",
      "369:\tlearn: 1626.0785811\ttotal: 6.18s\tremaining: 10.5s\n",
      "370:\tlearn: 1625.7418597\ttotal: 6.2s\tremaining: 10.5s\n",
      "371:\tlearn: 1625.4730386\ttotal: 6.21s\tremaining: 10.5s\n",
      "372:\tlearn: 1625.2507221\ttotal: 6.23s\tremaining: 10.5s\n",
      "373:\tlearn: 1624.9022223\ttotal: 6.24s\tremaining: 10.4s\n",
      "374:\tlearn: 1624.6558835\ttotal: 6.26s\tremaining: 10.4s\n",
      "375:\tlearn: 1624.3679529\ttotal: 6.28s\tremaining: 10.4s\n",
      "376:\tlearn: 1624.0969779\ttotal: 6.29s\tremaining: 10.4s\n",
      "377:\tlearn: 1623.9041142\ttotal: 6.31s\tremaining: 10.4s\n",
      "378:\tlearn: 1623.4976360\ttotal: 6.32s\tremaining: 10.4s\n",
      "379:\tlearn: 1623.3184390\ttotal: 6.34s\tremaining: 10.3s\n",
      "380:\tlearn: 1623.1044528\ttotal: 6.36s\tremaining: 10.3s\n",
      "381:\tlearn: 1622.7469460\ttotal: 6.38s\tremaining: 10.3s\n",
      "382:\tlearn: 1622.4576195\ttotal: 6.4s\tremaining: 10.3s\n",
      "383:\tlearn: 1622.2459360\ttotal: 6.41s\tremaining: 10.3s\n",
      "384:\tlearn: 1621.9739983\ttotal: 6.43s\tremaining: 10.3s\n",
      "385:\tlearn: 1621.7813431\ttotal: 6.44s\tremaining: 10.3s\n",
      "386:\tlearn: 1621.6254687\ttotal: 6.46s\tremaining: 10.2s\n",
      "387:\tlearn: 1621.3612556\ttotal: 6.48s\tremaining: 10.2s\n",
      "388:\tlearn: 1621.1899133\ttotal: 6.49s\tremaining: 10.2s\n",
      "389:\tlearn: 1620.9634072\ttotal: 6.51s\tremaining: 10.2s\n",
      "390:\tlearn: 1620.7893471\ttotal: 6.52s\tremaining: 10.2s\n",
      "391:\tlearn: 1620.1413683\ttotal: 6.54s\tremaining: 10.1s\n",
      "392:\tlearn: 1620.0136535\ttotal: 6.55s\tremaining: 10.1s\n",
      "393:\tlearn: 1619.6967497\ttotal: 6.59s\tremaining: 10.1s\n",
      "394:\tlearn: 1619.5042903\ttotal: 6.62s\tremaining: 10.1s\n",
      "395:\tlearn: 1619.2682413\ttotal: 6.65s\tremaining: 10.1s\n",
      "396:\tlearn: 1618.8979413\ttotal: 6.67s\tremaining: 10.1s\n",
      "397:\tlearn: 1618.8376295\ttotal: 6.7s\tremaining: 10.1s\n",
      "398:\tlearn: 1618.5417157\ttotal: 6.71s\tremaining: 10.1s\n",
      "399:\tlearn: 1618.3187919\ttotal: 6.73s\tremaining: 10.1s\n",
      "400:\tlearn: 1617.9621902\ttotal: 6.75s\tremaining: 10.1s\n",
      "401:\tlearn: 1617.7980066\ttotal: 6.76s\tremaining: 10.1s\n",
      "402:\tlearn: 1617.5787246\ttotal: 6.78s\tremaining: 10s\n",
      "403:\tlearn: 1617.4022557\ttotal: 6.79s\tremaining: 10s\n",
      "404:\tlearn: 1617.1719002\ttotal: 6.81s\tremaining: 10s\n",
      "405:\tlearn: 1616.9532342\ttotal: 6.83s\tremaining: 9.99s\n",
      "406:\tlearn: 1616.7217376\ttotal: 6.84s\tremaining: 9.97s\n",
      "407:\tlearn: 1616.5115856\ttotal: 6.86s\tremaining: 9.95s\n",
      "408:\tlearn: 1616.1575381\ttotal: 6.88s\tremaining: 9.94s\n",
      "409:\tlearn: 1616.1234826\ttotal: 6.89s\tremaining: 9.91s\n",
      "410:\tlearn: 1615.7835695\ttotal: 6.91s\tremaining: 9.9s\n",
      "411:\tlearn: 1615.6743727\ttotal: 6.92s\tremaining: 9.88s\n",
      "412:\tlearn: 1615.4561845\ttotal: 6.94s\tremaining: 9.86s\n",
      "413:\tlearn: 1615.2856299\ttotal: 6.95s\tremaining: 9.84s\n",
      "414:\tlearn: 1615.1524349\ttotal: 6.97s\tremaining: 9.82s\n",
      "415:\tlearn: 1614.9063122\ttotal: 6.99s\tremaining: 9.81s\n",
      "416:\tlearn: 1614.7644417\ttotal: 7s\tremaining: 9.79s\n",
      "417:\tlearn: 1614.4859446\ttotal: 7.03s\tremaining: 9.79s\n",
      "418:\tlearn: 1614.2469830\ttotal: 7.04s\tremaining: 9.77s\n",
      "419:\tlearn: 1613.8967949\ttotal: 7.06s\tremaining: 9.75s\n",
      "420:\tlearn: 1613.6642605\ttotal: 7.08s\tremaining: 9.73s\n",
      "421:\tlearn: 1613.5021798\ttotal: 7.09s\tremaining: 9.71s\n",
      "422:\tlearn: 1613.4324070\ttotal: 7.11s\tremaining: 9.69s\n",
      "423:\tlearn: 1613.2681227\ttotal: 7.12s\tremaining: 9.67s\n",
      "424:\tlearn: 1613.1156130\ttotal: 7.14s\tremaining: 9.65s\n",
      "425:\tlearn: 1613.0879244\ttotal: 7.15s\tremaining: 9.63s\n",
      "426:\tlearn: 1612.8245325\ttotal: 7.17s\tremaining: 9.62s\n",
      "427:\tlearn: 1612.6076674\ttotal: 7.18s\tremaining: 9.6s\n",
      "428:\tlearn: 1612.5032914\ttotal: 7.2s\tremaining: 9.59s\n",
      "429:\tlearn: 1612.4482942\ttotal: 7.22s\tremaining: 9.57s\n",
      "430:\tlearn: 1612.1635118\ttotal: 7.24s\tremaining: 9.56s\n",
      "431:\tlearn: 1611.9807106\ttotal: 7.26s\tremaining: 9.54s\n",
      "432:\tlearn: 1611.7834352\ttotal: 7.27s\tremaining: 9.52s\n",
      "433:\tlearn: 1611.6321329\ttotal: 7.29s\tremaining: 9.5s\n",
      "434:\tlearn: 1611.4174916\ttotal: 7.31s\tremaining: 9.49s\n",
      "435:\tlearn: 1611.1689508\ttotal: 7.32s\tremaining: 9.47s\n",
      "436:\tlearn: 1611.0387818\ttotal: 7.34s\tremaining: 9.45s\n",
      "437:\tlearn: 1610.9959167\ttotal: 7.35s\tremaining: 9.43s\n",
      "438:\tlearn: 1610.8372841\ttotal: 7.37s\tremaining: 9.42s\n",
      "439:\tlearn: 1610.6252520\ttotal: 7.39s\tremaining: 9.4s\n",
      "440:\tlearn: 1610.3592294\ttotal: 7.4s\tremaining: 9.38s\n",
      "441:\tlearn: 1610.0333248\ttotal: 7.42s\tremaining: 9.37s\n",
      "442:\tlearn: 1609.6209650\ttotal: 7.44s\tremaining: 9.36s\n",
      "443:\tlearn: 1609.4944620\ttotal: 7.46s\tremaining: 9.34s\n",
      "444:\tlearn: 1609.2218664\ttotal: 7.47s\tremaining: 9.32s\n",
      "445:\tlearn: 1609.0527576\ttotal: 7.49s\tremaining: 9.3s\n",
      "446:\tlearn: 1608.9756024\ttotal: 7.5s\tremaining: 9.28s\n",
      "447:\tlearn: 1608.6752246\ttotal: 7.52s\tremaining: 9.26s\n",
      "448:\tlearn: 1608.1370021\ttotal: 7.54s\tremaining: 9.25s\n",
      "449:\tlearn: 1607.8867171\ttotal: 7.55s\tremaining: 9.23s\n",
      "450:\tlearn: 1607.5175366\ttotal: 7.57s\tremaining: 9.21s\n",
      "451:\tlearn: 1607.3375697\ttotal: 7.58s\tremaining: 9.2s\n",
      "452:\tlearn: 1607.1204336\ttotal: 7.6s\tremaining: 9.18s\n",
      "453:\tlearn: 1606.8239262\ttotal: 7.62s\tremaining: 9.16s\n",
      "454:\tlearn: 1606.6889509\ttotal: 7.63s\tremaining: 9.14s\n",
      "455:\tlearn: 1606.3740716\ttotal: 7.66s\tremaining: 9.13s\n",
      "456:\tlearn: 1606.1642916\ttotal: 7.67s\tremaining: 9.11s\n",
      "457:\tlearn: 1605.8771031\ttotal: 7.68s\tremaining: 9.1s\n",
      "458:\tlearn: 1605.6590734\ttotal: 7.7s\tremaining: 9.08s\n",
      "459:\tlearn: 1605.5112404\ttotal: 7.72s\tremaining: 9.06s\n",
      "460:\tlearn: 1605.2365637\ttotal: 7.73s\tremaining: 9.04s\n",
      "461:\tlearn: 1605.0134423\ttotal: 7.75s\tremaining: 9.03s\n",
      "462:\tlearn: 1604.7981517\ttotal: 7.77s\tremaining: 9.01s\n",
      "463:\tlearn: 1604.6351331\ttotal: 7.78s\tremaining: 8.99s\n",
      "464:\tlearn: 1604.5359568\ttotal: 7.8s\tremaining: 8.97s\n",
      "465:\tlearn: 1604.2245806\ttotal: 7.82s\tremaining: 8.96s\n",
      "466:\tlearn: 1603.9798865\ttotal: 7.83s\tremaining: 8.94s\n",
      "467:\tlearn: 1603.7422811\ttotal: 7.85s\tremaining: 8.93s\n",
      "468:\tlearn: 1603.6180219\ttotal: 7.87s\tremaining: 8.91s\n",
      "469:\tlearn: 1603.2841531\ttotal: 7.89s\tremaining: 8.89s\n",
      "470:\tlearn: 1603.1294373\ttotal: 7.9s\tremaining: 8.88s\n",
      "471:\tlearn: 1602.9935478\ttotal: 7.92s\tremaining: 8.86s\n",
      "472:\tlearn: 1602.8420835\ttotal: 7.94s\tremaining: 8.84s\n",
      "473:\tlearn: 1602.7243473\ttotal: 7.96s\tremaining: 8.83s\n",
      "474:\tlearn: 1602.5839349\ttotal: 7.98s\tremaining: 8.82s\n",
      "475:\tlearn: 1602.3803568\ttotal: 8.01s\tremaining: 8.82s\n",
      "476:\tlearn: 1602.2045972\ttotal: 8.03s\tremaining: 8.8s\n",
      "477:\tlearn: 1602.1101630\ttotal: 8.05s\tremaining: 8.79s\n",
      "478:\tlearn: 1601.8804354\ttotal: 8.07s\tremaining: 8.78s\n",
      "479:\tlearn: 1601.6171243\ttotal: 8.09s\tremaining: 8.76s\n",
      "480:\tlearn: 1601.4558813\ttotal: 8.1s\tremaining: 8.74s\n",
      "481:\tlearn: 1601.2738345\ttotal: 8.12s\tremaining: 8.72s\n",
      "482:\tlearn: 1601.0637118\ttotal: 8.13s\tremaining: 8.7s\n",
      "483:\tlearn: 1600.8970537\ttotal: 8.14s\tremaining: 8.68s\n",
      "484:\tlearn: 1600.7538870\ttotal: 8.16s\tremaining: 8.66s\n",
      "485:\tlearn: 1600.6351326\ttotal: 8.17s\tremaining: 8.64s\n",
      "486:\tlearn: 1600.3952275\ttotal: 8.19s\tremaining: 8.63s\n",
      "487:\tlearn: 1600.2143055\ttotal: 8.2s\tremaining: 8.61s\n",
      "488:\tlearn: 1600.0144870\ttotal: 8.22s\tremaining: 8.59s\n",
      "489:\tlearn: 1599.9419992\ttotal: 8.23s\tremaining: 8.57s\n",
      "490:\tlearn: 1599.6330056\ttotal: 8.25s\tremaining: 8.55s\n",
      "491:\tlearn: 1599.3836383\ttotal: 8.27s\tremaining: 8.54s\n",
      "492:\tlearn: 1599.2687908\ttotal: 8.28s\tremaining: 8.52s\n",
      "493:\tlearn: 1599.0804114\ttotal: 8.3s\tremaining: 8.5s\n",
      "494:\tlearn: 1598.9499764\ttotal: 8.31s\tremaining: 8.48s\n",
      "495:\tlearn: 1598.8569612\ttotal: 8.33s\tremaining: 8.46s\n",
      "496:\tlearn: 1598.7456896\ttotal: 8.34s\tremaining: 8.44s\n",
      "497:\tlearn: 1598.4981206\ttotal: 8.36s\tremaining: 8.43s\n",
      "498:\tlearn: 1598.2546814\ttotal: 8.38s\tremaining: 8.41s\n",
      "499:\tlearn: 1598.0307035\ttotal: 8.39s\tremaining: 8.39s\n",
      "500:\tlearn: 1597.7180583\ttotal: 8.41s\tremaining: 8.37s\n",
      "501:\tlearn: 1597.5302487\ttotal: 8.42s\tremaining: 8.36s\n",
      "502:\tlearn: 1597.3290648\ttotal: 8.44s\tremaining: 8.34s\n",
      "503:\tlearn: 1597.1277057\ttotal: 8.46s\tremaining: 8.33s\n",
      "504:\tlearn: 1596.9864407\ttotal: 8.48s\tremaining: 8.31s\n",
      "505:\tlearn: 1596.9054691\ttotal: 8.49s\tremaining: 8.29s\n",
      "506:\tlearn: 1596.7767198\ttotal: 8.51s\tremaining: 8.27s\n",
      "507:\tlearn: 1596.6160880\ttotal: 8.52s\tremaining: 8.26s\n",
      "508:\tlearn: 1596.3074462\ttotal: 8.54s\tremaining: 8.24s\n",
      "509:\tlearn: 1596.2178544\ttotal: 8.56s\tremaining: 8.22s\n",
      "510:\tlearn: 1595.9648007\ttotal: 8.57s\tremaining: 8.2s\n",
      "511:\tlearn: 1595.7997006\ttotal: 8.59s\tremaining: 8.19s\n",
      "512:\tlearn: 1595.5976846\ttotal: 8.6s\tremaining: 8.17s\n",
      "513:\tlearn: 1595.4279212\ttotal: 8.62s\tremaining: 8.15s\n",
      "514:\tlearn: 1595.2602893\ttotal: 8.64s\tremaining: 8.13s\n",
      "515:\tlearn: 1595.1092528\ttotal: 8.66s\tremaining: 8.12s\n",
      "516:\tlearn: 1594.8708590\ttotal: 8.67s\tremaining: 8.1s\n",
      "517:\tlearn: 1594.5894422\ttotal: 8.69s\tremaining: 8.09s\n",
      "518:\tlearn: 1594.4207928\ttotal: 8.71s\tremaining: 8.07s\n",
      "519:\tlearn: 1594.3075817\ttotal: 8.72s\tremaining: 8.05s\n",
      "520:\tlearn: 1594.0813404\ttotal: 8.74s\tremaining: 8.04s\n",
      "521:\tlearn: 1593.8785125\ttotal: 8.76s\tremaining: 8.02s\n",
      "522:\tlearn: 1593.7853019\ttotal: 8.77s\tremaining: 8s\n",
      "523:\tlearn: 1593.6291370\ttotal: 8.79s\tremaining: 7.98s\n",
      "524:\tlearn: 1593.4114324\ttotal: 8.8s\tremaining: 7.96s\n",
      "525:\tlearn: 1593.2199774\ttotal: 8.82s\tremaining: 7.95s\n",
      "526:\tlearn: 1592.8702208\ttotal: 8.84s\tremaining: 7.93s\n",
      "527:\tlearn: 1592.6532794\ttotal: 8.85s\tremaining: 7.91s\n",
      "528:\tlearn: 1592.3903985\ttotal: 8.88s\tremaining: 7.9s\n",
      "529:\tlearn: 1592.1503772\ttotal: 8.89s\tremaining: 7.88s\n",
      "530:\tlearn: 1591.9984016\ttotal: 8.91s\tremaining: 7.87s\n",
      "531:\tlearn: 1591.8599739\ttotal: 8.92s\tremaining: 7.85s\n",
      "532:\tlearn: 1591.7833673\ttotal: 8.94s\tremaining: 7.83s\n",
      "533:\tlearn: 1591.5080214\ttotal: 8.96s\tremaining: 7.82s\n",
      "534:\tlearn: 1591.3650213\ttotal: 8.98s\tremaining: 7.81s\n",
      "535:\tlearn: 1591.0993809\ttotal: 9.01s\tremaining: 7.8s\n",
      "536:\tlearn: 1590.8271190\ttotal: 9.02s\tremaining: 7.78s\n",
      "537:\tlearn: 1590.6605550\ttotal: 9.04s\tremaining: 7.76s\n",
      "538:\tlearn: 1590.5232578\ttotal: 9.06s\tremaining: 7.75s\n",
      "539:\tlearn: 1590.3426815\ttotal: 9.08s\tremaining: 7.74s\n",
      "540:\tlearn: 1590.1907793\ttotal: 9.1s\tremaining: 7.72s\n",
      "541:\tlearn: 1590.0042165\ttotal: 9.13s\tremaining: 7.71s\n",
      "542:\tlearn: 1589.7817058\ttotal: 9.15s\tremaining: 7.7s\n",
      "543:\tlearn: 1589.6615607\ttotal: 9.17s\tremaining: 7.68s\n",
      "544:\tlearn: 1589.5069116\ttotal: 9.19s\tremaining: 7.67s\n",
      "545:\tlearn: 1589.3692413\ttotal: 9.2s\tremaining: 7.65s\n",
      "546:\tlearn: 1589.1270265\ttotal: 9.22s\tremaining: 7.64s\n",
      "547:\tlearn: 1588.8474890\ttotal: 9.24s\tremaining: 7.62s\n",
      "548:\tlearn: 1588.7838508\ttotal: 9.26s\tremaining: 7.61s\n",
      "549:\tlearn: 1588.6922840\ttotal: 9.28s\tremaining: 7.59s\n",
      "550:\tlearn: 1588.5170556\ttotal: 9.31s\tremaining: 7.58s\n",
      "551:\tlearn: 1588.3482762\ttotal: 9.33s\tremaining: 7.57s\n",
      "552:\tlearn: 1588.2157341\ttotal: 9.34s\tremaining: 7.55s\n",
      "553:\tlearn: 1588.1960417\ttotal: 9.36s\tremaining: 7.54s\n",
      "554:\tlearn: 1587.9582492\ttotal: 9.38s\tremaining: 7.52s\n",
      "555:\tlearn: 1587.8516910\ttotal: 9.4s\tremaining: 7.5s\n",
      "556:\tlearn: 1587.6615382\ttotal: 9.41s\tremaining: 7.49s\n",
      "557:\tlearn: 1587.5947231\ttotal: 9.43s\tremaining: 7.47s\n",
      "558:\tlearn: 1587.4658571\ttotal: 9.45s\tremaining: 7.45s\n",
      "559:\tlearn: 1587.2901283\ttotal: 9.47s\tremaining: 7.44s\n",
      "560:\tlearn: 1587.1303912\ttotal: 9.48s\tremaining: 7.42s\n",
      "561:\tlearn: 1586.9420656\ttotal: 9.5s\tremaining: 7.41s\n",
      "562:\tlearn: 1586.8499780\ttotal: 9.52s\tremaining: 7.39s\n",
      "563:\tlearn: 1586.7725878\ttotal: 9.54s\tremaining: 7.38s\n",
      "564:\tlearn: 1586.6525477\ttotal: 9.57s\tremaining: 7.37s\n",
      "565:\tlearn: 1586.4232872\ttotal: 9.59s\tremaining: 7.35s\n",
      "566:\tlearn: 1586.2609531\ttotal: 9.61s\tremaining: 7.34s\n",
      "567:\tlearn: 1586.1447640\ttotal: 9.63s\tremaining: 7.32s\n",
      "568:\tlearn: 1585.9717876\ttotal: 9.65s\tremaining: 7.31s\n",
      "569:\tlearn: 1585.6852001\ttotal: 9.67s\tremaining: 7.29s\n",
      "570:\tlearn: 1585.4111172\ttotal: 9.69s\tremaining: 7.28s\n",
      "571:\tlearn: 1585.2797439\ttotal: 9.71s\tremaining: 7.26s\n",
      "572:\tlearn: 1585.1005376\ttotal: 9.73s\tremaining: 7.25s\n",
      "573:\tlearn: 1584.9263302\ttotal: 9.75s\tremaining: 7.24s\n",
      "574:\tlearn: 1584.6883613\ttotal: 9.77s\tremaining: 7.22s\n",
      "575:\tlearn: 1584.5901961\ttotal: 9.79s\tremaining: 7.21s\n",
      "576:\tlearn: 1584.3191924\ttotal: 9.81s\tremaining: 7.19s\n",
      "577:\tlearn: 1584.2250174\ttotal: 9.83s\tremaining: 7.18s\n",
      "578:\tlearn: 1584.0895561\ttotal: 9.85s\tremaining: 7.16s\n",
      "579:\tlearn: 1583.8330970\ttotal: 9.87s\tremaining: 7.14s\n",
      "580:\tlearn: 1583.6539947\ttotal: 9.88s\tremaining: 7.13s\n",
      "581:\tlearn: 1583.4243472\ttotal: 9.91s\tremaining: 7.12s\n",
      "582:\tlearn: 1583.3123749\ttotal: 9.92s\tremaining: 7.1s\n",
      "583:\tlearn: 1583.1570131\ttotal: 9.94s\tremaining: 7.08s\n",
      "584:\tlearn: 1582.9806055\ttotal: 9.97s\tremaining: 7.07s\n",
      "585:\tlearn: 1582.8928034\ttotal: 9.99s\tremaining: 7.06s\n",
      "586:\tlearn: 1582.7546953\ttotal: 10s\tremaining: 7.04s\n",
      "587:\tlearn: 1582.5016113\ttotal: 10s\tremaining: 7.02s\n",
      "588:\tlearn: 1582.2729140\ttotal: 10s\tremaining: 7.01s\n",
      "589:\tlearn: 1582.0968235\ttotal: 10.1s\tremaining: 6.99s\n",
      "590:\tlearn: 1581.7065727\ttotal: 10.1s\tremaining: 6.98s\n",
      "591:\tlearn: 1581.4881133\ttotal: 10.1s\tremaining: 6.96s\n",
      "592:\tlearn: 1581.2735742\ttotal: 10.1s\tremaining: 6.95s\n",
      "593:\tlearn: 1581.1322851\ttotal: 10.1s\tremaining: 6.93s\n",
      "594:\tlearn: 1580.9146673\ttotal: 10.2s\tremaining: 6.92s\n",
      "595:\tlearn: 1580.7833165\ttotal: 10.2s\tremaining: 6.9s\n",
      "596:\tlearn: 1580.7041427\ttotal: 10.2s\tremaining: 6.89s\n",
      "597:\tlearn: 1580.5703565\ttotal: 10.2s\tremaining: 6.87s\n",
      "598:\tlearn: 1580.3866753\ttotal: 10.2s\tremaining: 6.86s\n",
      "599:\tlearn: 1580.3040215\ttotal: 10.3s\tremaining: 6.84s\n",
      "600:\tlearn: 1580.1787986\ttotal: 10.3s\tremaining: 6.82s\n",
      "601:\tlearn: 1580.0611593\ttotal: 10.3s\tremaining: 6.81s\n",
      "602:\tlearn: 1579.8634436\ttotal: 10.3s\tremaining: 6.79s\n",
      "603:\tlearn: 1579.7612481\ttotal: 10.3s\tremaining: 6.78s\n",
      "604:\tlearn: 1579.6691077\ttotal: 10.4s\tremaining: 6.76s\n",
      "605:\tlearn: 1579.4904478\ttotal: 10.4s\tremaining: 6.75s\n",
      "606:\tlearn: 1579.3370420\ttotal: 10.4s\tremaining: 6.74s\n",
      "607:\tlearn: 1579.2057736\ttotal: 10.4s\tremaining: 6.72s\n",
      "608:\tlearn: 1579.0301060\ttotal: 10.4s\tremaining: 6.71s\n",
      "609:\tlearn: 1578.8638588\ttotal: 10.5s\tremaining: 6.69s\n",
      "610:\tlearn: 1578.6448243\ttotal: 10.5s\tremaining: 6.67s\n",
      "611:\tlearn: 1578.3998616\ttotal: 10.5s\tremaining: 6.66s\n",
      "612:\tlearn: 1578.3103513\ttotal: 10.5s\tremaining: 6.64s\n",
      "613:\tlearn: 1578.2089549\ttotal: 10.5s\tremaining: 6.62s\n",
      "614:\tlearn: 1578.0912802\ttotal: 10.6s\tremaining: 6.61s\n",
      "615:\tlearn: 1577.9625192\ttotal: 10.6s\tremaining: 6.59s\n",
      "616:\tlearn: 1577.7067330\ttotal: 10.6s\tremaining: 6.58s\n",
      "617:\tlearn: 1577.4283498\ttotal: 10.6s\tremaining: 6.56s\n",
      "618:\tlearn: 1577.2205335\ttotal: 10.6s\tremaining: 6.55s\n",
      "619:\tlearn: 1577.1134086\ttotal: 10.7s\tremaining: 6.53s\n",
      "620:\tlearn: 1576.9784423\ttotal: 10.7s\tremaining: 6.52s\n",
      "621:\tlearn: 1576.9052054\ttotal: 10.7s\tremaining: 6.5s\n",
      "622:\tlearn: 1576.7641896\ttotal: 10.7s\tremaining: 6.49s\n",
      "623:\tlearn: 1576.6150604\ttotal: 10.7s\tremaining: 6.47s\n",
      "624:\tlearn: 1576.3508651\ttotal: 10.8s\tremaining: 6.46s\n",
      "625:\tlearn: 1576.1985314\ttotal: 10.8s\tremaining: 6.44s\n",
      "626:\tlearn: 1576.0147805\ttotal: 10.8s\tremaining: 6.42s\n",
      "627:\tlearn: 1575.9412075\ttotal: 10.8s\tremaining: 6.41s\n",
      "628:\tlearn: 1575.8273014\ttotal: 10.8s\tremaining: 6.39s\n",
      "629:\tlearn: 1575.6916714\ttotal: 10.9s\tremaining: 6.38s\n",
      "630:\tlearn: 1575.4173730\ttotal: 10.9s\tremaining: 6.36s\n",
      "631:\tlearn: 1575.2283481\ttotal: 10.9s\tremaining: 6.35s\n",
      "632:\tlearn: 1575.0757497\ttotal: 10.9s\tremaining: 6.33s\n",
      "633:\tlearn: 1575.0053914\ttotal: 10.9s\tremaining: 6.31s\n",
      "634:\tlearn: 1574.7912172\ttotal: 11s\tremaining: 6.3s\n",
      "635:\tlearn: 1574.6244461\ttotal: 11s\tremaining: 6.28s\n",
      "636:\tlearn: 1574.5319391\ttotal: 11s\tremaining: 6.27s\n",
      "637:\tlearn: 1574.4415228\ttotal: 11s\tremaining: 6.25s\n",
      "638:\tlearn: 1574.2905436\ttotal: 11s\tremaining: 6.24s\n",
      "639:\tlearn: 1574.1801056\ttotal: 11.1s\tremaining: 6.22s\n",
      "640:\tlearn: 1573.8455581\ttotal: 11.1s\tremaining: 6.2s\n",
      "641:\tlearn: 1573.6856657\ttotal: 11.1s\tremaining: 6.19s\n",
      "642:\tlearn: 1573.4666803\ttotal: 11.1s\tremaining: 6.17s\n",
      "643:\tlearn: 1573.3195463\ttotal: 11.1s\tremaining: 6.16s\n",
      "644:\tlearn: 1573.2139536\ttotal: 11.2s\tremaining: 6.14s\n",
      "645:\tlearn: 1573.0859643\ttotal: 11.2s\tremaining: 6.12s\n",
      "646:\tlearn: 1572.9048231\ttotal: 11.2s\tremaining: 6.1s\n",
      "647:\tlearn: 1572.7461310\ttotal: 11.2s\tremaining: 6.09s\n",
      "648:\tlearn: 1572.6491434\ttotal: 11.2s\tremaining: 6.07s\n",
      "649:\tlearn: 1572.5189370\ttotal: 11.2s\tremaining: 6.06s\n",
      "650:\tlearn: 1572.3623227\ttotal: 11.3s\tremaining: 6.04s\n",
      "651:\tlearn: 1572.2468040\ttotal: 11.3s\tremaining: 6.02s\n",
      "652:\tlearn: 1572.1598036\ttotal: 11.3s\tremaining: 6.01s\n",
      "653:\tlearn: 1572.0366717\ttotal: 11.3s\tremaining: 5.99s\n",
      "654:\tlearn: 1571.9399798\ttotal: 11.3s\tremaining: 5.97s\n",
      "655:\tlearn: 1571.8352039\ttotal: 11.4s\tremaining: 5.96s\n",
      "656:\tlearn: 1571.7223710\ttotal: 11.4s\tremaining: 5.94s\n",
      "657:\tlearn: 1571.4398735\ttotal: 11.4s\tremaining: 5.92s\n",
      "658:\tlearn: 1571.3023994\ttotal: 11.4s\tremaining: 5.91s\n",
      "659:\tlearn: 1571.1762507\ttotal: 11.4s\tremaining: 5.89s\n",
      "660:\tlearn: 1571.0062755\ttotal: 11.5s\tremaining: 5.88s\n",
      "661:\tlearn: 1570.7340814\ttotal: 11.5s\tremaining: 5.86s\n",
      "662:\tlearn: 1570.5029377\ttotal: 11.5s\tremaining: 5.84s\n",
      "663:\tlearn: 1570.1699881\ttotal: 11.5s\tremaining: 5.83s\n",
      "664:\tlearn: 1570.0374461\ttotal: 11.5s\tremaining: 5.81s\n",
      "665:\tlearn: 1569.9489781\ttotal: 11.6s\tremaining: 5.79s\n",
      "666:\tlearn: 1569.7106047\ttotal: 11.6s\tremaining: 5.78s\n",
      "667:\tlearn: 1569.5150251\ttotal: 11.6s\tremaining: 5.76s\n",
      "668:\tlearn: 1569.3656742\ttotal: 11.6s\tremaining: 5.74s\n",
      "669:\tlearn: 1569.3021286\ttotal: 11.6s\tremaining: 5.73s\n",
      "670:\tlearn: 1569.1932002\ttotal: 11.7s\tremaining: 5.71s\n",
      "671:\tlearn: 1569.0208019\ttotal: 11.7s\tremaining: 5.7s\n",
      "672:\tlearn: 1568.9385196\ttotal: 11.7s\tremaining: 5.68s\n",
      "673:\tlearn: 1568.8082624\ttotal: 11.7s\tremaining: 5.67s\n",
      "674:\tlearn: 1568.7022713\ttotal: 11.7s\tremaining: 5.65s\n",
      "675:\tlearn: 1568.6509842\ttotal: 11.8s\tremaining: 5.63s\n",
      "676:\tlearn: 1568.5143358\ttotal: 11.8s\tremaining: 5.62s\n",
      "677:\tlearn: 1568.3472359\ttotal: 11.8s\tremaining: 5.6s\n",
      "678:\tlearn: 1568.2750586\ttotal: 11.8s\tremaining: 5.58s\n",
      "679:\tlearn: 1568.1290338\ttotal: 11.8s\tremaining: 5.56s\n",
      "680:\tlearn: 1568.0017021\ttotal: 11.8s\tremaining: 5.55s\n",
      "681:\tlearn: 1567.8300061\ttotal: 11.9s\tremaining: 5.53s\n",
      "682:\tlearn: 1567.6338221\ttotal: 11.9s\tremaining: 5.52s\n",
      "683:\tlearn: 1567.4917248\ttotal: 11.9s\tremaining: 5.5s\n",
      "684:\tlearn: 1567.2501318\ttotal: 11.9s\tremaining: 5.48s\n",
      "685:\tlearn: 1567.0925909\ttotal: 11.9s\tremaining: 5.47s\n",
      "686:\tlearn: 1566.9362128\ttotal: 12s\tremaining: 5.45s\n",
      "687:\tlearn: 1566.8277766\ttotal: 12s\tremaining: 5.43s\n",
      "688:\tlearn: 1566.7159101\ttotal: 12s\tremaining: 5.42s\n",
      "689:\tlearn: 1566.5162386\ttotal: 12s\tremaining: 5.4s\n",
      "690:\tlearn: 1566.3832523\ttotal: 12s\tremaining: 5.39s\n",
      "691:\tlearn: 1566.1773520\ttotal: 12.1s\tremaining: 5.37s\n",
      "692:\tlearn: 1566.0410316\ttotal: 12.1s\tremaining: 5.35s\n",
      "693:\tlearn: 1565.8817382\ttotal: 12.1s\tremaining: 5.34s\n",
      "694:\tlearn: 1565.7558333\ttotal: 12.1s\tremaining: 5.32s\n",
      "695:\tlearn: 1565.5514673\ttotal: 12.1s\tremaining: 5.3s\n",
      "696:\tlearn: 1565.3386447\ttotal: 12.2s\tremaining: 5.29s\n",
      "697:\tlearn: 1565.1651576\ttotal: 12.2s\tremaining: 5.27s\n",
      "698:\tlearn: 1565.0529898\ttotal: 12.2s\tremaining: 5.25s\n",
      "699:\tlearn: 1564.8940810\ttotal: 12.2s\tremaining: 5.24s\n",
      "700:\tlearn: 1564.7403092\ttotal: 12.2s\tremaining: 5.22s\n",
      "701:\tlearn: 1564.4870414\ttotal: 12.3s\tremaining: 5.21s\n",
      "702:\tlearn: 1564.3423645\ttotal: 12.3s\tremaining: 5.19s\n",
      "703:\tlearn: 1564.1934541\ttotal: 12.3s\tremaining: 5.17s\n",
      "704:\tlearn: 1564.1014730\ttotal: 12.3s\tremaining: 5.16s\n",
      "705:\tlearn: 1563.9809190\ttotal: 12.3s\tremaining: 5.14s\n",
      "706:\tlearn: 1563.7678646\ttotal: 12.4s\tremaining: 5.12s\n",
      "707:\tlearn: 1563.6071671\ttotal: 12.4s\tremaining: 5.11s\n",
      "708:\tlearn: 1563.4600720\ttotal: 12.4s\tremaining: 5.09s\n",
      "709:\tlearn: 1563.3850899\ttotal: 12.4s\tremaining: 5.07s\n",
      "710:\tlearn: 1563.1394225\ttotal: 12.4s\tremaining: 5.05s\n",
      "711:\tlearn: 1562.9611668\ttotal: 12.5s\tremaining: 5.04s\n",
      "712:\tlearn: 1562.9013389\ttotal: 12.5s\tremaining: 5.02s\n",
      "713:\tlearn: 1562.7803341\ttotal: 12.5s\tremaining: 5s\n",
      "714:\tlearn: 1562.6458065\ttotal: 12.5s\tremaining: 4.99s\n",
      "715:\tlearn: 1562.5115390\ttotal: 12.5s\tremaining: 4.97s\n",
      "716:\tlearn: 1562.3696789\ttotal: 12.6s\tremaining: 4.96s\n",
      "717:\tlearn: 1562.2985444\ttotal: 12.6s\tremaining: 4.94s\n",
      "718:\tlearn: 1562.1021406\ttotal: 12.6s\tremaining: 4.92s\n",
      "719:\tlearn: 1561.9451649\ttotal: 12.6s\tremaining: 4.9s\n",
      "720:\tlearn: 1561.8073041\ttotal: 12.6s\tremaining: 4.89s\n",
      "721:\tlearn: 1561.5518379\ttotal: 12.6s\tremaining: 4.87s\n",
      "722:\tlearn: 1561.3650714\ttotal: 12.7s\tremaining: 4.85s\n",
      "723:\tlearn: 1561.2347314\ttotal: 12.7s\tremaining: 4.83s\n",
      "724:\tlearn: 1561.1341853\ttotal: 12.7s\tremaining: 4.82s\n",
      "725:\tlearn: 1560.9485298\ttotal: 12.7s\tremaining: 4.8s\n",
      "726:\tlearn: 1560.8179659\ttotal: 12.7s\tremaining: 4.79s\n",
      "727:\tlearn: 1560.6420373\ttotal: 12.8s\tremaining: 4.77s\n",
      "728:\tlearn: 1560.5368322\ttotal: 12.8s\tremaining: 4.75s\n",
      "729:\tlearn: 1560.4145817\ttotal: 12.8s\tremaining: 4.74s\n",
      "730:\tlearn: 1560.2554763\ttotal: 12.8s\tremaining: 4.72s\n",
      "731:\tlearn: 1560.1380567\ttotal: 12.8s\tremaining: 4.71s\n",
      "732:\tlearn: 1559.9556691\ttotal: 12.9s\tremaining: 4.69s\n",
      "733:\tlearn: 1559.7323931\ttotal: 12.9s\tremaining: 4.67s\n",
      "734:\tlearn: 1559.5808135\ttotal: 12.9s\tremaining: 4.66s\n",
      "735:\tlearn: 1559.4195916\ttotal: 12.9s\tremaining: 4.64s\n",
      "736:\tlearn: 1559.2773177\ttotal: 13s\tremaining: 4.63s\n",
      "737:\tlearn: 1559.1197188\ttotal: 13s\tremaining: 4.61s\n",
      "738:\tlearn: 1558.9909410\ttotal: 13s\tremaining: 4.59s\n",
      "739:\tlearn: 1558.7882265\ttotal: 13s\tremaining: 4.58s\n",
      "740:\tlearn: 1558.6521862\ttotal: 13s\tremaining: 4.56s\n",
      "741:\tlearn: 1558.4929969\ttotal: 13.1s\tremaining: 4.54s\n",
      "742:\tlearn: 1558.3972227\ttotal: 13.1s\tremaining: 4.52s\n",
      "743:\tlearn: 1558.3211163\ttotal: 13.1s\tremaining: 4.5s\n",
      "744:\tlearn: 1558.1286304\ttotal: 13.1s\tremaining: 4.48s\n",
      "745:\tlearn: 1557.9249561\ttotal: 13.1s\tremaining: 4.46s\n",
      "746:\tlearn: 1557.7589280\ttotal: 13.1s\tremaining: 4.45s\n",
      "747:\tlearn: 1557.6285374\ttotal: 13.1s\tremaining: 4.43s\n",
      "748:\tlearn: 1557.5535072\ttotal: 13.2s\tremaining: 4.41s\n",
      "749:\tlearn: 1557.4029157\ttotal: 13.2s\tremaining: 4.39s\n",
      "750:\tlearn: 1557.3143154\ttotal: 13.2s\tremaining: 4.38s\n",
      "751:\tlearn: 1557.1985853\ttotal: 13.2s\tremaining: 4.36s\n",
      "752:\tlearn: 1557.0409906\ttotal: 13.2s\tremaining: 4.34s\n",
      "753:\tlearn: 1556.9063920\ttotal: 13.2s\tremaining: 4.32s\n",
      "754:\tlearn: 1556.8244543\ttotal: 13.3s\tremaining: 4.3s\n",
      "755:\tlearn: 1556.7224607\ttotal: 13.3s\tremaining: 4.29s\n",
      "756:\tlearn: 1556.5623222\ttotal: 13.3s\tremaining: 4.27s\n",
      "757:\tlearn: 1556.4165978\ttotal: 13.3s\tremaining: 4.25s\n",
      "758:\tlearn: 1556.2935943\ttotal: 13.3s\tremaining: 4.24s\n",
      "759:\tlearn: 1556.1118477\ttotal: 13.4s\tremaining: 4.22s\n",
      "760:\tlearn: 1555.9338374\ttotal: 13.4s\tremaining: 4.2s\n",
      "761:\tlearn: 1555.8100092\ttotal: 13.4s\tremaining: 4.19s\n",
      "762:\tlearn: 1555.7138108\ttotal: 13.4s\tremaining: 4.17s\n",
      "763:\tlearn: 1555.5418016\ttotal: 13.4s\tremaining: 4.15s\n",
      "764:\tlearn: 1555.4678261\ttotal: 13.5s\tremaining: 4.14s\n",
      "765:\tlearn: 1555.3078668\ttotal: 13.5s\tremaining: 4.12s\n",
      "766:\tlearn: 1555.1761294\ttotal: 13.5s\tremaining: 4.1s\n",
      "767:\tlearn: 1555.0645002\ttotal: 13.5s\tremaining: 4.08s\n",
      "768:\tlearn: 1554.9142819\ttotal: 13.5s\tremaining: 4.06s\n",
      "769:\tlearn: 1554.8183673\ttotal: 13.5s\tremaining: 4.05s\n",
      "770:\tlearn: 1554.6255509\ttotal: 13.6s\tremaining: 4.03s\n",
      "771:\tlearn: 1554.5119770\ttotal: 13.6s\tremaining: 4.01s\n",
      "772:\tlearn: 1554.2994017\ttotal: 13.6s\tremaining: 3.99s\n",
      "773:\tlearn: 1554.1626072\ttotal: 13.6s\tremaining: 3.98s\n",
      "774:\tlearn: 1554.0562858\ttotal: 13.6s\tremaining: 3.96s\n",
      "775:\tlearn: 1553.9034789\ttotal: 13.6s\tremaining: 3.94s\n",
      "776:\tlearn: 1553.8329863\ttotal: 13.7s\tremaining: 3.92s\n",
      "777:\tlearn: 1553.6644694\ttotal: 13.7s\tremaining: 3.9s\n",
      "778:\tlearn: 1553.4226168\ttotal: 13.7s\tremaining: 3.88s\n",
      "779:\tlearn: 1553.3512746\ttotal: 13.7s\tremaining: 3.87s\n",
      "780:\tlearn: 1553.0352604\ttotal: 13.7s\tremaining: 3.85s\n",
      "781:\tlearn: 1552.8831504\ttotal: 13.7s\tremaining: 3.83s\n",
      "782:\tlearn: 1552.7142382\ttotal: 13.8s\tremaining: 3.81s\n",
      "783:\tlearn: 1552.6043598\ttotal: 13.8s\tremaining: 3.79s\n",
      "784:\tlearn: 1552.4174761\ttotal: 13.8s\tremaining: 3.78s\n",
      "785:\tlearn: 1552.3117290\ttotal: 13.8s\tremaining: 3.76s\n",
      "786:\tlearn: 1552.1784934\ttotal: 13.8s\tremaining: 3.74s\n",
      "787:\tlearn: 1552.0267177\ttotal: 13.8s\tremaining: 3.73s\n",
      "788:\tlearn: 1551.8674685\ttotal: 13.9s\tremaining: 3.71s\n",
      "789:\tlearn: 1551.6670037\ttotal: 13.9s\tremaining: 3.69s\n",
      "790:\tlearn: 1551.5922200\ttotal: 13.9s\tremaining: 3.67s\n",
      "791:\tlearn: 1551.4004593\ttotal: 13.9s\tremaining: 3.65s\n",
      "792:\tlearn: 1551.2329129\ttotal: 13.9s\tremaining: 3.64s\n",
      "793:\tlearn: 1551.0768570\ttotal: 13.9s\tremaining: 3.62s\n",
      "794:\tlearn: 1550.9428778\ttotal: 14s\tremaining: 3.6s\n",
      "795:\tlearn: 1550.9140377\ttotal: 14s\tremaining: 3.58s\n",
      "796:\tlearn: 1550.8386935\ttotal: 14s\tremaining: 3.57s\n",
      "797:\tlearn: 1550.7682909\ttotal: 14s\tremaining: 3.55s\n",
      "798:\tlearn: 1550.6300476\ttotal: 14s\tremaining: 3.53s\n",
      "799:\tlearn: 1550.4322104\ttotal: 14.1s\tremaining: 3.51s\n",
      "800:\tlearn: 1550.2696602\ttotal: 14.1s\tremaining: 3.5s\n",
      "801:\tlearn: 1550.1648036\ttotal: 14.1s\tremaining: 3.48s\n",
      "802:\tlearn: 1549.9996749\ttotal: 14.1s\tremaining: 3.46s\n",
      "803:\tlearn: 1549.8700521\ttotal: 14.1s\tremaining: 3.44s\n",
      "804:\tlearn: 1549.7020010\ttotal: 14.1s\tremaining: 3.42s\n",
      "805:\tlearn: 1549.5767153\ttotal: 14.2s\tremaining: 3.41s\n",
      "806:\tlearn: 1549.3868170\ttotal: 14.2s\tremaining: 3.39s\n",
      "807:\tlearn: 1549.0504354\ttotal: 14.2s\tremaining: 3.37s\n",
      "808:\tlearn: 1548.9836861\ttotal: 14.2s\tremaining: 3.35s\n",
      "809:\tlearn: 1548.9090315\ttotal: 14.2s\tremaining: 3.33s\n",
      "810:\tlearn: 1548.8327450\ttotal: 14.2s\tremaining: 3.32s\n",
      "811:\tlearn: 1548.7014442\ttotal: 14.3s\tremaining: 3.3s\n",
      "812:\tlearn: 1548.5510094\ttotal: 14.3s\tremaining: 3.28s\n",
      "813:\tlearn: 1548.4950566\ttotal: 14.3s\tremaining: 3.27s\n",
      "814:\tlearn: 1548.2207934\ttotal: 14.3s\tremaining: 3.25s\n",
      "815:\tlearn: 1548.0870435\ttotal: 14.3s\tremaining: 3.23s\n",
      "816:\tlearn: 1548.0063424\ttotal: 14.4s\tremaining: 3.22s\n",
      "817:\tlearn: 1547.7956792\ttotal: 14.4s\tremaining: 3.2s\n",
      "818:\tlearn: 1547.7733950\ttotal: 14.4s\tremaining: 3.18s\n",
      "819:\tlearn: 1547.7138880\ttotal: 14.4s\tremaining: 3.16s\n",
      "820:\tlearn: 1547.5965268\ttotal: 14.4s\tremaining: 3.15s\n",
      "821:\tlearn: 1547.4789922\ttotal: 14.4s\tremaining: 3.13s\n",
      "822:\tlearn: 1547.4055540\ttotal: 14.5s\tremaining: 3.11s\n",
      "823:\tlearn: 1547.2530326\ttotal: 14.5s\tremaining: 3.09s\n",
      "824:\tlearn: 1547.1747252\ttotal: 14.5s\tremaining: 3.08s\n",
      "825:\tlearn: 1547.0942764\ttotal: 14.5s\tremaining: 3.06s\n",
      "826:\tlearn: 1547.0103069\ttotal: 14.5s\tremaining: 3.04s\n",
      "827:\tlearn: 1546.7807328\ttotal: 14.6s\tremaining: 3.02s\n",
      "828:\tlearn: 1546.6716223\ttotal: 14.6s\tremaining: 3s\n",
      "829:\tlearn: 1546.6048231\ttotal: 14.6s\tremaining: 2.99s\n",
      "830:\tlearn: 1546.5122664\ttotal: 14.6s\tremaining: 2.97s\n",
      "831:\tlearn: 1546.3937798\ttotal: 14.6s\tremaining: 2.95s\n",
      "832:\tlearn: 1546.2081628\ttotal: 14.6s\tremaining: 2.93s\n",
      "833:\tlearn: 1546.0437487\ttotal: 14.6s\tremaining: 2.92s\n",
      "834:\tlearn: 1545.9228591\ttotal: 14.7s\tremaining: 2.9s\n",
      "835:\tlearn: 1545.7972684\ttotal: 14.7s\tremaining: 2.88s\n",
      "836:\tlearn: 1545.6625569\ttotal: 14.7s\tremaining: 2.86s\n",
      "837:\tlearn: 1545.5495546\ttotal: 14.7s\tremaining: 2.85s\n",
      "838:\tlearn: 1545.4043287\ttotal: 14.7s\tremaining: 2.83s\n",
      "839:\tlearn: 1545.3054506\ttotal: 14.8s\tremaining: 2.81s\n",
      "840:\tlearn: 1545.2730924\ttotal: 14.8s\tremaining: 2.79s\n",
      "841:\tlearn: 1545.1128808\ttotal: 14.8s\tremaining: 2.77s\n",
      "842:\tlearn: 1544.9409627\ttotal: 14.8s\tremaining: 2.76s\n",
      "843:\tlearn: 1544.8407242\ttotal: 14.8s\tremaining: 2.74s\n",
      "844:\tlearn: 1544.7088746\ttotal: 14.8s\tremaining: 2.72s\n",
      "845:\tlearn: 1544.5376799\ttotal: 14.8s\tremaining: 2.7s\n",
      "846:\tlearn: 1544.3729499\ttotal: 14.9s\tremaining: 2.69s\n",
      "847:\tlearn: 1544.2929742\ttotal: 14.9s\tremaining: 2.67s\n",
      "848:\tlearn: 1544.1792666\ttotal: 14.9s\tremaining: 2.65s\n",
      "849:\tlearn: 1544.1103048\ttotal: 14.9s\tremaining: 2.63s\n",
      "850:\tlearn: 1544.0398433\ttotal: 14.9s\tremaining: 2.62s\n",
      "851:\tlearn: 1543.9452471\ttotal: 14.9s\tremaining: 2.6s\n",
      "852:\tlearn: 1543.8524569\ttotal: 15s\tremaining: 2.58s\n",
      "853:\tlearn: 1543.7581865\ttotal: 15s\tremaining: 2.56s\n",
      "854:\tlearn: 1543.6206677\ttotal: 15s\tremaining: 2.54s\n",
      "855:\tlearn: 1543.5122047\ttotal: 15s\tremaining: 2.53s\n",
      "856:\tlearn: 1543.4140607\ttotal: 15s\tremaining: 2.51s\n",
      "857:\tlearn: 1543.3537509\ttotal: 15.1s\tremaining: 2.49s\n",
      "858:\tlearn: 1543.1302658\ttotal: 15.1s\tremaining: 2.47s\n",
      "859:\tlearn: 1543.0427793\ttotal: 15.1s\tremaining: 2.46s\n",
      "860:\tlearn: 1542.9181935\ttotal: 15.1s\tremaining: 2.44s\n",
      "861:\tlearn: 1542.7556870\ttotal: 15.1s\tremaining: 2.42s\n",
      "862:\tlearn: 1542.6221507\ttotal: 15.1s\tremaining: 2.4s\n",
      "863:\tlearn: 1542.4828097\ttotal: 15.2s\tremaining: 2.39s\n",
      "864:\tlearn: 1542.4226649\ttotal: 15.2s\tremaining: 2.37s\n",
      "865:\tlearn: 1542.3611391\ttotal: 15.2s\tremaining: 2.35s\n",
      "866:\tlearn: 1542.2154568\ttotal: 15.2s\tremaining: 2.33s\n",
      "867:\tlearn: 1542.0251756\ttotal: 15.2s\tremaining: 2.31s\n",
      "868:\tlearn: 1541.9244470\ttotal: 15.2s\tremaining: 2.3s\n",
      "869:\tlearn: 1541.8009295\ttotal: 15.3s\tremaining: 2.28s\n",
      "870:\tlearn: 1541.6844052\ttotal: 15.3s\tremaining: 2.26s\n",
      "871:\tlearn: 1541.5457191\ttotal: 15.3s\tremaining: 2.24s\n",
      "872:\tlearn: 1541.4481459\ttotal: 15.3s\tremaining: 2.23s\n",
      "873:\tlearn: 1541.2933591\ttotal: 15.3s\tremaining: 2.21s\n",
      "874:\tlearn: 1541.1951101\ttotal: 15.3s\tremaining: 2.19s\n",
      "875:\tlearn: 1541.0760224\ttotal: 15.4s\tremaining: 2.17s\n",
      "876:\tlearn: 1541.0183007\ttotal: 15.4s\tremaining: 2.16s\n",
      "877:\tlearn: 1540.9000275\ttotal: 15.4s\tremaining: 2.14s\n",
      "878:\tlearn: 1540.8099131\ttotal: 15.4s\tremaining: 2.12s\n",
      "879:\tlearn: 1540.6643645\ttotal: 15.4s\tremaining: 2.1s\n",
      "880:\tlearn: 1540.5680759\ttotal: 15.4s\tremaining: 2.08s\n",
      "881:\tlearn: 1540.4648192\ttotal: 15.5s\tremaining: 2.07s\n",
      "882:\tlearn: 1540.3631337\ttotal: 15.5s\tremaining: 2.05s\n",
      "883:\tlearn: 1540.2472970\ttotal: 15.5s\tremaining: 2.03s\n",
      "884:\tlearn: 1540.0582005\ttotal: 15.5s\tremaining: 2.01s\n",
      "885:\tlearn: 1539.8955938\ttotal: 15.5s\tremaining: 2s\n",
      "886:\tlearn: 1539.7867590\ttotal: 15.5s\tremaining: 1.98s\n",
      "887:\tlearn: 1539.6222308\ttotal: 15.6s\tremaining: 1.96s\n",
      "888:\tlearn: 1539.4741982\ttotal: 15.6s\tremaining: 1.94s\n",
      "889:\tlearn: 1539.3444189\ttotal: 15.6s\tremaining: 1.93s\n",
      "890:\tlearn: 1539.2077203\ttotal: 15.6s\tremaining: 1.91s\n",
      "891:\tlearn: 1539.0674521\ttotal: 15.6s\tremaining: 1.89s\n",
      "892:\tlearn: 1539.0181499\ttotal: 15.7s\tremaining: 1.88s\n",
      "893:\tlearn: 1538.9004829\ttotal: 15.7s\tremaining: 1.86s\n",
      "894:\tlearn: 1538.7649806\ttotal: 15.7s\tremaining: 1.84s\n",
      "895:\tlearn: 1538.5881547\ttotal: 15.7s\tremaining: 1.82s\n",
      "896:\tlearn: 1538.5305569\ttotal: 15.7s\tremaining: 1.8s\n",
      "897:\tlearn: 1538.4762452\ttotal: 15.7s\tremaining: 1.79s\n",
      "898:\tlearn: 1538.3511612\ttotal: 15.8s\tremaining: 1.77s\n",
      "899:\tlearn: 1538.2476115\ttotal: 15.8s\tremaining: 1.75s\n",
      "900:\tlearn: 1538.1053103\ttotal: 15.8s\tremaining: 1.74s\n",
      "901:\tlearn: 1537.9780568\ttotal: 15.8s\tremaining: 1.72s\n",
      "902:\tlearn: 1537.9241900\ttotal: 15.8s\tremaining: 1.7s\n",
      "903:\tlearn: 1537.8104043\ttotal: 15.8s\tremaining: 1.68s\n",
      "904:\tlearn: 1537.7278700\ttotal: 15.9s\tremaining: 1.67s\n",
      "905:\tlearn: 1537.5614263\ttotal: 15.9s\tremaining: 1.65s\n",
      "906:\tlearn: 1537.4291465\ttotal: 15.9s\tremaining: 1.63s\n",
      "907:\tlearn: 1537.3701410\ttotal: 15.9s\tremaining: 1.61s\n",
      "908:\tlearn: 1537.2498089\ttotal: 15.9s\tremaining: 1.59s\n",
      "909:\tlearn: 1537.1522857\ttotal: 16s\tremaining: 1.58s\n",
      "910:\tlearn: 1537.1022931\ttotal: 16s\tremaining: 1.56s\n",
      "911:\tlearn: 1536.9969140\ttotal: 16s\tremaining: 1.54s\n",
      "912:\tlearn: 1536.8820723\ttotal: 16s\tremaining: 1.52s\n",
      "913:\tlearn: 1536.7363020\ttotal: 16s\tremaining: 1.51s\n",
      "914:\tlearn: 1536.6057833\ttotal: 16s\tremaining: 1.49s\n",
      "915:\tlearn: 1536.4418271\ttotal: 16.1s\tremaining: 1.47s\n",
      "916:\tlearn: 1536.3813070\ttotal: 16.1s\tremaining: 1.46s\n",
      "917:\tlearn: 1536.3440874\ttotal: 16.1s\tremaining: 1.44s\n",
      "918:\tlearn: 1536.2726215\ttotal: 16.1s\tremaining: 1.42s\n",
      "919:\tlearn: 1536.2030948\ttotal: 16.1s\tremaining: 1.4s\n",
      "920:\tlearn: 1536.1103411\ttotal: 16.1s\tremaining: 1.38s\n",
      "921:\tlearn: 1536.0569504\ttotal: 16.2s\tremaining: 1.37s\n",
      "922:\tlearn: 1536.0088547\ttotal: 16.2s\tremaining: 1.35s\n",
      "923:\tlearn: 1535.8926544\ttotal: 16.2s\tremaining: 1.33s\n",
      "924:\tlearn: 1535.7870492\ttotal: 16.2s\tremaining: 1.31s\n",
      "925:\tlearn: 1535.6978789\ttotal: 16.2s\tremaining: 1.29s\n",
      "926:\tlearn: 1535.6004184\ttotal: 16.2s\tremaining: 1.28s\n",
      "927:\tlearn: 1535.4845483\ttotal: 16.3s\tremaining: 1.26s\n",
      "928:\tlearn: 1535.4070645\ttotal: 16.3s\tremaining: 1.24s\n",
      "929:\tlearn: 1535.3687553\ttotal: 16.3s\tremaining: 1.23s\n",
      "930:\tlearn: 1535.2482400\ttotal: 16.3s\tremaining: 1.21s\n",
      "931:\tlearn: 1535.2162871\ttotal: 16.3s\tremaining: 1.19s\n",
      "932:\tlearn: 1535.0989018\ttotal: 16.3s\tremaining: 1.17s\n",
      "933:\tlearn: 1534.9190472\ttotal: 16.4s\tremaining: 1.16s\n",
      "934:\tlearn: 1534.9023794\ttotal: 16.4s\tremaining: 1.14s\n",
      "935:\tlearn: 1534.7687265\ttotal: 16.4s\tremaining: 1.12s\n",
      "936:\tlearn: 1534.6527191\ttotal: 16.4s\tremaining: 1.1s\n",
      "937:\tlearn: 1534.5577818\ttotal: 16.4s\tremaining: 1.08s\n",
      "938:\tlearn: 1534.4388684\ttotal: 16.4s\tremaining: 1.07s\n",
      "939:\tlearn: 1534.3993571\ttotal: 16.4s\tremaining: 1.05s\n",
      "940:\tlearn: 1534.1426955\ttotal: 16.5s\tremaining: 1.03s\n",
      "941:\tlearn: 1534.0833470\ttotal: 16.5s\tremaining: 1.01s\n",
      "942:\tlearn: 1533.9659450\ttotal: 16.5s\tremaining: 997ms\n",
      "943:\tlearn: 1533.8651716\ttotal: 16.5s\tremaining: 979ms\n",
      "944:\tlearn: 1533.6717344\ttotal: 16.5s\tremaining: 962ms\n",
      "945:\tlearn: 1533.4908347\ttotal: 16.5s\tremaining: 945ms\n",
      "946:\tlearn: 1533.4293250\ttotal: 16.6s\tremaining: 927ms\n",
      "947:\tlearn: 1533.3018239\ttotal: 16.6s\tremaining: 910ms\n",
      "948:\tlearn: 1533.1237221\ttotal: 16.6s\tremaining: 892ms\n",
      "949:\tlearn: 1532.9645723\ttotal: 16.6s\tremaining: 875ms\n",
      "950:\tlearn: 1532.8080713\ttotal: 16.6s\tremaining: 857ms\n",
      "951:\tlearn: 1532.7404199\ttotal: 16.7s\tremaining: 840ms\n",
      "952:\tlearn: 1532.6424309\ttotal: 16.7s\tremaining: 822ms\n",
      "953:\tlearn: 1532.5528394\ttotal: 16.7s\tremaining: 805ms\n",
      "954:\tlearn: 1532.4549151\ttotal: 16.7s\tremaining: 787ms\n",
      "955:\tlearn: 1532.3917652\ttotal: 16.7s\tremaining: 770ms\n",
      "956:\tlearn: 1532.3025663\ttotal: 16.7s\tremaining: 752ms\n",
      "957:\tlearn: 1532.2324148\ttotal: 16.8s\tremaining: 735ms\n",
      "958:\tlearn: 1532.1077701\ttotal: 16.8s\tremaining: 717ms\n",
      "959:\tlearn: 1531.9796000\ttotal: 16.8s\tremaining: 700ms\n",
      "960:\tlearn: 1531.8322597\ttotal: 16.8s\tremaining: 682ms\n",
      "961:\tlearn: 1531.6598753\ttotal: 16.8s\tremaining: 664ms\n",
      "962:\tlearn: 1531.5997836\ttotal: 16.8s\tremaining: 647ms\n",
      "963:\tlearn: 1531.4937335\ttotal: 16.9s\tremaining: 629ms\n",
      "964:\tlearn: 1531.3677394\ttotal: 16.9s\tremaining: 612ms\n",
      "965:\tlearn: 1531.2326570\ttotal: 16.9s\tremaining: 594ms\n",
      "966:\tlearn: 1531.2064839\ttotal: 16.9s\tremaining: 577ms\n",
      "967:\tlearn: 1531.1192176\ttotal: 16.9s\tremaining: 559ms\n",
      "968:\tlearn: 1531.0107702\ttotal: 16.9s\tremaining: 542ms\n",
      "969:\tlearn: 1530.8999378\ttotal: 17s\tremaining: 524ms\n",
      "970:\tlearn: 1530.7732387\ttotal: 17s\tremaining: 507ms\n",
      "971:\tlearn: 1530.7242131\ttotal: 17s\tremaining: 489ms\n",
      "972:\tlearn: 1530.6222081\ttotal: 17s\tremaining: 472ms\n",
      "973:\tlearn: 1530.4934148\ttotal: 17s\tremaining: 454ms\n",
      "974:\tlearn: 1530.3664943\ttotal: 17s\tremaining: 437ms\n",
      "975:\tlearn: 1530.2668143\ttotal: 17.1s\tremaining: 419ms\n",
      "976:\tlearn: 1530.1462553\ttotal: 17.1s\tremaining: 402ms\n",
      "977:\tlearn: 1530.0539211\ttotal: 17.1s\tremaining: 384ms\n",
      "978:\tlearn: 1529.9560935\ttotal: 17.1s\tremaining: 367ms\n",
      "979:\tlearn: 1529.8747563\ttotal: 17.1s\tremaining: 350ms\n",
      "980:\tlearn: 1529.7812280\ttotal: 17.1s\tremaining: 332ms\n",
      "981:\tlearn: 1529.7029703\ttotal: 17.2s\tremaining: 315ms\n",
      "982:\tlearn: 1529.6387632\ttotal: 17.2s\tremaining: 297ms\n",
      "983:\tlearn: 1529.6072182\ttotal: 17.2s\tremaining: 280ms\n",
      "984:\tlearn: 1529.5263665\ttotal: 17.2s\tremaining: 262ms\n",
      "985:\tlearn: 1529.4123973\ttotal: 17.2s\tremaining: 245ms\n",
      "986:\tlearn: 1529.2642192\ttotal: 17.2s\tremaining: 227ms\n",
      "987:\tlearn: 1529.1369328\ttotal: 17.3s\tremaining: 210ms\n",
      "988:\tlearn: 1529.0323072\ttotal: 17.3s\tremaining: 192ms\n",
      "989:\tlearn: 1528.9543208\ttotal: 17.3s\tremaining: 175ms\n",
      "990:\tlearn: 1528.8485516\ttotal: 17.3s\tremaining: 157ms\n",
      "991:\tlearn: 1528.7826966\ttotal: 17.3s\tremaining: 140ms\n",
      "992:\tlearn: 1528.6896669\ttotal: 17.3s\tremaining: 122ms\n",
      "993:\tlearn: 1528.6039022\ttotal: 17.4s\tremaining: 105ms\n",
      "994:\tlearn: 1528.5220868\ttotal: 17.4s\tremaining: 87.4ms\n",
      "995:\tlearn: 1528.4066658\ttotal: 17.4s\tremaining: 69.9ms\n",
      "996:\tlearn: 1528.3719993\ttotal: 17.4s\tremaining: 52.4ms\n",
      "997:\tlearn: 1528.2206158\ttotal: 17.4s\tremaining: 34.9ms\n",
      "998:\tlearn: 1528.0961122\ttotal: 17.4s\tremaining: 17.5ms\n",
      "999:\tlearn: 1528.0056887\ttotal: 17.5s\tremaining: 0us\n",
      "Test RMSE: 1646.542144684609\n"
     ]
    }
   ],
   "source": [
    "best_model = CatBoostRegressor(**best_params_cb)\n",
    "best_model.fit(features_train_final, target_train)   \n",
    "\n",
    "predictions = best_model.predict(features_test_final)\n",
    "\n",
    "mse = mean_squared_error(target_test, predictions)\n",
    "rmse = np.sqrt(mse)\n",
    "\n",
    "print('Test RMSE:', rmse)"
   ]
  },
  {
   "cell_type": "markdown",
   "metadata": {},
   "source": [
    "Сравниваем с константной моделью"
   ]
  },
  {
   "cell_type": "code",
   "execution_count": 33,
   "metadata": {},
   "outputs": [
    {
     "name": "stdout",
     "output_type": "stream",
     "text": [
      "Test RMSE: 4449.668262952527\n"
     ]
    }
   ],
   "source": [
    "dummy_model = DummyRegressor(strategy='mean')\n",
    "dummy_model.fit(features_train_final, target_train)\n",
    "\n",
    "predictions = dummy_model.predict(features_test_final)\n",
    "\n",
    "rmse_dummy = mean_squared_error(target_test, predictions, squared=False)\n",
    "\n",
    "print('Test RMSE:', rmse_dummy)"
   ]
  },
  {
   "cell_type": "markdown",
   "metadata": {},
   "source": [
    "Наша модель все таки горазда лучше."
   ]
  }
 ],
 "metadata": {
  "ExecuteTimeLog": [
   {
    "duration": 431,
    "start_time": "2023-07-04T20:41:19.928Z"
   },
   {
    "duration": 3003,
    "start_time": "2023-07-04T20:48:42.834Z"
   },
   {
    "duration": 1652,
    "start_time": "2023-07-04T20:53:04.128Z"
   },
   {
    "duration": 155,
    "start_time": "2023-07-04T20:53:23.238Z"
   },
   {
    "duration": 118,
    "start_time": "2023-07-04T20:53:31.196Z"
   },
   {
    "duration": 1784,
    "start_time": "2023-07-05T09:14:43.395Z"
   },
   {
    "duration": 2982,
    "start_time": "2023-07-05T09:14:45.181Z"
   },
   {
    "duration": 145,
    "start_time": "2023-07-05T09:14:48.165Z"
   },
   {
    "duration": 493,
    "start_time": "2023-07-05T09:15:11.576Z"
   },
   {
    "duration": 500,
    "start_time": "2023-07-05T09:15:15.649Z"
   },
   {
    "duration": 495,
    "start_time": "2023-07-05T09:15:38.098Z"
   },
   {
    "duration": 573,
    "start_time": "2023-07-05T09:15:54.992Z"
   },
   {
    "duration": 979,
    "start_time": "2023-07-05T09:15:58.752Z"
   },
   {
    "duration": 95,
    "start_time": "2023-07-05T09:16:23.216Z"
   },
   {
    "duration": 138,
    "start_time": "2023-07-05T09:16:39.456Z"
   },
   {
    "duration": 132,
    "start_time": "2023-07-05T09:16:44.272Z"
   },
   {
    "duration": 1679,
    "start_time": "2023-07-05T09:19:47.041Z"
   },
   {
    "duration": 891,
    "start_time": "2023-07-05T09:19:48.722Z"
   },
   {
    "duration": 152,
    "start_time": "2023-07-05T09:19:49.616Z"
   },
   {
    "duration": 492,
    "start_time": "2023-07-05T09:19:49.771Z"
   },
   {
    "duration": 1037,
    "start_time": "2023-07-05T09:19:50.265Z"
   },
   {
    "duration": 147,
    "start_time": "2023-07-05T09:19:51.304Z"
   },
   {
    "duration": 122,
    "start_time": "2023-07-05T09:19:51.454Z"
   },
   {
    "duration": 6,
    "start_time": "2023-07-05T09:21:25.646Z"
   },
   {
    "duration": 14,
    "start_time": "2023-07-05T09:21:34.531Z"
   },
   {
    "duration": 6,
    "start_time": "2023-07-05T09:21:37.694Z"
   },
   {
    "duration": 139,
    "start_time": "2023-07-05T09:24:01.686Z"
   },
   {
    "duration": 137,
    "start_time": "2023-07-05T09:30:00.636Z"
   },
   {
    "duration": 70,
    "start_time": "2023-07-05T09:30:19.782Z"
   },
   {
    "duration": 133,
    "start_time": "2023-07-05T09:30:22.099Z"
   },
   {
    "duration": 134,
    "start_time": "2023-07-05T09:30:33.683Z"
   },
   {
    "duration": 140,
    "start_time": "2023-07-05T09:30:46.450Z"
   },
   {
    "duration": 145,
    "start_time": "2023-07-05T09:31:02.299Z"
   },
   {
    "duration": 130,
    "start_time": "2023-07-05T09:31:11.202Z"
   },
   {
    "duration": 194,
    "start_time": "2023-07-05T09:31:35.395Z"
   },
   {
    "duration": 205,
    "start_time": "2023-07-05T09:32:05.249Z"
   },
   {
    "duration": 228,
    "start_time": "2023-07-05T09:32:51.497Z"
   },
   {
    "duration": 224,
    "start_time": "2023-07-05T09:32:55.321Z"
   },
   {
    "duration": 36,
    "start_time": "2023-07-05T09:59:47.121Z"
   },
   {
    "duration": 17,
    "start_time": "2023-07-05T09:59:53.366Z"
   },
   {
    "duration": 14,
    "start_time": "2023-07-05T09:59:55.507Z"
   },
   {
    "duration": 20,
    "start_time": "2023-07-05T10:00:08.146Z"
   },
   {
    "duration": 1685,
    "start_time": "2023-07-05T10:00:31.693Z"
   },
   {
    "duration": 931,
    "start_time": "2023-07-05T10:00:33.380Z"
   },
   {
    "duration": 171,
    "start_time": "2023-07-05T10:00:34.313Z"
   },
   {
    "duration": 509,
    "start_time": "2023-07-05T10:00:34.486Z"
   },
   {
    "duration": 1092,
    "start_time": "2023-07-05T10:00:34.997Z"
   },
   {
    "duration": 140,
    "start_time": "2023-07-05T10:00:36.090Z"
   },
   {
    "duration": 147,
    "start_time": "2023-07-05T10:00:36.232Z"
   },
   {
    "duration": 263,
    "start_time": "2023-07-05T10:00:36.380Z"
   },
   {
    "duration": 9,
    "start_time": "2023-07-05T10:00:36.645Z"
   },
   {
    "duration": 39,
    "start_time": "2023-07-05T10:00:36.656Z"
   },
   {
    "duration": 36,
    "start_time": "2023-07-05T10:00:48.066Z"
   },
   {
    "duration": 1708,
    "start_time": "2023-07-05T14:02:10.958Z"
   },
   {
    "duration": 944,
    "start_time": "2023-07-05T14:02:12.668Z"
   },
   {
    "duration": 152,
    "start_time": "2023-07-05T14:02:13.614Z"
   },
   {
    "duration": 523,
    "start_time": "2023-07-05T14:02:13.769Z"
   },
   {
    "duration": 1122,
    "start_time": "2023-07-05T14:02:14.293Z"
   },
   {
    "duration": 144,
    "start_time": "2023-07-05T14:02:15.418Z"
   },
   {
    "duration": 143,
    "start_time": "2023-07-05T14:02:15.564Z"
   },
   {
    "duration": 256,
    "start_time": "2023-07-05T14:02:15.709Z"
   },
   {
    "duration": 9,
    "start_time": "2023-07-05T14:02:15.968Z"
   },
   {
    "duration": 59,
    "start_time": "2023-07-05T14:02:15.979Z"
   },
   {
    "duration": 80,
    "start_time": "2023-07-05T14:02:34.537Z"
   },
   {
    "duration": 184,
    "start_time": "2023-07-05T14:05:35.792Z"
   },
   {
    "duration": 169,
    "start_time": "2023-07-05T14:06:11.871Z"
   },
   {
    "duration": 165,
    "start_time": "2023-07-05T14:06:34.416Z"
   },
   {
    "duration": 133,
    "start_time": "2023-07-05T14:07:10.168Z"
   },
   {
    "duration": 12,
    "start_time": "2023-07-05T14:07:12.656Z"
   },
   {
    "duration": 160,
    "start_time": "2023-07-05T14:07:20.112Z"
   },
   {
    "duration": 1675,
    "start_time": "2023-07-05T14:07:30.889Z"
   },
   {
    "duration": 915,
    "start_time": "2023-07-05T14:07:32.567Z"
   },
   {
    "duration": 159,
    "start_time": "2023-07-05T14:07:33.484Z"
   },
   {
    "duration": 510,
    "start_time": "2023-07-05T14:07:33.645Z"
   },
   {
    "duration": 1075,
    "start_time": "2023-07-05T14:07:34.157Z"
   },
   {
    "duration": 142,
    "start_time": "2023-07-05T14:07:35.234Z"
   },
   {
    "duration": 145,
    "start_time": "2023-07-05T14:07:35.378Z"
   },
   {
    "duration": 259,
    "start_time": "2023-07-05T14:07:35.525Z"
   },
   {
    "duration": 8,
    "start_time": "2023-07-05T14:07:35.786Z"
   },
   {
    "duration": 62,
    "start_time": "2023-07-05T14:07:35.795Z"
   },
   {
    "duration": 134,
    "start_time": "2023-07-05T14:07:35.859Z"
   },
   {
    "duration": 185,
    "start_time": "2023-07-05T14:07:49.202Z"
   },
   {
    "duration": 74,
    "start_time": "2023-07-05T14:08:50.219Z"
   },
   {
    "duration": 167,
    "start_time": "2023-07-05T14:08:53.634Z"
   },
   {
    "duration": 214,
    "start_time": "2023-07-05T14:09:03.681Z"
   },
   {
    "duration": 249,
    "start_time": "2023-07-05T14:09:06.345Z"
   },
   {
    "duration": 345,
    "start_time": "2023-07-05T14:09:13.042Z"
   },
   {
    "duration": 16,
    "start_time": "2023-07-05T14:25:32.551Z"
   },
   {
    "duration": 131,
    "start_time": "2023-07-05T14:25:37.142Z"
   },
   {
    "duration": 140,
    "start_time": "2023-07-05T14:25:40.638Z"
   },
   {
    "duration": 142,
    "start_time": "2023-07-05T14:25:49.133Z"
   },
   {
    "duration": 1430,
    "start_time": "2023-07-05T14:26:06.191Z"
   },
   {
    "duration": 4,
    "start_time": "2023-07-05T14:26:20.279Z"
   },
   {
    "duration": 2176,
    "start_time": "2023-07-05T14:26:35.966Z"
   },
   {
    "duration": 7,
    "start_time": "2023-07-05T14:28:23.206Z"
   },
   {
    "duration": 2166,
    "start_time": "2023-07-05T14:28:25.221Z"
   },
   {
    "duration": 7,
    "start_time": "2023-07-05T14:28:55.518Z"
   },
   {
    "duration": 2072,
    "start_time": "2023-07-05T14:28:59.005Z"
   },
   {
    "duration": 6,
    "start_time": "2023-07-05T14:29:48.247Z"
   },
   {
    "duration": 7,
    "start_time": "2023-07-05T14:30:02.421Z"
   },
   {
    "duration": 2181,
    "start_time": "2023-07-05T14:30:03.466Z"
   },
   {
    "duration": 2524,
    "start_time": "2023-07-05T14:31:56.485Z"
   },
   {
    "duration": 16,
    "start_time": "2023-07-05T14:34:59.356Z"
   },
   {
    "duration": 15,
    "start_time": "2023-07-05T14:35:01.276Z"
   },
   {
    "duration": 14,
    "start_time": "2023-07-05T14:35:06.179Z"
   },
   {
    "duration": 3821,
    "start_time": "2023-07-05T14:35:13.275Z"
   },
   {
    "duration": 1738,
    "start_time": "2023-07-05T14:38:55.522Z"
   },
   {
    "duration": 1047,
    "start_time": "2023-07-05T14:38:57.263Z"
   },
   {
    "duration": 182,
    "start_time": "2023-07-05T14:38:58.312Z"
   },
   {
    "duration": 545,
    "start_time": "2023-07-05T14:38:58.496Z"
   },
   {
    "duration": 1164,
    "start_time": "2023-07-05T14:38:59.043Z"
   },
   {
    "duration": 162,
    "start_time": "2023-07-05T14:39:00.209Z"
   },
   {
    "duration": 161,
    "start_time": "2023-07-05T14:39:00.373Z"
   },
   {
    "duration": 284,
    "start_time": "2023-07-05T14:39:00.535Z"
   },
   {
    "duration": 7,
    "start_time": "2023-07-05T14:39:00.820Z"
   },
   {
    "duration": 106,
    "start_time": "2023-07-05T14:39:00.829Z"
   },
   {
    "duration": 186,
    "start_time": "2023-07-05T14:39:00.937Z"
   },
   {
    "duration": 413,
    "start_time": "2023-07-05T14:39:01.125Z"
   },
   {
    "duration": 101,
    "start_time": "2023-07-05T14:39:01.541Z"
   },
   {
    "duration": 1829,
    "start_time": "2023-07-05T14:40:16.792Z"
   },
   {
    "duration": 964,
    "start_time": "2023-07-05T14:40:18.623Z"
   },
   {
    "duration": 152,
    "start_time": "2023-07-05T14:40:19.589Z"
   },
   {
    "duration": 560,
    "start_time": "2023-07-05T14:40:19.742Z"
   },
   {
    "duration": 1162,
    "start_time": "2023-07-05T14:40:20.304Z"
   },
   {
    "duration": 147,
    "start_time": "2023-07-05T14:40:21.470Z"
   },
   {
    "duration": 166,
    "start_time": "2023-07-05T14:40:21.619Z"
   },
   {
    "duration": 278,
    "start_time": "2023-07-05T14:40:21.787Z"
   },
   {
    "duration": 7,
    "start_time": "2023-07-05T14:40:22.070Z"
   },
   {
    "duration": 45,
    "start_time": "2023-07-05T14:40:22.078Z"
   },
   {
    "duration": 188,
    "start_time": "2023-07-05T14:40:22.124Z"
   },
   {
    "duration": 433,
    "start_time": "2023-07-05T14:40:22.313Z"
   },
   {
    "duration": 99,
    "start_time": "2023-07-05T14:40:22.748Z"
   },
   {
    "duration": 90315,
    "start_time": "2023-07-05T14:40:22.855Z"
   },
   {
    "duration": 4,
    "start_time": "2023-07-05T14:43:14.746Z"
   },
   {
    "duration": 89708,
    "start_time": "2023-07-05T14:49:22.871Z"
   },
   {
    "duration": 95127,
    "start_time": "2023-07-05T14:51:42.686Z"
   },
   {
    "duration": 124924,
    "start_time": "2023-07-05T14:56:59.400Z"
   },
   {
    "duration": 10712,
    "start_time": "2023-07-05T15:14:06.568Z"
   },
   {
    "duration": 10836,
    "start_time": "2023-07-05T15:14:30.447Z"
   },
   {
    "duration": 1639,
    "start_time": "2023-07-05T16:31:51.886Z"
   },
   {
    "duration": 980,
    "start_time": "2023-07-05T16:31:53.527Z"
   },
   {
    "duration": 155,
    "start_time": "2023-07-05T16:31:54.508Z"
   },
   {
    "duration": 506,
    "start_time": "2023-07-05T16:31:54.664Z"
   },
   {
    "duration": 1097,
    "start_time": "2023-07-05T16:31:55.172Z"
   },
   {
    "duration": 139,
    "start_time": "2023-07-05T16:31:56.271Z"
   },
   {
    "duration": 163,
    "start_time": "2023-07-05T16:31:56.412Z"
   },
   {
    "duration": 266,
    "start_time": "2023-07-05T16:31:56.577Z"
   },
   {
    "duration": 11,
    "start_time": "2023-07-05T16:31:56.845Z"
   },
   {
    "duration": 47,
    "start_time": "2023-07-05T16:31:56.858Z"
   },
   {
    "duration": 211,
    "start_time": "2023-07-05T16:31:56.906Z"
   },
   {
    "duration": 421,
    "start_time": "2023-07-05T16:31:57.119Z"
   },
   {
    "duration": 10260,
    "start_time": "2023-07-05T16:31:57.542Z"
   },
   {
    "duration": 5,
    "start_time": "2023-07-05T16:32:07.804Z"
   },
   {
    "duration": 69,
    "start_time": "2023-07-05T16:32:55.101Z"
   },
   {
    "duration": 31,
    "start_time": "2023-07-05T16:41:44.911Z"
   },
   {
    "duration": 119,
    "start_time": "2023-07-05T16:41:55.025Z"
   },
   {
    "duration": 19,
    "start_time": "2023-07-05T16:42:03.618Z"
   },
   {
    "duration": 22,
    "start_time": "2023-07-05T16:42:45.209Z"
   },
   {
    "duration": 20,
    "start_time": "2023-07-05T16:42:49.697Z"
   },
   {
    "duration": 24,
    "start_time": "2023-07-05T16:43:17.506Z"
   },
   {
    "duration": 21,
    "start_time": "2023-07-05T16:43:20.937Z"
   },
   {
    "duration": 20,
    "start_time": "2023-07-05T16:43:25.457Z"
   },
   {
    "duration": 20,
    "start_time": "2023-07-05T16:43:33.898Z"
   },
   {
    "duration": 37,
    "start_time": "2023-07-05T16:43:37.401Z"
   },
   {
    "duration": 21,
    "start_time": "2023-07-05T16:43:43.154Z"
   },
   {
    "duration": 71,
    "start_time": "2023-07-05T16:44:32.025Z"
   },
   {
    "duration": 21,
    "start_time": "2023-07-05T16:46:05.249Z"
   },
   {
    "duration": 23,
    "start_time": "2023-07-05T16:46:08.988Z"
   },
   {
    "duration": 22,
    "start_time": "2023-07-05T16:46:11.208Z"
   },
   {
    "duration": 21,
    "start_time": "2023-07-05T16:46:14.216Z"
   },
   {
    "duration": 24,
    "start_time": "2023-07-05T16:46:19.168Z"
   },
   {
    "duration": 21,
    "start_time": "2023-07-05T16:46:24.784Z"
   },
   {
    "duration": 21,
    "start_time": "2023-07-05T16:46:27.551Z"
   },
   {
    "duration": 21,
    "start_time": "2023-07-05T16:46:30.616Z"
   },
   {
    "duration": 23,
    "start_time": "2023-07-05T16:47:31.223Z"
   },
   {
    "duration": 22,
    "start_time": "2023-07-05T16:47:34.071Z"
   },
   {
    "duration": 24,
    "start_time": "2023-07-05T16:47:36.663Z"
   },
   {
    "duration": 21,
    "start_time": "2023-07-05T16:47:42.359Z"
   },
   {
    "duration": 32,
    "start_time": "2023-07-05T16:47:45.167Z"
   },
   {
    "duration": 34,
    "start_time": "2023-07-05T16:47:55.663Z"
   },
   {
    "duration": 21,
    "start_time": "2023-07-05T16:48:00.248Z"
   },
   {
    "duration": 21,
    "start_time": "2023-07-05T16:48:03.295Z"
   },
   {
    "duration": 21,
    "start_time": "2023-07-05T16:48:07.991Z"
   },
   {
    "duration": 26,
    "start_time": "2023-07-05T16:48:11.248Z"
   },
   {
    "duration": 33,
    "start_time": "2023-07-05T16:48:17.632Z"
   },
   {
    "duration": 20,
    "start_time": "2023-07-05T16:48:22.495Z"
   },
   {
    "duration": 22,
    "start_time": "2023-07-05T16:48:58.015Z"
   },
   {
    "duration": 206,
    "start_time": "2023-07-05T16:49:06.735Z"
   },
   {
    "duration": 11,
    "start_time": "2023-07-05T16:49:15.342Z"
   },
   {
    "duration": 11,
    "start_time": "2023-07-05T16:49:17.319Z"
   },
   {
    "duration": 439,
    "start_time": "2023-07-05T16:49:43.590Z"
   },
   {
    "duration": 411,
    "start_time": "2023-07-05T16:49:49.958Z"
   },
   {
    "duration": 4,
    "start_time": "2023-07-05T19:08:47.419Z"
   },
   {
    "duration": 138,
    "start_time": "2023-07-05T19:09:45.004Z"
   },
   {
    "duration": 16,
    "start_time": "2023-07-05T19:09:47.938Z"
   },
   {
    "duration": 30,
    "start_time": "2023-07-05T19:09:50.650Z"
   },
   {
    "duration": 21,
    "start_time": "2023-07-05T19:10:05.042Z"
   },
   {
    "duration": 11,
    "start_time": "2023-07-05T19:12:49.225Z"
   },
   {
    "duration": 1875,
    "start_time": "2023-07-05T19:17:00.288Z"
   },
   {
    "duration": 5355,
    "start_time": "2023-07-05T19:18:22.092Z"
   },
   {
    "duration": 145,
    "start_time": "2023-07-05T19:18:30.551Z"
   },
   {
    "duration": 543,
    "start_time": "2023-07-05T19:20:07.662Z"
   },
   {
    "duration": 759,
    "start_time": "2023-07-05T19:28:06.503Z"
   },
   {
    "duration": 9,
    "start_time": "2023-07-05T19:28:09.087Z"
   },
   {
    "duration": 10,
    "start_time": "2023-07-05T19:28:10.771Z"
   },
   {
    "duration": 8,
    "start_time": "2023-07-05T19:28:14.931Z"
   },
   {
    "duration": 143,
    "start_time": "2023-07-05T19:28:20.989Z"
   },
   {
    "duration": 751,
    "start_time": "2023-07-05T19:28:26.357Z"
   },
   {
    "duration": 140,
    "start_time": "2023-07-05T19:28:28.011Z"
   },
   {
    "duration": 1815,
    "start_time": "2023-07-05T19:28:45.032Z"
   },
   {
    "duration": 3111,
    "start_time": "2023-07-05T19:28:46.850Z"
   },
   {
    "duration": 155,
    "start_time": "2023-07-05T19:28:49.962Z"
   },
   {
    "duration": 568,
    "start_time": "2023-07-05T19:28:50.119Z"
   },
   {
    "duration": 1103,
    "start_time": "2023-07-05T19:28:50.691Z"
   },
   {
    "duration": 140,
    "start_time": "2023-07-05T19:28:51.796Z"
   },
   {
    "duration": 157,
    "start_time": "2023-07-05T19:28:51.938Z"
   },
   {
    "duration": 256,
    "start_time": "2023-07-05T19:28:52.096Z"
   },
   {
    "duration": 7,
    "start_time": "2023-07-05T19:28:52.354Z"
   },
   {
    "duration": 49,
    "start_time": "2023-07-05T19:28:52.363Z"
   },
   {
    "duration": 225,
    "start_time": "2023-07-05T19:28:52.415Z"
   },
   {
    "duration": 483,
    "start_time": "2023-07-05T19:28:52.642Z"
   },
   {
    "duration": 10569,
    "start_time": "2023-07-05T19:28:53.127Z"
   },
   {
    "duration": 103,
    "start_time": "2023-07-05T19:29:03.699Z"
   },
   {
    "duration": 135,
    "start_time": "2023-07-05T19:29:03.803Z"
   },
   {
    "duration": 31,
    "start_time": "2023-07-05T19:29:03.940Z"
   },
   {
    "duration": 220,
    "start_time": "2023-07-05T19:29:03.973Z"
   },
   {
    "duration": 451,
    "start_time": "2023-07-05T19:29:04.195Z"
   },
   {
    "duration": 5068,
    "start_time": "2023-07-05T19:29:04.648Z"
   },
   {
    "duration": 120,
    "start_time": "2023-07-05T19:29:09.718Z"
   },
   {
    "duration": 796,
    "start_time": "2023-07-05T19:30:01.501Z"
   },
   {
    "duration": 142,
    "start_time": "2023-07-05T19:30:06.013Z"
   },
   {
    "duration": 160,
    "start_time": "2023-07-05T19:30:08.253Z"
   },
   {
    "duration": 749,
    "start_time": "2023-07-05T19:30:09.359Z"
   },
   {
    "duration": 765,
    "start_time": "2023-07-05T19:30:11.613Z"
   },
   {
    "duration": 136,
    "start_time": "2023-07-05T19:30:13.213Z"
   },
   {
    "duration": 1738,
    "start_time": "2023-07-05T19:30:20.130Z"
   },
   {
    "duration": 950,
    "start_time": "2023-07-05T19:30:21.870Z"
   },
   {
    "duration": 166,
    "start_time": "2023-07-05T19:30:22.822Z"
   },
   {
    "duration": 521,
    "start_time": "2023-07-05T19:30:22.991Z"
   },
   {
    "duration": 1094,
    "start_time": "2023-07-05T19:30:23.514Z"
   },
   {
    "duration": 158,
    "start_time": "2023-07-05T19:30:24.610Z"
   },
   {
    "duration": 161,
    "start_time": "2023-07-05T19:30:24.770Z"
   },
   {
    "duration": 326,
    "start_time": "2023-07-05T19:30:24.932Z"
   },
   {
    "duration": 8,
    "start_time": "2023-07-05T19:30:25.260Z"
   },
   {
    "duration": 56,
    "start_time": "2023-07-05T19:30:25.272Z"
   },
   {
    "duration": 209,
    "start_time": "2023-07-05T19:30:25.331Z"
   },
   {
    "duration": 437,
    "start_time": "2023-07-05T19:30:25.544Z"
   },
   {
    "duration": 11733,
    "start_time": "2023-07-05T19:30:25.983Z"
   },
   {
    "duration": 103,
    "start_time": "2023-07-05T19:30:37.718Z"
   },
   {
    "duration": 139,
    "start_time": "2023-07-05T19:30:37.824Z"
   },
   {
    "duration": 23,
    "start_time": "2023-07-05T19:30:37.965Z"
   },
   {
    "duration": 215,
    "start_time": "2023-07-05T19:30:37.990Z"
   },
   {
    "duration": 452,
    "start_time": "2023-07-05T19:30:38.208Z"
   },
   {
    "duration": 4983,
    "start_time": "2023-07-05T19:30:38.661Z"
   },
   {
    "duration": 150,
    "start_time": "2023-07-05T19:30:43.646Z"
   },
   {
    "duration": 809,
    "start_time": "2023-07-05T19:31:00.349Z"
   },
   {
    "duration": 136,
    "start_time": "2023-07-05T19:31:02.204Z"
   },
   {
    "duration": 135,
    "start_time": "2023-07-05T19:31:04.219Z"
   },
   {
    "duration": 1675,
    "start_time": "2023-07-05T19:31:08.533Z"
   },
   {
    "duration": 913,
    "start_time": "2023-07-05T19:31:10.210Z"
   },
   {
    "duration": 190,
    "start_time": "2023-07-05T19:31:11.125Z"
   },
   {
    "duration": 538,
    "start_time": "2023-07-05T19:31:11.317Z"
   },
   {
    "duration": 1120,
    "start_time": "2023-07-05T19:31:11.857Z"
   },
   {
    "duration": 146,
    "start_time": "2023-07-05T19:31:12.980Z"
   },
   {
    "duration": 153,
    "start_time": "2023-07-05T19:31:13.128Z"
   },
   {
    "duration": 274,
    "start_time": "2023-07-05T19:31:13.282Z"
   },
   {
    "duration": 6,
    "start_time": "2023-07-05T19:31:13.558Z"
   },
   {
    "duration": 53,
    "start_time": "2023-07-05T19:31:13.566Z"
   },
   {
    "duration": 206,
    "start_time": "2023-07-05T19:31:13.621Z"
   },
   {
    "duration": 393,
    "start_time": "2023-07-05T19:31:13.829Z"
   },
   {
    "duration": 10733,
    "start_time": "2023-07-05T19:31:14.224Z"
   },
   {
    "duration": 70,
    "start_time": "2023-07-05T19:31:24.960Z"
   },
   {
    "duration": 156,
    "start_time": "2023-07-05T19:31:25.032Z"
   },
   {
    "duration": 25,
    "start_time": "2023-07-05T19:31:25.190Z"
   },
   {
    "duration": 214,
    "start_time": "2023-07-05T19:31:25.217Z"
   },
   {
    "duration": 424,
    "start_time": "2023-07-05T19:31:25.433Z"
   },
   {
    "duration": 4915,
    "start_time": "2023-07-05T19:31:25.859Z"
   },
   {
    "duration": 122,
    "start_time": "2023-07-05T19:31:30.777Z"
   },
   {
    "duration": 4,
    "start_time": "2023-07-05T19:31:58.660Z"
   },
   {
    "duration": 18,
    "start_time": "2023-07-05T19:32:09.208Z"
   },
   {
    "duration": 3,
    "start_time": "2023-07-05T19:32:39.053Z"
   },
   {
    "duration": 4,
    "start_time": "2023-07-05T19:33:36.102Z"
   },
   {
    "duration": 4,
    "start_time": "2023-07-05T19:33:38.604Z"
   },
   {
    "duration": 4,
    "start_time": "2023-07-05T19:33:46.043Z"
   },
   {
    "duration": 1588,
    "start_time": "2023-07-05T19:40:49.307Z"
   },
   {
    "duration": 1699,
    "start_time": "2023-07-05T19:44:27.144Z"
   },
   {
    "duration": 873,
    "start_time": "2023-07-05T19:44:28.846Z"
   },
   {
    "duration": 150,
    "start_time": "2023-07-05T19:44:29.720Z"
   },
   {
    "duration": 547,
    "start_time": "2023-07-05T19:44:29.871Z"
   },
   {
    "duration": 1183,
    "start_time": "2023-07-05T19:44:30.421Z"
   },
   {
    "duration": 136,
    "start_time": "2023-07-05T19:44:31.606Z"
   },
   {
    "duration": 139,
    "start_time": "2023-07-05T19:44:31.744Z"
   },
   {
    "duration": 255,
    "start_time": "2023-07-05T19:44:31.885Z"
   },
   {
    "duration": 6,
    "start_time": "2023-07-05T19:44:32.142Z"
   },
   {
    "duration": 46,
    "start_time": "2023-07-05T19:44:32.154Z"
   },
   {
    "duration": 202,
    "start_time": "2023-07-05T19:44:32.202Z"
   },
   {
    "duration": 372,
    "start_time": "2023-07-05T19:44:32.405Z"
   },
   {
    "duration": 10223,
    "start_time": "2023-07-05T19:44:32.778Z"
   },
   {
    "duration": 70,
    "start_time": "2023-07-05T19:44:43.056Z"
   },
   {
    "duration": 139,
    "start_time": "2023-07-05T19:44:43.128Z"
   },
   {
    "duration": 22,
    "start_time": "2023-07-05T19:44:43.268Z"
   },
   {
    "duration": 211,
    "start_time": "2023-07-05T19:44:43.292Z"
   },
   {
    "duration": 450,
    "start_time": "2023-07-05T19:44:43.504Z"
   },
   {
    "duration": 117,
    "start_time": "2023-07-05T19:44:43.956Z"
   },
   {
    "duration": 5278,
    "start_time": "2023-07-05T19:44:44.075Z"
   },
   {
    "duration": 186,
    "start_time": "2023-07-05T19:44:49.355Z"
   },
   {
    "duration": 138,
    "start_time": "2023-07-05T19:44:57.439Z"
   },
   {
    "duration": 792,
    "start_time": "2023-07-05T19:45:34.366Z"
   },
   {
    "duration": 1682,
    "start_time": "2023-07-05T19:45:35.989Z"
   },
   {
    "duration": 1785,
    "start_time": "2023-07-05T19:45:47.215Z"
   },
   {
    "duration": 3029,
    "start_time": "2023-07-05T19:45:49.002Z"
   },
   {
    "duration": 138,
    "start_time": "2023-07-05T19:45:52.033Z"
   },
   {
    "duration": 503,
    "start_time": "2023-07-05T19:45:52.172Z"
   },
   {
    "duration": 1068,
    "start_time": "2023-07-05T19:45:52.677Z"
   },
   {
    "duration": 140,
    "start_time": "2023-07-05T19:45:53.747Z"
   },
   {
    "duration": 146,
    "start_time": "2023-07-05T19:45:53.889Z"
   },
   {
    "duration": 243,
    "start_time": "2023-07-05T19:45:54.037Z"
   },
   {
    "duration": 6,
    "start_time": "2023-07-05T19:45:54.282Z"
   },
   {
    "duration": 44,
    "start_time": "2023-07-05T19:45:54.290Z"
   },
   {
    "duration": 216,
    "start_time": "2023-07-05T19:45:54.335Z"
   },
   {
    "duration": 367,
    "start_time": "2023-07-05T19:45:54.552Z"
   },
   {
    "duration": 10282,
    "start_time": "2023-07-05T19:45:54.920Z"
   },
   {
    "duration": 120,
    "start_time": "2023-07-05T19:46:05.205Z"
   },
   {
    "duration": 140,
    "start_time": "2023-07-05T19:46:05.327Z"
   },
   {
    "duration": 22,
    "start_time": "2023-07-05T19:46:05.469Z"
   },
   {
    "duration": 208,
    "start_time": "2023-07-05T19:46:05.492Z"
   },
   {
    "duration": 448,
    "start_time": "2023-07-05T19:46:05.702Z"
   },
   {
    "duration": 5312,
    "start_time": "2023-07-05T19:46:06.153Z"
   },
   {
    "duration": 1557,
    "start_time": "2023-07-05T19:46:11.466Z"
   },
   {
    "duration": 50,
    "start_time": "2023-07-05T19:46:24.161Z"
   },
   {
    "duration": 8,
    "start_time": "2023-07-05T19:46:26.239Z"
   },
   {
    "duration": 8,
    "start_time": "2023-07-05T19:46:27.603Z"
   },
   {
    "duration": 1758,
    "start_time": "2023-07-05T19:46:31.243Z"
   },
   {
    "duration": 3011,
    "start_time": "2023-07-05T19:46:33.003Z"
   },
   {
    "duration": 151,
    "start_time": "2023-07-05T19:46:36.017Z"
   },
   {
    "duration": 571,
    "start_time": "2023-07-05T19:46:36.171Z"
   },
   {
    "duration": 1086,
    "start_time": "2023-07-05T19:46:36.745Z"
   },
   {
    "duration": 135,
    "start_time": "2023-07-05T19:46:37.832Z"
   },
   {
    "duration": 140,
    "start_time": "2023-07-05T19:46:37.968Z"
   },
   {
    "duration": 239,
    "start_time": "2023-07-05T19:46:38.109Z"
   },
   {
    "duration": 6,
    "start_time": "2023-07-05T19:46:38.354Z"
   },
   {
    "duration": 48,
    "start_time": "2023-07-05T19:46:38.361Z"
   },
   {
    "duration": 176,
    "start_time": "2023-07-05T19:46:38.410Z"
   },
   {
    "duration": 367,
    "start_time": "2023-07-05T19:46:38.588Z"
   },
   {
    "duration": 10141,
    "start_time": "2023-07-05T19:46:38.957Z"
   },
   {
    "duration": 113,
    "start_time": "2023-07-05T19:46:49.102Z"
   },
   {
    "duration": 132,
    "start_time": "2023-07-05T19:46:49.217Z"
   },
   {
    "duration": 23,
    "start_time": "2023-07-05T19:46:49.353Z"
   },
   {
    "duration": 208,
    "start_time": "2023-07-05T19:46:49.378Z"
   },
   {
    "duration": 452,
    "start_time": "2023-07-05T19:46:49.587Z"
   },
   {
    "duration": 5146,
    "start_time": "2023-07-05T19:46:50.041Z"
   },
   {
    "duration": 1572,
    "start_time": "2023-07-05T19:46:55.188Z"
   },
   {
    "duration": 1721,
    "start_time": "2023-07-05T19:47:13.105Z"
   },
   {
    "duration": 3060,
    "start_time": "2023-07-05T19:47:14.828Z"
   },
   {
    "duration": 142,
    "start_time": "2023-07-05T19:47:17.890Z"
   },
   {
    "duration": 512,
    "start_time": "2023-07-05T19:47:18.034Z"
   },
   {
    "duration": 1067,
    "start_time": "2023-07-05T19:47:18.548Z"
   },
   {
    "duration": 138,
    "start_time": "2023-07-05T19:47:19.617Z"
   },
   {
    "duration": 157,
    "start_time": "2023-07-05T19:47:19.756Z"
   },
   {
    "duration": 240,
    "start_time": "2023-07-05T19:47:19.914Z"
   },
   {
    "duration": 5,
    "start_time": "2023-07-05T19:47:20.156Z"
   },
   {
    "duration": 45,
    "start_time": "2023-07-05T19:47:20.163Z"
   },
   {
    "duration": 211,
    "start_time": "2023-07-05T19:47:20.209Z"
   },
   {
    "duration": 357,
    "start_time": "2023-07-05T19:47:20.421Z"
   },
   {
    "duration": 10224,
    "start_time": "2023-07-05T19:47:20.779Z"
   },
   {
    "duration": 74,
    "start_time": "2023-07-05T19:47:31.054Z"
   },
   {
    "duration": 137,
    "start_time": "2023-07-05T19:47:31.130Z"
   },
   {
    "duration": 21,
    "start_time": "2023-07-05T19:47:31.269Z"
   },
   {
    "duration": 211,
    "start_time": "2023-07-05T19:47:31.291Z"
   },
   {
    "duration": 445,
    "start_time": "2023-07-05T19:47:31.504Z"
   },
   {
    "duration": 4991,
    "start_time": "2023-07-05T19:47:31.951Z"
   },
   {
    "duration": 1591,
    "start_time": "2023-07-05T19:47:36.944Z"
   },
   {
    "duration": 53,
    "start_time": "2023-07-05T19:48:00.008Z"
   },
   {
    "duration": 1763,
    "start_time": "2023-07-05T19:48:14.748Z"
   },
   {
    "duration": 3041,
    "start_time": "2023-07-05T19:48:16.513Z"
   },
   {
    "duration": 138,
    "start_time": "2023-07-05T19:48:19.555Z"
   },
   {
    "duration": 509,
    "start_time": "2023-07-05T19:48:19.695Z"
   },
   {
    "duration": 1105,
    "start_time": "2023-07-05T19:48:20.205Z"
   },
   {
    "duration": 129,
    "start_time": "2023-07-05T19:48:21.312Z"
   },
   {
    "duration": 137,
    "start_time": "2023-07-05T19:48:21.443Z"
   },
   {
    "duration": 242,
    "start_time": "2023-07-05T19:48:21.582Z"
   },
   {
    "duration": 6,
    "start_time": "2023-07-05T19:48:21.826Z"
   },
   {
    "duration": 56,
    "start_time": "2023-07-05T19:48:21.834Z"
   },
   {
    "duration": 188,
    "start_time": "2023-07-05T19:48:21.892Z"
   },
   {
    "duration": 374,
    "start_time": "2023-07-05T19:48:22.082Z"
   },
   {
    "duration": 10241,
    "start_time": "2023-07-05T19:48:22.458Z"
   },
   {
    "duration": 111,
    "start_time": "2023-07-05T19:48:32.701Z"
   },
   {
    "duration": 127,
    "start_time": "2023-07-05T19:48:32.814Z"
   },
   {
    "duration": 30,
    "start_time": "2023-07-05T19:48:32.943Z"
   },
   {
    "duration": 214,
    "start_time": "2023-07-05T19:48:32.975Z"
   },
   {
    "duration": 451,
    "start_time": "2023-07-05T19:48:33.191Z"
   },
   {
    "duration": 5110,
    "start_time": "2023-07-05T19:48:33.643Z"
   },
   {
    "duration": 1570,
    "start_time": "2023-07-05T19:48:38.755Z"
   },
   {
    "duration": 59,
    "start_time": "2023-07-05T19:51:11.516Z"
   },
   {
    "duration": 1774,
    "start_time": "2023-07-05T19:52:39.978Z"
   },
   {
    "duration": 3037,
    "start_time": "2023-07-05T19:52:41.754Z"
   },
   {
    "duration": 161,
    "start_time": "2023-07-05T19:52:44.793Z"
   },
   {
    "duration": 513,
    "start_time": "2023-07-05T19:52:44.956Z"
   },
   {
    "duration": 1062,
    "start_time": "2023-07-05T19:52:45.473Z"
   },
   {
    "duration": 144,
    "start_time": "2023-07-05T19:52:46.537Z"
   },
   {
    "duration": 162,
    "start_time": "2023-07-05T19:52:46.683Z"
   },
   {
    "duration": 238,
    "start_time": "2023-07-05T19:52:46.855Z"
   },
   {
    "duration": 6,
    "start_time": "2023-07-05T19:52:47.095Z"
   },
   {
    "duration": 60,
    "start_time": "2023-07-05T19:52:47.103Z"
   },
   {
    "duration": 176,
    "start_time": "2023-07-05T19:52:47.165Z"
   },
   {
    "duration": 398,
    "start_time": "2023-07-05T19:52:47.342Z"
   },
   {
    "duration": 11044,
    "start_time": "2023-07-05T19:52:47.742Z"
   },
   {
    "duration": 75,
    "start_time": "2023-07-05T19:52:58.789Z"
   },
   {
    "duration": 123,
    "start_time": "2023-07-05T19:52:58.866Z"
   },
   {
    "duration": 22,
    "start_time": "2023-07-05T19:52:58.991Z"
   },
   {
    "duration": 219,
    "start_time": "2023-07-05T19:52:59.014Z"
   },
   {
    "duration": 423,
    "start_time": "2023-07-05T19:52:59.235Z"
   },
   {
    "duration": 5569,
    "start_time": "2023-07-05T19:52:59.659Z"
   },
   {
    "duration": 1630,
    "start_time": "2023-07-05T19:53:05.230Z"
   },
   {
    "duration": 673,
    "start_time": "2023-07-05T19:53:06.862Z"
   },
   {
    "duration": 19,
    "start_time": "2023-07-05T19:54:50.820Z"
   },
   {
    "duration": 34,
    "start_time": "2023-07-05T19:55:16.044Z"
   },
   {
    "duration": 9,
    "start_time": "2023-07-05T19:55:52.250Z"
   },
   {
    "duration": 132,
    "start_time": "2023-07-05T19:55:53.571Z"
   },
   {
    "duration": 128,
    "start_time": "2023-07-05T19:57:21.962Z"
   },
   {
    "duration": 133,
    "start_time": "2023-07-05T19:57:29.906Z"
   },
   {
    "duration": 16,
    "start_time": "2023-07-05T19:57:41.402Z"
   },
   {
    "duration": 53,
    "start_time": "2023-07-05T19:58:30.203Z"
   },
   {
    "duration": 1684,
    "start_time": "2023-07-05T19:58:45.503Z"
   },
   {
    "duration": 2972,
    "start_time": "2023-07-05T19:58:47.189Z"
   },
   {
    "duration": 133,
    "start_time": "2023-07-05T19:58:50.163Z"
   },
   {
    "duration": 493,
    "start_time": "2023-07-05T19:58:50.298Z"
   },
   {
    "duration": 1013,
    "start_time": "2023-07-05T19:58:50.793Z"
   },
   {
    "duration": 135,
    "start_time": "2023-07-05T19:58:51.808Z"
   },
   {
    "duration": 142,
    "start_time": "2023-07-05T19:58:51.945Z"
   },
   {
    "duration": 239,
    "start_time": "2023-07-05T19:58:52.088Z"
   },
   {
    "duration": 6,
    "start_time": "2023-07-05T19:58:52.328Z"
   },
   {
    "duration": 56,
    "start_time": "2023-07-05T19:58:52.336Z"
   },
   {
    "duration": 176,
    "start_time": "2023-07-05T19:58:52.394Z"
   },
   {
    "duration": 354,
    "start_time": "2023-07-05T19:58:52.572Z"
   },
   {
    "duration": 10040,
    "start_time": "2023-07-05T19:58:52.928Z"
   },
   {
    "duration": 68,
    "start_time": "2023-07-05T19:59:02.970Z"
   },
   {
    "duration": 131,
    "start_time": "2023-07-05T19:59:03.054Z"
   },
   {
    "duration": 21,
    "start_time": "2023-07-05T19:59:03.187Z"
   },
   {
    "duration": 220,
    "start_time": "2023-07-05T19:59:03.209Z"
   },
   {
    "duration": 429,
    "start_time": "2023-07-05T19:59:03.431Z"
   },
   {
    "duration": 5404,
    "start_time": "2023-07-05T19:59:03.862Z"
   },
   {
    "duration": 1543,
    "start_time": "2023-07-05T19:59:09.267Z"
   },
   {
    "duration": 1687,
    "start_time": "2023-07-05T19:59:46.589Z"
   },
   {
    "duration": 2960,
    "start_time": "2023-07-05T19:59:48.278Z"
   },
   {
    "duration": 146,
    "start_time": "2023-07-05T19:59:51.239Z"
   },
   {
    "duration": 522,
    "start_time": "2023-07-05T19:59:51.387Z"
   },
   {
    "duration": 1120,
    "start_time": "2023-07-05T19:59:51.912Z"
   },
   {
    "duration": 136,
    "start_time": "2023-07-05T19:59:53.033Z"
   },
   {
    "duration": 163,
    "start_time": "2023-07-05T19:59:53.171Z"
   },
   {
    "duration": 238,
    "start_time": "2023-07-05T19:59:53.335Z"
   },
   {
    "duration": 6,
    "start_time": "2023-07-05T19:59:53.575Z"
   },
   {
    "duration": 51,
    "start_time": "2023-07-05T19:59:53.582Z"
   },
   {
    "duration": 197,
    "start_time": "2023-07-05T19:59:53.635Z"
   },
   {
    "duration": 368,
    "start_time": "2023-07-05T19:59:53.833Z"
   },
   {
    "duration": 10096,
    "start_time": "2023-07-05T19:59:54.203Z"
   },
   {
    "duration": 94,
    "start_time": "2023-07-05T20:00:04.302Z"
   },
   {
    "duration": 129,
    "start_time": "2023-07-05T20:00:04.398Z"
   },
   {
    "duration": 30,
    "start_time": "2023-07-05T20:00:04.529Z"
   },
   {
    "duration": 201,
    "start_time": "2023-07-05T20:00:04.560Z"
   },
   {
    "duration": 435,
    "start_time": "2023-07-05T20:00:04.763Z"
   },
   {
    "duration": 5589,
    "start_time": "2023-07-05T20:00:05.200Z"
   },
   {
    "duration": 1551,
    "start_time": "2023-07-05T20:00:10.791Z"
   },
   {
    "duration": 1737,
    "start_time": "2023-07-05T20:00:30.228Z"
   },
   {
    "duration": 2985,
    "start_time": "2023-07-05T20:00:31.967Z"
   },
   {
    "duration": 135,
    "start_time": "2023-07-05T20:00:34.954Z"
   },
   {
    "duration": 481,
    "start_time": "2023-07-05T20:00:35.091Z"
   },
   {
    "duration": 1060,
    "start_time": "2023-07-05T20:00:35.574Z"
   },
   {
    "duration": 151,
    "start_time": "2023-07-05T20:00:36.636Z"
   },
   {
    "duration": 144,
    "start_time": "2023-07-05T20:00:36.789Z"
   },
   {
    "duration": 247,
    "start_time": "2023-07-05T20:00:36.935Z"
   },
   {
    "duration": 6,
    "start_time": "2023-07-05T20:00:37.183Z"
   },
   {
    "duration": 42,
    "start_time": "2023-07-05T20:00:37.191Z"
   },
   {
    "duration": 224,
    "start_time": "2023-07-05T20:00:37.235Z"
   },
   {
    "duration": 364,
    "start_time": "2023-07-05T20:00:37.461Z"
   },
   {
    "duration": 10263,
    "start_time": "2023-07-05T20:00:37.827Z"
   },
   {
    "duration": 84,
    "start_time": "2023-07-05T20:00:48.093Z"
   },
   {
    "duration": 130,
    "start_time": "2023-07-05T20:00:48.179Z"
   },
   {
    "duration": 21,
    "start_time": "2023-07-05T20:00:48.310Z"
   },
   {
    "duration": 212,
    "start_time": "2023-07-05T20:00:48.333Z"
   },
   {
    "duration": 428,
    "start_time": "2023-07-05T20:00:48.547Z"
   },
   {
    "duration": 5581,
    "start_time": "2023-07-05T20:00:48.977Z"
   },
   {
    "duration": 1556,
    "start_time": "2023-07-05T20:00:54.560Z"
   },
   {
    "duration": 120,
    "start_time": "2023-07-05T20:01:19.808Z"
   },
   {
    "duration": 4,
    "start_time": "2023-07-05T20:01:31.904Z"
   },
   {
    "duration": 4,
    "start_time": "2023-07-05T20:01:45.687Z"
   },
   {
    "duration": 12,
    "start_time": "2023-07-05T20:05:29.135Z"
   },
   {
    "duration": 4,
    "start_time": "2023-07-05T20:07:10.429Z"
   },
   {
    "duration": 1739,
    "start_time": "2023-07-05T20:07:23.722Z"
   },
   {
    "duration": 3148,
    "start_time": "2023-07-05T20:07:25.463Z"
   },
   {
    "duration": 158,
    "start_time": "2023-07-05T20:07:28.613Z"
   },
   {
    "duration": 518,
    "start_time": "2023-07-05T20:07:28.774Z"
   },
   {
    "duration": 1072,
    "start_time": "2023-07-05T20:07:29.294Z"
   },
   {
    "duration": 154,
    "start_time": "2023-07-05T20:07:30.368Z"
   },
   {
    "duration": 160,
    "start_time": "2023-07-05T20:07:30.524Z"
   },
   {
    "duration": 292,
    "start_time": "2023-07-05T20:07:30.686Z"
   },
   {
    "duration": 6,
    "start_time": "2023-07-05T20:07:30.980Z"
   },
   {
    "duration": 94,
    "start_time": "2023-07-05T20:07:30.988Z"
   },
   {
    "duration": 210,
    "start_time": "2023-07-05T20:07:31.084Z"
   },
   {
    "duration": 366,
    "start_time": "2023-07-05T20:07:31.296Z"
   },
   {
    "duration": 10742,
    "start_time": "2023-07-05T20:07:31.664Z"
   },
   {
    "duration": 87,
    "start_time": "2023-07-05T20:07:42.410Z"
   },
   {
    "duration": 132,
    "start_time": "2023-07-05T20:07:42.499Z"
   },
   {
    "duration": 34,
    "start_time": "2023-07-05T20:07:42.632Z"
   },
   {
    "duration": 199,
    "start_time": "2023-07-05T20:07:42.668Z"
   },
   {
    "duration": 480,
    "start_time": "2023-07-05T20:07:42.869Z"
   },
   {
    "duration": 5154,
    "start_time": "2023-07-05T20:07:43.354Z"
   },
   {
    "duration": 1624,
    "start_time": "2023-07-05T20:07:48.510Z"
   },
   {
    "duration": 5,
    "start_time": "2023-07-05T20:07:50.136Z"
   },
   {
    "duration": 4,
    "start_time": "2023-07-05T20:07:50.153Z"
   },
   {
    "duration": 12,
    "start_time": "2023-07-05T20:08:16.519Z"
   },
   {
    "duration": 1139,
    "start_time": "2023-07-05T20:13:48.852Z"
   },
   {
    "duration": 15,
    "start_time": "2023-07-05T20:16:18.889Z"
   },
   {
    "duration": 1698,
    "start_time": "2023-07-05T20:16:36.792Z"
   },
   {
    "duration": 2953,
    "start_time": "2023-07-05T20:16:38.492Z"
   },
   {
    "duration": 143,
    "start_time": "2023-07-05T20:16:41.447Z"
   },
   {
    "duration": 492,
    "start_time": "2023-07-05T20:16:41.592Z"
   },
   {
    "duration": 1028,
    "start_time": "2023-07-05T20:16:42.086Z"
   },
   {
    "duration": 144,
    "start_time": "2023-07-05T20:16:43.116Z"
   },
   {
    "duration": 143,
    "start_time": "2023-07-05T20:16:43.261Z"
   },
   {
    "duration": 240,
    "start_time": "2023-07-05T20:16:43.407Z"
   },
   {
    "duration": 11,
    "start_time": "2023-07-05T20:16:43.648Z"
   },
   {
    "duration": 42,
    "start_time": "2023-07-05T20:16:43.660Z"
   },
   {
    "duration": 231,
    "start_time": "2023-07-05T20:16:43.703Z"
   },
   {
    "duration": 379,
    "start_time": "2023-07-05T20:16:43.935Z"
   },
   {
    "duration": 10252,
    "start_time": "2023-07-05T20:16:44.316Z"
   },
   {
    "duration": 67,
    "start_time": "2023-07-05T20:16:54.571Z"
   },
   {
    "duration": 136,
    "start_time": "2023-07-05T20:16:54.639Z"
   },
   {
    "duration": 21,
    "start_time": "2023-07-05T20:16:54.777Z"
   },
   {
    "duration": 207,
    "start_time": "2023-07-05T20:16:54.800Z"
   },
   {
    "duration": 467,
    "start_time": "2023-07-05T20:16:55.009Z"
   },
   {
    "duration": 4588,
    "start_time": "2023-07-05T20:16:55.478Z"
   },
   {
    "duration": 1657,
    "start_time": "2023-07-05T20:17:00.068Z"
   },
   {
    "duration": 5,
    "start_time": "2023-07-05T20:17:01.727Z"
   },
   {
    "duration": 20,
    "start_time": "2023-07-05T20:17:01.734Z"
   },
   {
    "duration": 5105,
    "start_time": "2023-07-06T23:48:30.787Z"
   },
   {
    "duration": 183,
    "start_time": "2023-07-06T23:48:35.894Z"
   },
   {
    "duration": 0,
    "start_time": "2023-07-06T23:48:36.079Z"
   },
   {
    "duration": 0,
    "start_time": "2023-07-06T23:48:36.081Z"
   },
   {
    "duration": 0,
    "start_time": "2023-07-06T23:48:36.082Z"
   },
   {
    "duration": 0,
    "start_time": "2023-07-06T23:48:36.083Z"
   },
   {
    "duration": 0,
    "start_time": "2023-07-06T23:48:36.084Z"
   },
   {
    "duration": 0,
    "start_time": "2023-07-06T23:48:36.085Z"
   },
   {
    "duration": 0,
    "start_time": "2023-07-06T23:48:36.113Z"
   },
   {
    "duration": 0,
    "start_time": "2023-07-06T23:48:36.114Z"
   },
   {
    "duration": 0,
    "start_time": "2023-07-06T23:48:36.115Z"
   },
   {
    "duration": 0,
    "start_time": "2023-07-06T23:48:36.116Z"
   },
   {
    "duration": 0,
    "start_time": "2023-07-06T23:48:36.117Z"
   },
   {
    "duration": 0,
    "start_time": "2023-07-06T23:48:36.120Z"
   },
   {
    "duration": 0,
    "start_time": "2023-07-06T23:48:36.121Z"
   },
   {
    "duration": 0,
    "start_time": "2023-07-06T23:48:36.126Z"
   },
   {
    "duration": 0,
    "start_time": "2023-07-06T23:48:36.127Z"
   },
   {
    "duration": 0,
    "start_time": "2023-07-06T23:48:36.128Z"
   },
   {
    "duration": 0,
    "start_time": "2023-07-06T23:48:36.130Z"
   },
   {
    "duration": 0,
    "start_time": "2023-07-06T23:48:36.131Z"
   },
   {
    "duration": 0,
    "start_time": "2023-07-06T23:48:36.132Z"
   },
   {
    "duration": 0,
    "start_time": "2023-07-06T23:48:36.133Z"
   },
   {
    "duration": 0,
    "start_time": "2023-07-06T23:48:36.136Z"
   },
   {
    "duration": 0,
    "start_time": "2023-07-06T23:48:36.137Z"
   },
   {
    "duration": 0,
    "start_time": "2023-07-06T23:48:36.138Z"
   },
   {
    "duration": 2846,
    "start_time": "2023-07-06T23:49:06.485Z"
   },
   {
    "duration": 1146,
    "start_time": "2023-07-06T23:49:09.333Z"
   },
   {
    "duration": 26,
    "start_time": "2023-07-06T23:49:10.481Z"
   },
   {
    "duration": 110,
    "start_time": "2023-07-06T23:49:10.509Z"
   },
   {
    "duration": 418,
    "start_time": "2023-07-06T23:49:10.622Z"
   },
   {
    "duration": 910,
    "start_time": "2023-07-06T23:49:11.042Z"
   },
   {
    "duration": 111,
    "start_time": "2023-07-06T23:49:11.954Z"
   },
   {
    "duration": 126,
    "start_time": "2023-07-06T23:49:12.067Z"
   },
   {
    "duration": 211,
    "start_time": "2023-07-06T23:49:12.200Z"
   },
   {
    "duration": 6,
    "start_time": "2023-07-06T23:49:12.425Z"
   },
   {
    "duration": 46,
    "start_time": "2023-07-06T23:49:12.433Z"
   },
   {
    "duration": 198,
    "start_time": "2023-07-06T23:49:12.481Z"
   },
   {
    "duration": 341,
    "start_time": "2023-07-06T23:49:12.680Z"
   },
   {
    "duration": 9807,
    "start_time": "2023-07-06T23:49:13.023Z"
   },
   {
    "duration": 80,
    "start_time": "2023-07-06T23:49:22.833Z"
   },
   {
    "duration": 20,
    "start_time": "2023-07-06T23:49:22.914Z"
   },
   {
    "duration": 19,
    "start_time": "2023-07-06T23:49:22.935Z"
   },
   {
    "duration": 87,
    "start_time": "2023-07-06T23:49:22.955Z"
   },
   {
    "duration": 116,
    "start_time": "2023-07-06T23:49:23.044Z"
   },
   {
    "duration": 400,
    "start_time": "2023-07-06T23:49:23.162Z"
   },
   {
    "duration": 2408,
    "start_time": "2023-07-06T23:49:23.564Z"
   },
   {
    "duration": 1843,
    "start_time": "2023-07-08T12:07:59.500Z"
   },
   {
    "duration": 1450,
    "start_time": "2023-07-08T12:08:01.346Z"
   },
   {
    "duration": 23,
    "start_time": "2023-07-08T12:08:02.798Z"
   },
   {
    "duration": 127,
    "start_time": "2023-07-08T12:08:02.825Z"
   },
   {
    "duration": 498,
    "start_time": "2023-07-08T12:08:02.954Z"
   },
   {
    "duration": 991,
    "start_time": "2023-07-08T12:08:03.454Z"
   },
   {
    "duration": 109,
    "start_time": "2023-07-08T12:08:04.447Z"
   },
   {
    "duration": 118,
    "start_time": "2023-07-08T12:08:04.558Z"
   },
   {
    "duration": 209,
    "start_time": "2023-07-08T12:08:04.678Z"
   },
   {
    "duration": 5,
    "start_time": "2023-07-08T12:08:04.890Z"
   },
   {
    "duration": 50,
    "start_time": "2023-07-08T12:08:04.896Z"
   },
   {
    "duration": 218,
    "start_time": "2023-07-08T12:08:04.947Z"
   },
   {
    "duration": 421,
    "start_time": "2023-07-08T12:08:05.167Z"
   },
   {
    "duration": 13738,
    "start_time": "2023-07-08T12:08:05.590Z"
   },
   {
    "duration": 80,
    "start_time": "2023-07-08T12:08:19.330Z"
   },
   {
    "duration": 24,
    "start_time": "2023-07-08T12:08:19.411Z"
   },
   {
    "duration": 17,
    "start_time": "2023-07-08T12:08:19.436Z"
   },
   {
    "duration": 73,
    "start_time": "2023-07-08T12:08:19.475Z"
   },
   {
    "duration": 126,
    "start_time": "2023-07-08T12:08:19.549Z"
   },
   {
    "duration": 107,
    "start_time": "2023-07-08T12:08:19.677Z"
   },
   {
    "duration": 416,
    "start_time": "2023-07-08T12:08:19.785Z"
   },
   {
    "duration": 0,
    "start_time": "2023-07-08T12:08:20.203Z"
   },
   {
    "duration": 0,
    "start_time": "2023-07-08T12:08:20.204Z"
   },
   {
    "duration": 11,
    "start_time": "2023-07-08T12:08:31.679Z"
   },
   {
    "duration": 105,
    "start_time": "2023-07-08T12:08:58.508Z"
   },
   {
    "duration": 15,
    "start_time": "2023-07-08T12:09:00.299Z"
   },
   {
    "duration": 1611,
    "start_time": "2023-07-08T12:09:42.766Z"
   },
   {
    "duration": 848,
    "start_time": "2023-07-08T12:09:44.378Z"
   },
   {
    "duration": 17,
    "start_time": "2023-07-08T12:09:45.228Z"
   },
   {
    "duration": 117,
    "start_time": "2023-07-08T12:09:45.247Z"
   },
   {
    "duration": 396,
    "start_time": "2023-07-08T12:09:45.365Z"
   },
   {
    "duration": 951,
    "start_time": "2023-07-08T12:09:45.762Z"
   },
   {
    "duration": 103,
    "start_time": "2023-07-08T12:09:46.715Z"
   },
   {
    "duration": 116,
    "start_time": "2023-07-08T12:09:46.819Z"
   },
   {
    "duration": 245,
    "start_time": "2023-07-08T12:09:46.936Z"
   },
   {
    "duration": 5,
    "start_time": "2023-07-08T12:09:47.183Z"
   },
   {
    "duration": 54,
    "start_time": "2023-07-08T12:09:47.189Z"
   },
   {
    "duration": 171,
    "start_time": "2023-07-08T12:09:47.245Z"
   },
   {
    "duration": 336,
    "start_time": "2023-07-08T12:09:47.419Z"
   },
   {
    "duration": 10552,
    "start_time": "2023-07-08T12:09:47.757Z"
   },
   {
    "duration": 74,
    "start_time": "2023-07-08T12:09:58.311Z"
   },
   {
    "duration": 22,
    "start_time": "2023-07-08T12:09:58.386Z"
   },
   {
    "duration": 17,
    "start_time": "2023-07-08T12:09:58.409Z"
   },
   {
    "duration": 85,
    "start_time": "2023-07-08T12:09:58.427Z"
   },
   {
    "duration": 108,
    "start_time": "2023-07-08T12:09:58.514Z"
   },
   {
    "duration": 103,
    "start_time": "2023-07-08T12:09:58.624Z"
   },
   {
    "duration": 451,
    "start_time": "2023-07-08T12:09:58.729Z"
   },
   {
    "duration": 0,
    "start_time": "2023-07-08T12:09:59.182Z"
   },
   {
    "duration": 0,
    "start_time": "2023-07-08T12:09:59.183Z"
   },
   {
    "duration": 0,
    "start_time": "2023-07-08T12:09:59.184Z"
   },
   {
    "duration": 84,
    "start_time": "2023-07-08T12:10:05.695Z"
   },
   {
    "duration": 9,
    "start_time": "2023-07-08T12:10:07.427Z"
   },
   {
    "duration": 12,
    "start_time": "2023-07-08T12:10:14.357Z"
   }
  ],
  "kernelspec": {
   "display_name": "Python 3 (ipykernel)",
   "language": "python",
   "name": "python3"
  },
  "language_info": {
   "codemirror_mode": {
    "name": "ipython",
    "version": 3
   },
   "file_extension": ".py",
   "mimetype": "text/x-python",
   "name": "python",
   "nbconvert_exporter": "python",
   "pygments_lexer": "ipython3",
   "version": "3.9.13"
  },
  "toc": {
   "base_numbering": 1,
   "nav_menu": {},
   "number_sections": true,
   "sideBar": true,
   "skip_h1_title": true,
   "title_cell": "Table of Contents",
   "title_sidebar": "Contents",
   "toc_cell": false,
   "toc_position": {},
   "toc_section_display": true,
   "toc_window_display": true
  },
  "varInspector": {
   "cols": {
    "lenName": 16,
    "lenType": 16,
    "lenVar": 40
   },
   "kernels_config": {
    "python": {
     "delete_cmd_postfix": "",
     "delete_cmd_prefix": "del ",
     "library": "var_list.py",
     "varRefreshCmd": "print(var_dic_list())"
    },
    "r": {
     "delete_cmd_postfix": ") ",
     "delete_cmd_prefix": "rm(",
     "library": "var_list.r",
     "varRefreshCmd": "cat(var_dic_list()) "
    }
   },
   "types_to_exclude": [
    "module",
    "function",
    "builtin_function_or_method",
    "instance",
    "_Feature"
   ],
   "window_display": false
  }
 },
 "nbformat": 4,
 "nbformat_minor": 2
}
