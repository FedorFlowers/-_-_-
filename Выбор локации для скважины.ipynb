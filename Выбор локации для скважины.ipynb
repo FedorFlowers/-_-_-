{
 "cells": [
  {
   "cell_type": "markdown",
   "metadata": {},
   "source": [
    "# Выбор локации для скважины"
   ]
  },
  {
   "cell_type": "markdown",
   "metadata": {},
   "source": [
    "Допустим, вы работаете в добывающей компании «ГлавРосГосНефть». Нужно решить, где бурить новую скважину.\n",
    "\n",
    "Вам предоставлены пробы нефти в трёх регионах: в каждом 10 000 месторождений, где измерили качество нефти и объём её запасов. Постройте модель машинного обучения, которая поможет определить регион, где добыча принесёт наибольшую прибыль. Проанализируйте возможную прибыль и риски техникой *Bootstrap.*\n",
    "\n",
    "Шаги для выбора локации:\n",
    "\n",
    "- В избранном регионе ищут месторождения, для каждого определяют значения признаков;\n",
    "- Строят модель и оценивают объём запасов;\n",
    "- Выбирают месторождения с самым высокими оценками значений. Количество месторождений зависит от бюджета компании и стоимости разработки одной скважины;\n",
    "- Прибыль равна суммарной прибыли отобранных месторождений."
   ]
  },
  {
   "cell_type": "markdown",
   "metadata": {},
   "source": [
    "# Описание данных\n",
    "\n",
    "- id — уникальный идентификатор скважины;\n",
    "- f0, f1, f2 — три признака точек (неважно, что они означают, но сами признаки значимы);\n",
    "- product — объём запасов в скважине (тыс. баррелей).\n",
    "\n",
    "Условия задачи:\n",
    "- Для обучения модели подходит только линейная регрессия (остальные — недостаточно предсказуемые).\n",
    "- При разведке региона исследуют 500 точек, из которых с помощью машинного обучения выбирают 200 лучших для разработки.\n",
    "- Бюджет на разработку скважин в регионе — 10 млрд рублей.\n",
    "\n",
    "При нынешних ценах один баррель сырья приносит 450 рублей дохода. Доход с каждой единицы продукта составляет 450 тыс. рублей, поскольку объём указан в тысячах баррелей.\n",
    "\n",
    "После оценки рисков нужно оставить лишь те регионы, в которых вероятность убытков меньше 2.5%. Среди них выбирают регион с наибольшей средней прибылью.\n",
    "\n",
    "Данные синтетические: детали контрактов и характеристики месторождений не разглашаются."
   ]
  },
  {
   "cell_type": "markdown",
   "metadata": {},
   "source": [
    "## Загрузка и подготовка данных"
   ]
  },
  {
   "cell_type": "code",
   "execution_count": 1,
   "metadata": {},
   "outputs": [],
   "source": [
    "import pandas as pd "
   ]
  },
  {
   "cell_type": "code",
   "execution_count": 2,
   "metadata": {},
   "outputs": [],
   "source": [
    "df_0 = pd.read_csv('/datasets/geo_data_0.csv')\n",
    "df_1 = pd.read_csv('/datasets/geo_data_1.csv')\n",
    "df_2 = pd.read_csv('/datasets/geo_data_2.csv')"
   ]
  },
  {
   "cell_type": "markdown",
   "metadata": {},
   "source": [
    "Загружаем и смотрим на данные "
   ]
  },
  {
   "cell_type": "code",
   "execution_count": 3,
   "metadata": {
    "scrolled": false
   },
   "outputs": [
    {
     "name": "stdout",
     "output_type": "stream",
     "text": [
      "<class 'pandas.core.frame.DataFrame'>\n",
      "RangeIndex: 100000 entries, 0 to 99999\n",
      "Data columns (total 5 columns):\n",
      " #   Column   Non-Null Count   Dtype  \n",
      "---  ------   --------------   -----  \n",
      " 0   id       100000 non-null  object \n",
      " 1   f0       100000 non-null  float64\n",
      " 2   f1       100000 non-null  float64\n",
      " 3   f2       100000 non-null  float64\n",
      " 4   product  100000 non-null  float64\n",
      "dtypes: float64(4), object(1)\n",
      "memory usage: 3.8+ MB\n"
     ]
    },
    {
     "data": {
      "text/html": [
       "<div>\n",
       "<style scoped>\n",
       "    .dataframe tbody tr th:only-of-type {\n",
       "        vertical-align: middle;\n",
       "    }\n",
       "\n",
       "    .dataframe tbody tr th {\n",
       "        vertical-align: top;\n",
       "    }\n",
       "\n",
       "    .dataframe thead th {\n",
       "        text-align: right;\n",
       "    }\n",
       "</style>\n",
       "<table border=\"1\" class=\"dataframe\">\n",
       "  <thead>\n",
       "    <tr style=\"text-align: right;\">\n",
       "      <th></th>\n",
       "      <th>id</th>\n",
       "      <th>f0</th>\n",
       "      <th>f1</th>\n",
       "      <th>f2</th>\n",
       "      <th>product</th>\n",
       "    </tr>\n",
       "  </thead>\n",
       "  <tbody>\n",
       "    <tr>\n",
       "      <th>0</th>\n",
       "      <td>txEyH</td>\n",
       "      <td>0.705745</td>\n",
       "      <td>-0.497823</td>\n",
       "      <td>1.221170</td>\n",
       "      <td>105.280062</td>\n",
       "    </tr>\n",
       "    <tr>\n",
       "      <th>1</th>\n",
       "      <td>2acmU</td>\n",
       "      <td>1.334711</td>\n",
       "      <td>-0.340164</td>\n",
       "      <td>4.365080</td>\n",
       "      <td>73.037750</td>\n",
       "    </tr>\n",
       "    <tr>\n",
       "      <th>2</th>\n",
       "      <td>409Wp</td>\n",
       "      <td>1.022732</td>\n",
       "      <td>0.151990</td>\n",
       "      <td>1.419926</td>\n",
       "      <td>85.265647</td>\n",
       "    </tr>\n",
       "    <tr>\n",
       "      <th>3</th>\n",
       "      <td>iJLyR</td>\n",
       "      <td>-0.032172</td>\n",
       "      <td>0.139033</td>\n",
       "      <td>2.978566</td>\n",
       "      <td>168.620776</td>\n",
       "    </tr>\n",
       "    <tr>\n",
       "      <th>4</th>\n",
       "      <td>Xdl7t</td>\n",
       "      <td>1.988431</td>\n",
       "      <td>0.155413</td>\n",
       "      <td>4.751769</td>\n",
       "      <td>154.036647</td>\n",
       "    </tr>\n",
       "  </tbody>\n",
       "</table>\n",
       "</div>"
      ],
      "text/plain": [
       "      id        f0        f1        f2     product\n",
       "0  txEyH  0.705745 -0.497823  1.221170  105.280062\n",
       "1  2acmU  1.334711 -0.340164  4.365080   73.037750\n",
       "2  409Wp  1.022732  0.151990  1.419926   85.265647\n",
       "3  iJLyR -0.032172  0.139033  2.978566  168.620776\n",
       "4  Xdl7t  1.988431  0.155413  4.751769  154.036647"
      ]
     },
     "metadata": {},
     "output_type": "display_data"
    },
    {
     "name": "stdout",
     "output_type": "stream",
     "text": [
      "<class 'pandas.core.frame.DataFrame'>\n",
      "RangeIndex: 100000 entries, 0 to 99999\n",
      "Data columns (total 5 columns):\n",
      " #   Column   Non-Null Count   Dtype  \n",
      "---  ------   --------------   -----  \n",
      " 0   id       100000 non-null  object \n",
      " 1   f0       100000 non-null  float64\n",
      " 2   f1       100000 non-null  float64\n",
      " 3   f2       100000 non-null  float64\n",
      " 4   product  100000 non-null  float64\n",
      "dtypes: float64(4), object(1)\n",
      "memory usage: 3.8+ MB\n"
     ]
    },
    {
     "data": {
      "text/html": [
       "<div>\n",
       "<style scoped>\n",
       "    .dataframe tbody tr th:only-of-type {\n",
       "        vertical-align: middle;\n",
       "    }\n",
       "\n",
       "    .dataframe tbody tr th {\n",
       "        vertical-align: top;\n",
       "    }\n",
       "\n",
       "    .dataframe thead th {\n",
       "        text-align: right;\n",
       "    }\n",
       "</style>\n",
       "<table border=\"1\" class=\"dataframe\">\n",
       "  <thead>\n",
       "    <tr style=\"text-align: right;\">\n",
       "      <th></th>\n",
       "      <th>id</th>\n",
       "      <th>f0</th>\n",
       "      <th>f1</th>\n",
       "      <th>f2</th>\n",
       "      <th>product</th>\n",
       "    </tr>\n",
       "  </thead>\n",
       "  <tbody>\n",
       "    <tr>\n",
       "      <th>0</th>\n",
       "      <td>kBEdx</td>\n",
       "      <td>-15.001348</td>\n",
       "      <td>-8.276000</td>\n",
       "      <td>-0.005876</td>\n",
       "      <td>3.179103</td>\n",
       "    </tr>\n",
       "    <tr>\n",
       "      <th>1</th>\n",
       "      <td>62mP7</td>\n",
       "      <td>14.272088</td>\n",
       "      <td>-3.475083</td>\n",
       "      <td>0.999183</td>\n",
       "      <td>26.953261</td>\n",
       "    </tr>\n",
       "    <tr>\n",
       "      <th>2</th>\n",
       "      <td>vyE1P</td>\n",
       "      <td>6.263187</td>\n",
       "      <td>-5.948386</td>\n",
       "      <td>5.001160</td>\n",
       "      <td>134.766305</td>\n",
       "    </tr>\n",
       "    <tr>\n",
       "      <th>3</th>\n",
       "      <td>KcrkZ</td>\n",
       "      <td>-13.081196</td>\n",
       "      <td>-11.506057</td>\n",
       "      <td>4.999415</td>\n",
       "      <td>137.945408</td>\n",
       "    </tr>\n",
       "    <tr>\n",
       "      <th>4</th>\n",
       "      <td>AHL4O</td>\n",
       "      <td>12.702195</td>\n",
       "      <td>-8.147433</td>\n",
       "      <td>5.004363</td>\n",
       "      <td>134.766305</td>\n",
       "    </tr>\n",
       "  </tbody>\n",
       "</table>\n",
       "</div>"
      ],
      "text/plain": [
       "      id         f0         f1        f2     product\n",
       "0  kBEdx -15.001348  -8.276000 -0.005876    3.179103\n",
       "1  62mP7  14.272088  -3.475083  0.999183   26.953261\n",
       "2  vyE1P   6.263187  -5.948386  5.001160  134.766305\n",
       "3  KcrkZ -13.081196 -11.506057  4.999415  137.945408\n",
       "4  AHL4O  12.702195  -8.147433  5.004363  134.766305"
      ]
     },
     "metadata": {},
     "output_type": "display_data"
    },
    {
     "name": "stdout",
     "output_type": "stream",
     "text": [
      "<class 'pandas.core.frame.DataFrame'>\n",
      "RangeIndex: 100000 entries, 0 to 99999\n",
      "Data columns (total 5 columns):\n",
      " #   Column   Non-Null Count   Dtype  \n",
      "---  ------   --------------   -----  \n",
      " 0   id       100000 non-null  object \n",
      " 1   f0       100000 non-null  float64\n",
      " 2   f1       100000 non-null  float64\n",
      " 3   f2       100000 non-null  float64\n",
      " 4   product  100000 non-null  float64\n",
      "dtypes: float64(4), object(1)\n",
      "memory usage: 3.8+ MB\n"
     ]
    },
    {
     "data": {
      "text/html": [
       "<div>\n",
       "<style scoped>\n",
       "    .dataframe tbody tr th:only-of-type {\n",
       "        vertical-align: middle;\n",
       "    }\n",
       "\n",
       "    .dataframe tbody tr th {\n",
       "        vertical-align: top;\n",
       "    }\n",
       "\n",
       "    .dataframe thead th {\n",
       "        text-align: right;\n",
       "    }\n",
       "</style>\n",
       "<table border=\"1\" class=\"dataframe\">\n",
       "  <thead>\n",
       "    <tr style=\"text-align: right;\">\n",
       "      <th></th>\n",
       "      <th>id</th>\n",
       "      <th>f0</th>\n",
       "      <th>f1</th>\n",
       "      <th>f2</th>\n",
       "      <th>product</th>\n",
       "    </tr>\n",
       "  </thead>\n",
       "  <tbody>\n",
       "    <tr>\n",
       "      <th>0</th>\n",
       "      <td>fwXo0</td>\n",
       "      <td>-1.146987</td>\n",
       "      <td>0.963328</td>\n",
       "      <td>-0.828965</td>\n",
       "      <td>27.758673</td>\n",
       "    </tr>\n",
       "    <tr>\n",
       "      <th>1</th>\n",
       "      <td>WJtFt</td>\n",
       "      <td>0.262778</td>\n",
       "      <td>0.269839</td>\n",
       "      <td>-2.530187</td>\n",
       "      <td>56.069697</td>\n",
       "    </tr>\n",
       "    <tr>\n",
       "      <th>2</th>\n",
       "      <td>ovLUW</td>\n",
       "      <td>0.194587</td>\n",
       "      <td>0.289035</td>\n",
       "      <td>-5.586433</td>\n",
       "      <td>62.871910</td>\n",
       "    </tr>\n",
       "    <tr>\n",
       "      <th>3</th>\n",
       "      <td>q6cA6</td>\n",
       "      <td>2.236060</td>\n",
       "      <td>-0.553760</td>\n",
       "      <td>0.930038</td>\n",
       "      <td>114.572842</td>\n",
       "    </tr>\n",
       "    <tr>\n",
       "      <th>4</th>\n",
       "      <td>WPMUX</td>\n",
       "      <td>-0.515993</td>\n",
       "      <td>1.716266</td>\n",
       "      <td>5.899011</td>\n",
       "      <td>149.600746</td>\n",
       "    </tr>\n",
       "  </tbody>\n",
       "</table>\n",
       "</div>"
      ],
      "text/plain": [
       "      id        f0        f1        f2     product\n",
       "0  fwXo0 -1.146987  0.963328 -0.828965   27.758673\n",
       "1  WJtFt  0.262778  0.269839 -2.530187   56.069697\n",
       "2  ovLUW  0.194587  0.289035 -5.586433   62.871910\n",
       "3  q6cA6  2.236060 -0.553760  0.930038  114.572842\n",
       "4  WPMUX -0.515993  1.716266  5.899011  149.600746"
      ]
     },
     "metadata": {},
     "output_type": "display_data"
    }
   ],
   "source": [
    "df_list = {'0' : df_0, # создаем словарь для последующего цикла с перебором по ключам=датафреймам \n",
    "           '1' : df_1,\n",
    "           '2' : df_2}\n",
    "\n",
    "for i in df_list:\n",
    "    df_list[i].info()\n",
    "    display(df_list[i].head())"
   ]
  },
  {
   "cell_type": "markdown",
   "metadata": {},
   "source": [
    "В данных видими 3 файла с данными:\n",
    "- 4 столбца\n",
    "- 1000 стр в каждом датафрейме \n",
    "- типы данных менять не нужно, т.к. все нужные нам для дадльнейшей работы столбцы типа float "
   ]
  },
  {
   "cell_type": "markdown",
   "metadata": {},
   "source": [
    "Проверим пропуски и дупликаты "
   ]
  },
  {
   "cell_type": "code",
   "execution_count": 4,
   "metadata": {},
   "outputs": [
    {
     "name": "stdout",
     "output_type": "stream",
     "text": [
      "Дупликатов нет\n",
      "Дупликатов нет\n",
      "Дупликатов нет\n"
     ]
    }
   ],
   "source": [
    "def duplicates(df): \n",
    "    duplicates = df.duplicated().sum()\n",
    "    if duplicates == 0:\n",
    "        print('Дупликатов нет')\n",
    "    else:\n",
    "        print(f'Дупликатов:{duplicates}')\n",
    "        \n",
    "for i in df_list.values():\n",
    "    duplicates(i)"
   ]
  },
  {
   "cell_type": "code",
   "execution_count": 5,
   "metadata": {
    "scrolled": false
   },
   "outputs": [
    {
     "name": "stdout",
     "output_type": "stream",
     "text": [
      "Пропусков нет\n",
      "Пропусков нет\n",
      "Пропусков нет\n"
     ]
    }
   ],
   "source": [
    "def missing_values(df):\n",
    "    isna = df.isna().sum().sum()\n",
    "    if isna == 0:\n",
    "        print('Пропусков нет')\n",
    "    else:\n",
    "        print(f'Пропусков:{isna}')\n",
    "        \n",
    "for i in df_list.values():\n",
    "    missing_values(i)"
   ]
  },
  {
   "cell_type": "markdown",
   "metadata": {},
   "source": [
    "Убираем лишний столбец который не понадобиться в обучении модели"
   ]
  },
  {
   "cell_type": "code",
   "execution_count": 6,
   "metadata": {
    "scrolled": true
   },
   "outputs": [],
   "source": [
    "df_0.drop(['id'], axis = 1, inplace = True)\n",
    "df_1.drop(['id'], axis = 1, inplace = True)\n",
    "df_2.drop(['id'], axis = 1, inplace = True)"
   ]
  },
  {
   "cell_type": "markdown",
   "metadata": {},
   "source": [
    "***Итоги:***\n",
    "- Проверили данные на пропуски и дупликаты \n",
    "- Подготовили данные к обучении модели"
   ]
  },
  {
   "cell_type": "markdown",
   "metadata": {},
   "source": [
    "## Обучение и проверка модели"
   ]
  },
  {
   "cell_type": "markdown",
   "metadata": {},
   "source": [
    "Импортируем нужные библиотеки и обучаем модели линейной регрессии + сохраняем в переменные результаты "
   ]
  },
  {
   "cell_type": "code",
   "execution_count": 7,
   "metadata": {},
   "outputs": [],
   "source": [
    "from sklearn.linear_model import LinearRegression\n",
    "from sklearn.model_selection import train_test_split\n",
    "from sklearn.metrics import mean_squared_error"
   ]
  },
  {
   "cell_type": "code",
   "execution_count": 8,
   "metadata": {
    "scrolled": true
   },
   "outputs": [
    {
     "name": "stdout",
     "output_type": "stream",
     "text": [
      "Регион №1\n",
      "Cредний запас предсказанного сырья: 92.54936189116306\n",
      "RMSE модели линейной регрессии на валидационной выборке: 37.64786282376177\n",
      "\n",
      "Регион №2\n",
      "Cредний запас предсказанного сырья: 69.28001860653976\n",
      "RMSE модели линейной регрессии на валидационной выборке: 0.8954139804944313\n",
      "\n",
      "Регион №3\n",
      "Cредний запас предсказанного сырья: 95.09859933591373\n",
      "RMSE модели линейной регрессии на валидационной выборке: 40.12803006598514\n"
     ]
    }
   ],
   "source": [
    "def liner_regression (data):\n",
    "    df_features = data.drop(['product'], axis=1)\n",
    "    df_target = data['product']\n",
    "    features_train, features_valid, target_train, target_valid = train_test_split(df_features, \n",
    "                                                                                  df_target, \n",
    "                                                                                  test_size = 0.25,\n",
    "                                                                                  random_state = 123)\n",
    "    model = LinearRegression()\n",
    "    model.fit(features_train, target_train)\n",
    "    predictions_valid = model.predict(features_valid)\n",
    "    predictions_valid_mean = predictions_valid.mean()\n",
    "    result = mean_squared_error(target_valid, predictions_valid, squared=False)\n",
    "    return target_valid, predictions_valid, predictions_valid_mean, result\n",
    "\n",
    "target_valid_0, predictions_valid_0, predictions_valid_mean_0, result_0 = liner_regression(df_0)\n",
    "target_valid_1, predictions_valid_1, predictions_valid_mean_1, result_1 = liner_regression(df_1)\n",
    "target_valid_2, predictions_valid_2, predictions_valid_mean_2, result_2 = liner_regression(df_2)\n",
    "\n",
    "print(\"Регион №1\")\n",
    "print(\"Cредний запас предсказанного сырья:\", predictions_valid_mean_0)\n",
    "print(\"RMSE модели линейной регрессии на валидационной выборке:\", result_0)\n",
    "\n",
    "print(\"\\nРегион №2\")\n",
    "print(\"Cредний запас предсказанного сырья:\", predictions_valid_mean_1)\n",
    "print(\"RMSE модели линейной регрессии на валидационной выборке:\", result_1)\n",
    "\n",
    "print(\"\\nРегион №3\")\n",
    "print(\"Cредний запас предсказанного сырья:\", predictions_valid_mean_2)\n",
    "print(\"RMSE модели линейной регрессии на валидационной выборке:\", result_2)"
   ]
  },
  {
   "cell_type": "markdown",
   "metadata": {},
   "source": [
    "***Итоги:***\n",
    "\n",
    "Результаты обучения и проверки регрессионных моделей:\n",
    "\n",
    "*1-й регион:*\n",
    "- Cредний запас предсказанного сырья: 92.54936189116306\n",
    "- RMSE модели линейной регрессии на валидационной выборке: 37.64786282376177\n",
    "\n",
    "*2-й регион:*\n",
    "- Cредний запас предсказанного сырья: 69.28001860653976\n",
    "- RMSE модели линейной регрессии на валидационной выборке: 0.8954139804944313\n",
    "\n",
    "*3-й регион:*\n",
    "- Cредний запас предсказанного сырья: 95.09859933591373\n",
    "- RMSE модели линейной регрессии на валидационной выборке: 40.12803006598514\n",
    "    \n",
    "Лучший RMSE на валидационной выборке на 2-ом регионе.\n",
    "    "
   ]
  },
  {
   "cell_type": "markdown",
   "metadata": {},
   "source": [
    "## Подготовка к расчёту прибыли"
   ]
  },
  {
   "cell_type": "markdown",
   "metadata": {},
   "source": [
    "Расчитаем достаточный объём сырья для безубыточной разработки новой скважины и сравним полученный объём сырья со средним запасом в каждом регионе. \n",
    "\n",
    "Сначала считаем бюджет для каждой скважины из 200 лучших, а затем делим этот бюджет на прибыль каждой скважины чтобы узнать сколько должно быть скважин для минимального покрытия бюджета в 0"
   ]
  },
  {
   "cell_type": "code",
   "execution_count": 9,
   "metadata": {
    "scrolled": false
   },
   "outputs": [
    {
     "name": "stdout",
     "output_type": "stream",
     "text": [
      "Безубыточность: 111.11111111111111\n",
      "\n",
      "Регион №1\n",
      "Cредний запас предсказанного сырья: 92.54936189116306\n",
      "\n",
      "Регион №2\n",
      "Cредний запас предсказанного сырья: 69.28001860653976\n",
      "\n",
      "Регион №3\n",
      "Cредний запас предсказанного сырья: 95.09859933591373\n"
     ]
    }
   ],
   "source": [
    "budget = 10_000_000_000\n",
    "income_per_unit = 450_000\n",
    "count = 200\n",
    "all_bores = 500\n",
    "\n",
    "budget_per_well = budget / count\n",
    "min_value = budget_per_well / income_per_unit\n",
    "\n",
    "print(f'Безубыточность: {min_value}')\n",
    "\n",
    "print(\"\\nРегион №1\")\n",
    "print(\"Cредний запас предсказанного сырья:\", predictions_valid_mean_0)\n",
    "\n",
    "print(\"\\nРегион №2\")\n",
    "print(\"Cредний запас предсказанного сырья:\", predictions_valid_mean_1)\n",
    "\n",
    "print(\"\\nРегион №3\")\n",
    "print(\"Cредний запас предсказанного сырья:\", predictions_valid_mean_2)"
   ]
  },
  {
   "cell_type": "markdown",
   "metadata": {},
   "source": [
    "***Итоги:***\n",
    "\n",
    "Как видно из предсказанных запасов по всем регионам:\n",
    "\n",
    "- 1-й регион: Cредний запас предсказанного сырья: 92.54936189116306\n",
    "\n",
    "- 2-й регион: Cредний запас предсказанного сырья: 69.28001860653976\n",
    "\n",
    "- 3-й регион: Cредний запас предсказанного сырья: 95.09859933591373\n",
    "\n",
    "\n",
    ",ни один из них не может быть безубыточным, т.к. запасы сырья у всех регионов меньше 111.11111111111111  "
   ]
  },
  {
   "cell_type": "markdown",
   "metadata": {},
   "source": [
    "## Расчёт прибыли и рисков "
   ]
  },
  {
   "cell_type": "markdown",
   "metadata": {},
   "source": [
    "Создадим функцию для подчета прибыли "
   ]
  },
  {
   "cell_type": "code",
   "execution_count": 10,
   "metadata": {},
   "outputs": [
    {
     "name": "stdout",
     "output_type": "stream",
     "text": [
      "Прибыль в регионе №1: 3534670917.261383\n",
      "Прибыль в регионе №2: 2415086696.681511\n",
      "Прибыль в регионе №3: 2370343863.0213737\n"
     ]
    }
   ],
   "source": [
    "def calculate_profit(predictions, target):\n",
    "    predictions = pd.Series(predictions, index=target.index) # преобразем в Series вместо numpyarray\n",
    "    pred_sorted = predictions.sort_values(ascending=False) # сортируем от большего к меньшему для лучших результатов\n",
    "    selected = target[pred_sorted.index][:count] # выбираем наибольшие обьемы сырья 200 лучших \n",
    "   \n",
    "    revenue = selected.sum() * income_per_unit  \n",
    "    profit = revenue - budget  \n",
    "\n",
    "    return profit\n",
    "\n",
    "profit_0 = calculate_profit(predictions_valid_0, target_valid_0)\n",
    "profit_1 = calculate_profit(predictions_valid_1, target_valid_1)\n",
    "profit_2 = calculate_profit(predictions_valid_2, target_valid_2)\n",
    "\n",
    "print('Прибыль в регионе №1:', profit_0)\n",
    "print('Прибыль в регионе №2:', profit_1)\n",
    "print('Прибыль в регионе №3:', profit_2) "
   ]
  },
  {
   "cell_type": "markdown",
   "metadata": {},
   "source": [
    "Создадим функцию для bootstrap, которая оценит стандартные ошибки и доверительные интервалы для 3 регионов.  "
   ]
  },
  {
   "cell_type": "code",
   "execution_count": 15,
   "metadata": {},
   "outputs": [
    {
     "name": "stdout",
     "output_type": "stream",
     "text": [
      "Регион №1:\n",
      "Средняя прибыль: 504778653.6473463\n",
      "Доверительный интервал: -51833206.45118432, 1029933076.4951894\n",
      "Риск убытков: 4.0%\n",
      "\n",
      "Регион №2:\n",
      "Средняя прибыль: 538879609.1841167\n",
      "Доверительный интервал: 104974008.53059308, 963564955.3708618\n",
      "Риск убытков: 0.5%\n",
      "\n",
      "Регион №3:\n",
      "Средняя прибыль: 364222305.2978538\n",
      "Доверительный интервал: -220913808.22524208, 906489773.8374137\n",
      "Риск убытков: 9.5%\n"
     ]
    }
   ],
   "source": [
    "import numpy as np\n",
    "def profit_bootstrap(target, predictions):\n",
    "    state = np.random.RandomState(123)\n",
    "    values = []\n",
    "\n",
    "    for i in range(1000):\n",
    "        target_sample = target.reset_index(drop=True).sample(n=500, replace=True, random_state=state)\n",
    "        predictions_sample = predictions[target_sample.index]\n",
    "        value = calculate_profit(predictions_sample, target_sample)\n",
    "        values.append(value)\n",
    "\n",
    "    values = pd.Series(values)\n",
    "    lower = values.quantile(0.025)\n",
    "    upper = values.quantile(0.975)\n",
    "    mean_profit = values.mean()\n",
    "    risk = (values < 0).mean()\n",
    "\n",
    "    return mean_profit, lower, upper, risk\n",
    "\n",
    "mean_profit_0, lower_0, upper_0, risk_0 = profit_bootstrap(target_valid_0, predictions_valid_0)\n",
    "mean_profit_1, lower_1, upper_1, risk_1 = profit_bootstrap(target_valid_1, predictions_valid_1)\n",
    "mean_profit_2, lower_2, upper_2, risk_2 = profit_bootstrap(target_valid_2, predictions_valid_2)\n",
    "\n",
    "print('Регион №1:')\n",
    "print(f'Средняя прибыль: {mean_profit_0}')\n",
    "print(f'Доверительный интервал: {lower_0}, {upper_0}')\n",
    "print(f'Риск убытков: {risk_0:.1%}')\n",
    "\n",
    "print('\\nРегион №2:')\n",
    "print(f'Средняя прибыль: {mean_profit_1}')\n",
    "print(f'Доверительный интервал: {lower_1}, {upper_1}')\n",
    "print(f'Риск убытков: {risk_1:.1%}')\n",
    "\n",
    "print('\\nРегион №3:')\n",
    "print(f'Средняя прибыль: {mean_profit_2}')\n",
    "print(f'Доверительный интервал: {lower_2}, {upper_2}')\n",
    "print(f'Риск убытков: {risk_2:.1%}')"
   ]
  },
  {
   "cell_type": "markdown",
   "metadata": {},
   "source": [
    "***Итоги:***\n",
    "\n",
    "Как видно из расчета прибыли и рисков по всем регионам мы имеем следующую картину:\n",
    "\n",
    "1-й регион: \n",
    "- Риск убыточности - 4%\n",
    "\n",
    "2-й регион: \n",
    "- Риск убыточности - 0.5%. \n",
    "\n",
    "3-й регион: \n",
    "- Риск убыточности - 9.5%. \n",
    "\n",
    "Исходя из полученных данных, самым перпективным для разработки регионом будет ***регион №2***. т.к. он имеет наибольшую среднюю прибыль, а также наименьшую вероятность убыточности."
   ]
  }
 ],
 "metadata": {
  "ExecuteTimeLog": [
   {
    "duration": 538,
    "start_time": "2023-05-18T14:01:33.004Z"
   },
   {
    "duration": 120,
    "start_time": "2023-05-18T14:05:29.061Z"
   },
   {
    "duration": 1957,
    "start_time": "2023-05-18T14:05:31.498Z"
   },
   {
    "duration": 35,
    "start_time": "2023-05-18T14:05:34.018Z"
   },
   {
    "duration": 25,
    "start_time": "2023-05-18T14:05:49.466Z"
   },
   {
    "duration": 15,
    "start_time": "2023-05-18T14:05:54.410Z"
   },
   {
    "duration": 27,
    "start_time": "2023-05-18T14:05:59.458Z"
   },
   {
    "duration": 30,
    "start_time": "2023-05-18T14:06:09.063Z"
   },
   {
    "duration": 40,
    "start_time": "2023-05-18T14:06:12.198Z"
   },
   {
    "duration": 41,
    "start_time": "2023-05-18T14:07:07.389Z"
   },
   {
    "duration": 40,
    "start_time": "2023-05-18T14:07:08.159Z"
   },
   {
    "duration": 3,
    "start_time": "2023-05-18T14:09:18.788Z"
   },
   {
    "duration": 527,
    "start_time": "2023-05-18T14:09:20.368Z"
   },
   {
    "duration": 28,
    "start_time": "2023-05-18T14:09:22.389Z"
   },
   {
    "duration": 58,
    "start_time": "2023-05-18T14:17:20.405Z"
   },
   {
    "duration": 67,
    "start_time": "2023-05-18T14:17:29.476Z"
   },
   {
    "duration": 14,
    "start_time": "2023-05-18T14:17:44.911Z"
   },
   {
    "duration": 20,
    "start_time": "2023-05-18T14:17:50.198Z"
   },
   {
    "duration": 16,
    "start_time": "2023-05-18T14:17:55.288Z"
   },
   {
    "duration": 18,
    "start_time": "2023-05-18T14:17:58.326Z"
   },
   {
    "duration": 44,
    "start_time": "2023-05-18T14:18:03.879Z"
   },
   {
    "duration": 11,
    "start_time": "2023-05-18T14:19:16.518Z"
   },
   {
    "duration": 11,
    "start_time": "2023-05-18T14:19:27.927Z"
   },
   {
    "duration": 12,
    "start_time": "2023-05-18T14:19:42.968Z"
   },
   {
    "duration": 13,
    "start_time": "2023-05-18T14:20:02.255Z"
   },
   {
    "duration": 60,
    "start_time": "2023-05-18T14:20:08.011Z"
   },
   {
    "duration": 61,
    "start_time": "2023-05-18T14:20:22.130Z"
   },
   {
    "duration": 63,
    "start_time": "2023-05-18T14:20:43.842Z"
   },
   {
    "duration": 30,
    "start_time": "2023-05-18T14:22:05.397Z"
   },
   {
    "duration": 27,
    "start_time": "2023-05-18T14:22:17.284Z"
   },
   {
    "duration": 30,
    "start_time": "2023-05-18T14:22:25.199Z"
   },
   {
    "duration": 29,
    "start_time": "2023-05-18T14:22:31.185Z"
   },
   {
    "duration": 19,
    "start_time": "2023-05-18T14:22:41.811Z"
   },
   {
    "duration": 15,
    "start_time": "2023-05-18T14:22:43.759Z"
   },
   {
    "duration": 57,
    "start_time": "2023-05-18T14:23:22.285Z"
   },
   {
    "duration": 75,
    "start_time": "2023-05-18T14:23:29.620Z"
   },
   {
    "duration": 105,
    "start_time": "2023-05-18T14:50:49.070Z"
   },
   {
    "duration": 62,
    "start_time": "2023-05-18T14:50:53.061Z"
   },
   {
    "duration": 52,
    "start_time": "2023-05-18T14:50:58.416Z"
   },
   {
    "duration": 11,
    "start_time": "2023-05-18T14:53:54.846Z"
   },
   {
    "duration": 12,
    "start_time": "2023-05-18T14:54:19.080Z"
   },
   {
    "duration": 8,
    "start_time": "2023-05-18T14:55:54.549Z"
   },
   {
    "duration": 143,
    "start_time": "2023-05-18T14:56:07.396Z"
   },
   {
    "duration": 155,
    "start_time": "2023-05-18T14:56:13.375Z"
   },
   {
    "duration": 17,
    "start_time": "2023-05-18T14:56:46.213Z"
   },
   {
    "duration": 16,
    "start_time": "2023-05-18T14:57:26.448Z"
   },
   {
    "duration": 160,
    "start_time": "2023-05-18T15:00:11.658Z"
   },
   {
    "duration": 9,
    "start_time": "2023-05-18T15:00:50.587Z"
   },
   {
    "duration": 18,
    "start_time": "2023-05-18T15:00:58.356Z"
   },
   {
    "duration": 17,
    "start_time": "2023-05-18T15:01:15.579Z"
   },
   {
    "duration": 15,
    "start_time": "2023-05-18T15:02:10.449Z"
   },
   {
    "duration": 156,
    "start_time": "2023-05-18T15:02:15.276Z"
   },
   {
    "duration": 20,
    "start_time": "2023-05-18T15:02:28.186Z"
   },
   {
    "duration": 13,
    "start_time": "2023-05-18T15:02:36.251Z"
   },
   {
    "duration": 11,
    "start_time": "2023-05-18T15:02:38.693Z"
   },
   {
    "duration": 91,
    "start_time": "2023-05-18T15:02:50.352Z"
   },
   {
    "duration": 23,
    "start_time": "2023-05-18T15:02:57.082Z"
   },
   {
    "duration": 15,
    "start_time": "2023-05-18T15:34:24.808Z"
   },
   {
    "duration": 20,
    "start_time": "2023-05-18T15:34:39.008Z"
   },
   {
    "duration": 18,
    "start_time": "2023-05-18T15:34:43.133Z"
   },
   {
    "duration": 69,
    "start_time": "2023-05-18T15:35:05.285Z"
   },
   {
    "duration": 90,
    "start_time": "2023-05-18T15:35:23.660Z"
   },
   {
    "duration": 94,
    "start_time": "2023-05-18T15:35:28.259Z"
   },
   {
    "duration": 87,
    "start_time": "2023-05-18T15:35:50.986Z"
   },
   {
    "duration": 379,
    "start_time": "2023-05-19T11:25:42.568Z"
   },
   {
    "duration": 785,
    "start_time": "2023-05-19T11:25:42.948Z"
   },
   {
    "duration": 78,
    "start_time": "2023-05-19T11:25:43.734Z"
   },
   {
    "duration": 138,
    "start_time": "2023-05-19T11:25:43.814Z"
   },
   {
    "duration": 21,
    "start_time": "2023-05-19T11:25:43.955Z"
   },
   {
    "duration": 18,
    "start_time": "2023-05-19T11:56:29.943Z"
   },
   {
    "duration": 16,
    "start_time": "2023-05-19T11:56:37.454Z"
   },
   {
    "duration": 3,
    "start_time": "2023-05-19T11:58:42.132Z"
   },
   {
    "duration": 714,
    "start_time": "2023-05-19T11:58:51.119Z"
   },
   {
    "duration": 17,
    "start_time": "2023-05-19T11:59:11.567Z"
   },
   {
    "duration": 26,
    "start_time": "2023-05-19T11:59:26.821Z"
   },
   {
    "duration": 9,
    "start_time": "2023-05-19T11:59:29.024Z"
   },
   {
    "duration": 120,
    "start_time": "2023-05-19T11:59:38.926Z"
   },
   {
    "duration": 14,
    "start_time": "2023-05-19T11:59:40.463Z"
   },
   {
    "duration": 14,
    "start_time": "2023-05-19T12:00:04.991Z"
   },
   {
    "duration": 414,
    "start_time": "2023-05-19T12:00:22.766Z"
   },
   {
    "duration": 392,
    "start_time": "2023-05-19T12:00:23.182Z"
   },
   {
    "duration": 77,
    "start_time": "2023-05-19T12:00:23.576Z"
   },
   {
    "duration": 149,
    "start_time": "2023-05-19T12:00:23.655Z"
   },
   {
    "duration": 20,
    "start_time": "2023-05-19T12:00:23.811Z"
   },
   {
    "duration": 17,
    "start_time": "2023-05-19T12:00:23.832Z"
   },
   {
    "duration": 18,
    "start_time": "2023-05-19T12:00:23.851Z"
   },
   {
    "duration": 716,
    "start_time": "2023-05-19T12:00:23.870Z"
   },
   {
    "duration": 22,
    "start_time": "2023-05-19T12:09:05.083Z"
   },
   {
    "duration": 3,
    "start_time": "2023-05-19T12:09:05.850Z"
   },
   {
    "duration": 417,
    "start_time": "2023-05-19T21:08:26.869Z"
   },
   {
    "duration": 949,
    "start_time": "2023-05-19T21:08:27.288Z"
   },
   {
    "duration": 63,
    "start_time": "2023-05-19T21:08:28.239Z"
   },
   {
    "duration": 136,
    "start_time": "2023-05-19T21:08:28.304Z"
   },
   {
    "duration": 17,
    "start_time": "2023-05-19T21:08:28.442Z"
   },
   {
    "duration": 30,
    "start_time": "2023-05-19T21:08:28.461Z"
   },
   {
    "duration": 718,
    "start_time": "2023-05-19T21:08:28.496Z"
   },
   {
    "duration": 3,
    "start_time": "2023-05-19T21:08:29.216Z"
   },
   {
    "duration": 4,
    "start_time": "2023-05-19T21:13:47.433Z"
   },
   {
    "duration": 4,
    "start_time": "2023-05-19T21:14:44.621Z"
   },
   {
    "duration": 100,
    "start_time": "2023-05-19T21:15:02.045Z"
   },
   {
    "duration": 29,
    "start_time": "2023-05-19T21:15:15.577Z"
   },
   {
    "duration": 22,
    "start_time": "2023-05-19T21:16:00.229Z"
   },
   {
    "duration": 26,
    "start_time": "2023-05-19T21:16:32.761Z"
   },
   {
    "duration": 22,
    "start_time": "2023-05-19T21:17:02.548Z"
   },
   {
    "duration": 66,
    "start_time": "2023-05-19T21:18:23.819Z"
   },
   {
    "duration": 82,
    "start_time": "2023-05-19T21:18:25.204Z"
   },
   {
    "duration": 89,
    "start_time": "2023-05-19T21:18:42.499Z"
   },
   {
    "duration": 21,
    "start_time": "2023-05-19T21:18:48.847Z"
   },
   {
    "duration": 285,
    "start_time": "2023-05-19T21:18:59.202Z"
   },
   {
    "duration": 6,
    "start_time": "2023-05-19T21:20:16.242Z"
   },
   {
    "duration": 327,
    "start_time": "2023-05-19T21:20:35.170Z"
   },
   {
    "duration": 214,
    "start_time": "2023-05-19T21:20:57.073Z"
   },
   {
    "duration": 144,
    "start_time": "2023-05-19T21:21:12.842Z"
   },
   {
    "duration": 201,
    "start_time": "2023-05-19T21:21:22.185Z"
   },
   {
    "duration": 210,
    "start_time": "2023-05-19T21:21:27.082Z"
   },
   {
    "duration": 137,
    "start_time": "2023-05-19T21:21:47.550Z"
   },
   {
    "duration": 289,
    "start_time": "2023-05-19T21:21:54.297Z"
   },
   {
    "duration": 165,
    "start_time": "2023-05-19T21:22:07.927Z"
   },
   {
    "duration": 8,
    "start_time": "2023-05-19T22:08:48.171Z"
   },
   {
    "duration": 4,
    "start_time": "2023-05-19T22:09:04.345Z"
   },
   {
    "duration": 228,
    "start_time": "2023-05-19T22:21:53.159Z"
   },
   {
    "duration": 314,
    "start_time": "2023-05-19T22:21:58.575Z"
   },
   {
    "duration": 483,
    "start_time": "2023-05-19T22:30:58.402Z"
   },
   {
    "duration": 139,
    "start_time": "2023-05-19T22:33:26.953Z"
   },
   {
    "duration": 3,
    "start_time": "2023-05-19T22:38:42.233Z"
   },
   {
    "duration": 10,
    "start_time": "2023-05-19T22:44:42.412Z"
   },
   {
    "duration": 8,
    "start_time": "2023-05-19T22:47:57.417Z"
   },
   {
    "duration": 23,
    "start_time": "2023-05-19T22:48:07.419Z"
   },
   {
    "duration": 286,
    "start_time": "2023-05-19T22:50:39.305Z"
   },
   {
    "duration": 296,
    "start_time": "2023-05-19T22:50:45.096Z"
   },
   {
    "duration": 351,
    "start_time": "2023-05-19T22:53:55.949Z"
   },
   {
    "duration": 196,
    "start_time": "2023-05-19T22:54:46.790Z"
   },
   {
    "duration": 13,
    "start_time": "2023-05-19T22:55:16.045Z"
   },
   {
    "duration": 421,
    "start_time": "2023-05-19T22:55:44.868Z"
   },
   {
    "duration": 10,
    "start_time": "2023-05-19T22:55:55.356Z"
   },
   {
    "duration": 254,
    "start_time": "2023-05-19T22:57:09.836Z"
   },
   {
    "duration": 137,
    "start_time": "2023-05-19T22:57:17.156Z"
   },
   {
    "duration": 254,
    "start_time": "2023-05-19T22:57:33.731Z"
   },
   {
    "duration": 174,
    "start_time": "2023-05-19T22:57:37.516Z"
   },
   {
    "duration": 306,
    "start_time": "2023-05-19T22:58:27.578Z"
   },
   {
    "duration": 23,
    "start_time": "2023-05-19T22:58:50.235Z"
   },
   {
    "duration": 269,
    "start_time": "2023-05-19T22:59:28.721Z"
   },
   {
    "duration": 218,
    "start_time": "2023-05-19T22:59:51.770Z"
   },
   {
    "duration": 208,
    "start_time": "2023-05-19T23:00:13.681Z"
   },
   {
    "duration": 126,
    "start_time": "2023-05-19T23:00:16.465Z"
   },
   {
    "duration": 294,
    "start_time": "2023-05-19T23:00:26.497Z"
   },
   {
    "duration": 288,
    "start_time": "2023-05-19T23:01:05.200Z"
   },
   {
    "duration": 161,
    "start_time": "2023-05-19T23:02:29.928Z"
   },
   {
    "duration": 225,
    "start_time": "2023-05-19T23:03:01.264Z"
   },
   {
    "duration": 247,
    "start_time": "2023-05-19T23:03:19.141Z"
   },
   {
    "duration": 188,
    "start_time": "2023-05-19T23:03:24.100Z"
   },
   {
    "duration": 170,
    "start_time": "2023-05-19T23:03:33.720Z"
   },
   {
    "duration": 5,
    "start_time": "2023-05-19T23:04:10.390Z"
   },
   {
    "duration": 3,
    "start_time": "2023-05-19T23:04:17.283Z"
   },
   {
    "duration": 8,
    "start_time": "2023-05-19T23:05:03.142Z"
   },
   {
    "duration": 5,
    "start_time": "2023-05-19T23:05:08.058Z"
   },
   {
    "duration": 4,
    "start_time": "2023-05-19T23:05:13.229Z"
   },
   {
    "duration": 5,
    "start_time": "2023-05-19T23:05:41.713Z"
   },
   {
    "duration": 4,
    "start_time": "2023-05-19T23:05:45.077Z"
   },
   {
    "duration": 5,
    "start_time": "2023-05-19T23:06:02.205Z"
   },
   {
    "duration": 9,
    "start_time": "2023-05-19T23:06:27.413Z"
   },
   {
    "duration": 9,
    "start_time": "2023-05-19T23:07:10.877Z"
   },
   {
    "duration": 4,
    "start_time": "2023-05-19T23:07:42.550Z"
   },
   {
    "duration": 9,
    "start_time": "2023-05-19T23:08:09.076Z"
   },
   {
    "duration": 5,
    "start_time": "2023-05-19T23:08:14.131Z"
   },
   {
    "duration": 8,
    "start_time": "2023-05-19T23:08:16.156Z"
   },
   {
    "duration": 9,
    "start_time": "2023-05-19T23:09:21.204Z"
   },
   {
    "duration": 9,
    "start_time": "2023-05-19T23:09:58.723Z"
   },
   {
    "duration": 4,
    "start_time": "2023-05-19T23:10:10.146Z"
   },
   {
    "duration": 7,
    "start_time": "2023-05-19T23:10:13.571Z"
   },
   {
    "duration": 22,
    "start_time": "2023-05-19T23:14:02.832Z"
   },
   {
    "duration": 8,
    "start_time": "2023-05-19T23:15:32.647Z"
   },
   {
    "duration": 5,
    "start_time": "2023-05-19T23:15:46.072Z"
   },
   {
    "duration": 4,
    "start_time": "2023-05-19T23:15:50.200Z"
   },
   {
    "duration": 5,
    "start_time": "2023-05-19T23:15:52.439Z"
   },
   {
    "duration": 4,
    "start_time": "2023-05-19T23:16:08.224Z"
   },
   {
    "duration": 20,
    "start_time": "2023-05-19T23:16:13.792Z"
   },
   {
    "duration": 8,
    "start_time": "2023-05-19T23:17:32.380Z"
   },
   {
    "duration": 349,
    "start_time": "2023-05-19T23:18:11.248Z"
   },
   {
    "duration": 318,
    "start_time": "2023-05-19T23:18:11.600Z"
   },
   {
    "duration": 65,
    "start_time": "2023-05-19T23:18:11.920Z"
   },
   {
    "duration": 107,
    "start_time": "2023-05-19T23:18:11.986Z"
   },
   {
    "duration": 16,
    "start_time": "2023-05-19T23:18:12.095Z"
   },
   {
    "duration": 15,
    "start_time": "2023-05-19T23:18:12.112Z"
   },
   {
    "duration": 578,
    "start_time": "2023-05-19T23:18:12.128Z"
   },
   {
    "duration": 189,
    "start_time": "2023-05-19T23:18:12.708Z"
   },
   {
    "duration": 7,
    "start_time": "2023-05-19T23:18:12.985Z"
   },
   {
    "duration": 180,
    "start_time": "2023-05-19T23:18:12.993Z"
   },
   {
    "duration": 3,
    "start_time": "2023-05-19T23:19:03.256Z"
   },
   {
    "duration": 11,
    "start_time": "2023-05-19T23:19:04.312Z"
   },
   {
    "duration": 3,
    "start_time": "2023-05-19T23:19:34.439Z"
   },
   {
    "duration": 7,
    "start_time": "2023-05-19T23:19:35.687Z"
   },
   {
    "duration": 4,
    "start_time": "2023-05-19T23:20:05.928Z"
   },
   {
    "duration": 11,
    "start_time": "2023-05-19T23:20:07.009Z"
   },
   {
    "duration": 12,
    "start_time": "2023-05-19T23:20:28.744Z"
   },
   {
    "duration": 11,
    "start_time": "2023-05-19T23:20:31.711Z"
   },
   {
    "duration": 6,
    "start_time": "2023-05-19T23:20:38.580Z"
   },
   {
    "duration": 7,
    "start_time": "2023-05-19T23:20:41.401Z"
   },
   {
    "duration": 3,
    "start_time": "2023-05-19T23:20:43.455Z"
   },
   {
    "duration": 12,
    "start_time": "2023-05-19T23:20:44.287Z"
   },
   {
    "duration": 9,
    "start_time": "2023-05-19T23:20:47.376Z"
   },
   {
    "duration": 6,
    "start_time": "2023-05-19T23:20:49.527Z"
   },
   {
    "duration": 9,
    "start_time": "2023-05-19T23:21:06.928Z"
   },
   {
    "duration": 7,
    "start_time": "2023-05-19T23:21:08.382Z"
   },
   {
    "duration": 6,
    "start_time": "2023-05-19T23:21:10.232Z"
   },
   {
    "duration": 7,
    "start_time": "2023-05-19T23:21:10.712Z"
   },
   {
    "duration": 3,
    "start_time": "2023-05-19T23:21:15.743Z"
   },
   {
    "duration": 7,
    "start_time": "2023-05-19T23:21:16.944Z"
   },
   {
    "duration": 3,
    "start_time": "2023-05-19T23:21:18.062Z"
   },
   {
    "duration": 11,
    "start_time": "2023-05-19T23:21:19.254Z"
   },
   {
    "duration": 3,
    "start_time": "2023-05-19T23:21:20.576Z"
   },
   {
    "duration": 6,
    "start_time": "2023-05-19T23:21:21.471Z"
   },
   {
    "duration": 3,
    "start_time": "2023-05-19T23:21:28.318Z"
   },
   {
    "duration": 3,
    "start_time": "2023-05-19T23:21:29.255Z"
   },
   {
    "duration": 7,
    "start_time": "2023-05-19T23:21:30.470Z"
   },
   {
    "duration": 3,
    "start_time": "2023-05-19T23:21:52.942Z"
   },
   {
    "duration": 12,
    "start_time": "2023-05-19T23:21:54.250Z"
   },
   {
    "duration": 3,
    "start_time": "2023-05-19T23:22:13.934Z"
   },
   {
    "duration": 12,
    "start_time": "2023-05-19T23:22:14.814Z"
   },
   {
    "duration": 3,
    "start_time": "2023-05-19T23:22:57.997Z"
   },
   {
    "duration": 8,
    "start_time": "2023-05-19T23:22:58.789Z"
   },
   {
    "duration": 3,
    "start_time": "2023-05-19T23:23:16.398Z"
   },
   {
    "duration": 12,
    "start_time": "2023-05-19T23:23:17.328Z"
   },
   {
    "duration": 3,
    "start_time": "2023-05-19T23:23:22.223Z"
   },
   {
    "duration": 6,
    "start_time": "2023-05-19T23:23:23.246Z"
   },
   {
    "duration": 6,
    "start_time": "2023-05-19T23:27:48.260Z"
   },
   {
    "duration": 2,
    "start_time": "2023-05-19T23:27:49.551Z"
   },
   {
    "duration": 7,
    "start_time": "2023-05-19T23:27:50.676Z"
   },
   {
    "duration": 3,
    "start_time": "2023-05-19T23:27:57.131Z"
   },
   {
    "duration": 7,
    "start_time": "2023-05-19T23:27:58.180Z"
   },
   {
    "duration": 5,
    "start_time": "2023-05-19T23:28:05.697Z"
   },
   {
    "duration": 3,
    "start_time": "2023-05-19T23:28:07.260Z"
   },
   {
    "duration": 7,
    "start_time": "2023-05-19T23:28:08.116Z"
   },
   {
    "duration": 2,
    "start_time": "2023-05-19T23:29:35.403Z"
   },
   {
    "duration": 6,
    "start_time": "2023-05-19T23:29:36.467Z"
   },
   {
    "duration": 2,
    "start_time": "2023-05-19T23:31:11.201Z"
   },
   {
    "duration": 6,
    "start_time": "2023-05-19T23:31:12.362Z"
   },
   {
    "duration": 8,
    "start_time": "2023-05-19T23:31:24.542Z"
   },
   {
    "duration": 8,
    "start_time": "2023-05-19T23:31:37.078Z"
   },
   {
    "duration": 7,
    "start_time": "2023-05-19T23:33:07.306Z"
   },
   {
    "duration": 9,
    "start_time": "2023-05-19T23:45:31.781Z"
   },
   {
    "duration": 17,
    "start_time": "2023-05-19T23:45:48.412Z"
   },
   {
    "duration": 36,
    "start_time": "2023-05-19T23:46:47.618Z"
   },
   {
    "duration": 82,
    "start_time": "2023-05-19T23:46:55.116Z"
   },
   {
    "duration": 12,
    "start_time": "2023-05-19T23:47:01.115Z"
   },
   {
    "duration": 11,
    "start_time": "2023-05-19T23:48:00.299Z"
   },
   {
    "duration": 18,
    "start_time": "2023-05-19T23:48:33.932Z"
   },
   {
    "duration": 12,
    "start_time": "2023-05-19T23:51:00.233Z"
   },
   {
    "duration": 13,
    "start_time": "2023-05-19T23:52:54.896Z"
   },
   {
    "duration": 11,
    "start_time": "2023-05-19T23:53:12.664Z"
   },
   {
    "duration": 28,
    "start_time": "2023-05-19T23:53:26.123Z"
   },
   {
    "duration": 26,
    "start_time": "2023-05-19T23:53:30.648Z"
   },
   {
    "duration": 27,
    "start_time": "2023-05-19T23:53:37.377Z"
   },
   {
    "duration": 248,
    "start_time": "2023-05-19T23:54:26.943Z"
   },
   {
    "duration": 4,
    "start_time": "2023-05-19T23:54:37.347Z"
   },
   {
    "duration": 34,
    "start_time": "2023-05-19T23:54:39.191Z"
   },
   {
    "duration": 31,
    "start_time": "2023-05-19T23:54:53.551Z"
   },
   {
    "duration": 390,
    "start_time": "2023-05-19T23:55:09.869Z"
   },
   {
    "duration": 317,
    "start_time": "2023-05-19T23:55:10.261Z"
   },
   {
    "duration": 53,
    "start_time": "2023-05-19T23:55:10.580Z"
   },
   {
    "duration": 121,
    "start_time": "2023-05-19T23:55:10.635Z"
   },
   {
    "duration": 15,
    "start_time": "2023-05-19T23:55:10.758Z"
   },
   {
    "duration": 22,
    "start_time": "2023-05-19T23:55:10.775Z"
   },
   {
    "duration": 594,
    "start_time": "2023-05-19T23:55:10.798Z"
   },
   {
    "duration": 296,
    "start_time": "2023-05-19T23:55:11.394Z"
   },
   {
    "duration": 92,
    "start_time": "2023-05-19T23:55:11.692Z"
   },
   {
    "duration": 217,
    "start_time": "2023-05-19T23:55:11.789Z"
   },
   {
    "duration": 281,
    "start_time": "2023-05-19T23:55:33.109Z"
   },
   {
    "duration": 33,
    "start_time": "2023-05-19T23:56:07.340Z"
   },
   {
    "duration": 11,
    "start_time": "2023-05-19T23:56:53.123Z"
   },
   {
    "duration": 47,
    "start_time": "2023-05-19T23:57:15.092Z"
   },
   {
    "duration": 31,
    "start_time": "2023-05-19T23:58:21.772Z"
   },
   {
    "duration": 3,
    "start_time": "2023-05-19T23:59:34.525Z"
   },
   {
    "duration": 18,
    "start_time": "2023-05-19T23:59:38.829Z"
   },
   {
    "duration": 31,
    "start_time": "2023-05-19T23:59:48.023Z"
   },
   {
    "duration": 76,
    "start_time": "2023-05-20T00:01:01.101Z"
   },
   {
    "duration": 18,
    "start_time": "2023-05-20T00:01:05.538Z"
   },
   {
    "duration": 22,
    "start_time": "2023-05-20T00:01:49.524Z"
   },
   {
    "duration": 5,
    "start_time": "2023-05-20T00:07:15.464Z"
   },
   {
    "duration": 400,
    "start_time": "2023-05-20T06:18:26.507Z"
   },
   {
    "duration": 698,
    "start_time": "2023-05-20T06:18:26.908Z"
   },
   {
    "duration": 55,
    "start_time": "2023-05-20T06:18:27.608Z"
   },
   {
    "duration": 123,
    "start_time": "2023-05-20T06:18:27.664Z"
   },
   {
    "duration": 19,
    "start_time": "2023-05-20T06:18:27.789Z"
   },
   {
    "duration": 29,
    "start_time": "2023-05-20T06:18:27.810Z"
   },
   {
    "duration": 638,
    "start_time": "2023-05-20T06:18:27.841Z"
   },
   {
    "duration": 350,
    "start_time": "2023-05-20T06:18:28.481Z"
   },
   {
    "duration": 97,
    "start_time": "2023-05-20T06:18:28.833Z"
   },
   {
    "duration": 116,
    "start_time": "2023-05-20T06:18:28.934Z"
   },
   {
    "duration": 79,
    "start_time": "2023-05-20T08:48:27.705Z"
   },
   {
    "duration": 101,
    "start_time": "2023-05-20T08:49:48.873Z"
   },
   {
    "duration": 90,
    "start_time": "2023-05-20T08:49:53.769Z"
   },
   {
    "duration": 15,
    "start_time": "2023-05-20T08:49:55.366Z"
   },
   {
    "duration": 106928,
    "start_time": "2023-05-20T08:50:35.154Z"
   },
   {
    "duration": 27,
    "start_time": "2023-05-20T08:54:35.033Z"
   },
   {
    "duration": 20,
    "start_time": "2023-05-20T08:56:18.486Z"
   },
   {
    "duration": 74,
    "start_time": "2023-05-20T08:56:20.424Z"
   },
   {
    "duration": 77,
    "start_time": "2023-05-20T08:56:29.087Z"
   },
   {
    "duration": 7,
    "start_time": "2023-05-20T08:56:33.421Z"
   },
   {
    "duration": 5,
    "start_time": "2023-05-20T08:56:35.854Z"
   },
   {
    "duration": 5,
    "start_time": "2023-05-20T08:59:38.132Z"
   },
   {
    "duration": 33,
    "start_time": "2023-05-20T09:00:28.254Z"
   },
   {
    "duration": 34,
    "start_time": "2023-05-20T09:01:43.166Z"
   },
   {
    "duration": 28,
    "start_time": "2023-05-20T09:02:05.524Z"
   },
   {
    "duration": 21,
    "start_time": "2023-05-20T09:02:54.341Z"
   },
   {
    "duration": 18,
    "start_time": "2023-05-20T09:03:59.869Z"
   },
   {
    "duration": 22,
    "start_time": "2023-05-20T09:04:25.593Z"
   },
   {
    "duration": 32,
    "start_time": "2023-05-20T09:05:31.730Z"
   },
   {
    "duration": 3028,
    "start_time": "2023-05-20T09:07:00.209Z"
   },
   {
    "duration": 31,
    "start_time": "2023-05-20T09:09:11.329Z"
   },
   {
    "duration": 29,
    "start_time": "2023-05-20T09:09:17.521Z"
   },
   {
    "duration": 29,
    "start_time": "2023-05-20T09:09:19.249Z"
   },
   {
    "duration": 14,
    "start_time": "2023-05-20T09:12:06.689Z"
   },
   {
    "duration": 15,
    "start_time": "2023-05-20T09:12:18.735Z"
   },
   {
    "duration": 22,
    "start_time": "2023-05-20T09:12:59.631Z"
   },
   {
    "duration": 21,
    "start_time": "2023-05-20T09:13:22.151Z"
   },
   {
    "duration": 21,
    "start_time": "2023-05-20T09:13:49.478Z"
   },
   {
    "duration": 23,
    "start_time": "2023-05-20T09:14:32.070Z"
   },
   {
    "duration": 26,
    "start_time": "2023-05-20T09:14:46.510Z"
   },
   {
    "duration": 3873,
    "start_time": "2023-05-20T09:15:44.527Z"
   },
   {
    "duration": 3782,
    "start_time": "2023-05-20T09:16:25.221Z"
   },
   {
    "duration": 12,
    "start_time": "2023-05-20T09:18:13.836Z"
   },
   {
    "duration": 11,
    "start_time": "2023-05-20T09:18:21.876Z"
   },
   {
    "duration": 17,
    "start_time": "2023-05-20T09:18:36.439Z"
   },
   {
    "duration": 12,
    "start_time": "2023-05-20T09:18:49.316Z"
   },
   {
    "duration": 12,
    "start_time": "2023-05-20T09:19:16.179Z"
   },
   {
    "duration": 1214,
    "start_time": "2023-05-20T09:21:58.346Z"
   },
   {
    "duration": 7,
    "start_time": "2023-05-20T09:22:55.290Z"
   },
   {
    "duration": 6,
    "start_time": "2023-05-20T09:23:01.308Z"
   },
   {
    "duration": 1310,
    "start_time": "2023-05-20T09:24:32.616Z"
   },
   {
    "duration": 80,
    "start_time": "2023-05-20T09:26:33.769Z"
   },
   {
    "duration": 3918,
    "start_time": "2023-05-20T09:26:40.480Z"
   },
   {
    "duration": 3592,
    "start_time": "2023-05-20T09:27:45.216Z"
   },
   {
    "duration": 110,
    "start_time": "2023-05-20T09:35:37.509Z"
   },
   {
    "duration": 5,
    "start_time": "2023-05-20T09:35:46.956Z"
   },
   {
    "duration": 7,
    "start_time": "2023-05-20T09:35:48.754Z"
   },
   {
    "duration": 5,
    "start_time": "2023-05-20T09:37:24.169Z"
   },
   {
    "duration": 16,
    "start_time": "2023-05-20T09:37:42.305Z"
   },
   {
    "duration": 17,
    "start_time": "2023-05-20T09:38:04.964Z"
   },
   {
    "duration": 15,
    "start_time": "2023-05-20T09:38:33.145Z"
   },
   {
    "duration": 22,
    "start_time": "2023-05-20T09:38:52.065Z"
   },
   {
    "duration": 15,
    "start_time": "2023-05-20T09:38:53.577Z"
   },
   {
    "duration": 18,
    "start_time": "2023-05-20T09:40:53.665Z"
   },
   {
    "duration": 15,
    "start_time": "2023-05-20T09:41:01.529Z"
   },
   {
    "duration": 17,
    "start_time": "2023-05-20T09:41:15.224Z"
   },
   {
    "duration": 23,
    "start_time": "2023-05-20T11:01:47.318Z"
   },
   {
    "duration": 15,
    "start_time": "2023-05-20T11:03:40.541Z"
   },
   {
    "duration": 18,
    "start_time": "2023-05-20T11:07:15.699Z"
   },
   {
    "duration": 15,
    "start_time": "2023-05-20T11:08:19.446Z"
   },
   {
    "duration": 19,
    "start_time": "2023-05-20T11:08:35.595Z"
   },
   {
    "duration": 96,
    "start_time": "2023-05-20T11:08:38.706Z"
   },
   {
    "duration": 22,
    "start_time": "2023-05-20T11:08:43.778Z"
   },
   {
    "duration": 15,
    "start_time": "2023-05-20T11:09:13.554Z"
   },
   {
    "duration": 17,
    "start_time": "2023-05-20T11:09:25.002Z"
   },
   {
    "duration": 20,
    "start_time": "2023-05-20T11:09:33.050Z"
   },
   {
    "duration": 19,
    "start_time": "2023-05-20T11:09:42.962Z"
   },
   {
    "duration": 16,
    "start_time": "2023-05-20T11:09:56.386Z"
   },
   {
    "duration": 33,
    "start_time": "2023-05-20T11:10:06.650Z"
   },
   {
    "duration": 3853,
    "start_time": "2023-05-20T11:10:46.962Z"
   },
   {
    "duration": 4503,
    "start_time": "2023-05-20T11:11:00.315Z"
   },
   {
    "duration": 4147,
    "start_time": "2023-05-20T11:11:08.754Z"
   },
   {
    "duration": 4021,
    "start_time": "2023-05-20T11:11:16.321Z"
   },
   {
    "duration": 6,
    "start_time": "2023-05-20T11:16:43.222Z"
   },
   {
    "duration": 8,
    "start_time": "2023-05-20T11:17:54.806Z"
   },
   {
    "duration": 9,
    "start_time": "2023-05-20T11:17:57.040Z"
   },
   {
    "duration": 18,
    "start_time": "2023-05-20T11:18:17.442Z"
   },
   {
    "duration": 8,
    "start_time": "2023-05-20T11:18:24.863Z"
   },
   {
    "duration": 16,
    "start_time": "2023-05-20T11:18:27.006Z"
   },
   {
    "duration": 16,
    "start_time": "2023-05-20T11:19:13.670Z"
   },
   {
    "duration": 27,
    "start_time": "2023-05-20T11:19:36.349Z"
   },
   {
    "duration": 426,
    "start_time": "2023-05-20T11:19:47.426Z"
   },
   {
    "duration": 388,
    "start_time": "2023-05-20T11:19:47.854Z"
   },
   {
    "duration": 82,
    "start_time": "2023-05-20T11:19:48.244Z"
   },
   {
    "duration": 141,
    "start_time": "2023-05-20T11:19:48.329Z"
   },
   {
    "duration": 20,
    "start_time": "2023-05-20T11:19:48.471Z"
   },
   {
    "duration": 34,
    "start_time": "2023-05-20T11:19:48.493Z"
   },
   {
    "duration": 695,
    "start_time": "2023-05-20T11:19:48.528Z"
   },
   {
    "duration": 406,
    "start_time": "2023-05-20T11:19:49.225Z"
   },
   {
    "duration": 97,
    "start_time": "2023-05-20T11:19:49.634Z"
   },
   {
    "duration": 50,
    "start_time": "2023-05-20T11:19:49.734Z"
   },
   {
    "duration": 145,
    "start_time": "2023-05-20T11:19:49.790Z"
   },
   {
    "duration": 0,
    "start_time": "2023-05-20T11:19:49.937Z"
   },
   {
    "duration": 21,
    "start_time": "2023-05-20T11:20:13.741Z"
   },
   {
    "duration": 26,
    "start_time": "2023-05-20T11:21:12.014Z"
   },
   {
    "duration": 19,
    "start_time": "2023-05-20T11:22:13.165Z"
   },
   {
    "duration": 28,
    "start_time": "2023-05-20T11:22:14.704Z"
   },
   {
    "duration": 18,
    "start_time": "2023-05-20T11:22:27.012Z"
   },
   {
    "duration": 24,
    "start_time": "2023-05-20T11:22:37.388Z"
   },
   {
    "duration": 19,
    "start_time": "2023-05-20T11:22:39.205Z"
   },
   {
    "duration": 5,
    "start_time": "2023-05-20T11:22:56.956Z"
   },
   {
    "duration": 27,
    "start_time": "2023-05-20T11:23:00.085Z"
   },
   {
    "duration": 24,
    "start_time": "2023-05-20T11:23:08.005Z"
   },
   {
    "duration": 409,
    "start_time": "2023-05-20T11:23:16.044Z"
   },
   {
    "duration": 408,
    "start_time": "2023-05-20T11:23:16.455Z"
   },
   {
    "duration": 88,
    "start_time": "2023-05-20T11:23:16.865Z"
   },
   {
    "duration": 148,
    "start_time": "2023-05-20T11:23:16.955Z"
   },
   {
    "duration": 33,
    "start_time": "2023-05-20T11:23:17.106Z"
   },
   {
    "duration": 49,
    "start_time": "2023-05-20T11:23:17.141Z"
   },
   {
    "duration": 798,
    "start_time": "2023-05-20T11:23:17.193Z"
   },
   {
    "duration": 444,
    "start_time": "2023-05-20T11:23:17.993Z"
   },
   {
    "duration": 89,
    "start_time": "2023-05-20T11:23:18.440Z"
   },
   {
    "duration": 112,
    "start_time": "2023-05-20T11:23:18.536Z"
   },
   {
    "duration": 149,
    "start_time": "2023-05-20T11:23:18.650Z"
   },
   {
    "duration": 0,
    "start_time": "2023-05-20T11:23:18.801Z"
   },
   {
    "duration": 26,
    "start_time": "2023-05-20T11:25:05.606Z"
   },
   {
    "duration": 23,
    "start_time": "2023-05-20T11:25:10.644Z"
   },
   {
    "duration": 9,
    "start_time": "2023-05-20T11:26:13.868Z"
   },
   {
    "duration": 384,
    "start_time": "2023-05-20T11:26:34.963Z"
   },
   {
    "duration": 9,
    "start_time": "2023-05-20T11:26:55.146Z"
   },
   {
    "duration": 4,
    "start_time": "2023-05-20T11:27:17.522Z"
   },
   {
    "duration": 20,
    "start_time": "2023-05-20T11:27:19.157Z"
   },
   {
    "duration": 18,
    "start_time": "2023-05-20T11:27:35.314Z"
   },
   {
    "duration": 5,
    "start_time": "2023-05-20T11:27:36.898Z"
   },
   {
    "duration": 437,
    "start_time": "2023-05-20T11:27:50.785Z"
   },
   {
    "duration": 384,
    "start_time": "2023-05-20T11:27:51.224Z"
   },
   {
    "duration": 69,
    "start_time": "2023-05-20T11:27:51.610Z"
   },
   {
    "duration": 151,
    "start_time": "2023-05-20T11:27:51.682Z"
   },
   {
    "duration": 19,
    "start_time": "2023-05-20T11:27:51.835Z"
   },
   {
    "duration": 27,
    "start_time": "2023-05-20T11:27:51.856Z"
   },
   {
    "duration": 761,
    "start_time": "2023-05-20T11:27:51.885Z"
   },
   {
    "duration": 482,
    "start_time": "2023-05-20T11:27:52.648Z"
   },
   {
    "duration": 94,
    "start_time": "2023-05-20T11:27:53.133Z"
   },
   {
    "duration": 47,
    "start_time": "2023-05-20T11:27:53.230Z"
   },
   {
    "duration": 34,
    "start_time": "2023-05-20T11:27:53.280Z"
   },
   {
    "duration": 115,
    "start_time": "2023-05-20T11:27:53.316Z"
   },
   {
    "duration": 3878,
    "start_time": "2023-05-20T11:30:31.952Z"
   },
   {
    "duration": 4085,
    "start_time": "2023-05-20T11:31:51.695Z"
   },
   {
    "duration": 4149,
    "start_time": "2023-05-20T11:32:00.872Z"
   },
   {
    "duration": 4363,
    "start_time": "2023-05-20T11:32:57.415Z"
   },
   {
    "duration": 4179,
    "start_time": "2023-05-20T11:33:08.367Z"
   },
   {
    "duration": 3881,
    "start_time": "2023-05-20T11:33:18.294Z"
   },
   {
    "duration": 22,
    "start_time": "2023-05-20T11:33:35.251Z"
   },
   {
    "duration": 3985,
    "start_time": "2023-05-20T11:33:39.657Z"
   },
   {
    "duration": 3829,
    "start_time": "2023-05-20T12:25:37.846Z"
   },
   {
    "duration": 4077,
    "start_time": "2023-05-20T12:26:01.672Z"
   },
   {
    "duration": 4055,
    "start_time": "2023-05-20T12:26:07.616Z"
   },
   {
    "duration": 3993,
    "start_time": "2023-05-20T12:26:36.753Z"
   },
   {
    "duration": 3686,
    "start_time": "2023-05-20T12:27:26.865Z"
   },
   {
    "duration": 3944,
    "start_time": "2023-05-20T12:28:10.600Z"
   },
   {
    "duration": 3725,
    "start_time": "2023-05-20T12:28:35.504Z"
   },
   {
    "duration": 3888,
    "start_time": "2023-05-20T12:28:53.639Z"
   },
   {
    "duration": 3790,
    "start_time": "2023-05-20T12:29:18.743Z"
   },
   {
    "duration": 4024,
    "start_time": "2023-05-20T12:29:36.672Z"
   },
   {
    "duration": 444,
    "start_time": "2023-05-20T13:52:15.498Z"
   },
   {
    "duration": 478,
    "start_time": "2023-05-20T13:52:15.945Z"
   },
   {
    "duration": 72,
    "start_time": "2023-05-20T13:52:16.437Z"
   },
   {
    "duration": 159,
    "start_time": "2023-05-20T13:52:16.511Z"
   },
   {
    "duration": 20,
    "start_time": "2023-05-20T13:52:16.672Z"
   },
   {
    "duration": 50,
    "start_time": "2023-05-20T13:52:16.694Z"
   },
   {
    "duration": 710,
    "start_time": "2023-05-20T13:52:16.747Z"
   },
   {
    "duration": 276,
    "start_time": "2023-05-20T13:52:17.459Z"
   },
   {
    "duration": 85,
    "start_time": "2023-05-20T13:52:17.745Z"
   },
   {
    "duration": 156,
    "start_time": "2023-05-20T13:52:17.833Z"
   },
   {
    "duration": 28,
    "start_time": "2023-05-20T13:53:03.219Z"
   },
   {
    "duration": 15,
    "start_time": "2023-05-20T13:53:52.364Z"
   },
   {
    "duration": 39,
    "start_time": "2023-05-20T13:55:13.153Z"
   },
   {
    "duration": 426,
    "start_time": "2023-05-20T13:55:19.458Z"
   },
   {
    "duration": 503,
    "start_time": "2023-05-20T13:55:19.886Z"
   },
   {
    "duration": 83,
    "start_time": "2023-05-20T13:55:20.390Z"
   },
   {
    "duration": 167,
    "start_time": "2023-05-20T13:55:20.475Z"
   },
   {
    "duration": 36,
    "start_time": "2023-05-20T13:55:20.653Z"
   },
   {
    "duration": 17,
    "start_time": "2023-05-20T13:55:20.692Z"
   },
   {
    "duration": 872,
    "start_time": "2023-05-20T13:55:20.711Z"
   },
   {
    "duration": 456,
    "start_time": "2023-05-20T13:55:21.586Z"
   },
   {
    "duration": 82,
    "start_time": "2023-05-20T13:55:22.052Z"
   },
   {
    "duration": 87,
    "start_time": "2023-05-20T13:55:22.139Z"
   },
   {
    "duration": 156,
    "start_time": "2023-05-20T13:55:22.228Z"
   },
   {
    "duration": 4637,
    "start_time": "2023-05-20T13:55:34.666Z"
   },
   {
    "duration": 48,
    "start_time": "2023-05-20T13:59:26.336Z"
   },
   {
    "duration": 18,
    "start_time": "2023-05-20T13:59:48.069Z"
   },
   {
    "duration": 399,
    "start_time": "2023-05-20T16:54:45.712Z"
   },
   {
    "duration": 393,
    "start_time": "2023-05-20T16:54:46.213Z"
   },
   {
    "duration": 78,
    "start_time": "2023-05-20T16:54:48.890Z"
   },
   {
    "duration": 110,
    "start_time": "2023-05-20T16:55:14.869Z"
   },
   {
    "duration": 17,
    "start_time": "2023-05-20T16:55:25.767Z"
   },
   {
    "duration": 21,
    "start_time": "2023-05-20T16:55:30.079Z"
   },
   {
    "duration": 1637,
    "start_time": "2023-05-20T16:57:05.010Z"
   },
   {
    "duration": 191,
    "start_time": "2023-05-20T16:57:39.015Z"
   },
   {
    "duration": 9,
    "start_time": "2023-05-20T16:58:40.380Z"
   },
   {
    "duration": 23,
    "start_time": "2023-05-20T17:00:08.484Z"
   },
   {
    "duration": 143,
    "start_time": "2023-05-20T17:03:07.314Z"
   },
   {
    "duration": 3349,
    "start_time": "2023-05-20T17:03:22.183Z"
   },
   {
    "duration": 18,
    "start_time": "2023-05-20T17:03:56.116Z"
   },
   {
    "duration": 2929,
    "start_time": "2023-05-20T17:04:08.065Z"
   },
   {
    "duration": 3271,
    "start_time": "2023-05-20T17:11:39.228Z"
   }
  ],
  "kernelspec": {
   "display_name": "Python 3 (ipykernel)",
   "language": "python",
   "name": "python3"
  },
  "language_info": {
   "codemirror_mode": {
    "name": "ipython",
    "version": 3
   },
   "file_extension": ".py",
   "mimetype": "text/x-python",
   "name": "python",
   "nbconvert_exporter": "python",
   "pygments_lexer": "ipython3",
   "version": "3.9.13"
  },
  "toc": {
   "base_numbering": 1,
   "nav_menu": {},
   "number_sections": true,
   "sideBar": true,
   "skip_h1_title": true,
   "title_cell": "Table of Contents",
   "title_sidebar": "Contents",
   "toc_cell": false,
   "toc_position": {},
   "toc_section_display": true,
   "toc_window_display": false
  }
 },
 "nbformat": 4,
 "nbformat_minor": 2
}
