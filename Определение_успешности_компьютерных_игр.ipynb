{
 "cells": [
  {
   "cell_type": "markdown",
   "metadata": {},
   "source": [
    "# Описание проекта\n",
    "\n",
    "Заказчик - интернет-магазин «Стримчик», который продаёт по всему миру компьютерные игры. Из открытых источников доступны исторические данные о продажах игр, оценки пользователей и экспертов, жанры и платформы.\n",
    "\n",
    "Нам необзодимо выявить определяющие успешность игры закономерности. Это позволит сделать выбор в пользу потенциально популярный платформы и спланировать рекламные кампании на следующий 2017 год. Перед нами данные до 2016 года.\n",
    "\n",
    "# Описание данных\n",
    "Name — название игры\n",
    "\n",
    "Platform — платформа\n",
    "\n",
    "Year_of_Release — год выпуска\n",
    "\n",
    "Genre — жанр игры\n",
    "\n",
    "NA_sales — продажи в Северной Америке (миллионы проданных копий)\n",
    "\n",
    "EU_sales — продажи в Европе (миллионы проданных копий)\n",
    "\n",
    "JP_sales — продажи в Японии (миллионы проданных копий)\n",
    "\n",
    "Other_sales — продажи в других странах (миллионы проданных копий)\n",
    "\n",
    "Critic_Score — оценка критиков (максимум 100)\n",
    "\n",
    "User_Score — оценка пользователей (максимум 10)\n",
    "\n",
    "Rating — рейтинг от организации ESRB (англ. Entertainment Software Rating Board). Эта ассоциация определяет рейтинг компьютерных игр и присваивает им подходящую возрастную категорию.\n",
    "\n",
    "# План по проекту:\n",
    "\n",
    "- Подготовка данных\n",
    "- Исследовательский анализ данных\n",
    "- Портрет типичного пользователя из разного региона\n",
    "- Проверка гипотез "
   ]
  },
  {
   "cell_type": "markdown",
   "metadata": {},
   "source": [
    "# Шаг 1. Откройте файл с данными и изучите общую информацию"
   ]
  },
  {
   "cell_type": "code",
   "execution_count": 1,
   "metadata": {},
   "outputs": [],
   "source": [
    "import pandas as pd \n",
    "import seaborn as sns\n",
    "import matplotlib.pyplot as plt\n",
    "import numpy as np\n",
    "from scipy import stats as st"
   ]
  },
  {
   "cell_type": "code",
   "execution_count": 2,
   "metadata": {},
   "outputs": [
    {
     "data": {
      "text/html": [
       "<div>\n",
       "<style scoped>\n",
       "    .dataframe tbody tr th:only-of-type {\n",
       "        vertical-align: middle;\n",
       "    }\n",
       "\n",
       "    .dataframe tbody tr th {\n",
       "        vertical-align: top;\n",
       "    }\n",
       "\n",
       "    .dataframe thead th {\n",
       "        text-align: right;\n",
       "    }\n",
       "</style>\n",
       "<table border=\"1\" class=\"dataframe\">\n",
       "  <thead>\n",
       "    <tr style=\"text-align: right;\">\n",
       "      <th></th>\n",
       "      <th>Name</th>\n",
       "      <th>Platform</th>\n",
       "      <th>Year_of_Release</th>\n",
       "      <th>Genre</th>\n",
       "      <th>NA_sales</th>\n",
       "      <th>EU_sales</th>\n",
       "      <th>JP_sales</th>\n",
       "      <th>Other_sales</th>\n",
       "      <th>Critic_Score</th>\n",
       "      <th>User_Score</th>\n",
       "      <th>Rating</th>\n",
       "    </tr>\n",
       "  </thead>\n",
       "  <tbody>\n",
       "    <tr>\n",
       "      <th>0</th>\n",
       "      <td>Wii Sports</td>\n",
       "      <td>Wii</td>\n",
       "      <td>2006.0</td>\n",
       "      <td>Sports</td>\n",
       "      <td>41.36</td>\n",
       "      <td>28.96</td>\n",
       "      <td>3.77</td>\n",
       "      <td>8.45</td>\n",
       "      <td>76.0</td>\n",
       "      <td>8</td>\n",
       "      <td>E</td>\n",
       "    </tr>\n",
       "    <tr>\n",
       "      <th>1</th>\n",
       "      <td>Super Mario Bros.</td>\n",
       "      <td>NES</td>\n",
       "      <td>1985.0</td>\n",
       "      <td>Platform</td>\n",
       "      <td>29.08</td>\n",
       "      <td>3.58</td>\n",
       "      <td>6.81</td>\n",
       "      <td>0.77</td>\n",
       "      <td>NaN</td>\n",
       "      <td>NaN</td>\n",
       "      <td>NaN</td>\n",
       "    </tr>\n",
       "    <tr>\n",
       "      <th>2</th>\n",
       "      <td>Mario Kart Wii</td>\n",
       "      <td>Wii</td>\n",
       "      <td>2008.0</td>\n",
       "      <td>Racing</td>\n",
       "      <td>15.68</td>\n",
       "      <td>12.76</td>\n",
       "      <td>3.79</td>\n",
       "      <td>3.29</td>\n",
       "      <td>82.0</td>\n",
       "      <td>8.3</td>\n",
       "      <td>E</td>\n",
       "    </tr>\n",
       "    <tr>\n",
       "      <th>3</th>\n",
       "      <td>Wii Sports Resort</td>\n",
       "      <td>Wii</td>\n",
       "      <td>2009.0</td>\n",
       "      <td>Sports</td>\n",
       "      <td>15.61</td>\n",
       "      <td>10.93</td>\n",
       "      <td>3.28</td>\n",
       "      <td>2.95</td>\n",
       "      <td>80.0</td>\n",
       "      <td>8</td>\n",
       "      <td>E</td>\n",
       "    </tr>\n",
       "    <tr>\n",
       "      <th>4</th>\n",
       "      <td>Pokemon Red/Pokemon Blue</td>\n",
       "      <td>GB</td>\n",
       "      <td>1996.0</td>\n",
       "      <td>Role-Playing</td>\n",
       "      <td>11.27</td>\n",
       "      <td>8.89</td>\n",
       "      <td>10.22</td>\n",
       "      <td>1.00</td>\n",
       "      <td>NaN</td>\n",
       "      <td>NaN</td>\n",
       "      <td>NaN</td>\n",
       "    </tr>\n",
       "  </tbody>\n",
       "</table>\n",
       "</div>"
      ],
      "text/plain": [
       "                       Name Platform  Year_of_Release         Genre  NA_sales  \\\n",
       "0                Wii Sports      Wii           2006.0        Sports     41.36   \n",
       "1         Super Mario Bros.      NES           1985.0      Platform     29.08   \n",
       "2            Mario Kart Wii      Wii           2008.0        Racing     15.68   \n",
       "3         Wii Sports Resort      Wii           2009.0        Sports     15.61   \n",
       "4  Pokemon Red/Pokemon Blue       GB           1996.0  Role-Playing     11.27   \n",
       "\n",
       "   EU_sales  JP_sales  Other_sales  Critic_Score User_Score Rating  \n",
       "0     28.96      3.77         8.45          76.0          8      E  \n",
       "1      3.58      6.81         0.77           NaN        NaN    NaN  \n",
       "2     12.76      3.79         3.29          82.0        8.3      E  \n",
       "3     10.93      3.28         2.95          80.0          8      E  \n",
       "4      8.89     10.22         1.00           NaN        NaN    NaN  "
      ]
     },
     "execution_count": 2,
     "metadata": {},
     "output_type": "execute_result"
    }
   ],
   "source": [
    "df = pd.read_csv('/datasets/games.csv')\n",
    "df.head()"
   ]
  },
  {
   "cell_type": "code",
   "execution_count": 3,
   "metadata": {
    "scrolled": false
   },
   "outputs": [
    {
     "name": "stdout",
     "output_type": "stream",
     "text": [
      "<class 'pandas.core.frame.DataFrame'>\n",
      "RangeIndex: 16715 entries, 0 to 16714\n",
      "Data columns (total 11 columns):\n",
      " #   Column           Non-Null Count  Dtype  \n",
      "---  ------           --------------  -----  \n",
      " 0   Name             16713 non-null  object \n",
      " 1   Platform         16715 non-null  object \n",
      " 2   Year_of_Release  16446 non-null  float64\n",
      " 3   Genre            16713 non-null  object \n",
      " 4   NA_sales         16715 non-null  float64\n",
      " 5   EU_sales         16715 non-null  float64\n",
      " 6   JP_sales         16715 non-null  float64\n",
      " 7   Other_sales      16715 non-null  float64\n",
      " 8   Critic_Score     8137 non-null   float64\n",
      " 9   User_Score       10014 non-null  object \n",
      " 10  Rating           9949 non-null   object \n",
      "dtypes: float64(6), object(5)\n",
      "memory usage: 1.4+ MB\n"
     ]
    }
   ],
   "source": [
    " df.info()"
   ]
  },
  {
   "cell_type": "markdown",
   "metadata": {},
   "source": [
    "Первоначальная информация говорит нам:\n",
    "\n",
    "- имеем 11 стоблцов с данными об играх\n",
    "- в данных есть пропуски, можно их увидеть по кол-ву строк в столбцах и полном кол-ву строк в датафрейме"
   ]
  },
  {
   "cell_type": "markdown",
   "metadata": {},
   "source": [
    "# Шаг 2. Подготовка данных"
   ]
  },
  {
   "cell_type": "markdown",
   "metadata": {},
   "source": [
    "##### Привести название столбцов к норме"
   ]
  },
  {
   "cell_type": "code",
   "execution_count": 4,
   "metadata": {
    "scrolled": false
   },
   "outputs": [
    {
     "data": {
      "text/html": [
       "<div>\n",
       "<style scoped>\n",
       "    .dataframe tbody tr th:only-of-type {\n",
       "        vertical-align: middle;\n",
       "    }\n",
       "\n",
       "    .dataframe tbody tr th {\n",
       "        vertical-align: top;\n",
       "    }\n",
       "\n",
       "    .dataframe thead th {\n",
       "        text-align: right;\n",
       "    }\n",
       "</style>\n",
       "<table border=\"1\" class=\"dataframe\">\n",
       "  <thead>\n",
       "    <tr style=\"text-align: right;\">\n",
       "      <th></th>\n",
       "      <th>name</th>\n",
       "      <th>platform</th>\n",
       "      <th>year_of_release</th>\n",
       "      <th>genre</th>\n",
       "      <th>na_sales</th>\n",
       "      <th>eu_sales</th>\n",
       "      <th>jp_sales</th>\n",
       "      <th>other_sales</th>\n",
       "      <th>critic_score</th>\n",
       "      <th>user_score</th>\n",
       "      <th>rating</th>\n",
       "    </tr>\n",
       "  </thead>\n",
       "  <tbody>\n",
       "    <tr>\n",
       "      <th>0</th>\n",
       "      <td>Wii Sports</td>\n",
       "      <td>Wii</td>\n",
       "      <td>2006.0</td>\n",
       "      <td>Sports</td>\n",
       "      <td>41.36</td>\n",
       "      <td>28.96</td>\n",
       "      <td>3.77</td>\n",
       "      <td>8.45</td>\n",
       "      <td>76.0</td>\n",
       "      <td>8</td>\n",
       "      <td>E</td>\n",
       "    </tr>\n",
       "    <tr>\n",
       "      <th>1</th>\n",
       "      <td>Super Mario Bros.</td>\n",
       "      <td>NES</td>\n",
       "      <td>1985.0</td>\n",
       "      <td>Platform</td>\n",
       "      <td>29.08</td>\n",
       "      <td>3.58</td>\n",
       "      <td>6.81</td>\n",
       "      <td>0.77</td>\n",
       "      <td>NaN</td>\n",
       "      <td>NaN</td>\n",
       "      <td>NaN</td>\n",
       "    </tr>\n",
       "    <tr>\n",
       "      <th>2</th>\n",
       "      <td>Mario Kart Wii</td>\n",
       "      <td>Wii</td>\n",
       "      <td>2008.0</td>\n",
       "      <td>Racing</td>\n",
       "      <td>15.68</td>\n",
       "      <td>12.76</td>\n",
       "      <td>3.79</td>\n",
       "      <td>3.29</td>\n",
       "      <td>82.0</td>\n",
       "      <td>8.3</td>\n",
       "      <td>E</td>\n",
       "    </tr>\n",
       "    <tr>\n",
       "      <th>3</th>\n",
       "      <td>Wii Sports Resort</td>\n",
       "      <td>Wii</td>\n",
       "      <td>2009.0</td>\n",
       "      <td>Sports</td>\n",
       "      <td>15.61</td>\n",
       "      <td>10.93</td>\n",
       "      <td>3.28</td>\n",
       "      <td>2.95</td>\n",
       "      <td>80.0</td>\n",
       "      <td>8</td>\n",
       "      <td>E</td>\n",
       "    </tr>\n",
       "    <tr>\n",
       "      <th>4</th>\n",
       "      <td>Pokemon Red/Pokemon Blue</td>\n",
       "      <td>GB</td>\n",
       "      <td>1996.0</td>\n",
       "      <td>Role-Playing</td>\n",
       "      <td>11.27</td>\n",
       "      <td>8.89</td>\n",
       "      <td>10.22</td>\n",
       "      <td>1.00</td>\n",
       "      <td>NaN</td>\n",
       "      <td>NaN</td>\n",
       "      <td>NaN</td>\n",
       "    </tr>\n",
       "  </tbody>\n",
       "</table>\n",
       "</div>"
      ],
      "text/plain": [
       "                       name platform  year_of_release         genre  na_sales  \\\n",
       "0                Wii Sports      Wii           2006.0        Sports     41.36   \n",
       "1         Super Mario Bros.      NES           1985.0      Platform     29.08   \n",
       "2            Mario Kart Wii      Wii           2008.0        Racing     15.68   \n",
       "3         Wii Sports Resort      Wii           2009.0        Sports     15.61   \n",
       "4  Pokemon Red/Pokemon Blue       GB           1996.0  Role-Playing     11.27   \n",
       "\n",
       "   eu_sales  jp_sales  other_sales  critic_score user_score rating  \n",
       "0     28.96      3.77         8.45          76.0          8      E  \n",
       "1      3.58      6.81         0.77           NaN        NaN    NaN  \n",
       "2     12.76      3.79         3.29          82.0        8.3      E  \n",
       "3     10.93      3.28         2.95          80.0          8      E  \n",
       "4      8.89     10.22         1.00           NaN        NaN    NaN  "
      ]
     },
     "execution_count": 4,
     "metadata": {},
     "output_type": "execute_result"
    }
   ],
   "source": [
    "df.columns = df.columns.str.lower()\n",
    "df.head()"
   ]
  },
  {
   "cell_type": "markdown",
   "metadata": {},
   "source": [
    "##### Проверка и обработка дупликатов"
   ]
  },
  {
   "cell_type": "markdown",
   "metadata": {},
   "source": [
    "Поиск явных дупликатов"
   ]
  },
  {
   "cell_type": "code",
   "execution_count": 5,
   "metadata": {
    "scrolled": true
   },
   "outputs": [
    {
     "data": {
      "text/plain": [
       "0"
      ]
     },
     "execution_count": 5,
     "metadata": {},
     "output_type": "execute_result"
    }
   ],
   "source": [
    "df.duplicated().sum() # явных дупликатов нет"
   ]
  },
  {
   "cell_type": "markdown",
   "metadata": {},
   "source": [
    "Поиск неявных дупликатов"
   ]
  },
  {
   "cell_type": "code",
   "execution_count": 6,
   "metadata": {
    "scrolled": true
   },
   "outputs": [
    {
     "data": {
      "text/plain": [
       "Need for Speed: Most Wanted       12\n",
       "Ratatouille                        9\n",
       "FIFA 14                            9\n",
       "LEGO Marvel Super Heroes           9\n",
       "Madden NFL 07                      9\n",
       "                                  ..\n",
       "Doshin the Giant                   1\n",
       "Puppies 3D                         1\n",
       "Darkest of Days                    1\n",
       "Mega Minis Volume 3                1\n",
       "Jikkyou Powerful Pro Yakuu '94     1\n",
       "Name: name, Length: 11559, dtype: int64"
      ]
     },
     "execution_count": 6,
     "metadata": {},
     "output_type": "execute_result"
    }
   ],
   "source": [
    "df['name'].value_counts() # ищем в названиях игр"
   ]
  },
  {
   "cell_type": "code",
   "execution_count": 7,
   "metadata": {},
   "outputs": [
    {
     "data": {
      "text/html": [
       "<div>\n",
       "<style scoped>\n",
       "    .dataframe tbody tr th:only-of-type {\n",
       "        vertical-align: middle;\n",
       "    }\n",
       "\n",
       "    .dataframe tbody tr th {\n",
       "        vertical-align: top;\n",
       "    }\n",
       "\n",
       "    .dataframe thead th {\n",
       "        text-align: right;\n",
       "    }\n",
       "</style>\n",
       "<table border=\"1\" class=\"dataframe\">\n",
       "  <thead>\n",
       "    <tr style=\"text-align: right;\">\n",
       "      <th></th>\n",
       "      <th>platform</th>\n",
       "    </tr>\n",
       "    <tr>\n",
       "      <th>name</th>\n",
       "      <th></th>\n",
       "    </tr>\n",
       "  </thead>\n",
       "  <tbody>\n",
       "    <tr>\n",
       "      <th>Need for Speed: Most Wanted</th>\n",
       "      <td>10</td>\n",
       "    </tr>\n",
       "    <tr>\n",
       "      <th>Ratatouille</th>\n",
       "      <td>9</td>\n",
       "    </tr>\n",
       "    <tr>\n",
       "      <th>Madden NFL 07</th>\n",
       "      <td>9</td>\n",
       "    </tr>\n",
       "    <tr>\n",
       "      <th>LEGO Marvel Super Heroes</th>\n",
       "      <td>9</td>\n",
       "    </tr>\n",
       "    <tr>\n",
       "      <th>FIFA 14</th>\n",
       "      <td>9</td>\n",
       "    </tr>\n",
       "    <tr>\n",
       "      <th>...</th>\n",
       "      <td>...</td>\n",
       "    </tr>\n",
       "    <tr>\n",
       "      <th>Import Tuner Challenge (American sales)</th>\n",
       "      <td>1</td>\n",
       "    </tr>\n",
       "    <tr>\n",
       "      <th>Impossible Creatures</th>\n",
       "      <td>1</td>\n",
       "    </tr>\n",
       "    <tr>\n",
       "      <th>In Cold Blood</th>\n",
       "      <td>1</td>\n",
       "    </tr>\n",
       "    <tr>\n",
       "      <th>In The Groove</th>\n",
       "      <td>1</td>\n",
       "    </tr>\n",
       "    <tr>\n",
       "      <th>¡Shin Chan Flipa en colores!</th>\n",
       "      <td>1</td>\n",
       "    </tr>\n",
       "  </tbody>\n",
       "</table>\n",
       "<p>11559 rows × 1 columns</p>\n",
       "</div>"
      ],
      "text/plain": [
       "                                         platform\n",
       "name                                             \n",
       "Need for Speed: Most Wanted                    10\n",
       "Ratatouille                                     9\n",
       "Madden NFL 07                                   9\n",
       "LEGO Marvel Super Heroes                        9\n",
       "FIFA 14                                         9\n",
       "...                                           ...\n",
       "Import Tuner Challenge (American sales)         1\n",
       "Impossible Creatures                            1\n",
       "In Cold Blood                                   1\n",
       "In The Groove                                   1\n",
       "¡Shin Chan Flipa en colores!                    1\n",
       "\n",
       "[11559 rows x 1 columns]"
      ]
     },
     "execution_count": 7,
     "metadata": {},
     "output_type": "execute_result"
    }
   ],
   "source": [
    "pd.pivot_table(data=df,\n",
    "               index='name', \n",
    "               values='platform', \n",
    "               aggfunc='nunique').sort_values(by='platform', ascending=False)  # смотрим сколько неявных дупликатов"
   ]
  },
  {
   "cell_type": "markdown",
   "metadata": {},
   "source": [
    "Проверяем повторы для первой игры NFS"
   ]
  },
  {
   "cell_type": "code",
   "execution_count": 8,
   "metadata": {},
   "outputs": [
    {
     "data": {
      "text/html": [
       "<div>\n",
       "<style scoped>\n",
       "    .dataframe tbody tr th:only-of-type {\n",
       "        vertical-align: middle;\n",
       "    }\n",
       "\n",
       "    .dataframe tbody tr th {\n",
       "        vertical-align: top;\n",
       "    }\n",
       "\n",
       "    .dataframe thead th {\n",
       "        text-align: right;\n",
       "    }\n",
       "</style>\n",
       "<table border=\"1\" class=\"dataframe\">\n",
       "  <thead>\n",
       "    <tr style=\"text-align: right;\">\n",
       "      <th></th>\n",
       "      <th>name</th>\n",
       "      <th>platform</th>\n",
       "      <th>year_of_release</th>\n",
       "      <th>genre</th>\n",
       "      <th>na_sales</th>\n",
       "      <th>eu_sales</th>\n",
       "      <th>jp_sales</th>\n",
       "      <th>other_sales</th>\n",
       "      <th>critic_score</th>\n",
       "      <th>user_score</th>\n",
       "      <th>rating</th>\n",
       "    </tr>\n",
       "  </thead>\n",
       "  <tbody>\n",
       "    <tr>\n",
       "      <th>253</th>\n",
       "      <td>Need for Speed: Most Wanted</td>\n",
       "      <td>PS2</td>\n",
       "      <td>2005.0</td>\n",
       "      <td>Racing</td>\n",
       "      <td>2.03</td>\n",
       "      <td>1.79</td>\n",
       "      <td>0.08</td>\n",
       "      <td>0.47</td>\n",
       "      <td>82.0</td>\n",
       "      <td>9.1</td>\n",
       "      <td>T</td>\n",
       "    </tr>\n",
       "    <tr>\n",
       "      <th>523</th>\n",
       "      <td>Need for Speed: Most Wanted</td>\n",
       "      <td>PS3</td>\n",
       "      <td>2012.0</td>\n",
       "      <td>Racing</td>\n",
       "      <td>0.71</td>\n",
       "      <td>1.46</td>\n",
       "      <td>0.06</td>\n",
       "      <td>0.58</td>\n",
       "      <td>NaN</td>\n",
       "      <td>NaN</td>\n",
       "      <td>NaN</td>\n",
       "    </tr>\n",
       "    <tr>\n",
       "      <th>1190</th>\n",
       "      <td>Need for Speed: Most Wanted</td>\n",
       "      <td>X360</td>\n",
       "      <td>2012.0</td>\n",
       "      <td>Racing</td>\n",
       "      <td>0.62</td>\n",
       "      <td>0.78</td>\n",
       "      <td>0.01</td>\n",
       "      <td>0.15</td>\n",
       "      <td>83.0</td>\n",
       "      <td>8.5</td>\n",
       "      <td>T</td>\n",
       "    </tr>\n",
       "    <tr>\n",
       "      <th>1591</th>\n",
       "      <td>Need for Speed: Most Wanted</td>\n",
       "      <td>X360</td>\n",
       "      <td>2005.0</td>\n",
       "      <td>Racing</td>\n",
       "      <td>1.00</td>\n",
       "      <td>0.13</td>\n",
       "      <td>0.02</td>\n",
       "      <td>0.10</td>\n",
       "      <td>83.0</td>\n",
       "      <td>8.5</td>\n",
       "      <td>T</td>\n",
       "    </tr>\n",
       "    <tr>\n",
       "      <th>1998</th>\n",
       "      <td>Need for Speed: Most Wanted</td>\n",
       "      <td>XB</td>\n",
       "      <td>2005.0</td>\n",
       "      <td>Racing</td>\n",
       "      <td>0.53</td>\n",
       "      <td>0.46</td>\n",
       "      <td>0.00</td>\n",
       "      <td>0.05</td>\n",
       "      <td>83.0</td>\n",
       "      <td>8.8</td>\n",
       "      <td>T</td>\n",
       "    </tr>\n",
       "    <tr>\n",
       "      <th>2048</th>\n",
       "      <td>Need for Speed: Most Wanted</td>\n",
       "      <td>PSV</td>\n",
       "      <td>2012.0</td>\n",
       "      <td>Racing</td>\n",
       "      <td>0.33</td>\n",
       "      <td>0.45</td>\n",
       "      <td>0.01</td>\n",
       "      <td>0.22</td>\n",
       "      <td>NaN</td>\n",
       "      <td>NaN</td>\n",
       "      <td>NaN</td>\n",
       "    </tr>\n",
       "    <tr>\n",
       "      <th>3581</th>\n",
       "      <td>Need for Speed: Most Wanted</td>\n",
       "      <td>GC</td>\n",
       "      <td>2005.0</td>\n",
       "      <td>Racing</td>\n",
       "      <td>0.43</td>\n",
       "      <td>0.11</td>\n",
       "      <td>0.00</td>\n",
       "      <td>0.02</td>\n",
       "      <td>80.0</td>\n",
       "      <td>9.1</td>\n",
       "      <td>T</td>\n",
       "    </tr>\n",
       "    <tr>\n",
       "      <th>5972</th>\n",
       "      <td>Need for Speed: Most Wanted</td>\n",
       "      <td>PC</td>\n",
       "      <td>2005.0</td>\n",
       "      <td>Racing</td>\n",
       "      <td>0.02</td>\n",
       "      <td>0.23</td>\n",
       "      <td>0.00</td>\n",
       "      <td>0.04</td>\n",
       "      <td>82.0</td>\n",
       "      <td>8.5</td>\n",
       "      <td>T</td>\n",
       "    </tr>\n",
       "    <tr>\n",
       "      <th>6273</th>\n",
       "      <td>Need for Speed: Most Wanted</td>\n",
       "      <td>WiiU</td>\n",
       "      <td>2013.0</td>\n",
       "      <td>Racing</td>\n",
       "      <td>0.13</td>\n",
       "      <td>0.12</td>\n",
       "      <td>0.00</td>\n",
       "      <td>0.02</td>\n",
       "      <td>NaN</td>\n",
       "      <td>NaN</td>\n",
       "      <td>NaN</td>\n",
       "    </tr>\n",
       "    <tr>\n",
       "      <th>6410</th>\n",
       "      <td>Need for Speed: Most Wanted</td>\n",
       "      <td>DS</td>\n",
       "      <td>2005.0</td>\n",
       "      <td>Racing</td>\n",
       "      <td>0.24</td>\n",
       "      <td>0.01</td>\n",
       "      <td>0.00</td>\n",
       "      <td>0.02</td>\n",
       "      <td>45.0</td>\n",
       "      <td>6.1</td>\n",
       "      <td>E</td>\n",
       "    </tr>\n",
       "    <tr>\n",
       "      <th>6473</th>\n",
       "      <td>Need for Speed: Most Wanted</td>\n",
       "      <td>GBA</td>\n",
       "      <td>2005.0</td>\n",
       "      <td>Racing</td>\n",
       "      <td>0.19</td>\n",
       "      <td>0.07</td>\n",
       "      <td>0.00</td>\n",
       "      <td>0.00</td>\n",
       "      <td>NaN</td>\n",
       "      <td>8.3</td>\n",
       "      <td>E</td>\n",
       "    </tr>\n",
       "    <tr>\n",
       "      <th>11715</th>\n",
       "      <td>Need for Speed: Most Wanted</td>\n",
       "      <td>PC</td>\n",
       "      <td>2012.0</td>\n",
       "      <td>Racing</td>\n",
       "      <td>0.00</td>\n",
       "      <td>0.06</td>\n",
       "      <td>0.00</td>\n",
       "      <td>0.02</td>\n",
       "      <td>82.0</td>\n",
       "      <td>8.5</td>\n",
       "      <td>T</td>\n",
       "    </tr>\n",
       "  </tbody>\n",
       "</table>\n",
       "</div>"
      ],
      "text/plain": [
       "                              name platform  year_of_release   genre  \\\n",
       "253    Need for Speed: Most Wanted      PS2           2005.0  Racing   \n",
       "523    Need for Speed: Most Wanted      PS3           2012.0  Racing   \n",
       "1190   Need for Speed: Most Wanted     X360           2012.0  Racing   \n",
       "1591   Need for Speed: Most Wanted     X360           2005.0  Racing   \n",
       "1998   Need for Speed: Most Wanted       XB           2005.0  Racing   \n",
       "2048   Need for Speed: Most Wanted      PSV           2012.0  Racing   \n",
       "3581   Need for Speed: Most Wanted       GC           2005.0  Racing   \n",
       "5972   Need for Speed: Most Wanted       PC           2005.0  Racing   \n",
       "6273   Need for Speed: Most Wanted     WiiU           2013.0  Racing   \n",
       "6410   Need for Speed: Most Wanted       DS           2005.0  Racing   \n",
       "6473   Need for Speed: Most Wanted      GBA           2005.0  Racing   \n",
       "11715  Need for Speed: Most Wanted       PC           2012.0  Racing   \n",
       "\n",
       "       na_sales  eu_sales  jp_sales  other_sales  critic_score user_score  \\\n",
       "253        2.03      1.79      0.08         0.47          82.0        9.1   \n",
       "523        0.71      1.46      0.06         0.58           NaN        NaN   \n",
       "1190       0.62      0.78      0.01         0.15          83.0        8.5   \n",
       "1591       1.00      0.13      0.02         0.10          83.0        8.5   \n",
       "1998       0.53      0.46      0.00         0.05          83.0        8.8   \n",
       "2048       0.33      0.45      0.01         0.22           NaN        NaN   \n",
       "3581       0.43      0.11      0.00         0.02          80.0        9.1   \n",
       "5972       0.02      0.23      0.00         0.04          82.0        8.5   \n",
       "6273       0.13      0.12      0.00         0.02           NaN        NaN   \n",
       "6410       0.24      0.01      0.00         0.02          45.0        6.1   \n",
       "6473       0.19      0.07      0.00         0.00           NaN        8.3   \n",
       "11715      0.00      0.06      0.00         0.02          82.0        8.5   \n",
       "\n",
       "      rating  \n",
       "253        T  \n",
       "523      NaN  \n",
       "1190       T  \n",
       "1591       T  \n",
       "1998       T  \n",
       "2048     NaN  \n",
       "3581       T  \n",
       "5972       T  \n",
       "6273     NaN  \n",
       "6410       E  \n",
       "6473       E  \n",
       "11715      T  "
      ]
     },
     "execution_count": 8,
     "metadata": {},
     "output_type": "execute_result"
    }
   ],
   "source": [
    "df.query('name == \"Need for Speed: Most Wanted\"')  "
   ]
  },
  {
   "cell_type": "code",
   "execution_count": 9,
   "metadata": {
    "scrolled": true
   },
   "outputs": [
    {
     "data": {
      "text/html": [
       "<div>\n",
       "<style scoped>\n",
       "    .dataframe tbody tr th:only-of-type {\n",
       "        vertical-align: middle;\n",
       "    }\n",
       "\n",
       "    .dataframe tbody tr th {\n",
       "        vertical-align: top;\n",
       "    }\n",
       "\n",
       "    .dataframe thead th {\n",
       "        text-align: right;\n",
       "    }\n",
       "</style>\n",
       "<table border=\"1\" class=\"dataframe\">\n",
       "  <thead>\n",
       "    <tr style=\"text-align: right;\">\n",
       "      <th></th>\n",
       "      <th>name</th>\n",
       "      <th>platform</th>\n",
       "      <th>year_of_release</th>\n",
       "      <th>genre</th>\n",
       "      <th>na_sales</th>\n",
       "      <th>eu_sales</th>\n",
       "      <th>jp_sales</th>\n",
       "      <th>other_sales</th>\n",
       "      <th>critic_score</th>\n",
       "      <th>user_score</th>\n",
       "      <th>rating</th>\n",
       "    </tr>\n",
       "  </thead>\n",
       "  <tbody>\n",
       "    <tr>\n",
       "      <th>1598</th>\n",
       "      <td>Ratatouille</td>\n",
       "      <td>DS</td>\n",
       "      <td>2007.0</td>\n",
       "      <td>Action</td>\n",
       "      <td>0.49</td>\n",
       "      <td>0.62</td>\n",
       "      <td>0.0</td>\n",
       "      <td>0.14</td>\n",
       "      <td>NaN</td>\n",
       "      <td>NaN</td>\n",
       "      <td>NaN</td>\n",
       "    </tr>\n",
       "    <tr>\n",
       "      <th>2442</th>\n",
       "      <td>Ratatouille</td>\n",
       "      <td>PS2</td>\n",
       "      <td>2007.0</td>\n",
       "      <td>Action</td>\n",
       "      <td>0.31</td>\n",
       "      <td>0.00</td>\n",
       "      <td>0.0</td>\n",
       "      <td>0.53</td>\n",
       "      <td>65.0</td>\n",
       "      <td>8</td>\n",
       "      <td>E</td>\n",
       "    </tr>\n",
       "    <tr>\n",
       "      <th>3069</th>\n",
       "      <td>Ratatouille</td>\n",
       "      <td>PSP</td>\n",
       "      <td>2007.0</td>\n",
       "      <td>Action</td>\n",
       "      <td>0.22</td>\n",
       "      <td>0.27</td>\n",
       "      <td>0.0</td>\n",
       "      <td>0.16</td>\n",
       "      <td>64.0</td>\n",
       "      <td>7.1</td>\n",
       "      <td>E</td>\n",
       "    </tr>\n",
       "    <tr>\n",
       "      <th>3902</th>\n",
       "      <td>Ratatouille</td>\n",
       "      <td>PS3</td>\n",
       "      <td>2007.0</td>\n",
       "      <td>Action</td>\n",
       "      <td>0.09</td>\n",
       "      <td>0.32</td>\n",
       "      <td>0.0</td>\n",
       "      <td>0.10</td>\n",
       "      <td>55.0</td>\n",
       "      <td>4.8</td>\n",
       "      <td>E</td>\n",
       "    </tr>\n",
       "    <tr>\n",
       "      <th>3948</th>\n",
       "      <td>Ratatouille</td>\n",
       "      <td>Wii</td>\n",
       "      <td>2007.0</td>\n",
       "      <td>Action</td>\n",
       "      <td>0.43</td>\n",
       "      <td>0.03</td>\n",
       "      <td>0.0</td>\n",
       "      <td>0.04</td>\n",
       "      <td>62.0</td>\n",
       "      <td>6.7</td>\n",
       "      <td>E</td>\n",
       "    </tr>\n",
       "    <tr>\n",
       "      <th>6398</th>\n",
       "      <td>Ratatouille</td>\n",
       "      <td>X360</td>\n",
       "      <td>2007.0</td>\n",
       "      <td>Action</td>\n",
       "      <td>0.23</td>\n",
       "      <td>0.02</td>\n",
       "      <td>0.0</td>\n",
       "      <td>0.02</td>\n",
       "      <td>56.0</td>\n",
       "      <td>tbd</td>\n",
       "      <td>E</td>\n",
       "    </tr>\n",
       "    <tr>\n",
       "      <th>7681</th>\n",
       "      <td>Ratatouille</td>\n",
       "      <td>GBA</td>\n",
       "      <td>2007.0</td>\n",
       "      <td>Action</td>\n",
       "      <td>0.14</td>\n",
       "      <td>0.05</td>\n",
       "      <td>0.0</td>\n",
       "      <td>0.00</td>\n",
       "      <td>65.0</td>\n",
       "      <td>tbd</td>\n",
       "      <td>E</td>\n",
       "    </tr>\n",
       "    <tr>\n",
       "      <th>9015</th>\n",
       "      <td>Ratatouille</td>\n",
       "      <td>GC</td>\n",
       "      <td>2007.0</td>\n",
       "      <td>Action</td>\n",
       "      <td>0.11</td>\n",
       "      <td>0.03</td>\n",
       "      <td>0.0</td>\n",
       "      <td>0.00</td>\n",
       "      <td>60.0</td>\n",
       "      <td>5.6</td>\n",
       "      <td>E</td>\n",
       "    </tr>\n",
       "    <tr>\n",
       "      <th>14514</th>\n",
       "      <td>Ratatouille</td>\n",
       "      <td>PC</td>\n",
       "      <td>2007.0</td>\n",
       "      <td>Action</td>\n",
       "      <td>0.01</td>\n",
       "      <td>0.01</td>\n",
       "      <td>0.0</td>\n",
       "      <td>0.00</td>\n",
       "      <td>NaN</td>\n",
       "      <td>7.9</td>\n",
       "      <td>E</td>\n",
       "    </tr>\n",
       "  </tbody>\n",
       "</table>\n",
       "</div>"
      ],
      "text/plain": [
       "              name platform  year_of_release   genre  na_sales  eu_sales  \\\n",
       "1598   Ratatouille       DS           2007.0  Action      0.49      0.62   \n",
       "2442   Ratatouille      PS2           2007.0  Action      0.31      0.00   \n",
       "3069   Ratatouille      PSP           2007.0  Action      0.22      0.27   \n",
       "3902   Ratatouille      PS3           2007.0  Action      0.09      0.32   \n",
       "3948   Ratatouille      Wii           2007.0  Action      0.43      0.03   \n",
       "6398   Ratatouille     X360           2007.0  Action      0.23      0.02   \n",
       "7681   Ratatouille      GBA           2007.0  Action      0.14      0.05   \n",
       "9015   Ratatouille       GC           2007.0  Action      0.11      0.03   \n",
       "14514  Ratatouille       PC           2007.0  Action      0.01      0.01   \n",
       "\n",
       "       jp_sales  other_sales  critic_score user_score rating  \n",
       "1598        0.0         0.14           NaN        NaN    NaN  \n",
       "2442        0.0         0.53          65.0          8      E  \n",
       "3069        0.0         0.16          64.0        7.1      E  \n",
       "3902        0.0         0.10          55.0        4.8      E  \n",
       "3948        0.0         0.04          62.0        6.7      E  \n",
       "6398        0.0         0.02          56.0        tbd      E  \n",
       "7681        0.0         0.00          65.0        tbd      E  \n",
       "9015        0.0         0.00          60.0        5.6      E  \n",
       "14514       0.0         0.00           NaN        7.9      E  "
      ]
     },
     "execution_count": 9,
     "metadata": {},
     "output_type": "execute_result"
    }
   ],
   "source": [
    "df.query('name == \"Ratatouille\"') # проверяем повторы для игры Ratatouille"
   ]
  },
  {
   "cell_type": "markdown",
   "metadata": {},
   "source": [
    "Неявных дупликатов нет"
   ]
  },
  {
   "cell_type": "code",
   "execution_count": 10,
   "metadata": {
    "scrolled": false
   },
   "outputs": [
    {
     "data": {
      "text/plain": [
       "PS2     2161\n",
       "DS      2151\n",
       "PS3     1331\n",
       "Wii     1320\n",
       "X360    1262\n",
       "PSP     1209\n",
       "PS      1197\n",
       "PC       974\n",
       "XB       824\n",
       "GBA      822\n",
       "GC       556\n",
       "3DS      520\n",
       "PSV      430\n",
       "PS4      392\n",
       "N64      319\n",
       "XOne     247\n",
       "SNES     239\n",
       "SAT      173\n",
       "WiiU     147\n",
       "2600     133\n",
       "NES       98\n",
       "GB        98\n",
       "DC        52\n",
       "GEN       29\n",
       "NG        12\n",
       "WS         6\n",
       "SCD        6\n",
       "3DO        3\n",
       "TG16       2\n",
       "PCFX       1\n",
       "GG         1\n",
       "Name: platform, dtype: int64"
      ]
     },
     "execution_count": 10,
     "metadata": {},
     "output_type": "execute_result"
    }
   ],
   "source": [
    "df['platform'].value_counts()  "
   ]
  },
  {
   "cell_type": "markdown",
   "metadata": {},
   "source": [
    "Дупликатов жанра нет"
   ]
  },
  {
   "cell_type": "code",
   "execution_count": 11,
   "metadata": {
    "scrolled": true
   },
   "outputs": [
    {
     "data": {
      "text/plain": [
       "Action          3369\n",
       "Sports          2348\n",
       "Misc            1750\n",
       "Role-Playing    1498\n",
       "Shooter         1323\n",
       "Adventure       1303\n",
       "Racing          1249\n",
       "Platform         888\n",
       "Simulation       873\n",
       "Fighting         849\n",
       "Strategy         683\n",
       "Puzzle           580\n",
       "Name: genre, dtype: int64"
      ]
     },
     "execution_count": 11,
     "metadata": {},
     "output_type": "execute_result"
    }
   ],
   "source": [
    "df['genre'].value_counts()  "
   ]
  },
  {
   "cell_type": "markdown",
   "metadata": {},
   "source": [
    "Итого:\n",
    "- Явные дупликаты в датафрейме отсутствуют.\n",
    "- Неявные Дубликаты в столбце 'name' отсутствуют. Те дубликаты что присутствуют, вызваны тем, что игры выходили на разнах платформах, либо переиздавалась.\n",
    "- Неявные Дубликаты в столбцах 'genre' и 'platform' также отсутствуют.\n"
   ]
  },
  {
   "cell_type": "markdown",
   "metadata": {},
   "source": [
    "##### Обработка пропусков"
   ]
  },
  {
   "cell_type": "markdown",
   "metadata": {},
   "source": [
    "Считаем пропуски в датафрейме"
   ]
  },
  {
   "cell_type": "code",
   "execution_count": 12,
   "metadata": {
    "scrolled": false
   },
   "outputs": [
    {
     "data": {
      "text/plain": [
       "name                  2\n",
       "platform              0\n",
       "year_of_release     269\n",
       "genre                 2\n",
       "na_sales              0\n",
       "eu_sales              0\n",
       "jp_sales              0\n",
       "other_sales           0\n",
       "critic_score       8578\n",
       "user_score         6701\n",
       "rating             6766\n",
       "dtype: int64"
      ]
     },
     "execution_count": 12,
     "metadata": {},
     "output_type": "execute_result"
    }
   ],
   "source": [
    "df.isna().sum() "
   ]
  },
  {
   "cell_type": "markdown",
   "metadata": {},
   "source": [
    "Меняем пропуски в столбце year_of_release на ноль, т.к. заменить их невозможно"
   ]
  },
  {
   "cell_type": "code",
   "execution_count": 13,
   "metadata": {
    "scrolled": true
   },
   "outputs": [
    {
     "data": {
      "text/plain": [
       "name                  2\n",
       "platform              0\n",
       "year_of_release       0\n",
       "genre                 2\n",
       "na_sales              0\n",
       "eu_sales              0\n",
       "jp_sales              0\n",
       "other_sales           0\n",
       "critic_score       8578\n",
       "user_score         6701\n",
       "rating             6766\n",
       "dtype: int64"
      ]
     },
     "execution_count": 13,
     "metadata": {},
     "output_type": "execute_result"
    }
   ],
   "source": [
    "df['year_of_release'].fillna(value=0, inplace=True)  \n",
    "df.isna().sum()"
   ]
  },
  {
   "cell_type": "markdown",
   "metadata": {},
   "source": [
    "Удаляем две строчки вместе с пропусками в названии(а также ушли и пропуски в жанре)"
   ]
  },
  {
   "cell_type": "code",
   "execution_count": 14,
   "metadata": {},
   "outputs": [],
   "source": [
    " df.dropna(subset=['name'], inplace=True)  "
   ]
  },
  {
   "cell_type": "code",
   "execution_count": 15,
   "metadata": {
    "scrolled": true
   },
   "outputs": [
    {
     "data": {
      "text/plain": [
       "name                  0\n",
       "platform              0\n",
       "year_of_release       0\n",
       "genre                 0\n",
       "na_sales              0\n",
       "eu_sales              0\n",
       "jp_sales              0\n",
       "other_sales           0\n",
       "critic_score       8576\n",
       "user_score         6699\n",
       "rating             6764\n",
       "dtype: int64"
      ]
     },
     "execution_count": 15,
     "metadata": {},
     "output_type": "execute_result"
    }
   ],
   "source": [
    "df.isna().sum() "
   ]
  },
  {
   "cell_type": "code",
   "execution_count": 16,
   "metadata": {
    "scrolled": false
   },
   "outputs": [
    {
     "name": "stdout",
     "output_type": "stream",
     "text": [
      "<class 'pandas.core.frame.DataFrame'>\n",
      "Int64Index: 16713 entries, 0 to 16714\n",
      "Data columns (total 11 columns):\n",
      " #   Column           Non-Null Count  Dtype  \n",
      "---  ------           --------------  -----  \n",
      " 0   name             16713 non-null  object \n",
      " 1   platform         16713 non-null  object \n",
      " 2   year_of_release  16713 non-null  float64\n",
      " 3   genre            16713 non-null  object \n",
      " 4   na_sales         16713 non-null  float64\n",
      " 5   eu_sales         16713 non-null  float64\n",
      " 6   jp_sales         16713 non-null  float64\n",
      " 7   other_sales      16713 non-null  float64\n",
      " 8   critic_score     8137 non-null   float64\n",
      " 9   user_score       10014 non-null  object \n",
      " 10  rating           9949 non-null   object \n",
      "dtypes: float64(6), object(5)\n",
      "memory usage: 1.5+ MB\n"
     ]
    }
   ],
   "source": [
    "df.info()"
   ]
  },
  {
   "cell_type": "markdown",
   "metadata": {},
   "source": [
    "Смотрим на уникальные значения в столбцах с пропусками"
   ]
  },
  {
   "cell_type": "code",
   "execution_count": 17,
   "metadata": {},
   "outputs": [
    {
     "data": {
      "text/plain": [
       "NaN     8576\n",
       "70.0     256\n",
       "71.0     254\n",
       "75.0     245\n",
       "78.0     240\n",
       "        ... \n",
       "29.0       3\n",
       "21.0       1\n",
       "22.0       1\n",
       "13.0       1\n",
       "17.0       1\n",
       "Name: critic_score, Length: 83, dtype: int64"
      ]
     },
     "execution_count": 17,
     "metadata": {},
     "output_type": "execute_result"
    }
   ],
   "source": [
    "df['critic_score'].value_counts(dropna=False)"
   ]
  },
  {
   "cell_type": "code",
   "execution_count": 18,
   "metadata": {},
   "outputs": [
    {
     "data": {
      "text/plain": [
       "NaN    6699\n",
       "tbd    2424\n",
       "7.8     324\n",
       "8       290\n",
       "8.2     282\n",
       "       ... \n",
       "1.3       2\n",
       "2.3       2\n",
       "0.6       2\n",
       "9.7       1\n",
       "0         1\n",
       "Name: user_score, Length: 97, dtype: int64"
      ]
     },
     "execution_count": 18,
     "metadata": {},
     "output_type": "execute_result"
    }
   ],
   "source": [
    "df['user_score'].value_counts(dropna=False)"
   ]
  },
  {
   "cell_type": "code",
   "execution_count": 19,
   "metadata": {
    "scrolled": true
   },
   "outputs": [
    {
     "data": {
      "text/plain": [
       "NaN     6764\n",
       "E       3990\n",
       "T       2961\n",
       "M       1563\n",
       "E10+    1420\n",
       "EC         8\n",
       "RP         3\n",
       "K-A        3\n",
       "AO         1\n",
       "Name: rating, dtype: int64"
      ]
     },
     "execution_count": 19,
     "metadata": {},
     "output_type": "execute_result"
    }
   ],
   "source": [
    "df['rating'].value_counts(dropna=False)  "
   ]
  },
  {
   "cell_type": "markdown",
   "metadata": {},
   "source": [
    "В столбцах с рейтингом пропуски заменить не получиться, т.к. медианные или средние значения к играм подобрать не получиться."
   ]
  },
  {
   "cell_type": "markdown",
   "metadata": {},
   "source": [
    "##### Изменение типов даннных в столбцах"
   ]
  },
  {
   "cell_type": "markdown",
   "metadata": {},
   "source": [
    "TBD означает - to be determined, т.е. оценка еще ожидается. Для исследования заменим значения на float, чтобы можно было работать с этим столбцом, т.к. в нем значения - цифры"
   ]
  },
  {
   "cell_type": "code",
   "execution_count": 20,
   "metadata": {},
   "outputs": [
    {
     "data": {
      "text/html": [
       "<div>\n",
       "<style scoped>\n",
       "    .dataframe tbody tr th:only-of-type {\n",
       "        vertical-align: middle;\n",
       "    }\n",
       "\n",
       "    .dataframe tbody tr th {\n",
       "        vertical-align: top;\n",
       "    }\n",
       "\n",
       "    .dataframe thead th {\n",
       "        text-align: right;\n",
       "    }\n",
       "</style>\n",
       "<table border=\"1\" class=\"dataframe\">\n",
       "  <thead>\n",
       "    <tr style=\"text-align: right;\">\n",
       "      <th></th>\n",
       "      <th>name</th>\n",
       "      <th>platform</th>\n",
       "      <th>year_of_release</th>\n",
       "      <th>genre</th>\n",
       "      <th>na_sales</th>\n",
       "      <th>eu_sales</th>\n",
       "      <th>jp_sales</th>\n",
       "      <th>other_sales</th>\n",
       "      <th>critic_score</th>\n",
       "      <th>user_score</th>\n",
       "      <th>rating</th>\n",
       "    </tr>\n",
       "  </thead>\n",
       "  <tbody>\n",
       "    <tr>\n",
       "      <th>119</th>\n",
       "      <td>Zumba Fitness</td>\n",
       "      <td>Wii</td>\n",
       "      <td>2010.0</td>\n",
       "      <td>Sports</td>\n",
       "      <td>3.45</td>\n",
       "      <td>2.59</td>\n",
       "      <td>0.00</td>\n",
       "      <td>0.66</td>\n",
       "      <td>NaN</td>\n",
       "      <td>tbd</td>\n",
       "      <td>E</td>\n",
       "    </tr>\n",
       "    <tr>\n",
       "      <th>301</th>\n",
       "      <td>Namco Museum: 50th Anniversary</td>\n",
       "      <td>PS2</td>\n",
       "      <td>2005.0</td>\n",
       "      <td>Misc</td>\n",
       "      <td>2.08</td>\n",
       "      <td>1.35</td>\n",
       "      <td>0.00</td>\n",
       "      <td>0.54</td>\n",
       "      <td>61.0</td>\n",
       "      <td>tbd</td>\n",
       "      <td>E10+</td>\n",
       "    </tr>\n",
       "    <tr>\n",
       "      <th>520</th>\n",
       "      <td>Zumba Fitness 2</td>\n",
       "      <td>Wii</td>\n",
       "      <td>2011.0</td>\n",
       "      <td>Sports</td>\n",
       "      <td>1.51</td>\n",
       "      <td>1.03</td>\n",
       "      <td>0.00</td>\n",
       "      <td>0.27</td>\n",
       "      <td>NaN</td>\n",
       "      <td>tbd</td>\n",
       "      <td>T</td>\n",
       "    </tr>\n",
       "    <tr>\n",
       "      <th>645</th>\n",
       "      <td>uDraw Studio</td>\n",
       "      <td>Wii</td>\n",
       "      <td>2010.0</td>\n",
       "      <td>Misc</td>\n",
       "      <td>1.65</td>\n",
       "      <td>0.57</td>\n",
       "      <td>0.00</td>\n",
       "      <td>0.20</td>\n",
       "      <td>71.0</td>\n",
       "      <td>tbd</td>\n",
       "      <td>E</td>\n",
       "    </tr>\n",
       "    <tr>\n",
       "      <th>657</th>\n",
       "      <td>Frogger's Adventures: Temple of the Frog</td>\n",
       "      <td>GBA</td>\n",
       "      <td>0.0</td>\n",
       "      <td>Adventure</td>\n",
       "      <td>2.15</td>\n",
       "      <td>0.18</td>\n",
       "      <td>0.00</td>\n",
       "      <td>0.07</td>\n",
       "      <td>73.0</td>\n",
       "      <td>tbd</td>\n",
       "      <td>E</td>\n",
       "    </tr>\n",
       "    <tr>\n",
       "      <th>718</th>\n",
       "      <td>Just Dance Kids</td>\n",
       "      <td>Wii</td>\n",
       "      <td>2010.0</td>\n",
       "      <td>Misc</td>\n",
       "      <td>1.52</td>\n",
       "      <td>0.54</td>\n",
       "      <td>0.00</td>\n",
       "      <td>0.18</td>\n",
       "      <td>NaN</td>\n",
       "      <td>tbd</td>\n",
       "      <td>E</td>\n",
       "    </tr>\n",
       "    <tr>\n",
       "      <th>726</th>\n",
       "      <td>Dance Dance Revolution X2</td>\n",
       "      <td>PS2</td>\n",
       "      <td>2009.0</td>\n",
       "      <td>Simulation</td>\n",
       "      <td>1.09</td>\n",
       "      <td>0.85</td>\n",
       "      <td>0.00</td>\n",
       "      <td>0.28</td>\n",
       "      <td>NaN</td>\n",
       "      <td>tbd</td>\n",
       "      <td>E10+</td>\n",
       "    </tr>\n",
       "    <tr>\n",
       "      <th>821</th>\n",
       "      <td>The Incredibles</td>\n",
       "      <td>GBA</td>\n",
       "      <td>2004.0</td>\n",
       "      <td>Action</td>\n",
       "      <td>1.15</td>\n",
       "      <td>0.77</td>\n",
       "      <td>0.04</td>\n",
       "      <td>0.10</td>\n",
       "      <td>55.0</td>\n",
       "      <td>tbd</td>\n",
       "      <td>E</td>\n",
       "    </tr>\n",
       "    <tr>\n",
       "      <th>881</th>\n",
       "      <td>Who wants to be a millionaire</td>\n",
       "      <td>PC</td>\n",
       "      <td>1999.0</td>\n",
       "      <td>Misc</td>\n",
       "      <td>1.94</td>\n",
       "      <td>0.00</td>\n",
       "      <td>0.00</td>\n",
       "      <td>0.00</td>\n",
       "      <td>NaN</td>\n",
       "      <td>tbd</td>\n",
       "      <td>E</td>\n",
       "    </tr>\n",
       "    <tr>\n",
       "      <th>1047</th>\n",
       "      <td>Tetris Worlds</td>\n",
       "      <td>GBA</td>\n",
       "      <td>2001.0</td>\n",
       "      <td>Puzzle</td>\n",
       "      <td>1.25</td>\n",
       "      <td>0.39</td>\n",
       "      <td>0.00</td>\n",
       "      <td>0.06</td>\n",
       "      <td>65.0</td>\n",
       "      <td>tbd</td>\n",
       "      <td>E</td>\n",
       "    </tr>\n",
       "    <tr>\n",
       "      <th>1048</th>\n",
       "      <td>Imagine: Teacher</td>\n",
       "      <td>DS</td>\n",
       "      <td>2008.0</td>\n",
       "      <td>Simulation</td>\n",
       "      <td>0.70</td>\n",
       "      <td>0.82</td>\n",
       "      <td>0.00</td>\n",
       "      <td>0.19</td>\n",
       "      <td>NaN</td>\n",
       "      <td>tbd</td>\n",
       "      <td>E</td>\n",
       "    </tr>\n",
       "    <tr>\n",
       "      <th>1069</th>\n",
       "      <td>Personal Trainer: Math</td>\n",
       "      <td>DS</td>\n",
       "      <td>2007.0</td>\n",
       "      <td>Puzzle</td>\n",
       "      <td>0.48</td>\n",
       "      <td>1.12</td>\n",
       "      <td>0.00</td>\n",
       "      <td>0.08</td>\n",
       "      <td>63.0</td>\n",
       "      <td>tbd</td>\n",
       "      <td>E</td>\n",
       "    </tr>\n",
       "    <tr>\n",
       "      <th>1070</th>\n",
       "      <td>Game Party 3</td>\n",
       "      <td>Wii</td>\n",
       "      <td>2009.0</td>\n",
       "      <td>Puzzle</td>\n",
       "      <td>1.40</td>\n",
       "      <td>0.16</td>\n",
       "      <td>0.00</td>\n",
       "      <td>0.12</td>\n",
       "      <td>37.0</td>\n",
       "      <td>tbd</td>\n",
       "      <td>E</td>\n",
       "    </tr>\n",
       "    <tr>\n",
       "      <th>1089</th>\n",
       "      <td>Monsters, Inc.</td>\n",
       "      <td>GBA</td>\n",
       "      <td>2001.0</td>\n",
       "      <td>Adventure</td>\n",
       "      <td>0.59</td>\n",
       "      <td>0.95</td>\n",
       "      <td>0.03</td>\n",
       "      <td>0.10</td>\n",
       "      <td>NaN</td>\n",
       "      <td>tbd</td>\n",
       "      <td>E</td>\n",
       "    </tr>\n",
       "    <tr>\n",
       "      <th>1151</th>\n",
       "      <td>SpongeBob's Atlantis SquarePantis</td>\n",
       "      <td>DS</td>\n",
       "      <td>2007.0</td>\n",
       "      <td>Action</td>\n",
       "      <td>1.49</td>\n",
       "      <td>0.00</td>\n",
       "      <td>0.00</td>\n",
       "      <td>0.11</td>\n",
       "      <td>64.0</td>\n",
       "      <td>tbd</td>\n",
       "      <td>E</td>\n",
       "    </tr>\n",
       "    <tr>\n",
       "      <th>1199</th>\n",
       "      <td>MySims Kingdom</td>\n",
       "      <td>DS</td>\n",
       "      <td>2008.0</td>\n",
       "      <td>Simulation</td>\n",
       "      <td>0.80</td>\n",
       "      <td>0.59</td>\n",
       "      <td>0.01</td>\n",
       "      <td>0.16</td>\n",
       "      <td>58.0</td>\n",
       "      <td>tbd</td>\n",
       "      <td>E</td>\n",
       "    </tr>\n",
       "    <tr>\n",
       "      <th>1210</th>\n",
       "      <td>Moshi Monsters: Moshling Zoo</td>\n",
       "      <td>DS</td>\n",
       "      <td>2011.0</td>\n",
       "      <td>Misc</td>\n",
       "      <td>0.37</td>\n",
       "      <td>0.96</td>\n",
       "      <td>0.00</td>\n",
       "      <td>0.21</td>\n",
       "      <td>NaN</td>\n",
       "      <td>tbd</td>\n",
       "      <td>E</td>\n",
       "    </tr>\n",
       "    <tr>\n",
       "      <th>1284</th>\n",
       "      <td>Disney Sing It: Pop Hits</td>\n",
       "      <td>Wii</td>\n",
       "      <td>2009.0</td>\n",
       "      <td>Misc</td>\n",
       "      <td>1.07</td>\n",
       "      <td>0.28</td>\n",
       "      <td>0.00</td>\n",
       "      <td>0.13</td>\n",
       "      <td>NaN</td>\n",
       "      <td>tbd</td>\n",
       "      <td>E</td>\n",
       "    </tr>\n",
       "    <tr>\n",
       "      <th>1291</th>\n",
       "      <td>Imagine: Master Chef</td>\n",
       "      <td>DS</td>\n",
       "      <td>2007.0</td>\n",
       "      <td>Simulation</td>\n",
       "      <td>0.39</td>\n",
       "      <td>0.91</td>\n",
       "      <td>0.00</td>\n",
       "      <td>0.17</td>\n",
       "      <td>NaN</td>\n",
       "      <td>tbd</td>\n",
       "      <td>E</td>\n",
       "    </tr>\n",
       "    <tr>\n",
       "      <th>1292</th>\n",
       "      <td>Disney Princess</td>\n",
       "      <td>GBA</td>\n",
       "      <td>2003.0</td>\n",
       "      <td>Platform</td>\n",
       "      <td>1.04</td>\n",
       "      <td>0.37</td>\n",
       "      <td>0.00</td>\n",
       "      <td>0.06</td>\n",
       "      <td>NaN</td>\n",
       "      <td>tbd</td>\n",
       "      <td>E</td>\n",
       "    </tr>\n",
       "  </tbody>\n",
       "</table>\n",
       "</div>"
      ],
      "text/plain": [
       "                                          name platform  year_of_release  \\\n",
       "119                              Zumba Fitness      Wii           2010.0   \n",
       "301             Namco Museum: 50th Anniversary      PS2           2005.0   \n",
       "520                            Zumba Fitness 2      Wii           2011.0   \n",
       "645                               uDraw Studio      Wii           2010.0   \n",
       "657   Frogger's Adventures: Temple of the Frog      GBA              0.0   \n",
       "718                            Just Dance Kids      Wii           2010.0   \n",
       "726                  Dance Dance Revolution X2      PS2           2009.0   \n",
       "821                            The Incredibles      GBA           2004.0   \n",
       "881              Who wants to be a millionaire       PC           1999.0   \n",
       "1047                             Tetris Worlds      GBA           2001.0   \n",
       "1048                          Imagine: Teacher       DS           2008.0   \n",
       "1069                    Personal Trainer: Math       DS           2007.0   \n",
       "1070                              Game Party 3      Wii           2009.0   \n",
       "1089                            Monsters, Inc.      GBA           2001.0   \n",
       "1151         SpongeBob's Atlantis SquarePantis       DS           2007.0   \n",
       "1199                            MySims Kingdom       DS           2008.0   \n",
       "1210              Moshi Monsters: Moshling Zoo       DS           2011.0   \n",
       "1284                  Disney Sing It: Pop Hits      Wii           2009.0   \n",
       "1291                      Imagine: Master Chef       DS           2007.0   \n",
       "1292                           Disney Princess      GBA           2003.0   \n",
       "\n",
       "           genre  na_sales  eu_sales  jp_sales  other_sales  critic_score  \\\n",
       "119       Sports      3.45      2.59      0.00         0.66           NaN   \n",
       "301         Misc      2.08      1.35      0.00         0.54          61.0   \n",
       "520       Sports      1.51      1.03      0.00         0.27           NaN   \n",
       "645         Misc      1.65      0.57      0.00         0.20          71.0   \n",
       "657    Adventure      2.15      0.18      0.00         0.07          73.0   \n",
       "718         Misc      1.52      0.54      0.00         0.18           NaN   \n",
       "726   Simulation      1.09      0.85      0.00         0.28           NaN   \n",
       "821       Action      1.15      0.77      0.04         0.10          55.0   \n",
       "881         Misc      1.94      0.00      0.00         0.00           NaN   \n",
       "1047      Puzzle      1.25      0.39      0.00         0.06          65.0   \n",
       "1048  Simulation      0.70      0.82      0.00         0.19           NaN   \n",
       "1069      Puzzle      0.48      1.12      0.00         0.08          63.0   \n",
       "1070      Puzzle      1.40      0.16      0.00         0.12          37.0   \n",
       "1089   Adventure      0.59      0.95      0.03         0.10           NaN   \n",
       "1151      Action      1.49      0.00      0.00         0.11          64.0   \n",
       "1199  Simulation      0.80      0.59      0.01         0.16          58.0   \n",
       "1210        Misc      0.37      0.96      0.00         0.21           NaN   \n",
       "1284        Misc      1.07      0.28      0.00         0.13           NaN   \n",
       "1291  Simulation      0.39      0.91      0.00         0.17           NaN   \n",
       "1292    Platform      1.04      0.37      0.00         0.06           NaN   \n",
       "\n",
       "     user_score rating  \n",
       "119         tbd      E  \n",
       "301         tbd   E10+  \n",
       "520         tbd      T  \n",
       "645         tbd      E  \n",
       "657         tbd      E  \n",
       "718         tbd      E  \n",
       "726         tbd   E10+  \n",
       "821         tbd      E  \n",
       "881         tbd      E  \n",
       "1047        tbd      E  \n",
       "1048        tbd      E  \n",
       "1069        tbd      E  \n",
       "1070        tbd      E  \n",
       "1089        tbd      E  \n",
       "1151        tbd      E  \n",
       "1199        tbd      E  \n",
       "1210        tbd      E  \n",
       "1284        tbd      E  \n",
       "1291        tbd      E  \n",
       "1292        tbd      E  "
      ]
     },
     "execution_count": 20,
     "metadata": {},
     "output_type": "execute_result"
    }
   ],
   "source": [
    "df.loc[df['user_score'] == 'tbd'].head(20)"
   ]
  },
  {
   "cell_type": "code",
   "execution_count": 21,
   "metadata": {},
   "outputs": [],
   "source": [
    "df['user_score'] =  pd.to_numeric(df['user_score'], errors='coerce')"
   ]
  },
  {
   "cell_type": "code",
   "execution_count": 22,
   "metadata": {
    "scrolled": true
   },
   "outputs": [
    {
     "name": "stdout",
     "output_type": "stream",
     "text": [
      "<class 'pandas.core.frame.DataFrame'>\n",
      "Int64Index: 16713 entries, 0 to 16714\n",
      "Data columns (total 11 columns):\n",
      " #   Column           Non-Null Count  Dtype  \n",
      "---  ------           --------------  -----  \n",
      " 0   name             16713 non-null  object \n",
      " 1   platform         16713 non-null  object \n",
      " 2   year_of_release  16713 non-null  float64\n",
      " 3   genre            16713 non-null  object \n",
      " 4   na_sales         16713 non-null  float64\n",
      " 5   eu_sales         16713 non-null  float64\n",
      " 6   jp_sales         16713 non-null  float64\n",
      " 7   other_sales      16713 non-null  float64\n",
      " 8   critic_score     8137 non-null   float64\n",
      " 9   user_score       7590 non-null   float64\n",
      " 10  rating           9949 non-null   object \n",
      "dtypes: float64(7), object(4)\n",
      "memory usage: 1.5+ MB\n"
     ]
    }
   ],
   "source": [
    "df.info()"
   ]
  },
  {
   "cell_type": "code",
   "execution_count": 23,
   "metadata": {},
   "outputs": [],
   "source": [
    "df['year_of_release'] = df['year_of_release'].astype('int')"
   ]
  },
  {
   "cell_type": "code",
   "execution_count": 24,
   "metadata": {},
   "outputs": [
    {
     "data": {
      "text/html": [
       "<div>\n",
       "<style scoped>\n",
       "    .dataframe tbody tr th:only-of-type {\n",
       "        vertical-align: middle;\n",
       "    }\n",
       "\n",
       "    .dataframe tbody tr th {\n",
       "        vertical-align: top;\n",
       "    }\n",
       "\n",
       "    .dataframe thead th {\n",
       "        text-align: right;\n",
       "    }\n",
       "</style>\n",
       "<table border=\"1\" class=\"dataframe\">\n",
       "  <thead>\n",
       "    <tr style=\"text-align: right;\">\n",
       "      <th></th>\n",
       "      <th>name</th>\n",
       "      <th>platform</th>\n",
       "      <th>year_of_release</th>\n",
       "      <th>genre</th>\n",
       "      <th>na_sales</th>\n",
       "      <th>eu_sales</th>\n",
       "      <th>jp_sales</th>\n",
       "      <th>other_sales</th>\n",
       "      <th>critic_score</th>\n",
       "      <th>user_score</th>\n",
       "      <th>rating</th>\n",
       "    </tr>\n",
       "  </thead>\n",
       "  <tbody>\n",
       "    <tr>\n",
       "      <th>0</th>\n",
       "      <td>Wii Sports</td>\n",
       "      <td>Wii</td>\n",
       "      <td>2006</td>\n",
       "      <td>Sports</td>\n",
       "      <td>41.36</td>\n",
       "      <td>28.96</td>\n",
       "      <td>3.77</td>\n",
       "      <td>8.45</td>\n",
       "      <td>76.0</td>\n",
       "      <td>8.0</td>\n",
       "      <td>E</td>\n",
       "    </tr>\n",
       "    <tr>\n",
       "      <th>1</th>\n",
       "      <td>Super Mario Bros.</td>\n",
       "      <td>NES</td>\n",
       "      <td>1985</td>\n",
       "      <td>Platform</td>\n",
       "      <td>29.08</td>\n",
       "      <td>3.58</td>\n",
       "      <td>6.81</td>\n",
       "      <td>0.77</td>\n",
       "      <td>NaN</td>\n",
       "      <td>NaN</td>\n",
       "      <td>NaN</td>\n",
       "    </tr>\n",
       "    <tr>\n",
       "      <th>2</th>\n",
       "      <td>Mario Kart Wii</td>\n",
       "      <td>Wii</td>\n",
       "      <td>2008</td>\n",
       "      <td>Racing</td>\n",
       "      <td>15.68</td>\n",
       "      <td>12.76</td>\n",
       "      <td>3.79</td>\n",
       "      <td>3.29</td>\n",
       "      <td>82.0</td>\n",
       "      <td>8.3</td>\n",
       "      <td>E</td>\n",
       "    </tr>\n",
       "    <tr>\n",
       "      <th>3</th>\n",
       "      <td>Wii Sports Resort</td>\n",
       "      <td>Wii</td>\n",
       "      <td>2009</td>\n",
       "      <td>Sports</td>\n",
       "      <td>15.61</td>\n",
       "      <td>10.93</td>\n",
       "      <td>3.28</td>\n",
       "      <td>2.95</td>\n",
       "      <td>80.0</td>\n",
       "      <td>8.0</td>\n",
       "      <td>E</td>\n",
       "    </tr>\n",
       "    <tr>\n",
       "      <th>4</th>\n",
       "      <td>Pokemon Red/Pokemon Blue</td>\n",
       "      <td>GB</td>\n",
       "      <td>1996</td>\n",
       "      <td>Role-Playing</td>\n",
       "      <td>11.27</td>\n",
       "      <td>8.89</td>\n",
       "      <td>10.22</td>\n",
       "      <td>1.00</td>\n",
       "      <td>NaN</td>\n",
       "      <td>NaN</td>\n",
       "      <td>NaN</td>\n",
       "    </tr>\n",
       "  </tbody>\n",
       "</table>\n",
       "</div>"
      ],
      "text/plain": [
       "                       name platform  year_of_release         genre  na_sales  \\\n",
       "0                Wii Sports      Wii             2006        Sports     41.36   \n",
       "1         Super Mario Bros.      NES             1985      Platform     29.08   \n",
       "2            Mario Kart Wii      Wii             2008        Racing     15.68   \n",
       "3         Wii Sports Resort      Wii             2009        Sports     15.61   \n",
       "4  Pokemon Red/Pokemon Blue       GB             1996  Role-Playing     11.27   \n",
       "\n",
       "   eu_sales  jp_sales  other_sales  critic_score  user_score rating  \n",
       "0     28.96      3.77         8.45          76.0         8.0      E  \n",
       "1      3.58      6.81         0.77           NaN         NaN    NaN  \n",
       "2     12.76      3.79         3.29          82.0         8.3      E  \n",
       "3     10.93      3.28         2.95          80.0         8.0      E  \n",
       "4      8.89     10.22         1.00           NaN         NaN    NaN  "
      ]
     },
     "execution_count": 24,
     "metadata": {},
     "output_type": "execute_result"
    }
   ],
   "source": [
    "df.head()"
   ]
  },
  {
   "cell_type": "code",
   "execution_count": 25,
   "metadata": {},
   "outputs": [
    {
     "name": "stdout",
     "output_type": "stream",
     "text": [
      "<class 'pandas.core.frame.DataFrame'>\n",
      "Int64Index: 16713 entries, 0 to 16714\n",
      "Data columns (total 11 columns):\n",
      " #   Column           Non-Null Count  Dtype  \n",
      "---  ------           --------------  -----  \n",
      " 0   name             16713 non-null  object \n",
      " 1   platform         16713 non-null  object \n",
      " 2   year_of_release  16713 non-null  int64  \n",
      " 3   genre            16713 non-null  object \n",
      " 4   na_sales         16713 non-null  float64\n",
      " 5   eu_sales         16713 non-null  float64\n",
      " 6   jp_sales         16713 non-null  float64\n",
      " 7   other_sales      16713 non-null  float64\n",
      " 8   critic_score     8137 non-null   float64\n",
      " 9   user_score       7590 non-null   float64\n",
      " 10  rating           9949 non-null   object \n",
      "dtypes: float64(6), int64(1), object(4)\n",
      "memory usage: 1.5+ MB\n"
     ]
    }
   ],
   "source": [
    "df.info()"
   ]
  },
  {
   "cell_type": "markdown",
   "metadata": {},
   "source": [
    "Изменены типы данных в датафрейме:\n",
    "- year_of_realease — из float в int (в этом столбце года, писать их типом флоат нет нужды)\n",
    "- user_score — из object в int (тут числа, так что object не подходит)"
   ]
  },
  {
   "cell_type": "markdown",
   "metadata": {},
   "source": [
    "##### Сумарные продажи по всем регионам "
   ]
  },
  {
   "cell_type": "code",
   "execution_count": 26,
   "metadata": {
    "scrolled": true
   },
   "outputs": [
    {
     "data": {
      "text/html": [
       "<div>\n",
       "<style scoped>\n",
       "    .dataframe tbody tr th:only-of-type {\n",
       "        vertical-align: middle;\n",
       "    }\n",
       "\n",
       "    .dataframe tbody tr th {\n",
       "        vertical-align: top;\n",
       "    }\n",
       "\n",
       "    .dataframe thead th {\n",
       "        text-align: right;\n",
       "    }\n",
       "</style>\n",
       "<table border=\"1\" class=\"dataframe\">\n",
       "  <thead>\n",
       "    <tr style=\"text-align: right;\">\n",
       "      <th></th>\n",
       "      <th>name</th>\n",
       "      <th>platform</th>\n",
       "      <th>year_of_release</th>\n",
       "      <th>genre</th>\n",
       "      <th>na_sales</th>\n",
       "      <th>eu_sales</th>\n",
       "      <th>jp_sales</th>\n",
       "      <th>other_sales</th>\n",
       "      <th>critic_score</th>\n",
       "      <th>user_score</th>\n",
       "      <th>rating</th>\n",
       "      <th>all_sales</th>\n",
       "    </tr>\n",
       "  </thead>\n",
       "  <tbody>\n",
       "    <tr>\n",
       "      <th>0</th>\n",
       "      <td>Wii Sports</td>\n",
       "      <td>Wii</td>\n",
       "      <td>2006</td>\n",
       "      <td>Sports</td>\n",
       "      <td>41.36</td>\n",
       "      <td>28.96</td>\n",
       "      <td>3.77</td>\n",
       "      <td>8.45</td>\n",
       "      <td>76.0</td>\n",
       "      <td>8.0</td>\n",
       "      <td>E</td>\n",
       "      <td>82.54</td>\n",
       "    </tr>\n",
       "    <tr>\n",
       "      <th>1</th>\n",
       "      <td>Super Mario Bros.</td>\n",
       "      <td>NES</td>\n",
       "      <td>1985</td>\n",
       "      <td>Platform</td>\n",
       "      <td>29.08</td>\n",
       "      <td>3.58</td>\n",
       "      <td>6.81</td>\n",
       "      <td>0.77</td>\n",
       "      <td>NaN</td>\n",
       "      <td>NaN</td>\n",
       "      <td>NaN</td>\n",
       "      <td>40.24</td>\n",
       "    </tr>\n",
       "    <tr>\n",
       "      <th>2</th>\n",
       "      <td>Mario Kart Wii</td>\n",
       "      <td>Wii</td>\n",
       "      <td>2008</td>\n",
       "      <td>Racing</td>\n",
       "      <td>15.68</td>\n",
       "      <td>12.76</td>\n",
       "      <td>3.79</td>\n",
       "      <td>3.29</td>\n",
       "      <td>82.0</td>\n",
       "      <td>8.3</td>\n",
       "      <td>E</td>\n",
       "      <td>35.52</td>\n",
       "    </tr>\n",
       "    <tr>\n",
       "      <th>3</th>\n",
       "      <td>Wii Sports Resort</td>\n",
       "      <td>Wii</td>\n",
       "      <td>2009</td>\n",
       "      <td>Sports</td>\n",
       "      <td>15.61</td>\n",
       "      <td>10.93</td>\n",
       "      <td>3.28</td>\n",
       "      <td>2.95</td>\n",
       "      <td>80.0</td>\n",
       "      <td>8.0</td>\n",
       "      <td>E</td>\n",
       "      <td>32.77</td>\n",
       "    </tr>\n",
       "    <tr>\n",
       "      <th>4</th>\n",
       "      <td>Pokemon Red/Pokemon Blue</td>\n",
       "      <td>GB</td>\n",
       "      <td>1996</td>\n",
       "      <td>Role-Playing</td>\n",
       "      <td>11.27</td>\n",
       "      <td>8.89</td>\n",
       "      <td>10.22</td>\n",
       "      <td>1.00</td>\n",
       "      <td>NaN</td>\n",
       "      <td>NaN</td>\n",
       "      <td>NaN</td>\n",
       "      <td>31.38</td>\n",
       "    </tr>\n",
       "  </tbody>\n",
       "</table>\n",
       "</div>"
      ],
      "text/plain": [
       "                       name platform  year_of_release         genre  na_sales  \\\n",
       "0                Wii Sports      Wii             2006        Sports     41.36   \n",
       "1         Super Mario Bros.      NES             1985      Platform     29.08   \n",
       "2            Mario Kart Wii      Wii             2008        Racing     15.68   \n",
       "3         Wii Sports Resort      Wii             2009        Sports     15.61   \n",
       "4  Pokemon Red/Pokemon Blue       GB             1996  Role-Playing     11.27   \n",
       "\n",
       "   eu_sales  jp_sales  other_sales  critic_score  user_score rating  all_sales  \n",
       "0     28.96      3.77         8.45          76.0         8.0      E      82.54  \n",
       "1      3.58      6.81         0.77           NaN         NaN    NaN      40.24  \n",
       "2     12.76      3.79         3.29          82.0         8.3      E      35.52  \n",
       "3     10.93      3.28         2.95          80.0         8.0      E      32.77  \n",
       "4      8.89     10.22         1.00           NaN         NaN    NaN      31.38  "
      ]
     },
     "execution_count": 26,
     "metadata": {},
     "output_type": "execute_result"
    }
   ],
   "source": [
    "df['all_sales'] = df['na_sales'] + df['eu_sales'] + df['jp_sales'] + df['other_sales']\n",
    "df.head()"
   ]
  },
  {
   "cell_type": "markdown",
   "metadata": {},
   "source": [
    "Итого:\n",
    "- Обработаны пропуски в столбце year_of_release\n",
    "- Удалены пропуски в столбце name\n",
    "- Изучены и обработаны пропуски в столбце user_score\n",
    "- Изменены типы данных в столбцах year_of_realease — из float в int и user_score — из object в int\n",
    "- Посчитаны суммарные продажи во всех регионах и перенесены в новый признак датафрейма\n"
   ]
  },
  {
   "cell_type": "markdown",
   "metadata": {},
   "source": [
    "# Шаг 3. Исследовательский анализ данных"
   ]
  },
  {
   "cell_type": "markdown",
   "metadata": {},
   "source": [
    "##### Посмотрите, сколько игр выпускалось в разные годы. Важны ли данные за все периоды?"
   ]
  },
  {
   "cell_type": "code",
   "execution_count": 27,
   "metadata": {},
   "outputs": [],
   "source": [
    "df_pivot_table = pd.pivot_table(df, values='name', index='year_of_release', aggfunc='count') \n",
    "df_pivot_table = df_pivot_table.drop(df_pivot_table.index[0])"
   ]
  },
  {
   "cell_type": "code",
   "execution_count": 28,
   "metadata": {},
   "outputs": [
    {
     "data": {
      "image/png": "[encoded data removed]",
      "text/plain": [
       "<Figure size 936x432 with 1 Axes>"
      ]
     },
     "metadata": {
      "needs_background": "light"
     },
     "output_type": "display_data"
    }
   ],
   "source": [
    "df_pivot_table.plot(kind='bar', \n",
    "                    figsize=(13, 6), \n",
    "                    color='grey',\n",
    "                    grid=True, zorder=2)\n",
    "plt.title('Number of Games Released per Year')\n",
    "plt.xlabel('Year of Release')\n",
    "plt.ylabel('Number of Games')\n",
    "plt.legend(['Games'], bbox_to_anchor=(1.001, 1), loc='best')\n",
    "plt.show()"
   ]
  },
  {
   "cell_type": "markdown",
   "metadata": {},
   "source": [
    " Итого:\n",
    " - В период до 1993 года включительно выпускалось достаточно малое количество игр\n",
    " - В период с 1994 по 2016 гг. выпуск игр значительно вырос по сравнению с предыдущими годами, это наиболее важный период\n",
    " - Пик выпуска игр пришел на 2008-2009 гг.\n",
    " - После 2009 выпуск игр пошел на спад\n",
    " - Наиболее важный период для исследования - после 1993-94 гг. Т.к. до этого игр выпускалось совсем мало\n",
    " "
   ]
  },
  {
   "cell_type": "markdown",
   "metadata": {},
   "source": [
    "##### Посмотрите, как менялись продажи по платформам. Выберите платформы с наибольшими суммарными продажами и постройте распределение по годам. За какой характерный срок появляются новые и исчезают старые платформы?"
   ]
  },
  {
   "cell_type": "markdown",
   "metadata": {},
   "source": [
    "Строим сводную таблицу продаж по всем платформам, и смотрим на топ и выбираем наиболее успешные платформы с наибольшими суммарными продажами "
   ]
  },
  {
   "cell_type": "code",
   "execution_count": 29,
   "metadata": {},
   "outputs": [],
   "source": [
    "platform_sales = pd.pivot_table(df, values='all_sales', index='platform', aggfunc='sum').sort_values(by='all_sales')"
   ]
  },
  {
   "cell_type": "code",
   "execution_count": 30,
   "metadata": {},
   "outputs": [
    {
     "data": {
      "image/png": "[encoded data removed]",
      "text/plain": [
       "<Figure size 936x432 with 1 Axes>"
      ]
     },
     "metadata": {
      "needs_background": "light"
     },
     "output_type": "display_data"
    }
   ],
   "source": [
    "platform_sales.plot(kind='bar', \n",
    "                    figsize=(13, 6), \n",
    "                    color='black',\n",
    "                    grid=True, \n",
    "                    zorder=2)\n",
    "plt.title('Platform sales')\n",
    "plt.xlabel('Platforms')\n",
    "plt.ylabel('Number of Games')\n",
    "plt.legend(['Sales'], bbox_to_anchor=(1.001, 1), loc='best')\n",
    "plt.show()"
   ]
  },
  {
   "cell_type": "markdown",
   "metadata": {},
   "source": [
    "создаем переменную для топ продаж - возьмем топ 6"
   ]
  },
  {
   "cell_type": "code",
   "execution_count": 31,
   "metadata": {},
   "outputs": [],
   "source": [
    "#platforms_top6 = platform_sales.sort_values(by='all_sales', ascending=False).head(6)\n",
    "#platforms_top6"
   ]
  },
  {
   "cell_type": "markdown",
   "metadata": {},
   "source": [
    "Делаем сводную таблицу с распределением продажами по годам и платформе"
   ]
  },
  {
   "cell_type": "code",
   "execution_count": 32,
   "metadata": {},
   "outputs": [
    {
     "data": {
      "text/html": [
       "<div>\n",
       "<style scoped>\n",
       "    .dataframe tbody tr th:only-of-type {\n",
       "        vertical-align: middle;\n",
       "    }\n",
       "\n",
       "    .dataframe tbody tr th {\n",
       "        vertical-align: top;\n",
       "    }\n",
       "\n",
       "    .dataframe thead th {\n",
       "        text-align: right;\n",
       "    }\n",
       "</style>\n",
       "<table border=\"1\" class=\"dataframe\">\n",
       "  <thead>\n",
       "    <tr style=\"text-align: right;\">\n",
       "      <th>platform</th>\n",
       "      <th>2600</th>\n",
       "      <th>3DO</th>\n",
       "      <th>3DS</th>\n",
       "      <th>DC</th>\n",
       "      <th>DS</th>\n",
       "      <th>GB</th>\n",
       "      <th>GBA</th>\n",
       "      <th>GC</th>\n",
       "      <th>GEN</th>\n",
       "      <th>GG</th>\n",
       "      <th>...</th>\n",
       "      <th>SAT</th>\n",
       "      <th>SCD</th>\n",
       "      <th>SNES</th>\n",
       "      <th>TG16</th>\n",
       "      <th>WS</th>\n",
       "      <th>Wii</th>\n",
       "      <th>WiiU</th>\n",
       "      <th>X360</th>\n",
       "      <th>XB</th>\n",
       "      <th>XOne</th>\n",
       "    </tr>\n",
       "    <tr>\n",
       "      <th>year_of_release</th>\n",
       "      <th></th>\n",
       "      <th></th>\n",
       "      <th></th>\n",
       "      <th></th>\n",
       "      <th></th>\n",
       "      <th></th>\n",
       "      <th></th>\n",
       "      <th></th>\n",
       "      <th></th>\n",
       "      <th></th>\n",
       "      <th></th>\n",
       "      <th></th>\n",
       "      <th></th>\n",
       "      <th></th>\n",
       "      <th></th>\n",
       "      <th></th>\n",
       "      <th></th>\n",
       "      <th></th>\n",
       "      <th></th>\n",
       "      <th></th>\n",
       "      <th></th>\n",
       "    </tr>\n",
       "  </thead>\n",
       "  <tbody>\n",
       "    <tr>\n",
       "      <th>0</th>\n",
       "      <td>10.50</td>\n",
       "      <td>0.00</td>\n",
       "      <td>1.19</td>\n",
       "      <td>0.00</td>\n",
       "      <td>3.34</td>\n",
       "      <td>1.03</td>\n",
       "      <td>4.97</td>\n",
       "      <td>2.20</td>\n",
       "      <td>0.00</td>\n",
       "      <td>0.00</td>\n",
       "      <td>...</td>\n",
       "      <td>0.00</td>\n",
       "      <td>0.00</td>\n",
       "      <td>0.00</td>\n",
       "      <td>0.00</td>\n",
       "      <td>0.00</td>\n",
       "      <td>16.33</td>\n",
       "      <td>0.00</td>\n",
       "      <td>10.18</td>\n",
       "      <td>6.17</td>\n",
       "      <td>0.00</td>\n",
       "    </tr>\n",
       "    <tr>\n",
       "      <th>1980</th>\n",
       "      <td>11.38</td>\n",
       "      <td>0.00</td>\n",
       "      <td>0.00</td>\n",
       "      <td>0.00</td>\n",
       "      <td>0.00</td>\n",
       "      <td>0.00</td>\n",
       "      <td>0.00</td>\n",
       "      <td>0.00</td>\n",
       "      <td>0.00</td>\n",
       "      <td>0.00</td>\n",
       "      <td>...</td>\n",
       "      <td>0.00</td>\n",
       "      <td>0.00</td>\n",
       "      <td>0.00</td>\n",
       "      <td>0.00</td>\n",
       "      <td>0.00</td>\n",
       "      <td>0.00</td>\n",
       "      <td>0.00</td>\n",
       "      <td>0.00</td>\n",
       "      <td>0.00</td>\n",
       "      <td>0.00</td>\n",
       "    </tr>\n",
       "    <tr>\n",
       "      <th>1981</th>\n",
       "      <td>35.68</td>\n",
       "      <td>0.00</td>\n",
       "      <td>0.00</td>\n",
       "      <td>0.00</td>\n",
       "      <td>0.00</td>\n",
       "      <td>0.00</td>\n",
       "      <td>0.00</td>\n",
       "      <td>0.00</td>\n",
       "      <td>0.00</td>\n",
       "      <td>0.00</td>\n",
       "      <td>...</td>\n",
       "      <td>0.00</td>\n",
       "      <td>0.00</td>\n",
       "      <td>0.00</td>\n",
       "      <td>0.00</td>\n",
       "      <td>0.00</td>\n",
       "      <td>0.00</td>\n",
       "      <td>0.00</td>\n",
       "      <td>0.00</td>\n",
       "      <td>0.00</td>\n",
       "      <td>0.00</td>\n",
       "    </tr>\n",
       "    <tr>\n",
       "      <th>1982</th>\n",
       "      <td>28.88</td>\n",
       "      <td>0.00</td>\n",
       "      <td>0.00</td>\n",
       "      <td>0.00</td>\n",
       "      <td>0.00</td>\n",
       "      <td>0.00</td>\n",
       "      <td>0.00</td>\n",
       "      <td>0.00</td>\n",
       "      <td>0.00</td>\n",
       "      <td>0.00</td>\n",
       "      <td>...</td>\n",
       "      <td>0.00</td>\n",
       "      <td>0.00</td>\n",
       "      <td>0.00</td>\n",
       "      <td>0.00</td>\n",
       "      <td>0.00</td>\n",
       "      <td>0.00</td>\n",
       "      <td>0.00</td>\n",
       "      <td>0.00</td>\n",
       "      <td>0.00</td>\n",
       "      <td>0.00</td>\n",
       "    </tr>\n",
       "    <tr>\n",
       "      <th>1983</th>\n",
       "      <td>5.84</td>\n",
       "      <td>0.00</td>\n",
       "      <td>0.00</td>\n",
       "      <td>0.00</td>\n",
       "      <td>0.00</td>\n",
       "      <td>0.00</td>\n",
       "      <td>0.00</td>\n",
       "      <td>0.00</td>\n",
       "      <td>0.00</td>\n",
       "      <td>0.00</td>\n",
       "      <td>...</td>\n",
       "      <td>0.00</td>\n",
       "      <td>0.00</td>\n",
       "      <td>0.00</td>\n",
       "      <td>0.00</td>\n",
       "      <td>0.00</td>\n",
       "      <td>0.00</td>\n",
       "      <td>0.00</td>\n",
       "      <td>0.00</td>\n",
       "      <td>0.00</td>\n",
       "      <td>0.00</td>\n",
       "    </tr>\n",
       "    <tr>\n",
       "      <th>1984</th>\n",
       "      <td>0.27</td>\n",
       "      <td>0.00</td>\n",
       "      <td>0.00</td>\n",
       "      <td>0.00</td>\n",
       "      <td>0.00</td>\n",
       "      <td>0.00</td>\n",
       "      <td>0.00</td>\n",
       "      <td>0.00</td>\n",
       "      <td>0.00</td>\n",
       "      <td>0.00</td>\n",
       "      <td>...</td>\n",
       "      <td>0.00</td>\n",
       "      <td>0.00</td>\n",
       "      <td>0.00</td>\n",
       "      <td>0.00</td>\n",
       "      <td>0.00</td>\n",
       "      <td>0.00</td>\n",
       "      <td>0.00</td>\n",
       "      <td>0.00</td>\n",
       "      <td>0.00</td>\n",
       "      <td>0.00</td>\n",
       "    </tr>\n",
       "    <tr>\n",
       "      <th>1985</th>\n",
       "      <td>0.45</td>\n",
       "      <td>0.00</td>\n",
       "      <td>0.00</td>\n",
       "      <td>0.00</td>\n",
       "      <td>0.02</td>\n",
       "      <td>0.00</td>\n",
       "      <td>0.00</td>\n",
       "      <td>0.00</td>\n",
       "      <td>0.00</td>\n",
       "      <td>0.00</td>\n",
       "      <td>...</td>\n",
       "      <td>0.00</td>\n",
       "      <td>0.00</td>\n",
       "      <td>0.00</td>\n",
       "      <td>0.00</td>\n",
       "      <td>0.00</td>\n",
       "      <td>0.00</td>\n",
       "      <td>0.00</td>\n",
       "      <td>0.00</td>\n",
       "      <td>0.00</td>\n",
       "      <td>0.00</td>\n",
       "    </tr>\n",
       "    <tr>\n",
       "      <th>1986</th>\n",
       "      <td>0.67</td>\n",
       "      <td>0.00</td>\n",
       "      <td>0.00</td>\n",
       "      <td>0.00</td>\n",
       "      <td>0.00</td>\n",
       "      <td>0.00</td>\n",
       "      <td>0.00</td>\n",
       "      <td>0.00</td>\n",
       "      <td>0.00</td>\n",
       "      <td>0.00</td>\n",
       "      <td>...</td>\n",
       "      <td>0.00</td>\n",
       "      <td>0.00</td>\n",
       "      <td>0.00</td>\n",
       "      <td>0.00</td>\n",
       "      <td>0.00</td>\n",
       "      <td>0.00</td>\n",
       "      <td>0.00</td>\n",
       "      <td>0.00</td>\n",
       "      <td>0.00</td>\n",
       "      <td>0.00</td>\n",
       "    </tr>\n",
       "    <tr>\n",
       "      <th>1987</th>\n",
       "      <td>1.94</td>\n",
       "      <td>0.00</td>\n",
       "      <td>0.00</td>\n",
       "      <td>0.00</td>\n",
       "      <td>0.00</td>\n",
       "      <td>0.00</td>\n",
       "      <td>0.00</td>\n",
       "      <td>0.00</td>\n",
       "      <td>0.00</td>\n",
       "      <td>0.00</td>\n",
       "      <td>...</td>\n",
       "      <td>0.00</td>\n",
       "      <td>0.00</td>\n",
       "      <td>0.00</td>\n",
       "      <td>0.00</td>\n",
       "      <td>0.00</td>\n",
       "      <td>0.00</td>\n",
       "      <td>0.00</td>\n",
       "      <td>0.00</td>\n",
       "      <td>0.00</td>\n",
       "      <td>0.00</td>\n",
       "    </tr>\n",
       "    <tr>\n",
       "      <th>1988</th>\n",
       "      <td>0.74</td>\n",
       "      <td>0.00</td>\n",
       "      <td>0.00</td>\n",
       "      <td>0.00</td>\n",
       "      <td>0.00</td>\n",
       "      <td>1.43</td>\n",
       "      <td>0.00</td>\n",
       "      <td>0.00</td>\n",
       "      <td>0.00</td>\n",
       "      <td>0.00</td>\n",
       "      <td>...</td>\n",
       "      <td>0.00</td>\n",
       "      <td>0.00</td>\n",
       "      <td>0.00</td>\n",
       "      <td>0.00</td>\n",
       "      <td>0.00</td>\n",
       "      <td>0.00</td>\n",
       "      <td>0.00</td>\n",
       "      <td>0.00</td>\n",
       "      <td>0.00</td>\n",
       "      <td>0.00</td>\n",
       "    </tr>\n",
       "    <tr>\n",
       "      <th>1989</th>\n",
       "      <td>0.63</td>\n",
       "      <td>0.00</td>\n",
       "      <td>0.00</td>\n",
       "      <td>0.00</td>\n",
       "      <td>0.00</td>\n",
       "      <td>64.97</td>\n",
       "      <td>0.00</td>\n",
       "      <td>0.00</td>\n",
       "      <td>0.00</td>\n",
       "      <td>0.00</td>\n",
       "      <td>...</td>\n",
       "      <td>0.00</td>\n",
       "      <td>0.00</td>\n",
       "      <td>0.00</td>\n",
       "      <td>0.00</td>\n",
       "      <td>0.00</td>\n",
       "      <td>0.00</td>\n",
       "      <td>0.00</td>\n",
       "      <td>0.00</td>\n",
       "      <td>0.00</td>\n",
       "      <td>0.00</td>\n",
       "    </tr>\n",
       "    <tr>\n",
       "      <th>1990</th>\n",
       "      <td>0.00</td>\n",
       "      <td>0.00</td>\n",
       "      <td>0.00</td>\n",
       "      <td>0.00</td>\n",
       "      <td>0.00</td>\n",
       "      <td>4.89</td>\n",
       "      <td>0.00</td>\n",
       "      <td>0.00</td>\n",
       "      <td>2.60</td>\n",
       "      <td>0.00</td>\n",
       "      <td>...</td>\n",
       "      <td>0.00</td>\n",
       "      <td>0.00</td>\n",
       "      <td>26.15</td>\n",
       "      <td>0.00</td>\n",
       "      <td>0.00</td>\n",
       "      <td>0.00</td>\n",
       "      <td>0.00</td>\n",
       "      <td>0.00</td>\n",
       "      <td>0.00</td>\n",
       "      <td>0.00</td>\n",
       "    </tr>\n",
       "    <tr>\n",
       "      <th>1991</th>\n",
       "      <td>0.00</td>\n",
       "      <td>0.00</td>\n",
       "      <td>0.00</td>\n",
       "      <td>0.00</td>\n",
       "      <td>0.00</td>\n",
       "      <td>5.57</td>\n",
       "      <td>0.00</td>\n",
       "      <td>0.00</td>\n",
       "      <td>4.33</td>\n",
       "      <td>0.00</td>\n",
       "      <td>...</td>\n",
       "      <td>0.00</td>\n",
       "      <td>0.00</td>\n",
       "      <td>16.22</td>\n",
       "      <td>0.00</td>\n",
       "      <td>0.00</td>\n",
       "      <td>0.00</td>\n",
       "      <td>0.00</td>\n",
       "      <td>0.00</td>\n",
       "      <td>0.00</td>\n",
       "      <td>0.00</td>\n",
       "    </tr>\n",
       "    <tr>\n",
       "      <th>1992</th>\n",
       "      <td>0.00</td>\n",
       "      <td>0.00</td>\n",
       "      <td>0.00</td>\n",
       "      <td>0.00</td>\n",
       "      <td>0.00</td>\n",
       "      <td>25.49</td>\n",
       "      <td>0.00</td>\n",
       "      <td>0.00</td>\n",
       "      <td>12.64</td>\n",
       "      <td>0.04</td>\n",
       "      <td>...</td>\n",
       "      <td>0.00</td>\n",
       "      <td>0.00</td>\n",
       "      <td>32.98</td>\n",
       "      <td>0.00</td>\n",
       "      <td>0.00</td>\n",
       "      <td>0.00</td>\n",
       "      <td>0.00</td>\n",
       "      <td>0.00</td>\n",
       "      <td>0.00</td>\n",
       "      <td>0.00</td>\n",
       "    </tr>\n",
       "    <tr>\n",
       "      <th>1993</th>\n",
       "      <td>0.00</td>\n",
       "      <td>0.00</td>\n",
       "      <td>0.00</td>\n",
       "      <td>0.00</td>\n",
       "      <td>0.00</td>\n",
       "      <td>0.00</td>\n",
       "      <td>0.00</td>\n",
       "      <td>0.00</td>\n",
       "      <td>0.65</td>\n",
       "      <td>0.00</td>\n",
       "      <td>...</td>\n",
       "      <td>0.00</td>\n",
       "      <td>1.50</td>\n",
       "      <td>40.02</td>\n",
       "      <td>0.00</td>\n",
       "      <td>0.00</td>\n",
       "      <td>0.00</td>\n",
       "      <td>0.00</td>\n",
       "      <td>0.00</td>\n",
       "      <td>0.00</td>\n",
       "      <td>0.00</td>\n",
       "    </tr>\n",
       "    <tr>\n",
       "      <th>1994</th>\n",
       "      <td>0.00</td>\n",
       "      <td>0.02</td>\n",
       "      <td>0.00</td>\n",
       "      <td>0.00</td>\n",
       "      <td>0.00</td>\n",
       "      <td>12.18</td>\n",
       "      <td>0.00</td>\n",
       "      <td>0.00</td>\n",
       "      <td>8.13</td>\n",
       "      <td>0.00</td>\n",
       "      <td>...</td>\n",
       "      <td>3.65</td>\n",
       "      <td>0.36</td>\n",
       "      <td>35.08</td>\n",
       "      <td>0.00</td>\n",
       "      <td>0.00</td>\n",
       "      <td>0.00</td>\n",
       "      <td>0.00</td>\n",
       "      <td>0.00</td>\n",
       "      <td>0.00</td>\n",
       "      <td>0.00</td>\n",
       "    </tr>\n",
       "    <tr>\n",
       "      <th>1995</th>\n",
       "      <td>0.00</td>\n",
       "      <td>0.08</td>\n",
       "      <td>0.00</td>\n",
       "      <td>0.00</td>\n",
       "      <td>0.00</td>\n",
       "      <td>3.60</td>\n",
       "      <td>0.00</td>\n",
       "      <td>0.00</td>\n",
       "      <td>0.00</td>\n",
       "      <td>0.00</td>\n",
       "      <td>...</td>\n",
       "      <td>11.57</td>\n",
       "      <td>0.00</td>\n",
       "      <td>32.20</td>\n",
       "      <td>0.16</td>\n",
       "      <td>0.00</td>\n",
       "      <td>0.00</td>\n",
       "      <td>0.00</td>\n",
       "      <td>0.00</td>\n",
       "      <td>0.00</td>\n",
       "      <td>0.00</td>\n",
       "    </tr>\n",
       "    <tr>\n",
       "      <th>1996</th>\n",
       "      <td>0.00</td>\n",
       "      <td>0.00</td>\n",
       "      <td>0.00</td>\n",
       "      <td>0.00</td>\n",
       "      <td>0.00</td>\n",
       "      <td>36.03</td>\n",
       "      <td>0.00</td>\n",
       "      <td>0.00</td>\n",
       "      <td>0.00</td>\n",
       "      <td>0.00</td>\n",
       "      <td>...</td>\n",
       "      <td>7.69</td>\n",
       "      <td>0.00</td>\n",
       "      <td>15.92</td>\n",
       "      <td>0.00</td>\n",
       "      <td>0.00</td>\n",
       "      <td>0.00</td>\n",
       "      <td>0.00</td>\n",
       "      <td>0.00</td>\n",
       "      <td>0.00</td>\n",
       "      <td>0.00</td>\n",
       "    </tr>\n",
       "    <tr>\n",
       "      <th>1997</th>\n",
       "      <td>0.00</td>\n",
       "      <td>0.00</td>\n",
       "      <td>0.00</td>\n",
       "      <td>0.00</td>\n",
       "      <td>0.00</td>\n",
       "      <td>6.37</td>\n",
       "      <td>0.00</td>\n",
       "      <td>0.00</td>\n",
       "      <td>0.00</td>\n",
       "      <td>0.00</td>\n",
       "      <td>...</td>\n",
       "      <td>6.77</td>\n",
       "      <td>0.00</td>\n",
       "      <td>0.99</td>\n",
       "      <td>0.00</td>\n",
       "      <td>0.00</td>\n",
       "      <td>0.00</td>\n",
       "      <td>0.00</td>\n",
       "      <td>0.00</td>\n",
       "      <td>0.00</td>\n",
       "      <td>0.00</td>\n",
       "    </tr>\n",
       "    <tr>\n",
       "      <th>1998</th>\n",
       "      <td>0.00</td>\n",
       "      <td>0.00</td>\n",
       "      <td>0.00</td>\n",
       "      <td>3.38</td>\n",
       "      <td>0.00</td>\n",
       "      <td>26.90</td>\n",
       "      <td>0.00</td>\n",
       "      <td>0.00</td>\n",
       "      <td>0.00</td>\n",
       "      <td>0.00</td>\n",
       "      <td>...</td>\n",
       "      <td>3.82</td>\n",
       "      <td>0.00</td>\n",
       "      <td>0.22</td>\n",
       "      <td>0.00</td>\n",
       "      <td>0.00</td>\n",
       "      <td>0.00</td>\n",
       "      <td>0.00</td>\n",
       "      <td>0.00</td>\n",
       "      <td>0.00</td>\n",
       "      <td>0.00</td>\n",
       "    </tr>\n",
       "    <tr>\n",
       "      <th>1999</th>\n",
       "      <td>0.00</td>\n",
       "      <td>0.00</td>\n",
       "      <td>0.00</td>\n",
       "      <td>5.16</td>\n",
       "      <td>0.00</td>\n",
       "      <td>38.00</td>\n",
       "      <td>0.00</td>\n",
       "      <td>0.00</td>\n",
       "      <td>0.00</td>\n",
       "      <td>0.00</td>\n",
       "      <td>...</td>\n",
       "      <td>0.09</td>\n",
       "      <td>0.00</td>\n",
       "      <td>0.26</td>\n",
       "      <td>0.00</td>\n",
       "      <td>0.46</td>\n",
       "      <td>0.00</td>\n",
       "      <td>0.00</td>\n",
       "      <td>0.00</td>\n",
       "      <td>0.00</td>\n",
       "      <td>0.00</td>\n",
       "    </tr>\n",
       "    <tr>\n",
       "      <th>2000</th>\n",
       "      <td>0.00</td>\n",
       "      <td>0.00</td>\n",
       "      <td>0.00</td>\n",
       "      <td>5.99</td>\n",
       "      <td>0.00</td>\n",
       "      <td>19.76</td>\n",
       "      <td>0.07</td>\n",
       "      <td>0.00</td>\n",
       "      <td>0.00</td>\n",
       "      <td>0.00</td>\n",
       "      <td>...</td>\n",
       "      <td>0.00</td>\n",
       "      <td>0.00</td>\n",
       "      <td>0.00</td>\n",
       "      <td>0.00</td>\n",
       "      <td>0.68</td>\n",
       "      <td>0.00</td>\n",
       "      <td>0.00</td>\n",
       "      <td>0.00</td>\n",
       "      <td>0.99</td>\n",
       "      <td>0.00</td>\n",
       "    </tr>\n",
       "    <tr>\n",
       "      <th>2001</th>\n",
       "      <td>0.00</td>\n",
       "      <td>0.00</td>\n",
       "      <td>0.00</td>\n",
       "      <td>1.07</td>\n",
       "      <td>0.00</td>\n",
       "      <td>9.24</td>\n",
       "      <td>61.53</td>\n",
       "      <td>26.34</td>\n",
       "      <td>0.00</td>\n",
       "      <td>0.00</td>\n",
       "      <td>...</td>\n",
       "      <td>0.00</td>\n",
       "      <td>0.00</td>\n",
       "      <td>0.00</td>\n",
       "      <td>0.00</td>\n",
       "      <td>0.28</td>\n",
       "      <td>0.00</td>\n",
       "      <td>0.00</td>\n",
       "      <td>0.00</td>\n",
       "      <td>22.26</td>\n",
       "      <td>0.00</td>\n",
       "    </tr>\n",
       "    <tr>\n",
       "      <th>2002</th>\n",
       "      <td>0.00</td>\n",
       "      <td>0.00</td>\n",
       "      <td>0.00</td>\n",
       "      <td>0.29</td>\n",
       "      <td>0.00</td>\n",
       "      <td>0.00</td>\n",
       "      <td>74.16</td>\n",
       "      <td>51.81</td>\n",
       "      <td>0.00</td>\n",
       "      <td>0.00</td>\n",
       "      <td>...</td>\n",
       "      <td>0.00</td>\n",
       "      <td>0.00</td>\n",
       "      <td>0.00</td>\n",
       "      <td>0.00</td>\n",
       "      <td>0.00</td>\n",
       "      <td>0.00</td>\n",
       "      <td>0.00</td>\n",
       "      <td>0.00</td>\n",
       "      <td>48.01</td>\n",
       "      <td>0.00</td>\n",
       "    </tr>\n",
       "    <tr>\n",
       "      <th>2003</th>\n",
       "      <td>0.00</td>\n",
       "      <td>0.00</td>\n",
       "      <td>0.00</td>\n",
       "      <td>0.00</td>\n",
       "      <td>0.00</td>\n",
       "      <td>0.00</td>\n",
       "      <td>56.67</td>\n",
       "      <td>50.61</td>\n",
       "      <td>0.00</td>\n",
       "      <td>0.00</td>\n",
       "      <td>...</td>\n",
       "      <td>0.00</td>\n",
       "      <td>0.00</td>\n",
       "      <td>0.00</td>\n",
       "      <td>0.00</td>\n",
       "      <td>0.00</td>\n",
       "      <td>0.00</td>\n",
       "      <td>0.00</td>\n",
       "      <td>0.00</td>\n",
       "      <td>55.04</td>\n",
       "      <td>0.00</td>\n",
       "    </tr>\n",
       "    <tr>\n",
       "      <th>2004</th>\n",
       "      <td>0.00</td>\n",
       "      <td>0.00</td>\n",
       "      <td>0.00</td>\n",
       "      <td>0.00</td>\n",
       "      <td>17.27</td>\n",
       "      <td>0.00</td>\n",
       "      <td>77.91</td>\n",
       "      <td>28.82</td>\n",
       "      <td>0.00</td>\n",
       "      <td>0.00</td>\n",
       "      <td>...</td>\n",
       "      <td>0.00</td>\n",
       "      <td>0.00</td>\n",
       "      <td>0.00</td>\n",
       "      <td>0.00</td>\n",
       "      <td>0.00</td>\n",
       "      <td>0.00</td>\n",
       "      <td>0.00</td>\n",
       "      <td>0.00</td>\n",
       "      <td>65.42</td>\n",
       "      <td>0.00</td>\n",
       "    </tr>\n",
       "    <tr>\n",
       "      <th>2005</th>\n",
       "      <td>0.00</td>\n",
       "      <td>0.00</td>\n",
       "      <td>0.00</td>\n",
       "      <td>0.00</td>\n",
       "      <td>130.14</td>\n",
       "      <td>0.00</td>\n",
       "      <td>33.86</td>\n",
       "      <td>27.62</td>\n",
       "      <td>0.00</td>\n",
       "      <td>0.00</td>\n",
       "      <td>...</td>\n",
       "      <td>0.00</td>\n",
       "      <td>0.00</td>\n",
       "      <td>0.00</td>\n",
       "      <td>0.00</td>\n",
       "      <td>0.00</td>\n",
       "      <td>0.00</td>\n",
       "      <td>0.00</td>\n",
       "      <td>8.25</td>\n",
       "      <td>49.08</td>\n",
       "      <td>0.00</td>\n",
       "    </tr>\n",
       "    <tr>\n",
       "      <th>2006</th>\n",
       "      <td>0.00</td>\n",
       "      <td>0.00</td>\n",
       "      <td>0.00</td>\n",
       "      <td>0.00</td>\n",
       "      <td>119.81</td>\n",
       "      <td>0.00</td>\n",
       "      <td>5.28</td>\n",
       "      <td>11.26</td>\n",
       "      <td>0.00</td>\n",
       "      <td>0.00</td>\n",
       "      <td>...</td>\n",
       "      <td>0.00</td>\n",
       "      <td>0.00</td>\n",
       "      <td>0.00</td>\n",
       "      <td>0.00</td>\n",
       "      <td>0.00</td>\n",
       "      <td>137.15</td>\n",
       "      <td>0.00</td>\n",
       "      <td>51.62</td>\n",
       "      <td>10.04</td>\n",
       "      <td>0.00</td>\n",
       "    </tr>\n",
       "    <tr>\n",
       "      <th>2007</th>\n",
       "      <td>0.00</td>\n",
       "      <td>0.00</td>\n",
       "      <td>0.00</td>\n",
       "      <td>0.02</td>\n",
       "      <td>146.94</td>\n",
       "      <td>0.00</td>\n",
       "      <td>3.40</td>\n",
       "      <td>0.27</td>\n",
       "      <td>0.00</td>\n",
       "      <td>0.00</td>\n",
       "      <td>...</td>\n",
       "      <td>0.00</td>\n",
       "      <td>0.00</td>\n",
       "      <td>0.00</td>\n",
       "      <td>0.00</td>\n",
       "      <td>0.00</td>\n",
       "      <td>152.77</td>\n",
       "      <td>0.00</td>\n",
       "      <td>95.41</td>\n",
       "      <td>0.55</td>\n",
       "      <td>0.00</td>\n",
       "    </tr>\n",
       "    <tr>\n",
       "      <th>2008</th>\n",
       "      <td>0.00</td>\n",
       "      <td>0.00</td>\n",
       "      <td>0.00</td>\n",
       "      <td>0.04</td>\n",
       "      <td>145.31</td>\n",
       "      <td>0.00</td>\n",
       "      <td>0.00</td>\n",
       "      <td>0.00</td>\n",
       "      <td>0.00</td>\n",
       "      <td>0.00</td>\n",
       "      <td>...</td>\n",
       "      <td>0.00</td>\n",
       "      <td>0.00</td>\n",
       "      <td>0.00</td>\n",
       "      <td>0.00</td>\n",
       "      <td>0.00</td>\n",
       "      <td>171.32</td>\n",
       "      <td>0.00</td>\n",
       "      <td>135.26</td>\n",
       "      <td>0.18</td>\n",
       "      <td>0.00</td>\n",
       "    </tr>\n",
       "    <tr>\n",
       "      <th>2009</th>\n",
       "      <td>0.00</td>\n",
       "      <td>0.00</td>\n",
       "      <td>0.00</td>\n",
       "      <td>0.00</td>\n",
       "      <td>119.54</td>\n",
       "      <td>0.00</td>\n",
       "      <td>0.00</td>\n",
       "      <td>0.00</td>\n",
       "      <td>0.00</td>\n",
       "      <td>0.00</td>\n",
       "      <td>...</td>\n",
       "      <td>0.00</td>\n",
       "      <td>0.00</td>\n",
       "      <td>0.00</td>\n",
       "      <td>0.00</td>\n",
       "      <td>0.00</td>\n",
       "      <td>206.97</td>\n",
       "      <td>0.00</td>\n",
       "      <td>120.29</td>\n",
       "      <td>0.00</td>\n",
       "      <td>0.00</td>\n",
       "    </tr>\n",
       "    <tr>\n",
       "      <th>2010</th>\n",
       "      <td>0.00</td>\n",
       "      <td>0.00</td>\n",
       "      <td>0.00</td>\n",
       "      <td>0.00</td>\n",
       "      <td>85.02</td>\n",
       "      <td>0.00</td>\n",
       "      <td>0.00</td>\n",
       "      <td>0.00</td>\n",
       "      <td>0.00</td>\n",
       "      <td>0.00</td>\n",
       "      <td>...</td>\n",
       "      <td>0.00</td>\n",
       "      <td>0.00</td>\n",
       "      <td>0.00</td>\n",
       "      <td>0.00</td>\n",
       "      <td>0.00</td>\n",
       "      <td>127.95</td>\n",
       "      <td>0.00</td>\n",
       "      <td>170.03</td>\n",
       "      <td>0.00</td>\n",
       "      <td>0.00</td>\n",
       "    </tr>\n",
       "    <tr>\n",
       "      <th>2011</th>\n",
       "      <td>0.00</td>\n",
       "      <td>0.00</td>\n",
       "      <td>63.20</td>\n",
       "      <td>0.00</td>\n",
       "      <td>26.18</td>\n",
       "      <td>0.00</td>\n",
       "      <td>0.00</td>\n",
       "      <td>0.00</td>\n",
       "      <td>0.00</td>\n",
       "      <td>0.00</td>\n",
       "      <td>...</td>\n",
       "      <td>0.00</td>\n",
       "      <td>0.00</td>\n",
       "      <td>0.00</td>\n",
       "      <td>0.00</td>\n",
       "      <td>0.00</td>\n",
       "      <td>59.65</td>\n",
       "      <td>0.00</td>\n",
       "      <td>143.84</td>\n",
       "      <td>0.00</td>\n",
       "      <td>0.00</td>\n",
       "    </tr>\n",
       "    <tr>\n",
       "      <th>2012</th>\n",
       "      <td>0.00</td>\n",
       "      <td>0.00</td>\n",
       "      <td>51.36</td>\n",
       "      <td>0.00</td>\n",
       "      <td>11.01</td>\n",
       "      <td>0.00</td>\n",
       "      <td>0.00</td>\n",
       "      <td>0.00</td>\n",
       "      <td>0.00</td>\n",
       "      <td>0.00</td>\n",
       "      <td>...</td>\n",
       "      <td>0.00</td>\n",
       "      <td>0.00</td>\n",
       "      <td>0.00</td>\n",
       "      <td>0.00</td>\n",
       "      <td>0.00</td>\n",
       "      <td>21.71</td>\n",
       "      <td>17.56</td>\n",
       "      <td>99.74</td>\n",
       "      <td>0.00</td>\n",
       "      <td>0.00</td>\n",
       "    </tr>\n",
       "    <tr>\n",
       "      <th>2013</th>\n",
       "      <td>0.00</td>\n",
       "      <td>0.00</td>\n",
       "      <td>56.57</td>\n",
       "      <td>0.00</td>\n",
       "      <td>1.54</td>\n",
       "      <td>0.00</td>\n",
       "      <td>0.00</td>\n",
       "      <td>0.00</td>\n",
       "      <td>0.00</td>\n",
       "      <td>0.00</td>\n",
       "      <td>...</td>\n",
       "      <td>0.00</td>\n",
       "      <td>0.00</td>\n",
       "      <td>0.00</td>\n",
       "      <td>0.00</td>\n",
       "      <td>0.00</td>\n",
       "      <td>8.59</td>\n",
       "      <td>21.65</td>\n",
       "      <td>88.58</td>\n",
       "      <td>0.00</td>\n",
       "      <td>18.96</td>\n",
       "    </tr>\n",
       "    <tr>\n",
       "      <th>2014</th>\n",
       "      <td>0.00</td>\n",
       "      <td>0.00</td>\n",
       "      <td>43.76</td>\n",
       "      <td>0.00</td>\n",
       "      <td>0.00</td>\n",
       "      <td>0.00</td>\n",
       "      <td>0.00</td>\n",
       "      <td>0.00</td>\n",
       "      <td>0.00</td>\n",
       "      <td>0.00</td>\n",
       "      <td>...</td>\n",
       "      <td>0.00</td>\n",
       "      <td>0.00</td>\n",
       "      <td>0.00</td>\n",
       "      <td>0.00</td>\n",
       "      <td>0.00</td>\n",
       "      <td>3.75</td>\n",
       "      <td>22.03</td>\n",
       "      <td>34.74</td>\n",
       "      <td>0.00</td>\n",
       "      <td>54.07</td>\n",
       "    </tr>\n",
       "    <tr>\n",
       "      <th>2015</th>\n",
       "      <td>0.00</td>\n",
       "      <td>0.00</td>\n",
       "      <td>27.78</td>\n",
       "      <td>0.00</td>\n",
       "      <td>0.00</td>\n",
       "      <td>0.00</td>\n",
       "      <td>0.00</td>\n",
       "      <td>0.00</td>\n",
       "      <td>0.00</td>\n",
       "      <td>0.00</td>\n",
       "      <td>...</td>\n",
       "      <td>0.00</td>\n",
       "      <td>0.00</td>\n",
       "      <td>0.00</td>\n",
       "      <td>0.00</td>\n",
       "      <td>0.00</td>\n",
       "      <td>1.14</td>\n",
       "      <td>16.35</td>\n",
       "      <td>11.96</td>\n",
       "      <td>0.00</td>\n",
       "      <td>60.14</td>\n",
       "    </tr>\n",
       "    <tr>\n",
       "      <th>2016</th>\n",
       "      <td>0.00</td>\n",
       "      <td>0.00</td>\n",
       "      <td>15.14</td>\n",
       "      <td>0.00</td>\n",
       "      <td>0.00</td>\n",
       "      <td>0.00</td>\n",
       "      <td>0.00</td>\n",
       "      <td>0.00</td>\n",
       "      <td>0.00</td>\n",
       "      <td>0.00</td>\n",
       "      <td>...</td>\n",
       "      <td>0.00</td>\n",
       "      <td>0.00</td>\n",
       "      <td>0.00</td>\n",
       "      <td>0.00</td>\n",
       "      <td>0.00</td>\n",
       "      <td>0.18</td>\n",
       "      <td>4.60</td>\n",
       "      <td>1.52</td>\n",
       "      <td>0.00</td>\n",
       "      <td>26.15</td>\n",
       "    </tr>\n",
       "  </tbody>\n",
       "</table>\n",
       "<p>38 rows × 31 columns</p>\n",
       "</div>"
      ],
      "text/plain": [
       "platform          2600   3DO    3DS    DC      DS     GB    GBA     GC    GEN  \\\n",
       "year_of_release                                                                 \n",
       "0                10.50  0.00   1.19  0.00    3.34   1.03   4.97   2.20   0.00   \n",
       "1980             11.38  0.00   0.00  0.00    0.00   0.00   0.00   0.00   0.00   \n",
       "1981             35.68  0.00   0.00  0.00    0.00   0.00   0.00   0.00   0.00   \n",
       "1982             28.88  0.00   0.00  0.00    0.00   0.00   0.00   0.00   0.00   \n",
       "1983              5.84  0.00   0.00  0.00    0.00   0.00   0.00   0.00   0.00   \n",
       "1984              0.27  0.00   0.00  0.00    0.00   0.00   0.00   0.00   0.00   \n",
       "1985              0.45  0.00   0.00  0.00    0.02   0.00   0.00   0.00   0.00   \n",
       "1986              0.67  0.00   0.00  0.00    0.00   0.00   0.00   0.00   0.00   \n",
       "1987              1.94  0.00   0.00  0.00    0.00   0.00   0.00   0.00   0.00   \n",
       "1988              0.74  0.00   0.00  0.00    0.00   1.43   0.00   0.00   0.00   \n",
       "1989              0.63  0.00   0.00  0.00    0.00  64.97   0.00   0.00   0.00   \n",
       "1990              0.00  0.00   0.00  0.00    0.00   4.89   0.00   0.00   2.60   \n",
       "1991              0.00  0.00   0.00  0.00    0.00   5.57   0.00   0.00   4.33   \n",
       "1992              0.00  0.00   0.00  0.00    0.00  25.49   0.00   0.00  12.64   \n",
       "1993              0.00  0.00   0.00  0.00    0.00   0.00   0.00   0.00   0.65   \n",
       "1994              0.00  0.02   0.00  0.00    0.00  12.18   0.00   0.00   8.13   \n",
       "1995              0.00  0.08   0.00  0.00    0.00   3.60   0.00   0.00   0.00   \n",
       "1996              0.00  0.00   0.00  0.00    0.00  36.03   0.00   0.00   0.00   \n",
       "1997              0.00  0.00   0.00  0.00    0.00   6.37   0.00   0.00   0.00   \n",
       "1998              0.00  0.00   0.00  3.38    0.00  26.90   0.00   0.00   0.00   \n",
       "1999              0.00  0.00   0.00  5.16    0.00  38.00   0.00   0.00   0.00   \n",
       "2000              0.00  0.00   0.00  5.99    0.00  19.76   0.07   0.00   0.00   \n",
       "2001              0.00  0.00   0.00  1.07    0.00   9.24  61.53  26.34   0.00   \n",
       "2002              0.00  0.00   0.00  0.29    0.00   0.00  74.16  51.81   0.00   \n",
       "2003              0.00  0.00   0.00  0.00    0.00   0.00  56.67  50.61   0.00   \n",
       "2004              0.00  0.00   0.00  0.00   17.27   0.00  77.91  28.82   0.00   \n",
       "2005              0.00  0.00   0.00  0.00  130.14   0.00  33.86  27.62   0.00   \n",
       "2006              0.00  0.00   0.00  0.00  119.81   0.00   5.28  11.26   0.00   \n",
       "2007              0.00  0.00   0.00  0.02  146.94   0.00   3.40   0.27   0.00   \n",
       "2008              0.00  0.00   0.00  0.04  145.31   0.00   0.00   0.00   0.00   \n",
       "2009              0.00  0.00   0.00  0.00  119.54   0.00   0.00   0.00   0.00   \n",
       "2010              0.00  0.00   0.00  0.00   85.02   0.00   0.00   0.00   0.00   \n",
       "2011              0.00  0.00  63.20  0.00   26.18   0.00   0.00   0.00   0.00   \n",
       "2012              0.00  0.00  51.36  0.00   11.01   0.00   0.00   0.00   0.00   \n",
       "2013              0.00  0.00  56.57  0.00    1.54   0.00   0.00   0.00   0.00   \n",
       "2014              0.00  0.00  43.76  0.00    0.00   0.00   0.00   0.00   0.00   \n",
       "2015              0.00  0.00  27.78  0.00    0.00   0.00   0.00   0.00   0.00   \n",
       "2016              0.00  0.00  15.14  0.00    0.00   0.00   0.00   0.00   0.00   \n",
       "\n",
       "platform           GG  ...    SAT   SCD   SNES  TG16    WS     Wii   WiiU  \\\n",
       "year_of_release        ...                                                  \n",
       "0                0.00  ...   0.00  0.00   0.00  0.00  0.00   16.33   0.00   \n",
       "1980             0.00  ...   0.00  0.00   0.00  0.00  0.00    0.00   0.00   \n",
       "1981             0.00  ...   0.00  0.00   0.00  0.00  0.00    0.00   0.00   \n",
       "1982             0.00  ...   0.00  0.00   0.00  0.00  0.00    0.00   0.00   \n",
       "1983             0.00  ...   0.00  0.00   0.00  0.00  0.00    0.00   0.00   \n",
       "1984             0.00  ...   0.00  0.00   0.00  0.00  0.00    0.00   0.00   \n",
       "1985             0.00  ...   0.00  0.00   0.00  0.00  0.00    0.00   0.00   \n",
       "1986             0.00  ...   0.00  0.00   0.00  0.00  0.00    0.00   0.00   \n",
       "1987             0.00  ...   0.00  0.00   0.00  0.00  0.00    0.00   0.00   \n",
       "1988             0.00  ...   0.00  0.00   0.00  0.00  0.00    0.00   0.00   \n",
       "1989             0.00  ...   0.00  0.00   0.00  0.00  0.00    0.00   0.00   \n",
       "1990             0.00  ...   0.00  0.00  26.15  0.00  0.00    0.00   0.00   \n",
       "1991             0.00  ...   0.00  0.00  16.22  0.00  0.00    0.00   0.00   \n",
       "1992             0.04  ...   0.00  0.00  32.98  0.00  0.00    0.00   0.00   \n",
       "1993             0.00  ...   0.00  1.50  40.02  0.00  0.00    0.00   0.00   \n",
       "1994             0.00  ...   3.65  0.36  35.08  0.00  0.00    0.00   0.00   \n",
       "1995             0.00  ...  11.57  0.00  32.20  0.16  0.00    0.00   0.00   \n",
       "1996             0.00  ...   7.69  0.00  15.92  0.00  0.00    0.00   0.00   \n",
       "1997             0.00  ...   6.77  0.00   0.99  0.00  0.00    0.00   0.00   \n",
       "1998             0.00  ...   3.82  0.00   0.22  0.00  0.00    0.00   0.00   \n",
       "1999             0.00  ...   0.09  0.00   0.26  0.00  0.46    0.00   0.00   \n",
       "2000             0.00  ...   0.00  0.00   0.00  0.00  0.68    0.00   0.00   \n",
       "2001             0.00  ...   0.00  0.00   0.00  0.00  0.28    0.00   0.00   \n",
       "2002             0.00  ...   0.00  0.00   0.00  0.00  0.00    0.00   0.00   \n",
       "2003             0.00  ...   0.00  0.00   0.00  0.00  0.00    0.00   0.00   \n",
       "2004             0.00  ...   0.00  0.00   0.00  0.00  0.00    0.00   0.00   \n",
       "2005             0.00  ...   0.00  0.00   0.00  0.00  0.00    0.00   0.00   \n",
       "2006             0.00  ...   0.00  0.00   0.00  0.00  0.00  137.15   0.00   \n",
       "2007             0.00  ...   0.00  0.00   0.00  0.00  0.00  152.77   0.00   \n",
       "2008             0.00  ...   0.00  0.00   0.00  0.00  0.00  171.32   0.00   \n",
       "2009             0.00  ...   0.00  0.00   0.00  0.00  0.00  206.97   0.00   \n",
       "2010             0.00  ...   0.00  0.00   0.00  0.00  0.00  127.95   0.00   \n",
       "2011             0.00  ...   0.00  0.00   0.00  0.00  0.00   59.65   0.00   \n",
       "2012             0.00  ...   0.00  0.00   0.00  0.00  0.00   21.71  17.56   \n",
       "2013             0.00  ...   0.00  0.00   0.00  0.00  0.00    8.59  21.65   \n",
       "2014             0.00  ...   0.00  0.00   0.00  0.00  0.00    3.75  22.03   \n",
       "2015             0.00  ...   0.00  0.00   0.00  0.00  0.00    1.14  16.35   \n",
       "2016             0.00  ...   0.00  0.00   0.00  0.00  0.00    0.18   4.60   \n",
       "\n",
       "platform           X360     XB   XOne  \n",
       "year_of_release                        \n",
       "0                 10.18   6.17   0.00  \n",
       "1980               0.00   0.00   0.00  \n",
       "1981               0.00   0.00   0.00  \n",
       "1982               0.00   0.00   0.00  \n",
       "1983               0.00   0.00   0.00  \n",
       "1984               0.00   0.00   0.00  \n",
       "1985               0.00   0.00   0.00  \n",
       "1986               0.00   0.00   0.00  \n",
       "1987               0.00   0.00   0.00  \n",
       "1988               0.00   0.00   0.00  \n",
       "1989               0.00   0.00   0.00  \n",
       "1990               0.00   0.00   0.00  \n",
       "1991               0.00   0.00   0.00  \n",
       "1992               0.00   0.00   0.00  \n",
       "1993               0.00   0.00   0.00  \n",
       "1994               0.00   0.00   0.00  \n",
       "1995               0.00   0.00   0.00  \n",
       "1996               0.00   0.00   0.00  \n",
       "1997               0.00   0.00   0.00  \n",
       "1998               0.00   0.00   0.00  \n",
       "1999               0.00   0.00   0.00  \n",
       "2000               0.00   0.99   0.00  \n",
       "2001               0.00  22.26   0.00  \n",
       "2002               0.00  48.01   0.00  \n",
       "2003               0.00  55.04   0.00  \n",
       "2004               0.00  65.42   0.00  \n",
       "2005               8.25  49.08   0.00  \n",
       "2006              51.62  10.04   0.00  \n",
       "2007              95.41   0.55   0.00  \n",
       "2008             135.26   0.18   0.00  \n",
       "2009             120.29   0.00   0.00  \n",
       "2010             170.03   0.00   0.00  \n",
       "2011             143.84   0.00   0.00  \n",
       "2012              99.74   0.00   0.00  \n",
       "2013              88.58   0.00  18.96  \n",
       "2014              34.74   0.00  54.07  \n",
       "2015              11.96   0.00  60.14  \n",
       "2016               1.52   0.00  26.15  \n",
       "\n",
       "[38 rows x 31 columns]"
      ]
     },
     "execution_count": 32,
     "metadata": {},
     "output_type": "execute_result"
    }
   ],
   "source": [
    "sales_per_year = df.pivot_table(index='year_of_release', \n",
    "                                columns='platform', \n",
    "                                values='all_sales', \n",
    "                                aggfunc='sum').fillna(0) # я не понял откуда тут взялись NaN, т.к. до этого их не было...\n",
    "\n",
    "\n",
    "sales_per_year"
   ]
  },
  {
   "cell_type": "markdown",
   "metadata": {},
   "source": [
    "Строим график распределения продаж игр по консолям и по годам"
   ]
  },
  {
   "cell_type": "code",
   "execution_count": 33,
   "metadata": {},
   "outputs": [
    {
     "data": {
      "image/png": "[encoded data removed]",
      "text/plain": [
       "<Figure size 864x576 with 2 Axes>"
      ]
     },
     "metadata": {
      "needs_background": "light"
     },
     "output_type": "display_data"
    }
   ],
   "source": [
    "plt.figure(figsize=(12, 8))\n",
    "sns.heatmap(sales_per_year, cmap='RdBu')\n",
    "\n",
    "plt.title('Total Sales by Platform and Year')\n",
    "plt.xlabel('Platform')\n",
    "plt.ylabel('Year')\n",
    "\n",
    "plt.show() "
   ]
  },
  {
   "cell_type": "markdown",
   "metadata": {},
   "source": [
    "Итого:\n",
    "- платформы с наибольшими продажами за все время: PS2, X360, PS3, Wii, DS, PS \n",
    "- период за который появляются новые платформы и изчезают старые - около 9 лет, это очень хороши заметно на серии консолей PS."
   ]
  },
  {
   "cell_type": "markdown",
   "metadata": {},
   "source": [
    "##### Возьмите данные за соответствующий актуальный период. Актуальный период определите самостоятельно в результате исследования предыдущих вопросов. Основной фактор — эти данные помогут построить прогноз на 2017 год."
   ]
  },
  {
   "cell_type": "markdown",
   "metadata": {},
   "source": [
    "Судя по данным о жизни консоли - около 10 лет, акутальный период который мы можем взять -это 5 лет, т.к. за это время приходится и взлет и спад и пик продаж и те консоли которые сейчас есть на рынке продержуться еще столько времени."
   ]
  },
  {
   "cell_type": "markdown",
   "metadata": {},
   "source": [
    "##### Какие платформы лидируют по продажам, растут или падают? Выберите несколько потенциально прибыльных платформ."
   ]
  },
  {
   "cell_type": "code",
   "execution_count": 34,
   "metadata": {},
   "outputs": [
    {
     "data": {
      "text/html": [
       "<div>\n",
       "<style scoped>\n",
       "    .dataframe tbody tr th:only-of-type {\n",
       "        vertical-align: middle;\n",
       "    }\n",
       "\n",
       "    .dataframe tbody tr th {\n",
       "        vertical-align: top;\n",
       "    }\n",
       "\n",
       "    .dataframe thead th {\n",
       "        text-align: right;\n",
       "    }\n",
       "</style>\n",
       "<table border=\"1\" class=\"dataframe\">\n",
       "  <thead>\n",
       "    <tr style=\"text-align: right;\">\n",
       "      <th>platform</th>\n",
       "      <th>3DS</th>\n",
       "      <th>PC</th>\n",
       "      <th>PS3</th>\n",
       "      <th>PS4</th>\n",
       "      <th>PSP</th>\n",
       "      <th>PSV</th>\n",
       "      <th>Wii</th>\n",
       "      <th>WiiU</th>\n",
       "      <th>X360</th>\n",
       "      <th>XOne</th>\n",
       "    </tr>\n",
       "    <tr>\n",
       "      <th>year_of_release</th>\n",
       "      <th></th>\n",
       "      <th></th>\n",
       "      <th></th>\n",
       "      <th></th>\n",
       "      <th></th>\n",
       "      <th></th>\n",
       "      <th></th>\n",
       "      <th></th>\n",
       "      <th></th>\n",
       "      <th></th>\n",
       "    </tr>\n",
       "  </thead>\n",
       "  <tbody>\n",
       "    <tr>\n",
       "      <th>2015</th>\n",
       "      <td>27.78</td>\n",
       "      <td>8.52</td>\n",
       "      <td>16.82</td>\n",
       "      <td>118.90</td>\n",
       "      <td>0.12</td>\n",
       "      <td>6.25</td>\n",
       "      <td>1.14</td>\n",
       "      <td>16.35</td>\n",
       "      <td>11.96</td>\n",
       "      <td>60.14</td>\n",
       "    </tr>\n",
       "    <tr>\n",
       "      <th>2016</th>\n",
       "      <td>15.14</td>\n",
       "      <td>5.25</td>\n",
       "      <td>3.60</td>\n",
       "      <td>69.25</td>\n",
       "      <td>0.00</td>\n",
       "      <td>4.25</td>\n",
       "      <td>0.18</td>\n",
       "      <td>4.60</td>\n",
       "      <td>1.52</td>\n",
       "      <td>26.15</td>\n",
       "    </tr>\n",
       "  </tbody>\n",
       "</table>\n",
       "</div>"
      ],
      "text/plain": [
       "platform           3DS    PC    PS3     PS4   PSP   PSV   Wii   WiiU   X360  \\\n",
       "year_of_release                                                               \n",
       "2015             27.78  8.52  16.82  118.90  0.12  6.25  1.14  16.35  11.96   \n",
       "2016             15.14  5.25   3.60   69.25  0.00  4.25  0.18   4.60   1.52   \n",
       "\n",
       "platform          XOne  \n",
       "year_of_release         \n",
       "2015             60.14  \n",
       "2016             26.15  "
      ]
     },
     "execution_count": 34,
     "metadata": {},
     "output_type": "execute_result"
    }
   ],
   "source": [
    "df_new = df.query('year_of_release >= 2015').reset_index(drop=True)\n",
    "\n",
    "df_new_pivot_table = pd.pivot_table(df_new,\n",
    "                                    index='year_of_release', \n",
    "                                    columns='platform', \n",
    "                                    values='all_sales', \n",
    "                                    aggfunc='sum').fillna(0)  \n",
    "\n",
    "#df_new_pivot_table = df_new_pivot_table.drop('DS', axis=1) #посколько продажи консоли DS в 2013 уже на стадии умирание, удалим столбец\n",
    "\n",
    "df_new_pivot_table"
   ]
  },
  {
   "cell_type": "code",
   "execution_count": 35,
   "metadata": {},
   "outputs": [
    {
     "data": {
      "image/png": "[encoded data removed]",
      "text/plain": [
       "<Figure size 1008x720 with 1 Axes>"
      ]
     },
     "metadata": {
      "needs_background": "light"
     },
     "output_type": "display_data"
    }
   ],
   "source": [
    "fig, ax = plt.subplots(figsize=(14, 10))\n",
    "\n",
    "for col in df_new_pivot_table.columns: \n",
    "    ax.plot(df_new_pivot_table.index, df_new_pivot_table[col], label=col) \n",
    "\n",
    "ax.set_title('Sales for 5 years')\n",
    "ax.set_xlabel('Year')\n",
    "ax.set_ylabel('Sales')\n",
    "ax.legend()\n",
    " \n",
    "plt.show()"
   ]
  },
  {
   "cell_type": "markdown",
   "metadata": {},
   "source": [
    "Итого:\n",
    "- платформа с наибольшими продажами сейчас - PS4.\n",
    "- по всем платформам сейчас идет снижение продаж\n",
    "- Наиболее прибыльные платформы сейчас: PS4, PS3, XOne"
   ]
  },
  {
   "cell_type": "markdown",
   "metadata": {},
   "source": [
    "##### Постройте график «ящик с усами» по глобальным продажам игр в разбивке по платформам. Опишите результат."
   ]
  },
  {
   "cell_type": "code",
   "execution_count": 36,
   "metadata": {
    "scrolled": false
   },
   "outputs": [
    {
     "data": {
      "image/png": "[encoded data removed]",
      "text/plain": [
       "<Figure size 1152x864 with 1 Axes>"
      ]
     },
     "metadata": {
      "needs_background": "light"
     },
     "output_type": "display_data"
    }
   ],
   "source": [
    "df_new.boxplot('all_sales', by='platform', figsize=(16, 12))\n",
    "\n",
    "plt.title('Sales by Platform')\n",
    "plt.xlabel('Platform')\n",
    "plt.ylabel('Sales')\n",
    "\n",
    "plt.show()"
   ]
  },
  {
   "cell_type": "code",
   "execution_count": 37,
   "metadata": {},
   "outputs": [
    {
     "data": {
      "image/png": "[encoded data removed]",
      "text/plain": [
       "<Figure size 1152x864 with 1 Axes>"
      ]
     },
     "metadata": {
      "needs_background": "light"
     },
     "output_type": "display_data"
    }
   ],
   "source": [
    "df_boxplot_top3 = df_new[df_new['platform'].isin(['PS4', 'XOne', '3DS'])]\n",
    "\n",
    "df_boxplot_top3.boxplot('all_sales', by='platform', figsize=(16, 12), whis=2)\n",
    "\n",
    "plt.title('Sales by Platform')\n",
    "plt.xlabel('Platform')\n",
    "plt.ylabel('Sales')\n",
    "\n",
    "plt.show()"
   ]
  },
  {
   "cell_type": "markdown",
   "metadata": {},
   "source": [
    "Итого:\n",
    "- Ящик с усами показывает нам судя по выбросам, что самой прибыльной платформой сейчас является PS4 \n",
    "- На втором месте XOne\n",
    "- На третьем месте идет 3DS "
   ]
  },
  {
   "cell_type": "markdown",
   "metadata": {},
   "source": [
    "##### Посмотрите, как влияют на продажи внутри одной популярной платформы отзывы пользователей и критиков. Постройте диаграмму рассеяния и посчитайте корреляцию между отзывами и продажами. Сформулируйте выводы.\n"
   ]
  },
  {
   "cell_type": "markdown",
   "metadata": {},
   "source": [
    "Построим датафрейм где все платформы PS4 и сделаем диаграму рассеяности и вычислим корреляцию сначала для критиков, а затем для пользовательских оценок"
   ]
  },
  {
   "cell_type": "code",
   "execution_count": 38,
   "metadata": {},
   "outputs": [
    {
     "data": {
      "image/png": "[encoded data removed]",
      "text/plain": [
       "<Figure size 864x576 with 1 Axes>"
      ]
     },
     "metadata": {
      "needs_background": "light"
     },
     "output_type": "display_data"
    }
   ],
   "source": [
    "df_PS4 = df_new.dropna().query('platform == \"PS4\"') # тут можно удалить пропуски, т.к. данные непосредственно касаются отзывов\n",
    "\n",
    "df_PS4.plot(kind='scatter', \n",
    "            x='critic_score',\n",
    "            y='all_sales',\n",
    "            figsize=(12, 8), \n",
    "            color='green',\n",
    "            grid=True,\n",
    "            alpha=0.5)\n",
    "\n",
    "plt.title('Influence of Critics on Sales (PS4)') \n",
    "\n",
    "plt.show()"
   ]
  },
  {
   "cell_type": "code",
   "execution_count": 39,
   "metadata": {},
   "outputs": [
    {
     "data": {
      "text/plain": [
       "0.3904400133131612"
      ]
     },
     "metadata": {},
     "output_type": "display_data"
    }
   ],
   "source": [
    "df_PS4_corr = df_PS4['all_sales'].corr(df_PS4['critic_score'])\n",
    "display(df_PS4_corr)"
   ]
  },
  {
   "cell_type": "code",
   "execution_count": 40,
   "metadata": {},
   "outputs": [
    {
     "data": {
      "image/png": "[encoded data removed]",
      "text/plain": [
       "<Figure size 864x576 with 1 Axes>"
      ]
     },
     "metadata": {
      "needs_background": "light"
     },
     "output_type": "display_data"
    }
   ],
   "source": [
    "df_PS4.plot(kind='scatter', \n",
    "            x='user_score',\n",
    "            y='all_sales',\n",
    "            figsize=(12, 8), \n",
    "            color='blue',\n",
    "            grid=True,\n",
    "            alpha=0.5)\n",
    "\n",
    "plt.title('Influence of User critics on Sales (PS4)') \n",
    "\n",
    "plt.show()"
   ]
  },
  {
   "cell_type": "code",
   "execution_count": 41,
   "metadata": {},
   "outputs": [
    {
     "data": {
      "text/plain": [
       "-0.058959403819253034"
      ]
     },
     "metadata": {},
     "output_type": "display_data"
    }
   ],
   "source": [
    "df_PS4_corr = df_PS4['all_sales'].corr(df_PS4['user_score'])\n",
    "display(df_PS4_corr)"
   ]
  },
  {
   "cell_type": "markdown",
   "metadata": {},
   "source": [
    "Итого:\n",
    "- корреляция от пользовательских оценок очень низкая и близиться к нулю\n",
    "- корреляция от оценок критиков достаточно значительная и высокие оценкии существенно поднимают продажи игр"
   ]
  },
  {
   "cell_type": "markdown",
   "metadata": {},
   "source": [
    "##### Соотнесите выводы с продажами игр на других платформах."
   ]
  },
  {
   "cell_type": "code",
   "execution_count": 42,
   "metadata": {},
   "outputs": [
    {
     "data": {
      "image/png": "[encoded data removed]",
      "text/plain": [
       "<Figure size 864x576 with 1 Axes>"
      ]
     },
     "metadata": {
      "needs_background": "light"
     },
     "output_type": "display_data"
    }
   ],
   "source": [
    "df_XOne = df_new.dropna().query('platform == \"XOne\"')  \n",
    "\n",
    "df_XOne.plot(kind='scatter', \n",
    "            x='critic_score',\n",
    "            y='all_sales',\n",
    "            figsize=(12, 8), \n",
    "            color='red',\n",
    "            grid=True,\n",
    "            alpha=0.7)\n",
    "\n",
    "plt.title('Influence of Critics on XOne sales') \n",
    "\n",
    "plt.show()"
   ]
  },
  {
   "cell_type": "code",
   "execution_count": 43,
   "metadata": {},
   "outputs": [
    {
     "data": {
      "text/plain": [
       "0.42039210225136703"
      ]
     },
     "metadata": {},
     "output_type": "display_data"
    }
   ],
   "source": [
    "df_XOne_corr_critic_score = df_XOne['all_sales'].corr(df_XOne['critic_score'])\n",
    "display(df_XOne_corr_critic_score)"
   ]
  },
  {
   "cell_type": "code",
   "execution_count": 44,
   "metadata": {},
   "outputs": [
    {
     "data": {
      "image/png": "[encoded data removed]",
      "text/plain": [
       "<Figure size 864x576 with 1 Axes>"
      ]
     },
     "metadata": {
      "needs_background": "light"
     },
     "output_type": "display_data"
    }
   ],
   "source": [
    "df_XOne.plot(kind='scatter', \n",
    "            x='user_score',\n",
    "            y='all_sales',\n",
    "            figsize=(12, 8), \n",
    "            color='red',\n",
    "            grid=True,\n",
    "            alpha=0.7)\n",
    "\n",
    "plt.title('Influence of User score on XOne sales') \n",
    "\n",
    "plt.show()"
   ]
  },
  {
   "cell_type": "code",
   "execution_count": 45,
   "metadata": {},
   "outputs": [
    {
     "data": {
      "text/plain": [
       "-0.04525090033488067"
      ]
     },
     "metadata": {},
     "output_type": "display_data"
    }
   ],
   "source": [
    "df_XOne_corr_user_score = df_XOne['all_sales'].corr(df_XOne['user_score'])\n",
    "display(df_XOne_corr_user_score)"
   ]
  },
  {
   "cell_type": "code",
   "execution_count": 46,
   "metadata": {
    "scrolled": false
   },
   "outputs": [
    {
     "data": {
      "image/png": "[encoded data removed]",
      "text/plain": [
       "<Figure size 864x576 with 1 Axes>"
      ]
     },
     "metadata": {
      "needs_background": "light"
     },
     "output_type": "display_data"
    }
   ],
   "source": [
    "df_3DS = df_new.dropna().query('platform == \"3DS\"')  \n",
    "\n",
    "df_3DS.plot(kind='scatter', \n",
    "            x='critic_score',\n",
    "            y='all_sales',\n",
    "            figsize=(12, 8), \n",
    "            color='red',\n",
    "            grid=True,\n",
    "            alpha=0.7)\n",
    "\n",
    "plt.title('Influence of critic score on 3DS sales') \n",
    "\n",
    "plt.show()"
   ]
  },
  {
   "cell_type": "code",
   "execution_count": 47,
   "metadata": {},
   "outputs": [
    {
     "data": {
      "text/plain": [
       "0.17757455046092874"
      ]
     },
     "metadata": {},
     "output_type": "display_data"
    }
   ],
   "source": [
    "df_3DS_corr_critic_score = df_3DS['all_sales'].corr(df_3DS['critic_score'])\n",
    "display(df_3DS_corr_critic_score)"
   ]
  },
  {
   "cell_type": "code",
   "execution_count": 48,
   "metadata": {},
   "outputs": [
    {
     "data": {
      "image/png": "[encoded data removed]",
      "text/plain": [
       "<Figure size 864x576 with 1 Axes>"
      ]
     },
     "metadata": {
      "needs_background": "light"
     },
     "output_type": "display_data"
    }
   ],
   "source": [
    "df_3DS.plot(kind='scatter', \n",
    "            x='user_score',\n",
    "            y='all_sales',\n",
    "            figsize=(12, 8), \n",
    "            color='red',\n",
    "            grid=True,\n",
    "            alpha=0.7)\n",
    "\n",
    "plt.title('Influence of User score on 3DS sales') \n",
    "\n",
    "plt.show()"
   ]
  },
  {
   "cell_type": "code",
   "execution_count": 49,
   "metadata": {},
   "outputs": [
    {
     "data": {
      "text/plain": [
       "0.24047698587957067"
      ]
     },
     "metadata": {},
     "output_type": "display_data"
    }
   ],
   "source": [
    "df_3DS_corr_user_score = df_3DS['all_sales'].corr(df_3DS['user_score'])\n",
    "display(df_3DS_corr_user_score)"
   ]
  },
  {
   "cell_type": "markdown",
   "metadata": {},
   "source": [
    "Итоги:\n",
    "- Между отзывами критиков и продажами на платформе **Xone** есть заметная положительная корреляция \n",
    "- Между отзывами пользователей и продажами на платформе **Xone** корреляция близиться к нулю\n",
    "\n",
    "\n",
    "- Между отзывами критиков и продажами на платформе **3DS** очень cлабая положительной корреляции \n",
    "- Между отзывами пользователей и продажами на платформе **3DS** cлабая положительной корреляции "
   ]
  },
  {
   "cell_type": "markdown",
   "metadata": {},
   "source": [
    "##### Посмотрите на общее распределение игр по жанрам. Что можно сказать о самых прибыльных жанрах? Выделяются ли жанры с высокими и низкими продажами?"
   ]
  },
  {
   "cell_type": "code",
   "execution_count": 50,
   "metadata": {},
   "outputs": [
    {
     "data": {
      "text/html": [
       "<div>\n",
       "<style scoped>\n",
       "    .dataframe tbody tr th:only-of-type {\n",
       "        vertical-align: middle;\n",
       "    }\n",
       "\n",
       "    .dataframe tbody tr th {\n",
       "        vertical-align: top;\n",
       "    }\n",
       "\n",
       "    .dataframe thead tr th {\n",
       "        text-align: left;\n",
       "    }\n",
       "\n",
       "    .dataframe thead tr:last-of-type th {\n",
       "        text-align: right;\n",
       "    }\n",
       "</style>\n",
       "<table border=\"1\" class=\"dataframe\">\n",
       "  <thead>\n",
       "    <tr>\n",
       "      <th></th>\n",
       "      <th>sum</th>\n",
       "      <th>mean</th>\n",
       "      <th>median</th>\n",
       "      <th>count</th>\n",
       "    </tr>\n",
       "    <tr>\n",
       "      <th></th>\n",
       "      <th>all_sales</th>\n",
       "      <th>all_sales</th>\n",
       "      <th>all_sales</th>\n",
       "      <th>all_sales</th>\n",
       "    </tr>\n",
       "    <tr>\n",
       "      <th>genre</th>\n",
       "      <th></th>\n",
       "      <th></th>\n",
       "      <th></th>\n",
       "      <th></th>\n",
       "    </tr>\n",
       "  </thead>\n",
       "  <tbody>\n",
       "    <tr>\n",
       "      <th>Shooter</th>\n",
       "      <td>105.73</td>\n",
       "      <td>1.305309</td>\n",
       "      <td>0.380</td>\n",
       "      <td>81</td>\n",
       "    </tr>\n",
       "    <tr>\n",
       "      <th>Action</th>\n",
       "      <td>102.13</td>\n",
       "      <td>0.236961</td>\n",
       "      <td>0.060</td>\n",
       "      <td>431</td>\n",
       "    </tr>\n",
       "    <tr>\n",
       "      <th>Sports</th>\n",
       "      <td>64.33</td>\n",
       "      <td>0.601215</td>\n",
       "      <td>0.120</td>\n",
       "      <td>107</td>\n",
       "    </tr>\n",
       "    <tr>\n",
       "      <th>Role-Playing</th>\n",
       "      <td>55.82</td>\n",
       "      <td>0.422879</td>\n",
       "      <td>0.115</td>\n",
       "      <td>132</td>\n",
       "    </tr>\n",
       "    <tr>\n",
       "      <th>Misc</th>\n",
       "      <td>14.17</td>\n",
       "      <td>0.199577</td>\n",
       "      <td>0.060</td>\n",
       "      <td>71</td>\n",
       "    </tr>\n",
       "    <tr>\n",
       "      <th>Fighting</th>\n",
       "      <td>12.37</td>\n",
       "      <td>0.334324</td>\n",
       "      <td>0.090</td>\n",
       "      <td>37</td>\n",
       "    </tr>\n",
       "    <tr>\n",
       "      <th>Adventure</th>\n",
       "      <td>11.98</td>\n",
       "      <td>0.108909</td>\n",
       "      <td>0.030</td>\n",
       "      <td>110</td>\n",
       "    </tr>\n",
       "    <tr>\n",
       "      <th>Racing</th>\n",
       "      <td>10.86</td>\n",
       "      <td>0.258571</td>\n",
       "      <td>0.055</td>\n",
       "      <td>42</td>\n",
       "    </tr>\n",
       "    <tr>\n",
       "      <th>Platform</th>\n",
       "      <td>9.28</td>\n",
       "      <td>0.331429</td>\n",
       "      <td>0.100</td>\n",
       "      <td>28</td>\n",
       "    </tr>\n",
       "    <tr>\n",
       "      <th>Simulation</th>\n",
       "      <td>7.55</td>\n",
       "      <td>0.228788</td>\n",
       "      <td>0.100</td>\n",
       "      <td>33</td>\n",
       "    </tr>\n",
       "    <tr>\n",
       "      <th>Strategy</th>\n",
       "      <td>2.98</td>\n",
       "      <td>0.102759</td>\n",
       "      <td>0.050</td>\n",
       "      <td>29</td>\n",
       "    </tr>\n",
       "    <tr>\n",
       "      <th>Puzzle</th>\n",
       "      <td>0.72</td>\n",
       "      <td>0.102857</td>\n",
       "      <td>0.030</td>\n",
       "      <td>7</td>\n",
       "    </tr>\n",
       "  </tbody>\n",
       "</table>\n",
       "</div>"
      ],
      "text/plain": [
       "                   sum      mean    median     count\n",
       "             all_sales all_sales all_sales all_sales\n",
       "genre                                               \n",
       "Shooter         105.73  1.305309     0.380        81\n",
       "Action          102.13  0.236961     0.060       431\n",
       "Sports           64.33  0.601215     0.120       107\n",
       "Role-Playing     55.82  0.422879     0.115       132\n",
       "Misc             14.17  0.199577     0.060        71\n",
       "Fighting         12.37  0.334324     0.090        37\n",
       "Adventure        11.98  0.108909     0.030       110\n",
       "Racing           10.86  0.258571     0.055        42\n",
       "Platform          9.28  0.331429     0.100        28\n",
       "Simulation        7.55  0.228788     0.100        33\n",
       "Strategy          2.98  0.102759     0.050        29\n",
       "Puzzle            0.72  0.102857     0.030         7"
      ]
     },
     "metadata": {},
     "output_type": "display_data"
    }
   ],
   "source": [
    "genre_pivot = pd.pivot_table(df_new, \n",
    "                             index='genre', \n",
    "                             values='all_sales', \n",
    "                             aggfunc=['sum', 'mean', 'median', 'count']).sort_values(by=('sum', 'all_sales'), ascending=False)\n",
    "\n",
    "display(genre_pivot)"
   ]
  },
  {
   "cell_type": "code",
   "execution_count": 51,
   "metadata": {},
   "outputs": [
    {
     "data": {
      "image/png": "[encoded data removed]",
      "text/plain": [
       "<Figure size 1008x720 with 1 Axes>"
      ]
     },
     "metadata": {
      "needs_background": "light"
     },
     "output_type": "display_data"
    }
   ],
   "source": [
    "сolors = ['red', 'orange', 'yellow', 'green', 'blue', 'purple', 'pink', 'brown', 'gray', 'black']\n",
    "genre_pivot.plot(kind='bar', \n",
    "                 figsize=(14, 10), \n",
    "                 color=сolors,\n",
    "                 grid=True,\n",
    "                 zorder=2)\n",
    "\n",
    "plt.title('Sales by genre') \n",
    "\n",
    "plt.show()"
   ]
  },
  {
   "cell_type": "markdown",
   "metadata": {},
   "source": [
    "Итоги:\n",
    "- Жанр Shooter и Action опережает остальные жанры по продажам и находятся в лидерах. Причем жанр Shooter опережает все остальные жанры значительно по средней и медиане, это также самый прибыльный жанр по соотношению кол-ва игр и продаж, несмотря на то что их выпускается в несколько раз меньше чем в жанре Aсtion они опережают их по продажам.\n",
    "- На 3 и 4 месте Sports и Role-Playing. Эти жанры также опережают жанр Action по средней.\n",
    "- Похоже что в жанре Action держиться в топе по побльшой часте за счет большого кол-ва выпускаемых игр по сравнению с другими жанрами\n",
    "- Жанры с самыми плохии продажами: Puzzle, Adventure, Simulation"
   ]
  },
  {
   "cell_type": "markdown",
   "metadata": {},
   "source": [
    "# Шаг 4. Составьте портрет пользователя каждого региона\n",
    " "
   ]
  },
  {
   "cell_type": "markdown",
   "metadata": {},
   "source": [
    "Определите для пользователя каждого региона (NA, EU, JP):\n",
    "- Самые популярные платформы (топ-5). Опишите различия в долях продаж.\n",
    "- Самые популярные жанры (топ-5). Поясните разницу.\n",
    "- Влияет ли рейтинг ESRB на продажи в отдельном регионе?"
   ]
  },
  {
   "cell_type": "markdown",
   "metadata": {},
   "source": [
    "Построим сводные таблицы для всех нужных нам регионов и посчитаем продажи в каждом по платформам и по жанрам"
   ]
  },
  {
   "cell_type": "code",
   "execution_count": 52,
   "metadata": {},
   "outputs": [
    {
     "data": {
      "text/html": [
       "<div>\n",
       "<style scoped>\n",
       "    .dataframe tbody tr th:only-of-type {\n",
       "        vertical-align: middle;\n",
       "    }\n",
       "\n",
       "    .dataframe tbody tr th {\n",
       "        vertical-align: top;\n",
       "    }\n",
       "\n",
       "    .dataframe thead th {\n",
       "        text-align: right;\n",
       "    }\n",
       "</style>\n",
       "<table border=\"1\" class=\"dataframe\">\n",
       "  <thead>\n",
       "    <tr style=\"text-align: right;\">\n",
       "      <th></th>\n",
       "      <th>na_sales</th>\n",
       "    </tr>\n",
       "    <tr>\n",
       "      <th>platform</th>\n",
       "      <th></th>\n",
       "    </tr>\n",
       "  </thead>\n",
       "  <tbody>\n",
       "    <tr>\n",
       "      <th>PS4</th>\n",
       "      <td>63.86</td>\n",
       "    </tr>\n",
       "    <tr>\n",
       "      <th>XOne</th>\n",
       "      <td>50.30</td>\n",
       "    </tr>\n",
       "    <tr>\n",
       "      <th>3DS</th>\n",
       "      <td>10.31</td>\n",
       "    </tr>\n",
       "    <tr>\n",
       "      <th>WiiU</th>\n",
       "      <td>8.86</td>\n",
       "    </tr>\n",
       "    <tr>\n",
       "      <th>X360</th>\n",
       "      <td>8.05</td>\n",
       "    </tr>\n",
       "  </tbody>\n",
       "</table>\n",
       "</div>"
      ],
      "text/plain": [
       "          na_sales\n",
       "platform          \n",
       "PS4          63.86\n",
       "XOne         50.30\n",
       "3DS          10.31\n",
       "WiiU          8.86\n",
       "X360          8.05"
      ]
     },
     "metadata": {},
     "output_type": "display_data"
    },
    {
     "data": {
      "text/html": [
       "<div>\n",
       "<style scoped>\n",
       "    .dataframe tbody tr th:only-of-type {\n",
       "        vertical-align: middle;\n",
       "    }\n",
       "\n",
       "    .dataframe tbody tr th {\n",
       "        vertical-align: top;\n",
       "    }\n",
       "\n",
       "    .dataframe thead th {\n",
       "        text-align: right;\n",
       "    }\n",
       "</style>\n",
       "<table border=\"1\" class=\"dataframe\">\n",
       "  <thead>\n",
       "    <tr style=\"text-align: right;\">\n",
       "      <th></th>\n",
       "      <th>eu_sales</th>\n",
       "    </tr>\n",
       "    <tr>\n",
       "      <th>platform</th>\n",
       "      <th></th>\n",
       "    </tr>\n",
       "  </thead>\n",
       "  <tbody>\n",
       "    <tr>\n",
       "      <th>PS4</th>\n",
       "      <td>83.54</td>\n",
       "    </tr>\n",
       "    <tr>\n",
       "      <th>XOne</th>\n",
       "      <td>28.10</td>\n",
       "    </tr>\n",
       "    <tr>\n",
       "      <th>PC</th>\n",
       "      <td>9.10</td>\n",
       "    </tr>\n",
       "    <tr>\n",
       "      <th>3DS</th>\n",
       "      <td>7.39</td>\n",
       "    </tr>\n",
       "    <tr>\n",
       "      <th>PS3</th>\n",
       "      <td>7.30</td>\n",
       "    </tr>\n",
       "  </tbody>\n",
       "</table>\n",
       "</div>"
      ],
      "text/plain": [
       "          eu_sales\n",
       "platform          \n",
       "PS4          83.54\n",
       "XOne         28.10\n",
       "PC            9.10\n",
       "3DS           7.39\n",
       "PS3           7.30"
      ]
     },
     "metadata": {},
     "output_type": "display_data"
    },
    {
     "data": {
      "text/html": [
       "<div>\n",
       "<style scoped>\n",
       "    .dataframe tbody tr th:only-of-type {\n",
       "        vertical-align: middle;\n",
       "    }\n",
       "\n",
       "    .dataframe tbody tr th {\n",
       "        vertical-align: top;\n",
       "    }\n",
       "\n",
       "    .dataframe thead th {\n",
       "        text-align: right;\n",
       "    }\n",
       "</style>\n",
       "<table border=\"1\" class=\"dataframe\">\n",
       "  <thead>\n",
       "    <tr style=\"text-align: right;\">\n",
       "      <th></th>\n",
       "      <th>jp_sales</th>\n",
       "    </tr>\n",
       "    <tr>\n",
       "      <th>platform</th>\n",
       "      <th></th>\n",
       "    </tr>\n",
       "  </thead>\n",
       "  <tbody>\n",
       "    <tr>\n",
       "      <th>3DS</th>\n",
       "      <td>23.55</td>\n",
       "    </tr>\n",
       "    <tr>\n",
       "      <th>PS4</th>\n",
       "      <td>12.05</td>\n",
       "    </tr>\n",
       "    <tr>\n",
       "      <th>PSV</th>\n",
       "      <td>8.41</td>\n",
       "    </tr>\n",
       "    <tr>\n",
       "      <th>PS3</th>\n",
       "      <td>4.97</td>\n",
       "    </tr>\n",
       "    <tr>\n",
       "      <th>WiiU</th>\n",
       "      <td>4.12</td>\n",
       "    </tr>\n",
       "  </tbody>\n",
       "</table>\n",
       "</div>"
      ],
      "text/plain": [
       "          jp_sales\n",
       "platform          \n",
       "3DS          23.55\n",
       "PS4          12.05\n",
       "PSV           8.41\n",
       "PS3           4.97\n",
       "WiiU          4.12"
      ]
     },
     "metadata": {},
     "output_type": "display_data"
    }
   ],
   "source": [
    "top_5_platforms_NA = pd.pivot_table(df_new, \n",
    "                                 index='platform', \n",
    "                                 values='na_sales', \n",
    "                                 aggfunc='sum').sort_values(by='na_sales', ascending=False).head()\n",
    "\n",
    "display(top_5_platforms_NA)  \n",
    "\n",
    "\n",
    "top_5_platforms_EU = pd.pivot_table(df_new, \n",
    "                                 index='platform', \n",
    "                                 values='eu_sales', \n",
    "                                 aggfunc='sum').sort_values(by='eu_sales', ascending=False).head()\n",
    "\n",
    "display(top_5_platforms_EU) \n",
    "\n",
    "\n",
    "top_5_platforms_JP = pd.pivot_table(df_new, \n",
    "                                 index='platform', \n",
    "                                 values='jp_sales', \n",
    "                                 aggfunc='sum').sort_values(by='jp_sales', ascending=False).head()\n",
    "\n",
    "display(top_5_platforms_JP) "
   ]
  },
  {
   "cell_type": "code",
   "execution_count": 53,
   "metadata": {},
   "outputs": [
    {
     "data": {
      "text/html": [
       "<div>\n",
       "<style scoped>\n",
       "    .dataframe tbody tr th:only-of-type {\n",
       "        vertical-align: middle;\n",
       "    }\n",
       "\n",
       "    .dataframe tbody tr th {\n",
       "        vertical-align: top;\n",
       "    }\n",
       "\n",
       "    .dataframe thead th {\n",
       "        text-align: right;\n",
       "    }\n",
       "</style>\n",
       "<table border=\"1\" class=\"dataframe\">\n",
       "  <thead>\n",
       "    <tr style=\"text-align: right;\">\n",
       "      <th></th>\n",
       "      <th>na_sales</th>\n",
       "    </tr>\n",
       "    <tr>\n",
       "      <th>genre</th>\n",
       "      <th></th>\n",
       "    </tr>\n",
       "  </thead>\n",
       "  <tbody>\n",
       "    <tr>\n",
       "      <th>Shooter</th>\n",
       "      <td>48.18</td>\n",
       "    </tr>\n",
       "    <tr>\n",
       "      <th>Action</th>\n",
       "      <td>33.68</td>\n",
       "    </tr>\n",
       "    <tr>\n",
       "      <th>Sports</th>\n",
       "      <td>26.31</td>\n",
       "    </tr>\n",
       "    <tr>\n",
       "      <th>Role-Playing</th>\n",
       "      <td>19.82</td>\n",
       "    </tr>\n",
       "    <tr>\n",
       "      <th>Misc</th>\n",
       "      <td>5.58</td>\n",
       "    </tr>\n",
       "  </tbody>\n",
       "</table>\n",
       "</div>"
      ],
      "text/plain": [
       "              na_sales\n",
       "genre                 \n",
       "Shooter          48.18\n",
       "Action           33.68\n",
       "Sports           26.31\n",
       "Role-Playing     19.82\n",
       "Misc              5.58"
      ]
     },
     "metadata": {},
     "output_type": "display_data"
    },
    {
     "data": {
      "text/html": [
       "<div>\n",
       "<style scoped>\n",
       "    .dataframe tbody tr th:only-of-type {\n",
       "        vertical-align: middle;\n",
       "    }\n",
       "\n",
       "    .dataframe tbody tr th {\n",
       "        vertical-align: top;\n",
       "    }\n",
       "\n",
       "    .dataframe thead th {\n",
       "        text-align: right;\n",
       "    }\n",
       "</style>\n",
       "<table border=\"1\" class=\"dataframe\">\n",
       "  <thead>\n",
       "    <tr style=\"text-align: right;\">\n",
       "      <th></th>\n",
       "      <th>eu_sales</th>\n",
       "    </tr>\n",
       "    <tr>\n",
       "      <th>genre</th>\n",
       "      <th></th>\n",
       "    </tr>\n",
       "  </thead>\n",
       "  <tbody>\n",
       "    <tr>\n",
       "      <th>Shooter</th>\n",
       "      <td>40.28</td>\n",
       "    </tr>\n",
       "    <tr>\n",
       "      <th>Action</th>\n",
       "      <td>34.82</td>\n",
       "    </tr>\n",
       "    <tr>\n",
       "      <th>Sports</th>\n",
       "      <td>27.82</td>\n",
       "    </tr>\n",
       "    <tr>\n",
       "      <th>Role-Playing</th>\n",
       "      <td>17.21</td>\n",
       "    </tr>\n",
       "    <tr>\n",
       "      <th>Racing</th>\n",
       "      <td>6.52</td>\n",
       "    </tr>\n",
       "  </tbody>\n",
       "</table>\n",
       "</div>"
      ],
      "text/plain": [
       "              eu_sales\n",
       "genre                 \n",
       "Shooter          40.28\n",
       "Action           34.82\n",
       "Sports           27.82\n",
       "Role-Playing     17.21\n",
       "Racing            6.52"
      ]
     },
     "metadata": {},
     "output_type": "display_data"
    },
    {
     "data": {
      "text/html": [
       "<div>\n",
       "<style scoped>\n",
       "    .dataframe tbody tr th:only-of-type {\n",
       "        vertical-align: middle;\n",
       "    }\n",
       "\n",
       "    .dataframe tbody tr th {\n",
       "        vertical-align: top;\n",
       "    }\n",
       "\n",
       "    .dataframe thead th {\n",
       "        text-align: right;\n",
       "    }\n",
       "</style>\n",
       "<table border=\"1\" class=\"dataframe\">\n",
       "  <thead>\n",
       "    <tr style=\"text-align: right;\">\n",
       "      <th></th>\n",
       "      <th>jp_sales</th>\n",
       "    </tr>\n",
       "    <tr>\n",
       "      <th>genre</th>\n",
       "      <th></th>\n",
       "    </tr>\n",
       "  </thead>\n",
       "  <tbody>\n",
       "    <tr>\n",
       "      <th>Action</th>\n",
       "      <td>23.05</td>\n",
       "    </tr>\n",
       "    <tr>\n",
       "      <th>Role-Playing</th>\n",
       "      <td>13.41</td>\n",
       "    </tr>\n",
       "    <tr>\n",
       "      <th>Shooter</th>\n",
       "      <td>3.79</td>\n",
       "    </tr>\n",
       "    <tr>\n",
       "      <th>Misc</th>\n",
       "      <td>3.19</td>\n",
       "    </tr>\n",
       "    <tr>\n",
       "      <th>Adventure</th>\n",
       "      <td>2.22</td>\n",
       "    </tr>\n",
       "  </tbody>\n",
       "</table>\n",
       "</div>"
      ],
      "text/plain": [
       "              jp_sales\n",
       "genre                 \n",
       "Action           23.05\n",
       "Role-Playing     13.41\n",
       "Shooter           3.79\n",
       "Misc              3.19\n",
       "Adventure         2.22"
      ]
     },
     "metadata": {},
     "output_type": "display_data"
    }
   ],
   "source": [
    "top_5_genres_NA = pd.pivot_table(df_new, \n",
    "                                 index='genre', \n",
    "                                 values='na_sales', \n",
    "                                 aggfunc='sum').sort_values(by='na_sales', ascending=False).head()\n",
    "\n",
    "display(top_5_genres_NA) \n",
    "\n",
    "top_5_genres_EA = pd.pivot_table(df_new, \n",
    "                                 index='genre', \n",
    "                                 values='eu_sales', \n",
    "                                 aggfunc='sum').sort_values(by='eu_sales', ascending=False).head()\n",
    "\n",
    "display(top_5_genres_EA) \n",
    "\n",
    "top_5_genres_JP = pd.pivot_table(df_new, \n",
    "                                 index='genre', \n",
    "                                 values='jp_sales', \n",
    "                                 aggfunc='sum').sort_values(by='jp_sales', ascending=False).head()\n",
    "\n",
    "display(top_5_genres_JP) "
   ]
  },
  {
   "cell_type": "markdown",
   "metadata": {},
   "source": [
    "Итоги:\n",
    "\n",
    "Популярность топ-2 платформ в Америке и Европе одинковая. В Европе на 3 месте по поулярности стоит PC, в то время как в Америке и Японии его нет даже в топ-5. В Японии лидер - 3DS.\n",
    "\n",
    "**Платформы**:\n",
    "\n",
    "Топ 5 в регионе **NA**: \n",
    "- PS4\n",
    "- XOne\n",
    "- 3DS\n",
    "- WiiU\n",
    "- X360\n",
    "\n",
    "Топ 5 в регионе **EA**: \n",
    "- PS4\t\n",
    "- XOne\n",
    "- PC\n",
    "- 3DS\t\n",
    "- PS3\n",
    "\n",
    "Топ 5 в регионе **JP**: \n",
    "- 3DS\n",
    "- PS4\t\n",
    "- PSV\n",
    "- PS3\t\n",
    "- WiiU\t\n",
    "\n",
    "**Жанры**:\n",
    "\n",
    "Жанры в Европе и Америке практически одинаковые, разница только в жанрах на 5 месте - Racing(EU) и Misc(NA). В Японии самый популярный жанр - Action.\n",
    "\n",
    "Топ 5 в регионе **NA**: \n",
    "- Shooter\t \n",
    "- Action\t \n",
    "- Sports\t  \n",
    "- Role-Playing\t \n",
    "- Misc\n",
    "\n",
    "Топ 5 в регионе **EA**: \n",
    "- Shooter\t \n",
    "- Action\t \n",
    "- Sports\t  \n",
    "- Role-Playing\t \n",
    "- Racing\n",
    "\n",
    "Топ 5 в регионе **JP**: \n",
    "- Action\n",
    "- Role-Playing\n",
    "- Shooter\t\n",
    "- Misc\n",
    "- Adventure"
   ]
  },
  {
   "cell_type": "markdown",
   "metadata": {},
   "source": [
    "##### Влияет ли рейтинг ESRB на продажи в отдельном регионе?"
   ]
  },
  {
   "cell_type": "markdown",
   "metadata": {},
   "source": [
    "Постоим сводные таблицы по рейтенгу ESRB"
   ]
  },
  {
   "cell_type": "code",
   "execution_count": 54,
   "metadata": {},
   "outputs": [
    {
     "data": {
      "text/html": [
       "<div>\n",
       "<style scoped>\n",
       "    .dataframe tbody tr th:only-of-type {\n",
       "        vertical-align: middle;\n",
       "    }\n",
       "\n",
       "    .dataframe tbody tr th {\n",
       "        vertical-align: top;\n",
       "    }\n",
       "\n",
       "    .dataframe thead th {\n",
       "        text-align: right;\n",
       "    }\n",
       "</style>\n",
       "<table border=\"1\" class=\"dataframe\">\n",
       "  <thead>\n",
       "    <tr style=\"text-align: right;\">\n",
       "      <th></th>\n",
       "      <th>na_sales</th>\n",
       "    </tr>\n",
       "    <tr>\n",
       "      <th>rating</th>\n",
       "      <th></th>\n",
       "    </tr>\n",
       "  </thead>\n",
       "  <tbody>\n",
       "    <tr>\n",
       "      <th>M</th>\n",
       "      <td>47.03</td>\n",
       "    </tr>\n",
       "    <tr>\n",
       "      <th>E</th>\n",
       "      <td>26.59</td>\n",
       "    </tr>\n",
       "    <tr>\n",
       "      <th>T</th>\n",
       "      <td>22.86</td>\n",
       "    </tr>\n",
       "    <tr>\n",
       "      <th>E10+</th>\n",
       "      <td>17.87</td>\n",
       "    </tr>\n",
       "  </tbody>\n",
       "</table>\n",
       "</div>"
      ],
      "text/plain": [
       "        na_sales\n",
       "rating          \n",
       "M          47.03\n",
       "E          26.59\n",
       "T          22.86\n",
       "E10+       17.87"
      ]
     },
     "metadata": {},
     "output_type": "display_data"
    },
    {
     "data": {
      "image/png": "[encoded data removed]",
      "text/plain": [
       "<Figure size 720x432 with 1 Axes>"
      ]
     },
     "metadata": {
      "needs_background": "light"
     },
     "output_type": "display_data"
    }
   ],
   "source": [
    "esrb_pivot_na = df_new.pivot_table(index='rating', \n",
    "                                   values='na_sales', \n",
    "                                   aggfunc='sum').sort_values(by='na_sales', ascending=False)\n",
    "\n",
    "display(esrb_pivot_na)\n",
    "\n",
    "esrb_pivot_na.plot(kind='bar', \n",
    "                figsize=(10, 6), \n",
    "                color='purple',\n",
    "                grid=True,\n",
    "                zorder=2)\n",
    "\n",
    "plt.title('Sales by ESRB in NA region') \n",
    "\n",
    "plt.show()"
   ]
  },
  {
   "cell_type": "code",
   "execution_count": 55,
   "metadata": {},
   "outputs": [
    {
     "data": {
      "text/html": [
       "<div>\n",
       "<style scoped>\n",
       "    .dataframe tbody tr th:only-of-type {\n",
       "        vertical-align: middle;\n",
       "    }\n",
       "\n",
       "    .dataframe tbody tr th {\n",
       "        vertical-align: top;\n",
       "    }\n",
       "\n",
       "    .dataframe thead th {\n",
       "        text-align: right;\n",
       "    }\n",
       "</style>\n",
       "<table border=\"1\" class=\"dataframe\">\n",
       "  <thead>\n",
       "    <tr style=\"text-align: right;\">\n",
       "      <th></th>\n",
       "      <th>eu_sales</th>\n",
       "    </tr>\n",
       "    <tr>\n",
       "      <th>rating</th>\n",
       "      <th></th>\n",
       "    </tr>\n",
       "  </thead>\n",
       "  <tbody>\n",
       "    <tr>\n",
       "      <th>M</th>\n",
       "      <td>45.54</td>\n",
       "    </tr>\n",
       "    <tr>\n",
       "      <th>E</th>\n",
       "      <td>34.83</td>\n",
       "    </tr>\n",
       "    <tr>\n",
       "      <th>T</th>\n",
       "      <td>20.32</td>\n",
       "    </tr>\n",
       "    <tr>\n",
       "      <th>E10+</th>\n",
       "      <td>11.54</td>\n",
       "    </tr>\n",
       "  </tbody>\n",
       "</table>\n",
       "</div>"
      ],
      "text/plain": [
       "        eu_sales\n",
       "rating          \n",
       "M          45.54\n",
       "E          34.83\n",
       "T          20.32\n",
       "E10+       11.54"
      ]
     },
     "metadata": {},
     "output_type": "display_data"
    },
    {
     "data": {
      "image/png": "[encoded data removed]",
      "text/plain": [
       "<Figure size 720x432 with 1 Axes>"
      ]
     },
     "metadata": {
      "needs_background": "light"
     },
     "output_type": "display_data"
    }
   ],
   "source": [
    "esrb_pivot_eu = df_new.pivot_table(index='rating', \n",
    "                                   values='eu_sales', \n",
    "                                   aggfunc='sum').sort_values(by='eu_sales', ascending=False)\n",
    "\n",
    "display(esrb_pivot_eu)\n",
    "\n",
    "esrb_pivot_eu.plot(kind='bar', \n",
    "                figsize=(10, 6), \n",
    "                color='purple',\n",
    "                grid=True,\n",
    "                zorder=2)\n",
    "\n",
    "plt.title('Sales by ESRB in EU region') \n",
    "\n",
    "plt.show()"
   ]
  },
  {
   "cell_type": "code",
   "execution_count": 56,
   "metadata": {
    "scrolled": false
   },
   "outputs": [
    {
     "data": {
      "text/html": [
       "<div>\n",
       "<style scoped>\n",
       "    .dataframe tbody tr th:only-of-type {\n",
       "        vertical-align: middle;\n",
       "    }\n",
       "\n",
       "    .dataframe tbody tr th {\n",
       "        vertical-align: top;\n",
       "    }\n",
       "\n",
       "    .dataframe thead th {\n",
       "        text-align: right;\n",
       "    }\n",
       "</style>\n",
       "<table border=\"1\" class=\"dataframe\">\n",
       "  <thead>\n",
       "    <tr style=\"text-align: right;\">\n",
       "      <th></th>\n",
       "      <th>jp_sales</th>\n",
       "    </tr>\n",
       "    <tr>\n",
       "      <th>rating</th>\n",
       "      <th></th>\n",
       "    </tr>\n",
       "  </thead>\n",
       "  <tbody>\n",
       "    <tr>\n",
       "      <th>T</th>\n",
       "      <td>7.70</td>\n",
       "    </tr>\n",
       "    <tr>\n",
       "      <th>E</th>\n",
       "      <td>5.25</td>\n",
       "    </tr>\n",
       "    <tr>\n",
       "      <th>M</th>\n",
       "      <td>4.29</td>\n",
       "    </tr>\n",
       "    <tr>\n",
       "      <th>E10+</th>\n",
       "      <td>3.27</td>\n",
       "    </tr>\n",
       "  </tbody>\n",
       "</table>\n",
       "</div>"
      ],
      "text/plain": [
       "        jp_sales\n",
       "rating          \n",
       "T           7.70\n",
       "E           5.25\n",
       "M           4.29\n",
       "E10+        3.27"
      ]
     },
     "metadata": {},
     "output_type": "display_data"
    },
    {
     "data": {
      "image/png": "[encoded data removed]",
      "text/plain": [
       "<Figure size 720x432 with 1 Axes>"
      ]
     },
     "metadata": {
      "needs_background": "light"
     },
     "output_type": "display_data"
    }
   ],
   "source": [
    "esrb_pivot_jp = df_new.pivot_table(index='rating', \n",
    "                                   values='jp_sales', \n",
    "                                   aggfunc='sum').sort_values(by='jp_sales', ascending=False)\n",
    "\n",
    "display(esrb_pivot_jp)\n",
    "\n",
    "esrb_pivot_jp.plot(kind='bar', \n",
    "                figsize=(10, 6), \n",
    "                color='purple',\n",
    "                grid=True,\n",
    "                zorder=2)\n",
    "\n",
    "plt.title('Sales by ESRB in JP region') \n",
    "\n",
    "plt.show()"
   ]
  },
  {
   "cell_type": "code",
   "execution_count": 57,
   "metadata": {},
   "outputs": [
    {
     "data": {
      "text/html": [
       "<div>\n",
       "<style scoped>\n",
       "    .dataframe tbody tr th:only-of-type {\n",
       "        vertical-align: middle;\n",
       "    }\n",
       "\n",
       "    .dataframe tbody tr th {\n",
       "        vertical-align: top;\n",
       "    }\n",
       "\n",
       "    .dataframe thead th {\n",
       "        text-align: right;\n",
       "    }\n",
       "</style>\n",
       "<table border=\"1\" class=\"dataframe\">\n",
       "  <thead>\n",
       "    <tr style=\"text-align: right;\">\n",
       "      <th></th>\n",
       "      <th>all_sales</th>\n",
       "    </tr>\n",
       "    <tr>\n",
       "      <th>rating</th>\n",
       "      <th></th>\n",
       "    </tr>\n",
       "  </thead>\n",
       "  <tbody>\n",
       "    <tr>\n",
       "      <th>M</th>\n",
       "      <td>111.10</td>\n",
       "    </tr>\n",
       "    <tr>\n",
       "      <th>E</th>\n",
       "      <td>75.24</td>\n",
       "    </tr>\n",
       "    <tr>\n",
       "      <th>T</th>\n",
       "      <td>57.73</td>\n",
       "    </tr>\n",
       "    <tr>\n",
       "      <th>E10+</th>\n",
       "      <td>36.68</td>\n",
       "    </tr>\n",
       "  </tbody>\n",
       "</table>\n",
       "</div>"
      ],
      "text/plain": [
       "        all_sales\n",
       "rating           \n",
       "M          111.10\n",
       "E           75.24\n",
       "T           57.73\n",
       "E10+        36.68"
      ]
     },
     "metadata": {},
     "output_type": "display_data"
    },
    {
     "data": {
      "image/png": "[encoded data removed]",
      "text/plain": [
       "<Figure size 720x432 with 1 Axes>"
      ]
     },
     "metadata": {
      "needs_background": "light"
     },
     "output_type": "display_data"
    }
   ],
   "source": [
    "esrb_pivot = df_new.pivot_table(index='rating', \n",
    "                                values='all_sales', \n",
    "                                aggfunc='sum').sort_values(by='all_sales', ascending=False)\n",
    "\n",
    "display(esrb_pivot)\n",
    "\n",
    "esrb_pivot.plot(kind='bar', \n",
    "                figsize=(10, 6), \n",
    "                color='purple',\n",
    "                grid=True,\n",
    "                zorder=2)\n",
    "\n",
    "plt.title('Sales by ESRB in all regions') \n",
    "\n",
    "plt.show()"
   ]
  },
  {
   "cell_type": "markdown",
   "metadata": {},
   "source": [
    "Итоги:\n",
    "- В Америке и Европе идентичная показатели продаж соответствующих рейтингов. Самый популярный рейтинг для выпуска игр: 'M', далее идут 'E', 'T', 'E10+'.\n",
    "- В Японии cамый популярный рейтинг для выпуска игр: 'T', далее идут 'E', 'M', 'E10+'.\n",
    "- Если брать продажи по всем регионам то лучший рейтинг - 'M', далее идут 'E', 'T', 'E10+'\n",
    "- 'E10+' самый непопулярный рейтинг во всех регионах\n"
   ]
  },
  {
   "cell_type": "markdown",
   "metadata": {},
   "source": [
    "# Шаг 5. Проверьте гипотезы\n",
    " "
   ]
  },
  {
   "cell_type": "markdown",
   "metadata": {},
   "source": [
    "##### Средние пользовательские рейтинги платформ Xbox One и PC одинаковые;\n",
    " "
   ]
  },
  {
   "cell_type": "markdown",
   "metadata": {},
   "source": [
    "Нулевая гипотеза:\n",
    "\n",
    "- Средние пользовательские рейтинги платформ Xbox ONE и PC одинаковые.\n",
    "\n",
    "Альтернативная гипотеза:\n",
    "\n",
    "- Средние пользовательские рейтинги платформ Xbox ONE и PC различаются.\n",
    "\n",
    "Гипотеза о равенстве средних двух генеральных совокупностей. Применяем двусторонний критерий, так как разница рейтингов по платформам может быть как в положительную сторону, так и в отрицательную."
   ]
  },
  {
   "cell_type": "code",
   "execution_count": 58,
   "metadata": {},
   "outputs": [
    {
     "name": "stdout",
     "output_type": "stream",
     "text": [
      "p-значение:  0.3212770066340128\n",
      "Не получилось отвергнуть нулевую гипотезу\n"
     ]
    }
   ],
   "source": [
    "df_Xbox = df_new.dropna().query('platform == \"XOne\"')\n",
    "df_PC = df_new.dropna().query('platform == \"PC\"')\n",
    "\n",
    "sample_1 = df_Xbox['user_score']\n",
    "sample_2 = df_PC['user_score']\n",
    "\n",
    "alpha = 0.05 \n",
    "\n",
    "results = st.ttest_ind(sample_1, sample_2, equal_var=False)\n",
    "\n",
    "print('p-значение: ', results.pvalue)\n",
    "\n",
    "if results.pvalue < alpha:\n",
    "    print(\"Отвергаем нулевую гипотезу\")\n",
    "else:\n",
    "    print(\"Не получилось отвергнуть нулевую гипотезу\") \n"
   ]
  },
  {
   "cell_type": "markdown",
   "metadata": {},
   "source": [
    "Средние пользовательские рейтинги платформ Xbox ONE и PC ориентировочно одинаковые, т.к. не удалось отвергунть нулевую гипотезу"
   ]
  },
  {
   "cell_type": "markdown",
   "metadata": {},
   "source": [
    "##### Средние пользовательские рейтинги жанров Action (англ. «действие», экшен-игры) и Sports (англ. «спортивные соревнования») разные."
   ]
  },
  {
   "cell_type": "markdown",
   "metadata": {},
   "source": [
    "Нулевая гипотеза:\n",
    "\n",
    "- Средние пользовательские рейтинги жанров Action и Sports равны.\n",
    "\n",
    "Альтернативная гипотеза:\n",
    "\n",
    "- Средние пользовательские рейтинги жанров Action и Sports различаются."
   ]
  },
  {
   "cell_type": "code",
   "execution_count": 59,
   "metadata": {},
   "outputs": [
    {
     "name": "stdout",
     "output_type": "stream",
     "text": [
      "p-значение:  2.2251479989476883e-05\n",
      "Отвергаем нулевую гипотезу\n"
     ]
    }
   ],
   "source": [
    "df_action = df_new.dropna().query('genre == \"Action\"')\n",
    "df_sports = df_new.dropna().query('genre == \"Sports\"')\n",
    "\n",
    "sample_1 = df_sports['user_score']\n",
    "sample_2 = df_action['user_score']\n",
    "\n",
    "alpha = 0.05 \n",
    "\n",
    "results = st.ttest_ind(sample_1, sample_2, equal_var=False)\n",
    "\n",
    "print('p-значение: ', results.pvalue)\n",
    "\n",
    "if results.pvalue < alpha:\n",
    "    print(\"Отвергаем нулевую гипотезу\")\n",
    "else:\n",
    "    print(\"Не получилось отвергнуть нулевую гипотезу\") "
   ]
  },
  {
   "cell_type": "markdown",
   "metadata": {},
   "source": [
    "Гипотезу о том что средние пользовательские рейтинги жанров Action и Sports равны отвергаем. Значит есть разница между оценками игроков в жанре Action и Sports. "
   ]
  },
  {
   "cell_type": "markdown",
   "metadata": {},
   "source": [
    "# Выводы"
   ]
  },
  {
   "cell_type": "markdown",
   "metadata": {},
   "source": [
    "#### Провели предобработку данных:"
   ]
  },
  {
   "cell_type": "markdown",
   "metadata": {},
   "source": [
    "Обработали дупликаты:\n",
    "- Явные дупликаты в датафрейме отсутствуют.\n",
    "- Неявные Дубликаты в столбце 'name' отсутствуют. Те дубликаты что присутствуют, вызваны тем, что игры выходили на разнах платформах, либо переиздавалась.\n",
    "- Неявные Дубликаты в столбцах 'genre' и 'platform' также отсутствуют.\n",
    "\n",
    "Изменены типы данных в датафрейме:\n",
    "- year_of_realease — из float в int (в этом столбце года, писать их типом флоат нет нужды)\n",
    "- user_score — из object в int (тут числа, так что object не подходит)\n",
    "\n",
    "Обработали пропуски:\n",
    "- Обработаны пропуски в столбце year_of_release\n",
    "- Удалены пропуски в столбце name\n",
    "- Изучены и обработаны пропуски в столбце user_score\n",
    "- Изменены типы данных в столбцах year_of_realease — из float в int и user_score — из object в int\n",
    "- Посчитаны суммарные продажи во всех регионах и перенесены в новый признак датафрейма"
   ]
  },
  {
   "cell_type": "markdown",
   "metadata": {},
   "source": [
    "#### Провели исследовательский анализ данных за весь период и за актуальный период 5 лет"
   ]
  },
  {
   "cell_type": "markdown",
   "metadata": {},
   "source": [
    "- В период до 1993 года включительно выпускалось достаточно малое количество игр\n",
    "- В период с 1994 по 2016 гг. выпуск игр значительно вырос по сравнению с предыдущими годами, это наиболее важный период\n",
    "- Пик выпуска игр пришел на 2008-2009 гг.\n",
    "- После 2009 выпуск игр пошел на спад\n",
    "- Наиболее важный период для исследования - после 1993-94 гг. Т.к. до этого игр выпускалось совсем мало\n",
    "- Платформы с наибольшими продажами за все время: PS2, X360, PS3, Wii, DS, PS \n",
    "- Период за который появляются новые платформы и изчезают старые - около 9 лет, это очень хороши заметно на серии консолей PS."
   ]
  },
  {
   "cell_type": "markdown",
   "metadata": {},
   "source": [
    "#### Провели исследовательский анализ данных за актуальный период 2 года"
   ]
  },
  {
   "cell_type": "markdown",
   "metadata": {},
   "source": [
    "- Платформа с наибольшими продажами за 2 года - PS4.\n",
    "- По всем платформам сейчас идет снижение продаж\n",
    "- Наиболее прибыльные платформы сейчас: PS4, XOne, 3DS\n",
    "- Самой прибыльной платформой сейчас является PS4 \n",
    "- На втором месте также и XOne\n",
    "- На третьем месте идет 3DS "
   ]
  },
  {
   "cell_type": "markdown",
   "metadata": {},
   "source": [
    "Зависимость продаж от оценок критиков и пользователей\n",
    "- Корреляция пользовательских оценок очень низкая и близиться к нулю\n",
    "- Корреляция оценок критиков достаточно значительная и высокие оценкии существенно поднимают продажи игр\n",
    "- Между отзывами критиков и продажами на всех платформах есть небольшая положительная корреляция \n",
    "- Между отзывами пользователей и продажами на всех платформах есть очень слабая положительная корреляция"
   ]
  },
  {
   "cell_type": "markdown",
   "metadata": {},
   "source": [
    "Популярность жанров:\n",
    "- Жанр Shooter и Action опережает остальные жанры по продажам и находятся в лидерах. Причем жанр Shooter опережает все остальные жанры значительно по средней и медиане, это также самый прибыльный жанр по соотношению кол-ва игр и продаж, несмотря на то что их выпускается в несколько раз меньше чем в жанре Aсtion они опережают их по продажам.\n",
    "- На 3 и 4 месте Sports и Role-Playing. Эти жанры также опережают жанр Action по средней.\n",
    "- Похоже что в жанре Action держиться в топе по побльшой часте за счет большого кол-ва выпускаемых игр по сравнению с другими жанрами\n",
    "- Жанры с самыми плохии продажами: Puzzle, Adventure, Simulation"
   ]
  },
  {
   "cell_type": "markdown",
   "metadata": {},
   "source": [
    " Портрет пользователя каждого  региона (NA, EU, JP): \n",
    " \n",
    " - Популярность топ-2 платформ в Америке и Европе одинковая. В Европе на 3 месте по поулярности стоит PC, в то время как в Америке и Японии его нет даже в топ-5. В Японии лидер - 3DS.\n",
    "\n",
    "- Жанры в Европе и Америке практически одинаковые, разница только в жанрах на 5 месте - Racing(EU) и Misc(NA). В Японии самый популярный жанр - Action.\n",
    "\n",
    "- Пользователь NA - любит Shooter и Action, предпочитает играть на консолях.\n",
    "- Пользователь EU - также любит Shooter и Action, предпочитает играть на консолях и на PC\n",
    "- Пользователь JP - любит Action и Role-play, предпочитает играть на консолях.\n",
    "\n",
    "- В целом, сердний пользователь больше всего любит три жанр игр - Shooter, Action и Role-play и играет в онсовном на консолях"
   ]
  },
  {
   "cell_type": "markdown",
   "metadata": {},
   "source": [
    "Влияние рейтинга ESRB:\n",
    "- В Америке и Европе идентичная показатели продаж соответствующих рейтингов. Самый популярный рейтинг для выпуска игр: 'M', далее идут 'E', 'T', 'E10+'.\n",
    "- В Японии cамый популярный рейтинг для выпуска игр: 'T', далее идут 'E', 'M', 'E10+'.\n",
    "- Если брать продажи по всем регионам то лучший рейтинг - 'M', далее идут 'E', 'T', 'E10+'\n",
    "- 'E10+' самый непопулярный рейтинг во всех регионах"
   ]
  },
  {
   "cell_type": "markdown",
   "metadata": {},
   "source": [
    "#### Проверили гипотезы"
   ]
  },
  {
   "cell_type": "markdown",
   "metadata": {},
   "source": [
    "Нулевая гипотеза№1:\n",
    "\n",
    "- Средние пользовательские рейтинги платформ Xbox ONE и PC одинаковые.\n",
    "\n",
    "Средние пользовательские рейтинги платформ Xbox ONE и PC ориентировочно одинаковые, т.к. не удалось отвергунть нулевую гипотезу"
   ]
  },
  {
   "cell_type": "markdown",
   "metadata": {},
   "source": [
    "Нулевая гипотеза№2:\n",
    "\n",
    "- Средние пользовательские рейтинги жанров Action и Sports равны.\n",
    "\n",
    "Гипотезу о том что средние пользовательские рейтинги жанров Action и Sports различаются отвергаем. Значит есть разница между оценками игроков в жанре Action и Sports."
   ]
  }
 ],
 "metadata": {
  "ExecuteTimeLog": [
   {
    "duration": 1337,
    "start_time": "2023-03-28T08:18:49.553Z"
   },
   {
    "duration": 219,
    "start_time": "2023-03-28T08:20:46.081Z"
   },
   {
    "duration": 50,
    "start_time": "2023-03-28T08:20:55.873Z"
   },
   {
    "duration": 50,
    "start_time": "2023-03-28T08:20:57.908Z"
   },
   {
    "duration": 20,
    "start_time": "2023-03-28T08:21:07.346Z"
   },
   {
    "duration": 105,
    "start_time": "2023-03-28T08:28:03.430Z"
   },
   {
    "duration": 91,
    "start_time": "2023-03-28T08:28:12.274Z"
   },
   {
    "duration": 14,
    "start_time": "2023-03-28T08:28:17.963Z"
   },
   {
    "duration": 32,
    "start_time": "2023-03-28T08:52:36.114Z"
   },
   {
    "duration": 14,
    "start_time": "2023-03-28T08:53:17.024Z"
   },
   {
    "duration": 17,
    "start_time": "2023-03-28T08:53:31.000Z"
   },
   {
    "duration": 56,
    "start_time": "2023-03-29T06:56:54.979Z"
   },
   {
    "duration": 9,
    "start_time": "2023-03-29T06:56:59.876Z"
   },
   {
    "duration": 1352,
    "start_time": "2023-03-29T06:57:03.029Z"
   },
   {
    "duration": 117,
    "start_time": "2023-03-29T06:57:04.383Z"
   },
   {
    "duration": 15,
    "start_time": "2023-03-29T06:57:11.914Z"
   },
   {
    "duration": 63,
    "start_time": "2023-03-29T11:20:26.852Z"
   },
   {
    "duration": 10,
    "start_time": "2023-03-29T11:20:31.175Z"
   },
   {
    "duration": 588,
    "start_time": "2023-03-29T11:20:33.321Z"
   },
   {
    "duration": 19,
    "start_time": "2023-03-29T12:12:52.834Z"
   },
   {
    "duration": 9,
    "start_time": "2023-03-29T12:13:04.868Z"
   },
   {
    "duration": 3,
    "start_time": "2023-03-29T12:13:08.479Z"
   },
   {
    "duration": 1211,
    "start_time": "2023-03-29T12:13:13.773Z"
   },
   {
    "duration": 63,
    "start_time": "2023-03-29T12:13:14.987Z"
   },
   {
    "duration": 14,
    "start_time": "2023-03-29T12:13:15.052Z"
   },
   {
    "duration": 112,
    "start_time": "2023-03-29T12:13:15.068Z"
   },
   {
    "duration": 4,
    "start_time": "2023-03-29T12:18:43.378Z"
   },
   {
    "duration": 3,
    "start_time": "2023-03-29T12:18:44.840Z"
   },
   {
    "duration": 31,
    "start_time": "2023-03-29T12:18:50.970Z"
   },
   {
    "duration": 14,
    "start_time": "2023-03-29T12:36:15.307Z"
   },
   {
    "duration": 13,
    "start_time": "2023-03-29T12:43:44.814Z"
   },
   {
    "duration": 15,
    "start_time": "2023-03-29T12:43:50.073Z"
   },
   {
    "duration": 14,
    "start_time": "2023-03-29T12:44:02.831Z"
   },
   {
    "duration": 14,
    "start_time": "2023-03-29T12:44:06.228Z"
   },
   {
    "duration": 918,
    "start_time": "2023-03-29T13:28:30.922Z"
   },
   {
    "duration": 693,
    "start_time": "2023-03-29T13:29:13.341Z"
   },
   {
    "duration": 9,
    "start_time": "2023-03-29T13:31:02.667Z"
   },
   {
    "duration": 9,
    "start_time": "2023-03-29T13:31:04.175Z"
   },
   {
    "duration": 695,
    "start_time": "2023-03-29T13:32:25.475Z"
   },
   {
    "duration": 15,
    "start_time": "2023-03-29T13:33:03.568Z"
   },
   {
    "duration": 12,
    "start_time": "2023-03-29T13:35:25.692Z"
   },
   {
    "duration": 9,
    "start_time": "2023-03-29T13:35:42.949Z"
   },
   {
    "duration": 9,
    "start_time": "2023-03-29T13:35:48.817Z"
   },
   {
    "duration": 11,
    "start_time": "2023-03-29T13:36:05.816Z"
   },
   {
    "duration": 13,
    "start_time": "2023-03-29T13:36:07.874Z"
   },
   {
    "duration": 12,
    "start_time": "2023-03-29T13:36:09.559Z"
   },
   {
    "duration": 38,
    "start_time": "2023-03-29T13:36:52.454Z"
   },
   {
    "duration": 12,
    "start_time": "2023-03-29T13:37:05.003Z"
   },
   {
    "duration": 6,
    "start_time": "2023-03-29T13:37:14.375Z"
   },
   {
    "duration": 7,
    "start_time": "2023-03-29T13:37:31.244Z"
   },
   {
    "duration": 15,
    "start_time": "2023-03-29T13:37:35.203Z"
   },
   {
    "duration": 5,
    "start_time": "2023-03-29T13:37:37.631Z"
   },
   {
    "duration": 7,
    "start_time": "2023-03-29T13:37:41.719Z"
   },
   {
    "duration": 8,
    "start_time": "2023-03-29T13:50:50.218Z"
   },
   {
    "duration": 8,
    "start_time": "2023-03-29T13:51:48.825Z"
   },
   {
    "duration": 9,
    "start_time": "2023-03-29T13:51:52.287Z"
   },
   {
    "duration": 18,
    "start_time": "2023-03-29T13:52:25.505Z"
   },
   {
    "duration": 16,
    "start_time": "2023-03-29T13:52:32.658Z"
   },
   {
    "duration": 13,
    "start_time": "2023-03-29T13:55:46.531Z"
   },
   {
    "duration": 43,
    "start_time": "2023-03-29T13:57:02.783Z"
   },
   {
    "duration": 14,
    "start_time": "2023-03-29T13:58:24.800Z"
   },
   {
    "duration": 31,
    "start_time": "2023-03-29T14:00:32.656Z"
   },
   {
    "duration": 23,
    "start_time": "2023-03-29T14:00:34.899Z"
   },
   {
    "duration": 7,
    "start_time": "2023-03-29T14:02:13.376Z"
   },
   {
    "duration": 11,
    "start_time": "2023-03-29T14:02:15.772Z"
   },
   {
    "duration": 7,
    "start_time": "2023-03-29T14:02:19.257Z"
   },
   {
    "duration": 11,
    "start_time": "2023-03-29T14:02:21.198Z"
   },
   {
    "duration": 14,
    "start_time": "2023-03-29T14:02:59.417Z"
   },
   {
    "duration": 30,
    "start_time": "2023-03-29T14:03:01.552Z"
   },
   {
    "duration": 25,
    "start_time": "2023-03-29T14:03:12.682Z"
   },
   {
    "duration": 631,
    "start_time": "2023-03-29T14:03:17.361Z"
   },
   {
    "duration": 24,
    "start_time": "2023-03-29T14:03:23.606Z"
   },
   {
    "duration": 55,
    "start_time": "2023-03-29T14:09:25.412Z"
   },
   {
    "duration": 30,
    "start_time": "2023-03-29T14:09:54.568Z"
   },
   {
    "duration": 9,
    "start_time": "2023-03-29T14:10:44.862Z"
   },
   {
    "duration": 17,
    "start_time": "2023-03-29T14:11:02.282Z"
   },
   {
    "duration": 15,
    "start_time": "2023-03-29T14:11:07.549Z"
   },
   {
    "duration": 60,
    "start_time": "2023-03-29T15:25:49.486Z"
   },
   {
    "duration": 15,
    "start_time": "2023-03-29T15:25:56.090Z"
   },
   {
    "duration": 59,
    "start_time": "2023-03-29T15:28:12.124Z"
   },
   {
    "duration": 8,
    "start_time": "2023-03-29T15:29:32.496Z"
   },
   {
    "duration": 18,
    "start_time": "2023-03-29T15:30:14.267Z"
   },
   {
    "duration": 51,
    "start_time": "2023-03-29T15:34:02.015Z"
   },
   {
    "duration": 37,
    "start_time": "2023-03-29T15:38:51.871Z"
   },
   {
    "duration": 16,
    "start_time": "2023-03-29T15:39:02.693Z"
   },
   {
    "duration": 18,
    "start_time": "2023-03-29T15:40:32.548Z"
   },
   {
    "duration": 29,
    "start_time": "2023-03-29T15:41:34.263Z"
   },
   {
    "duration": 14,
    "start_time": "2023-03-29T15:41:40.654Z"
   },
   {
    "duration": 30,
    "start_time": "2023-03-29T15:41:43.664Z"
   },
   {
    "duration": 13,
    "start_time": "2023-03-29T15:41:45.988Z"
   },
   {
    "duration": 32,
    "start_time": "2023-03-29T15:41:52.647Z"
   },
   {
    "duration": 49,
    "start_time": "2023-03-30T08:05:05.417Z"
   },
   {
    "duration": 1430,
    "start_time": "2023-03-30T08:05:11.760Z"
   },
   {
    "duration": 134,
    "start_time": "2023-03-30T08:05:13.192Z"
   },
   {
    "duration": 16,
    "start_time": "2023-03-30T08:05:13.328Z"
   },
   {
    "duration": 16,
    "start_time": "2023-03-30T08:05:13.345Z"
   },
   {
    "duration": 20,
    "start_time": "2023-03-30T08:05:13.364Z"
   },
   {
    "duration": 17,
    "start_time": "2023-03-30T08:05:13.387Z"
   },
   {
    "duration": 32,
    "start_time": "2023-03-30T08:05:13.412Z"
   },
   {
    "duration": 64,
    "start_time": "2023-03-30T08:05:13.446Z"
   },
   {
    "duration": 15,
    "start_time": "2023-03-30T08:05:13.511Z"
   },
   {
    "duration": 129,
    "start_time": "2023-03-30T08:05:13.527Z"
   },
   {
    "duration": 11,
    "start_time": "2023-03-30T08:10:54.251Z"
   },
   {
    "duration": 9,
    "start_time": "2023-03-30T08:11:00.197Z"
   },
   {
    "duration": 13,
    "start_time": "2023-03-30T08:11:07.588Z"
   },
   {
    "duration": 7,
    "start_time": "2023-03-30T08:11:13.804Z"
   },
   {
    "duration": 11,
    "start_time": "2023-03-30T08:11:47.747Z"
   },
   {
    "duration": 7,
    "start_time": "2023-03-30T08:11:55.034Z"
   },
   {
    "duration": 29,
    "start_time": "2023-03-30T08:13:24.828Z"
   },
   {
    "duration": 50,
    "start_time": "2023-03-30T08:14:41.050Z"
   },
   {
    "duration": 34,
    "start_time": "2023-03-30T08:14:45.217Z"
   },
   {
    "duration": 77,
    "start_time": "2023-03-30T08:15:21.125Z"
   },
   {
    "duration": 35,
    "start_time": "2023-03-30T08:15:23.602Z"
   },
   {
    "duration": 45,
    "start_time": "2023-03-30T08:15:26.662Z"
   },
   {
    "duration": 50,
    "start_time": "2023-03-30T08:15:30.858Z"
   },
   {
    "duration": 12,
    "start_time": "2023-03-30T08:15:41.204Z"
   },
   {
    "duration": 43,
    "start_time": "2023-03-30T08:15:42.710Z"
   },
   {
    "duration": 11,
    "start_time": "2023-03-30T08:16:41.191Z"
   },
   {
    "duration": 16,
    "start_time": "2023-03-30T08:17:00.548Z"
   },
   {
    "duration": 29,
    "start_time": "2023-03-30T08:17:06.592Z"
   },
   {
    "duration": 58,
    "start_time": "2023-03-30T08:17:14.706Z"
   },
   {
    "duration": 14,
    "start_time": "2023-03-30T08:19:13.991Z"
   },
   {
    "duration": 32,
    "start_time": "2023-03-30T08:19:16.963Z"
   },
   {
    "duration": 20,
    "start_time": "2023-03-30T08:20:05.802Z"
   },
   {
    "duration": 14,
    "start_time": "2023-03-30T08:20:25.502Z"
   },
   {
    "duration": 22,
    "start_time": "2023-03-30T08:20:37.602Z"
   },
   {
    "duration": 31,
    "start_time": "2023-03-30T08:20:44.534Z"
   },
   {
    "duration": 97,
    "start_time": "2023-03-30T08:20:56.220Z"
   },
   {
    "duration": 59,
    "start_time": "2023-03-30T08:21:15.203Z"
   },
   {
    "duration": 29,
    "start_time": "2023-03-30T08:26:37.485Z"
   },
   {
    "duration": 10,
    "start_time": "2023-03-30T09:00:27.370Z"
   },
   {
    "duration": 8,
    "start_time": "2023-03-30T09:18:27.746Z"
   },
   {
    "duration": 11,
    "start_time": "2023-03-30T09:18:31.369Z"
   },
   {
    "duration": 9,
    "start_time": "2023-03-30T09:18:33.616Z"
   },
   {
    "duration": 3,
    "start_time": "2023-03-30T09:18:39.658Z"
   },
   {
    "duration": 10,
    "start_time": "2023-03-30T09:21:14.430Z"
   },
   {
    "duration": 13,
    "start_time": "2023-03-30T09:21:54.336Z"
   },
   {
    "duration": 7,
    "start_time": "2023-03-30T09:22:24.497Z"
   },
   {
    "duration": 10,
    "start_time": "2023-03-30T09:25:16.721Z"
   },
   {
    "duration": 7,
    "start_time": "2023-03-30T09:26:15.608Z"
   },
   {
    "duration": 16,
    "start_time": "2023-03-30T09:29:27.986Z"
   },
   {
    "duration": 8,
    "start_time": "2023-03-30T09:35:53.452Z"
   },
   {
    "duration": 27,
    "start_time": "2023-03-30T09:37:03.266Z"
   },
   {
    "duration": 9,
    "start_time": "2023-03-30T09:37:51.427Z"
   },
   {
    "duration": 9,
    "start_time": "2023-03-30T09:38:14.731Z"
   },
   {
    "duration": 1523,
    "start_time": "2023-03-30T12:48:04.572Z"
   },
   {
    "duration": 112,
    "start_time": "2023-03-30T12:48:06.097Z"
   },
   {
    "duration": 18,
    "start_time": "2023-03-30T12:48:06.211Z"
   },
   {
    "duration": 17,
    "start_time": "2023-03-30T12:48:06.230Z"
   },
   {
    "duration": 24,
    "start_time": "2023-03-30T12:48:06.261Z"
   },
   {
    "duration": 18,
    "start_time": "2023-03-30T12:48:06.287Z"
   },
   {
    "duration": 83,
    "start_time": "2023-03-30T12:48:06.309Z"
   },
   {
    "duration": 33,
    "start_time": "2023-03-30T12:48:06.396Z"
   },
   {
    "duration": 52,
    "start_time": "2023-03-30T12:48:06.431Z"
   },
   {
    "duration": 17,
    "start_time": "2023-03-30T12:48:06.485Z"
   },
   {
    "duration": 22,
    "start_time": "2023-03-30T12:48:06.504Z"
   },
   {
    "duration": 31,
    "start_time": "2023-03-30T12:48:06.528Z"
   },
   {
    "duration": 39,
    "start_time": "2023-03-30T12:48:06.561Z"
   },
   {
    "duration": 9,
    "start_time": "2023-03-30T12:48:06.603Z"
   },
   {
    "duration": 33,
    "start_time": "2023-03-30T12:48:06.614Z"
   },
   {
    "duration": 5,
    "start_time": "2023-03-30T12:48:06.649Z"
   },
   {
    "duration": 15,
    "start_time": "2023-03-30T12:55:24.405Z"
   },
   {
    "duration": 1145,
    "start_time": "2023-03-30T12:56:59.097Z"
   },
   {
    "duration": 67,
    "start_time": "2023-03-30T12:57:00.244Z"
   },
   {
    "duration": 17,
    "start_time": "2023-03-30T12:57:00.312Z"
   },
   {
    "duration": 43,
    "start_time": "2023-03-30T12:57:00.332Z"
   },
   {
    "duration": 34,
    "start_time": "2023-03-30T12:57:00.378Z"
   },
   {
    "duration": 26,
    "start_time": "2023-03-30T12:57:00.415Z"
   },
   {
    "duration": 59,
    "start_time": "2023-03-30T12:57:00.443Z"
   },
   {
    "duration": 31,
    "start_time": "2023-03-30T12:57:00.504Z"
   },
   {
    "duration": 62,
    "start_time": "2023-03-30T12:57:00.537Z"
   },
   {
    "duration": 27,
    "start_time": "2023-03-30T12:57:00.601Z"
   },
   {
    "duration": 29,
    "start_time": "2023-03-30T12:57:00.630Z"
   },
   {
    "duration": 43,
    "start_time": "2023-03-30T12:57:00.661Z"
   },
   {
    "duration": 40,
    "start_time": "2023-03-30T12:57:00.706Z"
   },
   {
    "duration": 29,
    "start_time": "2023-03-30T12:57:00.749Z"
   },
   {
    "duration": 28,
    "start_time": "2023-03-30T12:57:00.780Z"
   },
   {
    "duration": 30,
    "start_time": "2023-03-30T12:57:00.810Z"
   },
   {
    "duration": 179,
    "start_time": "2023-03-30T12:57:00.842Z"
   },
   {
    "duration": 1383,
    "start_time": "2023-03-30T14:03:47.505Z"
   },
   {
    "duration": 92,
    "start_time": "2023-03-30T14:03:48.892Z"
   },
   {
    "duration": 25,
    "start_time": "2023-03-30T14:03:48.986Z"
   },
   {
    "duration": 17,
    "start_time": "2023-03-30T14:03:49.014Z"
   },
   {
    "duration": 48,
    "start_time": "2023-03-30T14:03:49.033Z"
   },
   {
    "duration": 16,
    "start_time": "2023-03-30T14:03:49.083Z"
   },
   {
    "duration": 46,
    "start_time": "2023-03-30T14:03:49.101Z"
   },
   {
    "duration": 28,
    "start_time": "2023-03-30T14:03:49.162Z"
   },
   {
    "duration": 20,
    "start_time": "2023-03-30T14:03:49.192Z"
   },
   {
    "duration": 11,
    "start_time": "2023-03-30T14:03:49.216Z"
   },
   {
    "duration": 34,
    "start_time": "2023-03-30T14:03:49.229Z"
   },
   {
    "duration": 23,
    "start_time": "2023-03-30T14:03:49.265Z"
   },
   {
    "duration": 15,
    "start_time": "2023-03-30T14:03:49.290Z"
   },
   {
    "duration": 8,
    "start_time": "2023-03-30T14:03:49.309Z"
   },
   {
    "duration": 11,
    "start_time": "2023-03-30T14:03:49.318Z"
   },
   {
    "duration": 44,
    "start_time": "2023-03-30T14:03:49.331Z"
   },
   {
    "duration": 151,
    "start_time": "2023-03-30T14:03:49.377Z"
   },
   {
    "duration": 13,
    "start_time": "2023-03-30T14:04:45.779Z"
   },
   {
    "duration": 11,
    "start_time": "2023-03-30T14:04:57.044Z"
   },
   {
    "duration": 1239,
    "start_time": "2023-03-30T14:05:02.095Z"
   },
   {
    "duration": 80,
    "start_time": "2023-03-30T14:05:03.336Z"
   },
   {
    "duration": 29,
    "start_time": "2023-03-30T14:05:03.418Z"
   },
   {
    "duration": 33,
    "start_time": "2023-03-30T14:05:03.449Z"
   },
   {
    "duration": 24,
    "start_time": "2023-03-30T14:05:03.485Z"
   },
   {
    "duration": 17,
    "start_time": "2023-03-30T14:05:03.510Z"
   },
   {
    "duration": 77,
    "start_time": "2023-03-30T14:05:03.530Z"
   },
   {
    "duration": 23,
    "start_time": "2023-03-30T14:05:03.609Z"
   },
   {
    "duration": 57,
    "start_time": "2023-03-30T14:05:03.633Z"
   },
   {
    "duration": 16,
    "start_time": "2023-03-30T14:05:03.692Z"
   },
   {
    "duration": 23,
    "start_time": "2023-03-30T14:05:03.711Z"
   },
   {
    "duration": 14,
    "start_time": "2023-03-30T14:05:03.736Z"
   },
   {
    "duration": 18,
    "start_time": "2023-03-30T14:05:03.752Z"
   },
   {
    "duration": 16,
    "start_time": "2023-03-30T14:05:03.773Z"
   },
   {
    "duration": 61,
    "start_time": "2023-03-30T14:05:03.791Z"
   },
   {
    "duration": 17,
    "start_time": "2023-03-30T14:05:03.854Z"
   },
   {
    "duration": 142,
    "start_time": "2023-03-30T14:05:03.873Z"
   },
   {
    "duration": 11,
    "start_time": "2023-03-30T14:06:10.053Z"
   },
   {
    "duration": 9,
    "start_time": "2023-03-30T14:10:26.282Z"
   },
   {
    "duration": 14,
    "start_time": "2023-03-30T14:10:27.973Z"
   },
   {
    "duration": 1100,
    "start_time": "2023-03-30T17:05:47.294Z"
   },
   {
    "duration": 60,
    "start_time": "2023-03-30T17:05:48.396Z"
   },
   {
    "duration": 13,
    "start_time": "2023-03-30T17:05:48.458Z"
   },
   {
    "duration": 12,
    "start_time": "2023-03-30T17:05:48.473Z"
   },
   {
    "duration": 16,
    "start_time": "2023-03-30T17:05:48.487Z"
   },
   {
    "duration": 10,
    "start_time": "2023-03-30T17:05:48.504Z"
   },
   {
    "duration": 59,
    "start_time": "2023-03-30T17:05:48.516Z"
   },
   {
    "duration": 20,
    "start_time": "2023-03-30T17:05:48.577Z"
   },
   {
    "duration": 16,
    "start_time": "2023-03-30T17:05:48.598Z"
   },
   {
    "duration": 7,
    "start_time": "2023-03-30T17:05:48.616Z"
   },
   {
    "duration": 12,
    "start_time": "2023-03-30T17:05:48.624Z"
   },
   {
    "duration": 31,
    "start_time": "2023-03-30T17:05:48.638Z"
   },
   {
    "duration": 10,
    "start_time": "2023-03-30T17:05:48.671Z"
   },
   {
    "duration": 7,
    "start_time": "2023-03-30T17:05:48.683Z"
   },
   {
    "duration": 9,
    "start_time": "2023-03-30T17:05:48.691Z"
   },
   {
    "duration": 13,
    "start_time": "2023-03-30T17:05:48.701Z"
   },
   {
    "duration": 5,
    "start_time": "2023-03-30T17:05:48.715Z"
   },
   {
    "duration": 1450,
    "start_time": "2023-03-31T09:15:24.885Z"
   },
   {
    "duration": 422,
    "start_time": "2023-03-31T09:15:26.337Z"
   },
   {
    "duration": 16,
    "start_time": "2023-03-31T09:15:26.760Z"
   },
   {
    "duration": 16,
    "start_time": "2023-03-31T09:15:26.932Z"
   },
   {
    "duration": 18,
    "start_time": "2023-03-31T09:15:27.660Z"
   },
   {
    "duration": 12,
    "start_time": "2023-03-31T09:15:28.044Z"
   },
   {
    "duration": 33,
    "start_time": "2023-03-31T09:15:28.267Z"
   },
   {
    "duration": 21,
    "start_time": "2023-03-31T09:15:28.837Z"
   },
   {
    "duration": 18,
    "start_time": "2023-03-31T09:15:29.233Z"
   },
   {
    "duration": 7,
    "start_time": "2023-03-31T09:15:29.684Z"
   },
   {
    "duration": 8,
    "start_time": "2023-03-31T09:15:30.126Z"
   },
   {
    "duration": 10,
    "start_time": "2023-03-31T09:15:31.282Z"
   },
   {
    "duration": 11,
    "start_time": "2023-03-31T09:15:31.795Z"
   },
   {
    "duration": 8,
    "start_time": "2023-03-31T09:15:32.635Z"
   },
   {
    "duration": 12,
    "start_time": "2023-03-31T09:15:33.283Z"
   },
   {
    "duration": 16,
    "start_time": "2023-03-31T09:15:33.852Z"
   },
   {
    "duration": 8,
    "start_time": "2023-03-31T09:15:37.001Z"
   },
   {
    "duration": 8,
    "start_time": "2023-03-31T09:15:40.235Z"
   },
   {
    "duration": 11,
    "start_time": "2023-03-31T09:15:43.239Z"
   },
   {
    "duration": 8,
    "start_time": "2023-03-31T09:15:47.226Z"
   },
   {
    "duration": 12,
    "start_time": "2023-03-31T09:15:55.078Z"
   },
   {
    "duration": 8,
    "start_time": "2023-03-31T09:16:51.819Z"
   },
   {
    "duration": 74,
    "start_time": "2023-03-31T09:16:53.007Z"
   },
   {
    "duration": 105,
    "start_time": "2023-03-31T09:17:47.612Z"
   },
   {
    "duration": 190,
    "start_time": "2023-03-31T09:18:08.724Z"
   },
   {
    "duration": 8,
    "start_time": "2023-03-31T09:18:14.268Z"
   },
   {
    "duration": 7,
    "start_time": "2023-03-31T09:18:38.788Z"
   },
   {
    "duration": 8,
    "start_time": "2023-03-31T09:21:03.044Z"
   },
   {
    "duration": 7,
    "start_time": "2023-03-31T09:21:33.717Z"
   },
   {
    "duration": 10,
    "start_time": "2023-03-31T09:21:35.697Z"
   },
   {
    "duration": 8,
    "start_time": "2023-03-31T09:21:48.038Z"
   },
   {
    "duration": 135,
    "start_time": "2023-03-31T09:22:16.586Z"
   },
   {
    "duration": 10,
    "start_time": "2023-03-31T10:05:30.570Z"
   },
   {
    "duration": 2388,
    "start_time": "2023-03-31T10:07:17.017Z"
   },
   {
    "duration": 26,
    "start_time": "2023-03-31T10:07:55.640Z"
   },
   {
    "duration": 27,
    "start_time": "2023-03-31T10:08:02.511Z"
   },
   {
    "duration": 190,
    "start_time": "2023-03-31T10:08:10.903Z"
   },
   {
    "duration": 35,
    "start_time": "2023-03-31T10:08:15.991Z"
   },
   {
    "duration": 8,
    "start_time": "2023-03-31T11:12:54.645Z"
   },
   {
    "duration": 26,
    "start_time": "2023-03-31T11:13:12.531Z"
   },
   {
    "duration": 126,
    "start_time": "2023-03-31T11:17:03.272Z"
   },
   {
    "duration": 5,
    "start_time": "2023-03-31T11:18:36.268Z"
   },
   {
    "duration": 15,
    "start_time": "2023-03-31T11:18:39.655Z"
   },
   {
    "duration": 457,
    "start_time": "2023-03-31T11:18:57.076Z"
   },
   {
    "duration": 21,
    "start_time": "2023-03-31T11:19:03.905Z"
   },
   {
    "duration": 3,
    "start_time": "2023-03-31T11:19:15.050Z"
   },
   {
    "duration": 19,
    "start_time": "2023-03-31T11:19:16.219Z"
   },
   {
    "duration": 17,
    "start_time": "2023-03-31T11:19:49.310Z"
   },
   {
    "duration": 118,
    "start_time": "2023-03-31T11:22:21.560Z"
   },
   {
    "duration": 24,
    "start_time": "2023-03-31T11:24:10.248Z"
   },
   {
    "duration": 50,
    "start_time": "2023-03-31T13:56:03.178Z"
   },
   {
    "duration": 1490,
    "start_time": "2023-03-31T13:56:26.426Z"
   },
   {
    "duration": 116,
    "start_time": "2023-03-31T13:56:27.918Z"
   },
   {
    "duration": 15,
    "start_time": "2023-03-31T13:56:28.036Z"
   },
   {
    "duration": 32,
    "start_time": "2023-03-31T13:56:28.053Z"
   },
   {
    "duration": 19,
    "start_time": "2023-03-31T13:56:28.087Z"
   },
   {
    "duration": 16,
    "start_time": "2023-03-31T13:56:28.108Z"
   },
   {
    "duration": 48,
    "start_time": "2023-03-31T13:56:28.126Z"
   },
   {
    "duration": 20,
    "start_time": "2023-03-31T13:56:28.177Z"
   },
   {
    "duration": 17,
    "start_time": "2023-03-31T13:56:28.199Z"
   },
   {
    "duration": 25,
    "start_time": "2023-03-31T13:56:28.219Z"
   },
   {
    "duration": 20,
    "start_time": "2023-03-31T13:56:28.246Z"
   },
   {
    "duration": 16,
    "start_time": "2023-03-31T13:56:28.268Z"
   },
   {
    "duration": 11,
    "start_time": "2023-03-31T13:56:28.286Z"
   },
   {
    "duration": 7,
    "start_time": "2023-03-31T13:56:28.299Z"
   },
   {
    "duration": 10,
    "start_time": "2023-03-31T13:56:28.307Z"
   },
   {
    "duration": 46,
    "start_time": "2023-03-31T13:56:28.319Z"
   },
   {
    "duration": 11,
    "start_time": "2023-03-31T13:56:28.367Z"
   },
   {
    "duration": 16,
    "start_time": "2023-03-31T13:56:28.380Z"
   },
   {
    "duration": 14,
    "start_time": "2023-03-31T13:56:28.398Z"
   },
   {
    "duration": 24,
    "start_time": "2023-03-31T13:56:28.413Z"
   },
   {
    "duration": 51,
    "start_time": "2023-03-31T13:56:28.439Z"
   },
   {
    "duration": 22,
    "start_time": "2023-03-31T13:56:28.491Z"
   },
   {
    "duration": 3,
    "start_time": "2023-03-31T13:56:28.515Z"
   },
   {
    "duration": 24,
    "start_time": "2023-03-31T13:56:28.520Z"
   },
   {
    "duration": 26,
    "start_time": "2023-03-31T13:56:28.546Z"
   },
   {
    "duration": 22,
    "start_time": "2023-03-31T13:56:28.573Z"
   },
   {
    "duration": 120,
    "start_time": "2023-03-31T13:56:28.597Z"
   },
   {
    "duration": 40,
    "start_time": "2023-03-31T13:56:33.047Z"
   },
   {
    "duration": 22,
    "start_time": "2023-03-31T13:56:51.291Z"
   },
   {
    "duration": 38,
    "start_time": "2023-03-31T13:57:03.757Z"
   },
   {
    "duration": 30,
    "start_time": "2023-03-31T13:59:49.800Z"
   },
   {
    "duration": 35,
    "start_time": "2023-03-31T14:06:22.762Z"
   },
   {
    "duration": 25,
    "start_time": "2023-03-31T14:06:28.714Z"
   },
   {
    "duration": 48,
    "start_time": "2023-03-31T14:06:40.896Z"
   },
   {
    "duration": 19,
    "start_time": "2023-03-31T14:07:34.446Z"
   },
   {
    "duration": 25,
    "start_time": "2023-03-31T14:07:51.896Z"
   },
   {
    "duration": 19,
    "start_time": "2023-03-31T14:08:09.660Z"
   },
   {
    "duration": 158,
    "start_time": "2023-03-31T14:29:18.438Z"
   },
   {
    "duration": 111,
    "start_time": "2023-03-31T14:29:44.826Z"
   },
   {
    "duration": 181,
    "start_time": "2023-03-31T14:30:00.680Z"
   },
   {
    "duration": 1191,
    "start_time": "2023-03-31T14:35:49.528Z"
   },
   {
    "duration": 69,
    "start_time": "2023-03-31T14:35:50.721Z"
   },
   {
    "duration": 18,
    "start_time": "2023-03-31T14:35:50.791Z"
   },
   {
    "duration": 18,
    "start_time": "2023-03-31T14:35:50.811Z"
   },
   {
    "duration": 34,
    "start_time": "2023-03-31T14:35:50.830Z"
   },
   {
    "duration": 15,
    "start_time": "2023-03-31T14:35:50.866Z"
   },
   {
    "duration": 57,
    "start_time": "2023-03-31T14:35:50.883Z"
   },
   {
    "duration": 42,
    "start_time": "2023-03-31T14:35:50.942Z"
   },
   {
    "duration": 24,
    "start_time": "2023-03-31T14:35:50.986Z"
   },
   {
    "duration": 14,
    "start_time": "2023-03-31T14:35:51.013Z"
   },
   {
    "duration": 23,
    "start_time": "2023-03-31T14:35:51.030Z"
   },
   {
    "duration": 15,
    "start_time": "2023-03-31T14:35:51.055Z"
   },
   {
    "duration": 16,
    "start_time": "2023-03-31T14:35:51.072Z"
   },
   {
    "duration": 16,
    "start_time": "2023-03-31T14:35:51.090Z"
   },
   {
    "duration": 15,
    "start_time": "2023-03-31T14:35:51.108Z"
   },
   {
    "duration": 15,
    "start_time": "2023-03-31T14:35:51.125Z"
   },
   {
    "duration": 6,
    "start_time": "2023-03-31T14:35:51.162Z"
   },
   {
    "duration": 17,
    "start_time": "2023-03-31T14:35:51.170Z"
   },
   {
    "duration": 9,
    "start_time": "2023-03-31T14:35:51.189Z"
   },
   {
    "duration": 24,
    "start_time": "2023-03-31T14:35:51.200Z"
   },
   {
    "duration": 9,
    "start_time": "2023-03-31T14:35:51.225Z"
   },
   {
    "duration": 21,
    "start_time": "2023-03-31T14:35:51.262Z"
   },
   {
    "duration": 4,
    "start_time": "2023-03-31T14:35:51.285Z"
   },
   {
    "duration": 24,
    "start_time": "2023-03-31T14:35:51.291Z"
   },
   {
    "duration": 46,
    "start_time": "2023-03-31T14:35:51.318Z"
   },
   {
    "duration": 24,
    "start_time": "2023-03-31T14:35:51.367Z"
   },
   {
    "duration": 17,
    "start_time": "2023-03-31T14:35:51.392Z"
   },
   {
    "duration": 1210,
    "start_time": "2023-03-31T14:36:28.414Z"
   },
   {
    "duration": 69,
    "start_time": "2023-03-31T14:36:29.626Z"
   },
   {
    "duration": 16,
    "start_time": "2023-03-31T14:36:29.696Z"
   },
   {
    "duration": 17,
    "start_time": "2023-03-31T14:36:29.714Z"
   },
   {
    "duration": 39,
    "start_time": "2023-03-31T14:36:29.734Z"
   },
   {
    "duration": 15,
    "start_time": "2023-03-31T14:36:29.775Z"
   },
   {
    "duration": 35,
    "start_time": "2023-03-31T14:36:29.793Z"
   },
   {
    "duration": 53,
    "start_time": "2023-03-31T14:36:29.830Z"
   },
   {
    "duration": 25,
    "start_time": "2023-03-31T14:36:29.886Z"
   },
   {
    "duration": 13,
    "start_time": "2023-03-31T14:36:29.913Z"
   },
   {
    "duration": 35,
    "start_time": "2023-03-31T14:36:29.928Z"
   },
   {
    "duration": 14,
    "start_time": "2023-03-31T14:36:29.965Z"
   },
   {
    "duration": 11,
    "start_time": "2023-03-31T14:36:29.981Z"
   },
   {
    "duration": 8,
    "start_time": "2023-03-31T14:36:29.995Z"
   },
   {
    "duration": 32,
    "start_time": "2023-03-31T14:36:30.004Z"
   },
   {
    "duration": 24,
    "start_time": "2023-03-31T14:36:30.038Z"
   },
   {
    "duration": 9,
    "start_time": "2023-03-31T14:36:30.064Z"
   },
   {
    "duration": 26,
    "start_time": "2023-03-31T14:36:30.075Z"
   },
   {
    "duration": 49,
    "start_time": "2023-03-31T14:36:30.103Z"
   },
   {
    "duration": 38,
    "start_time": "2023-03-31T14:36:30.154Z"
   },
   {
    "duration": 32,
    "start_time": "2023-03-31T14:36:30.194Z"
   },
   {
    "duration": 41,
    "start_time": "2023-03-31T14:36:30.228Z"
   },
   {
    "duration": 17,
    "start_time": "2023-03-31T14:36:30.270Z"
   },
   {
    "duration": 49,
    "start_time": "2023-03-31T14:36:30.289Z"
   },
   {
    "duration": 48,
    "start_time": "2023-03-31T14:36:30.340Z"
   },
   {
    "duration": 27,
    "start_time": "2023-03-31T14:36:30.390Z"
   },
   {
    "duration": 1235,
    "start_time": "2023-03-31T14:38:10.561Z"
   },
   {
    "duration": 65,
    "start_time": "2023-03-31T14:38:11.798Z"
   },
   {
    "duration": 14,
    "start_time": "2023-03-31T14:38:11.865Z"
   },
   {
    "duration": 14,
    "start_time": "2023-03-31T14:38:11.882Z"
   },
   {
    "duration": 17,
    "start_time": "2023-03-31T14:38:11.898Z"
   },
   {
    "duration": 45,
    "start_time": "2023-03-31T14:38:11.917Z"
   },
   {
    "duration": 33,
    "start_time": "2023-03-31T14:38:11.964Z"
   },
   {
    "duration": 20,
    "start_time": "2023-03-31T14:38:11.999Z"
   },
   {
    "duration": 48,
    "start_time": "2023-03-31T14:38:12.021Z"
   },
   {
    "duration": 14,
    "start_time": "2023-03-31T14:38:12.071Z"
   },
   {
    "duration": 24,
    "start_time": "2023-03-31T14:38:12.086Z"
   },
   {
    "duration": 37,
    "start_time": "2023-03-31T14:38:12.112Z"
   },
   {
    "duration": 18,
    "start_time": "2023-03-31T14:38:12.151Z"
   },
   {
    "duration": 17,
    "start_time": "2023-03-31T14:38:12.171Z"
   },
   {
    "duration": 30,
    "start_time": "2023-03-31T14:38:12.190Z"
   },
   {
    "duration": 37,
    "start_time": "2023-03-31T14:38:12.223Z"
   },
   {
    "duration": 28,
    "start_time": "2023-03-31T14:38:12.262Z"
   },
   {
    "duration": 18,
    "start_time": "2023-03-31T14:38:12.292Z"
   },
   {
    "duration": 11,
    "start_time": "2023-03-31T14:38:12.312Z"
   },
   {
    "duration": 35,
    "start_time": "2023-03-31T14:38:12.325Z"
   },
   {
    "duration": 11,
    "start_time": "2023-03-31T14:38:12.361Z"
   },
   {
    "duration": 19,
    "start_time": "2023-03-31T14:38:12.374Z"
   },
   {
    "duration": 4,
    "start_time": "2023-03-31T14:38:12.395Z"
   },
   {
    "duration": 17,
    "start_time": "2023-03-31T14:38:12.401Z"
   },
   {
    "duration": 17,
    "start_time": "2023-03-31T14:38:12.420Z"
   },
   {
    "duration": 39,
    "start_time": "2023-03-31T14:38:12.439Z"
   },
   {
    "duration": 20,
    "start_time": "2023-03-31T14:38:12.480Z"
   },
   {
    "duration": 1197,
    "start_time": "2023-03-31T14:47:40.807Z"
   },
   {
    "duration": 66,
    "start_time": "2023-03-31T14:47:42.006Z"
   },
   {
    "duration": 16,
    "start_time": "2023-03-31T14:47:42.075Z"
   },
   {
    "duration": 15,
    "start_time": "2023-03-31T14:47:42.094Z"
   },
   {
    "duration": 20,
    "start_time": "2023-03-31T14:47:42.111Z"
   },
   {
    "duration": 36,
    "start_time": "2023-03-31T14:47:42.132Z"
   },
   {
    "duration": 35,
    "start_time": "2023-03-31T14:47:42.170Z"
   },
   {
    "duration": 20,
    "start_time": "2023-03-31T14:47:42.207Z"
   },
   {
    "duration": 44,
    "start_time": "2023-03-31T14:47:42.229Z"
   },
   {
    "duration": 8,
    "start_time": "2023-03-31T14:47:42.275Z"
   },
   {
    "duration": 11,
    "start_time": "2023-03-31T14:47:42.284Z"
   },
   {
    "duration": 11,
    "start_time": "2023-03-31T14:47:42.296Z"
   },
   {
    "duration": 10,
    "start_time": "2023-03-31T14:47:42.309Z"
   },
   {
    "duration": 6,
    "start_time": "2023-03-31T14:47:42.320Z"
   },
   {
    "duration": 10,
    "start_time": "2023-03-31T14:47:42.362Z"
   },
   {
    "duration": 14,
    "start_time": "2023-03-31T14:47:42.373Z"
   },
   {
    "duration": 8,
    "start_time": "2023-03-31T14:47:42.389Z"
   },
   {
    "duration": 8,
    "start_time": "2023-03-31T14:47:42.398Z"
   },
   {
    "duration": 10,
    "start_time": "2023-03-31T14:47:42.408Z"
   },
   {
    "duration": 74,
    "start_time": "2023-03-31T14:47:42.420Z"
   },
   {
    "duration": 12,
    "start_time": "2023-03-31T14:47:42.496Z"
   },
   {
    "duration": 25,
    "start_time": "2023-03-31T14:47:42.510Z"
   },
   {
    "duration": 5,
    "start_time": "2023-03-31T14:47:42.537Z"
   },
   {
    "duration": 16,
    "start_time": "2023-03-31T14:47:42.562Z"
   },
   {
    "duration": 16,
    "start_time": "2023-03-31T14:47:42.579Z"
   },
   {
    "duration": 16,
    "start_time": "2023-03-31T14:47:42.598Z"
   },
   {
    "duration": 49,
    "start_time": "2023-03-31T14:47:42.616Z"
   },
   {
    "duration": 314111,
    "start_time": "2023-03-31T14:47:42.668Z"
   },
   {
    "duration": 1132,
    "start_time": "2023-03-31T14:55:11.813Z"
   },
   {
    "duration": 64,
    "start_time": "2023-03-31T14:55:12.947Z"
   },
   {
    "duration": 14,
    "start_time": "2023-03-31T14:55:13.012Z"
   },
   {
    "duration": 21,
    "start_time": "2023-03-31T14:55:13.028Z"
   },
   {
    "duration": 18,
    "start_time": "2023-03-31T14:55:13.052Z"
   },
   {
    "duration": 11,
    "start_time": "2023-03-31T14:55:13.071Z"
   },
   {
    "duration": 33,
    "start_time": "2023-03-31T14:55:13.083Z"
   },
   {
    "duration": 48,
    "start_time": "2023-03-31T14:55:13.118Z"
   },
   {
    "duration": 19,
    "start_time": "2023-03-31T14:55:13.168Z"
   },
   {
    "duration": 8,
    "start_time": "2023-03-31T14:55:13.189Z"
   },
   {
    "duration": 7,
    "start_time": "2023-03-31T14:55:13.199Z"
   },
   {
    "duration": 9,
    "start_time": "2023-03-31T14:55:13.208Z"
   },
   {
    "duration": 50,
    "start_time": "2023-03-31T14:55:13.219Z"
   },
   {
    "duration": 7,
    "start_time": "2023-03-31T14:55:13.273Z"
   },
   {
    "duration": 10,
    "start_time": "2023-03-31T14:55:13.281Z"
   },
   {
    "duration": 18,
    "start_time": "2023-03-31T14:55:13.293Z"
   },
   {
    "duration": 11,
    "start_time": "2023-03-31T14:55:13.312Z"
   },
   {
    "duration": 9,
    "start_time": "2023-03-31T14:55:13.325Z"
   },
   {
    "duration": 32,
    "start_time": "2023-03-31T14:55:13.336Z"
   },
   {
    "duration": 25,
    "start_time": "2023-03-31T14:55:13.370Z"
   },
   {
    "duration": 15,
    "start_time": "2023-03-31T14:55:13.397Z"
   },
   {
    "duration": 18,
    "start_time": "2023-03-31T14:55:13.417Z"
   },
   {
    "duration": 25,
    "start_time": "2023-03-31T14:55:13.437Z"
   },
   {
    "duration": 15,
    "start_time": "2023-03-31T14:55:13.464Z"
   },
   {
    "duration": 15,
    "start_time": "2023-03-31T14:55:13.481Z"
   },
   {
    "duration": 17,
    "start_time": "2023-03-31T14:55:13.498Z"
   },
   {
    "duration": 49,
    "start_time": "2023-03-31T14:55:13.517Z"
   },
   {
    "duration": 1616,
    "start_time": "2023-03-31T14:58:33.554Z"
   },
   {
    "duration": 104,
    "start_time": "2023-03-31T14:58:35.175Z"
   },
   {
    "duration": 28,
    "start_time": "2023-03-31T14:58:35.282Z"
   },
   {
    "duration": 24,
    "start_time": "2023-03-31T14:58:35.313Z"
   },
   {
    "duration": 48,
    "start_time": "2023-03-31T14:58:35.341Z"
   },
   {
    "duration": 23,
    "start_time": "2023-03-31T14:58:35.392Z"
   },
   {
    "duration": 87,
    "start_time": "2023-03-31T14:58:35.417Z"
   },
   {
    "duration": 35,
    "start_time": "2023-03-31T14:58:35.507Z"
   },
   {
    "duration": 33,
    "start_time": "2023-03-31T14:58:35.561Z"
   },
   {
    "duration": 10,
    "start_time": "2023-03-31T14:58:35.599Z"
   },
   {
    "duration": 11,
    "start_time": "2023-03-31T14:58:35.612Z"
   },
   {
    "duration": 47,
    "start_time": "2023-03-31T14:58:35.625Z"
   },
   {
    "duration": 16,
    "start_time": "2023-03-31T14:58:35.674Z"
   },
   {
    "duration": 10,
    "start_time": "2023-03-31T14:58:35.695Z"
   },
   {
    "duration": 15,
    "start_time": "2023-03-31T14:58:35.708Z"
   },
   {
    "duration": 25,
    "start_time": "2023-03-31T14:58:35.763Z"
   },
   {
    "duration": 11,
    "start_time": "2023-03-31T14:58:35.791Z"
   },
   {
    "duration": 13,
    "start_time": "2023-03-31T14:58:35.805Z"
   },
   {
    "duration": 42,
    "start_time": "2023-03-31T14:58:35.822Z"
   },
   {
    "duration": 35,
    "start_time": "2023-03-31T14:58:35.866Z"
   },
   {
    "duration": 15,
    "start_time": "2023-03-31T14:58:35.905Z"
   },
   {
    "duration": 42,
    "start_time": "2023-03-31T14:58:35.923Z"
   },
   {
    "duration": 5,
    "start_time": "2023-03-31T14:58:35.967Z"
   },
   {
    "duration": 24,
    "start_time": "2023-03-31T14:58:35.974Z"
   },
   {
    "duration": 19,
    "start_time": "2023-03-31T14:58:36.000Z"
   },
   {
    "duration": 44,
    "start_time": "2023-03-31T14:58:36.021Z"
   },
   {
    "duration": 17,
    "start_time": "2023-03-31T14:58:36.068Z"
   },
   {
    "duration": 1109,
    "start_time": "2023-03-31T15:03:10.213Z"
   },
   {
    "duration": 66,
    "start_time": "2023-03-31T15:03:11.324Z"
   },
   {
    "duration": 15,
    "start_time": "2023-03-31T15:03:11.391Z"
   },
   {
    "duration": 17,
    "start_time": "2023-03-31T15:03:11.408Z"
   },
   {
    "duration": 17,
    "start_time": "2023-03-31T15:03:11.426Z"
   },
   {
    "duration": 10,
    "start_time": "2023-03-31T15:03:11.462Z"
   },
   {
    "duration": 32,
    "start_time": "2023-03-31T15:03:11.474Z"
   },
   {
    "duration": 19,
    "start_time": "2023-03-31T15:03:11.508Z"
   },
   {
    "duration": 44,
    "start_time": "2023-03-31T15:03:11.529Z"
   },
   {
    "duration": 7,
    "start_time": "2023-03-31T15:03:11.575Z"
   },
   {
    "duration": 10,
    "start_time": "2023-03-31T15:03:11.583Z"
   },
   {
    "duration": 9,
    "start_time": "2023-03-31T15:03:11.595Z"
   },
   {
    "duration": 10,
    "start_time": "2023-03-31T15:03:11.605Z"
   },
   {
    "duration": 7,
    "start_time": "2023-03-31T15:03:11.616Z"
   },
   {
    "duration": 47,
    "start_time": "2023-03-31T15:03:11.625Z"
   },
   {
    "duration": 19,
    "start_time": "2023-03-31T15:03:11.674Z"
   },
   {
    "duration": 7,
    "start_time": "2023-03-31T15:03:11.695Z"
   },
   {
    "duration": 10,
    "start_time": "2023-03-31T15:03:11.704Z"
   },
   {
    "duration": 18,
    "start_time": "2023-03-31T15:03:11.715Z"
   },
   {
    "duration": 54,
    "start_time": "2023-03-31T15:03:11.734Z"
   },
   {
    "duration": 11,
    "start_time": "2023-03-31T15:03:11.790Z"
   },
   {
    "duration": 30,
    "start_time": "2023-03-31T15:03:11.803Z"
   },
   {
    "duration": 5,
    "start_time": "2023-03-31T15:03:11.834Z"
   },
   {
    "duration": 24,
    "start_time": "2023-03-31T15:03:11.841Z"
   },
   {
    "duration": 13,
    "start_time": "2023-03-31T15:03:11.866Z"
   },
   {
    "duration": 16,
    "start_time": "2023-03-31T15:03:11.880Z"
   },
   {
    "duration": 23,
    "start_time": "2023-03-31T15:03:11.898Z"
   },
   {
    "duration": 3,
    "start_time": "2023-03-31T15:03:11.923Z"
   },
   {
    "duration": 7,
    "start_time": "2023-03-31T15:03:11.928Z"
   },
   {
    "duration": 3,
    "start_time": "2023-03-31T15:03:14.838Z"
   },
   {
    "duration": 69,
    "start_time": "2023-03-31T15:03:15.341Z"
   },
   {
    "duration": 15,
    "start_time": "2023-03-31T15:03:16.101Z"
   },
   {
    "duration": 18,
    "start_time": "2023-03-31T15:03:17.390Z"
   },
   {
    "duration": 17,
    "start_time": "2023-03-31T15:03:18.268Z"
   },
   {
    "duration": 12,
    "start_time": "2023-03-31T15:03:18.684Z"
   },
   {
    "duration": 31,
    "start_time": "2023-03-31T15:03:18.877Z"
   },
   {
    "duration": 19,
    "start_time": "2023-03-31T15:03:19.293Z"
   },
   {
    "duration": 19,
    "start_time": "2023-03-31T15:03:19.498Z"
   },
   {
    "duration": 7,
    "start_time": "2023-03-31T15:03:19.916Z"
   },
   {
    "duration": 7,
    "start_time": "2023-03-31T15:03:20.349Z"
   },
   {
    "duration": 10,
    "start_time": "2023-03-31T15:03:21.277Z"
   },
   {
    "duration": 11,
    "start_time": "2023-03-31T15:03:22.021Z"
   },
   {
    "duration": 8,
    "start_time": "2023-03-31T15:03:22.421Z"
   },
   {
    "duration": 13,
    "start_time": "2023-03-31T15:03:22.638Z"
   },
   {
    "duration": 15,
    "start_time": "2023-03-31T15:03:22.866Z"
   },
   {
    "duration": 7,
    "start_time": "2023-03-31T15:03:23.316Z"
   },
   {
    "duration": 8,
    "start_time": "2023-03-31T15:03:23.538Z"
   },
   {
    "duration": 8,
    "start_time": "2023-03-31T15:03:23.758Z"
   },
   {
    "duration": 34,
    "start_time": "2023-03-31T15:03:24.990Z"
   },
   {
    "duration": 8,
    "start_time": "2023-03-31T15:03:25.597Z"
   },
   {
    "duration": 14,
    "start_time": "2023-03-31T15:03:26.589Z"
   },
   {
    "duration": 4,
    "start_time": "2023-03-31T15:03:27.061Z"
   },
   {
    "duration": 18,
    "start_time": "2023-03-31T15:03:27.783Z"
   },
   {
    "duration": 19,
    "start_time": "2023-03-31T15:03:28.285Z"
   },
   {
    "duration": 22,
    "start_time": "2023-03-31T15:03:29.607Z"
   },
   {
    "duration": 23,
    "start_time": "2023-03-31T15:03:33.987Z"
   },
   {
    "duration": 480,
    "start_time": "2023-03-31T15:03:47.046Z"
   },
   {
    "duration": 11,
    "start_time": "2023-03-31T15:04:35.820Z"
   },
   {
    "duration": 11,
    "start_time": "2023-03-31T15:04:37.511Z"
   },
   {
    "duration": 420,
    "start_time": "2023-03-31T15:04:46.941Z"
   },
   {
    "duration": 445,
    "start_time": "2023-03-31T15:04:55.678Z"
   },
   {
    "duration": 422,
    "start_time": "2023-03-31T15:05:03.535Z"
   },
   {
    "duration": 51,
    "start_time": "2023-03-31T15:07:44.431Z"
   },
   {
    "duration": 7,
    "start_time": "2023-03-31T15:08:06.979Z"
   },
   {
    "duration": 6,
    "start_time": "2023-03-31T15:08:10.463Z"
   },
   {
    "duration": 8,
    "start_time": "2023-03-31T15:08:13.153Z"
   },
   {
    "duration": 1228,
    "start_time": "2023-03-31T15:08:18.050Z"
   },
   {
    "duration": 112,
    "start_time": "2023-03-31T15:08:19.280Z"
   },
   {
    "duration": 22,
    "start_time": "2023-03-31T15:08:19.393Z"
   },
   {
    "duration": 22,
    "start_time": "2023-03-31T15:08:19.417Z"
   },
   {
    "duration": 40,
    "start_time": "2023-03-31T15:08:19.441Z"
   },
   {
    "duration": 13,
    "start_time": "2023-03-31T15:08:19.483Z"
   },
   {
    "duration": 37,
    "start_time": "2023-03-31T15:08:19.498Z"
   },
   {
    "duration": 37,
    "start_time": "2023-03-31T15:08:19.537Z"
   },
   {
    "duration": 22,
    "start_time": "2023-03-31T15:08:19.576Z"
   },
   {
    "duration": 11,
    "start_time": "2023-03-31T15:08:19.600Z"
   },
   {
    "duration": 18,
    "start_time": "2023-03-31T15:08:19.612Z"
   },
   {
    "duration": 30,
    "start_time": "2023-03-31T15:08:19.632Z"
   },
   {
    "duration": 10,
    "start_time": "2023-03-31T15:08:19.664Z"
   },
   {
    "duration": 7,
    "start_time": "2023-03-31T15:08:19.676Z"
   },
   {
    "duration": 19,
    "start_time": "2023-03-31T15:08:19.686Z"
   },
   {
    "duration": 25,
    "start_time": "2023-03-31T15:08:19.707Z"
   },
   {
    "duration": 33,
    "start_time": "2023-03-31T15:08:19.734Z"
   },
   {
    "duration": 11,
    "start_time": "2023-03-31T15:08:19.770Z"
   },
   {
    "duration": 16,
    "start_time": "2023-03-31T15:08:19.784Z"
   },
   {
    "duration": 29,
    "start_time": "2023-03-31T15:08:19.802Z"
   },
   {
    "duration": 10,
    "start_time": "2023-03-31T15:08:19.832Z"
   },
   {
    "duration": 28,
    "start_time": "2023-03-31T15:08:19.843Z"
   },
   {
    "duration": 5,
    "start_time": "2023-03-31T15:08:19.873Z"
   },
   {
    "duration": 37,
    "start_time": "2023-03-31T15:08:19.880Z"
   },
   {
    "duration": 20,
    "start_time": "2023-03-31T15:08:19.919Z"
   },
   {
    "duration": 22,
    "start_time": "2023-03-31T15:08:19.941Z"
   },
   {
    "duration": 11,
    "start_time": "2023-03-31T15:08:19.964Z"
   },
   {
    "duration": 393,
    "start_time": "2023-03-31T15:08:19.977Z"
   },
   {
    "duration": 3,
    "start_time": "2023-03-31T15:08:20.372Z"
   },
   {
    "duration": 18,
    "start_time": "2023-03-31T15:08:20.376Z"
   },
   {
    "duration": 235,
    "start_time": "2023-03-31T15:11:26.226Z"
   },
   {
    "duration": 356,
    "start_time": "2023-03-31T15:12:57.476Z"
   },
   {
    "duration": 364,
    "start_time": "2023-03-31T15:13:02.121Z"
   },
   {
    "duration": 420,
    "start_time": "2023-03-31T15:13:07.054Z"
   },
   {
    "duration": 707,
    "start_time": "2023-03-31T15:14:35.966Z"
   },
   {
    "duration": 457,
    "start_time": "2023-03-31T15:14:45.695Z"
   },
   {
    "duration": 447,
    "start_time": "2023-03-31T15:15:01.112Z"
   },
   {
    "duration": 419,
    "start_time": "2023-03-31T15:15:24.662Z"
   },
   {
    "duration": 502,
    "start_time": "2023-03-31T15:15:29.447Z"
   },
   {
    "duration": 460,
    "start_time": "2023-03-31T15:15:33.682Z"
   },
   {
    "duration": 366,
    "start_time": "2023-03-31T15:15:37.671Z"
   },
   {
    "duration": 546,
    "start_time": "2023-03-31T15:15:44.773Z"
   },
   {
    "duration": 402,
    "start_time": "2023-03-31T15:15:48.149Z"
   },
   {
    "duration": 516,
    "start_time": "2023-03-31T15:15:53.885Z"
   },
   {
    "duration": 584,
    "start_time": "2023-03-31T15:16:06.807Z"
   },
   {
    "duration": 692,
    "start_time": "2023-03-31T15:16:54.809Z"
   },
   {
    "duration": 220,
    "start_time": "2023-03-31T15:16:59.721Z"
   },
   {
    "duration": 111,
    "start_time": "2023-03-31T15:17:06.823Z"
   },
   {
    "duration": 348,
    "start_time": "2023-03-31T15:17:09.655Z"
   },
   {
    "duration": 344,
    "start_time": "2023-03-31T15:17:47.832Z"
   },
   {
    "duration": 393,
    "start_time": "2023-03-31T15:17:58.585Z"
   },
   {
    "duration": 346,
    "start_time": "2023-03-31T15:18:02.210Z"
   },
   {
    "duration": 442,
    "start_time": "2023-03-31T15:18:27.978Z"
   },
   {
    "duration": 374,
    "start_time": "2023-03-31T15:18:31.280Z"
   },
   {
    "duration": 349,
    "start_time": "2023-03-31T15:19:03.028Z"
   },
   {
    "duration": 377,
    "start_time": "2023-03-31T15:19:06.010Z"
   },
   {
    "duration": 350,
    "start_time": "2023-03-31T15:19:09.515Z"
   },
   {
    "duration": 525,
    "start_time": "2023-03-31T15:19:13.997Z"
   },
   {
    "duration": 377,
    "start_time": "2023-03-31T15:20:40.770Z"
   },
   {
    "duration": 342,
    "start_time": "2023-03-31T15:20:53.206Z"
   },
   {
    "duration": 362,
    "start_time": "2023-03-31T15:21:01.779Z"
   },
   {
    "duration": 373,
    "start_time": "2023-03-31T15:22:23.572Z"
   },
   {
    "duration": 357,
    "start_time": "2023-03-31T15:22:30.208Z"
   },
   {
    "duration": 526,
    "start_time": "2023-03-31T15:22:33.893Z"
   },
   {
    "duration": 378,
    "start_time": "2023-03-31T15:23:05.976Z"
   },
   {
    "duration": 352,
    "start_time": "2023-03-31T15:23:11.505Z"
   },
   {
    "duration": 370,
    "start_time": "2023-03-31T15:23:15.768Z"
   },
   {
    "duration": 358,
    "start_time": "2023-03-31T15:23:18.460Z"
   },
   {
    "duration": 471,
    "start_time": "2023-03-31T15:23:25.099Z"
   },
   {
    "duration": 367,
    "start_time": "2023-03-31T15:23:31.883Z"
   },
   {
    "duration": 409,
    "start_time": "2023-03-31T15:23:35.100Z"
   },
   {
    "duration": 386,
    "start_time": "2023-03-31T15:23:38.301Z"
   },
   {
    "duration": 381,
    "start_time": "2023-03-31T15:23:41.862Z"
   },
   {
    "duration": 357,
    "start_time": "2023-03-31T15:23:45.057Z"
   },
   {
    "duration": 457,
    "start_time": "2023-03-31T15:23:49.392Z"
   },
   {
    "duration": 371,
    "start_time": "2023-03-31T15:23:53.978Z"
   },
   {
    "duration": 384,
    "start_time": "2023-03-31T15:23:56.954Z"
   },
   {
    "duration": 368,
    "start_time": "2023-03-31T15:24:00.170Z"
   },
   {
    "duration": 436,
    "start_time": "2023-03-31T15:24:03.881Z"
   },
   {
    "duration": 452,
    "start_time": "2023-03-31T15:24:08.669Z"
   },
   {
    "duration": 361,
    "start_time": "2023-03-31T15:24:12.368Z"
   },
   {
    "duration": 358,
    "start_time": "2023-03-31T15:24:20.693Z"
   },
   {
    "duration": 344,
    "start_time": "2023-03-31T15:24:24.558Z"
   },
   {
    "duration": 428,
    "start_time": "2023-03-31T15:24:28.820Z"
   },
   {
    "duration": 371,
    "start_time": "2023-03-31T15:24:32.237Z"
   },
   {
    "duration": 493,
    "start_time": "2023-03-31T15:24:35.355Z"
   },
   {
    "duration": 350,
    "start_time": "2023-03-31T15:24:41.454Z"
   },
   {
    "duration": 353,
    "start_time": "2023-03-31T15:24:44.937Z"
   },
   {
    "duration": 354,
    "start_time": "2023-03-31T15:24:48.225Z"
   },
   {
    "duration": 371,
    "start_time": "2023-03-31T15:24:51.321Z"
   },
   {
    "duration": 462,
    "start_time": "2023-03-31T15:24:55.581Z"
   },
   {
    "duration": 354,
    "start_time": "2023-03-31T15:24:58.748Z"
   },
   {
    "duration": 363,
    "start_time": "2023-03-31T15:25:03.198Z"
   },
   {
    "duration": 356,
    "start_time": "2023-03-31T15:25:05.956Z"
   },
   {
    "duration": 352,
    "start_time": "2023-03-31T15:25:09.314Z"
   },
   {
    "duration": 410,
    "start_time": "2023-03-31T15:25:27.045Z"
   },
   {
    "duration": 475,
    "start_time": "2023-03-31T15:25:32.967Z"
   },
   {
    "duration": 363,
    "start_time": "2023-03-31T15:25:35.743Z"
   },
   {
    "duration": 359,
    "start_time": "2023-03-31T15:25:37.915Z"
   },
   {
    "duration": 370,
    "start_time": "2023-03-31T15:25:44.987Z"
   },
   {
    "duration": 375,
    "start_time": "2023-03-31T15:25:48.308Z"
   },
   {
    "duration": 447,
    "start_time": "2023-03-31T15:25:51.484Z"
   },
   {
    "duration": 358,
    "start_time": "2023-03-31T15:26:27.913Z"
   },
   {
    "duration": 388,
    "start_time": "2023-03-31T15:29:15.276Z"
   },
   {
    "duration": 394,
    "start_time": "2023-03-31T15:31:12.290Z"
   },
   {
    "duration": 376,
    "start_time": "2023-03-31T15:31:19.043Z"
   },
   {
    "duration": 368,
    "start_time": "2023-03-31T15:31:24.577Z"
   },
   {
    "duration": 493,
    "start_time": "2023-03-31T15:31:27.335Z"
   },
   {
    "duration": 9,
    "start_time": "2023-03-31T15:58:58.005Z"
   },
   {
    "duration": 8,
    "start_time": "2023-03-31T15:59:13.801Z"
   },
   {
    "duration": 13,
    "start_time": "2023-03-31T15:59:46.468Z"
   },
   {
    "duration": 9,
    "start_time": "2023-03-31T15:59:56.285Z"
   },
   {
    "duration": 9,
    "start_time": "2023-03-31T15:59:59.980Z"
   },
   {
    "duration": 8,
    "start_time": "2023-03-31T16:01:07.474Z"
   },
   {
    "duration": 10,
    "start_time": "2023-03-31T16:01:24.801Z"
   },
   {
    "duration": 9,
    "start_time": "2023-03-31T16:01:30.874Z"
   },
   {
    "duration": 12,
    "start_time": "2023-03-31T16:01:35.175Z"
   },
   {
    "duration": 8,
    "start_time": "2023-03-31T16:01:44.400Z"
   },
   {
    "duration": 11,
    "start_time": "2023-03-31T16:01:57.676Z"
   },
   {
    "duration": 10,
    "start_time": "2023-03-31T16:02:28.474Z"
   },
   {
    "duration": 231,
    "start_time": "2023-03-31T16:15:31.238Z"
   },
   {
    "duration": 352,
    "start_time": "2023-03-31T16:15:39.209Z"
   },
   {
    "duration": 215,
    "start_time": "2023-03-31T16:15:50.121Z"
   },
   {
    "duration": 206,
    "start_time": "2023-03-31T16:15:55.715Z"
   },
   {
    "duration": 88,
    "start_time": "2023-03-31T16:15:58.258Z"
   },
   {
    "duration": 219,
    "start_time": "2023-03-31T16:16:01.814Z"
   },
   {
    "duration": 61,
    "start_time": "2023-03-31T16:16:06.930Z"
   },
   {
    "duration": 54,
    "start_time": "2023-03-31T16:16:09.683Z"
   },
   {
    "duration": 46,
    "start_time": "2023-03-31T16:16:13.711Z"
   },
   {
    "duration": 57,
    "start_time": "2023-03-31T16:16:18.484Z"
   },
   {
    "duration": 360,
    "start_time": "2023-03-31T16:16:23.413Z"
   },
   {
    "duration": 364,
    "start_time": "2023-03-31T16:16:48.445Z"
   },
   {
    "duration": 498,
    "start_time": "2023-03-31T16:17:04.758Z"
   },
   {
    "duration": 53,
    "start_time": "2023-03-31T16:17:29.478Z"
   },
   {
    "duration": 27,
    "start_time": "2023-03-31T16:18:39.945Z"
   },
   {
    "duration": 15,
    "start_time": "2023-03-31T16:18:44.424Z"
   },
   {
    "duration": 13,
    "start_time": "2023-03-31T16:18:48.158Z"
   },
   {
    "duration": 334,
    "start_time": "2023-03-31T16:28:27.589Z"
   },
   {
    "duration": 156,
    "start_time": "2023-03-31T16:28:56.433Z"
   },
   {
    "duration": 341,
    "start_time": "2023-03-31T16:29:50.100Z"
   },
   {
    "duration": 1432,
    "start_time": "2023-04-01T08:11:21.093Z"
   },
   {
    "duration": 224,
    "start_time": "2023-04-01T08:11:22.536Z"
   },
   {
    "duration": 14,
    "start_time": "2023-04-01T08:11:22.762Z"
   },
   {
    "duration": 38,
    "start_time": "2023-04-01T08:11:22.778Z"
   },
   {
    "duration": 34,
    "start_time": "2023-04-01T08:11:22.828Z"
   },
   {
    "duration": 18,
    "start_time": "2023-04-01T08:11:22.864Z"
   },
   {
    "duration": 47,
    "start_time": "2023-04-01T08:11:22.883Z"
   },
   {
    "duration": 19,
    "start_time": "2023-04-01T08:11:22.934Z"
   },
   {
    "duration": 22,
    "start_time": "2023-04-01T08:11:22.955Z"
   },
   {
    "duration": 21,
    "start_time": "2023-04-01T08:11:22.978Z"
   },
   {
    "duration": 22,
    "start_time": "2023-04-01T08:11:23.000Z"
   },
   {
    "duration": 48,
    "start_time": "2023-04-01T08:11:23.027Z"
   },
   {
    "duration": 18,
    "start_time": "2023-04-01T08:11:23.077Z"
   },
   {
    "duration": 31,
    "start_time": "2023-04-01T08:11:23.099Z"
   },
   {
    "duration": 27,
    "start_time": "2023-04-01T08:11:23.132Z"
   },
   {
    "duration": 29,
    "start_time": "2023-04-01T08:11:23.160Z"
   },
   {
    "duration": 16,
    "start_time": "2023-04-01T08:11:23.191Z"
   },
   {
    "duration": 41,
    "start_time": "2023-04-01T08:11:23.209Z"
   },
   {
    "duration": 17,
    "start_time": "2023-04-01T08:11:23.252Z"
   },
   {
    "duration": 33,
    "start_time": "2023-04-01T08:11:23.271Z"
   },
   {
    "duration": 35,
    "start_time": "2023-04-01T08:11:23.305Z"
   },
   {
    "duration": 19,
    "start_time": "2023-04-01T08:11:23.342Z"
   },
   {
    "duration": 4,
    "start_time": "2023-04-01T08:11:23.363Z"
   },
   {
    "duration": 19,
    "start_time": "2023-04-01T08:11:23.368Z"
   },
   {
    "duration": 36,
    "start_time": "2023-04-01T08:11:23.389Z"
   },
   {
    "duration": 21,
    "start_time": "2023-04-01T08:11:23.429Z"
   },
   {
    "duration": 12,
    "start_time": "2023-04-01T08:11:23.451Z"
   },
   {
    "duration": 416,
    "start_time": "2023-04-01T08:11:23.465Z"
   },
   {
    "duration": 12,
    "start_time": "2023-04-01T08:11:23.883Z"
   },
   {
    "duration": 40,
    "start_time": "2023-04-01T08:11:23.897Z"
   },
   {
    "duration": 376,
    "start_time": "2023-04-01T08:11:23.938Z"
   },
   {
    "duration": 180,
    "start_time": "2023-04-01T08:11:33.334Z"
   },
   {
    "duration": 118,
    "start_time": "2023-04-01T08:11:38.488Z"
   },
   {
    "duration": 331,
    "start_time": "2023-04-01T08:11:42.667Z"
   },
   {
    "duration": 338,
    "start_time": "2023-04-01T08:11:46.295Z"
   },
   {
    "duration": 8,
    "start_time": "2023-04-01T08:15:39.268Z"
   },
   {
    "duration": 26,
    "start_time": "2023-04-01T08:15:42.963Z"
   },
   {
    "duration": 13,
    "start_time": "2023-04-01T08:15:52.444Z"
   },
   {
    "duration": 424,
    "start_time": "2023-04-01T08:16:58.942Z"
   },
   {
    "duration": 13,
    "start_time": "2023-04-01T08:20:23.057Z"
   },
   {
    "duration": 14,
    "start_time": "2023-04-01T08:20:23.345Z"
   },
   {
    "duration": 50,
    "start_time": "2023-04-01T08:20:35.608Z"
   },
   {
    "duration": 7,
    "start_time": "2023-04-01T08:21:22.230Z"
   },
   {
    "duration": 63,
    "start_time": "2023-04-01T08:21:47.913Z"
   },
   {
    "duration": 16,
    "start_time": "2023-04-01T08:22:04.514Z"
   },
   {
    "duration": 26,
    "start_time": "2023-04-01T08:22:14.905Z"
   },
   {
    "duration": 18,
    "start_time": "2023-04-01T08:22:17.711Z"
   },
   {
    "duration": 68,
    "start_time": "2023-04-01T08:22:26.563Z"
   },
   {
    "duration": 52,
    "start_time": "2023-04-02T07:46:43.343Z"
   },
   {
    "duration": 1407,
    "start_time": "2023-04-02T07:46:49.821Z"
   },
   {
    "duration": 111,
    "start_time": "2023-04-02T07:46:51.231Z"
   },
   {
    "duration": 15,
    "start_time": "2023-04-02T07:46:51.344Z"
   },
   {
    "duration": 15,
    "start_time": "2023-04-02T07:46:51.361Z"
   },
   {
    "duration": 28,
    "start_time": "2023-04-02T07:46:51.379Z"
   },
   {
    "duration": 32,
    "start_time": "2023-04-02T07:46:51.409Z"
   },
   {
    "duration": 40,
    "start_time": "2023-04-02T07:46:51.442Z"
   },
   {
    "duration": 23,
    "start_time": "2023-04-02T07:46:51.483Z"
   },
   {
    "duration": 36,
    "start_time": "2023-04-02T07:46:51.508Z"
   },
   {
    "duration": 53,
    "start_time": "2023-04-02T07:46:51.547Z"
   },
   {
    "duration": 20,
    "start_time": "2023-04-02T07:46:51.602Z"
   },
   {
    "duration": 19,
    "start_time": "2023-04-02T07:46:51.624Z"
   },
   {
    "duration": 25,
    "start_time": "2023-04-02T07:46:51.645Z"
   },
   {
    "duration": 83,
    "start_time": "2023-04-02T07:46:51.674Z"
   },
   {
    "duration": 46,
    "start_time": "2023-04-02T07:46:51.759Z"
   },
   {
    "duration": 46,
    "start_time": "2023-04-02T07:46:51.808Z"
   },
   {
    "duration": 23,
    "start_time": "2023-04-02T07:46:51.856Z"
   },
   {
    "duration": 9,
    "start_time": "2023-04-02T07:46:51.881Z"
   },
   {
    "duration": 19,
    "start_time": "2023-04-02T07:46:51.892Z"
   },
   {
    "duration": 35,
    "start_time": "2023-04-02T07:46:51.912Z"
   },
   {
    "duration": 24,
    "start_time": "2023-04-02T07:46:51.949Z"
   },
   {
    "duration": 15,
    "start_time": "2023-04-02T07:46:51.975Z"
   },
   {
    "duration": 20,
    "start_time": "2023-04-02T07:46:51.992Z"
   },
   {
    "duration": 17,
    "start_time": "2023-04-02T07:46:52.014Z"
   },
   {
    "duration": 31,
    "start_time": "2023-04-02T07:46:52.033Z"
   },
   {
    "duration": 18,
    "start_time": "2023-04-02T07:46:52.066Z"
   },
   {
    "duration": 44,
    "start_time": "2023-04-02T07:46:52.086Z"
   },
   {
    "duration": 389,
    "start_time": "2023-04-02T07:46:52.132Z"
   },
   {
    "duration": 13,
    "start_time": "2023-04-02T07:46:52.522Z"
   },
   {
    "duration": 369,
    "start_time": "2023-04-02T07:46:52.536Z"
   },
   {
    "duration": 26,
    "start_time": "2023-04-02T07:46:52.907Z"
   },
   {
    "duration": 67,
    "start_time": "2023-04-02T07:46:52.935Z"
   },
   {
    "duration": 562,
    "start_time": "2023-04-02T07:48:00.107Z"
   },
   {
    "duration": 16,
    "start_time": "2023-04-02T07:49:16.518Z"
   },
   {
    "duration": 62,
    "start_time": "2023-04-02T07:49:26.494Z"
   },
   {
    "duration": 17,
    "start_time": "2023-04-02T07:49:32.368Z"
   },
   {
    "duration": 22,
    "start_time": "2023-04-02T07:49:36.623Z"
   },
   {
    "duration": 370,
    "start_time": "2023-04-02T07:49:42.072Z"
   },
   {
    "duration": 452,
    "start_time": "2023-04-02T07:51:27.192Z"
   },
   {
    "duration": 330,
    "start_time": "2023-04-02T07:51:44.683Z"
   },
   {
    "duration": 342,
    "start_time": "2023-04-02T07:51:48.089Z"
   },
   {
    "duration": 383,
    "start_time": "2023-04-02T07:51:56.991Z"
   },
   {
    "duration": 427,
    "start_time": "2023-04-02T07:52:02.608Z"
   },
   {
    "duration": 354,
    "start_time": "2023-04-02T07:52:29.044Z"
   },
   {
    "duration": 445,
    "start_time": "2023-04-02T07:52:39.369Z"
   },
   {
    "duration": 361,
    "start_time": "2023-04-02T07:52:55.525Z"
   },
   {
    "duration": 67,
    "start_time": "2023-04-02T07:55:13.037Z"
   },
   {
    "duration": 378,
    "start_time": "2023-04-02T07:55:19.072Z"
   },
   {
    "duration": 396,
    "start_time": "2023-04-02T07:55:23.585Z"
   },
   {
    "duration": 418,
    "start_time": "2023-04-02T07:55:30.007Z"
   },
   {
    "duration": 454,
    "start_time": "2023-04-02T07:55:36.078Z"
   },
   {
    "duration": 374,
    "start_time": "2023-04-02T07:55:39.536Z"
   },
   {
    "duration": 352,
    "start_time": "2023-04-02T07:55:52.324Z"
   },
   {
    "duration": 68,
    "start_time": "2023-04-02T07:55:59.633Z"
   },
   {
    "duration": 437,
    "start_time": "2023-04-02T07:56:02.913Z"
   },
   {
    "duration": 16,
    "start_time": "2023-04-02T08:07:02.992Z"
   },
   {
    "duration": 112,
    "start_time": "2023-04-02T08:31:53.950Z"
   },
   {
    "duration": 11,
    "start_time": "2023-04-02T08:31:55.391Z"
   },
   {
    "duration": 86,
    "start_time": "2023-04-02T08:32:10.421Z"
   },
   {
    "duration": 18,
    "start_time": "2023-04-02T08:32:27.170Z"
   },
   {
    "duration": 66,
    "start_time": "2023-04-02T08:33:02.439Z"
   },
   {
    "duration": 51,
    "start_time": "2023-04-02T08:59:06.443Z"
   },
   {
    "duration": 64,
    "start_time": "2023-04-02T08:59:19.912Z"
   },
   {
    "duration": 55,
    "start_time": "2023-04-02T08:59:54.856Z"
   },
   {
    "duration": 61,
    "start_time": "2023-04-02T09:00:02.540Z"
   },
   {
    "duration": 55,
    "start_time": "2023-04-02T09:00:12.945Z"
   },
   {
    "duration": 15,
    "start_time": "2023-04-02T09:00:25.567Z"
   },
   {
    "duration": 16,
    "start_time": "2023-04-02T09:00:26.974Z"
   },
   {
    "duration": 15,
    "start_time": "2023-04-02T09:00:28.664Z"
   },
   {
    "duration": 69,
    "start_time": "2023-04-02T09:00:38.525Z"
   },
   {
    "duration": 59,
    "start_time": "2023-04-02T09:03:44.584Z"
   },
   {
    "duration": 66,
    "start_time": "2023-04-02T09:03:53.810Z"
   },
   {
    "duration": 57,
    "start_time": "2023-04-02T09:04:31.920Z"
   },
   {
    "duration": 64,
    "start_time": "2023-04-02T09:04:53.742Z"
   },
   {
    "duration": 1476,
    "start_time": "2023-04-03T07:32:54.971Z"
   },
   {
    "duration": 226,
    "start_time": "2023-04-03T07:32:56.449Z"
   },
   {
    "duration": 24,
    "start_time": "2023-04-03T07:32:56.678Z"
   },
   {
    "duration": 51,
    "start_time": "2023-04-03T07:32:56.705Z"
   },
   {
    "duration": 40,
    "start_time": "2023-04-03T07:32:56.758Z"
   },
   {
    "duration": 28,
    "start_time": "2023-04-03T07:32:56.801Z"
   },
   {
    "duration": 43,
    "start_time": "2023-04-03T07:32:56.840Z"
   },
   {
    "duration": 28,
    "start_time": "2023-04-03T07:32:56.887Z"
   },
   {
    "duration": 55,
    "start_time": "2023-04-03T07:32:56.917Z"
   },
   {
    "duration": 10,
    "start_time": "2023-04-03T07:32:56.976Z"
   },
   {
    "duration": 22,
    "start_time": "2023-04-03T07:32:56.988Z"
   },
   {
    "duration": 31,
    "start_time": "2023-04-03T07:32:57.013Z"
   },
   {
    "duration": 15,
    "start_time": "2023-04-03T07:32:57.046Z"
   },
   {
    "duration": 11,
    "start_time": "2023-04-03T07:32:57.063Z"
   },
   {
    "duration": 27,
    "start_time": "2023-04-03T07:32:57.076Z"
   },
   {
    "duration": 31,
    "start_time": "2023-04-03T07:32:57.105Z"
   },
   {
    "duration": 12,
    "start_time": "2023-04-03T07:32:57.138Z"
   },
   {
    "duration": 23,
    "start_time": "2023-04-03T07:32:57.152Z"
   },
   {
    "duration": 31,
    "start_time": "2023-04-03T07:32:57.177Z"
   },
   {
    "duration": 57,
    "start_time": "2023-04-03T07:32:57.211Z"
   },
   {
    "duration": 13,
    "start_time": "2023-04-03T07:32:57.271Z"
   },
   {
    "duration": 50,
    "start_time": "2023-04-03T07:32:57.286Z"
   },
   {
    "duration": 9,
    "start_time": "2023-04-03T07:32:57.340Z"
   },
   {
    "duration": 29,
    "start_time": "2023-04-03T07:32:57.351Z"
   },
   {
    "duration": 46,
    "start_time": "2023-04-03T07:32:57.383Z"
   },
   {
    "duration": 22,
    "start_time": "2023-04-03T07:32:57.431Z"
   },
   {
    "duration": 20,
    "start_time": "2023-04-03T07:32:57.455Z"
   },
   {
    "duration": 483,
    "start_time": "2023-04-03T07:32:57.479Z"
   },
   {
    "duration": 11,
    "start_time": "2023-04-03T07:32:57.965Z"
   },
   {
    "duration": 401,
    "start_time": "2023-04-03T07:32:57.978Z"
   },
   {
    "duration": 82,
    "start_time": "2023-04-03T07:32:58.382Z"
   },
   {
    "duration": 89,
    "start_time": "2023-04-03T07:47:08.857Z"
   },
   {
    "duration": 88,
    "start_time": "2023-04-03T07:47:16.858Z"
   },
   {
    "duration": 100,
    "start_time": "2023-04-03T07:47:26.137Z"
   },
   {
    "duration": 66,
    "start_time": "2023-04-03T07:47:29.935Z"
   },
   {
    "duration": 93,
    "start_time": "2023-04-03T07:51:25.248Z"
   },
   {
    "duration": 75,
    "start_time": "2023-04-03T07:52:31.300Z"
   },
   {
    "duration": 87,
    "start_time": "2023-04-03T07:52:41.870Z"
   },
   {
    "duration": 101,
    "start_time": "2023-04-03T07:56:44.964Z"
   },
   {
    "duration": 67,
    "start_time": "2023-04-03T07:57:34.913Z"
   },
   {
    "duration": 25,
    "start_time": "2023-04-03T08:08:15.956Z"
   },
   {
    "duration": 94,
    "start_time": "2023-04-03T08:14:03.044Z"
   },
   {
    "duration": 69,
    "start_time": "2023-04-03T08:14:08.886Z"
   },
   {
    "duration": 19,
    "start_time": "2023-04-03T08:14:40.493Z"
   },
   {
    "duration": 19,
    "start_time": "2023-04-03T08:14:48.415Z"
   },
   {
    "duration": 277,
    "start_time": "2023-04-03T08:15:00.691Z"
   },
   {
    "duration": 21,
    "start_time": "2023-04-03T08:15:03.188Z"
   },
   {
    "duration": 20,
    "start_time": "2023-04-03T08:15:41.993Z"
   },
   {
    "duration": 9,
    "start_time": "2023-04-03T08:15:47.087Z"
   },
   {
    "duration": 89,
    "start_time": "2023-04-03T08:17:57.761Z"
   },
   {
    "duration": 95,
    "start_time": "2023-04-03T08:24:57.167Z"
   },
   {
    "duration": 68,
    "start_time": "2023-04-03T08:39:19.647Z"
   },
   {
    "duration": 400,
    "start_time": "2023-04-03T08:53:54.402Z"
   },
   {
    "duration": 2800,
    "start_time": "2023-04-03T08:54:14.606Z"
   },
   {
    "duration": 295,
    "start_time": "2023-04-03T08:55:10.593Z"
   },
   {
    "duration": 3281,
    "start_time": "2023-04-03T08:56:49.403Z"
   },
   {
    "duration": 118,
    "start_time": "2023-04-03T08:57:54.650Z"
   },
   {
    "duration": 985,
    "start_time": "2023-04-03T08:58:10.907Z"
   },
   {
    "duration": 676,
    "start_time": "2023-04-03T08:58:33.366Z"
   },
   {
    "duration": 843,
    "start_time": "2023-04-03T08:59:22.365Z"
   },
   {
    "duration": 296,
    "start_time": "2023-04-03T08:59:53.251Z"
   },
   {
    "duration": 308,
    "start_time": "2023-04-03T09:00:05.666Z"
   },
   {
    "duration": 390,
    "start_time": "2023-04-03T09:00:14.153Z"
   },
   {
    "duration": 22,
    "start_time": "2023-04-03T09:00:25.607Z"
   },
   {
    "duration": 18,
    "start_time": "2023-04-03T09:00:35.737Z"
   },
   {
    "duration": 849,
    "start_time": "2023-04-03T09:00:48.643Z"
   },
   {
    "duration": 2691,
    "start_time": "2023-04-03T09:01:00.367Z"
   },
   {
    "duration": 603,
    "start_time": "2023-04-03T09:05:56.855Z"
   },
   {
    "duration": 1134,
    "start_time": "2023-04-03T09:06:09.781Z"
   },
   {
    "duration": 3176,
    "start_time": "2023-04-03T09:06:19.329Z"
   },
   {
    "duration": 2620,
    "start_time": "2023-04-03T09:12:05.384Z"
   },
   {
    "duration": 4445,
    "start_time": "2023-04-03T09:12:35.457Z"
   },
   {
    "duration": 12,
    "start_time": "2023-04-03T09:15:25.337Z"
   },
   {
    "duration": 15,
    "start_time": "2023-04-03T09:16:10.643Z"
   },
   {
    "duration": 14,
    "start_time": "2023-04-03T09:16:41.811Z"
   },
   {
    "duration": 175,
    "start_time": "2023-04-03T09:18:54.309Z"
   },
   {
    "duration": 13,
    "start_time": "2023-04-03T09:28:29.084Z"
   },
   {
    "duration": 4,
    "start_time": "2023-04-03T09:28:34.448Z"
   },
   {
    "duration": 8,
    "start_time": "2023-04-03T09:28:40.782Z"
   },
   {
    "duration": 142,
    "start_time": "2023-04-03T09:31:05.559Z"
   },
   {
    "duration": 150,
    "start_time": "2023-04-03T09:31:54.448Z"
   },
   {
    "duration": 127,
    "start_time": "2023-04-03T09:31:57.873Z"
   },
   {
    "duration": 198,
    "start_time": "2023-04-03T09:32:23.509Z"
   },
   {
    "duration": 192,
    "start_time": "2023-04-03T09:32:30.178Z"
   },
   {
    "duration": 135,
    "start_time": "2023-04-03T09:32:32.101Z"
   },
   {
    "duration": 2969,
    "start_time": "2023-04-03T09:33:02.337Z"
   },
   {
    "duration": 192,
    "start_time": "2023-04-03T09:34:25.752Z"
   },
   {
    "duration": 473,
    "start_time": "2023-04-03T09:35:10.939Z"
   },
   {
    "duration": 9,
    "start_time": "2023-04-03T09:35:26.088Z"
   },
   {
    "duration": 49,
    "start_time": "2023-04-03T10:00:48.004Z"
   },
   {
    "duration": 14,
    "start_time": "2023-04-03T10:00:57.585Z"
   },
   {
    "duration": 86,
    "start_time": "2023-04-03T10:01:02.979Z"
   },
   {
    "duration": 2870,
    "start_time": "2023-04-03T10:02:22.179Z"
   },
   {
    "duration": 331,
    "start_time": "2023-04-03T10:02:35.452Z"
   },
   {
    "duration": 2963,
    "start_time": "2023-04-03T10:02:50.642Z"
   },
   {
    "duration": 18,
    "start_time": "2023-04-03T10:03:25.044Z"
   },
   {
    "duration": 110,
    "start_time": "2023-04-03T10:03:28.880Z"
   },
   {
    "duration": 18,
    "start_time": "2023-04-03T10:03:48.097Z"
   },
   {
    "duration": 77,
    "start_time": "2023-04-03T10:03:50.471Z"
   },
   {
    "duration": 2411,
    "start_time": "2023-04-03T10:11:08.614Z"
   },
   {
    "duration": 516,
    "start_time": "2023-04-03T10:12:47.570Z"
   },
   {
    "duration": 776,
    "start_time": "2023-04-03T10:13:14.774Z"
   },
   {
    "duration": 590,
    "start_time": "2023-04-03T10:13:20.483Z"
   },
   {
    "duration": 928,
    "start_time": "2023-04-03T10:13:29.415Z"
   },
   {
    "duration": 3221,
    "start_time": "2023-04-03T10:14:26.578Z"
   },
   {
    "duration": 565,
    "start_time": "2023-04-03T10:15:36.932Z"
   },
   {
    "duration": 2658,
    "start_time": "2023-04-03T10:15:50.533Z"
   },
   {
    "duration": 3588,
    "start_time": "2023-04-03T10:16:15.019Z"
   },
   {
    "duration": 538,
    "start_time": "2023-04-03T10:16:28.900Z"
   },
   {
    "duration": 661,
    "start_time": "2023-04-03T11:21:07.283Z"
   },
   {
    "duration": 1003,
    "start_time": "2023-04-03T11:21:17.294Z"
   },
   {
    "duration": 1060,
    "start_time": "2023-04-03T11:21:26.580Z"
   },
   {
    "duration": 6355,
    "start_time": "2023-04-03T11:22:47.404Z"
   },
   {
    "duration": 960,
    "start_time": "2023-04-03T11:23:08.009Z"
   },
   {
    "duration": 950,
    "start_time": "2023-04-03T11:23:17.704Z"
   },
   {
    "duration": 913,
    "start_time": "2023-04-03T11:34:46.050Z"
   },
   {
    "duration": 949,
    "start_time": "2023-04-03T11:38:32.215Z"
   },
   {
    "duration": 936,
    "start_time": "2023-04-03T11:38:47.367Z"
   },
   {
    "duration": 999,
    "start_time": "2023-04-03T11:39:03.742Z"
   },
   {
    "duration": 86,
    "start_time": "2023-04-03T11:50:24.277Z"
   },
   {
    "duration": 179,
    "start_time": "2023-04-03T11:50:36.268Z"
   },
   {
    "duration": 105,
    "start_time": "2023-04-03T11:50:39.930Z"
   },
   {
    "duration": 376,
    "start_time": "2023-04-03T11:51:08.916Z"
   },
   {
    "duration": 134,
    "start_time": "2023-04-03T11:51:19.329Z"
   },
   {
    "duration": 86,
    "start_time": "2023-04-03T11:51:27.991Z"
   },
   {
    "duration": 88,
    "start_time": "2023-04-03T11:51:29.468Z"
   },
   {
    "duration": 76,
    "start_time": "2023-04-03T11:51:35.331Z"
   },
   {
    "duration": 61,
    "start_time": "2023-04-03T11:51:45.555Z"
   },
   {
    "duration": 79,
    "start_time": "2023-04-03T11:51:48.163Z"
   },
   {
    "duration": 236,
    "start_time": "2023-04-03T11:51:56.638Z"
   },
   {
    "duration": 140,
    "start_time": "2023-04-03T11:52:08.009Z"
   },
   {
    "duration": 83,
    "start_time": "2023-04-03T11:52:12.165Z"
   },
   {
    "duration": 857,
    "start_time": "2023-04-03T11:52:39.250Z"
   },
   {
    "duration": 866,
    "start_time": "2023-04-03T11:52:54.363Z"
   },
   {
    "duration": 5855,
    "start_time": "2023-04-03T11:55:29.092Z"
   },
   {
    "duration": 880,
    "start_time": "2023-04-03T11:57:41.014Z"
   },
   {
    "duration": 6175,
    "start_time": "2023-04-03T11:58:41.892Z"
   },
   {
    "duration": 6020,
    "start_time": "2023-04-03T11:59:53.532Z"
   },
   {
    "duration": 1195,
    "start_time": "2023-04-03T12:00:36.209Z"
   },
   {
    "duration": 956,
    "start_time": "2023-04-03T12:01:05.025Z"
   },
   {
    "duration": 13,
    "start_time": "2023-04-03T12:37:14.780Z"
   },
   {
    "duration": 26,
    "start_time": "2023-04-03T12:37:42.808Z"
   },
   {
    "duration": 25,
    "start_time": "2023-04-03T12:37:45.868Z"
   },
   {
    "duration": 29,
    "start_time": "2023-04-03T12:37:56.407Z"
   },
   {
    "duration": 30,
    "start_time": "2023-04-03T12:38:02.716Z"
   },
   {
    "duration": 13,
    "start_time": "2023-04-03T12:38:16.981Z"
   },
   {
    "duration": 14,
    "start_time": "2023-04-03T12:38:20.249Z"
   },
   {
    "duration": 17,
    "start_time": "2023-04-03T12:38:21.242Z"
   },
   {
    "duration": 250,
    "start_time": "2023-04-03T12:38:26.088Z"
   },
   {
    "duration": 31,
    "start_time": "2023-04-03T12:38:27.994Z"
   },
   {
    "duration": 23,
    "start_time": "2023-04-03T12:40:16.571Z"
   },
   {
    "duration": 24,
    "start_time": "2023-04-03T12:40:48.137Z"
   },
   {
    "duration": 123,
    "start_time": "2023-04-03T12:46:01.625Z"
   },
   {
    "duration": 32,
    "start_time": "2023-04-03T12:46:10.398Z"
   },
   {
    "duration": 35,
    "start_time": "2023-04-03T12:51:10.212Z"
   },
   {
    "duration": 26,
    "start_time": "2023-04-03T12:51:14.940Z"
   },
   {
    "duration": 35,
    "start_time": "2023-04-03T12:53:29.507Z"
   },
   {
    "duration": 34,
    "start_time": "2023-04-03T12:53:31.135Z"
   },
   {
    "duration": 22,
    "start_time": "2023-04-03T12:53:42.285Z"
   },
   {
    "duration": 28,
    "start_time": "2023-04-03T12:53:47.276Z"
   },
   {
    "duration": 30,
    "start_time": "2023-04-03T12:54:02.247Z"
   },
   {
    "duration": 30,
    "start_time": "2023-04-03T12:55:22.977Z"
   },
   {
    "duration": 270,
    "start_time": "2023-04-03T12:56:57.587Z"
   },
   {
    "duration": 271,
    "start_time": "2023-04-03T12:57:09.003Z"
   },
   {
    "duration": 10,
    "start_time": "2023-04-03T12:57:28.480Z"
   },
   {
    "duration": 14,
    "start_time": "2023-04-03T12:57:37.490Z"
   },
   {
    "duration": 11,
    "start_time": "2023-04-03T12:57:49.628Z"
   },
   {
    "duration": 217,
    "start_time": "2023-04-03T12:57:51.977Z"
   },
   {
    "duration": 393,
    "start_time": "2023-04-03T12:58:11.967Z"
   },
   {
    "duration": 270,
    "start_time": "2023-04-03T13:00:00.864Z"
   },
   {
    "duration": 294,
    "start_time": "2023-04-03T13:01:06.302Z"
   },
   {
    "duration": 342,
    "start_time": "2023-04-03T13:01:11.796Z"
   },
   {
    "duration": 510,
    "start_time": "2023-04-03T13:01:47.730Z"
   },
   {
    "duration": 300,
    "start_time": "2023-04-03T13:01:53.582Z"
   },
   {
    "duration": 215,
    "start_time": "2023-04-03T13:09:40.402Z"
   },
   {
    "duration": 350,
    "start_time": "2023-04-03T13:09:43.347Z"
   },
   {
    "duration": 323,
    "start_time": "2023-04-03T13:10:53.761Z"
   },
   {
    "duration": 350,
    "start_time": "2023-04-03T13:12:01.697Z"
   },
   {
    "duration": 1241,
    "start_time": "2023-04-03T13:30:28.781Z"
   },
   {
    "duration": 162,
    "start_time": "2023-04-03T13:30:30.025Z"
   },
   {
    "duration": 13,
    "start_time": "2023-04-03T13:30:30.189Z"
   },
   {
    "duration": 45,
    "start_time": "2023-04-03T13:30:30.204Z"
   },
   {
    "duration": 42,
    "start_time": "2023-04-03T13:30:30.250Z"
   },
   {
    "duration": 47,
    "start_time": "2023-04-03T13:30:30.294Z"
   },
   {
    "duration": 77,
    "start_time": "2023-04-03T13:30:30.343Z"
   },
   {
    "duration": 46,
    "start_time": "2023-04-03T13:30:30.423Z"
   },
   {
    "duration": 38,
    "start_time": "2023-04-03T13:30:30.471Z"
   },
   {
    "duration": 51,
    "start_time": "2023-04-03T13:30:30.512Z"
   },
   {
    "duration": 47,
    "start_time": "2023-04-03T13:30:30.565Z"
   },
   {
    "duration": 42,
    "start_time": "2023-04-03T13:30:30.615Z"
   },
   {
    "duration": 50,
    "start_time": "2023-04-03T13:30:30.660Z"
   },
   {
    "duration": 48,
    "start_time": "2023-04-03T13:30:30.712Z"
   },
   {
    "duration": 36,
    "start_time": "2023-04-03T13:30:30.762Z"
   },
   {
    "duration": 46,
    "start_time": "2023-04-03T13:30:30.800Z"
   },
   {
    "duration": 44,
    "start_time": "2023-04-03T13:30:30.848Z"
   },
   {
    "duration": 67,
    "start_time": "2023-04-03T13:30:30.893Z"
   },
   {
    "duration": 39,
    "start_time": "2023-04-03T13:30:30.961Z"
   },
   {
    "duration": 61,
    "start_time": "2023-04-03T13:30:31.002Z"
   },
   {
    "duration": 51,
    "start_time": "2023-04-03T13:30:31.064Z"
   },
   {
    "duration": 68,
    "start_time": "2023-04-03T13:30:31.117Z"
   },
   {
    "duration": 89,
    "start_time": "2023-04-03T13:30:31.187Z"
   },
   {
    "duration": 154,
    "start_time": "2023-04-03T13:30:31.278Z"
   },
   {
    "duration": 125,
    "start_time": "2023-04-03T13:30:31.434Z"
   },
   {
    "duration": 82,
    "start_time": "2023-04-03T13:30:31.561Z"
   },
   {
    "duration": 25,
    "start_time": "2023-04-03T13:30:31.645Z"
   },
   {
    "duration": 470,
    "start_time": "2023-04-03T13:30:31.674Z"
   },
   {
    "duration": 10,
    "start_time": "2023-04-03T13:30:32.146Z"
   },
   {
    "duration": 342,
    "start_time": "2023-04-03T13:30:32.158Z"
   },
   {
    "duration": 3,
    "start_time": "2023-04-03T13:30:32.501Z"
   },
   {
    "duration": 104,
    "start_time": "2023-04-03T13:30:32.505Z"
   },
   {
    "duration": 979,
    "start_time": "2023-04-03T13:30:32.612Z"
   },
   {
    "duration": 40,
    "start_time": "2023-04-03T13:30:33.593Z"
   },
   {
    "duration": 340,
    "start_time": "2023-04-03T13:30:33.635Z"
   },
   {
    "duration": 280,
    "start_time": "2023-04-03T14:20:18.187Z"
   },
   {
    "duration": 384,
    "start_time": "2023-04-03T14:21:06.904Z"
   },
   {
    "duration": 128,
    "start_time": "2023-04-03T14:26:43.922Z"
   },
   {
    "duration": 195,
    "start_time": "2023-04-03T14:27:08.876Z"
   },
   {
    "duration": 18,
    "start_time": "2023-04-03T14:27:24.701Z"
   },
   {
    "duration": 292,
    "start_time": "2023-04-03T14:28:15.787Z"
   },
   {
    "duration": 342,
    "start_time": "2023-04-03T14:28:22.414Z"
   },
   {
    "duration": 16,
    "start_time": "2023-04-03T15:02:56.448Z"
   },
   {
    "duration": 357,
    "start_time": "2023-04-03T15:03:06.684Z"
   },
   {
    "duration": 19,
    "start_time": "2023-04-03T15:16:19.580Z"
   },
   {
    "duration": 197,
    "start_time": "2023-04-03T15:16:36.840Z"
   },
   {
    "duration": 220,
    "start_time": "2023-04-03T15:17:18.384Z"
   },
   {
    "duration": 286,
    "start_time": "2023-04-03T15:17:26.407Z"
   },
   {
    "duration": 93,
    "start_time": "2023-04-03T15:17:34.042Z"
   },
   {
    "duration": 171,
    "start_time": "2023-04-03T15:17:51.443Z"
   },
   {
    "duration": 285,
    "start_time": "2023-04-03T15:18:40.190Z"
   },
   {
    "duration": 180,
    "start_time": "2023-04-03T15:18:46.499Z"
   },
   {
    "duration": 305,
    "start_time": "2023-04-03T15:18:52.207Z"
   },
   {
    "duration": 190,
    "start_time": "2023-04-03T15:19:01.677Z"
   },
   {
    "duration": 172,
    "start_time": "2023-04-03T15:19:20.136Z"
   },
   {
    "duration": 202,
    "start_time": "2023-04-03T15:19:24.417Z"
   },
   {
    "duration": 160,
    "start_time": "2023-04-03T15:20:05.399Z"
   },
   {
    "duration": 182,
    "start_time": "2023-04-03T15:20:09.382Z"
   },
   {
    "duration": 159,
    "start_time": "2023-04-03T15:20:39.942Z"
   },
   {
    "duration": 191,
    "start_time": "2023-04-03T15:20:46.417Z"
   },
   {
    "duration": 259,
    "start_time": "2023-04-03T15:20:50.348Z"
   },
   {
    "duration": 184,
    "start_time": "2023-04-03T15:21:37.576Z"
   },
   {
    "duration": 169,
    "start_time": "2023-04-03T15:21:58.344Z"
   },
   {
    "duration": 207,
    "start_time": "2023-04-03T15:22:10.945Z"
   },
   {
    "duration": 19,
    "start_time": "2023-04-03T15:32:44.904Z"
   },
   {
    "duration": 100,
    "start_time": "2023-04-03T15:33:16.081Z"
   },
   {
    "duration": 188,
    "start_time": "2023-04-03T15:33:28.257Z"
   },
   {
    "duration": 222,
    "start_time": "2023-04-03T15:33:41.858Z"
   },
   {
    "duration": 192,
    "start_time": "2023-04-03T15:33:45.375Z"
   },
   {
    "duration": 193,
    "start_time": "2023-04-03T15:33:52.178Z"
   },
   {
    "duration": 207,
    "start_time": "2023-04-03T15:33:56.182Z"
   },
   {
    "duration": 202,
    "start_time": "2023-04-03T15:34:01.674Z"
   },
   {
    "duration": 182,
    "start_time": "2023-04-03T15:34:06.730Z"
   },
   {
    "duration": 265,
    "start_time": "2023-04-03T15:34:10.797Z"
   },
   {
    "duration": 61,
    "start_time": "2023-04-04T07:34:32.616Z"
   },
   {
    "duration": 1397,
    "start_time": "2023-04-04T07:34:38.888Z"
   },
   {
    "duration": 200,
    "start_time": "2023-04-04T07:34:40.287Z"
   },
   {
    "duration": 13,
    "start_time": "2023-04-04T07:34:40.489Z"
   },
   {
    "duration": 17,
    "start_time": "2023-04-04T07:34:40.505Z"
   },
   {
    "duration": 24,
    "start_time": "2023-04-04T07:34:40.524Z"
   },
   {
    "duration": 12,
    "start_time": "2023-04-04T07:34:40.549Z"
   },
   {
    "duration": 54,
    "start_time": "2023-04-04T07:34:40.563Z"
   },
   {
    "duration": 20,
    "start_time": "2023-04-04T07:34:40.619Z"
   },
   {
    "duration": 38,
    "start_time": "2023-04-04T07:34:40.640Z"
   },
   {
    "duration": 23,
    "start_time": "2023-04-04T07:34:40.682Z"
   },
   {
    "duration": 19,
    "start_time": "2023-04-04T07:34:40.707Z"
   },
   {
    "duration": 27,
    "start_time": "2023-04-04T07:34:40.728Z"
   },
   {
    "duration": 15,
    "start_time": "2023-04-04T07:34:40.757Z"
   },
   {
    "duration": 16,
    "start_time": "2023-04-04T07:34:40.774Z"
   },
   {
    "duration": 17,
    "start_time": "2023-04-04T07:34:40.792Z"
   },
   {
    "duration": 21,
    "start_time": "2023-04-04T07:34:40.812Z"
   },
   {
    "duration": 20,
    "start_time": "2023-04-04T07:34:40.835Z"
   },
   {
    "duration": 16,
    "start_time": "2023-04-04T07:34:40.857Z"
   },
   {
    "duration": 21,
    "start_time": "2023-04-04T07:34:40.875Z"
   },
   {
    "duration": 34,
    "start_time": "2023-04-04T07:34:40.899Z"
   },
   {
    "duration": 45,
    "start_time": "2023-04-04T07:34:40.935Z"
   },
   {
    "duration": 33,
    "start_time": "2023-04-04T07:34:40.983Z"
   },
   {
    "duration": 14,
    "start_time": "2023-04-04T07:34:41.018Z"
   },
   {
    "duration": 34,
    "start_time": "2023-04-04T07:34:41.034Z"
   },
   {
    "duration": 36,
    "start_time": "2023-04-04T07:34:41.070Z"
   },
   {
    "duration": 34,
    "start_time": "2023-04-04T07:34:41.108Z"
   },
   {
    "duration": 56,
    "start_time": "2023-04-04T07:34:41.143Z"
   },
   {
    "duration": 445,
    "start_time": "2023-04-04T07:34:41.203Z"
   },
   {
    "duration": 13,
    "start_time": "2023-04-04T07:34:41.650Z"
   },
   {
    "duration": 407,
    "start_time": "2023-04-04T07:34:41.666Z"
   },
   {
    "duration": 3,
    "start_time": "2023-04-04T07:34:42.074Z"
   },
   {
    "duration": 91,
    "start_time": "2023-04-04T07:34:42.079Z"
   },
   {
    "duration": 1107,
    "start_time": "2023-04-04T07:34:42.172Z"
   },
   {
    "duration": 37,
    "start_time": "2023-04-04T07:34:43.281Z"
   },
   {
    "duration": 352,
    "start_time": "2023-04-04T07:34:43.320Z"
   },
   {
    "duration": 289,
    "start_time": "2023-04-04T07:34:43.673Z"
   },
   {
    "duration": 270,
    "start_time": "2023-04-04T07:34:43.965Z"
   },
   {
    "duration": 25,
    "start_time": "2023-04-04T07:34:44.237Z"
   },
   {
    "duration": 4,
    "start_time": "2023-04-04T08:24:25.466Z"
   },
   {
    "duration": 6,
    "start_time": "2023-04-04T08:24:34.063Z"
   },
   {
    "duration": 216,
    "start_time": "2023-04-04T08:26:17.776Z"
   },
   {
    "duration": 221,
    "start_time": "2023-04-04T08:28:12.171Z"
   },
   {
    "duration": 6,
    "start_time": "2023-04-04T08:28:42.236Z"
   },
   {
    "duration": 201,
    "start_time": "2023-04-04T08:36:16.971Z"
   },
   {
    "duration": 214,
    "start_time": "2023-04-04T08:36:23.901Z"
   },
   {
    "duration": 209,
    "start_time": "2023-04-04T08:36:28.704Z"
   },
   {
    "duration": 208,
    "start_time": "2023-04-04T08:36:54.781Z"
   },
   {
    "duration": 205,
    "start_time": "2023-04-04T08:37:03.254Z"
   },
   {
    "duration": 104,
    "start_time": "2023-04-04T08:45:29.294Z"
   },
   {
    "duration": 236,
    "start_time": "2023-04-04T08:54:42.756Z"
   },
   {
    "duration": 209,
    "start_time": "2023-04-04T08:56:00.551Z"
   },
   {
    "duration": 209,
    "start_time": "2023-04-04T08:56:11.348Z"
   },
   {
    "duration": 199,
    "start_time": "2023-04-04T08:56:15.857Z"
   },
   {
    "duration": 294,
    "start_time": "2023-04-04T09:23:47.067Z"
   },
   {
    "duration": 201,
    "start_time": "2023-04-04T09:27:20.607Z"
   },
   {
    "duration": 190,
    "start_time": "2023-04-04T09:29:00.785Z"
   },
   {
    "duration": 189,
    "start_time": "2023-04-04T09:29:29.338Z"
   },
   {
    "duration": 196,
    "start_time": "2023-04-04T09:31:18.834Z"
   },
   {
    "duration": 188,
    "start_time": "2023-04-04T09:31:34.153Z"
   },
   {
    "duration": 198,
    "start_time": "2023-04-04T09:31:41.589Z"
   },
   {
    "duration": 1383,
    "start_time": "2023-04-04T09:31:59.667Z"
   },
   {
    "duration": 96,
    "start_time": "2023-04-04T09:32:01.053Z"
   },
   {
    "duration": 23,
    "start_time": "2023-04-04T09:32:01.152Z"
   },
   {
    "duration": 48,
    "start_time": "2023-04-04T09:32:01.178Z"
   },
   {
    "duration": 81,
    "start_time": "2023-04-04T09:32:01.228Z"
   },
   {
    "duration": 83,
    "start_time": "2023-04-04T09:32:01.312Z"
   },
   {
    "duration": 82,
    "start_time": "2023-04-04T09:32:01.397Z"
   },
   {
    "duration": 88,
    "start_time": "2023-04-04T09:32:01.481Z"
   },
   {
    "duration": 83,
    "start_time": "2023-04-04T09:32:01.573Z"
   },
   {
    "duration": 48,
    "start_time": "2023-04-04T09:32:01.660Z"
   },
   {
    "duration": 62,
    "start_time": "2023-04-04T09:32:01.711Z"
   },
   {
    "duration": 38,
    "start_time": "2023-04-04T09:32:01.776Z"
   },
   {
    "duration": 56,
    "start_time": "2023-04-04T09:32:01.816Z"
   },
   {
    "duration": 90,
    "start_time": "2023-04-04T09:32:01.874Z"
   },
   {
    "duration": 109,
    "start_time": "2023-04-04T09:32:01.966Z"
   },
   {
    "duration": 31,
    "start_time": "2023-04-04T09:32:02.078Z"
   },
   {
    "duration": 43,
    "start_time": "2023-04-04T09:32:02.112Z"
   },
   {
    "duration": 19,
    "start_time": "2023-04-04T09:32:02.156Z"
   },
   {
    "duration": 118,
    "start_time": "2023-04-04T09:32:02.177Z"
   },
   {
    "duration": 60,
    "start_time": "2023-04-04T09:32:02.298Z"
   },
   {
    "duration": 15,
    "start_time": "2023-04-04T09:32:02.361Z"
   },
   {
    "duration": 61,
    "start_time": "2023-04-04T09:32:02.378Z"
   },
   {
    "duration": 7,
    "start_time": "2023-04-04T09:32:02.444Z"
   },
   {
    "duration": 45,
    "start_time": "2023-04-04T09:32:02.453Z"
   },
   {
    "duration": 62,
    "start_time": "2023-04-04T09:32:02.500Z"
   },
   {
    "duration": 34,
    "start_time": "2023-04-04T09:32:02.565Z"
   },
   {
    "duration": 54,
    "start_time": "2023-04-04T09:32:02.601Z"
   },
   {
    "duration": 644,
    "start_time": "2023-04-04T09:32:02.662Z"
   },
   {
    "duration": 18,
    "start_time": "2023-04-04T09:32:03.308Z"
   },
   {
    "duration": 458,
    "start_time": "2023-04-04T09:32:03.336Z"
   },
   {
    "duration": 3,
    "start_time": "2023-04-04T09:32:03.796Z"
   },
   {
    "duration": 115,
    "start_time": "2023-04-04T09:32:03.801Z"
   },
   {
    "duration": 1057,
    "start_time": "2023-04-04T09:32:03.920Z"
   },
   {
    "duration": 57,
    "start_time": "2023-04-04T09:32:04.978Z"
   },
   {
    "duration": 406,
    "start_time": "2023-04-04T09:32:05.038Z"
   },
   {
    "duration": 326,
    "start_time": "2023-04-04T09:32:05.446Z"
   },
   {
    "duration": 328,
    "start_time": "2023-04-04T09:32:05.774Z"
   },
   {
    "duration": 5,
    "start_time": "2023-04-04T09:32:06.104Z"
   },
   {
    "duration": 265,
    "start_time": "2023-04-04T09:32:06.122Z"
   },
   {
    "duration": 5,
    "start_time": "2023-04-04T09:32:06.389Z"
   },
   {
    "duration": 275,
    "start_time": "2023-04-04T09:32:06.395Z"
   },
   {
    "duration": 259,
    "start_time": "2023-04-04T09:32:06.672Z"
   },
   {
    "duration": 209,
    "start_time": "2023-04-04T09:34:35.580Z"
   },
   {
    "duration": 7,
    "start_time": "2023-04-04T09:41:42.797Z"
   },
   {
    "duration": 6,
    "start_time": "2023-04-04T09:41:56.064Z"
   },
   {
    "duration": 193,
    "start_time": "2023-04-04T09:51:12.675Z"
   },
   {
    "duration": 16,
    "start_time": "2023-04-04T10:18:48.559Z"
   },
   {
    "duration": 371,
    "start_time": "2023-04-04T10:19:22.750Z"
   },
   {
    "duration": 205,
    "start_time": "2023-04-04T10:19:28.425Z"
   },
   {
    "duration": 17,
    "start_time": "2023-04-04T10:19:35.685Z"
   },
   {
    "duration": 20,
    "start_time": "2023-04-04T10:20:07.179Z"
   },
   {
    "duration": 328,
    "start_time": "2023-04-04T10:24:39.571Z"
   },
   {
    "duration": 96,
    "start_time": "2023-04-04T10:25:44.480Z"
   },
   {
    "duration": 11,
    "start_time": "2023-04-04T10:25:51.331Z"
   },
   {
    "duration": 15,
    "start_time": "2023-04-04T10:26:04.759Z"
   },
   {
    "duration": 18,
    "start_time": "2023-04-04T10:27:22.495Z"
   },
   {
    "duration": 141,
    "start_time": "2023-04-04T10:31:49.239Z"
   },
   {
    "duration": 272,
    "start_time": "2023-04-04T10:31:55.481Z"
   },
   {
    "duration": 309,
    "start_time": "2023-04-04T10:32:17.866Z"
   },
   {
    "duration": 271,
    "start_time": "2023-04-04T10:33:02.289Z"
   },
   {
    "duration": 283,
    "start_time": "2023-04-04T10:33:54.858Z"
   },
   {
    "duration": 1556,
    "start_time": "2023-04-04T12:54:30.066Z"
   },
   {
    "duration": 130,
    "start_time": "2023-04-04T12:54:31.624Z"
   },
   {
    "duration": 26,
    "start_time": "2023-04-04T12:54:31.757Z"
   },
   {
    "duration": 36,
    "start_time": "2023-04-04T12:54:31.786Z"
   },
   {
    "duration": 51,
    "start_time": "2023-04-04T12:54:31.823Z"
   },
   {
    "duration": 32,
    "start_time": "2023-04-04T12:54:31.876Z"
   },
   {
    "duration": 87,
    "start_time": "2023-04-04T12:54:31.911Z"
   },
   {
    "duration": 24,
    "start_time": "2023-04-04T12:54:32.000Z"
   },
   {
    "duration": 43,
    "start_time": "2023-04-04T12:54:32.026Z"
   },
   {
    "duration": 21,
    "start_time": "2023-04-04T12:54:32.072Z"
   },
   {
    "duration": 23,
    "start_time": "2023-04-04T12:54:32.094Z"
   },
   {
    "duration": 20,
    "start_time": "2023-04-04T12:54:32.119Z"
   },
   {
    "duration": 25,
    "start_time": "2023-04-04T12:54:32.140Z"
   },
   {
    "duration": 9,
    "start_time": "2023-04-04T12:54:32.167Z"
   },
   {
    "duration": 27,
    "start_time": "2023-04-04T12:54:32.178Z"
   },
   {
    "duration": 20,
    "start_time": "2023-04-04T12:54:32.207Z"
   },
   {
    "duration": 17,
    "start_time": "2023-04-04T12:54:32.229Z"
   },
   {
    "duration": 23,
    "start_time": "2023-04-04T12:54:32.248Z"
   },
   {
    "duration": 11,
    "start_time": "2023-04-04T12:54:32.276Z"
   },
   {
    "duration": 42,
    "start_time": "2023-04-04T12:54:32.290Z"
   },
   {
    "duration": 9,
    "start_time": "2023-04-04T12:54:32.333Z"
   },
   {
    "duration": 32,
    "start_time": "2023-04-04T12:54:32.345Z"
   },
   {
    "duration": 16,
    "start_time": "2023-04-04T12:54:32.380Z"
   },
   {
    "duration": 54,
    "start_time": "2023-04-04T12:54:32.398Z"
   },
   {
    "duration": 30,
    "start_time": "2023-04-04T12:54:32.454Z"
   },
   {
    "duration": 24,
    "start_time": "2023-04-04T12:54:32.486Z"
   },
   {
    "duration": 12,
    "start_time": "2023-04-04T12:54:32.512Z"
   },
   {
    "duration": 455,
    "start_time": "2023-04-04T12:54:32.529Z"
   },
   {
    "duration": 11,
    "start_time": "2023-04-04T12:54:32.986Z"
   },
   {
    "duration": 392,
    "start_time": "2023-04-04T12:54:32.999Z"
   },
   {
    "duration": 3,
    "start_time": "2023-04-04T12:54:33.394Z"
   },
   {
    "duration": 119,
    "start_time": "2023-04-04T12:54:33.399Z"
   },
   {
    "duration": 1087,
    "start_time": "2023-04-04T12:54:33.519Z"
   },
   {
    "duration": 62,
    "start_time": "2023-04-04T12:54:34.608Z"
   },
   {
    "duration": 413,
    "start_time": "2023-04-04T12:54:34.673Z"
   },
   {
    "duration": 397,
    "start_time": "2023-04-04T12:54:35.087Z"
   },
   {
    "duration": 310,
    "start_time": "2023-04-04T12:54:35.487Z"
   },
   {
    "duration": 6,
    "start_time": "2023-04-04T12:54:35.799Z"
   },
   {
    "duration": 233,
    "start_time": "2023-04-04T12:54:35.806Z"
   },
   {
    "duration": 5,
    "start_time": "2023-04-04T12:54:36.043Z"
   },
   {
    "duration": 206,
    "start_time": "2023-04-04T12:54:36.050Z"
   },
   {
    "duration": 17,
    "start_time": "2023-04-04T12:54:36.261Z"
   },
   {
    "duration": 181,
    "start_time": "2023-04-04T12:54:36.280Z"
   },
   {
    "duration": 18,
    "start_time": "2023-04-04T12:54:36.470Z"
   },
   {
    "duration": 17,
    "start_time": "2023-04-04T12:54:36.490Z"
   },
   {
    "duration": 260,
    "start_time": "2023-04-04T12:54:36.509Z"
   },
   {
    "duration": 53,
    "start_time": "2023-04-04T12:54:36.775Z"
   },
   {
    "duration": 199,
    "start_time": "2023-04-04T12:55:13.148Z"
   },
   {
    "duration": 6,
    "start_time": "2023-04-04T12:55:26.406Z"
   },
   {
    "duration": 203,
    "start_time": "2023-04-04T12:55:30.691Z"
   },
   {
    "duration": 197,
    "start_time": "2023-04-04T12:55:42.248Z"
   },
   {
    "duration": 183,
    "start_time": "2023-04-04T12:55:45.577Z"
   },
   {
    "duration": 8,
    "start_time": "2023-04-04T12:55:47.391Z"
   },
   {
    "duration": 18,
    "start_time": "2023-04-04T12:56:02.083Z"
   },
   {
    "duration": 239,
    "start_time": "2023-04-04T12:56:19.069Z"
   },
   {
    "duration": 153,
    "start_time": "2023-04-04T13:07:18.258Z"
   },
   {
    "duration": 22,
    "start_time": "2023-04-04T13:07:30.892Z"
   },
   {
    "duration": 15,
    "start_time": "2023-04-04T13:09:43.520Z"
   },
   {
    "duration": 20,
    "start_time": "2023-04-04T13:13:07.415Z"
   },
   {
    "duration": 24,
    "start_time": "2023-04-04T13:13:18.934Z"
   },
   {
    "duration": 11,
    "start_time": "2023-04-04T13:15:32.028Z"
   },
   {
    "duration": 20,
    "start_time": "2023-04-04T13:15:35.618Z"
   },
   {
    "duration": 23,
    "start_time": "2023-04-04T13:15:59.715Z"
   },
   {
    "duration": 55,
    "start_time": "2023-04-04T13:18:56.169Z"
   },
   {
    "duration": 29,
    "start_time": "2023-04-04T13:20:39.207Z"
   },
   {
    "duration": 50,
    "start_time": "2023-04-04T13:20:42.557Z"
   },
   {
    "duration": 23,
    "start_time": "2023-04-04T13:22:03.792Z"
   },
   {
    "duration": 43,
    "start_time": "2023-04-04T13:22:21.889Z"
   },
   {
    "duration": 47,
    "start_time": "2023-04-04T13:22:48.860Z"
   },
   {
    "duration": 8,
    "start_time": "2023-04-04T13:23:09.535Z"
   },
   {
    "duration": 36,
    "start_time": "2023-04-04T13:41:12.886Z"
   },
   {
    "duration": 34,
    "start_time": "2023-04-04T13:45:05.026Z"
   },
   {
    "duration": 103,
    "start_time": "2023-04-04T13:52:21.899Z"
   },
   {
    "duration": 12,
    "start_time": "2023-04-04T14:33:12.521Z"
   },
   {
    "duration": 13,
    "start_time": "2023-04-04T14:34:23.623Z"
   },
   {
    "duration": 173,
    "start_time": "2023-04-04T14:34:29.887Z"
   },
   {
    "duration": 257,
    "start_time": "2023-04-04T14:35:47.446Z"
   },
   {
    "duration": 186,
    "start_time": "2023-04-04T14:36:05.926Z"
   },
   {
    "duration": 161,
    "start_time": "2023-04-04T14:36:21.588Z"
   },
   {
    "duration": 17,
    "start_time": "2023-04-04T14:36:37.586Z"
   },
   {
    "duration": 157,
    "start_time": "2023-04-04T14:36:41.884Z"
   },
   {
    "duration": 152,
    "start_time": "2023-04-04T14:36:53.696Z"
   },
   {
    "duration": 164,
    "start_time": "2023-04-04T14:37:09.409Z"
   },
   {
    "duration": 175,
    "start_time": "2023-04-04T14:37:27.994Z"
   },
   {
    "duration": 190,
    "start_time": "2023-04-04T14:40:48.205Z"
   },
   {
    "duration": 157,
    "start_time": "2023-04-04T14:41:26.252Z"
   },
   {
    "duration": 11,
    "start_time": "2023-04-04T14:42:35.620Z"
   },
   {
    "duration": 169,
    "start_time": "2023-04-04T14:42:40.088Z"
   },
   {
    "duration": 16,
    "start_time": "2023-04-04T14:42:54.103Z"
   },
   {
    "duration": 13,
    "start_time": "2023-04-04T14:42:55.387Z"
   },
   {
    "duration": 178,
    "start_time": "2023-04-04T14:43:14.103Z"
   },
   {
    "duration": 230,
    "start_time": "2023-04-04T14:43:21.806Z"
   },
   {
    "duration": 163,
    "start_time": "2023-04-04T14:43:40.741Z"
   },
   {
    "duration": 182,
    "start_time": "2023-04-04T14:43:59.517Z"
   },
   {
    "duration": 183,
    "start_time": "2023-04-04T14:44:06.100Z"
   },
   {
    "duration": 165,
    "start_time": "2023-04-04T14:44:31.638Z"
   },
   {
    "duration": 63,
    "start_time": "2023-04-04T14:45:08.057Z"
   },
   {
    "duration": 50,
    "start_time": "2023-04-04T14:46:20.385Z"
   },
   {
    "duration": 19,
    "start_time": "2023-04-04T14:49:29.676Z"
   },
   {
    "duration": 155,
    "start_time": "2023-04-04T14:49:32.942Z"
   },
   {
    "duration": 171,
    "start_time": "2023-04-04T14:49:51.607Z"
   },
   {
    "duration": 161,
    "start_time": "2023-04-04T14:50:46.175Z"
   },
   {
    "duration": 24,
    "start_time": "2023-04-04T14:50:59.753Z"
   },
   {
    "duration": 18,
    "start_time": "2023-04-04T14:51:03.427Z"
   },
   {
    "duration": 154,
    "start_time": "2023-04-04T14:51:10.500Z"
   },
   {
    "duration": 53,
    "start_time": "2023-04-05T10:03:33.075Z"
   },
   {
    "duration": 1467,
    "start_time": "2023-04-05T10:03:38.788Z"
   },
   {
    "duration": 127,
    "start_time": "2023-04-05T10:03:40.259Z"
   },
   {
    "duration": 22,
    "start_time": "2023-04-05T10:03:40.388Z"
   },
   {
    "duration": 53,
    "start_time": "2023-04-05T10:03:40.412Z"
   },
   {
    "duration": 29,
    "start_time": "2023-04-05T10:03:40.468Z"
   },
   {
    "duration": 19,
    "start_time": "2023-04-05T10:03:40.499Z"
   },
   {
    "duration": 50,
    "start_time": "2023-04-05T10:03:40.521Z"
   },
   {
    "duration": 29,
    "start_time": "2023-04-05T10:03:40.573Z"
   },
   {
    "duration": 29,
    "start_time": "2023-04-05T10:03:40.603Z"
   },
   {
    "duration": 16,
    "start_time": "2023-04-05T10:03:40.634Z"
   },
   {
    "duration": 13,
    "start_time": "2023-04-05T10:03:40.651Z"
   },
   {
    "duration": 18,
    "start_time": "2023-04-05T10:03:40.666Z"
   },
   {
    "duration": 21,
    "start_time": "2023-04-05T10:03:40.686Z"
   },
   {
    "duration": 7,
    "start_time": "2023-04-05T10:03:40.710Z"
   },
   {
    "duration": 10,
    "start_time": "2023-04-05T10:03:40.719Z"
   },
   {
    "duration": 16,
    "start_time": "2023-04-05T10:03:40.730Z"
   },
   {
    "duration": 8,
    "start_time": "2023-04-05T10:03:40.748Z"
   },
   {
    "duration": 11,
    "start_time": "2023-04-05T10:03:40.758Z"
   },
   {
    "duration": 23,
    "start_time": "2023-04-05T10:03:40.772Z"
   },
   {
    "duration": 46,
    "start_time": "2023-04-05T10:03:40.796Z"
   },
   {
    "duration": 8,
    "start_time": "2023-04-05T10:03:40.844Z"
   },
   {
    "duration": 21,
    "start_time": "2023-04-05T10:03:40.853Z"
   },
   {
    "duration": 4,
    "start_time": "2023-04-05T10:03:40.876Z"
   },
   {
    "duration": 15,
    "start_time": "2023-04-05T10:03:40.882Z"
   },
   {
    "duration": 15,
    "start_time": "2023-04-05T10:03:40.924Z"
   },
   {
    "duration": 18,
    "start_time": "2023-04-05T10:03:40.941Z"
   },
   {
    "duration": 31,
    "start_time": "2023-04-05T10:03:40.961Z"
   },
   {
    "duration": 416,
    "start_time": "2023-04-05T10:03:40.994Z"
   },
   {
    "duration": 15,
    "start_time": "2023-04-05T10:03:41.412Z"
   },
   {
    "duration": 346,
    "start_time": "2023-04-05T10:03:41.429Z"
   },
   {
    "duration": 2,
    "start_time": "2023-04-05T10:03:41.777Z"
   },
   {
    "duration": 81,
    "start_time": "2023-04-05T10:03:41.781Z"
   },
   {
    "duration": 1005,
    "start_time": "2023-04-05T10:03:41.864Z"
   },
   {
    "duration": 30,
    "start_time": "2023-04-05T10:03:42.871Z"
   },
   {
    "duration": 341,
    "start_time": "2023-04-05T10:03:42.903Z"
   },
   {
    "duration": 277,
    "start_time": "2023-04-05T10:03:43.246Z"
   },
   {
    "duration": 280,
    "start_time": "2023-04-05T10:03:43.525Z"
   },
   {
    "duration": 6,
    "start_time": "2023-04-05T10:03:43.807Z"
   },
   {
    "duration": 187,
    "start_time": "2023-04-05T10:03:43.823Z"
   },
   {
    "duration": 12,
    "start_time": "2023-04-05T10:03:44.012Z"
   },
   {
    "duration": 184,
    "start_time": "2023-04-05T10:03:44.030Z"
   },
   {
    "duration": 11,
    "start_time": "2023-04-05T10:03:44.216Z"
   },
   {
    "duration": 175,
    "start_time": "2023-04-05T10:03:44.228Z"
   },
   {
    "duration": 6,
    "start_time": "2023-04-05T10:03:44.404Z"
   },
   {
    "duration": 28,
    "start_time": "2023-04-05T10:03:44.411Z"
   },
   {
    "duration": 231,
    "start_time": "2023-04-05T10:03:44.440Z"
   },
   {
    "duration": 51,
    "start_time": "2023-04-05T10:03:44.673Z"
   },
   {
    "duration": 39,
    "start_time": "2023-04-05T10:03:44.726Z"
   },
   {
    "duration": 177,
    "start_time": "2023-04-05T10:03:44.767Z"
   },
   {
    "duration": 201,
    "start_time": "2023-04-05T10:03:44.946Z"
   },
   {
    "duration": 177,
    "start_time": "2023-04-05T10:03:45.149Z"
   },
   {
    "duration": 15,
    "start_time": "2023-04-05T10:03:45.328Z"
   },
   {
    "duration": 24,
    "start_time": "2023-04-05T10:04:12.393Z"
   },
   {
    "duration": 122,
    "start_time": "2023-04-05T10:04:49.724Z"
   },
   {
    "duration": 20,
    "start_time": "2023-04-05T10:05:01.003Z"
   },
   {
    "duration": 19,
    "start_time": "2023-04-05T10:19:18.478Z"
   },
   {
    "duration": 18,
    "start_time": "2023-04-05T10:21:45.584Z"
   },
   {
    "duration": 22,
    "start_time": "2023-04-05T10:21:56.108Z"
   },
   {
    "duration": 18,
    "start_time": "2023-04-05T10:22:00.698Z"
   },
   {
    "duration": 18,
    "start_time": "2023-04-05T10:22:03.842Z"
   },
   {
    "duration": 26,
    "start_time": "2023-04-05T10:22:13.677Z"
   },
   {
    "duration": 18,
    "start_time": "2023-04-05T10:22:17.131Z"
   },
   {
    "duration": 18,
    "start_time": "2023-04-05T10:22:25.796Z"
   },
   {
    "duration": 58,
    "start_time": "2023-04-05T10:39:53.551Z"
   },
   {
    "duration": 47,
    "start_time": "2023-04-05T10:50:42.960Z"
   },
   {
    "duration": 53,
    "start_time": "2023-04-05T10:54:18.837Z"
   },
   {
    "duration": 1377,
    "start_time": "2023-04-05T11:34:29.537Z"
   },
   {
    "duration": 77,
    "start_time": "2023-04-05T11:34:30.916Z"
   },
   {
    "duration": 15,
    "start_time": "2023-04-05T11:34:30.995Z"
   },
   {
    "duration": 52,
    "start_time": "2023-04-05T11:34:31.013Z"
   },
   {
    "duration": 35,
    "start_time": "2023-04-05T11:34:31.067Z"
   },
   {
    "duration": 31,
    "start_time": "2023-04-05T11:34:31.103Z"
   },
   {
    "duration": 70,
    "start_time": "2023-04-05T11:34:31.135Z"
   },
   {
    "duration": 28,
    "start_time": "2023-04-05T11:34:31.207Z"
   },
   {
    "duration": 58,
    "start_time": "2023-04-05T11:34:31.236Z"
   },
   {
    "duration": 61,
    "start_time": "2023-04-05T11:34:31.296Z"
   },
   {
    "duration": 26,
    "start_time": "2023-04-05T11:34:31.358Z"
   },
   {
    "duration": 31,
    "start_time": "2023-04-05T11:34:31.385Z"
   },
   {
    "duration": 60,
    "start_time": "2023-04-05T11:34:31.418Z"
   },
   {
    "duration": 18,
    "start_time": "2023-04-05T11:34:31.480Z"
   },
   {
    "duration": 23,
    "start_time": "2023-04-05T11:34:31.500Z"
   },
   {
    "duration": 64,
    "start_time": "2023-04-05T11:34:31.525Z"
   },
   {
    "duration": 9,
    "start_time": "2023-04-05T11:34:31.594Z"
   },
   {
    "duration": 21,
    "start_time": "2023-04-05T11:34:31.605Z"
   },
   {
    "duration": 49,
    "start_time": "2023-04-05T11:34:31.628Z"
   },
   {
    "duration": 36,
    "start_time": "2023-04-05T11:34:31.679Z"
   },
   {
    "duration": 8,
    "start_time": "2023-04-05T11:34:31.717Z"
   },
   {
    "duration": 32,
    "start_time": "2023-04-05T11:34:31.727Z"
   },
   {
    "duration": 23,
    "start_time": "2023-04-05T11:34:31.760Z"
   },
   {
    "duration": 84,
    "start_time": "2023-04-05T11:34:31.785Z"
   },
   {
    "duration": 21,
    "start_time": "2023-04-05T11:34:31.874Z"
   },
   {
    "duration": 68,
    "start_time": "2023-04-05T11:34:31.897Z"
   },
   {
    "duration": 18,
    "start_time": "2023-04-05T11:34:31.972Z"
   },
   {
    "duration": 371,
    "start_time": "2023-04-05T11:34:31.994Z"
   },
   {
    "duration": 9,
    "start_time": "2023-04-05T11:34:32.378Z"
   },
   {
    "duration": 308,
    "start_time": "2023-04-05T11:34:32.389Z"
   },
   {
    "duration": 1,
    "start_time": "2023-04-05T11:34:32.699Z"
   },
   {
    "duration": 87,
    "start_time": "2023-04-05T11:34:32.702Z"
   },
   {
    "duration": 826,
    "start_time": "2023-04-05T11:34:32.791Z"
   },
   {
    "duration": 59,
    "start_time": "2023-04-05T11:34:33.618Z"
   },
   {
    "duration": 321,
    "start_time": "2023-04-05T11:34:33.681Z"
   },
   {
    "duration": 278,
    "start_time": "2023-04-05T11:34:34.004Z"
   },
   {
    "duration": 247,
    "start_time": "2023-04-05T11:34:34.284Z"
   },
   {
    "duration": 40,
    "start_time": "2023-04-05T11:34:34.533Z"
   },
   {
    "duration": 189,
    "start_time": "2023-04-05T11:34:34.575Z"
   },
   {
    "duration": 5,
    "start_time": "2023-04-05T11:34:34.766Z"
   },
   {
    "duration": 172,
    "start_time": "2023-04-05T11:34:34.773Z"
   },
   {
    "duration": 7,
    "start_time": "2023-04-05T11:34:34.954Z"
   },
   {
    "duration": 161,
    "start_time": "2023-04-05T11:34:34.962Z"
   },
   {
    "duration": 5,
    "start_time": "2023-04-05T11:34:35.124Z"
   },
   {
    "duration": 49,
    "start_time": "2023-04-05T11:34:35.130Z"
   },
   {
    "duration": 206,
    "start_time": "2023-04-05T11:34:35.180Z"
   },
   {
    "duration": 30,
    "start_time": "2023-04-05T11:34:35.387Z"
   },
   {
    "duration": 69,
    "start_time": "2023-04-05T11:34:35.418Z"
   },
   {
    "duration": 140,
    "start_time": "2023-04-05T11:34:35.489Z"
   },
   {
    "duration": 178,
    "start_time": "2023-04-05T11:34:35.631Z"
   },
   {
    "duration": 164,
    "start_time": "2023-04-05T11:34:35.810Z"
   },
   {
    "duration": 16,
    "start_time": "2023-04-05T11:34:35.978Z"
   },
   {
    "duration": 20,
    "start_time": "2023-04-05T11:34:35.996Z"
   },
   {
    "duration": 59,
    "start_time": "2023-04-05T14:54:46.608Z"
   },
   {
    "duration": 49,
    "start_time": "2023-04-05T14:59:19.642Z"
   },
   {
    "duration": 78,
    "start_time": "2023-04-05T15:01:27.443Z"
   },
   {
    "duration": 45,
    "start_time": "2023-04-05T15:02:27.097Z"
   },
   {
    "duration": 45,
    "start_time": "2023-04-05T15:03:07.014Z"
   },
   {
    "duration": 79,
    "start_time": "2023-04-05T15:04:38.578Z"
   },
   {
    "duration": 1445,
    "start_time": "2023-04-05T15:04:44.383Z"
   },
   {
    "duration": 111,
    "start_time": "2023-04-05T15:04:45.830Z"
   },
   {
    "duration": 16,
    "start_time": "2023-04-05T15:04:45.943Z"
   },
   {
    "duration": 21,
    "start_time": "2023-04-05T15:04:45.961Z"
   },
   {
    "duration": 20,
    "start_time": "2023-04-05T15:04:45.984Z"
   },
   {
    "duration": 11,
    "start_time": "2023-04-05T15:04:46.006Z"
   },
   {
    "duration": 34,
    "start_time": "2023-04-05T15:04:46.019Z"
   },
   {
    "duration": 45,
    "start_time": "2023-04-05T15:04:46.055Z"
   },
   {
    "duration": 18,
    "start_time": "2023-04-05T15:04:46.102Z"
   },
   {
    "duration": 9,
    "start_time": "2023-04-05T15:04:46.123Z"
   },
   {
    "duration": 11,
    "start_time": "2023-04-05T15:04:46.134Z"
   },
   {
    "duration": 11,
    "start_time": "2023-04-05T15:04:46.146Z"
   },
   {
    "duration": 11,
    "start_time": "2023-04-05T15:04:46.190Z"
   },
   {
    "duration": 6,
    "start_time": "2023-04-05T15:04:46.203Z"
   },
   {
    "duration": 12,
    "start_time": "2023-04-05T15:04:46.211Z"
   },
   {
    "duration": 15,
    "start_time": "2023-04-05T15:04:46.225Z"
   },
   {
    "duration": 7,
    "start_time": "2023-04-05T15:04:46.241Z"
   },
   {
    "duration": 7,
    "start_time": "2023-04-05T15:04:46.290Z"
   },
   {
    "duration": 9,
    "start_time": "2023-04-05T15:04:46.299Z"
   },
   {
    "duration": 23,
    "start_time": "2023-04-05T15:04:46.310Z"
   },
   {
    "duration": 9,
    "start_time": "2023-04-05T15:04:46.335Z"
   },
   {
    "duration": 51,
    "start_time": "2023-04-05T15:04:46.346Z"
   },
   {
    "duration": 3,
    "start_time": "2023-04-05T15:04:46.399Z"
   },
   {
    "duration": 15,
    "start_time": "2023-04-05T15:04:46.404Z"
   },
   {
    "duration": 14,
    "start_time": "2023-04-05T15:04:46.421Z"
   },
   {
    "duration": 56,
    "start_time": "2023-04-05T15:04:46.436Z"
   },
   {
    "duration": 142,
    "start_time": "2023-04-05T15:04:46.494Z"
   },
   {
    "duration": 0,
    "start_time": "2023-04-05T15:04:46.640Z"
   },
   {
    "duration": 0,
    "start_time": "2023-04-05T15:04:46.642Z"
   },
   {
    "duration": 0,
    "start_time": "2023-04-05T15:04:46.644Z"
   },
   {
    "duration": 0,
    "start_time": "2023-04-05T15:04:46.646Z"
   },
   {
    "duration": 0,
    "start_time": "2023-04-05T15:04:46.648Z"
   },
   {
    "duration": 0,
    "start_time": "2023-04-05T15:04:46.649Z"
   },
   {
    "duration": 0,
    "start_time": "2023-04-05T15:04:46.651Z"
   },
   {
    "duration": 0,
    "start_time": "2023-04-05T15:04:46.653Z"
   },
   {
    "duration": 0,
    "start_time": "2023-04-05T15:04:46.654Z"
   },
   {
    "duration": 0,
    "start_time": "2023-04-05T15:04:46.656Z"
   },
   {
    "duration": 0,
    "start_time": "2023-04-05T15:04:46.689Z"
   },
   {
    "duration": 0,
    "start_time": "2023-04-05T15:04:46.690Z"
   },
   {
    "duration": 0,
    "start_time": "2023-04-05T15:04:46.691Z"
   },
   {
    "duration": 0,
    "start_time": "2023-04-05T15:04:46.692Z"
   },
   {
    "duration": 0,
    "start_time": "2023-04-05T15:04:46.693Z"
   },
   {
    "duration": 0,
    "start_time": "2023-04-05T15:04:46.695Z"
   },
   {
    "duration": 0,
    "start_time": "2023-04-05T15:04:46.696Z"
   },
   {
    "duration": 0,
    "start_time": "2023-04-05T15:04:46.697Z"
   },
   {
    "duration": 0,
    "start_time": "2023-04-05T15:04:46.698Z"
   },
   {
    "duration": 0,
    "start_time": "2023-04-05T15:04:46.699Z"
   },
   {
    "duration": 0,
    "start_time": "2023-04-05T15:04:46.700Z"
   },
   {
    "duration": 0,
    "start_time": "2023-04-05T15:04:46.701Z"
   },
   {
    "duration": 0,
    "start_time": "2023-04-05T15:04:46.702Z"
   },
   {
    "duration": 0,
    "start_time": "2023-04-05T15:04:46.703Z"
   },
   {
    "duration": 0,
    "start_time": "2023-04-05T15:04:46.704Z"
   },
   {
    "duration": 0,
    "start_time": "2023-04-05T15:04:46.705Z"
   },
   {
    "duration": 14,
    "start_time": "2023-04-05T15:05:05.031Z"
   },
   {
    "duration": 27,
    "start_time": "2023-04-05T15:05:14.006Z"
   },
   {
    "duration": 10,
    "start_time": "2023-04-05T15:05:46.270Z"
   },
   {
    "duration": 416,
    "start_time": "2023-04-05T15:05:48.116Z"
   },
   {
    "duration": 16,
    "start_time": "2023-04-05T15:05:59.284Z"
   },
   {
    "duration": 15,
    "start_time": "2023-04-05T15:07:02.868Z"
   },
   {
    "duration": 371,
    "start_time": "2023-04-05T15:07:06.883Z"
   },
   {
    "duration": 11,
    "start_time": "2023-04-05T15:07:15.577Z"
   },
   {
    "duration": 12,
    "start_time": "2023-04-05T15:07:52.911Z"
   },
   {
    "duration": 332,
    "start_time": "2023-04-05T15:07:53.786Z"
   },
   {
    "duration": 3,
    "start_time": "2023-04-05T15:07:59.116Z"
   },
   {
    "duration": 109,
    "start_time": "2023-04-05T15:07:59.833Z"
   },
   {
    "duration": 959,
    "start_time": "2023-04-05T15:08:12.795Z"
   },
   {
    "duration": 1131,
    "start_time": "2023-04-05T15:08:25.232Z"
   },
   {
    "duration": 68,
    "start_time": "2023-04-05T15:08:26.365Z"
   },
   {
    "duration": 24,
    "start_time": "2023-04-05T15:08:26.436Z"
   },
   {
    "duration": 38,
    "start_time": "2023-04-05T15:08:26.463Z"
   },
   {
    "duration": 26,
    "start_time": "2023-04-05T15:08:26.503Z"
   },
   {
    "duration": 19,
    "start_time": "2023-04-05T15:08:26.530Z"
   },
   {
    "duration": 51,
    "start_time": "2023-04-05T15:08:26.550Z"
   },
   {
    "duration": 23,
    "start_time": "2023-04-05T15:08:26.603Z"
   },
   {
    "duration": 31,
    "start_time": "2023-04-05T15:08:26.628Z"
   },
   {
    "duration": 27,
    "start_time": "2023-04-05T15:08:26.662Z"
   },
   {
    "duration": 11,
    "start_time": "2023-04-05T15:08:26.691Z"
   },
   {
    "duration": 16,
    "start_time": "2023-04-05T15:08:26.704Z"
   },
   {
    "duration": 15,
    "start_time": "2023-04-05T15:08:26.721Z"
   },
   {
    "duration": 9,
    "start_time": "2023-04-05T15:08:26.738Z"
   },
   {
    "duration": 13,
    "start_time": "2023-04-05T15:08:26.748Z"
   },
   {
    "duration": 15,
    "start_time": "2023-04-05T15:08:26.789Z"
   },
   {
    "duration": 6,
    "start_time": "2023-04-05T15:08:26.806Z"
   },
   {
    "duration": 10,
    "start_time": "2023-04-05T15:08:26.814Z"
   },
   {
    "duration": 16,
    "start_time": "2023-04-05T15:08:26.826Z"
   },
   {
    "duration": 49,
    "start_time": "2023-04-05T15:08:26.844Z"
   },
   {
    "duration": 9,
    "start_time": "2023-04-05T15:08:26.895Z"
   },
   {
    "duration": 23,
    "start_time": "2023-04-05T15:08:26.905Z"
   },
   {
    "duration": 6,
    "start_time": "2023-04-05T15:08:26.930Z"
   },
   {
    "duration": 22,
    "start_time": "2023-04-05T15:08:26.938Z"
   },
   {
    "duration": 16,
    "start_time": "2023-04-05T15:08:26.962Z"
   },
   {
    "duration": 24,
    "start_time": "2023-04-05T15:08:26.980Z"
   },
   {
    "duration": 129,
    "start_time": "2023-04-05T15:08:27.005Z"
   },
   {
    "duration": 0,
    "start_time": "2023-04-05T15:08:27.137Z"
   },
   {
    "duration": 0,
    "start_time": "2023-04-05T15:08:27.138Z"
   },
   {
    "duration": 0,
    "start_time": "2023-04-05T15:08:27.140Z"
   },
   {
    "duration": 0,
    "start_time": "2023-04-05T15:08:27.142Z"
   },
   {
    "duration": 0,
    "start_time": "2023-04-05T15:08:27.144Z"
   },
   {
    "duration": 0,
    "start_time": "2023-04-05T15:08:27.146Z"
   },
   {
    "duration": 0,
    "start_time": "2023-04-05T15:08:27.147Z"
   },
   {
    "duration": 0,
    "start_time": "2023-04-05T15:08:27.149Z"
   },
   {
    "duration": 0,
    "start_time": "2023-04-05T15:08:27.150Z"
   },
   {
    "duration": 0,
    "start_time": "2023-04-05T15:08:27.152Z"
   },
   {
    "duration": 0,
    "start_time": "2023-04-05T15:08:27.154Z"
   },
   {
    "duration": 0,
    "start_time": "2023-04-05T15:08:27.155Z"
   },
   {
    "duration": 0,
    "start_time": "2023-04-05T15:08:27.157Z"
   },
   {
    "duration": 0,
    "start_time": "2023-04-05T15:08:27.190Z"
   },
   {
    "duration": 0,
    "start_time": "2023-04-05T15:08:27.193Z"
   },
   {
    "duration": 0,
    "start_time": "2023-04-05T15:08:27.194Z"
   },
   {
    "duration": 0,
    "start_time": "2023-04-05T15:08:27.196Z"
   },
   {
    "duration": 0,
    "start_time": "2023-04-05T15:08:27.197Z"
   },
   {
    "duration": 0,
    "start_time": "2023-04-05T15:08:27.199Z"
   },
   {
    "duration": 0,
    "start_time": "2023-04-05T15:08:27.201Z"
   },
   {
    "duration": 0,
    "start_time": "2023-04-05T15:08:27.202Z"
   },
   {
    "duration": 0,
    "start_time": "2023-04-05T15:08:27.203Z"
   },
   {
    "duration": 0,
    "start_time": "2023-04-05T15:08:27.205Z"
   },
   {
    "duration": 0,
    "start_time": "2023-04-05T15:08:27.207Z"
   },
   {
    "duration": 0,
    "start_time": "2023-04-05T15:08:27.209Z"
   },
   {
    "duration": 0,
    "start_time": "2023-04-05T15:08:27.210Z"
   },
   {
    "duration": 56,
    "start_time": "2023-04-05T15:08:50.131Z"
   },
   {
    "duration": 17,
    "start_time": "2023-04-05T15:09:20.714Z"
   },
   {
    "duration": 17,
    "start_time": "2023-04-05T15:09:29.755Z"
   },
   {
    "duration": 22,
    "start_time": "2023-04-05T15:09:54.960Z"
   },
   {
    "duration": 1305,
    "start_time": "2023-04-05T15:10:03.979Z"
   },
   {
    "duration": 70,
    "start_time": "2023-04-05T15:10:05.286Z"
   },
   {
    "duration": 20,
    "start_time": "2023-04-05T15:10:05.358Z"
   },
   {
    "duration": 28,
    "start_time": "2023-04-05T15:10:05.381Z"
   },
   {
    "duration": 30,
    "start_time": "2023-04-05T15:10:05.411Z"
   },
   {
    "duration": 18,
    "start_time": "2023-04-05T15:10:05.443Z"
   },
   {
    "duration": 47,
    "start_time": "2023-04-05T15:10:05.463Z"
   },
   {
    "duration": 22,
    "start_time": "2023-04-05T15:10:05.512Z"
   },
   {
    "duration": 25,
    "start_time": "2023-04-05T15:10:05.536Z"
   },
   {
    "duration": 27,
    "start_time": "2023-04-05T15:10:05.564Z"
   },
   {
    "duration": 14,
    "start_time": "2023-04-05T15:10:05.593Z"
   },
   {
    "duration": 16,
    "start_time": "2023-04-05T15:10:05.609Z"
   },
   {
    "duration": 13,
    "start_time": "2023-04-05T15:10:05.627Z"
   },
   {
    "duration": 9,
    "start_time": "2023-04-05T15:10:05.642Z"
   },
   {
    "duration": 45,
    "start_time": "2023-04-05T15:10:05.653Z"
   },
   {
    "duration": 16,
    "start_time": "2023-04-05T15:10:05.700Z"
   },
   {
    "duration": 9,
    "start_time": "2023-04-05T15:10:05.718Z"
   },
   {
    "duration": 18,
    "start_time": "2023-04-05T15:10:05.730Z"
   },
   {
    "duration": 41,
    "start_time": "2023-04-05T15:10:05.750Z"
   },
   {
    "duration": 26,
    "start_time": "2023-04-05T15:10:05.792Z"
   },
   {
    "duration": 28,
    "start_time": "2023-04-05T15:10:05.820Z"
   },
   {
    "duration": 18,
    "start_time": "2023-04-05T15:10:05.850Z"
   },
   {
    "duration": 5,
    "start_time": "2023-04-05T15:10:05.870Z"
   },
   {
    "duration": 31,
    "start_time": "2023-04-05T15:10:05.878Z"
   },
   {
    "duration": 30,
    "start_time": "2023-04-05T15:10:05.911Z"
   },
   {
    "duration": 23,
    "start_time": "2023-04-05T15:10:05.943Z"
   },
   {
    "duration": 35,
    "start_time": "2023-04-05T15:10:05.968Z"
   },
   {
    "duration": 468,
    "start_time": "2023-04-05T15:10:06.009Z"
   },
   {
    "duration": 12,
    "start_time": "2023-04-05T15:10:06.479Z"
   },
   {
    "duration": 373,
    "start_time": "2023-04-05T15:10:06.493Z"
   },
   {
    "duration": 2,
    "start_time": "2023-04-05T15:10:06.868Z"
   },
   {
    "duration": 83,
    "start_time": "2023-04-05T15:10:06.872Z"
   },
   {
    "duration": 1006,
    "start_time": "2023-04-05T15:10:06.957Z"
   },
   {
    "duration": 37,
    "start_time": "2023-04-05T15:10:07.965Z"
   },
   {
    "duration": 415,
    "start_time": "2023-04-05T15:10:08.003Z"
   },
   {
    "duration": 339,
    "start_time": "2023-04-05T15:10:08.421Z"
   },
   {
    "duration": 300,
    "start_time": "2023-04-05T15:10:08.762Z"
   },
   {
    "duration": 8,
    "start_time": "2023-04-05T15:10:09.064Z"
   },
   {
    "duration": 224,
    "start_time": "2023-04-05T15:10:09.073Z"
   },
   {
    "duration": 8,
    "start_time": "2023-04-05T15:10:09.299Z"
   },
   {
    "duration": 196,
    "start_time": "2023-04-05T15:10:09.309Z"
   },
   {
    "duration": 7,
    "start_time": "2023-04-05T15:10:09.508Z"
   },
   {
    "duration": 200,
    "start_time": "2023-04-05T15:10:09.517Z"
   },
   {
    "duration": 6,
    "start_time": "2023-04-05T15:10:09.719Z"
   },
   {
    "duration": 15,
    "start_time": "2023-04-05T15:10:09.727Z"
   },
   {
    "duration": 302,
    "start_time": "2023-04-05T15:10:09.745Z"
   },
   {
    "duration": 67,
    "start_time": "2023-04-05T15:10:10.050Z"
   },
   {
    "duration": 76,
    "start_time": "2023-04-05T15:10:10.120Z"
   },
   {
    "duration": 246,
    "start_time": "2023-04-05T15:10:10.199Z"
   },
   {
    "duration": 213,
    "start_time": "2023-04-05T15:10:10.447Z"
   },
   {
    "duration": 228,
    "start_time": "2023-04-05T15:10:10.663Z"
   },
   {
    "duration": 19,
    "start_time": "2023-04-05T15:10:10.893Z"
   },
   {
    "duration": 20,
    "start_time": "2023-04-05T15:10:10.914Z"
   },
   {
    "duration": 25,
    "start_time": "2023-04-05T15:11:33.513Z"
   },
   {
    "duration": 275,
    "start_time": "2023-04-05T15:11:39.218Z"
   },
   {
    "duration": 322,
    "start_time": "2023-04-05T15:11:52.597Z"
   },
   {
    "duration": 282,
    "start_time": "2023-04-05T15:12:21.342Z"
   },
   {
    "duration": 418,
    "start_time": "2023-04-05T15:12:37.490Z"
   },
   {
    "duration": 256,
    "start_time": "2023-04-05T15:12:53.821Z"
   },
   {
    "duration": 475,
    "start_time": "2023-04-05T15:16:08.546Z"
   },
   {
    "duration": 268,
    "start_time": "2023-04-05T15:16:52.815Z"
   },
   {
    "duration": 434,
    "start_time": "2023-04-05T15:17:40.697Z"
   },
   {
    "duration": 304,
    "start_time": "2023-04-05T15:21:58.251Z"
   },
   {
    "duration": 14,
    "start_time": "2023-04-05T15:22:33.909Z"
   },
   {
    "duration": 395,
    "start_time": "2023-04-05T15:24:05.521Z"
   },
   {
    "duration": 296,
    "start_time": "2023-04-05T15:27:05.801Z"
   },
   {
    "duration": 330,
    "start_time": "2023-04-05T15:27:10.627Z"
   },
   {
    "duration": 277,
    "start_time": "2023-04-05T15:30:00.312Z"
   },
   {
    "duration": 341,
    "start_time": "2023-04-05T15:30:08.538Z"
   },
   {
    "duration": 516,
    "start_time": "2023-04-05T15:30:21.977Z"
   },
   {
    "duration": 282,
    "start_time": "2023-04-05T15:30:40.947Z"
   },
   {
    "duration": 263,
    "start_time": "2023-04-05T15:30:54.350Z"
   },
   {
    "duration": 302,
    "start_time": "2023-04-05T15:31:05.049Z"
   },
   {
    "duration": 313,
    "start_time": "2023-04-05T15:31:18.643Z"
   },
   {
    "duration": 72,
    "start_time": "2023-04-05T15:32:30.654Z"
   },
   {
    "duration": 63,
    "start_time": "2023-04-05T15:32:34.181Z"
   },
   {
    "duration": 305,
    "start_time": "2023-04-05T15:35:19.170Z"
   },
   {
    "duration": 318,
    "start_time": "2023-04-05T15:35:54.940Z"
   },
   {
    "duration": 51,
    "start_time": "2023-04-05T15:37:18.398Z"
   },
   {
    "duration": 174,
    "start_time": "2023-04-05T15:39:12.893Z"
   },
   {
    "duration": 243,
    "start_time": "2023-04-05T15:39:30.997Z"
   },
   {
    "duration": 191,
    "start_time": "2023-04-05T15:39:53.051Z"
   },
   {
    "duration": 192,
    "start_time": "2023-04-05T15:39:57.717Z"
   },
   {
    "duration": 279,
    "start_time": "2023-04-05T15:40:09.944Z"
   },
   {
    "duration": 192,
    "start_time": "2023-04-05T15:41:50.386Z"
   },
   {
    "duration": 7,
    "start_time": "2023-04-05T15:42:31.931Z"
   },
   {
    "duration": 6,
    "start_time": "2023-04-05T15:42:33.458Z"
   },
   {
    "duration": 7,
    "start_time": "2023-04-05T15:44:38.506Z"
   },
   {
    "duration": 7,
    "start_time": "2023-04-05T15:44:45.599Z"
   },
   {
    "duration": 6,
    "start_time": "2023-04-05T15:44:49.363Z"
   },
   {
    "duration": 205,
    "start_time": "2023-04-05T15:45:35.490Z"
   },
   {
    "duration": 6,
    "start_time": "2023-04-05T15:46:01.406Z"
   },
   {
    "duration": 5,
    "start_time": "2023-04-05T15:46:13.380Z"
   },
   {
    "duration": 6,
    "start_time": "2023-04-05T15:46:27.718Z"
   },
   {
    "duration": 6,
    "start_time": "2023-04-05T15:53:13.864Z"
   },
   {
    "duration": 194,
    "start_time": "2023-04-05T15:54:07.451Z"
   },
   {
    "duration": 6,
    "start_time": "2023-04-05T15:54:53.514Z"
   },
   {
    "duration": 40,
    "start_time": "2023-04-05T15:55:05.235Z"
   },
   {
    "duration": 177,
    "start_time": "2023-04-05T15:56:10.725Z"
   },
   {
    "duration": 6,
    "start_time": "2023-04-05T15:56:20.261Z"
   },
   {
    "duration": 185,
    "start_time": "2023-04-05T15:57:51.015Z"
   },
   {
    "duration": 222,
    "start_time": "2023-04-05T15:58:07.659Z"
   },
   {
    "duration": 6,
    "start_time": "2023-04-05T15:58:11.193Z"
   },
   {
    "duration": 5,
    "start_time": "2023-04-05T15:59:03.834Z"
   },
   {
    "duration": 6,
    "start_time": "2023-04-05T15:59:12.054Z"
   },
   {
    "duration": 299,
    "start_time": "2023-04-05T15:59:17.028Z"
   },
   {
    "duration": 5,
    "start_time": "2023-04-05T15:59:22.771Z"
   },
   {
    "duration": 197,
    "start_time": "2023-04-05T15:59:26.761Z"
   },
   {
    "duration": 15,
    "start_time": "2023-04-05T16:00:20.845Z"
   },
   {
    "duration": 67,
    "start_time": "2023-04-05T16:00:28.301Z"
   },
   {
    "duration": 69,
    "start_time": "2023-04-05T16:01:36.336Z"
   },
   {
    "duration": 119,
    "start_time": "2023-04-05T16:02:29.729Z"
   },
   {
    "duration": 33,
    "start_time": "2023-04-05T16:03:14.149Z"
   },
   {
    "duration": 28,
    "start_time": "2023-04-05T16:03:29.170Z"
   },
   {
    "duration": 280,
    "start_time": "2023-04-05T16:04:49.499Z"
   },
   {
    "duration": 300,
    "start_time": "2023-04-05T16:06:27.300Z"
   },
   {
    "duration": 285,
    "start_time": "2023-04-05T16:07:28.740Z"
   },
   {
    "duration": 326,
    "start_time": "2023-04-05T16:29:08.323Z"
   },
   {
    "duration": 296,
    "start_time": "2023-04-05T16:29:15.358Z"
   },
   {
    "duration": 320,
    "start_time": "2023-04-05T16:40:35.310Z"
   },
   {
    "duration": 32,
    "start_time": "2023-04-05T16:42:10.845Z"
   },
   {
    "duration": 293,
    "start_time": "2023-04-05T16:44:47.926Z"
   },
   {
    "duration": 34,
    "start_time": "2023-04-05T17:02:07.929Z"
   },
   {
    "duration": 156,
    "start_time": "2023-04-05T17:02:24.510Z"
   },
   {
    "duration": 156,
    "start_time": "2023-04-05T17:02:37.766Z"
   },
   {
    "duration": 156,
    "start_time": "2023-04-05T17:02:45.925Z"
   },
   {
    "duration": 184,
    "start_time": "2023-04-05T17:02:51.606Z"
   },
   {
    "duration": 59,
    "start_time": "2023-04-05T17:02:57.676Z"
   },
   {
    "duration": 46,
    "start_time": "2023-04-05T17:07:07.924Z"
   },
   {
    "duration": 178,
    "start_time": "2023-04-05T17:17:51.683Z"
   },
   {
    "duration": 180,
    "start_time": "2023-04-05T17:18:23.701Z"
   },
   {
    "duration": 246,
    "start_time": "2023-04-05T17:18:27.835Z"
   },
   {
    "duration": 21,
    "start_time": "2023-04-05T17:22:56.206Z"
   },
   {
    "duration": 166,
    "start_time": "2023-04-05T17:23:02.106Z"
   },
   {
    "duration": 18,
    "start_time": "2023-04-05T17:24:55.623Z"
   },
   {
    "duration": 16,
    "start_time": "2023-04-05T17:24:57.013Z"
   },
   {
    "duration": 17,
    "start_time": "2023-04-05T17:25:06.802Z"
   },
   {
    "duration": 25,
    "start_time": "2023-04-05T17:25:10.725Z"
   },
   {
    "duration": 23,
    "start_time": "2023-04-05T17:25:16.842Z"
   },
   {
    "duration": 17,
    "start_time": "2023-04-05T17:25:17.821Z"
   },
   {
    "duration": 59,
    "start_time": "2023-04-05T17:25:56.645Z"
   },
   {
    "duration": 24,
    "start_time": "2023-04-05T17:26:38.000Z"
   },
   {
    "duration": 15,
    "start_time": "2023-04-05T17:29:36.218Z"
   },
   {
    "duration": 16,
    "start_time": "2023-04-05T17:32:58.082Z"
   },
   {
    "duration": 18,
    "start_time": "2023-04-05T17:32:59.264Z"
   },
   {
    "duration": 48,
    "start_time": "2023-04-05T17:36:04.436Z"
   },
   {
    "duration": 41,
    "start_time": "2023-04-05T17:37:03.698Z"
   },
   {
    "duration": 43,
    "start_time": "2023-04-05T17:37:21.377Z"
   },
   {
    "duration": 1498,
    "start_time": "2023-04-06T08:15:43.739Z"
   },
   {
    "duration": 216,
    "start_time": "2023-04-06T08:15:45.240Z"
   },
   {
    "duration": 19,
    "start_time": "2023-04-06T08:15:45.458Z"
   },
   {
    "duration": 16,
    "start_time": "2023-04-06T08:15:45.480Z"
   },
   {
    "duration": 41,
    "start_time": "2023-04-06T08:15:45.498Z"
   },
   {
    "duration": 17,
    "start_time": "2023-04-06T08:15:45.542Z"
   },
   {
    "duration": 36,
    "start_time": "2023-04-06T08:15:45.561Z"
   },
   {
    "duration": 60,
    "start_time": "2023-04-06T08:15:45.599Z"
   },
   {
    "duration": 30,
    "start_time": "2023-04-06T08:15:45.662Z"
   },
   {
    "duration": 12,
    "start_time": "2023-04-06T08:15:45.695Z"
   },
   {
    "duration": 29,
    "start_time": "2023-04-06T08:15:45.709Z"
   },
   {
    "duration": 28,
    "start_time": "2023-04-06T08:15:45.740Z"
   },
   {
    "duration": 17,
    "start_time": "2023-04-06T08:15:45.769Z"
   },
   {
    "duration": 8,
    "start_time": "2023-04-06T08:15:45.788Z"
   },
   {
    "duration": 22,
    "start_time": "2023-04-06T08:15:45.798Z"
   },
   {
    "duration": 21,
    "start_time": "2023-04-06T08:15:45.822Z"
   },
   {
    "duration": 12,
    "start_time": "2023-04-06T08:15:45.845Z"
   },
   {
    "duration": 11,
    "start_time": "2023-04-06T08:15:45.859Z"
   },
   {
    "duration": 12,
    "start_time": "2023-04-06T08:15:45.871Z"
   },
   {
    "duration": 51,
    "start_time": "2023-04-06T08:15:45.885Z"
   },
   {
    "duration": 8,
    "start_time": "2023-04-06T08:15:45.939Z"
   },
   {
    "duration": 19,
    "start_time": "2023-04-06T08:15:45.949Z"
   },
   {
    "duration": 5,
    "start_time": "2023-04-06T08:15:45.980Z"
   },
   {
    "duration": 25,
    "start_time": "2023-04-06T08:15:45.986Z"
   },
   {
    "duration": 27,
    "start_time": "2023-04-06T08:15:46.012Z"
   },
   {
    "duration": 24,
    "start_time": "2023-04-06T08:15:46.042Z"
   },
   {
    "duration": 21,
    "start_time": "2023-04-06T08:15:46.068Z"
   },
   {
    "duration": 445,
    "start_time": "2023-04-06T08:15:46.094Z"
   },
   {
    "duration": 13,
    "start_time": "2023-04-06T08:15:46.541Z"
   },
   {
    "duration": 379,
    "start_time": "2023-04-06T08:15:46.555Z"
   },
   {
    "duration": 3,
    "start_time": "2023-04-06T08:15:46.936Z"
   },
   {
    "duration": 102,
    "start_time": "2023-04-06T08:15:46.941Z"
   },
   {
    "duration": 1090,
    "start_time": "2023-04-06T08:15:47.047Z"
   },
   {
    "duration": 38,
    "start_time": "2023-04-06T08:15:48.140Z"
   },
   {
    "duration": 295,
    "start_time": "2023-04-06T08:15:48.180Z"
   },
   {
    "duration": 329,
    "start_time": "2023-04-06T08:15:48.477Z"
   },
   {
    "duration": 328,
    "start_time": "2023-04-06T08:15:48.807Z"
   },
   {
    "duration": 214,
    "start_time": "2023-04-06T08:15:49.137Z"
   },
   {
    "duration": 6,
    "start_time": "2023-04-06T08:15:49.354Z"
   },
   {
    "duration": 199,
    "start_time": "2023-04-06T08:15:49.361Z"
   },
   {
    "duration": 5,
    "start_time": "2023-04-06T08:15:49.562Z"
   },
   {
    "duration": 215,
    "start_time": "2023-04-06T08:15:49.569Z"
   },
   {
    "duration": 5,
    "start_time": "2023-04-06T08:15:49.786Z"
   },
   {
    "duration": 192,
    "start_time": "2023-04-06T08:15:49.793Z"
   },
   {
    "duration": 5,
    "start_time": "2023-04-06T08:15:49.987Z"
   },
   {
    "duration": 218,
    "start_time": "2023-04-06T08:15:49.994Z"
   },
   {
    "duration": 5,
    "start_time": "2023-04-06T08:15:50.214Z"
   },
   {
    "duration": 222,
    "start_time": "2023-04-06T08:15:50.221Z"
   },
   {
    "duration": 5,
    "start_time": "2023-04-06T08:15:50.444Z"
   },
   {
    "duration": 43,
    "start_time": "2023-04-06T08:15:50.451Z"
   },
   {
    "duration": 130,
    "start_time": "2023-04-06T08:15:50.495Z"
   },
   {
    "duration": 0,
    "start_time": "2023-04-06T08:15:50.627Z"
   },
   {
    "duration": 0,
    "start_time": "2023-04-06T08:15:50.633Z"
   },
   {
    "duration": 0,
    "start_time": "2023-04-06T08:15:50.635Z"
   },
   {
    "duration": 0,
    "start_time": "2023-04-06T08:15:50.636Z"
   },
   {
    "duration": 0,
    "start_time": "2023-04-06T08:15:50.637Z"
   },
   {
    "duration": 0,
    "start_time": "2023-04-06T08:15:50.639Z"
   },
   {
    "duration": 0,
    "start_time": "2023-04-06T08:15:50.640Z"
   },
   {
    "duration": 0,
    "start_time": "2023-04-06T08:15:50.641Z"
   },
   {
    "duration": 37,
    "start_time": "2023-04-06T08:28:58.160Z"
   },
   {
    "duration": 40,
    "start_time": "2023-04-06T08:28:58.782Z"
   },
   {
    "duration": 154,
    "start_time": "2023-04-06T08:29:00.183Z"
   },
   {
    "duration": 166,
    "start_time": "2023-04-06T08:29:00.757Z"
   },
   {
    "duration": 179,
    "start_time": "2023-04-06T08:29:01.105Z"
   },
   {
    "duration": 160,
    "start_time": "2023-04-06T08:29:01.641Z"
   },
   {
    "duration": 65,
    "start_time": "2023-04-06T09:56:38.065Z"
   },
   {
    "duration": 1315,
    "start_time": "2023-04-06T09:56:57.282Z"
   },
   {
    "duration": 461,
    "start_time": "2023-04-06T09:56:58.599Z"
   },
   {
    "duration": 15,
    "start_time": "2023-04-06T09:56:59.062Z"
   },
   {
    "duration": 21,
    "start_time": "2023-04-06T09:56:59.079Z"
   },
   {
    "duration": 26,
    "start_time": "2023-04-06T09:56:59.101Z"
   },
   {
    "duration": 22,
    "start_time": "2023-04-06T09:56:59.129Z"
   },
   {
    "duration": 64,
    "start_time": "2023-04-06T09:56:59.152Z"
   },
   {
    "duration": 34,
    "start_time": "2023-04-06T09:56:59.218Z"
   },
   {
    "duration": 17,
    "start_time": "2023-04-06T09:56:59.254Z"
   },
   {
    "duration": 14,
    "start_time": "2023-04-06T09:56:59.273Z"
   },
   {
    "duration": 9,
    "start_time": "2023-04-06T09:56:59.288Z"
   },
   {
    "duration": 12,
    "start_time": "2023-04-06T09:56:59.298Z"
   },
   {
    "duration": 9,
    "start_time": "2023-04-06T09:56:59.312Z"
   },
   {
    "duration": 6,
    "start_time": "2023-04-06T09:56:59.323Z"
   },
   {
    "duration": 21,
    "start_time": "2023-04-06T09:56:59.331Z"
   },
   {
    "duration": 12,
    "start_time": "2023-04-06T09:56:59.354Z"
   },
   {
    "duration": 7,
    "start_time": "2023-04-06T09:56:59.368Z"
   },
   {
    "duration": 13,
    "start_time": "2023-04-06T09:56:59.377Z"
   },
   {
    "duration": 19,
    "start_time": "2023-04-06T09:56:59.391Z"
   },
   {
    "duration": 20,
    "start_time": "2023-04-06T09:56:59.411Z"
   },
   {
    "duration": 21,
    "start_time": "2023-04-06T09:56:59.432Z"
   },
   {
    "duration": 26,
    "start_time": "2023-04-06T09:56:59.454Z"
   },
   {
    "duration": 6,
    "start_time": "2023-04-06T09:56:59.482Z"
   },
   {
    "duration": 25,
    "start_time": "2023-04-06T09:56:59.489Z"
   },
   {
    "duration": 34,
    "start_time": "2023-04-06T09:56:59.516Z"
   },
   {
    "duration": 16,
    "start_time": "2023-04-06T09:56:59.552Z"
   },
   {
    "duration": 15,
    "start_time": "2023-04-06T09:56:59.570Z"
   },
   {
    "duration": 425,
    "start_time": "2023-04-06T09:56:59.590Z"
   },
   {
    "duration": 10,
    "start_time": "2023-04-06T09:57:00.016Z"
   },
   {
    "duration": 306,
    "start_time": "2023-04-06T09:57:00.027Z"
   },
   {
    "duration": 2,
    "start_time": "2023-04-06T09:57:00.335Z"
   },
   {
    "duration": 84,
    "start_time": "2023-04-06T09:57:00.338Z"
   },
   {
    "duration": 864,
    "start_time": "2023-04-06T09:57:00.423Z"
   },
   {
    "duration": 24,
    "start_time": "2023-04-06T09:57:01.289Z"
   },
   {
    "duration": 254,
    "start_time": "2023-04-06T09:57:01.315Z"
   },
   {
    "duration": 281,
    "start_time": "2023-04-06T09:57:01.571Z"
   },
   {
    "duration": 278,
    "start_time": "2023-04-06T09:57:01.854Z"
   },
   {
    "duration": 177,
    "start_time": "2023-04-06T09:57:02.134Z"
   },
   {
    "duration": 6,
    "start_time": "2023-04-06T09:57:02.312Z"
   },
   {
    "duration": 184,
    "start_time": "2023-04-06T09:57:02.319Z"
   },
   {
    "duration": 5,
    "start_time": "2023-04-06T09:57:02.504Z"
   },
   {
    "duration": 183,
    "start_time": "2023-04-06T09:57:02.511Z"
   },
   {
    "duration": 5,
    "start_time": "2023-04-06T09:57:02.697Z"
   },
   {
    "duration": 182,
    "start_time": "2023-04-06T09:57:02.704Z"
   },
   {
    "duration": 4,
    "start_time": "2023-04-06T09:57:02.888Z"
   },
   {
    "duration": 166,
    "start_time": "2023-04-06T09:57:02.893Z"
   },
   {
    "duration": 5,
    "start_time": "2023-04-06T09:57:03.061Z"
   },
   {
    "duration": 207,
    "start_time": "2023-04-06T09:57:03.068Z"
   },
   {
    "duration": 5,
    "start_time": "2023-04-06T09:57:03.276Z"
   },
   {
    "duration": 50,
    "start_time": "2023-04-06T09:57:03.282Z"
   },
   {
    "duration": 110,
    "start_time": "2023-04-06T09:57:03.333Z"
   },
   {
    "duration": 0,
    "start_time": "2023-04-06T09:57:03.444Z"
   },
   {
    "duration": 0,
    "start_time": "2023-04-06T09:57:03.445Z"
   },
   {
    "duration": 0,
    "start_time": "2023-04-06T09:57:03.446Z"
   },
   {
    "duration": 0,
    "start_time": "2023-04-06T09:57:03.449Z"
   },
   {
    "duration": 0,
    "start_time": "2023-04-06T09:57:03.450Z"
   },
   {
    "duration": 0,
    "start_time": "2023-04-06T09:57:03.451Z"
   },
   {
    "duration": 0,
    "start_time": "2023-04-06T09:57:03.451Z"
   },
   {
    "duration": 0,
    "start_time": "2023-04-06T09:57:03.453Z"
   },
   {
    "duration": 10,
    "start_time": "2023-04-06T09:57:27.358Z"
   },
   {
    "duration": 9,
    "start_time": "2023-04-06T09:57:28.868Z"
   },
   {
    "duration": 337,
    "start_time": "2023-04-06T09:57:31.357Z"
   },
   {
    "duration": 330,
    "start_time": "2023-04-06T09:57:35.458Z"
   },
   {
    "duration": 118,
    "start_time": "2023-04-06T09:58:15.174Z"
   },
   {
    "duration": 113,
    "start_time": "2023-04-06T10:51:57.104Z"
   },
   {
    "duration": 319,
    "start_time": "2023-04-06T10:52:15.756Z"
   },
   {
    "duration": 212,
    "start_time": "2023-04-06T10:52:21.379Z"
   },
   {
    "duration": 203,
    "start_time": "2023-04-06T10:52:38.601Z"
   },
   {
    "duration": 204,
    "start_time": "2023-04-06T10:52:45.169Z"
   },
   {
    "duration": 214,
    "start_time": "2023-04-06T10:52:52.996Z"
   },
   {
    "duration": 204,
    "start_time": "2023-04-06T10:53:00.692Z"
   },
   {
    "duration": 217,
    "start_time": "2023-04-06T10:53:06.837Z"
   },
   {
    "duration": 207,
    "start_time": "2023-04-06T10:53:11.702Z"
   },
   {
    "duration": 212,
    "start_time": "2023-04-06T10:53:20.713Z"
   },
   {
    "duration": 207,
    "start_time": "2023-04-06T10:53:50.502Z"
   },
   {
    "duration": 254,
    "start_time": "2023-04-06T10:53:54.523Z"
   },
   {
    "duration": 299,
    "start_time": "2023-04-06T10:54:00.673Z"
   },
   {
    "duration": 213,
    "start_time": "2023-04-06T10:55:36.797Z"
   },
   {
    "duration": 205,
    "start_time": "2023-04-06T10:55:40.407Z"
   },
   {
    "duration": 207,
    "start_time": "2023-04-06T10:55:47.071Z"
   },
   {
    "duration": 228,
    "start_time": "2023-04-06T10:57:08.441Z"
   },
   {
    "duration": 205,
    "start_time": "2023-04-06T10:57:14.825Z"
   },
   {
    "duration": 202,
    "start_time": "2023-04-06T10:57:45.305Z"
   },
   {
    "duration": 246,
    "start_time": "2023-04-06T10:57:51.396Z"
   },
   {
    "duration": 218,
    "start_time": "2023-04-06T10:58:01.677Z"
   },
   {
    "duration": 238,
    "start_time": "2023-04-06T10:58:07.315Z"
   },
   {
    "duration": 214,
    "start_time": "2023-04-06T10:58:14.200Z"
   },
   {
    "duration": 305,
    "start_time": "2023-04-06T11:00:13.117Z"
   },
   {
    "duration": 213,
    "start_time": "2023-04-06T11:00:31.310Z"
   },
   {
    "duration": 217,
    "start_time": "2023-04-06T11:00:39.365Z"
   },
   {
    "duration": 201,
    "start_time": "2023-04-06T11:00:44.686Z"
   },
   {
    "duration": 216,
    "start_time": "2023-04-06T11:00:53.662Z"
   },
   {
    "duration": 214,
    "start_time": "2023-04-06T11:02:36.574Z"
   },
   {
    "duration": 207,
    "start_time": "2023-04-06T11:02:41.160Z"
   },
   {
    "duration": 198,
    "start_time": "2023-04-06T11:02:47.602Z"
   },
   {
    "duration": 211,
    "start_time": "2023-04-06T11:02:57.867Z"
   },
   {
    "duration": 196,
    "start_time": "2023-04-06T11:10:18.462Z"
   },
   {
    "duration": 11,
    "start_time": "2023-04-06T11:11:07.365Z"
   },
   {
    "duration": 9,
    "start_time": "2023-04-06T11:11:23.301Z"
   },
   {
    "duration": 10,
    "start_time": "2023-04-06T11:11:26.376Z"
   },
   {
    "duration": 1287,
    "start_time": "2023-04-06T11:11:30.823Z"
   },
   {
    "duration": 80,
    "start_time": "2023-04-06T11:11:32.113Z"
   },
   {
    "duration": 17,
    "start_time": "2023-04-06T11:11:32.195Z"
   },
   {
    "duration": 30,
    "start_time": "2023-04-06T11:11:32.214Z"
   },
   {
    "duration": 94,
    "start_time": "2023-04-06T11:11:32.246Z"
   },
   {
    "duration": 45,
    "start_time": "2023-04-06T11:11:32.341Z"
   },
   {
    "duration": 34,
    "start_time": "2023-04-06T11:11:32.388Z"
   },
   {
    "duration": 22,
    "start_time": "2023-04-06T11:11:32.423Z"
   },
   {
    "duration": 64,
    "start_time": "2023-04-06T11:11:32.446Z"
   },
   {
    "duration": 23,
    "start_time": "2023-04-06T11:11:32.513Z"
   },
   {
    "duration": 38,
    "start_time": "2023-04-06T11:11:32.537Z"
   },
   {
    "duration": 26,
    "start_time": "2023-04-06T11:11:32.578Z"
   },
   {
    "duration": 28,
    "start_time": "2023-04-06T11:11:32.606Z"
   },
   {
    "duration": 40,
    "start_time": "2023-04-06T11:11:32.636Z"
   },
   {
    "duration": 21,
    "start_time": "2023-04-06T11:11:32.678Z"
   },
   {
    "duration": 37,
    "start_time": "2023-04-06T11:11:32.701Z"
   },
   {
    "duration": 43,
    "start_time": "2023-04-06T11:11:32.739Z"
   },
   {
    "duration": 18,
    "start_time": "2023-04-06T11:11:32.784Z"
   },
   {
    "duration": 12,
    "start_time": "2023-04-06T11:11:32.804Z"
   },
   {
    "duration": 26,
    "start_time": "2023-04-06T11:11:32.818Z"
   },
   {
    "duration": 33,
    "start_time": "2023-04-06T11:11:32.846Z"
   },
   {
    "duration": 28,
    "start_time": "2023-04-06T11:11:32.881Z"
   },
   {
    "duration": 10,
    "start_time": "2023-04-06T11:11:32.911Z"
   },
   {
    "duration": 17,
    "start_time": "2023-04-06T11:11:32.923Z"
   },
   {
    "duration": 48,
    "start_time": "2023-04-06T11:11:32.942Z"
   },
   {
    "duration": 15,
    "start_time": "2023-04-06T11:11:32.992Z"
   },
   {
    "duration": 11,
    "start_time": "2023-04-06T11:11:33.009Z"
   },
   {
    "duration": 392,
    "start_time": "2023-04-06T11:11:33.025Z"
   },
   {
    "duration": 10,
    "start_time": "2023-04-06T11:11:33.419Z"
   },
   {
    "duration": 366,
    "start_time": "2023-04-06T11:11:33.430Z"
   },
   {
    "duration": 3,
    "start_time": "2023-04-06T11:11:33.797Z"
   },
   {
    "duration": 92,
    "start_time": "2023-04-06T11:11:33.801Z"
   },
   {
    "duration": 930,
    "start_time": "2023-04-06T11:11:33.895Z"
   },
   {
    "duration": 52,
    "start_time": "2023-04-06T11:11:34.827Z"
   },
   {
    "duration": 300,
    "start_time": "2023-04-06T11:11:34.881Z"
   },
   {
    "duration": 316,
    "start_time": "2023-04-06T11:11:35.182Z"
   },
   {
    "duration": 307,
    "start_time": "2023-04-06T11:11:35.500Z"
   },
   {
    "duration": 188,
    "start_time": "2023-04-06T11:11:35.809Z"
   },
   {
    "duration": 6,
    "start_time": "2023-04-06T11:11:35.999Z"
   },
   {
    "duration": 193,
    "start_time": "2023-04-06T11:11:36.006Z"
   },
   {
    "duration": 4,
    "start_time": "2023-04-06T11:11:36.201Z"
   },
   {
    "duration": 272,
    "start_time": "2023-04-06T11:11:36.206Z"
   },
   {
    "duration": 7,
    "start_time": "2023-04-06T11:11:36.484Z"
   },
   {
    "duration": 200,
    "start_time": "2023-04-06T11:11:36.493Z"
   },
   {
    "duration": 6,
    "start_time": "2023-04-06T11:11:36.696Z"
   },
   {
    "duration": 194,
    "start_time": "2023-04-06T11:11:36.704Z"
   },
   {
    "duration": 6,
    "start_time": "2023-04-06T11:11:36.901Z"
   },
   {
    "duration": 235,
    "start_time": "2023-04-06T11:11:36.909Z"
   },
   {
    "duration": 28,
    "start_time": "2023-04-06T11:11:37.146Z"
   },
   {
    "duration": 39,
    "start_time": "2023-04-06T11:11:37.184Z"
   },
   {
    "duration": 130,
    "start_time": "2023-04-06T11:11:37.225Z"
   },
   {
    "duration": 0,
    "start_time": "2023-04-06T11:11:37.356Z"
   },
   {
    "duration": 0,
    "start_time": "2023-04-06T11:11:37.363Z"
   },
   {
    "duration": 0,
    "start_time": "2023-04-06T11:11:37.364Z"
   },
   {
    "duration": 0,
    "start_time": "2023-04-06T11:11:37.365Z"
   },
   {
    "duration": 0,
    "start_time": "2023-04-06T11:11:37.366Z"
   },
   {
    "duration": 0,
    "start_time": "2023-04-06T11:11:37.366Z"
   },
   {
    "duration": 0,
    "start_time": "2023-04-06T11:11:37.367Z"
   },
   {
    "duration": 0,
    "start_time": "2023-04-06T11:11:37.368Z"
   },
   {
    "duration": 333,
    "start_time": "2023-04-06T11:11:47.587Z"
   },
   {
    "duration": 40,
    "start_time": "2023-04-06T11:11:59.890Z"
   },
   {
    "duration": 28,
    "start_time": "2023-04-06T11:12:02.615Z"
   },
   {
    "duration": 315,
    "start_time": "2023-04-06T11:12:05.019Z"
   },
   {
    "duration": 389,
    "start_time": "2023-04-06T11:12:50.217Z"
   },
   {
    "duration": 1194,
    "start_time": "2023-04-06T11:12:55.816Z"
   },
   {
    "duration": 79,
    "start_time": "2023-04-06T11:12:57.012Z"
   },
   {
    "duration": 19,
    "start_time": "2023-04-06T11:12:57.092Z"
   },
   {
    "duration": 18,
    "start_time": "2023-04-06T11:12:57.113Z"
   },
   {
    "duration": 61,
    "start_time": "2023-04-06T11:12:57.133Z"
   },
   {
    "duration": 11,
    "start_time": "2023-04-06T11:12:57.196Z"
   },
   {
    "duration": 31,
    "start_time": "2023-04-06T11:12:57.208Z"
   },
   {
    "duration": 39,
    "start_time": "2023-04-06T11:12:57.240Z"
   },
   {
    "duration": 22,
    "start_time": "2023-04-06T11:12:57.281Z"
   },
   {
    "duration": 13,
    "start_time": "2023-04-06T11:12:57.305Z"
   },
   {
    "duration": 11,
    "start_time": "2023-04-06T11:12:57.319Z"
   },
   {
    "duration": 15,
    "start_time": "2023-04-06T11:12:57.332Z"
   },
   {
    "duration": 28,
    "start_time": "2023-04-06T11:12:57.357Z"
   },
   {
    "duration": 6,
    "start_time": "2023-04-06T11:12:57.388Z"
   },
   {
    "duration": 11,
    "start_time": "2023-04-06T11:12:57.396Z"
   },
   {
    "duration": 13,
    "start_time": "2023-04-06T11:12:57.408Z"
   },
   {
    "duration": 11,
    "start_time": "2023-04-06T11:12:57.422Z"
   },
   {
    "duration": 12,
    "start_time": "2023-04-06T11:12:57.434Z"
   },
   {
    "duration": 35,
    "start_time": "2023-04-06T11:12:57.447Z"
   },
   {
    "duration": 24,
    "start_time": "2023-04-06T11:12:57.484Z"
   },
   {
    "duration": 8,
    "start_time": "2023-04-06T11:12:57.510Z"
   },
   {
    "duration": 16,
    "start_time": "2023-04-06T11:12:57.519Z"
   },
   {
    "duration": 4,
    "start_time": "2023-04-06T11:12:57.536Z"
   },
   {
    "duration": 37,
    "start_time": "2023-04-06T11:12:57.542Z"
   },
   {
    "duration": 24,
    "start_time": "2023-04-06T11:12:57.582Z"
   },
   {
    "duration": 15,
    "start_time": "2023-04-06T11:12:57.607Z"
   },
   {
    "duration": 15,
    "start_time": "2023-04-06T11:12:57.624Z"
   },
   {
    "duration": 369,
    "start_time": "2023-04-06T11:12:57.643Z"
   },
   {
    "duration": 10,
    "start_time": "2023-04-06T11:12:58.014Z"
   },
   {
    "duration": 317,
    "start_time": "2023-04-06T11:12:58.025Z"
   },
   {
    "duration": 7,
    "start_time": "2023-04-06T11:12:58.348Z"
   },
   {
    "duration": 124,
    "start_time": "2023-04-06T11:12:58.356Z"
   },
   {
    "duration": 813,
    "start_time": "2023-04-06T11:12:58.482Z"
   },
   {
    "duration": 24,
    "start_time": "2023-04-06T11:12:59.297Z"
   },
   {
    "duration": 280,
    "start_time": "2023-04-06T11:12:59.322Z"
   },
   {
    "duration": 343,
    "start_time": "2023-04-06T11:12:59.604Z"
   },
   {
    "duration": 327,
    "start_time": "2023-04-06T11:12:59.949Z"
   },
   {
    "duration": 170,
    "start_time": "2023-04-06T11:13:00.278Z"
   },
   {
    "duration": 20,
    "start_time": "2023-04-06T11:13:00.456Z"
   },
   {
    "duration": 196,
    "start_time": "2023-04-06T11:13:00.479Z"
   },
   {
    "duration": 9,
    "start_time": "2023-04-06T11:13:00.676Z"
   },
   {
    "duration": 219,
    "start_time": "2023-04-06T11:13:00.687Z"
   },
   {
    "duration": 5,
    "start_time": "2023-04-06T11:13:00.907Z"
   },
   {
    "duration": 208,
    "start_time": "2023-04-06T11:13:00.914Z"
   },
   {
    "duration": 5,
    "start_time": "2023-04-06T11:13:01.124Z"
   },
   {
    "duration": 214,
    "start_time": "2023-04-06T11:13:01.131Z"
   },
   {
    "duration": 9,
    "start_time": "2023-04-06T11:13:01.359Z"
   },
   {
    "duration": 227,
    "start_time": "2023-04-06T11:13:01.371Z"
   },
   {
    "duration": 5,
    "start_time": "2023-04-06T11:13:01.600Z"
   },
   {
    "duration": 74,
    "start_time": "2023-04-06T11:13:01.606Z"
   },
   {
    "duration": 350,
    "start_time": "2023-04-06T11:13:01.682Z"
   },
   {
    "duration": 52,
    "start_time": "2023-04-06T11:13:02.034Z"
   },
   {
    "duration": 45,
    "start_time": "2023-04-06T11:13:02.088Z"
   },
   {
    "duration": 162,
    "start_time": "2023-04-06T11:13:02.135Z"
   },
   {
    "duration": 176,
    "start_time": "2023-04-06T11:13:02.299Z"
   },
   {
    "duration": 248,
    "start_time": "2023-04-06T11:13:02.478Z"
   },
   {
    "duration": 163,
    "start_time": "2023-04-06T11:13:02.727Z"
   },
   {
    "duration": 15,
    "start_time": "2023-04-06T11:13:02.891Z"
   },
   {
    "duration": 29,
    "start_time": "2023-04-06T11:13:02.908Z"
   },
   {
    "duration": 96,
    "start_time": "2023-04-06T11:14:26.918Z"
   },
   {
    "duration": 23,
    "start_time": "2023-04-06T11:15:01.948Z"
   },
   {
    "duration": 153,
    "start_time": "2023-04-06T11:38:04.232Z"
   },
   {
    "duration": 309,
    "start_time": "2023-04-06T11:40:25.412Z"
   },
   {
    "duration": 145,
    "start_time": "2023-04-06T11:40:57.989Z"
   },
   {
    "duration": 125,
    "start_time": "2023-04-06T11:45:17.036Z"
   },
   {
    "duration": 11,
    "start_time": "2023-04-06T11:45:27.211Z"
   },
   {
    "duration": 148,
    "start_time": "2023-04-06T11:45:39.065Z"
   },
   {
    "duration": 155,
    "start_time": "2023-04-06T11:45:57.807Z"
   },
   {
    "duration": 182,
    "start_time": "2023-04-06T11:46:31.452Z"
   },
   {
    "duration": 1269,
    "start_time": "2023-04-07T06:35:34.963Z"
   },
   {
    "duration": 77,
    "start_time": "2023-04-07T06:35:36.236Z"
   },
   {
    "duration": 21,
    "start_time": "2023-04-07T06:35:36.318Z"
   },
   {
    "duration": 16,
    "start_time": "2023-04-07T06:35:36.341Z"
   },
   {
    "duration": 19,
    "start_time": "2023-04-07T06:35:36.358Z"
   },
   {
    "duration": 28,
    "start_time": "2023-04-07T06:35:36.378Z"
   },
   {
    "duration": 64,
    "start_time": "2023-04-07T06:35:36.407Z"
   },
   {
    "duration": 29,
    "start_time": "2023-04-07T06:35:36.473Z"
   },
   {
    "duration": 44,
    "start_time": "2023-04-07T06:35:36.504Z"
   },
   {
    "duration": 9,
    "start_time": "2023-04-07T06:35:36.550Z"
   },
   {
    "duration": 11,
    "start_time": "2023-04-07T06:35:36.560Z"
   },
   {
    "duration": 60,
    "start_time": "2023-04-07T06:35:36.573Z"
   },
   {
    "duration": 9,
    "start_time": "2023-04-07T06:35:36.635Z"
   },
   {
    "duration": 6,
    "start_time": "2023-04-07T06:35:36.645Z"
   },
   {
    "duration": 10,
    "start_time": "2023-04-07T06:35:36.652Z"
   },
   {
    "duration": 32,
    "start_time": "2023-04-07T06:35:36.663Z"
   },
   {
    "duration": 12,
    "start_time": "2023-04-07T06:35:36.703Z"
   },
   {
    "duration": 32,
    "start_time": "2023-04-07T06:35:36.716Z"
   },
   {
    "duration": 8,
    "start_time": "2023-04-07T06:35:36.750Z"
   },
   {
    "duration": 24,
    "start_time": "2023-04-07T06:35:36.760Z"
   },
   {
    "duration": 11,
    "start_time": "2023-04-07T06:35:36.791Z"
   },
   {
    "duration": 46,
    "start_time": "2023-04-07T06:35:36.804Z"
   },
   {
    "duration": 4,
    "start_time": "2023-04-07T06:35:36.852Z"
   },
   {
    "duration": 15,
    "start_time": "2023-04-07T06:35:36.857Z"
   },
   {
    "duration": 19,
    "start_time": "2023-04-07T06:35:36.874Z"
   },
   {
    "duration": 56,
    "start_time": "2023-04-07T06:35:36.895Z"
   },
   {
    "duration": 11,
    "start_time": "2023-04-07T06:35:36.952Z"
   },
   {
    "duration": 408,
    "start_time": "2023-04-07T06:35:36.967Z"
   },
   {
    "duration": 25,
    "start_time": "2023-04-07T06:35:37.377Z"
   },
   {
    "duration": 388,
    "start_time": "2023-04-07T06:35:37.407Z"
   },
   {
    "duration": 5,
    "start_time": "2023-04-07T06:35:37.797Z"
   },
   {
    "duration": 118,
    "start_time": "2023-04-07T06:35:37.803Z"
   },
   {
    "duration": 998,
    "start_time": "2023-04-07T06:35:37.923Z"
   },
   {
    "duration": 26,
    "start_time": "2023-04-07T06:35:38.923Z"
   },
   {
    "duration": 357,
    "start_time": "2023-04-07T06:35:38.951Z"
   },
   {
    "duration": 313,
    "start_time": "2023-04-07T06:35:39.309Z"
   },
   {
    "duration": 340,
    "start_time": "2023-04-07T06:35:39.623Z"
   },
   {
    "duration": 199,
    "start_time": "2023-04-07T06:35:39.964Z"
   },
   {
    "duration": 4,
    "start_time": "2023-04-07T06:35:40.165Z"
   },
   {
    "duration": 233,
    "start_time": "2023-04-07T06:35:40.171Z"
   },
   {
    "duration": 8,
    "start_time": "2023-04-07T06:35:40.409Z"
   },
   {
    "duration": 234,
    "start_time": "2023-04-07T06:35:40.418Z"
   },
   {
    "duration": 7,
    "start_time": "2023-04-07T06:35:40.654Z"
   },
   {
    "duration": 203,
    "start_time": "2023-04-07T06:35:40.665Z"
   },
   {
    "duration": 5,
    "start_time": "2023-04-07T06:35:40.869Z"
   },
   {
    "duration": 232,
    "start_time": "2023-04-07T06:35:40.883Z"
   },
   {
    "duration": 9,
    "start_time": "2023-04-07T06:35:41.126Z"
   },
   {
    "duration": 224,
    "start_time": "2023-04-07T06:35:41.137Z"
   },
   {
    "duration": 5,
    "start_time": "2023-04-07T06:35:41.363Z"
   },
   {
    "duration": 71,
    "start_time": "2023-04-07T06:35:41.385Z"
   },
   {
    "duration": 384,
    "start_time": "2023-04-07T06:35:41.459Z"
   },
   {
    "duration": 53,
    "start_time": "2023-04-07T06:35:41.846Z"
   },
   {
    "duration": 44,
    "start_time": "2023-04-07T06:35:41.903Z"
   },
   {
    "duration": 209,
    "start_time": "2023-04-07T06:35:41.949Z"
   },
   {
    "duration": 177,
    "start_time": "2023-04-07T06:35:42.160Z"
   },
   {
    "duration": 279,
    "start_time": "2023-04-07T06:35:42.339Z"
   },
   {
    "duration": 161,
    "start_time": "2023-04-07T06:35:42.624Z"
   },
   {
    "duration": 23,
    "start_time": "2023-04-07T06:35:42.787Z"
   },
   {
    "duration": 39,
    "start_time": "2023-04-07T06:35:42.812Z"
   }
  ],
  "kernelspec": {
   "display_name": "Python 3 (ipykernel)",
   "language": "python",
   "name": "python3"
  },
  "language_info": {
   "codemirror_mode": {
    "name": "ipython",
    "version": 3
   },
   "file_extension": ".py",
   "mimetype": "text/x-python",
   "name": "python",
   "nbconvert_exporter": "python",
   "pygments_lexer": "ipython3",
   "version": "3.9.13"
  },
  "toc": {
   "base_numbering": 1,
   "nav_menu": {},
   "number_sections": true,
   "sideBar": true,
   "skip_h1_title": true,
   "title_cell": "Table of Contents",
   "title_sidebar": "Contents",
   "toc_cell": false,
   "toc_position": {
    "height": "calc(100% - 180px)",
    "left": "10px",
    "top": "150px",
    "width": "278.837px"
   },
   "toc_section_display": true,
   "toc_window_display": false
  }
 },
 "nbformat": 4,
 "nbformat_minor": 2
}
