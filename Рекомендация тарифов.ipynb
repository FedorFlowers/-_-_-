{
 "cells": [
  {
   "cell_type": "markdown",
   "metadata": {},
   "source": [
    "# Рекомендация тарифов"
   ]
  },
  {
   "cell_type": "markdown",
   "metadata": {},
   "source": [
    "В вашем распоряжении данные о поведении клиентов, которые уже перешли на эти тарифы (из проекта курса «Статистический анализ данных»). Нужно построить модель для задачи классификации, которая выберет подходящий тариф. Предобработка данных не понадобится — вы её уже сделали.\n",
    "\n",
    "Постройте модель с максимально большим значением *accuracy*. Чтобы сдать проект успешно, нужно довести долю правильных ответов по крайней мере до 0.75. Проверьте *accuracy* на тестовой выборке самостоятельно."
   ]
  },
  {
   "cell_type": "markdown",
   "metadata": {},
   "source": [
    "# Описание данных\n",
    "Каждый объект в наборе данных — это информация о поведении одного пользователя за месяц. Известно:\n",
    "- сalls — количество звонков,\n",
    "- minutes — суммарная длительность звонков в минутах,\n",
    "- messages — количество sms-сообщений,\n",
    "- mb_used — израсходованный интернет-трафик в Мб,\n",
    "- is_ultra — каким тарифом пользовался в течение месяца («Ультра» — 1, «Смарт» — 0)."
   ]
  },
  {
   "cell_type": "markdown",
   "metadata": {},
   "source": [
    "## Откройте и изучите файл"
   ]
  },
  {
   "cell_type": "markdown",
   "metadata": {},
   "source": [
    "Импортируем нужные библиотеки для работы "
   ]
  },
  {
   "cell_type": "code",
   "execution_count": 1,
   "metadata": {},
   "outputs": [],
   "source": [
    "import pandas as pd \n",
    "from sklearn.model_selection import train_test_split\n",
    "from sklearn.tree import DecisionTreeClassifier\n",
    "from sklearn.ensemble import RandomForestClassifier\n",
    "from sklearn.linear_model import LogisticRegression\n",
    "from sklearn.metrics import accuracy_score\n",
    "from tqdm import tqdm"
   ]
  },
  {
   "cell_type": "code",
   "execution_count": 2,
   "metadata": {},
   "outputs": [
    {
     "data": {
      "text/html": [
       "<div>\n",
       "<style scoped>\n",
       "    .dataframe tbody tr th:only-of-type {\n",
       "        vertical-align: middle;\n",
       "    }\n",
       "\n",
       "    .dataframe tbody tr th {\n",
       "        vertical-align: top;\n",
       "    }\n",
       "\n",
       "    .dataframe thead th {\n",
       "        text-align: right;\n",
       "    }\n",
       "</style>\n",
       "<table border=\"1\" class=\"dataframe\">\n",
       "  <thead>\n",
       "    <tr style=\"text-align: right;\">\n",
       "      <th></th>\n",
       "      <th>calls</th>\n",
       "      <th>minutes</th>\n",
       "      <th>messages</th>\n",
       "      <th>mb_used</th>\n",
       "      <th>is_ultra</th>\n",
       "    </tr>\n",
       "  </thead>\n",
       "  <tbody>\n",
       "    <tr>\n",
       "      <th>0</th>\n",
       "      <td>40.0</td>\n",
       "      <td>311.90</td>\n",
       "      <td>83.0</td>\n",
       "      <td>19915.42</td>\n",
       "      <td>0</td>\n",
       "    </tr>\n",
       "    <tr>\n",
       "      <th>1</th>\n",
       "      <td>85.0</td>\n",
       "      <td>516.75</td>\n",
       "      <td>56.0</td>\n",
       "      <td>22696.96</td>\n",
       "      <td>0</td>\n",
       "    </tr>\n",
       "    <tr>\n",
       "      <th>2</th>\n",
       "      <td>77.0</td>\n",
       "      <td>467.66</td>\n",
       "      <td>86.0</td>\n",
       "      <td>21060.45</td>\n",
       "      <td>0</td>\n",
       "    </tr>\n",
       "    <tr>\n",
       "      <th>3</th>\n",
       "      <td>106.0</td>\n",
       "      <td>745.53</td>\n",
       "      <td>81.0</td>\n",
       "      <td>8437.39</td>\n",
       "      <td>1</td>\n",
       "    </tr>\n",
       "    <tr>\n",
       "      <th>4</th>\n",
       "      <td>66.0</td>\n",
       "      <td>418.74</td>\n",
       "      <td>1.0</td>\n",
       "      <td>14502.75</td>\n",
       "      <td>0</td>\n",
       "    </tr>\n",
       "    <tr>\n",
       "      <th>...</th>\n",
       "      <td>...</td>\n",
       "      <td>...</td>\n",
       "      <td>...</td>\n",
       "      <td>...</td>\n",
       "      <td>...</td>\n",
       "    </tr>\n",
       "    <tr>\n",
       "      <th>3209</th>\n",
       "      <td>122.0</td>\n",
       "      <td>910.98</td>\n",
       "      <td>20.0</td>\n",
       "      <td>35124.90</td>\n",
       "      <td>1</td>\n",
       "    </tr>\n",
       "    <tr>\n",
       "      <th>3210</th>\n",
       "      <td>25.0</td>\n",
       "      <td>190.36</td>\n",
       "      <td>0.0</td>\n",
       "      <td>3275.61</td>\n",
       "      <td>0</td>\n",
       "    </tr>\n",
       "    <tr>\n",
       "      <th>3211</th>\n",
       "      <td>97.0</td>\n",
       "      <td>634.44</td>\n",
       "      <td>70.0</td>\n",
       "      <td>13974.06</td>\n",
       "      <td>0</td>\n",
       "    </tr>\n",
       "    <tr>\n",
       "      <th>3212</th>\n",
       "      <td>64.0</td>\n",
       "      <td>462.32</td>\n",
       "      <td>90.0</td>\n",
       "      <td>31239.78</td>\n",
       "      <td>0</td>\n",
       "    </tr>\n",
       "    <tr>\n",
       "      <th>3213</th>\n",
       "      <td>80.0</td>\n",
       "      <td>566.09</td>\n",
       "      <td>6.0</td>\n",
       "      <td>29480.52</td>\n",
       "      <td>1</td>\n",
       "    </tr>\n",
       "  </tbody>\n",
       "</table>\n",
       "<p>3214 rows × 5 columns</p>\n",
       "</div>"
      ],
      "text/plain": [
       "      calls  minutes  messages   mb_used  is_ultra\n",
       "0      40.0   311.90      83.0  19915.42         0\n",
       "1      85.0   516.75      56.0  22696.96         0\n",
       "2      77.0   467.66      86.0  21060.45         0\n",
       "3     106.0   745.53      81.0   8437.39         1\n",
       "4      66.0   418.74       1.0  14502.75         0\n",
       "...     ...      ...       ...       ...       ...\n",
       "3209  122.0   910.98      20.0  35124.90         1\n",
       "3210   25.0   190.36       0.0   3275.61         0\n",
       "3211   97.0   634.44      70.0  13974.06         0\n",
       "3212   64.0   462.32      90.0  31239.78         0\n",
       "3213   80.0   566.09       6.0  29480.52         1\n",
       "\n",
       "[3214 rows x 5 columns]"
      ]
     },
     "metadata": {},
     "output_type": "display_data"
    }
   ],
   "source": [
    "df = pd.read_csv('/datasets/users_behavior.csv')\n",
    "display(df)"
   ]
  },
  {
   "cell_type": "code",
   "execution_count": 3,
   "metadata": {
    "scrolled": true
   },
   "outputs": [
    {
     "name": "stdout",
     "output_type": "stream",
     "text": [
      "<class 'pandas.core.frame.DataFrame'>\n",
      "RangeIndex: 3214 entries, 0 to 3213\n",
      "Data columns (total 5 columns):\n",
      " #   Column    Non-Null Count  Dtype  \n",
      "---  ------    --------------  -----  \n",
      " 0   calls     3214 non-null   float64\n",
      " 1   minutes   3214 non-null   float64\n",
      " 2   messages  3214 non-null   float64\n",
      " 3   mb_used   3214 non-null   float64\n",
      " 4   is_ultra  3214 non-null   int64  \n",
      "dtypes: float64(4), int64(1)\n",
      "memory usage: 125.7 KB\n"
     ]
    }
   ],
   "source": [
    "df.info()"
   ]
  },
  {
   "cell_type": "markdown",
   "metadata": {},
   "source": [
    "Можно изменить в столбце 'messages' тип данных на int, так как кол-во сообщений не дробные."
   ]
  },
  {
   "cell_type": "code",
   "execution_count": 4,
   "metadata": {},
   "outputs": [
    {
     "name": "stdout",
     "output_type": "stream",
     "text": [
      "<class 'pandas.core.frame.DataFrame'>\n",
      "RangeIndex: 3214 entries, 0 to 3213\n",
      "Data columns (total 5 columns):\n",
      " #   Column    Non-Null Count  Dtype  \n",
      "---  ------    --------------  -----  \n",
      " 0   calls     3214 non-null   float64\n",
      " 1   minutes   3214 non-null   float64\n",
      " 2   messages  3214 non-null   int64  \n",
      " 3   mb_used   3214 non-null   float64\n",
      " 4   is_ultra  3214 non-null   int64  \n",
      "dtypes: float64(3), int64(2)\n",
      "memory usage: 125.7 KB\n"
     ]
    }
   ],
   "source": [
    "df['messages'] = df['messages'].astype(int)\n",
    "df.info()"
   ]
  },
  {
   "cell_type": "markdown",
   "metadata": {},
   "source": [
    "**Вывод:**\n",
    "- В файле 3214 строк и 5 столбов\n",
    "- Изменили тип данных столбца 'messages' с 'float' на 'int' "
   ]
  },
  {
   "cell_type": "markdown",
   "metadata": {},
   "source": [
    "## Разбейте данные на выборки"
   ]
  },
  {
   "cell_type": "markdown",
   "metadata": {},
   "source": [
    "Разбиваем данные на признаки и целевые признаки"
   ]
  },
  {
   "cell_type": "code",
   "execution_count": 5,
   "metadata": {},
   "outputs": [],
   "source": [
    "features = df.drop('is_ultra', axis=1)\n",
    "target = df['is_ultra']"
   ]
  },
  {
   "cell_type": "markdown",
   "metadata": {},
   "source": [
    "Разбиваем данные на 3 выборки: тренировочную, тестовую и валидационнную"
   ]
  },
  {
   "cell_type": "code",
   "execution_count": 6,
   "metadata": {},
   "outputs": [],
   "source": [
    "features_train, tes_val_features, target_train, tes_val_target = train_test_split(features, \n",
    "                                                                              target, \n",
    "                                                                              test_size = 0.4, \n",
    "                                                                              random_state = 123) \n",
    "\n",
    "features_test, features_valid, target_test, target_valid = train_test_split(tes_val_features,\n",
    "                                                                            tes_val_target,\n",
    "                                                                            test_size = 0.5,\n",
    "                                                                            random_state = 123)                                                        "
   ]
  },
  {
   "cell_type": "code",
   "execution_count": 7,
   "metadata": {},
   "outputs": [
    {
     "name": "stdout",
     "output_type": "stream",
     "text": [
      "Тренировочная выборка: (1928, 4)\n",
      "Валидационная выборка: (643, 4)\n",
      "Тестовая выборка: (643, 4)\n"
     ]
    }
   ],
   "source": [
    "print('Тренировочная выборка:', features_train.shape)\n",
    "print('Валидационная выборка:', features_valid.shape)\n",
    "print('Тестовая выборка:', features_test.shape)"
   ]
  },
  {
   "cell_type": "markdown",
   "metadata": {},
   "source": [
    "**Вывод:**\n",
    "- Разбили датасет на признаки и целевые признаки для моделирования \n",
    "- Разделили исходный набор данных на тренировочную, валидационную и тестовую выборки в соотношении 60%-20%-20%."
   ]
  },
  {
   "cell_type": "markdown",
   "metadata": {},
   "source": [
    "## Исследуйте модели"
   ]
  },
  {
   "cell_type": "markdown",
   "metadata": {},
   "source": [
    "Для исследования выберем такие модели как:\n",
    "- Дерево решений\n",
    "- Случайный лес\n",
    "- Логистическая регрессия   "
   ]
  },
  {
   "cell_type": "markdown",
   "metadata": {},
   "source": [
    "Дерево решений"
   ]
  },
  {
   "cell_type": "markdown",
   "metadata": {},
   "source": [
    "Проверим для дерева решений несколько гиперпараметров: 'max_depth', 'min_samples_split' и 'min_samples_leaf' c помощью с функции GridSearchCV"
   ]
  },
  {
   "cell_type": "code",
   "execution_count": 9,
   "metadata": {},
   "outputs": [
    {
     "name": "stdout",
     "output_type": "stream",
     "text": [
      "Best accuracy: 0.7909723437184576\n",
      "Best parameters: {'max_depth': 9, 'min_samples_leaf': 1, 'min_samples_split': 9}\n"
     ]
    }
   ],
   "source": [
    "from sklearn.model_selection import GridSearchCV\n",
    "\n",
    "param_grid = {\n",
    "    'max_depth' : range(1,10),\n",
    "    'min_samples_split' : range(2,12),\n",
    "    'min_samples_leaf' : range(1,6)\n",
    "}\n",
    "\n",
    "grid_search = GridSearchCV(estimator = DecisionTreeClassifier(random_state = 123), \n",
    "                           param_grid = param_grid, \n",
    "                           scoring = 'accuracy', \n",
    "                           cv = 5)\n",
    "\n",
    "grid_search.fit(features_train, target_train)\n",
    "print('Best accuracy:', grid_search.best_score_)\n",
    "print('Best parameters:', grid_search.best_params_)"
   ]
  },
  {
   "cell_type": "markdown",
   "metadata": {},
   "source": [
    "Проверим лучшие гиперпараметры на валидационной выборке"
   ]
  },
  {
   "cell_type": "code",
   "execution_count": 10,
   "metadata": {
    "scrolled": true
   },
   "outputs": [
    {
     "name": "stdout",
     "output_type": "stream",
     "text": [
      "Accuracy наилучшей модели на валидационной выборке: 0.7791601866251944\n"
     ]
    }
   ],
   "source": [
    "best_model = grid_search.best_estimator_\n",
    "best_model.fit(features_train, target_train)\n",
    "predictions_valid = best_model.predict(features_valid)\n",
    "accuracy = accuracy_score(target_valid, predictions_valid)\n",
    "print('Accuracy наилучшей модели на валидационной выборке:', accuracy)"
   ]
  },
  {
   "cell_type": "markdown",
   "metadata": {},
   "source": [
    "Проверил также через циклы и получил другие гиперпараметры и результат"
   ]
  },
  {
   "cell_type": "code",
   "execution_count": null,
   "metadata": {},
   "outputs": [],
   "source": [
    "best_model = None\n",
    "best_accuracy = 0\n",
    "\n",
    "for max_depth in tqdm (range(1, 10)):\n",
    "    for min_samples_split in range(2, 12):\n",
    "        for min_samples_leaf in range(1, 6):\n",
    "            model = DecisionTreeClassifier(random_state=123,\n",
    "                                           max_depth=max_depth,\n",
    "                                           min_samples_split=min_samples_split,\n",
    "                                           min_samples_leaf=min_samples_leaf)\n",
    "            model.fit(features_train, target_train)\n",
    "            predictions = model.predict(features_valid)\n",
    "            accuracy = accuracy_score(target_valid, predictions)\n",
    "            if accuracy > best_accuracy:\n",
    "                best_accuracy = accuracy\n",
    "                best_model = model\n",
    "                best_params = {'max_depth': max_depth,\n",
    "                               'min_samples_split': min_samples_split,\n",
    "                               'min_samples_leaf': min_samples_leaf}\n",
    "\n",
    "print(\"Accuracy наилучшей модели на валидационной выборке:\", best_accuracy) \n",
    "print(\"Лучшие параметры:\", best_params)"
   ]
  },
  {
   "cell_type": "markdown",
   "metadata": {},
   "source": [
    "Случайный лес"
   ]
  },
  {
   "cell_type": "code",
   "execution_count": null,
   "metadata": {
    "scrolled": true
   },
   "outputs": [],
   "source": [
    "from tqdm import tqdm\n",
    "best_model = None\n",
    "best_result = 0\n",
    "\n",
    "for est in tqdm(range (10, 100, 10)):\n",
    "    for depth in range (1, 10):\n",
    "        for min_samples_split in range(2, 12):\n",
    "            for min_samples_leaf in range(1, 6):\n",
    "                model = RandomForestClassifier(random_state = 123, \n",
    "                                               n_estimators = est, \n",
    "                                               max_depth = depth, \n",
    "                                               min_samples_split = min_samples_split,\n",
    "                                               min_samples_leaf = min_samples_leaf)\n",
    "                model.fit(features_train, target_train)\n",
    "                predictions_valid = model.predict(features_valid)\n",
    "                result = accuracy_score(target_valid, predictions_valid) \n",
    "                if result > best_result:\n",
    "                    best_model = model\n",
    "                    best_result = result\n",
    "                    best_depth = depth\n",
    "                    best_est = est\n",
    "                    best_min_samples_split = min_samples_split\n",
    "                    best_min_samples_leaf = min_samples_leaf\n",
    "        \n",
    "print(\"Accuracy наилучшей модели на валидационной выборке:\", best_result) \n",
    "print(\"Число деревьев (est) наилучшей модели на валидационной выборке:\", best_est)\n",
    "print(\"Глубина дерева наилучшей модели на валидационной выборке:\", best_depth) \n",
    "print(\"Число узлов наилучшей модели на валидационной выборке:\", best_min_samples_split) \n",
    "print(\"Число листьев наилучшей модели на валидационной выборке:\", best_min_samples_leaf) "
   ]
  },
  {
   "cell_type": "markdown",
   "metadata": {},
   "source": [
    "Логистическая регрессия "
   ]
  },
  {
   "cell_type": "code",
   "execution_count": null,
   "metadata": {
    "scrolled": true
   },
   "outputs": [],
   "source": [
    "param_grid = {\n",
    "    'C': [0.001, 0.01, 0.1, 1, 10, 100],\n",
    "    'penalty': ['l1', 'l2']\n",
    "}\n",
    "\n",
    "model = LogisticRegression(random_state=123, solver='lbfgs', max_iter=100)\n",
    "grid_search = GridSearchCV(model, param_grid, cv=5, scoring='accuracy')\n",
    "grid_search.fit(features_train, target_train)\n",
    "\n",
    "print('Best accuracy:', grid_search.best_score_)\n",
    "print('Best parameters:', grid_search.best_params_) "
   ]
  },
  {
   "cell_type": "markdown",
   "metadata": {},
   "source": [
    "С помощью функции GridSearchCV и переборов параметров 'C' и 'penalty' выявили лучшую модель Логистической регрессии:\n",
    "- Best accuracy: 0.7443106116681246\n",
    "- Best parameters: {'C': 100, 'penalty': 'l2'}"
   ]
  },
  {
   "cell_type": "markdown",
   "metadata": {},
   "source": [
    "**Вывод:**\n",
    "- Обучили модель древа решений и проверили ее на валидационной выборке с целью выявить наилучшие параметры.\n",
    "- Обучили модель случайного леса и проверили ее на валидационной выборке с целью выявить наилучшие параметры.\n",
    "- Обучили модель логистической регрессии и проверили ее на валидационной выборке."
   ]
  },
  {
   "cell_type": "markdown",
   "metadata": {},
   "source": [
    "## Проверьте модель на тестовой выборке"
   ]
  },
  {
   "cell_type": "markdown",
   "metadata": {},
   "source": [
    "Дерево решений"
   ]
  },
  {
   "cell_type": "code",
   "execution_count": null,
   "metadata": {},
   "outputs": [],
   "source": [
    "model = DecisionTreeClassifier(random_state = 123, \n",
    "                               max_depth = 3,\n",
    "                               min_samples_split = 2, \n",
    "                               min_samples_leaf = 1)\n",
    "model.fit(features_train, target_train)\n",
    "accuracy = model.score(features_test, target_test)\n",
    "print('Точность тестовой модели дерева решений:', accuracy)"
   ]
  },
  {
   "cell_type": "markdown",
   "metadata": {},
   "source": [
    "Случайный лес"
   ]
  },
  {
   "cell_type": "code",
   "execution_count": null,
   "metadata": {},
   "outputs": [],
   "source": [
    "model = RandomForestClassifier(random_state = 123,\n",
    "                               n_estimators = 10, \n",
    "                               max_depth = 6,\n",
    "                               min_samples_split = 2, \n",
    "                               min_samples_leaf = 1)\n",
    "model.fit(features_train, target_train)\n",
    "accuracy_best_model = model.score(features_test, target_test)\n",
    "print('Точность тестовой модели случайного леса:', accuracy)"
   ]
  },
  {
   "cell_type": "markdown",
   "metadata": {},
   "source": [
    "Логистическая регрессия"
   ]
  },
  {
   "cell_type": "code",
   "execution_count": null,
   "metadata": {},
   "outputs": [],
   "source": [
    "model = LogisticRegression(random_state = 123, solver='lbfgs', max_iter=100)\n",
    "model.fit(features_train, target_train)\n",
    "result = model.score(features_valid, target_valid)\n",
    "print('Accuracy на валидационной выборке:', result)   "
   ]
  },
  {
   "cell_type": "markdown",
   "metadata": {},
   "source": [
    "**Вывод:**\n",
    "- Проверили модель дерева решений с наилучшими параметрами на тестовой выборке\n",
    "- Проверили модель случайного леса с наилучшими параметрами на тестовой выборке\n",
    "- Проверили модель логистической регрессии на тестовой выборке\n",
    "- Наилучшая модель с самым высоким показателем accuracy - **Случайный лес** (accuracy = 0.80248833592535) с геперпараметрами: n_estimators = 10, max_depth = 6, Число узлов наилучшей модели на валидационной выборке: 2, min_samples_split: 2, min_samples_leaf: 1."
   ]
  },
  {
   "cell_type": "markdown",
   "metadata": {},
   "source": [
    "## (бонус) Проверьте модели на адекватность"
   ]
  },
  {
   "cell_type": "code",
   "execution_count": null,
   "metadata": {},
   "outputs": [],
   "source": [
    "from sklearn.dummy import DummyClassifier\n",
    "dummy_model = DummyClassifier(strategy='stratified', random_state=123)\n",
    "dummy_model.fit(features_train, target_train)\n",
    "dummy_model_accuracy = dummy_model.score(features_valid, target_valid)\n",
    "\n",
    "print('Accuracy простейшей модели:', dummy_model_accuracy)\n",
    "print('Accuracy наилучшей модели на валидационной выборке:', accuracy_best_model)"
   ]
  },
  {
   "cell_type": "markdown",
   "metadata": {},
   "source": [
    "Для проверки на адекватность используем метод из библиотеки sklearn - DummyClassidier, используем параметр - stratified, который предсказывает классы с вероятностями, пропорциональными частоте встречаемости классов в обучающей выборке. \n",
    "\n",
    "**Вывод:**\n",
    "Наша модель на порядок точнее простейшей модели, а это значит, что наша модель прошла тест на адекватность."
   ]
  },
  {
   "cell_type": "markdown",
   "metadata": {},
   "source": [
    "## Чек-лист готовности проекта"
   ]
  },
  {
   "cell_type": "markdown",
   "metadata": {},
   "source": [
    "Поставьте 'x' в выполненных пунктах. Далее нажмите Shift+Enter."
   ]
  },
  {
   "cell_type": "markdown",
   "metadata": {},
   "source": [
    "# Вывод\n",
    "**Знакомство с данными:**\n",
    "- В файле 3214 строк и 5 столбов\n",
    "- Изменили тип данных столбца 'messages' с 'float' на 'int' \n",
    "\n",
    "**Подготовка данных для моделирования:**\n",
    "- Разбили датасет на признаки и целевые признаки для моделирования \n",
    "- Разделили исходный набор данных на тренировочную, валидационную и тестовую выборки в соотношении 60%-20%-20%.\n",
    "\n",
    "**Исследование моделей:**\n",
    "- Обучили модель древа решений и проверили ее на валидационной выборке с целью выявить наилучшие параметры.\n",
    "- Обучили модель случайного леса и проверили ее на валидационной выборке с целью выявить наилучшие параметры.\n",
    "- Обучили модель логистической регрессии и проверили ее на валидационной выборке.\n",
    "\n",
    "**Тестирование моделей:**\n",
    "- Проверили модель дерева решений с наилучшими параметрами на тестовой выборке\n",
    "- Проверили модель случайного леса с наилучшими параметрами на тестовой выборке\n",
    "- Проверили модель логистической регрессии на тестовой выборке\n",
    "- Наилучшая модель с самым высоким показателем accuracy - **Случайный лес** (accuracy = 0.80248833592535) с геперпараметрами: n_estimators = 10, max_depth = 6, Число узлов наилучшей модели на валидационной выборке: 2, min_samples_split: 2, min_samples_leaf: 1."
   ]
  }
 ],
 "metadata": {
  "ExecuteTimeLog": [
   {
    "duration": 1266,
    "start_time": "2023-04-19T08:20:35.237Z"
   },
   {
    "duration": 116,
    "start_time": "2023-04-19T08:22:33.430Z"
   },
   {
    "duration": 110,
    "start_time": "2023-04-19T08:25:51.466Z"
   },
   {
    "duration": 67,
    "start_time": "2023-04-19T08:26:48.798Z"
   },
   {
    "duration": 51,
    "start_time": "2023-04-19T08:27:29.228Z"
   },
   {
    "duration": 43,
    "start_time": "2023-04-19T08:27:43.486Z"
   },
   {
    "duration": 11,
    "start_time": "2023-04-19T08:27:46.123Z"
   },
   {
    "duration": 5,
    "start_time": "2023-04-19T08:37:02.797Z"
   },
   {
    "duration": 11,
    "start_time": "2023-04-19T08:37:12.673Z"
   },
   {
    "duration": 10,
    "start_time": "2023-04-19T10:05:59.862Z"
   },
   {
    "duration": 6,
    "start_time": "2023-04-19T10:08:35.065Z"
   },
   {
    "duration": 14,
    "start_time": "2023-04-19T10:27:43.628Z"
   },
   {
    "duration": 16,
    "start_time": "2023-04-19T10:27:53.279Z"
   },
   {
    "duration": 15,
    "start_time": "2023-04-19T10:28:02.898Z"
   },
   {
    "duration": 17,
    "start_time": "2023-04-19T10:29:48.825Z"
   },
   {
    "duration": 16,
    "start_time": "2023-04-19T10:29:58.413Z"
   },
   {
    "duration": 18,
    "start_time": "2023-04-19T10:33:07.353Z"
   },
   {
    "duration": 31,
    "start_time": "2023-04-19T10:33:24.192Z"
   },
   {
    "duration": 7,
    "start_time": "2023-04-19T10:34:33.254Z"
   },
   {
    "duration": 7,
    "start_time": "2023-04-19T10:35:25.936Z"
   },
   {
    "duration": 4,
    "start_time": "2023-04-19T10:35:27.424Z"
   },
   {
    "duration": 8,
    "start_time": "2023-04-19T10:35:28.922Z"
   },
   {
    "duration": 66,
    "start_time": "2023-04-19T11:19:09.400Z"
   },
   {
    "duration": 6,
    "start_time": "2023-04-19T11:19:17.048Z"
   },
   {
    "duration": 12,
    "start_time": "2023-04-19T11:20:59.222Z"
   },
   {
    "duration": 5,
    "start_time": "2023-04-19T11:21:25.866Z"
   },
   {
    "duration": 11,
    "start_time": "2023-04-19T11:21:41.832Z"
   },
   {
    "duration": 5,
    "start_time": "2023-04-19T11:21:50.584Z"
   },
   {
    "duration": 4,
    "start_time": "2023-04-19T11:23:06.037Z"
   },
   {
    "duration": 8,
    "start_time": "2023-04-19T11:37:35.329Z"
   },
   {
    "duration": 4,
    "start_time": "2023-04-19T11:37:48.429Z"
   },
   {
    "duration": 56,
    "start_time": "2023-04-19T11:50:43.940Z"
   },
   {
    "duration": 12,
    "start_time": "2023-04-19T11:50:50.682Z"
   },
   {
    "duration": 16,
    "start_time": "2023-04-19T11:51:01.735Z"
   },
   {
    "duration": 4,
    "start_time": "2023-04-19T11:51:16.234Z"
   },
   {
    "duration": 16,
    "start_time": "2023-04-19T11:51:22.756Z"
   },
   {
    "duration": 73,
    "start_time": "2023-04-19T11:51:47.473Z"
   },
   {
    "duration": 40,
    "start_time": "2023-04-19T11:52:05.133Z"
   },
   {
    "duration": 74,
    "start_time": "2023-04-19T11:52:08.581Z"
   },
   {
    "duration": 50,
    "start_time": "2023-04-19T11:52:51.986Z"
   },
   {
    "duration": 69,
    "start_time": "2023-04-19T11:52:58.360Z"
   },
   {
    "duration": 47,
    "start_time": "2023-04-19T11:55:41.044Z"
   },
   {
    "duration": 54,
    "start_time": "2023-04-19T11:56:04.289Z"
   },
   {
    "duration": 20,
    "start_time": "2023-04-19T11:56:10.920Z"
   },
   {
    "duration": 69,
    "start_time": "2023-04-19T11:56:18.096Z"
   },
   {
    "duration": 85,
    "start_time": "2023-04-19T11:56:34.515Z"
   },
   {
    "duration": 90,
    "start_time": "2023-04-19T11:57:45.221Z"
   },
   {
    "duration": 231,
    "start_time": "2023-04-19T12:03:22.356Z"
   },
   {
    "duration": 220,
    "start_time": "2023-04-19T12:03:50.292Z"
   },
   {
    "duration": 56,
    "start_time": "2023-04-19T12:04:02.835Z"
   },
   {
    "duration": 76,
    "start_time": "2023-04-19T12:04:04.579Z"
   },
   {
    "duration": 80,
    "start_time": "2023-04-19T12:04:21.609Z"
   },
   {
    "duration": 302,
    "start_time": "2023-04-19T12:04:41.334Z"
   },
   {
    "duration": 346,
    "start_time": "2023-04-19T12:06:28.353Z"
   },
   {
    "duration": 47,
    "start_time": "2023-04-19T16:27:56.075Z"
   },
   {
    "duration": 7,
    "start_time": "2023-04-19T16:28:00.486Z"
   },
   {
    "duration": 1167,
    "start_time": "2023-04-19T16:28:06.914Z"
   },
   {
    "duration": 181,
    "start_time": "2023-04-19T16:28:08.082Z"
   },
   {
    "duration": 16,
    "start_time": "2023-04-19T16:28:08.264Z"
   },
   {
    "duration": 13,
    "start_time": "2023-04-19T16:28:08.281Z"
   },
   {
    "duration": 7,
    "start_time": "2023-04-19T16:28:08.296Z"
   },
   {
    "duration": 9,
    "start_time": "2023-04-19T16:28:08.304Z"
   },
   {
    "duration": 5,
    "start_time": "2023-04-19T16:28:08.315Z"
   },
   {
    "duration": 85,
    "start_time": "2023-04-19T16:28:08.322Z"
   },
   {
    "duration": 241,
    "start_time": "2023-04-19T16:28:08.409Z"
   },
   {
    "duration": 252,
    "start_time": "2023-04-19T16:28:44.775Z"
   },
   {
    "duration": 104,
    "start_time": "2023-04-19T16:34:05.506Z"
   },
   {
    "duration": 93,
    "start_time": "2023-04-19T16:34:50.689Z"
   },
   {
    "duration": 105,
    "start_time": "2023-04-19T16:47:32.434Z"
   },
   {
    "duration": 3132,
    "start_time": "2023-04-19T16:47:52.558Z"
   },
   {
    "duration": 4057,
    "start_time": "2023-04-19T16:50:32.657Z"
   },
   {
    "duration": 9793,
    "start_time": "2023-04-19T16:52:56.358Z"
   },
   {
    "duration": 8984,
    "start_time": "2023-04-19T16:53:46.745Z"
   },
   {
    "duration": 61,
    "start_time": "2023-04-19T16:54:25.871Z"
   },
   {
    "duration": 6,
    "start_time": "2023-04-19T17:38:32.014Z"
   },
   {
    "duration": 156,
    "start_time": "2023-04-19T17:38:38.775Z"
   },
   {
    "duration": 41,
    "start_time": "2023-04-19T17:38:58.912Z"
   },
   {
    "duration": 20,
    "start_time": "2023-04-19T17:39:21.982Z"
   },
   {
    "duration": 19,
    "start_time": "2023-04-19T17:40:22.470Z"
   },
   {
    "duration": 14,
    "start_time": "2023-04-19T17:41:27.763Z"
   },
   {
    "duration": 11,
    "start_time": "2023-04-19T17:41:35.885Z"
   },
   {
    "duration": 27,
    "start_time": "2023-04-19T17:41:50.770Z"
   },
   {
    "duration": 35,
    "start_time": "2023-04-19T17:42:12.459Z"
   },
   {
    "duration": 56,
    "start_time": "2023-04-19T17:42:54.439Z"
   },
   {
    "duration": 48,
    "start_time": "2023-04-19T17:43:00.608Z"
   },
   {
    "duration": 37,
    "start_time": "2023-04-19T17:43:03.767Z"
   },
   {
    "duration": 49,
    "start_time": "2023-04-19T17:44:42.951Z"
   },
   {
    "duration": 42,
    "start_time": "2023-04-19T17:45:50.079Z"
   },
   {
    "duration": 41,
    "start_time": "2023-04-19T17:46:14.799Z"
   },
   {
    "duration": 36,
    "start_time": "2023-04-19T17:48:02.595Z"
   },
   {
    "duration": 36,
    "start_time": "2023-04-19T17:48:11.262Z"
   },
   {
    "duration": 44,
    "start_time": "2023-04-19T17:48:16.888Z"
   },
   {
    "duration": 11293,
    "start_time": "2023-04-19T17:48:31.569Z"
   },
   {
    "duration": 80,
    "start_time": "2023-04-19T17:48:45.730Z"
   },
   {
    "duration": 20,
    "start_time": "2023-04-19T17:49:59.925Z"
   },
   {
    "duration": 64,
    "start_time": "2023-04-19T17:50:16.787Z"
   },
   {
    "duration": 38,
    "start_time": "2023-04-19T17:56:06.767Z"
   },
   {
    "duration": 29,
    "start_time": "2023-04-19T18:01:09.081Z"
   },
   {
    "duration": 28,
    "start_time": "2023-04-19T18:01:10.278Z"
   },
   {
    "duration": 27,
    "start_time": "2023-04-19T18:02:02.780Z"
   },
   {
    "duration": 33,
    "start_time": "2023-04-19T18:02:04.466Z"
   },
   {
    "duration": 9,
    "start_time": "2023-04-19T18:23:12.706Z"
   },
   {
    "duration": 34,
    "start_time": "2023-04-19T18:24:16.188Z"
   },
   {
    "duration": 44,
    "start_time": "2023-04-19T18:24:33.813Z"
   },
   {
    "duration": 45,
    "start_time": "2023-04-19T18:24:47.222Z"
   },
   {
    "duration": 60,
    "start_time": "2023-04-19T18:27:00.825Z"
   },
   {
    "duration": 26,
    "start_time": "2023-04-19T18:34:54.569Z"
   },
   {
    "duration": 11,
    "start_time": "2023-04-19T18:47:31.887Z"
   },
   {
    "duration": 6,
    "start_time": "2023-04-19T18:47:58.806Z"
   },
   {
    "duration": 31,
    "start_time": "2023-04-19T18:48:28.390Z"
   },
   {
    "duration": 5,
    "start_time": "2023-04-19T18:48:37.209Z"
   },
   {
    "duration": 7,
    "start_time": "2023-04-19T18:52:45.402Z"
   },
   {
    "duration": 6,
    "start_time": "2023-04-19T18:52:57.214Z"
   },
   {
    "duration": 6,
    "start_time": "2023-04-19T18:53:26.902Z"
   },
   {
    "duration": 16,
    "start_time": "2023-04-19T19:03:01.670Z"
   },
   {
    "duration": 13,
    "start_time": "2023-04-19T19:04:21.292Z"
   },
   {
    "duration": 55,
    "start_time": "2023-04-20T07:27:40.966Z"
   },
   {
    "duration": 959,
    "start_time": "2023-04-20T07:27:47.082Z"
   },
   {
    "duration": 1074,
    "start_time": "2023-04-20T07:28:01.877Z"
   },
   {
    "duration": 93,
    "start_time": "2023-04-20T07:28:02.952Z"
   },
   {
    "duration": 11,
    "start_time": "2023-04-20T07:28:03.049Z"
   },
   {
    "duration": 10,
    "start_time": "2023-04-20T07:28:03.062Z"
   },
   {
    "duration": 4,
    "start_time": "2023-04-20T07:28:03.073Z"
   },
   {
    "duration": 7,
    "start_time": "2023-04-20T07:28:03.079Z"
   },
   {
    "duration": 13,
    "start_time": "2023-04-20T07:28:03.088Z"
   },
   {
    "duration": 56,
    "start_time": "2023-04-20T07:28:03.102Z"
   },
   {
    "duration": 116,
    "start_time": "2023-04-20T07:28:03.159Z"
   },
   {
    "duration": 0,
    "start_time": "2023-04-20T07:28:03.277Z"
   },
   {
    "duration": 0,
    "start_time": "2023-04-20T07:28:03.278Z"
   },
   {
    "duration": 0,
    "start_time": "2023-04-20T07:28:03.279Z"
   },
   {
    "duration": 0,
    "start_time": "2023-04-20T07:28:03.280Z"
   },
   {
    "duration": 0,
    "start_time": "2023-04-20T07:28:03.281Z"
   },
   {
    "duration": 0,
    "start_time": "2023-04-20T07:28:03.282Z"
   },
   {
    "duration": 1045,
    "start_time": "2023-04-20T07:33:18.195Z"
   },
   {
    "duration": 46,
    "start_time": "2023-04-20T07:33:19.242Z"
   },
   {
    "duration": 10,
    "start_time": "2023-04-20T07:33:19.290Z"
   },
   {
    "duration": 14,
    "start_time": "2023-04-20T07:33:19.302Z"
   },
   {
    "duration": 4,
    "start_time": "2023-04-20T07:33:19.318Z"
   },
   {
    "duration": 7,
    "start_time": "2023-04-20T07:33:19.323Z"
   },
   {
    "duration": 9,
    "start_time": "2023-04-20T07:33:19.332Z"
   },
   {
    "duration": 64,
    "start_time": "2023-04-20T07:33:19.343Z"
   },
   {
    "duration": 13099,
    "start_time": "2023-04-20T07:33:19.409Z"
   },
   {
    "duration": 8621,
    "start_time": "2023-04-20T07:33:32.510Z"
   },
   {
    "duration": 29,
    "start_time": "2023-04-20T07:33:41.132Z"
   },
   {
    "duration": 8,
    "start_time": "2023-04-20T07:33:41.163Z"
   },
   {
    "duration": 49,
    "start_time": "2023-04-20T07:33:41.172Z"
   },
   {
    "duration": 30,
    "start_time": "2023-04-20T07:33:41.224Z"
   },
   {
    "duration": 5,
    "start_time": "2023-04-20T07:33:41.256Z"
   },
   {
    "duration": 121,
    "start_time": "2023-04-20T08:37:52.945Z"
   },
   {
    "duration": 18,
    "start_time": "2023-04-20T08:40:04.520Z"
   },
   {
    "duration": 13,
    "start_time": "2023-04-20T08:40:10.080Z"
   },
   {
    "duration": 20,
    "start_time": "2023-04-20T08:40:54.691Z"
   },
   {
    "duration": 13,
    "start_time": "2023-04-20T08:41:22.592Z"
   },
   {
    "duration": 14,
    "start_time": "2023-04-20T08:45:27.678Z"
   },
   {
    "duration": 20,
    "start_time": "2023-04-20T08:45:40.304Z"
   },
   {
    "duration": 15,
    "start_time": "2023-04-20T08:45:44.628Z"
   },
   {
    "duration": 1296,
    "start_time": "2023-04-20T08:46:43.333Z"
   },
   {
    "duration": 44,
    "start_time": "2023-04-20T08:46:44.631Z"
   },
   {
    "duration": 11,
    "start_time": "2023-04-20T08:46:44.677Z"
   },
   {
    "duration": 35,
    "start_time": "2023-04-20T08:46:44.690Z"
   },
   {
    "duration": 14,
    "start_time": "2023-04-20T08:46:44.727Z"
   },
   {
    "duration": 21,
    "start_time": "2023-04-20T08:46:44.743Z"
   },
   {
    "duration": 10,
    "start_time": "2023-04-20T08:46:44.766Z"
   },
   {
    "duration": 72,
    "start_time": "2023-04-20T08:46:44.777Z"
   },
   {
    "duration": 14207,
    "start_time": "2023-04-20T08:46:44.851Z"
   },
   {
    "duration": 121,
    "start_time": "2023-04-20T08:46:59.061Z"
   },
   {
    "duration": 0,
    "start_time": "2023-04-20T08:46:59.183Z"
   },
   {
    "duration": 0,
    "start_time": "2023-04-20T08:46:59.184Z"
   },
   {
    "duration": 0,
    "start_time": "2023-04-20T08:46:59.186Z"
   },
   {
    "duration": 0,
    "start_time": "2023-04-20T08:46:59.199Z"
   },
   {
    "duration": 0,
    "start_time": "2023-04-20T08:46:59.201Z"
   },
   {
    "duration": 0,
    "start_time": "2023-04-20T08:46:59.203Z"
   },
   {
    "duration": 17,
    "start_time": "2023-04-20T09:18:34.821Z"
   },
   {
    "duration": 11,
    "start_time": "2023-04-20T09:19:12.434Z"
   },
   {
    "duration": 14617,
    "start_time": "2023-04-20T09:26:27.730Z"
   },
   {
    "duration": 13,
    "start_time": "2023-04-20T09:36:38.143Z"
   },
   {
    "duration": 9,
    "start_time": "2023-04-20T09:37:08.642Z"
   },
   {
    "duration": 12,
    "start_time": "2023-04-20T09:37:12.656Z"
   },
   {
    "duration": 58,
    "start_time": "2023-04-20T09:39:41.568Z"
   },
   {
    "duration": 14639,
    "start_time": "2023-04-20T09:49:12.385Z"
   },
   {
    "duration": 2697,
    "start_time": "2023-04-20T09:51:49.891Z"
   },
   {
    "duration": 12,
    "start_time": "2023-04-20T09:59:24.835Z"
   },
   {
    "duration": 14913,
    "start_time": "2023-04-20T09:59:30.232Z"
   },
   {
    "duration": 2584,
    "start_time": "2023-04-20T09:59:45.802Z"
   },
   {
    "duration": 19181,
    "start_time": "2023-04-20T10:05:53.709Z"
   },
   {
    "duration": 11226,
    "start_time": "2023-04-20T10:06:37.042Z"
   },
   {
    "duration": 14362,
    "start_time": "2023-04-20T10:07:03.196Z"
   },
   {
    "duration": 14263,
    "start_time": "2023-04-20T10:09:14.522Z"
   },
   {
    "duration": 2475,
    "start_time": "2023-04-20T10:09:28.786Z"
   },
   {
    "duration": 17043,
    "start_time": "2023-04-20T10:32:25.990Z"
   },
   {
    "duration": 13,
    "start_time": "2023-04-20T10:37:20.118Z"
   },
   {
    "duration": 13,
    "start_time": "2023-04-20T10:40:31.307Z"
   },
   {
    "duration": 50,
    "start_time": "2023-04-20T10:43:06.435Z"
   },
   {
    "duration": 12,
    "start_time": "2023-04-20T10:44:52.240Z"
   },
   {
    "duration": 51,
    "start_time": "2023-04-20T11:17:47.011Z"
   },
   {
    "duration": 0,
    "start_time": "2023-04-20T11:20:24.254Z"
   },
   {
    "duration": 11699,
    "start_time": "2023-04-20T11:20:25.579Z"
   },
   {
    "duration": 1066,
    "start_time": "2023-04-20T11:21:25.837Z"
   },
   {
    "duration": 46,
    "start_time": "2023-04-20T11:21:26.905Z"
   },
   {
    "duration": 11,
    "start_time": "2023-04-20T11:21:26.952Z"
   },
   {
    "duration": 10,
    "start_time": "2023-04-20T11:21:26.965Z"
   },
   {
    "duration": 3,
    "start_time": "2023-04-20T11:21:26.977Z"
   },
   {
    "duration": 6,
    "start_time": "2023-04-20T11:21:26.982Z"
   },
   {
    "duration": 5,
    "start_time": "2023-04-20T11:21:26.994Z"
   },
   {
    "duration": 6,
    "start_time": "2023-04-20T11:21:27.001Z"
   },
   {
    "duration": 14528,
    "start_time": "2023-04-20T11:21:27.009Z"
   },
   {
    "duration": 12,
    "start_time": "2023-04-20T11:21:41.539Z"
   },
   {
    "duration": 2795,
    "start_time": "2023-04-20T11:21:41.553Z"
   },
   {
    "duration": 468866,
    "start_time": "2023-04-20T11:21:44.350Z"
   },
   {
    "duration": 29,
    "start_time": "2023-04-20T11:29:33.219Z"
   },
   {
    "duration": 10,
    "start_time": "2023-04-20T11:29:33.249Z"
   },
   {
    "duration": 66,
    "start_time": "2023-04-20T11:29:33.260Z"
   },
   {
    "duration": 32,
    "start_time": "2023-04-20T11:29:33.328Z"
   },
   {
    "duration": 6,
    "start_time": "2023-04-20T11:29:33.361Z"
   },
   {
    "duration": 61723,
    "start_time": "2023-04-20T12:00:50.350Z"
   },
   {
    "duration": 1339340,
    "start_time": "2023-04-20T12:02:11.429Z"
   },
   {
    "duration": 821599,
    "start_time": "2023-04-20T12:26:51.132Z"
   },
   {
    "duration": 3,
    "start_time": "2023-04-20T12:41:23.098Z"
   },
   {
    "duration": 8,
    "start_time": "2023-04-20T12:44:54.248Z"
   },
   {
    "duration": 11,
    "start_time": "2023-04-20T12:45:21.312Z"
   },
   {
    "duration": 30,
    "start_time": "2023-04-20T12:45:23.262Z"
   },
   {
    "duration": 31,
    "start_time": "2023-04-20T12:45:25.314Z"
   },
   {
    "duration": 10,
    "start_time": "2023-04-20T12:46:33.172Z"
   },
   {
    "duration": 11,
    "start_time": "2023-04-20T12:46:34.683Z"
   },
   {
    "duration": 34,
    "start_time": "2023-04-20T12:47:20.186Z"
   },
   {
    "duration": 35,
    "start_time": "2023-04-20T12:47:21.038Z"
   },
   {
    "duration": 847,
    "start_time": "2023-04-20T13:39:25.191Z"
   },
   {
    "duration": 6,
    "start_time": "2023-04-20T13:42:14.783Z"
   },
   {
    "duration": 11,
    "start_time": "2023-04-20T13:42:16.008Z"
   },
   {
    "duration": 45,
    "start_time": "2023-04-20T13:49:17.644Z"
   },
   {
    "duration": 455,
    "start_time": "2023-04-20T13:51:48.783Z"
   },
   {
    "duration": 190,
    "start_time": "2023-04-20T13:52:29.883Z"
   },
   {
    "duration": 1131,
    "start_time": "2023-04-20T13:57:10.740Z"
   },
   {
    "duration": 55,
    "start_time": "2023-04-20T13:57:11.873Z"
   },
   {
    "duration": 11,
    "start_time": "2023-04-20T13:57:11.929Z"
   },
   {
    "duration": 16,
    "start_time": "2023-04-20T13:57:11.942Z"
   },
   {
    "duration": 4,
    "start_time": "2023-04-20T13:57:11.959Z"
   },
   {
    "duration": 8,
    "start_time": "2023-04-20T13:57:11.965Z"
   },
   {
    "duration": 30,
    "start_time": "2023-04-20T13:57:11.974Z"
   },
   {
    "duration": 4,
    "start_time": "2023-04-20T13:57:12.006Z"
   },
   {
    "duration": 14821,
    "start_time": "2023-04-20T13:57:12.012Z"
   },
   {
    "duration": 14,
    "start_time": "2023-04-20T13:57:26.836Z"
   },
   {
    "duration": 424,
    "start_time": "2023-04-20T13:57:26.852Z"
   },
   {
    "duration": 0,
    "start_time": "2023-04-20T13:57:27.277Z"
   },
   {
    "duration": 0,
    "start_time": "2023-04-20T13:57:27.279Z"
   },
   {
    "duration": 0,
    "start_time": "2023-04-20T13:57:27.280Z"
   },
   {
    "duration": 0,
    "start_time": "2023-04-20T13:57:27.281Z"
   },
   {
    "duration": 0,
    "start_time": "2023-04-20T13:57:27.283Z"
   },
   {
    "duration": 0,
    "start_time": "2023-04-20T13:57:27.295Z"
   },
   {
    "duration": 0,
    "start_time": "2023-04-20T13:57:27.295Z"
   },
   {
    "duration": 0,
    "start_time": "2023-04-20T13:57:27.296Z"
   },
   {
    "duration": 0,
    "start_time": "2023-04-20T13:57:27.297Z"
   },
   {
    "duration": 129,
    "start_time": "2023-04-20T13:58:41.492Z"
   },
   {
    "duration": 118,
    "start_time": "2023-04-20T14:00:40.315Z"
   },
   {
    "duration": 115,
    "start_time": "2023-04-20T14:01:47.312Z"
   },
   {
    "duration": 169,
    "start_time": "2023-04-20T14:04:09.299Z"
   },
   {
    "duration": 59,
    "start_time": "2023-04-20T14:10:49.968Z"
   },
   {
    "duration": 105,
    "start_time": "2023-04-20T14:10:55.576Z"
   },
   {
    "duration": 124,
    "start_time": "2023-04-20T14:13:35.692Z"
   }
  ],
  "kernelspec": {
   "display_name": "Python 3 (ipykernel)",
   "language": "python",
   "name": "python3"
  },
  "language_info": {
   "codemirror_mode": {
    "name": "ipython",
    "version": 3
   },
   "file_extension": ".py",
   "mimetype": "text/x-python",
   "name": "python",
   "nbconvert_exporter": "python",
   "pygments_lexer": "ipython3",
   "version": "3.9.13"
  },
  "toc": {
   "base_numbering": 1,
   "nav_menu": {},
   "number_sections": true,
   "sideBar": true,
   "skip_h1_title": true,
   "title_cell": "Table of Contents",
   "title_sidebar": "Contents",
   "toc_cell": false,
   "toc_position": {},
   "toc_section_display": true,
   "toc_window_display": false
  }
 },
 "nbformat": 4,
 "nbformat_minor": 2
}
